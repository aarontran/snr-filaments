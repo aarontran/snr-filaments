{
 "metadata": {
  "name": "",
  "signature": "sha256:471503cb964c16c1bdd1bb1c42bcd75be5ebcc9375f74ac73ca9cbbb02f3628e"
 },
 "nbformat": 3,
 "nbformat_minor": 0,
 "worksheets": [
  {
   "cells": [
    {
     "cell_type": "heading",
     "level": 1,
     "metadata": {},
     "source": [
      "Profile fitting functions"
     ]
    },
    {
     "cell_type": "markdown",
     "metadata": {},
     "source": [
      "For use in scripts to, uh, fit thin synchrotron profiles!\n",
      "\n",
      "EXPORT this notebook to .py, for import, in 'File' - 'Download as' - 'Python (.py)'.  Therefore don't use iPython magics in any cells, or delete them when done."
     ]
    },
    {
     "cell_type": "code",
     "collapsed": false,
     "input": [
      "import numpy as np"
     ],
     "language": "python",
     "metadata": {},
     "outputs": [],
     "prompt_number": 1
    },
    {
     "cell_type": "heading",
     "level": 2,
     "metadata": {},
     "source": [
      "Ressler: two-exponential + Gaussian"
     ]
    },
    {
     "cell_type": "markdown",
     "metadata": {},
     "source": [
      "First, we need a profile function.  _Ressler et al._ [2014, _in press_] used a piecewise function to fit the upstream and downstream sides of the rim profiles:\n",
      "\n",
      "\\begin{align*}\n",
      "    h_{\\mathrm{up}}(x) &= A_u \\exp \\left(\\frac{x_0-x}{w_u}\\right) + C_u \\\\\n",
      "    h_{\\mathrm{down}}(x) &= A_d \\exp \\left(\\frac{x - x_0}{w_d}\\right)\n",
      "                          + B \\exp \\left( \\frac{-(x-x_1)^2}{2\\pi \\sigma^2} \\right)\n",
      "                          + C_d\n",
      "\\end{align*}\n",
      "\n",
      "Some outstanding questions -- how do you decide the location of up/down-stream?  Is this part of the fitting procedure?\n",
      "The peak intensity may be located at either $x_0$ or $x_1$ -- okay, seems physically reasonable given projection effects.  But how to decide where to split the fit."
     ]
    },
    {
     "cell_type": "code",
     "collapsed": false,
     "input": [
      "def ressler(x, x0, x1, Cu, Cd, wu, wd, sigma, Au, B):\n",
      "    \"\"\"Fit function used by Satoru for SN 1006 profiles, see Ressler et al. [ApJ, in press]\n",
      "    \n",
      "    Inputs (all floats):\n",
      "        x = radial position (arcsec.)\n",
      "        Au, x0, wu, Cu = parameters for upstream function (x0 also relevant to downstream func)\n",
      "        xs = location of upstream/downstream divide\n",
      "        Ad, wd, B, x1, sigma, Cd = parameters for downstream function\n",
      "    Output (float): value of function at radial position x\n",
      "    \"\"\"\n",
      "    Ad = Au + Cu - Cd - B * np.exp( -(x0-x1)**2 / (2*np.pi*sigma**2))\n",
      "    \n",
      "    def ressler_help(x, x0, x1, Cu, Cd, wu, wd, sigma, Au, B, Ad):\n",
      "        if x > x0:  # Upstream, ahead of shock\n",
      "            return Au * np.exp((x0-x)/wu) + Cu\n",
      "        else:\n",
      "            return Ad * np.exp((x-x0)/wd) + B * np.exp( -(x-x1)**2 / (2*np.pi*sigma**2)) + Cd\n",
      "    \n",
      "    ressler_vec = np.vectorize(ressler_help)\n",
      "    return ressler_vec(x, x0, x1, Cu, Cd, wu, wd, sigma, Au, B, Ad)"
     ],
     "language": "python",
     "metadata": {},
     "outputs": [],
     "prompt_number": 2
    },
    {
     "cell_type": "heading",
     "level": 2,
     "metadata": {},
     "source": [
      "Two exponential function with free split, $x_s$"
     ]
    },
    {
     "cell_type": "markdown",
     "metadata": {},
     "source": [
      "I first try a continuous piecewise two exponential function of form:\n",
      "\n",
      "\\begin{align*}\n",
      "    h_{\\mathrm{up}}(x) &= A_u \\exp \\left(\\frac{x_0-x}{w_u}\\right) + C_u \\\\\n",
      "    h_{\\mathrm{down}}(x) &= A_d \\exp \\left(\\frac{x - x_0}{w_d}\\right) + C_d\n",
      "\\end{align*}\n",
      "\n",
      "where the upstream/downstream split occurs at $x=x_s$ and $x_s$ is used as a fit parameter instead of $A_u$.  Once $x_s$ is determined, $A_u$ is constrained to be:\n",
      "\n",
      "\\begin{equation*}\n",
      "    A_u = \\exp\\left(\\frac{x_s - x_0}{w_u}\\right) \\left[ A_d \\exp\\left(\\frac{x_s - x_0}{w_d}\\right) + C_d - C_u \\right]\n",
      "\\end{equation*}\n",
      "\n",
      "Alternately we may constrain $A_d$ and use $A_u$ as a fit parameter:\n",
      "\n",
      "\\begin{equation*}\n",
      "    A_d = \\exp\\left(\\frac{x_0 - x_s}{w_d}\\right) \\left[ A_u \\exp\\left(\\frac{x_0 - x_s}{w_u}\\right) + C_u - C_d \\right]\n",
      "\\end{equation*}"
     ]
    },
    {
     "cell_type": "code",
     "collapsed": false,
     "input": [
      "def two_exp(x, xs, x0, Cu, Cd, wu, wd, Au):\n",
      "    \"\"\"Two exponential profile function, vectorized in x\n",
      "    downstream amplitude Ad set by the split xs + continuity requirement\n",
      "    \n",
      "    Inputs (all floats):\n",
      "        x = radial position (arcsec.)\n",
      "        xs = location of upstream/downstream divide (and, piecewise function split)\n",
      "        x0 = exponential split centering... sort of\n",
      "        Cu, Cd = upstream/downstream offsets, backgrounds\n",
      "        wu, wd = upstream/downstream e-folding lengthscales\n",
      "        Au = upstream amplitude.  With other parameters, determines downstream amplitude Ad by continuity\n",
      "    Output (float): value of function at radial position x\n",
      "    \"\"\"\n",
      "    # Au = np.exp((xs-x0)/wu) * ( Ad * np.exp((xs-x0)/wd) + Cd - Cu )\n",
      "    Ad = np.exp((x0-xs)/wd) * ( Au * np.exp((x0-xs)/wu) + Cu - Cd )\n",
      "    \n",
      "    def f_help(x, xs, x0, Cu, Cd, wu, wd, Au, Ad):\n",
      "        if x > xs:  # Upstream, ahead of shock\n",
      "            return Au * np.exp((x0-x)/wu) + Cu\n",
      "        else:\n",
      "            return Ad * np.exp((x-x0)/wd) + Cd\n",
      "    \n",
      "    f_vec = np.vectorize(f_help)\n",
      "    return f_vec(x, xs, x0, Cu, Cd, wu, wd, Au, Ad)"
     ],
     "language": "python",
     "metadata": {},
     "outputs": [],
     "prompt_number": 3
    },
    {
     "cell_type": "heading",
     "level": 2,
     "metadata": {},
     "source": [
      "Two exponential function, decoupled (split $x_0$ into $x_u$ and $x_d$)"
     ]
    },
    {
     "cell_type": "markdown",
     "metadata": {},
     "source": [
      "I could also let one more parameter run free in the two exponential function:\n",
      "\n",
      "\\begin{align*}\n",
      "    h_{\\mathrm{up}}(x) &= A_u \\exp \\left(\\frac{x_u-x}{w_u}\\right) + C_u \\\\\n",
      "    h_{\\mathrm{down}}(x) &= A_d \\exp \\left(\\frac{x - x_d}{w_d}\\right) + C_d\n",
      "\\end{align*}\n",
      "\n",
      "Again, $x=x_s$ is a fit parameter for the upstream/downstream split, which can be used in place of $A_u$ or $A_d$.\n",
      "Because the upstream side is generally easier to fit / the data is better, it's probably better to pin $A_d$ and let $A_u$ be a free fit parameter.\n",
      "\n",
      "\\begin{equation*}\n",
      "    A_u = \\exp\\left(\\frac{x_s - x_u}{w_u}\\right) \\left[ A_d \\exp\\left(\\frac{x_s - x_d}{w_d}\\right) + C_d - C_u \\right]\n",
      "\\end{equation*}\n",
      "\n",
      "\\begin{equation*}\n",
      "    A_d = \\exp\\left(\\frac{x_d - x_s}{w_d}\\right) \\left[ A_u \\exp\\left(\\frac{x_u - x_s}{w_u}\\right) + C_u - C_d \\right]\n",
      "\\end{equation*}"
     ]
    },
    {
     "cell_type": "code",
     "collapsed": false,
     "input": [
      "def two_exp_decoupled(x, xs, xu, xd, Cu, Cd, wu, wd, Au):\n",
      "    \"\"\"Two exponential profile function, with extra free parameter, vectorized in x\n",
      "    downstream amplitude Ad set by the split xs + continuity requirement\n",
      "    \n",
      "    Inputs (all floats):\n",
      "        x = radial position (arcsec.)\n",
      "        xs = location of upstream/downstream divide (and, piecewise function split)\n",
      "        xu, xd = upstream/downstream exponential locations\n",
      "        Cu, Cd = upstream/downstream offsets, backgrounds\n",
      "        wu, wd = upstream/downstream e-folding lengthscales\n",
      "        Au = upstream amplitude.  With other parameters, determines downstream amplitude Ad by continuity\n",
      "    Output (float): value of function at radial position x\n",
      "    \"\"\"\n",
      "    # Au = np.exp((xs-xu)/wu) * ( Ad * np.exp((xs-xd)/wd) + Cd - Cu )\n",
      "    Ad = np.exp((xd-xs)/wd) * ( Au * np.exp((xu-xs)/wu) + Cu - Cd )\n",
      "    \n",
      "    def f_help(x, xs, xu, xd, Cu, Cd, wu, wd, Au, Ad):\n",
      "        if x > xs:  # Upstream, ahead of shock\n",
      "            return Au * np.exp((xu-x)/wu) + Cu\n",
      "        else:\n",
      "            return Ad * np.exp((x-xd)/wd) + Cd\n",
      "    \n",
      "    f_vec = np.vectorize(f_help)\n",
      "    return f_vec(x, xs, xu, xd, Cu, Cd, wu, wd, Au, Ad)"
     ],
     "language": "python",
     "metadata": {},
     "outputs": [],
     "prompt_number": 4
    },
    {
     "cell_type": "heading",
     "level": 2,
     "metadata": {},
     "source": [
      "Two exponential function, simplified; split fixed at $x_0$"
     ]
    },
    {
     "cell_type": "markdown",
     "metadata": {},
     "source": [
      "Now instead of using a free split location $x_s$, try throwing that away and using $x_0$ as the split location (following what Satoru did?):\n",
      "\n",
      "\\begin{align*}\n",
      "    h_{\\mathrm{up}}(x) &= A_u \\exp \\left(\\frac{x_0-x}{w_u}\\right) + C_u \\\\\n",
      "    h_{\\mathrm{down}}(x) &= A_d \\exp \\left(\\frac{x - x_0}{w_d}\\right) + C_d\n",
      "\\end{align*}\n",
      "\n",
      "where the upstream/downstream split occurs at $x=x_0$.  Continuity then allows us constrain one of $\\{A_u, A_d, C_u, C_d\\}$.\n",
      "Consistent with above, let's constrain $A_d$ and let $A_u$ run free (try changing this up as well).\n",
      "\n",
      "\\begin{align*}\n",
      "    A_d &= A_u + (C_u - C_d) \\\\\n",
      "    A_u &= A_d + (C_d - C_u)\n",
      "\\end{align*}"
     ]
    },
    {
     "cell_type": "code",
     "collapsed": false,
     "input": [
      "def two_exp_simp(x, x0, Cu, Cd, wu, wd, Au):\n",
      "    \"\"\"Simplified two exponential profile function, vectorized in x\n",
      "    downstream amplitude Ad set by the split x0 + continuity requirement\n",
      "    \n",
      "    Inputs (all floats):\n",
      "        x = radial position (arcsec.)\n",
      "        x0 = exponential split centering, and location of piecewise function split\n",
      "        Cu, Cd = upstream/downstream offsets, backgrounds\n",
      "        wu, wd = upstream/downstream e-folding lengthscales\n",
      "        Au = upstream amplitude.  With other parameters, determines downstream amplitude Ad by continuity\n",
      "    Output (float): value of function at radial position x\n",
      "    \"\"\"\n",
      "    # Au = Ad + Cd - Cu\n",
      "    Ad = Au + Cu - Cd\n",
      "    \n",
      "    def f_help(x, x0, Cu, Cd, wu, wd, Au, Ad):\n",
      "        if x > x0:  # Upstream, ahead of shock\n",
      "            return Au * np.exp((x0-x)/wu) + Cu\n",
      "        else:\n",
      "            return Ad * np.exp((x-x0)/wd) + Cd\n",
      "    \n",
      "    f_vec = np.vectorize(f_help)\n",
      "    return f_vec(x, x0, Cu, Cd, wu, wd, Au, Ad)"
     ],
     "language": "python",
     "metadata": {},
     "outputs": [],
     "prompt_number": 5
    },
    {
     "cell_type": "heading",
     "level": 2,
     "metadata": {},
     "source": [
      "Gaussian and a ramp function (just a test...)"
     ]
    },
    {
     "cell_type": "markdown",
     "metadata": {},
     "source": [
      "Another simple model, defined as:\n",
      "\\begin{equation}\n",
      "    h(x) = A_0 \\exp\\left( \\frac{-(x-x_0)^2}{2 \\sigma^2} \\right) + \\mathrm{ramp}(x)\n",
      "\\end{equation}\n",
      "where $\\mathrm{ramp}(x)$ is defined as\n",
      "\\begin{equation}\n",
      "    \\mathrm{ramp}(x) =\n",
      "    \\begin{cases}\n",
      "        C_d &\\text{if }\\; x < x_0 - \\sigma \\\\\n",
      "        C_u + \\frac{C_u - C_d}{2\\sigma} (x - (x_0 + \\sigma)) &\\text{if }\\; x_0 - \\sigma \\leq x \\leq x_0 + \\sigma \\\\\n",
      "        C_u &\\text{if }\\; x_0 - \\sigma < x\n",
      "    \\end{cases}\n",
      "\\end{equation}\n",
      "\n",
      "Of course, the ramp breakpoints may be something other than $\\sigma$."
     ]
    },
    {
     "cell_type": "code",
     "collapsed": false,
     "input": [
      "def gaussramp(x, x0, Cu, Cd, sigma, a0):\n",
      "    \"\"\"Ramp + Gaussian function, ramp breakpoints at Gaussian 1-sigma (could free for better fit)\n",
      "    Vectorized in x\n",
      "    Inputs (all floats):\n",
      "        x = radial position (arcsec.)\n",
      "        x0 = center of Gaussian and ramp function (midway between breakpoints) (arcsec)\n",
      "        Cu, Cd = upstream, downstream offsets\n",
      "        sigma = Gaussian standard deviation\n",
      "        a0 = Gaussian amplitude\n",
      "    Output (float): value of function at radial position x\n",
      "    \"\"\"\n",
      "    \n",
      "    def ramp_help(x, x0, Cu, Cd, sigma):\n",
      "        if x > x0 + abs(sigma):\n",
      "            return Cu\n",
      "        elif x < x0 - abs(sigma):\n",
      "            return Cd\n",
      "        else:\n",
      "            return Cu + (x - x0 - abs(sigma)) * (Cu - Cd) / (2*abs(sigma))\n",
      "    \n",
      "    ramp = np.vectorize(ramp_help)\n",
      "    return a0 * np.exp( -(x-x0)**2 / (2*sigma**2) ) + ramp(x, x0, Cu, Cd, sigma)"
     ],
     "language": "python",
     "metadata": {},
     "outputs": [],
     "prompt_number": 6
    }
   ],
   "metadata": {}
  }
 ]
}