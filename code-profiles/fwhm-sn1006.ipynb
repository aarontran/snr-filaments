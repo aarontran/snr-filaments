{
 "metadata": {
  "name": "",
  "signature": "sha256:6694ee6804ac52adb09dd00a8a8a61b6528f29f2ccc0e2ebf11b8f6a7779e4a9"
 },
 "nbformat": 3,
 "nbformat_minor": 0,
 "worksheets": [
  {
   "cells": [
    {
     "cell_type": "heading",
     "level": 2,
     "metadata": {},
     "source": [
      "Compute $m_E$ values for SN1006 FWHMs"
     ]
    },
    {
     "cell_type": "code",
     "collapsed": false,
     "input": [
      "%pylab --no-import-all\n",
      "%matplotlib inline\n",
      "# ('gtk', 'inline', 'osx', 'qt', 'qt4', 'tk', 'wx')\n",
      "from fplot import fplot, show_mplrc_settings"
     ],
     "language": "python",
     "metadata": {},
     "outputs": [
      {
       "output_type": "stream",
       "stream": "stdout",
       "text": [
        "Using matplotlib backend: MacOSX\n",
        "Populating the interactive namespace from numpy and matplotlib\n"
       ]
      }
     ],
     "prompt_number": 1
    },
    {
     "cell_type": "markdown",
     "metadata": {},
     "source": [
      "Here I load hand-copied data from arXiv v2 of Sean's paper [arXiv:1406.3630v2](http://arxiv.org/abs/1406.3630v2).  First column is region, remaining columns are FWHMs corresponding to energy bands 0.7-1 keV, 1-2 keV, and 2-7 keV.\n",
      "\n",
      "Compared to the paper, I use a slightly different filament organization (following an email from Sean):\n",
      "* Filament 1: Regions 1-4\n",
      "* Filament 2: Regions 5, 8-11\n",
      "* Filament 3: Regions 12-16\n",
      "* Filament 4: Regions 17-22\n",
      "* Filament 5: Regions 6-7\n",
      "\n",
      "This should avoid doubly listed filaments, and matches the filaments in Figure 7 (the 2-7 keV image of SN 1006).  This assumes that the tabulated FWHMS correctly correspond to each region number, but may be out of order."
     ]
    },
    {
     "cell_type": "code",
     "collapsed": false,
     "input": [
      "a = np.loadtxt('../data-sn1006/fwhms.txt')\n",
      "fil_regs = {1:[1,2,3,4], 2:[5,8,9,10,11], 3:[12,13,14,15,16], 4:[17,18,19,20,21,22], 5:[6,7]}\n",
      "en = [0.7, 1, 2]  # lower limits of energy bands, in keV"
     ],
     "language": "python",
     "metadata": {},
     "outputs": [],
     "prompt_number": 2
    },
    {
     "cell_type": "markdown",
     "metadata": {},
     "source": [
      "Compute and print out:\n",
      "1. $m_E$ values for each individual region\n",
      "2. $m_E$ values for averaged FWHMs, in each filament ($m_E$ using arithmetic mean of FWHMs)\n",
      "3. $m_E$ averages in each filament ($m_E$ using geometric mean of FWHMs)\n",
      "\n",
      "See discussion in `rsch_notes.md`, from 2014 July 7, on use of geometric vs. arithmetic mean"
     ]
    },
    {
     "cell_type": "code",
     "collapsed": false,
     "input": [
      "a_dict = {x[0]:x[1:] for x in a}\n",
      "\n",
      "for fil in fil_regs.keys():\n",
      "    print '~*~*~*~*~*~*~*~'\n",
      "    print '* Filament {:02d} *'.format(fil)\n",
      "    print '~*~*~*~*~*~*~*~'\n",
      "    print ''\n",
      "    \n",
      "    me_1_vals = []\n",
      "    me_2_vals = []\n",
      "    \n",
      "    for reg in fil_regs[fil]:\n",
      "        fwhms = a_dict[reg]\n",
      "        me_1 = np.log(fwhms[1]/fwhms[0]) / np.log(en[1]/en[0])\n",
      "        me_2 = np.log(fwhms[2]/fwhms[1]) / np.log(en[2]/en[1])\n",
      "        print 'Region {:02d}\\tm_e(1 keV) = {: 0.2f}\\tm_E(2 keV) = {: 0.2f}'.format(reg, me_1, me_2)\n",
      "        me_1_vals.append(me_1)\n",
      "        me_2_vals.append(me_2)\n",
      "    print ''\n",
      "    \n",
      "    fil_fwhms = np.array([x[1:] for x in a if x[0] in fil_regs[fil]])\n",
      "    fil_fwhms = np.mean(fil_fwhms, axis=0)\n",
      "    me_1 = np.log(fil_fwhms[1]/fil_fwhms[0]) / np.log(en[1]/en[0])\n",
      "    me_2 = np.log(fil_fwhms[2]/fil_fwhms[1]) / np.log(en[2]/en[1])\n",
      "    print 'Mean FWHM\\tm_e(1 keV) = {: 0.2f}\\tm_E(2 keV) = {: 0.2f}'.format(me_1, me_2)\n",
      "    \n",
      "    print 'Mean m_E\\'s\\tm_e(1 keV) = {: 0.2f}\\tm_E(2 keV) = {: 0.2f}'.format(np.mean(me_1_vals), np.mean(me_2_vals))\n",
      "    \n",
      "    print ''"
     ],
     "language": "python",
     "metadata": {},
     "outputs": [
      {
       "output_type": "stream",
       "stream": "stdout",
       "text": [
        "~*~*~*~*~*~*~*~\n",
        "* Filament 01 *\n",
        "~*~*~*~*~*~*~*~\n",
        "\n",
        "Region 01\tm_e(1 keV) = -0.21\tm_E(2 keV) = -0.00\n",
        "Region 02\tm_e(1 keV) = -1.26\tm_E(2 keV) = -0.29\n",
        "Region 03\tm_e(1 keV) = -0.05\tm_E(2 keV) = -0.64\n",
        "Region 04\tm_e(1 keV) = -0.05\tm_E(2 keV) = -0.66\n",
        "\n",
        "Mean FWHM\tm_e(1 keV) = -0.16\tm_E(2 keV) = -0.44\n",
        "Mean m_E's\tm_e(1 keV) = -0.39\tm_E(2 keV) = -0.40\n",
        "\n",
        "~*~*~*~*~*~*~*~\n",
        "* Filament 02 *\n",
        "~*~*~*~*~*~*~*~\n",
        "\n",
        "Region 05\tm_e(1 keV) = -0.78\tm_E(2 keV) = -0.16\n",
        "Region 08\tm_e(1 keV) = -0.36\tm_E(2 keV) = -0.39\n",
        "Region 09\tm_e(1 keV) = -1.42\tm_E(2 keV) = -0.55\n",
        "Region 10\tm_e(1 keV) = -0.24\tm_E(2 keV) = -0.20\n",
        "Region 11\tm_e(1 keV) = -0.86\tm_E(2 keV) = -0.04\n",
        "\n",
        "Mean FWHM\tm_e(1 keV) = -0.67\tm_E(2 keV) = -0.26\n",
        "Mean m_E's\tm_e(1 keV) = -0.73\tm_E(2 keV) = -0.27\n",
        "\n",
        "~*~*~*~*~*~*~*~\n",
        "* Filament 03 *\n",
        "~*~*~*~*~*~*~*~\n",
        "\n",
        "Region 12\tm_e(1 keV) =  0.38\tm_E(2 keV) = -0.37\n",
        "Region 13\tm_e(1 keV) =  0.22\tm_E(2 keV) = -0.53\n",
        "Region 14\tm_e(1 keV) = -0.39\tm_E(2 keV) = -0.28\n",
        "Region 15\tm_e(1 keV) = -1.08\tm_E(2 keV) = -1.00\n",
        "Region 16\tm_e(1 keV) = -0.42\tm_E(2 keV) = -0.46\n",
        "\n",
        "Mean FWHM\tm_e(1 keV) = -0.39\tm_E(2 keV) = -0.54\n",
        "Mean m_E's\tm_e(1 keV) = -0.26\tm_E(2 keV) = -0.53\n",
        "\n",
        "~*~*~*~*~*~*~*~\n",
        "* Filament 04 *\n",
        "~*~*~*~*~*~*~*~\n",
        "\n",
        "Region 17\tm_e(1 keV) = -0.73\tm_E(2 keV) = -0.40\n",
        "Region 18\tm_e(1 keV) =  0.59\tm_E(2 keV) = -0.65\n",
        "Region 19\tm_e(1 keV) =  0.27\tm_E(2 keV) = -1.13\n",
        "Region 20\tm_e(1 keV) =  0.43\tm_E(2 keV) = -0.56\n",
        "Region 21\tm_e(1 keV) = -2.57\tm_E(2 keV) = -0.19\n",
        "Region 22\tm_e(1 keV) = -1.67\tm_E(2 keV) = -0.33\n",
        "\n",
        "Mean FWHM\tm_e(1 keV) = -0.54\tm_E(2 keV) = -0.53\n",
        "Mean m_E's\tm_e(1 keV) = -0.61\tm_E(2 keV) = -0.54\n",
        "\n",
        "~*~*~*~*~*~*~*~\n",
        "* Filament 05 *\n",
        "~*~*~*~*~*~*~*~\n",
        "\n",
        "Region 06\tm_e(1 keV) = -0.75\tm_E(2 keV) =  0.00\n",
        "Region 07\tm_e(1 keV) = -0.99\tm_E(2 keV) =  0.07\n",
        "\n",
        "Mean FWHM\tm_e(1 keV) = -0.80\tm_E(2 keV) =  0.02\n",
        "Mean m_E's\tm_e(1 keV) = -0.87\tm_E(2 keV) =  0.04\n",
        "\n"
       ]
      }
     ],
     "prompt_number": 3
    }
   ],
   "metadata": {}
  }
 ]
}