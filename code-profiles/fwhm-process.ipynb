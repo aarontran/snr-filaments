{
 "metadata": {
  "name": "",
  "signature": "sha256:950011290bd3ca21fc667ab0f6fa9d2cd91f20a43b15e3de2781476edaaaaa79"
 },
 "nbformat": 3,
 "nbformat_minor": 0,
 "worksheets": [
  {
   "cells": [
    {
     "cell_type": "heading",
     "level": 1,
     "metadata": {},
     "source": [
      "0. Process FWHMs from `profile_process.ipynb`"
     ]
    },
    {
     "cell_type": "markdown",
     "metadata": {},
     "source": [
      "Investigate energy dependence through\n",
      "* point-to-point measurements\n",
      "* global fits\n",
      "* fits to catastrophic dump equation of Ressler et al. [ApJ, in press], using Sean's code\n",
      "\n",
      "Designed to just take energies, FWHMs, and spit out numbers.\n",
      "\n",
      "Don't think too hard about it, remember modularity is your friend.  Modularity is your friend."
     ]
    },
    {
     "cell_type": "code",
     "collapsed": false,
     "input": [
      "%pylab --no-import-all\n",
      "%matplotlib inline\n",
      "# ('gtk', 'inline', 'osx', 'qt', 'qt4', 'tk', 'wx')\n",
      "from fplot import fplot, show_mplrc_settings\n",
      "\n",
      "import cPickle as pickle\n",
      "import lmfit\n",
      "import re\n",
      "\n",
      "# For reference\n",
      "show_mplrc_settings()"
     ],
     "language": "python",
     "metadata": {},
     "outputs": [
      {
       "output_type": "stream",
       "stream": "stdout",
       "text": [
        "Using matplotlib backend: MacOSX\n",
        "Populating the interactive namespace from numpy and matplotlib\n",
        "Using /Users/atran3/snr-research/code-profiles/matplotlibrc\n",
        "Font sizes for axes: 9; (x,y) ticks: (9, 9): legend 9\n",
        "Font family serif uses face ['Times']\n",
        "Figure size: (6.0, 4.0), dpi: 80\n"
       ]
      }
     ],
     "prompt_number": 3
    },
    {
     "cell_type": "code",
     "collapsed": false,
     "input": [
      "## THIS NEEDS TO MATCH INPUT TO PRECEEDING NOTEBOOK (update/patch this?!)\n",
      "\n",
      "## Idenfity regions with filaments -- change this depending on the regions being used\n",
      "flmt_regs = {'1':[1,10,11,12,13], '2':[2,3], '3':[4,5], '4':[6,7], '5':[8,9]}  # regions-good-4-ext.reg\n",
      "\n",
      "## Can also change label to 1-1.7kev vs. 1-2kev\n",
      "# labels = ['0.7-1kev', '1-1.7kev', '2-7kev']  ## 3 BAND\n",
      "# labels = ['0.7-1kev', '1-1.7kev', '2-4kev', '4-7kev']  ## 4 BAND\n",
      "labels = ['0.7-1kev', '1-1.7kev', '2-3kev', '3-4.5kev', '4.5-7kev']  ## 5 BAND\n",
      "\n",
      "## Can also supply manually, esp. if labels are not of form r'[0-9\\.]+\\-[0-9\\.]+kev'\n",
      "lowerE = {}  # Lower energy limits for each energy band\n",
      "highE = {}  # Higher energy limits for each energy band  (i.e., same as lower limits but shifted)\n",
      "for lab in labels:\n",
      "    lowerE[lab] = float(re.split(r'-', lab)[0])\n",
      "    highE[lab] = float(re.split(r'[-k]', lab)[1])\n",
      "\n",
      "# Input filename to pickle\n",
      "fname_in = 'test.pkl'"
     ],
     "language": "python",
     "metadata": {},
     "outputs": [],
     "prompt_number": 4
    },
    {
     "cell_type": "heading",
     "level": 1,
     "metadata": {},
     "source": [
      "1. Main method"
     ]
    },
    {
     "cell_type": "code",
     "collapsed": false,
     "input": [
      "with open(fname_in,'r') as fpkl:\n",
      "    regions = pickle.load(fpkl)\n",
      "\n",
      "print regions.keys()\n",
      "print regions[1].keys()\n",
      "print regions[1]['1-1.7kev'].keys()\n",
      "\n",
      "for flmt in flmt_regs:\n",
      "    for n in flmt_regs[flmt]:\n",
      "        reg = regions[n]\n",
      "        \n",
      "        ens = [lowerE[lab] for lab in labels]\n",
      "        fwhms = [reg[lab]['fwhm'] for lab in labels]\n",
      "        fwhm_errs = [np.mean(reg[lab]['fwhm-errs']) for lab in labels]\n",
      "        \n",
      "        # compute_m_e(ens, fwhms, fwhm_errs)\n",
      "        # compute_global_m_e(ens, fwhms, fwhm_errs)\n",
      "        # compute_sean_fit_b_eta(ens, fwhms, fwhm_errs)"
     ],
     "language": "python",
     "metadata": {},
     "outputs": [
      {
       "output_type": "stream",
       "stream": "stdout",
       "text": [
        "[1, 2, 3, 4, 5, 6, 7, 8, 9, 10, 11, 12, 13]\n",
        "['1-1.7kev', 'thickness', 'length', '3-4.5kev', '2-3kev', '0.7-1kev', '4.5-7kev']\n",
        "['fwhm_fitc-errs', 'fwhmc-lims', 'f', 'data', 'data-fit', 'fwhmc', 'fwhm_fitc-lims', 'pars', 'fwhm_fitc', 'fwhm-errs', 'fwhms-lims', 'fwhmc-errs', 'fwhm', 'fwhm-lims', 'fwhms']\n"
       ]
      }
     ],
     "prompt_number": 5
    },
    {
     "cell_type": "heading",
     "level": 1,
     "metadata": {},
     "source": [
      "2. Perform fits to equation (6) of Ressler paper"
     ]
    },
    {
     "cell_type": "markdown",
     "metadata": {},
     "source": [
      "Largely adapted from Sean Ressler's `Widthfun.py`, with some cosmetic changes"
     ]
    },
    {
     "cell_type": "code",
     "collapsed": false,
     "input": [
      "def width_dump(params, en):\n",
      "    \"\"\"FWHM prediction from catastrophic dump model (equation 6 of Ressler et al.)\n",
      "    Result of electron transport model used by Voelk et al. (1981), Parizot et al. (2006),\n",
      "    Berezkho and Voelk (2004).\n",
      "    \n",
      "    Inputs:\n",
      "        params: lmfit.Parameters object with entries B0, eta2, mu, vd, rs, rsarc (floats)\n",
      "            B0: magnetic field in Gauss (cgs)\n",
      "            eta2: dimensionless diffusion coefficient at 2 keV observation energy (-)\n",
      "            mu: diffusion coefficient scaling index (-)\n",
      "            vd: downstream plasma velocity (cm/s)\n",
      "            rs: shock radius (cm)\n",
      "            rsarc: shock radius (arcsec)\n",
      "        \n",
      "        en: observed radiation energy (keV)\n",
      "    \n",
      "    Output:\n",
      "        Expected FWHM in arcsec for observation energy\n",
      "    \"\"\"\n",
      "    B0 = params['B0'].value\n",
      "    eta2 = params['eta2'].value\n",
      "    mu = params['mu'].value\n",
      "    vd = params['vd'].value\n",
      "    rs = params['rs'].value\n",
      "    rsarc = params['rsarc'].value\n",
      "    \n",
      "    # WARNING: I (Aaron Tran) HAVE NOT VERIFIED ALL CONSTANTS\n",
      "    # See Ressler paper for values\n",
      "    b = 1.57e-3  # Synchrotron const (cgs) for cooling timescale\n",
      "    cm = 1.82e18  # Synchrotron const (cgs) for characteristic frequency\n",
      "    Cd = 2.083e19  # Bohm diffusion const (cgs); Cd = c/(3e)\n",
      "    nu2 = 4.8359e17  # Rest frequency of 2 keV photon\n",
      "    beta = 4.6  # Projection factor, convert scale length to FWHM\n",
      "    \n",
      "    eta = eta2*np.sqrt(nu2/(cm*B0))**(1-mu)  # Diffusion constant (scalar)\n",
      "    nu = en * nu2/2.  # Convert observed energy to observed frequency (Hz)\n",
      "    E = np.sqrt(nu/(cm*B0))  # Energy (vector) of electron radiating at freq. nu\n",
      "                             # in magnetic field B0  Note that E != h*nu = en\n",
      "    tsynch = 1.0/(b*E*B0**2)  # Synchrotron loss time (s) (vector)\n",
      "    \n",
      "    D = eta*Cd*E**mu/B0  # Diffusion coefficient, generalized (vector)\n",
      "    width = beta * 2*D/vd / (np.sqrt(1+(4*D/vd**2/tsynch)) - 1)  # Equation 6 from Ressler, width = beta*a\n",
      "    \n",
      "    return width*rsarc/rs  # Convert width to arcsec\n",
      "\n",
      "\n",
      "def width_dump_obj(params, en, data, eps_data):\n",
      "    \"\"\"Objective function to minimize (basically, (y_model(x) - y(x)) / errors)\n",
      "    See docstring for width_dump\n",
      "    \n",
      "    Inputs:\n",
      "        en: observed radiation energy (keV)\n",
      "        data: measured FWHM (arcsec)\n",
      "        eps_data: error on FWHM (arcsec)\n",
      "    Output:\n",
      "        value(s) to be minimized in least-squares sense (or otherwise) by lmfit.minimize\n",
      "    \"\"\"\n",
      "    return (width_dump(params, en) - data)/eps_data"
     ],
     "language": "python",
     "metadata": {},
     "outputs": [],
     "prompt_number": 6
    },
    {
     "cell_type": "code",
     "collapsed": false,
     "input": [
      "def run_width_fit(en, fwhm, fwhm_err, mu, vd, rs, rsarc):\n",
      "    \"\"\"Convenience wrapper for lmfit.minimize, to fit filament widths\n",
      "    For now, I do not fit \\mu.  That may be implemented later on.\n",
      "    \n",
      "    Input:\n",
      "        en: energy (keV)\n",
      "        fwhm: measured FWHMs (arcsec)\n",
      "        fwhm_err: errors on measured FWHMs (arcsec)\n",
      "        vd: downstream plasma velocity (cm/s)\n",
      "        rs: shock radius (cm)\n",
      "        rsarc: shock radius (arcsec)\n",
      "    Output:\n",
      "        stuff from lmfit\n",
      "    \"\"\"\n",
      "    p = lmfit.Parameters()\n",
      "    p.add('B0', value = 1e-4, min = 1e-6, max = 1e-3)\n",
      "    p.add('eta2', value = 1, min = 0, max = 1e4)\n",
      "    \n",
      "    p.add('mu', value=mu, vary=False)\n",
      "    p.add('vd', value=vd, vary=False)\n",
      "    p.add('rs', value=rs, vary=False)\n",
      "    p.add('rsarc', value=rsarc, vary=False)\n",
      "    \n",
      "    return lmfit.minimize(width_dump_obj, p, method='leastsq', args = (en, fwhm, fwhm_err)), p"
     ],
     "language": "python",
     "metadata": {},
     "outputs": [],
     "prompt_number": 7
    },
    {
     "cell_type": "heading",
     "level": 1,
     "metadata": {},
     "source": [
      "3. Validate fitting routine against SN 1006 data (ensure that I get same results)"
     ]
    },
    {
     "cell_type": "code",
     "collapsed": false,
     "input": [
      "ens = np.array([0.7, 1., 2.])\n",
      "# Filament 4\n",
      "data4 = numpy.array([29, 23.9, 16.6])\n",
      "eps_data4 = numpy.array([.9, .39, .45])\n",
      "# Filament 5\n",
      "data5 = numpy.array([33.75, 27.2, 24.75 ])\n",
      "eps_data5 = numpy.array([2.37,.62,.61])\n",
      "\n",
      "data, eps_data = data5, eps_data5\n",
      "\n",
      "res, p = run_width_fit(ens, data, eps_data, mu=1, vd=5e8/4.0, rs=2.96e19, rsarc=900.)  # SN 1006 parameters\n",
      "\n",
      "print res.chisqr\n",
      "print p\n",
      "\n",
      "# Plot\n",
      "plt.errorbar(ens, data, eps_data, fmt='bo')\n",
      "\n",
      "en_plt = np.linspace(0.6, 2.1, 100)\n",
      "plt.plot(en_plt, width_dump(p, en_plt), '-k')\n",
      "plt.xlabel('Observation energy (keV)')\n",
      "plt.ylabel('FWHM (arcsec)')\n",
      "plt.show()\n",
      "\n",
      "lmfit.printfuncs.report_fit(res.params)\n",
      "ci = lmfit.conf_interval(res)\n",
      "lmfit.printfuncs.report_ci(ci)"
     ],
     "language": "python",
     "metadata": {},
     "outputs": [
      {
       "output_type": "stream",
       "stream": "stdout",
       "text": [
        "3.35050630553\n",
        "Parameters([('B0', <Parameter 'B0', value=0.00015577515750315855 +/- 3.62e-05, bounds=[1e-06:0.001]>), ('eta2', <Parameter 'eta2', value=4.8121950151530646 +/- 5.18, bounds=[0:10000.0]>), ('mu', <Parameter 'mu', value=1 (fixed), bounds=[-inf:inf]>), ('vd', <Parameter 'vd', value=125000000.0 (fixed), bounds=[-inf:inf]>), ('rs', <Parameter 'rs', value=2.96e+19 (fixed), bounds=[-inf:inf]>), ('rsarc', <Parameter 'rsarc', value=900.0 (fixed), bounds=[-inf:inf]>)])\n"
       ]
      },
      {
       "metadata": {},
       "output_type": "display_data",
       "png": "[encoded data removed]",
       "text": [
        "<matplotlib.figure.Figure at 0x1151460d0>"
       ]
      },
      {
       "output_type": "stream",
       "stream": "stderr",
       "text": [
        "/usr/local/lib/python2.7/site-packages/lmfit/confidence.py:282: UserWarning: Warning, rel_change=-4.70709165247e-16 < 0.01  at iteration 25 and prob(B0=0.00106132782072) = 0.70758534564 < max(sigmas).\n",
        "  warn(errmsg)\n",
        "/usr/local/lib/python2.7/site-packages/lmfit/confidence.py:276: UserWarning: Warning, maxiter=200 reachedand prob(eta2=198.262434624) = 0.672421978833 < max(sigmas).\n",
        "  warn(errmsg)\n"
       ]
      },
      {
       "output_type": "stream",
       "stream": "stdout",
       "text": [
        "[[Variables]]\n",
        "     B0:        0.0001557752 +/- 3.622211e-05 (23.25%) initial =  0.0001\n",
        "     eta2:      4.812195 +/- 5.181078 (107.67%) initial =  1\n",
        "     mu:        1 (fixed)\n",
        "     rs:        2.96e+19 (fixed)\n",
        "     rsarc:     900 (fixed)\n",
        "     vd:        1.25e+08 (fixed)\n",
        "[[Correlations]] (unreported correlations are <  0.100)\n",
        "    C(B0, eta2)                  =  0.996 \n",
        "        99.70%    95.00%    67.40%     0.00%    67.40%    95.00%    99.70%\n",
        "  B0   0.00003   0.00008   0.00012   0.00016   0.00045       inf       inf\n",
        "eta2   0.00000   0.00000   0.00000   1.05102       inf       inf       inf"
       ]
      },
      {
       "output_type": "stream",
       "stream": "stdout",
       "text": [
        "\n"
       ]
      }
     ],
     "prompt_number": 32
    },
    {
     "cell_type": "code",
     "collapsed": false,
     "input": [
      "print (ci['B0'][3][1] - ci['B0'][2][1]) * 1e6\n",
      "print (ci['B0'][3][1] - ci['B0'][4][1]) * 1e6\n",
      "\n",
      "print ci['eta2'][3][1] - ci['eta2'][2][1]\n",
      "print ci['eta2'][3][1] - ci['eta2'][4][1]\n",
      "\n",
      "print ci"
     ],
     "language": "python",
     "metadata": {},
     "outputs": [
      {
       "output_type": "stream",
       "stream": "stdout",
       "text": [
        "37.4404139338\n",
        "-290.624218515\n",
        "1.05102088782\n",
        "-inf\n",
        "{'B0': [(0.997, 2.687629238197455e-05), (0.95, 8.27884859429375e-05), (0.674, 0.00011833474356938638), (0.0, 0.00015577515750315855), (0.674, 0.0004463993760181058), (0.95, inf), (0.997, inf)], 'eta2': [(0.997, 0.0), (0.95, 0.0), (0.674, 0.0), (0.0, 1.0510208878217187), (0.674, inf), (0.95, inf), (0.997, inf)]}\n"
       ]
      }
     ],
     "prompt_number": 34
    },
    {
     "cell_type": "markdown",
     "metadata": {},
     "source": [
      "Looks like the errors disagree quite a bit for eta2, from confidence interval analysis... what happened?!"
     ]
    },
    {
     "cell_type": "heading",
     "level": 1,
     "metadata": {},
     "source": [
      "??. Methods to compute $m_E$ from data (point-wise, or global fit)"
     ]
    },
    {
     "cell_type": "markdown",
     "metadata": {},
     "source": [
      "Not really integrated into pipeline proper.\n",
      "\n",
      "I want to check the following effects:\n",
      "1. what happens if we use different methods of calculating FWHMs?\n",
      "2. what happens if we average $m_E$ values, or average FWHM values then calculate $m_E$?  (in SN1006, surprisingly -- maybe it shouldn't be surprising -- the effect was not so big)"
     ]
    },
    {
     "cell_type": "code",
     "collapsed": false,
     "input": [
      "def m_expt(e1, e2, w1, w2):\n",
      "    \"\"\"Calculated following Ressler et al. [2014]\"\"\"\n",
      "    return np.log(w2/w1) / np.log(e2/e1)\n",
      "\n",
      "def m_expt_err(e1, e2, w1, w2, w1e, w2e):\n",
      "    \"\"\"Propagate filament width errors in quadrature\"\"\"\n",
      "    me = m_expt(e1, e2, w1, w2)\n",
      "    return np.abs(me * 1./np.log(e2 / e1) * np.sqrt((w1e/w1)**2 + (w2e/w2)**2))"
     ],
     "language": "python",
     "metadata": {},
     "outputs": [],
     "prompt_number": 15
    },
    {
     "cell_type": "code",
     "collapsed": false,
     "input": [
      "def compare_FWHMs():\n",
      "    \"\"\"Subroutine to calculate and print $m_E$ values from different FWHM estimates\"\"\"\n",
      "    \n",
      "    for n in regions.keys():\n",
      "        reg = regions[n]\n",
      "        \n",
      "        for lab1, lab2 in zip(labels[:-1], labels[1:]):\n",
      "            e1, e2 = lowerE[lab1], lowerE[lab2]\n",
      "            \n",
      "            # Iterate over available FWHM estimates\n",
      "            for inkey, outkey in zip(['fwhm', 'fwhmc', 'fwhm_fitc'], ['m_e', 'm_e-c', 'm_e-fitc']):\n",
      "                \n",
      "                fwhm1 = reg[lab1][inkey]\n",
      "                fwhm2 = reg[lab2][inkey]\n",
      "                fwhm1e = np.mean(reg[lab1][inkey+'-errs'])\n",
      "                fwhm2e = np.mean(reg[lab2][inkey+'-errs'])\n",
      "\n",
      "                if np.isfinite(fwhm1) and np.isfinite(fwhm2):\n",
      "                    reg[lab2][outkey] = (m_expt(e1, e2, fwhm1, fwhm2),\n",
      "                                        m_expt_err(e1, e2, fwhm1, fwhm2, fwhm1e, fwhm2e))\n",
      "                else:\n",
      "                    reg[lab2][outkey] = float('NaN'), float('NaN')\n",
      "\n",
      "\n",
      "    # Now, print the m_e values for each energy band, in each filament\n",
      "    for flmt in flmt_regs.keys():\n",
      "        for lab in labels[1:]:\n",
      "            # Get m_e tuples, in a given band, for all regions in a filament\n",
      "            m_e_tups = [regions[x][lab]['m_e'] for x in flmt_regs[flmt]]\n",
      "\n",
      "            np.set_printoptions(precision=2)\n",
      "            print 'Filament {}, energy band {}'.format(flmt, lab)\n",
      "            for x in flmt_regs[flmt]:\n",
      "                tup = regions[x][lab]['m_e']\n",
      "                tupc = regions[x][lab]['m_e-c']\n",
      "                tup_fitc = regions[x][lab]['m_e-fitc']\n",
      "                print ('R {:02d}:\\tm_e = {: 0.2f} +/- {:0.2f}'\n",
      "                       '\\t\\tcap FWHM: m_e = {: 0.2f} +/- {:0.2f}'\n",
      "                       '\\t\\tcap func: m_e = {: 0.2f} +/- {:0.2f}').format(x, *(tup+tupc+tup_fitc))\n",
      "            print ''\n",
      "            np.set_printoptions(precision=8)\n",
      "\n",
      "        print '------------------------------\\n'"
     ],
     "language": "python",
     "metadata": {},
     "outputs": [],
     "prompt_number": 18
    },
    {
     "cell_type": "code",
     "collapsed": false,
     "input": [
      "compare_FWHMs()"
     ],
     "language": "python",
     "metadata": {},
     "outputs": [
      {
       "output_type": "stream",
       "stream": "stdout",
       "text": [
        "Filament 1, energy band 1-1.7kev\n",
        "R 01:\tm_e = -0.59 +/- 0.14\t\tcap FWHM: m_e = -0.47 +/- 0.11\t\tcap func: m_e = -0.80 +/- 0.18\n",
        "R 10:\tm_e = -1.01 +/- 0.16\t\tcap FWHM: m_e = -0.83 +/- 0.12\t\tcap func: m_e = -1.14 +/- 0.16\n",
        "R 11:\tm_e = -1.92 +/- 0.33\t\tcap FWHM: m_e =  nan +/- nan\t\tcap func: m_e =  nan +/- nan\n",
        "R 12:\tm_e = -1.04 +/- 0.17\t\tcap FWHM: m_e = -0.66 +/- 0.10\t\tcap func: m_e = -0.81 +/- 0.14\n",
        "R 13:\tm_e = -0.47 +/- 0.11\t\tcap FWHM: m_e =  0.08 +/- 0.02\t\tcap func: m_e = -0.00 +/- 0.00\n",
        "\n",
        "Filament 1, energy band 2-3kev\n",
        "R 01:\tm_e =  0.01 +/- 0.00\t\tcap FWHM: m_e = -0.03 +/- 0.00\t\tcap func: m_e =  0.03 +/- 0.00\n",
        "R 10:\tm_e = -0.16 +/- 0.01\t\tcap FWHM: m_e = -0.15 +/- 0.01\t\tcap func: m_e = -0.06 +/- 0.00\n",
        "R 11:\tm_e =  0.01 +/- 0.00\t\tcap FWHM: m_e = -0.27 +/- 0.01\t\tcap func: m_e = -0.44 +/- 0.03\n",
        "R 12:\tm_e =  0.25 +/- 0.01\t\tcap FWHM: m_e =  0.09 +/- 0.00\t\tcap func: m_e = -0.13 +/- 0.01\n",
        "R 13:\tm_e =  0.04 +/- 0.00\t\tcap FWHM: m_e = -0.04 +/- 0.00\t\tcap func: m_e = -0.04 +/- 0.00\n",
        "\n",
        "Filament 1, energy band 3-4.5kev\n",
        "R 01:\tm_e = -0.41 +/- 0.06\t\tcap FWHM: m_e = -0.49 +/- 0.07\t\tcap func: m_e = -0.68 +/- 0.10\n",
        "R 10:\tm_e =  0.32 +/- 0.03\t\tcap FWHM: m_e =  0.14 +/- 0.01\t\tcap func: m_e = -0.17 +/- 0.02\n",
        "R 11:\tm_e = -0.23 +/- 0.03\t\tcap FWHM: m_e = -0.24 +/- 0.03\t\tcap func: m_e = -0.34 +/- 0.04\n",
        "R 12:\tm_e = -0.92 +/- 0.10\t\tcap FWHM: m_e = -0.65 +/- 0.07\t\tcap func: m_e = -0.30 +/- 0.04\n",
        "R 13:\tm_e = -0.25 +/- 0.04\t\tcap FWHM: m_e = -0.30 +/- 0.04\t\tcap func: m_e = -0.38 +/- 0.05\n",
        "\n",
        "Filament 1, energy band 4.5-7kev\n",
        "R 01:\tm_e =  0.03 +/- 0.01\t\tcap FWHM: m_e = -0.27 +/- 0.05\t\tcap func: m_e = -0.27 +/- 0.05\n",
        "R 10:\tm_e = -0.91 +/- 0.14\t\tcap FWHM: m_e = -0.73 +/- 0.11\t\tcap func: m_e = -0.38 +/- 0.06\n",
        "R 11:\tm_e = -0.90 +/- 0.15\t\tcap FWHM: m_e = -0.57 +/- 0.09\t\tcap func: m_e = -0.58 +/- 0.09\n",
        "R 12:\tm_e =  0.08 +/- 0.01\t\tcap FWHM: m_e =  0.07 +/- 0.01\t\tcap func: m_e =  0.02 +/- 0.00\n",
        "R 13:\tm_e =  0.19 +/- 0.04\t\tcap FWHM: m_e =  0.02 +/- 0.00\t\tcap func: m_e = -0.25 +/- 0.05\n",
        "\n",
        "------------------------------\n",
        "\n",
        "Filament 3, energy band 1-1.7kev\n",
        "R 04:\tm_e = -0.54 +/- 0.07\t\tcap FWHM: m_e = -0.40 +/- 0.05\t\tcap func: m_e = -0.73 +/- 0.10\n",
        "R 05:\tm_e =  0.10 +/- 0.01\t\tcap FWHM: m_e = -0.21 +/- 0.03\t\tcap func: m_e = -0.09 +/- 0.01\n",
        "\n",
        "Filament 3, energy band 2-3kev\n",
        "R 04:\tm_e = -0.03 +/- 0.00\t\tcap FWHM: m_e = -0.10 +/- 0.00\t\tcap func: m_e = -0.12 +/- 0.01\n",
        "R 05:\tm_e = -0.16 +/- 0.01\t\tcap FWHM: m_e = -0.08 +/- 0.00\t\tcap func: m_e = -0.15 +/- 0.01\n",
        "\n",
        "Filament 3, energy band 3-4.5kev\n",
        "R 04:\tm_e = -0.01 +/- 0.00\t\tcap FWHM: m_e = -0.02 +/- 0.00\t\tcap func: m_e = -0.29 +/- 0.02\n",
        "R 05:\tm_e = -0.07 +/- 0.01\t\tcap FWHM: m_e = -0.21 +/- 0.02\t\tcap func: m_e = -0.33 +/- 0.03\n",
        "\n",
        "Filament 3, energy band 4.5-7kev\n",
        "R 04:\tm_e =  0.09 +/- 0.01\t\tcap FWHM: m_e = -0.75 +/- 0.09\t\tcap func: m_e =  0.07 +/- 0.01\n",
        "R 05:\tm_e = -0.17 +/- 0.02\t\tcap FWHM: m_e = -0.19 +/- 0.03\t\tcap func: m_e = -0.13 +/- 0.02\n",
        "\n",
        "------------------------------\n",
        "\n",
        "Filament 2, energy band 1-1.7kev\n",
        "R 02:\tm_e =  nan +/- nan\t\tcap FWHM: m_e =  nan +/- nan\t\tcap func: m_e =  nan +/- nan\n",
        "R 03:\tm_e = -1.06 +/- 0.19\t\tcap FWHM: m_e = -1.37 +/- 0.17\t\tcap func: m_e = -0.66 +/- 0.10\n",
        "\n",
        "Filament 2, energy band 2-3kev\n",
        "R 02:\tm_e = -0.93 +/- 0.07\t\tcap FWHM: m_e = -0.36 +/- 0.02\t\tcap func: m_e = -0.21 +/- 0.01\n",
        "R 03:\tm_e = -0.06 +/- 0.00\t\tcap FWHM: m_e = -0.11 +/- 0.01\t\tcap func: m_e = -0.25 +/- 0.01\n",
        "\n",
        "Filament 2, energy band 3-4.5kev\n",
        "R 02:\tm_e =  0.09 +/- 0.01\t\tcap FWHM: m_e = -0.25 +/- 0.04\t\tcap func: m_e = -0.62 +/- 0.08\n",
        "R 03:\tm_e = -0.44 +/- 0.06\t\tcap FWHM: m_e = -0.72 +/- 0.09\t\tcap func: m_e = -0.53 +/- 0.07\n",
        "\n",
        "Filament 2, energy band 4.5-7kev\n",
        "R 02:\tm_e =  0.07 +/- 0.01\t\tcap FWHM: m_e = -0.40 +/- 0.08\t\tcap func: m_e = -0.07 +/- 0.01\n",
        "R 03:\tm_e = -0.20 +/- 0.04\t\tcap FWHM: m_e =  0.05 +/- 0.01\t\tcap func: m_e = -0.09 +/- 0.02\n",
        "\n",
        "------------------------------\n",
        "\n",
        "Filament 5, energy band 1-1.7kev\n",
        "R 08:\tm_e =  nan +/- nan\t\tcap FWHM: m_e =  nan +/- nan\t\tcap func: m_e =  nan +/- nan\n",
        "R 09:\tm_e =  1.30 +/- 0.22\t\tcap FWHM: m_e =  nan +/- nan\t\tcap func: m_e =  nan +/- nan\n",
        "\n",
        "Filament 5, energy band 2-3kev\n",
        "R 08:\tm_e = -0.36 +/- 0.02\t\tcap FWHM: m_e = -0.20 +/- 0.01\t\tcap func: m_e = -0.31 +/- 0.01\n",
        "R 09:\tm_e = -0.68 +/- 0.04\t\tcap FWHM: m_e = -0.44 +/- 0.02\t\tcap func: m_e = -0.30 +/- 0.02\n",
        "\n",
        "Filament 5, energy band 3-4.5kev\n",
        "R 08:\tm_e =  0.21 +/- 0.03\t\tcap FWHM: m_e =  0.02 +/- 0.00\t\tcap func: m_e =  0.16 +/- 0.01\n",
        "R 09:\tm_e =  0.79 +/- 0.09\t\tcap FWHM: m_e =  0.28 +/- 0.03\t\tcap func: m_e =  0.12 +/- 0.01\n",
        "\n",
        "Filament 5, energy band 4.5-7kev\n",
        "R 08:\tm_e = -0.65 +/- 0.14\t\tcap FWHM: m_e = -0.89 +/- 0.19\t\tcap func: m_e = -0.47 +/- 0.09\n",
        "R 09:\tm_e = -0.30 +/- 0.05\t\tcap FWHM: m_e = -0.46 +/- 0.07\t\tcap func: m_e = -0.36 +/- 0.05\n",
        "\n",
        "------------------------------\n",
        "\n",
        "Filament 4, energy band 1-1.7kev\n",
        "R 06:\tm_e =  nan +/- nan\t\tcap FWHM: m_e =  nan +/- nan\t\tcap func: m_e =  nan +/- nan\n",
        "R 07:\tm_e = -2.36 +/- 0.50\t\tcap FWHM: m_e = -1.48 +/- 0.31\t\tcap func: m_e = -1.53 +/- 0.30\n",
        "\n",
        "Filament 4, energy band 2-3kev\n",
        "R 06:\tm_e = -0.45 +/- 0.04\t\tcap FWHM: m_e = -0.37 +/- 0.03\t\tcap func: m_e = -1.10 +/- 0.15\n",
        "R 07:\tm_e = -0.14 +/- 0.01\t\tcap FWHM: m_e = -0.16 +/- 0.01\t\tcap func: m_e = -0.19 +/- 0.01\n",
        "\n",
        "Filament 4, energy band 3-4.5kev\n",
        "R 06:\tm_e = -0.34 +/- 0.07\t\tcap FWHM: m_e = -0.05 +/- 0.01\t\tcap func: m_e =  1.38 +/- 0.36\n",
        "R 07:\tm_e = -0.53 +/- 0.06\t\tcap FWHM: m_e = -0.41 +/- 0.05\t\tcap func: m_e = -0.68 +/- 0.08\n",
        "\n",
        "Filament 4, energy band 4.5-7kev\n",
        "R 06:\tm_e = -1.09 +/- 0.33\t\tcap FWHM: m_e = -1.20 +/- 0.35\t\tcap func: m_e = -1.28 +/- 0.35\n",
        "R 07:\tm_e =  0.07 +/- 0.01\t\tcap FWHM: m_e = -0.16 +/- 0.03\t\tcap func: m_e =  0.07 +/- 0.01\n",
        "\n",
        "------------------------------\n",
        "\n"
       ]
      }
     ],
     "prompt_number": 20
    },
    {
     "cell_type": "heading",
     "level": 1,
     "metadata": {},
     "source": [
      "4. Old code to try global fit for width-energy relation (assuming constant $m_E$)"
     ]
    },
    {
     "cell_type": "markdown",
     "metadata": {},
     "source": [
      "Attempt \"global\" best fits for energy dependence.  This code will have to be refactored/cleaned.  It worked in previous commits, but now has been ported and not set up to work yet.  Might be nice to plot 90% confidence limits as bands around best fit function.\n",
      "\n",
      "BUG: chi-squared values are being computed incorrectly, for frozen (no const in power law) fits"
     ]
    },
    {
     "cell_type": "code",
     "collapsed": false,
     "input": [
      "def func_par_err(x, y, y_err, f, pars, n, step=None):\n",
      "    \"\"\"Obtain 90% confidence limits for a single fitting parameter (specify index, n, of said parameter)\n",
      "    pars should be some set of best fit parameters, already -- or, initial guesses for a best fit\n",
      "    (so, pars cannot have been obtained for a fit with frozen parameters -- or, the function f must be frozen in\n",
      "    any such parameters)\n",
      "    \"\"\"\n",
      "    if step is None:\n",
      "        step = abs(0.01*pars[n])\n",
      "    \n",
      "    # Recompute best fit and get minimum chi2\n",
      "    popt, pcov = run_fit(x, y, y_err, f, pars)\n",
      "    pars = popt\n",
      "    chi2min = chi2(x, y, y_err, f, pars)\n",
      "    \n",
      "    # Useful functions for varying chi2 by stepping a parameter\n",
      "    def chi2_step(steppar):\n",
      "        \"\"\"chi-squared value for fixed value of n-th parameter\"\"\"\n",
      "        init_guess = list(pars)  # Make a copy.  Why does this work, but pars[:] doesn't copy the list?!?!\n",
      "        init_guess[n] = steppar\n",
      "        popt, pcov, popt_all = run_frz_fit(x, y, y_err, f, init_guess, [n])\n",
      "        return chi2(x, y, y_err, f, popt_all)\n",
      "    \n",
      "    def chi2_step_thresh(steppar):\n",
      "        \"\"\"Output > 0 if \\Delta\\chi^2 > 2.7\"\"\"\n",
      "        chi2_step_vec = np.vectorize(chi2_step)\n",
      "        return chi2_step_vec(steppar) - chi2min - 2.7  # Single parameter\n",
      "    \n",
      "    \n",
      "    # Roughly, find where we cross chi2 > chi2min + 2.7\n",
      "    limit_pos = pars[n] + step\n",
      "    while chi2_step_thresh(limit_pos) < 0:\n",
      "        limit_pos += step\n",
      "    \n",
      "    limit_neg = pars[n] - step\n",
      "    while chi2_step_thresh(limit_neg) < 0:\n",
      "        limit_neg -= step\n",
      "    \n",
      "    # Now nail down the limits on steppar, by root finding\n",
      "    # Although the function is slow, since it calls curve_fit each time\n",
      "    # I think scipy should hit the root faster than I could do it by hand (i.e., with fewer calls)\n",
      "    limit_pos = sp.optimize.brentq(chi2_step_thresh, pars[n], limit_pos)\n",
      "    limit_neg = sp.optimize.brentq(chi2_step_thresh, limit_neg, pars[n])\n",
      "    return limit_neg, limit_pos, pars[n]"
     ],
     "language": "python",
     "metadata": {},
     "outputs": []
    },
    {
     "cell_type": "code",
     "collapsed": false,
     "input": [
      "def pow_law(x, n, a, b):\n",
      "    \"\"\"Generalized power law of form\n",
      "    f(x) = a * x^n + b\n",
      "    Vectorized in x\n",
      "    \"\"\"\n",
      "    return a * x**n + b"
     ],
     "language": "python",
     "metadata": {},
     "outputs": []
    },
    {
     "cell_type": "code",
     "collapsed": false,
     "input": [
      "for n in regions.keys():\n",
      "    print 'Region {:02d}'.format(n)\n",
      "    print '========='\n",
      "    \n",
      "    # Set up plot\n",
      "    plt.figure(figsize=(6,5))\n",
      "    \n",
      "    # Build energy-FWHM dataset\n",
      "    ens = []\n",
      "    fwhms = []\n",
      "    fwhm_errs = []\n",
      "    \n",
      "    for lab in labels:\n",
      "        if np.isfinite(regions[n][lab]['fwhm']):\n",
      "            ens.append(lowerE[lab])\n",
      "            fwhms.append(regions[n][lab]['fwhm'])\n",
      "            fwhm_errs.append(list(regions[n][lab]['fwhm-errs']))\n",
      "    \n",
      "    fwhm_errs_sym = [np.mean(x) for x in fwhm_errs]\n",
      "    \n",
      "    fwhm_errs_plt = np.array(fwhm_errs).T.tolist()  # First plot asymmetric errors\n",
      "    plt.errorbar(ens, fwhms, yerr=fwhm_errs_plt, fmt='bo')\n",
      "    x_m = np.linspace(0.65, 4.55, 50)\n",
      "    \n",
      "    # Try some different fits\n",
      "    # First a free power-law with 2 constants (need >= 4 points)\n",
      "    init_guesses = [-0.5, 1, 1]\n",
      "    popt, pcov = run_fit(ens, fwhms, fwhm_errs_sym, pow_law, init_guesses, maxfev=1600)\n",
      "    print 'Fit params (n, a, b): {}'.format(popt)\n",
      "    print_fit_info(ens, fwhms, fwhm_errs_sym, pow_law, popt, pcov)\n",
      "    plt.plot(x_m, pow_law(x_m, *popt), '--r')\n",
      "    \n",
      "    # Then, a powerlaw with no constant offset (need >= 3 points)\n",
      "    init_guesses = [-0.5, 1, 0]\n",
      "    frz = [2]\n",
      "    popt, pcov, popt_all = run_frz_fit(ens, fwhms, fwhm_errs_sym, pow_law, init_guesses, frz, maxfev=1600)\n",
      "    print '\\nFit params (n, a, b): {}'.format(popt_all)\n",
      "    print_fit_info(ens, fwhms, fwhm_errs_sym, pow_law, popt_all, pcov)\n",
      "    plt.plot(x_m, pow_law(x_m, *popt_all), '-k')\n",
      "    \n",
      "    # Compute uncertainties on powerlaw exponent with NO constant in fit\n",
      "    nlims = func_par_err(ens, fwhms, fwhm_errs_sym, lambda xv,nv,av: pow_law(xv,nv,av,0), popt, 0)[0:2]\n",
      "    print '90% limits on n: [{}, {}]'.format(*nlims)\n",
      "    \n",
      "    regions[n]['fwhm-data'] = ens, fwhms, fwhm_errs\n",
      "    regions[n]['powfit'] = popt_all\n",
      "    regions[n]['powfit-n-lims'] = popt[0] - nlims[0], nlims[1] - popt[0]\n",
      "    \n",
      "    plt.xlim([0,5])\n",
      "    plt.ylim([0,plt.ylim()[1]])\n",
      "    \n",
      "    plt.xlabel('Lower energy of bin (keV)')\n",
      "    plt.ylabel('FWHM (arcsec.)')\n",
      "    plt.show()\n",
      "    print ''"
     ],
     "language": "python",
     "metadata": {},
     "outputs": []
    },
    {
     "cell_type": "markdown",
     "metadata": {},
     "source": [
      "Now doing the same thing, but EXCLUDE FWHMs measured from 0.7-1keV band"
     ]
    },
    {
     "cell_type": "code",
     "collapsed": false,
     "input": [
      "for n in regions.keys():\n",
      "    print 'Region {:02d}'.format(n)\n",
      "    print '========='\n",
      "    \n",
      "    # Set up plot\n",
      "    plt.figure(figsize=(6,5))\n",
      "    \n",
      "    # Build energy-FWHM dataset\n",
      "    ens = []\n",
      "    fwhms = []\n",
      "    fwhm_errs = []\n",
      "    \n",
      "    for lab in labels[1:]:\n",
      "        if np.isfinite(regions[n][lab]['fwhm']):\n",
      "            ens.append(lowerE[lab])\n",
      "            fwhms.append(regions[n][lab]['fwhm'])\n",
      "            fwhm_errs.append(list(regions[n][lab]['fwhm-errs']))\n",
      "    \n",
      "    fwhm_errs_sym = [np.mean(x) for x in fwhm_errs]\n",
      "    \n",
      "    fwhm_errs_plt = np.array(fwhm_errs).T.tolist()  # First plot asymmetric errors\n",
      "    plt.errorbar(ens, fwhms, yerr=fwhm_errs_plt, fmt='bo')\n",
      "    x_m = np.linspace(0.65, 4.55, 50)\n",
      "    \n",
      "    # Try some different fits\n",
      "    # First a free power-law with 2 constants (need >= 4 points)\n",
      "    init_guesses = [-0.5, 1, 1]\n",
      "    popt, pcov = run_fit(ens, fwhms, fwhm_errs_sym, pow_law, init_guesses, maxfev=1600)\n",
      "    print 'Fit params (n, a, b): {}'.format(popt)\n",
      "    print_fit_info(ens, fwhms, fwhm_errs_sym, pow_law, popt, pcov)\n",
      "    plt.plot(x_m, pow_law(x_m, *popt), '--r')\n",
      "    \n",
      "    # Then, a powerlaw with no constant offset (need >= 3 points)\n",
      "    init_guesses = [-0.5, 1, 0]\n",
      "    frz = [2]\n",
      "    popt, pcov, popt_all = run_frz_fit(ens, fwhms, fwhm_errs_sym, pow_law, init_guesses, frz, maxfev=1600)\n",
      "    print '\\nFit params (n, a, b): {}'.format(popt_all)\n",
      "    print_fit_info(ens, fwhms, fwhm_errs_sym, pow_law, popt_all, pcov)\n",
      "    plt.plot(x_m, pow_law(x_m, *popt_all), '-k')\n",
      "    \n",
      "    # Compute uncertainties on powerlaw exponent with NO constant in fit\n",
      "    nlims = func_par_err(ens, fwhms, fwhm_errs_sym, lambda xv,nv,av: pow_law(xv,nv,av,0), popt, 0)[0:2]\n",
      "    print '90% limits on n: [{}, {}]'.format(*nlims)\n",
      "    \n",
      "    regions[n]['fwhm-data-cut'] = ens, fwhms, fwhm_errs\n",
      "    regions[n]['powfit-cut'] = popt_all\n",
      "    regions[n]['powfit-cut-n-lims'] = popt[0] - nlims[0], nlims[1] - popt[0]\n",
      "    \n",
      "    plt.xlim([0,5])\n",
      "    plt.ylim([0,plt.ylim()[1]])\n",
      "    \n",
      "    plt.xlabel('Lower energy of bin (keV)')\n",
      "    plt.ylabel('FWHM (arcsec.)')\n",
      "    plt.show()\n",
      "    print ''"
     ],
     "language": "python",
     "metadata": {},
     "outputs": []
    },
    {
     "cell_type": "markdown",
     "metadata": {},
     "source": [
      "Now, print out the energy scaling exponents, by region"
     ]
    },
    {
     "cell_type": "code",
     "collapsed": false,
     "input": [
      "print regions.keys()\n",
      "print regions[1].keys()\n",
      "print regions[1]['0.7-1kev'].keys()\n",
      "print regions[1]['powfit']"
     ],
     "language": "python",
     "metadata": {},
     "outputs": []
    },
    {
     "cell_type": "markdown",
     "metadata": {},
     "source": [
      "There is a systematic trend, I think -- removing the 0.7-1 keV, tends to reduce the exponent magnitude (so, energy dependence becomes slightly weaker -- no surprise, given that 0.7-1 keV peaks are often very wide).\n",
      "\n",
      "At least that's the case for Filaments A, B.  For regions 5, 7, 9 this seems to not be the case."
     ]
    },
    {
     "cell_type": "code",
     "collapsed": false,
     "input": [
      "# Now, print the m_e values for each energy band, in each filament\n",
      "for flmt in '12345':\n",
      "    print 'Filament {}'.format(flmt)\n",
      "    for x in flmt_regs[flmt]:\n",
      "        \n",
      "        m_e_all = regions[x]['powfit'][0]\n",
      "        m_e_all_errs = regions[x]['powfit-n-lims']\n",
      "        \n",
      "        m_e_cut = regions[x]['powfit-cut'][0]\n",
      "        m_e_cut_errs = regions[x]['powfit-cut-n-lims']\n",
      "        \n",
      "        print ('Region {:02d}, global best fit m_e = {: 0.2f}, err -{:0.2f}/+{:0.2f}'\n",
      "               '\\t\\t 1-7keV fit m_e = {: 0.2f}, err -{:0.2f}/+{:0.2f}').format(x, m_e_all, m_e_all_errs[0], m_e_all_errs[1],\n",
      "                                                                               m_e_cut, m_e_cut_errs[0], m_e_cut_errs[1])\n",
      "    print ''\n"
     ],
     "language": "python",
     "metadata": {},
     "outputs": []
    }
   ],
   "metadata": {}
  }
 ]
}