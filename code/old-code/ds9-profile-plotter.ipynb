{
 "metadata": {
  "name": ""
 },
 "nbformat": 3,
 "nbformat_minor": 0,
 "worksheets": [
  {
   "cells": [
    {
     "cell_type": "heading",
     "level": 1,
     "metadata": {},
     "source": [
      "Notebook to generate intensity profiles from ds9 region file, using ds9 rgb image (now deprecated in favor of script)"
     ]
    },
    {
     "cell_type": "markdown",
     "metadata": {},
     "source": [
      "Aaron Tran, 2014 June 5--6\n",
      "\n",
      "This notebook parses a ds9 region file (must contain only projections) and generates radial intensity profiles from a three band image (you pick the bands).  It uses pyds9 to extract the 2D projection plots.  This will probably be replaced with a better program/approach, since ds9's projection is a bit of a blackbox, but it's a simple start.  The code is rather slow since ds9 has to show/save/read data from ~120 plots -- I couldn't find a way to just get the numbers/values.\n",
      "\n",
      "* [pyds9 documentation](http://hea-www.harvard.edu/RD/pyds9/)\n",
      "* [DS9 XPA reference](http://ds9.si.edu/ref/xpa.html)\n",
      "\n",
      "Fig. 7 of *Ressler et al.* [ApJ, in review/press, ????] illustrates what we're trying to do."
     ]
    },
    {
     "cell_type": "code",
     "collapsed": false,
     "input": [
      "%pylab --no-import-all\n",
      "%matplotlib inline\n",
      "# ('gtk', 'inline', 'osx', 'qt', 'qt4', 'tk', 'wx')\n",
      "from fplot import fplot, show_mplrc_settings\n",
      "import os\n",
      "import ds9\n",
      "\n",
      "show_mplrc_settings()"
     ],
     "language": "python",
     "metadata": {},
     "outputs": [
      {
       "output_type": "stream",
       "stream": "stdout",
       "text": [
        "Using matplotlib backend: MacOSX\n",
        "Populating the interactive namespace from numpy and matplotlib\n",
        "Using /Users/aarontran/Documents/snr-research/code/matplotlibrc\n",
        "Font sizes for axes: 9; (x,y) ticks: (9, 9): legend 9\n",
        "Font family serif uses face ['Times']\n",
        "Figure size: (6.0, 4.0), dpi: 80\n"
       ]
      }
     ],
     "prompt_number": 2
    },
    {
     "cell_type": "code",
     "collapsed": false,
     "input": [
      "rfits = '../data/0.7-1kev_mosaic_unbin.fits'\n",
      "gfits = '../data/1-2kev_mosaic_unbin.fits'\n",
      "bfits = '../data/2-7kev_mosaic_unbin.fits'\n",
      "\n",
      "regions_file = '../data/profiles_good.reg'\n",
      "outroot = '../plots/region_plot_good_unbin' # Script will append _%g.png to the end"
     ],
     "language": "python",
     "metadata": {},
     "outputs": [],
     "prompt_number": 3
    },
    {
     "cell_type": "markdown",
     "metadata": {},
     "source": [
      "Start DS9, create RGB image from binned, mosaicked *Chandra* images."
     ]
    },
    {
     "cell_type": "code",
     "collapsed": false,
     "input": [
      "d = ds9.ds9()\n",
      "d.set('rgb')"
     ],
     "language": "python",
     "metadata": {},
     "outputs": [
      {
       "metadata": {},
       "output_type": "pyout",
       "prompt_number": 4,
       "text": [
        "1"
       ]
      }
     ],
     "prompt_number": 4
    },
    {
     "cell_type": "code",
     "collapsed": false,
     "input": [
      "d.set('rgb red')\n",
      "d.set('file ' + rfits)\n",
      "# d.set('scale limits 4e-8 2.1e-6')\n",
      "d.set('rgb green')\n",
      "d.set('file ' + gfits)\n",
      "# d.set('scale limits 4e-8 2.42e-6')\n",
      "d.set('rgb blue')\n",
      "d.set('file ' + bfits)\n",
      "# d.set('scale limits 3e-8 1.5e-6')\n",
      "d.set('rgb lock scale yes')\n",
      "d.set('scale histequ');"
     ],
     "language": "python",
     "metadata": {},
     "outputs": [],
     "prompt_number": 5
    },
    {
     "cell_type": "markdown",
     "metadata": {},
     "source": [
      "Assumes that the region file is in DS9 format (version 4.1).  This function parses the file and generate a list of \"region strings\" that can be transmitted via XPA commands."
     ]
    },
    {
     "cell_type": "code",
     "collapsed": false,
     "input": [
      "def get_region_params(region_file):\n",
      "    \"\"\"Read in DS9 region file (version 4.1), return list of XPA arguments\"\"\"\n",
      "    \n",
      "    # Read strings from the region file\n",
      "    with open(region_file, 'r') as f:\n",
      "        lines = f.readlines()\n",
      "        if lines[0] != '# Region file format: DS9 version 4.1\\n':\n",
      "            print 'Warning: potentially invalid region file!'\n",
      "            print 'First line was: ' + lines[0]\n",
      "        if lines[2] != 'fk5\\n':\n",
      "            print 'Warning: potentially problematic coordinate system!'\n",
      "            print 'May work fine, just not tested'\n",
      "            print 'Coord. syst. is: ' + lines[2][:-1]\n",
      "\n",
      "    wcs = lines[2][:-1]  # Coordinate system\n",
      "    \n",
      "    # Manipulate each string and save to list\n",
      "    rspecs = []\n",
      "    for ln in lines[3:]:\n",
      "        lnsplit = ln[2:-1].split(')')  # [2:-1] removes leading '#', trailing '\\n'\n",
      "        if lnsplit[1] == '':\n",
      "            r = lnsplit[0] + ')'  # No optional arguments for region\n",
      "        else:\n",
      "            r = lnsplit[0] + ') #' + lnsplit[1] # Add octothorpe\n",
      "        rspecs.append('%s; %s' % (wcs, r))\n",
      "    \n",
      "    return rspecs"
     ],
     "language": "python",
     "metadata": {},
     "outputs": [],
     "prompt_number": 7
    },
    {
     "cell_type": "markdown",
     "metadata": {},
     "source": [
      "Sit back and let the script run (~1 minute for 40 regions).  Yes, this is inefficient.  The first image will be a bit slower, as the figure gets set up, but the rest are fairly quick."
     ]
    },
    {
     "cell_type": "code",
     "collapsed": false,
     "input": [
      "rspecs = get_region_params(regions_file)\n",
      "\n",
      "plt.figure(figsize=(6,4))\n",
      "\n",
      "for i in xrange(len(rspecs)):\n",
      "    d.set('regions', rspecs[i])\n",
      "    for clr in ['red', 'green', 'blue']:\n",
      "        d.set('rgb ' + clr)\n",
      "        d.set('plot %s save %s_temp.dat' % (d.get('plot'), clr))\n",
      "        a = np.loadtxt('%s_temp.dat' % clr)\n",
      "        plt.plot(a[:,0], a[:,1], '-o'+clr[0])\n",
      "    \n",
      "    fplot('Radial dist. (?)', 'Intensity? (?)')\n",
      "    plt.title('Region %g' % (i+1))\n",
      "    plt.legend(('0.7-1 keV', '1-2 keV', '2-7 keV'), loc='best')\n",
      "    #plt.tight_layout()\n",
      "    plt.savefig(outroot + '_%g.png' % (i+1), dpi=150)\n",
      "    plt.clf()\n",
      "    \n",
      "    d.set('regions delete all')"
     ],
     "language": "python",
     "metadata": {},
     "outputs": [
      {
       "metadata": {},
       "output_type": "display_data",
       "text": [
        "<matplotlib.figure.Figure at 0x10f3656d0>"
       ]
      }
     ],
     "prompt_number": 8
    },
    {
     "cell_type": "code",
     "collapsed": false,
     "input": [
      "for clr in ['red', 'green', 'blue']:\n",
      "    os.remove(clr+'_temp.dat')\n",
      "d.set('exit') # ipython notebook log complains here..."
     ],
     "language": "python",
     "metadata": {},
     "outputs": [
      {
       "metadata": {},
       "output_type": "pyout",
       "prompt_number": 9,
       "text": [
        "1"
       ]
      }
     ],
     "prompt_number": 9
    }
   ],
   "metadata": {}
  }
 ]
}