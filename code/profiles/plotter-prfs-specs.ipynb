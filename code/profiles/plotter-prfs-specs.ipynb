{
 "metadata": {
  "name": "",
  "signature": "sha256:5b2692ddd4d948ae00243bc1a8b97c3df62130e9247a59154f10826c2195ff1d"
 },
 "nbformat": 3,
 "nbformat_minor": 0,
 "worksheets": [
  {
   "cells": [
    {
     "cell_type": "heading",
     "level": 1,
     "metadata": {},
     "source": [
      "Generate plots and tables of profile fits and spectra for paper"
     ]
    },
    {
     "cell_type": "markdown",
     "metadata": {},
     "source": [
      "1. Plot profiles in all bands with fits and FWHM locations\n",
      "2. Plot highest energy band (4.5-7keV) with locations of spectra extraction\n",
      "3. Tabulate spectrum fits"
     ]
    },
    {
     "cell_type": "code",
     "collapsed": true,
     "input": [
      "%pylab --no-import-all\n",
      "%matplotlib inline\n",
      "%load_ext autoreload\n",
      "%autoreload 2\n",
      "# ('gtk', 'inline', 'osx', 'qt', 'qt4', 'tk', 'wx')\n",
      "from __future__ import division\n",
      "\n",
      "import cPickle as pickle\n",
      "import json\n",
      "import re\n",
      "\n",
      "import json_utils as jsu\n",
      "from nice_tables import ListTable, LatexTable\n",
      "import regdict_utils as rdu\n",
      "\n",
      "# For reference\n",
      "from fplot import fplot, show_mplrc_settings\n",
      "show_mplrc_settings()"
     ],
     "language": "python",
     "metadata": {},
     "outputs": []
    },
    {
     "cell_type": "heading",
     "level": 1,
     "metadata": {},
     "source": [
      "0. Import data from FWHM and spectra fits"
     ]
    },
    {
     "cell_type": "code",
     "collapsed": false,
     "input": [
      "#labels = ['0.7-1kev', '1-1.7kev', '2-3kev', '3-4.5kev', '4.5-7kev']\n",
      "#lowerE = np.array([0.7, 1, 2, 3, 4.5])  # Lower, higher energy limits (what for, I don't know.  m_E calculation?)\n",
      "#highE = np.array([1, 1.7, 2., 3., 4.5, 7.])\n",
      "#labels_nice = [r'0.7--1 keV', r'1--1.7 keV', r'2--3 keV', r'3--4.5 keV', r'4.5--7 keV']\n",
      "\n",
      "#flmt_regs = {1:[1,10,11,12,13], 2:[2,3], 3:[4,5], 4:[6,7], 5:[8,9]}  # regions-good-4.reg\n",
      "\n",
      "#fwhm_root = '../../data-tycho/regions-6/fwhms-subbkg/fwhms'\n",
      "#spec_root_up = '../../data-tycho/regions-6/spectra/fit/fit_up'\n",
      "#spec_root_dn = '../../data-tycho/regions-5/spectra/fit/fit_down'\n",
      "#plt_outdir = '../../data-tycho/regions-6/fwhms-subbkg/plots/'"
     ],
     "language": "python",
     "metadata": {},
     "outputs": []
    },
    {
     "cell_type": "code",
     "collapsed": true,
     "input": [
      "labels = ['0.7-1kev', '1-2kev', '2-4kev', '4-7kev']\n",
      "lowerE = np.array([0.7, 1, 2, 4])\n",
      "highE = np.array([1., 2., 4., 7.])\n",
      "labels_nice = [r'0.7--1 keV', r'1--2 keV', r'2--4 keV', r'4--7 keV']\n",
      "\n",
      "fwhm_root = '../../data-kepler/regions-3/fwhms-subbkg/fwhm'\n",
      "spec_root_up = '../../data-kepler/regions-3/spectra/fit/fit_up'\n",
      "spec_root_dn = '../../data-kepler/regions-3/spectra/fit/fit_down'\n",
      "plt_outdir = '../../data-kepler/regions-3/fwhms-subbkg/plots/'"
     ],
     "language": "python",
     "metadata": {},
     "outputs": []
    },
    {
     "cell_type": "markdown",
     "metadata": {},
     "source": [
      "Region dict `rdict` keys labels to band dicts;<br>\n",
      "band dict keys are: `['f', 'lims', 'wtype', 'data', 'wlen', 'pars', 'errs', 'fwhm']`.<br>\n",
      "Spectrum `info` dict has keys `[u'fitstat', u'dof', u'ftype', u'pars', u'fname']`,<br>\n",
      "spectrum `data` dict has keys `['bkg', 'm', 'yE', 'xE', 'y', 'x']`.\n",
      "\n",
      "I preload the spectrum cuts for all regions.  All other data is loaded on the fly."
     ]
    },
    {
     "cell_type": "code",
     "collapsed": true,
     "input": [
      "spec_cuts_all = rdu.speccut_load(fwhm_root)"
     ],
     "language": "python",
     "metadata": {},
     "outputs": []
    },
    {
     "cell_type": "heading",
     "level": 1,
     "metadata": {},
     "source": [
      "1. Plot profiles and spectra for all regions"
     ]
    },
    {
     "cell_type": "markdown",
     "metadata": {},
     "source": [
      "Plots profiles and best fits for all energy bands"
     ]
    },
    {
     "cell_type": "code",
     "collapsed": true,
     "input": [
      "for rdict, n in rdu.regdict_load(fwhm_root):\n",
      "    print 'Region', str(n)\n",
      "    \n",
      "    fig, axes = plt.subplots(1, len(labels), figsize=(2*len(labels),2))\n",
      "\n",
      "    for lab, ax, lab_nice in zip(labels, axes, labels_nice):  # Iterate over labels, not rdict, to enforce ordering\n",
      "        rdu.plot_fwhm_fit(rdict[lab], ax, allfits=False)  # Don't show fits if there's no good FWHM\n",
      "        if lab != '0.7-1kev':\n",
      "            ax.set_ylabel('')\n",
      "        if lab == '4.5-7kev':\n",
      "            _xpos = 0.9\n",
      "            if n == 10:\n",
      "                _xpos = 0.92\n",
      "            ax.text(_xpos, 0.82, str(n),  # Print region number\n",
      "                    fontsize=16, fontweight='bold',\n",
      "                    transform=ax.transAxes,\n",
      "                    horizontalalignment='right',\n",
      "                    verticalalignment='center')\n",
      "        ax.set_title(lab_nice)\n",
      "        #print 'FWHM limits:', rdict[lab]['lims']\n",
      "\n",
      "    plt.tight_layout()\n",
      "    plt.savefig(plt_outdir+'prfs_{:02d}.pdf'.format(n), dpi=300)  # dpi irrelevant here\n",
      "    plt.show()"
     ],
     "language": "python",
     "metadata": {},
     "outputs": []
    },
    {
     "cell_type": "markdown",
     "metadata": {},
     "source": [
      "Now for spectra.  There may be better ways to present this, but it'll work.\n",
      "\n",
      "For the \"FINAL\" version, need to hand-twiddle the y-axis labels because they look like crap."
     ]
    },
    {
     "cell_type": "code",
     "collapsed": true,
     "input": [
      "for rdict, n in rdu.regdict_load(fwhm_root):\n",
      "    \n",
      "    spec_up = spec_root_up + '_src{:d}_grp'.format(n)  # May have to change to {:02d}\n",
      "    spec_dn = spec_root_dn + '_src{:d}_grp'.format(n)  # if/when I fix spectrum fitting code\n",
      "    \n",
      "    spec_up_info = jsu.load(spec_up + '.json')\n",
      "    spec_up_data = np.load(spec_up + '.npz')\n",
      "    spec_dn_info = jsu.load(spec_dn + '.json')\n",
      "    spec_dn_data = np.load(spec_dn + '.npz')\n",
      "    \n",
      "    cuts = spec_cuts_all[np.where(spec_cuts_all[:,0] == n)][0][1:]\n",
      "    \n",
      "    # ===================================\n",
      "    # Show spectra and extraction regions\n",
      "    # ===================================\n",
      "\n",
      "    fig = plt.figure(figsize=(9,3))\n",
      "\n",
      "    # Plot highest energy profile with selection regions\n",
      "    ax0 = plt.subplot2grid((5,3), (0,0), rowspan=5)\n",
      "    ax0.axvspan(cuts[0], cuts[1], facecolor='b', alpha=0.15)\n",
      "    ax0.axvspan(cuts[1], cuts[2], facecolor='k', alpha=0.15)\n",
      "    rdu.plot_smoothing_cut(rdict[labels[-1]], ax0, show_smth=False)\n",
      "    \n",
      "    ax0.text(0.92, 0.85, str(n),  # Print region number\n",
      "                    fontsize=18, fontweight='bold', transform=ax0.transAxes,\n",
      "                    horizontalalignment='right', verticalalignment='center')\n",
      "\n",
      "    # Downstream, then upstream spectra\n",
      "    for sect, clr, col in zip(['dn', 'up'], ['b', 'k'], [1,2]):\n",
      "        \n",
      "        spec_info = eval('spec_'+sect+'_info')\n",
      "        spec_data = eval('spec_'+sect+'_data')\n",
      "\n",
      "        # Lazily initialize x, y, xE, yE, m, bkg\n",
      "        for key in spec_data:\n",
      "            exec(\"{k} = spec_data['{k}']\".format(k = key))\n",
      "        res = y - m  # Signed residuals\n",
      "        chi2r = spec_info['fitstat'][1] / spec_info['dof']\n",
      "\n",
      "        # Plot spectrum\n",
      "        # use fmt='none', color=clr to suppress markers/lines\n",
      "        # requires matplotlib 1.4.0, use fmt=None otherwise\n",
      "        # changed in matplotlib commit:9c99f28c826ea076be547a9f69178e541dd54af3\n",
      "        ax1 = plt.subplot2grid((5,3), (0,col), rowspan=3)\n",
      "        ax1.errorbar(x, y, xerr=xE, yerr=yE, fmt='none', ecolor=clr, capsize=0, alpha=1)\n",
      "        ax1.plot(x, m, '-k', alpha=1)\n",
      "        fplot('', r'Counts s$^{-1}$ keV$^{-1}$', axargs='tight',\n",
      "              ax=ax1, scales=('log','log'))\n",
      "\n",
      "        # Add reduced chi^2 annotation\n",
      "        chi2r_str = r'$\\chi^2_{\\mathrm{red}}=' + '{:0.2f}$'.format(chi2r)\n",
      "        ax1.text(0.25, 0.14, chi2r_str, transform=ax1.transAxes,\n",
      "                horizontalalignment='center')\n",
      "        \n",
      "        # Adjust horizontal spacing before changing vertical space,\n",
      "        # to get shared x-axis in spectrum+residual plots\n",
      "        plt.tight_layout()\n",
      "\n",
      "        # Share x-axis with residual plot (stackoverflow.com/q/21661526)\n",
      "        # Thus hide x ticklabels.  Set xticks for consistency\n",
      "        ax1.set_xlim([0.5,7])\n",
      "        ax1.set_xticks([0.5, 1, 2, 5])  # <-- adjust this as needed\n",
      "        ax1.get_xaxis().set_major_formatter(matplotlib.ticker.ScalarFormatter())\n",
      "        plt.setp(ax1.get_xticklabels(), visible=False)\n",
      "\n",
      "        # Plot absolute residuals (no scaling)\n",
      "        ax2 = plt.subplot2grid((5,3), (3,col), sharex=ax1)\n",
      "        ax2.errorbar(x, res, xerr=xE, yerr=yE, fmt='none', ecolor=clr, capsize=0, alpha=1)\n",
      "        ax2.axhline(0, c='k')\n",
      "        ax2.set_xscale('log')\n",
      "        ax2.set_ylabel(r'$\\chi$')\n",
      "        ax2.axis('tight')\n",
      "\n",
      "        # Fix plot formatting\n",
      "        ax2.set_xlim([0.5,7])\n",
      "        ax2.set_xticks([0.5, 1, 2, 5])\n",
      "        ax2.get_xaxis().set_major_formatter(matplotlib.ticker.ScalarFormatter())\n",
      "        plt.setp(ax2.get_xticklabels(), visible=False)\n",
      "\n",
      "        ax2.set_ylim(-1*max(np.abs(ax2.get_ylim())),max(np.abs(ax2.get_ylim())))  # Symmetrize y-limits\n",
      "        ax2.get_yaxis().get_major_formatter().set_powerlimits((-2, 4))  # Force scientific notation\n",
      "\n",
      "        # Plot ratio of spectrum/model (or can do scaled residuals as res/m)\n",
      "        ax3 = plt.subplot2grid((5,3), (4,col), sharex=ax1)  # Share axis\n",
      "        ax3.errorbar(x, y/m, xerr=xE, yerr=yE/m, fmt='none', ecolor=clr, capsize=0, alpha=1)\n",
      "        ax3.axhline(1, c='k')\n",
      "\n",
      "        fplot('Energy (keV)', 'Ratio',\n",
      "              ax=ax3, axargs='tight', scales=('log','linear'))\n",
      "\n",
      "        # Fix plot formatting\n",
      "        ax3.set_xticks([0.5, 1, 2, 5])\n",
      "        ax3.get_xaxis().set_major_formatter(matplotlib.ticker.ScalarFormatter())\n",
      "        ax3.set_xlim([0.5,7])\n",
      "\n",
      "    # For the spectra/residuals to share axes\n",
      "    fig.subplots_adjust(hspace=0, wspace=0.25)\n",
      "    plt.savefig(plt_outdir+'spec_{:02d}.pdf'.format(n), dpi=300)\n",
      "    print 'Region ' + str(n)\n",
      "    plt.show()"
     ],
     "language": "python",
     "metadata": {},
     "outputs": []
    },
    {
     "cell_type": "heading",
     "level": 1,
     "metadata": {},
     "source": [
      "2. Generate a table of best fit parameters for all spectra"
     ]
    },
    {
     "cell_type": "heading",
     "level": 2,
     "metadata": {},
     "source": [
      "2.1 Plain best-fit power law parameters, both rim and downstream sections"
     ]
    },
    {
     "cell_type": "markdown",
     "metadata": {},
     "source": [
      "The table needs just mild hand-tweaking\n",
      "(in particular, add separate multicolumn headers for downstream/upstream parameters)."
     ]
    },
    {
     "cell_type": "code",
     "collapsed": true,
     "input": [
      "ltab = LatexTable(['Region'] +  2*[r'$\\mathrm{N_H}$ (cm$^{-2}$)', r'$\\Gamma$ (-)', r'$\\chi^2_{\\mathrm{red}}$ (dof)'],\n",
      "                  ['{:d}'] + 2*['{:0.2f}', '{:0.2f}', '{:0.2f} ({:d})'],\n",
      "                  'Spectrum best fit parameters', prec=2)\n",
      "\n",
      "for rdict, n in rdu.regdict_load(fwhm_root):\n",
      "    \n",
      "    lrow = [n]\n",
      "    \n",
      "    for sect in ['dn', 'up']:\n",
      "        \n",
      "        fname = eval('spec_root_' + sect) + '_src{:d}_grp.json'.format(n)  # May have to change to {:02d}\n",
      "        spec_info = jsu.load(fname)                                        # if/when I fix spectrum fitting code\n",
      "        \n",
      "        nh = spec_info['comps']['phabs']['nH']['value']\n",
      "        gamma = spec_info['comps']['powerlaw']['PhoIndex']['value']\n",
      "        dof = spec_info['dof']\n",
      "        chi2r = spec_info['fitstat'][1] / dof\n",
      "        \n",
      "        lrow.extend([nh, gamma, chi2r, dof])\n",
      "    \n",
      "    ltab.add_row(*lrow)\n",
      "\n",
      "print ltab"
     ],
     "language": "python",
     "metadata": {},
     "outputs": []
    },
    {
     "cell_type": "heading",
     "level": 2,
     "metadata": {},
     "source": [
      "2.2 Table for fits with Si/S lines fitted or excised, downstream only"
     ]
    },
    {
     "cell_type": "code",
     "collapsed": true,
     "input": [
      "ltab = LatexTable(['Region'] + [r'$\\mt{N_H}$ (cm$^{-2}$)', r'$\\Gamma$ (-)',\n",
      "                                r'$E_{\\mt{Si}}$', r'$W_{\\mt{Si}}$', r'$E_{\\mt{S}}$', r'$W_{\\mt{S}}$',\n",
      "                                r'$\\chi^2_{\\mt{red}}$ (dof)',\n",
      "                                r'$\\mt{N_H}$ (cm$^{-2}$)', r'$\\Gamma$ (-)', r'$\\chi^2_{\\mt{red}}$ (dof)'],\n",
      "                  ['{:d}'] + 6*['{:0.2f}'] + ['{:0.2f} ({:d})'] + 2*['{:0.2f}'] + ['{:0.2f} ({:d})'],\n",
      "                  'Spectrum best fit parameters', prec=2)\n",
      "\n",
      "for rdict, n in rdu.regdict_load(fwhm_root):\n",
      "    \n",
      "    lrow = [n]\n",
      "    \n",
      "    for ftype in ['line', 'excise']:\n",
      "        \n",
      "        fname = spec_root_dn + '_{}_src{:d}_grp.json'.format(ftype, n)\n",
      "        spec_info = jsu.load(fname)\n",
      "        \n",
      "        nh = spec_info['comps']['phabs']['nH']['value']\n",
      "        gamma = spec_info['comps']['powerlaw']['PhoIndex']['value']\n",
      "        dof = spec_info['dof']\n",
      "        chi2r = spec_info['fitstat'][1] / dof\n",
      "        \n",
      "        if ftype == 'line':\n",
      "            eq_si = spec_info['eqwidth-si'] if n != 19 else -1\n",
      "            eq_s = spec_info['eqwidth-s'] if n != 19 else -1\n",
      "            \n",
      "            e_si = spec_info['comps']['gaussian']['LineE']['value']\n",
      "            e_s = spec_info['comps']['gaussian_4']['LineE']['value']\n",
      "        \n",
      "            lrow.extend([nh, gamma, e_si, eq_si, e_s, eq_s, chi2r, dof])\n",
      "        \n",
      "        else:\n",
      "            lrow.extend([nh, gamma, chi2r, dof])\n",
      "    \n",
      "    ltab.add_row(*lrow)\n",
      "\n",
      "print ltab"
     ],
     "language": "python",
     "metadata": {},
     "outputs": []
    },
    {
     "cell_type": "heading",
     "level": 2,
     "metadata": {},
     "source": [
      "2.3 Fits with srcutlog, upstream (rim) spectra only"
     ]
    },
    {
     "cell_type": "code",
     "collapsed": false,
     "input": [
      "ltab = LatexTable(['Region', r'$\\mathrm{N_H}$ (cm$^{-2}$)', r'$\\nu_{\\mt{cut}}$ (keV/$h$)', r'$\\chi^2_{\\mathrm{red}}$ (dof)'],\n",
      "                  ['{:d}', '{:0.2f}', '{:0.2f}', '{:0.2f} ({:d})'],\n",
      "                  'Spectrum best fit parameters', prec=2)\n",
      "\n",
      "for rdict, n in rdu.regdict_load(fwhm_root):\n",
      "    \n",
      "    fname = spec_root_up + '_srcutlog_src{:d}_grp.json'.format(n)\n",
      "    spec_info = jsu.load(fname)\n",
      "    \n",
      "    lrow = [n]\n",
      "\n",
      "    nh = spec_info['comps']['phabs']['nH']['value']\n",
      "    logbreak = spec_info['comps']['srcutlog']['break']['value']\n",
      "    dof = spec_info['dof']\n",
      "    chi2r = spec_info['fitstat'][1] / dof\n",
      "    \n",
      "    nu_break = 10**logbreak\n",
      "    en_break = 4.135667517e-18 * nu_break  # h = 4.135667517e-18 keV s\n",
      "\n",
      "    lrow.extend([nh, en_break, chi2r, dof])\n",
      "    \n",
      "    ltab.add_row(*lrow)\n",
      "\n",
      "print ltab"
     ],
     "language": "python",
     "metadata": {},
     "outputs": []
    },
    {
     "cell_type": "markdown",
     "metadata": {},
     "source": [
      "Another variant, to tabulate rim fits with srcutlog"
     ]
    },
    {
     "cell_type": "heading",
     "level": 1,
     "metadata": {},
     "source": [
      "3. Generate table of all measured FWHMs"
     ]
    },
    {
     "cell_type": "markdown",
     "metadata": {},
     "source": [
      "LaTeX table of FWHM and m_E values from region dicts w/ FWHM data.\n",
      "Output looks like:\n",
      "\n",
      "    region, 0.7-1kev, 1-2kev, 2-7kev, 0.7-1kev, 1-2kev, 2-7kev\n",
      "    1       fwhm      fwhm    fwhm    m_E       m_E     m_E\n",
      "    2       ...\n",
      "\n",
      "When hand-tweaking: divide FWHMs into filaments and build a nice header.\n",
      "\n",
      "First, define $m_{\\mathrm{E}}$ and its error, following Sean."
     ]
    },
    {
     "cell_type": "code",
     "collapsed": false,
     "input": [
      "def m_expt(ens, widths):\n",
      "    \"\"\"Calculated following Ressler et al. [2014]\n",
      "    Output array size is one less than that of ens/widths\n",
      "    \"\"\"\n",
      "    e2, e1 = ens[1:], ens[:-1]\n",
      "    w2, w1 = widths[1:], widths[:-1]\n",
      "    return np.log(w2/w1) / np.log(e2/e1)\n",
      "\n",
      "def m_expt_err(ens, widths, eps):\n",
      "    \"\"\"Propagate filament width errors in quadrature\n",
      "    Output array size is one less than that of ens/widths\n",
      "    \"\"\"\n",
      "    e2, e1 = ens[1:], ens[:-1]\n",
      "    w2, w1 = widths[1:], widths[:-1]\n",
      "    w2e, w1e = eps[1:], eps[:-1]\n",
      "    \n",
      "    return 1./np.log(e2 / e1) * np.sqrt((w1e/w1)**2 + (w2e/w2)**2)"
     ],
     "language": "python",
     "metadata": {},
     "outputs": []
    },
    {
     "cell_type": "markdown",
     "metadata": {},
     "source": [
      "For $m_{\\mathrm{E}}$ values, only list 4 columns since they are computed in between our energy bands."
     ]
    },
    {
     "cell_type": "code",
     "collapsed": false,
     "input": [
      "ltab = LatexTable(['Region'] + labels_nice + labels_nice[1:],\n",
      "                  ['{}'] + [2]*len(labels) + [1]*(len(labels)-1),\n",
      "                  'FWHMs (replace w/ filament headers!)',\n",
      "                  prec=2)\n",
      "\n",
      "# Store data from each region for averaging at the end\n",
      "n_regs = rdu.get_nregs(fwhm_root)\n",
      "data_all = np.empty((n_regs, len(labels))) * float('nan')\n",
      "m_e_all = np.empty((n_regs, len(labels) - 1)) * float('nan')\n",
      "\n",
      "for rdict, n in rdu.regdict_load(fwhm_root):\n",
      "    # Load data\n",
      "    data = np.array([rdict[lab]['fwhm'] for lab in labels])\n",
      "    errs = [rdict[lab]['errs'] for lab in labels]  # neg, pos\n",
      "    eps = np.mean(errs, axis=1)  # average errors for calculations/fits\n",
      "    inds = (np.where(np.isfinite(data)))[0]\n",
      "\n",
      "    # Compute m_E using lower energy values\n",
      "    me = m_expt(lowerE, data)\n",
      "    meeps = m_expt_err(lowerE, data, eps)\n",
      "    \n",
      "    # Aggregate data from each region\n",
      "    data_all[n-1,:] = data\n",
      "    m_e_all[n-1,:] = me\n",
      "\n",
      "    # Build row for latex table\n",
      "    ltr_fwhm = ['{:d}'.format(n)]\n",
      "    for datv, errv in zip(data, errs):\n",
      "        ltr_fwhm.append(datv)\n",
      "        ltr_fwhm.extend(errv)\n",
      "    ltr_me = []\n",
      "    for mev, meepsv in zip(me, meeps):\n",
      "        ltr_me.append(mev)\n",
      "        ltr_me.append(meepsv)\n",
      "    ltr_all = ltr_fwhm + ltr_me  # Join FWHMs, m_E on one row\n",
      "    ltab.add_row(*ltr_all)\n",
      "\n",
      "ltr_all = ['Mean']\n",
      "fwhms_avg = np.nanmean(data_all, axis=0)\n",
      "fwhms_n = np.sum(~np.isnan(data_all),axis=0)\n",
      "fwhms_avg_err = np.nanstd(data_all, ddof=1, axis=0) / np.sqrt(fwhms_n)\n",
      "m_e_avg = np.nanmean(m_e_all, axis=0)\n",
      "m_e_n = np.sum(~np.isnan(m_e_all),axis=0)\n",
      "m_e_avg_err = np.nanstd(m_e_all, ddof=1, axis=0) / np.sqrt(m_e_n)\n",
      "\n",
      "for fwhm, std in zip(fwhms_avg, fwhms_avg_err):\n",
      "    ltr_all.extend([fwhm, std, std])\n",
      "for m_e, std in zip(m_e_avg, m_e_avg_err):\n",
      "    ltr_all.extend([m_e, std])\n",
      "ltab.add_row(*ltr_all)\n",
      "\n",
      "ltab_out = str(ltab)\n",
      "_ = re.sub(r'\\}\\$ & (\\$[^{])', r'}$\\n  & \\1', ltab_out)  # Insert line breaks between FWHMs / m_E values\n",
      "_ = re.sub(r'\\$\\{nan\\}\\^\\{\\+nan\\}_\\{-nan\\}\\$', r'{}', _)  # Remove FWHM nans\n",
      "print re.sub(r'\\$nan\\$ & \\$nan\\$', r'\\multicolumn{2}{c}{}', _)  # Remove m_E nans"
     ],
     "language": "python",
     "metadata": {},
     "outputs": []
    }
   ],
   "metadata": {}
  }
 ]
}