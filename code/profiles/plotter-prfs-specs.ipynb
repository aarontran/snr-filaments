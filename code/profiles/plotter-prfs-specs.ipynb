{
 "metadata": {
  "name": "",
  "signature": "sha256:b59ea862025cfd43fc1c6c80c32cb6f480078a76917acc79da2027aef7a1e49b"
 },
 "nbformat": 3,
 "nbformat_minor": 0,
 "worksheets": [
  {
   "cells": [
    {
     "cell_type": "heading",
     "level": 1,
     "metadata": {},
     "source": [
      "Generate plots and tables of profile fits and spectra for paper"
     ]
    },
    {
     "cell_type": "markdown",
     "metadata": {},
     "source": [
      "1. Plot profiles in all bands with fits and FWHM locations\n",
      "2. Plot highest energy band (4.5-7keV) with locations of spectra extraction\n",
      "3. Tabulate spectrum fits"
     ]
    },
    {
     "cell_type": "code",
     "collapsed": true,
     "input": [
      "%pylab --no-import-all\n",
      "%matplotlib inline\n",
      "%load_ext autoreload\n",
      "%autoreload 2\n",
      "# ('gtk', 'inline', 'osx', 'qt', 'qt4', 'tk', 'wx')\n",
      "from __future__ import division\n",
      "\n",
      "import cPickle as pickle\n",
      "import json\n",
      "import json_utils as jsu\n",
      "from nice_tables import ListTable, LatexTable\n",
      "import regdict_utils as rdu\n",
      "\n",
      "# For reference\n",
      "from fplot import fplot, show_mplrc_settings\n",
      "show_mplrc_settings()"
     ],
     "language": "python",
     "metadata": {},
     "outputs": []
    },
    {
     "cell_type": "heading",
     "level": 1,
     "metadata": {},
     "source": [
      "0. Import data from FWHM and spectra fits"
     ]
    },
    {
     "cell_type": "code",
     "collapsed": true,
     "input": [
      "labels = ['0.7-1kev', '1-1.7kev', '2-3kev', '3-4.5kev', '4.5-7kev']\n",
      "lowerE = [0.7, 1, 2, 3, 4.5]  # Lower, higher energy limits (what for, I don't know.  m_E calculation?)\n",
      "highE = [1, 1.7, 2., 3., 4.5, 7.]\n",
      "labels_nice = [r'0.7--1 keV', r'1--1.7 keV', r'2--3 keV', r'3--4.5 keV', r'4.5--7 keV']\n",
      "\n",
      "#flmt_regs = {1:[1,10,11,12,13], 2:[2,3], 3:[4,5], 4:[6,7], 5:[8,9]}  # regions-good-4.reg\n",
      "\n",
      "fwhm_root = '../../data-tycho/regions-4/fwhms/fwhms'  # 'fwhms_{:02d}.json/pkl\n",
      "spec_root_up = '../../data-tycho/regions-4/spectra/reg4up_full/fit/fit'  # _src{d}_grp.json/npz/log\n",
      "spec_root_dn = '../../data-tycho/regions-4/spectra/reg4down_full/fit/fit'\n",
      "\n",
      "plt_outroot = '../../data-tycho/regions-4/fwhms/plots/'"
     ],
     "language": "python",
     "metadata": {},
     "outputs": []
    },
    {
     "cell_type": "markdown",
     "metadata": {},
     "source": [
      "Region dict `rdict` keys labels to band dicts;<br>\n",
      "band dict keys are: `['f', 'lims', 'wtype', 'data', 'wlen', 'pars', 'errs', 'fwhm']`.<br>\n",
      "Spectrum `info` dict has keys `[u'fitstat', u'dof', u'ftype', u'pars', u'fname']`,<br>\n",
      "spectrum `data` dict has keys `['bkg', 'm', 'yE', 'xE', 'y', 'x']`.\n",
      "\n",
      "I preload the spectrum cuts for all regions.  All other data is loaded on the fly."
     ]
    },
    {
     "cell_type": "code",
     "collapsed": true,
     "input": [
      "spec_cuts_all = rdu.speccut_load(fwhm_root)"
     ],
     "language": "python",
     "metadata": {},
     "outputs": []
    },
    {
     "cell_type": "heading",
     "level": 1,
     "metadata": {},
     "source": [
      "1. Plot profiles and spectra for all regions"
     ]
    },
    {
     "cell_type": "markdown",
     "metadata": {},
     "source": [
      "If we show multiple profiles, add the region number"
     ]
    },
    {
     "cell_type": "code",
     "collapsed": true,
     "input": [
      "for rdict, n in rdu.regdict_load(fwhm_root):\n",
      "    if n != 1:\n",
      "        break\n",
      "    \n",
      "    spec_up = spec_root_up + '_src{:d}_grp'.format(n)  # May have to change to {:02d}\n",
      "    spec_dn = spec_root_dn + '_src{:d}_grp'.format(n)  # if/when I fix spectrum fitting code\n",
      "    \n",
      "    spec_up_info = jsu.load(spec_up + '.json')\n",
      "    spec_up_data = np.load(spec_up + '.npz')\n",
      "    spec_dn_info = jsu.load(spec_dn + '.json')\n",
      "    spec_dn_data = np.load(spec_dn + '.npz')\n",
      "    \n",
      "    spec_cut = spec_cuts_all[np.where(spec_cuts_all[:,0] == n)][0][1:]\n",
      "    \n",
      "    # ================================\n",
      "    # Plot all profiles / energy bands\n",
      "    # ================================\n",
      "    fig, axes = plt.subplots(1, len(labels), figsize=(2*len(labels),2))\n",
      "\n",
      "    for lab, ax, lab_nice in zip(labels, axes, labels_nice):  # Iterate over labels, not rdict, to enforce ordering\n",
      "        rdu.plot_fwhm_fit(rdict[lab], ax)\n",
      "        if lab != '0.7-1kev':\n",
      "            ax.set_ylabel('')\n",
      "        ax.set_title(lab_nice)\n",
      "        print 'FWHM limits:', rdict[lab]['lims']\n",
      "\n",
      "    plt.tight_layout()\n",
      "    #plt.savefig(plt_outroot+'prfs_{:02d}.pdf'.format(n), dpi=300)  # dpi irrelevant here\n",
      "    plt.show()"
     ],
     "language": "python",
     "metadata": {},
     "outputs": []
    },
    {
     "cell_type": "markdown",
     "metadata": {},
     "source": [
      "Now for spectra.  There may be better ways to present this, but it'll work.\n",
      "\n",
      "For the \"FINAL\" version, need to hand-twiddle the y-axis labels because they look like crap."
     ]
    },
    {
     "cell_type": "code",
     "collapsed": true,
     "input": [
      "for rdict, n in rdu.regdict_load(fwhm_root):\n",
      "    if n != 1:\n",
      "        break\n",
      "    \n",
      "    spec_up = spec_root_up + '_src{:d}_grp'.format(n)  # May have to change to {:02d}\n",
      "    spec_dn = spec_root_dn + '_src{:d}_grp'.format(n)  # if/when I fix spectrum fitting code\n",
      "    \n",
      "    spec_up_info = jsu.load(spec_up + '.json')\n",
      "    spec_up_data = np.load(spec_up + '.npz')\n",
      "    spec_dn_info = jsu.load(spec_dn + '.json')\n",
      "    spec_dn_data = np.load(spec_dn + '.npz')\n",
      "    \n",
      "    cuts = spec_cuts_all[np.where(spec_cuts_all[:,0] == n)][0][1:]\n",
      "    \n",
      "    # ===================================\n",
      "    # Show spectra and extraction regions\n",
      "    # ===================================\n",
      "\n",
      "    fig = plt.figure(figsize=(9,3))\n",
      "\n",
      "    # Plot highest energy profile with selection regions\n",
      "    ax0 = plt.subplot2grid((5,3), (0,0), rowspan=5)\n",
      "    ax0.axvspan(cuts[0], cuts[1], facecolor='b', alpha=0.15)\n",
      "    ax0.axvspan(cuts[1], cuts[2], facecolor='k', alpha=0.15)\n",
      "    rdu.plot_smoothing_cut(rdict[labels[-1]], ax0, show_smth=False)\n",
      "\n",
      "    # Downstream, then upstream spectra\n",
      "    for sect, clr, col in zip(['dn', 'up'], ['b', 'k'], [1,2]):\n",
      "        \n",
      "        spec_info = eval('spec_'+sect+'_info')\n",
      "        spec_data = eval('spec_'+sect+'_data')\n",
      "\n",
      "        # Lazily initialize x, y, xE, yE, m, bkg\n",
      "        for key in spec_data:\n",
      "            exec(\"{k} = spec_data['{k}']\".format(k = key))\n",
      "        res = y - m  # Signed residuals\n",
      "        chi2r = spec_info['fitstat'][1] / spec_info['dof']\n",
      "\n",
      "        # Plot spectrum\n",
      "        # use fmt='none', color=clr to suppress markers/lines\n",
      "        # requires matplotlib 1.4.0, use fmt=None otherwise\n",
      "        # changed in commit:9c99f28c826ea076be547a9f69178e541dd54af3\n",
      "        ax1 = plt.subplot2grid((5,3), (0,col), rowspan=3)\n",
      "        ax1.errorbar(x, y, xerr=xE, yerr=yE, fmt='none', ecolor=clr, capsize=0, alpha=1)\n",
      "        ax1.plot(x, m, '-k', alpha=1)\n",
      "        fplot('', r'Counts s$^{-1}$ keV$^{-1}$', axargs='tight',\n",
      "              ax=ax1, scales=('log','log'))\n",
      "\n",
      "        # Add reduced chi^2 annotation\n",
      "        chi2r_str = r'$\\chi^2_{\\mathrm{red}}=' + '{:0.2f}$'.format(chi2r)\n",
      "        ax1.text(0.25, 0.14, chi2r_str, transform=ax1.transAxes,\n",
      "                horizontalalignment='center')\n",
      "        \n",
      "        # Adjust horizontal spacing before changing vertical space,\n",
      "        # to get shared x-axis in spectrum+residual plots\n",
      "        plt.tight_layout()\n",
      "\n",
      "        # Share x-axis with residual plot (stackoverflow.com/q/21661526)\n",
      "        # Thus hide x ticklabels.  Set xticks for consistency\n",
      "        ax1.set_xlim([0.5,7])\n",
      "        ax1.set_xticks([0.5, 1, 2, 5])  # <-- adjust this as needed\n",
      "        ax1.get_xaxis().set_major_formatter(matplotlib.ticker.ScalarFormatter())\n",
      "        plt.setp(ax1.get_xticklabels(), visible=False)\n",
      "\n",
      "        # Plot absolute residuals (no scaling)\n",
      "        ax2 = plt.subplot2grid((5,3), (3,col), sharex=ax1)\n",
      "        ax2.errorbar(x, res, xerr=xE, yerr=yE, fmt='none', ecolor=clr, capsize=0, alpha=1)\n",
      "        ax2.axhline(0, c='k')\n",
      "        ax2.set_xscale('log')\n",
      "        ax2.set_ylabel(r'$\\chi$')\n",
      "        ax2.axis('tight')\n",
      "\n",
      "        # Fix plot formatting\n",
      "        ax2.set_xlim([0.5,7])\n",
      "        ax2.set_xticks([0.5, 1, 2, 5])\n",
      "        ax2.get_xaxis().set_major_formatter(matplotlib.ticker.ScalarFormatter())\n",
      "        plt.setp(ax2.get_xticklabels(), visible=False)\n",
      "\n",
      "        ax2.set_ylim(-1*max(np.abs(ax2.get_ylim())),max(np.abs(ax2.get_ylim())))  # Symmetrize y-limits\n",
      "        ax2.get_yaxis().get_major_formatter().set_powerlimits((-2, 4))  # Force scientific notation\n",
      "\n",
      "        # Plot ratio of spectrum/model (or can do scaled residuals as res/m)\n",
      "        ax3 = plt.subplot2grid((5,3), (4,col), sharex=ax1)  # Share axis\n",
      "        ax3.errorbar(x, y/m, xerr=xE, yerr=yE/m, fmt='none', ecolor=clr, capsize=0, alpha=1)\n",
      "        ax3.axhline(1, c='k')\n",
      "\n",
      "        fplot('Energy (keV)', 'Ratio',\n",
      "              ax=ax3, axargs='tight', scales=('log','linear'))\n",
      "\n",
      "        # Fix plot formatting\n",
      "        ax3.set_xticks([0.5, 1, 2, 5])\n",
      "        ax3.get_xaxis().set_major_formatter(matplotlib.ticker.ScalarFormatter())\n",
      "        ax3.set_xlim([0.5,7])\n",
      "\n",
      "    # For the spectra/residuals to share axes\n",
      "    fig.subplots_adjust(hspace=0, wspace=0.25)\n",
      "\n",
      "    plt.savefig(plt_outroot+'spec_{:02d}.pdf'.format(n), dpi=300)\n",
      "    plt.show()"
     ],
     "language": "python",
     "metadata": {},
     "outputs": []
    },
    {
     "cell_type": "heading",
     "level": 1,
     "metadata": {},
     "source": [
      "2. Generate a table of best fit parameters for all spectra"
     ]
    },
    {
     "cell_type": "markdown",
     "metadata": {},
     "source": [
      "The table needs just mild hand-tweaking\n",
      "(in particular, add separate multicolumn headers for downstream/upstream parameters)."
     ]
    },
    {
     "cell_type": "code",
     "collapsed": true,
     "input": [
      "ltab = LatexTable(['Region'] +  2*[r'$n$ (-)', r'$n_H$ (cm$^{-2}$)', r'$\\chi^2_{\\mathrm{red}}$ (DOFs)'],\n",
      "                  ['{:d}'] + 2*['{:0.2f}', '{:0.2f}', '{:0.2f} ({:d})'],\n",
      "                  'Spectrum best fit parameters', prec=2)\n",
      "\n",
      "for rdict, n in rdu.regdict_load(fwhm_root):\n",
      "    \n",
      "    spec_up = spec_root_up + '_src{:d}_grp'.format(n)  # May have to change to {:02d}\n",
      "    spec_dn = spec_root_dn + '_src{:d}_grp'.format(n)  # if/when I fix spectrum fitting code\n",
      "    \n",
      "    spec_up_info = jsu.load(spec_up + '.json')\n",
      "    spec_up_data = np.load(spec_up + '.npz')\n",
      "    spec_dn_info = jsu.load(spec_dn + '.json')\n",
      "    spec_dn_data = np.load(spec_dn + '.npz')\n",
      "    \n",
      "    lrow = [n]\n",
      "\n",
      "    # Downstream, then upstream spectra\n",
      "    for sect, clr, col in zip(['dn', 'up'], ['b', 'k'], [1,2]):\n",
      "        \n",
      "        spec_info = eval('spec_'+sect+'_info')\n",
      "        \n",
      "        n = spec_info['pars']['PhoIndex']['value']\n",
      "        nh = spec_info['pars']['nH']['value']\n",
      "        dof = spec_info['dof']\n",
      "        chi2r = spec_info['fitstat'][1] / dof\n",
      "        \n",
      "        lrow.extend([n, nh, chi2r, dof])\n",
      "    \n",
      "    ltab.add_row(*lrow)\n",
      "\n",
      "print ltab"
     ],
     "language": "python",
     "metadata": {},
     "outputs": []
    }
   ],
   "metadata": {}
  }
 ]
}