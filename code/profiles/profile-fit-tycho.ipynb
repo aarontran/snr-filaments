{
 "metadata": {
  "name": "",
  "signature": "sha256:614a697b379d68038bae332a98fe8cd31e6c071be040f7bc0ee979efb969a69c"
 },
 "nbformat": 3,
 "nbformat_minor": 0,
 "worksheets": [
  {
   "cells": [
    {
     "cell_type": "heading",
     "level": 1,
     "metadata": {},
     "source": [
      "0. Profile fits and FWHM calculation for Tycho's SNR"
     ]
    },
    {
     "cell_type": "code",
     "collapsed": false,
     "input": [
      "%pylab --no-import-all\n",
      "%matplotlib inline\n",
      "# ('gtk', 'inline', 'osx', 'qt', 'qt4', 'tk', 'wx')\n",
      "%load_ext autoreload\n",
      "%autoreload 2\n",
      "\n",
      "import crvfit\n",
      "import fit_funcs as ff  # Profile fitting functions\n",
      "import regdict as rd"
     ],
     "language": "python",
     "metadata": {},
     "outputs": []
    },
    {
     "cell_type": "heading",
     "level": 1,
     "metadata": {},
     "source": [
      "1. Profile fitting procedure to customize"
     ]
    },
    {
     "cell_type": "code",
     "collapsed": false,
     "input": [
      "def fitter(x, y, y_err):\n",
      "    \"\"\"Fit the profile -- twiddle various parameters in here for fits to work nicely\n",
      "    Must not alter call, return signatures\n",
      "    \"\"\"\n",
      "    \n",
      "    # Call signature: ff.two_exp_simp(x, x0, Cu, Cd, wu, wd, Au)\n",
      "    f = ff.two_exp_simp\n",
      "    \n",
      "    pars = ['x0', 'Cu', 'Cd', 'wu', 'wd', 'Au']\n",
      "    prnt_pars = [par + ' = {:5.4g}' for par in pars]\n",
      "    prnt_pars = ', '.join(prnt_pars)\n",
      "    \n",
      "    # Freeze: x0\n",
      "    x0 = x[np.argmax(y)]\n",
      "    Cu = np.mean(y[-3:])  # The obvious guess\n",
      "    Cd = np.mean(y[:3]) / 3.  # Usually shoots under trough\n",
      "    wu = 0.5  # Upstream width\n",
      "    wd = 2.5  # Downstream width\n",
      "    Au = np.amax(y)/3.  # Upstream amplitude\n",
      "    init_guess = [x0, Cu, Cd, wu, wd, Au]\n",
      "    print ('Initial guesses: ' + prnt_pars).format(*init_guess)\n",
      "    \n",
      "    frz = [0]\n",
      "    popt, pcov, popt_all = crvfit.run_frz_fit(x, y, y_err, f, init_guess, frz)\n",
      "    print ('Fit (x0 frozen): ' + prnt_pars).format(*popt_all)\n",
      "    \n",
      "    # Unfreeze: x0; all parameters free\n",
      "    init_guess = popt_all\n",
      "    popt, pcov = crvfit.run_fit(x, y, y_err, f, init_guess)\n",
      "    print ('Fit (x0 thawed): ' + prnt_pars).format(*popt)\n",
      "    \n",
      "    # Get background level\n",
      "    y_bkg = max(0., min(popt[1], popt[2]))  # background level\n",
      "    \n",
      "    # Print useful fit information\n",
      "    print 'Chi-squared: {:0.3f}, dof: {:d}'.format(crvfit.chi2(x, y, y_err, f, popt), len(y)-len(popt))\n",
      "    print 'Reduced chi-squared: {:0.3f}'.format(crvfit.chi2red(x, y, y_err, f, popt))\n",
      "    prnt_errs = ['{}, {:0.2g}'.format(par, err) for par, err in zip(pars, np.sqrt(np.diag(pcov)))]\n",
      "    print 'Errors:', '; '.join(prnt_errs)\n",
      "    \n",
      "    return popt, pcov, f, y_bkg"
     ],
     "language": "python",
     "metadata": {},
     "outputs": []
    },
    {
     "cell_type": "heading",
     "level": 1,
     "metadata": {},
     "source": [
      "2. Configuration cell"
     ]
    },
    {
     "cell_type": "code",
     "collapsed": false,
     "input": [
      "inroot = '../../data-tycho/regions-4/profiles/prf-proc'\n",
      "outroot = '../../data-tycho/regions-4/fwhms/fwhms-cap-subbkg'\n",
      "labels = ['0.7-1kev', '1-1.7kev', '2-3kev', '3-4.5kev', '4.5-7kev']\n",
      "\n",
      "blacklist = {2:['0.7-1kev'],\n",
      "             6:['0.7-1kev'],\n",
      "             8:['0.7-1kev']}\n",
      "\n",
      "# Windowing used for prf-proc\n",
      "wtype = 'hanning'\n",
      "wlen = 21\n",
      "\n",
      "# Stretch factors for error computation\n",
      "dx = 5\n",
      "xconst = 50"
     ],
     "language": "python",
     "metadata": {},
     "outputs": []
    },
    {
     "cell_type": "heading",
     "level": 1,
     "metadata": {},
     "source": [
      "3. Check that data cuts look okay; manually make/edit blacklist"
     ]
    },
    {
     "cell_type": "code",
     "collapsed": true,
     "input": [
      "rd.main_check(inroot, labels, wlen, wtype)"
     ],
     "language": "python",
     "metadata": {},
     "outputs": []
    },
    {
     "cell_type": "code",
     "collapsed": true,
     "input": [
      "rd.main_fwhm(inroot, outroot, labels, fitter, blacklist, wlen, wtype, dx=dx, xconst=xconst, cap=True, sub_bkg=True)"
     ],
     "language": "python",
     "metadata": {},
     "outputs": []
    }
   ],
   "metadata": {}
  }
 ]
}