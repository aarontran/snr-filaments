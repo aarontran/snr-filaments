{
 "metadata": {
  "name": "",
  "signature": "sha256:f990d64aca6608c3f804f557f24d88408b21646ca43f25cd565d646353444cf4"
 },
 "nbformat": 3,
 "nbformat_minor": 0,
 "worksheets": [
  {
   "cells": [
    {
     "cell_type": "heading",
     "level": 1,
     "metadata": {},
     "source": [
      "Kepler fitting notebook"
     ]
    },
    {
     "cell_type": "code",
     "collapsed": false,
     "input": [
      "%pylab --no-import-all\n",
      "%matplotlib inline\n",
      "# ('gtk', 'inline', 'osx', 'qt', 'qt4', 'tk', 'wx')\n",
      "%load_ext autoreload\n",
      "%autoreload 2\n",
      "from fplot import fplot, show_mplrc_settings\n",
      "from IPython.core.display import display, Image, HTML, Math, Latex\n",
      "\n",
      "from IPython import parallel\n",
      "\n",
      "from __future__ import division\n",
      "\n",
      "import cPickle as pickle\n",
      "from glob import glob\n",
      "\n",
      "import fullmodel_recompile\n",
      "fullmodel_recompile.main()\n",
      "\n",
      "import models as models\n",
      "import models_exec as mex\n",
      "import models_disp as mdsp\n",
      "import parutils\n",
      "import regdict_utils as rdu\n",
      "import snr_catalog as snrcat\n",
      "\n",
      "# For reference\n",
      "show_mplrc_settings()"
     ],
     "language": "python",
     "metadata": {},
     "outputs": []
    },
    {
     "cell_type": "heading",
     "level": 1,
     "metadata": {},
     "source": [
      "1. Read in data (fwhms, full model grids), interpolate shock velocites"
     ]
    },
    {
     "cell_type": "heading",
     "level": 2,
     "metadata": {},
     "source": [
      "1.1 Store data, create Fitter() generators"
     ]
    },
    {
     "cell_type": "code",
     "collapsed": true,
     "input": [
      "def init_tab_ab(fexpr, abvals):\n",
      "    \"\"\"Read in tables for list of ab values, given glob expr\n",
      "    Assumes ab values uniquely specified in filename with {:0.2e}\"\"\"\n",
      "    tabs = {}\n",
      "    flist = glob(fexpr)\n",
      "    \n",
      "    for ab in abvals:\n",
      "        abstr = '{:0.2e}'.format(ab)\n",
      "        tabmatch = [x for x in flist if abstr in x]\n",
      "        if len(tabmatch) > 1:  # Not expected\n",
      "            print 'warning, found more than one match to given ab value'\n",
      "            print 'taking first one: {}'.format(tabmatch[0])\n",
      "        with open(tabmatch[0], 'r') as fpkl:\n",
      "            tabs[ab] = pickle.load(fpkl)\n",
      "    return tabs"
     ],
     "language": "python",
     "metadata": {},
     "outputs": []
    },
    {
     "cell_type": "code",
     "collapsed": false,
     "input": [
      "KEPLER_KEVS = np.array([0.7, 1., 2., 4.])\n",
      "KEPLER_LABELS = ['0.7-1kev', '1-2kev', '2-4kev', '4-7kev']\n",
      "\n",
      "KEPLER_DATA = mdsp.init_data('../../data-kepler/regions-3/fwhms-subbkg/fwhm', KEPLER_KEVS, KEPLER_LABELS)\n",
      "\n",
      "with open('tables/Kepler_gen_2014-10-31_grid_6-151-20.pkl', 'r') as fpkl:\n",
      "    KEPLER_TAB = pickle.load(fpkl)\n",
      "\n",
      "KEPLER_AB_VALS = [0.5, 0.05, 0.04, 0.03, 0.02, 0.015, 0.012, 0.011, 0.01,\n",
      "                  0.009, 0.008, 0.007, 0.006, 0.005, 0.004, 0.003, 0.002]\n",
      "KEPLER_TABS_DAMP = init_tab_ab('tables/Kepler_gen_2014-1[01]-[03][12]_grid_1-151-50_ab-*.pkl', KEPLER_AB_VALS)\n",
      "\n",
      "KEPLER_OUTDIR = '../../data-kepler/regions-3/fwhms-subbkg/model-fits/'  # Make this directory by hand..."
     ],
     "language": "python",
     "metadata": {},
     "outputs": []
    },
    {
     "cell_type": "code",
     "collapsed": false,
     "input": [
      "def gen_kepler(fmod=None, verbose=True):\n",
      "    for n in KEPLER_DATA:\n",
      "        kevs, data, eps, inds = KEPLER_DATA[n]\n",
      "        tab = KEPLER_TAB\n",
      "        \n",
      "        # Build fitter object\n",
      "        fobj = mex.Fitter(snrcat.make_kepler(), kevs, data, eps, tab,\n",
      "                          inds=inds, verbose=verbose)\n",
      "        fobj.title = ('Region {}').format(n)\n",
      "        \n",
      "        if fmod:\n",
      "            fobj = fmod(fobj)\n",
      "        yield fobj, n\n",
      "\n",
      "def gen_kepler_damp(ab, fmod=None, verbose=True):\n",
      "    for n in KEPLER_DATA:\n",
      "        kevs, data, eps, inds = KEPLER_DATA[n]\n",
      "        tab = KEPLER_TABS_DAMP[ab]\n",
      "        \n",
      "        # Build fitter object\n",
      "        fobj = mex.Fitter(snrcat.make_kepler(), kevs, data, eps, tab,\n",
      "                          inds=inds, verbose=verbose)\n",
      "        fobj.title = ('Region {}').format(n)\n",
      "        \n",
      "        if fmod:\n",
      "            fobj = fmod(fobj)\n",
      "        yield fobj, n"
     ],
     "language": "python",
     "metadata": {},
     "outputs": []
    },
    {
     "cell_type": "heading",
     "level": 2,
     "metadata": {},
     "source": [
      "1.2 Set up clients for parallel computation"
     ]
    },
    {
     "cell_type": "markdown",
     "metadata": {},
     "source": [
      "Possibly useful [SE question](http://stackoverflow.com/q/15289168), and [another](http://stackoverflow.com/q/18086299) (both answered by \"Min\" Ragan-Kelley (`minrk`)).  As it would be useful to view stdout as computation progresses..."
     ]
    },
    {
     "cell_type": "code",
     "collapsed": false,
     "input": [
      "dview = parutils.get_dview()\n",
      "%px import models_disp as mdsp\n",
      "%px %load_ext autoreload\n",
      "%px %autoreload 2"
     ],
     "language": "python",
     "metadata": {},
     "outputs": []
    },
    {
     "cell_type": "heading",
     "level": 1,
     "metadata": {},
     "source": [
      "2. Simple model fits to Kepler, applied to all regions (no FWHM averaging)"
     ]
    },
    {
     "cell_type": "markdown",
     "metadata": {},
     "source": [
      "Need to account for shock velocity and try seeing what happens if we average.\n",
      "\n",
      "Also, does changing the different FWHM measurement approaches make a difference?  Here we might be able to quantify that.  Tons of questions and numbers and plots to produce and parse here."
     ]
    },
    {
     "cell_type": "code",
     "collapsed": true,
     "input": [
      "mu_vals = [0., 1./3, 0.5, 1, 1.5, 2.]\n",
      "fmt_vals = [':b', ':g', ':r', '-k', '-r', '-g']\n",
      "outroot = KEPLER_OUTDIR + 'simp-man_err'\n",
      "\n",
      "# Apply fit settings using factory function\n",
      "f_data = mdsp.build_dataf('simp', conf_intv=0.683,\n",
      "                          fit_kws={},\n",
      "                          err_kws={'method':'manual'})\n",
      "# Customize fitter settings\n",
      "def fitter_mod(fobj):\n",
      "    #fobj.snr.vs=4e8\n",
      "    return fobj\n",
      "\n",
      "dview.push(dict(f_data=f_data, mu_vals=mu_vals, outroot=outroot))\n",
      "plists = dview.map_async(lambda args: mdsp.generate_fits(f_data, args[0], args[1], mu_vals, outroot,\n",
      "                                                         save=True), gen_kepler(fitter_mod))"
     ],
     "language": "python",
     "metadata": {},
     "outputs": []
    },
    {
     "cell_type": "code",
     "collapsed": true,
     "input": [
      "#for _s in plists.stdout:\n",
      "#    print _s\n",
      "plists.display_outputs()"
     ],
     "language": "python",
     "metadata": {},
     "outputs": []
    },
    {
     "cell_type": "code",
     "collapsed": false,
     "input": [
      "for p_list, fobj in plists:\n",
      "    print fobj.title\n",
      "    ipytable, ltable = mdsp.generate_tabs(p_list, fobj.title, mu_vals)\n",
      "    display(ipytable)\n",
      "    mdsp.generate_plots(p_list, fobj, mu_vals, fmt_vals, ax=None)\n",
      "    plt.show()\n",
      "    print ltable, '\\n'"
     ],
     "language": "python",
     "metadata": {},
     "outputs": []
    },
    {
     "cell_type": "heading",
     "level": 2,
     "metadata": {},
     "source": [
      "2.2 Plot chisqr space"
     ]
    },
    {
     "cell_type": "code",
     "collapsed": false,
     "input": [
      "mu_vals = [0, 1./3, 0.5, 1, 1.5, 2]  # Plotting more mu values shows tendency for best fits to run off to mu=50...\n",
      "fmt_vals = [':r.', ':g.', ':b.', '-k.', '--c.', '--y.']\n",
      "eta2_vals = np.logspace(-3, 3, num=100, base=10)  # One extra decade in each direction, vs. gridded eta2...\n",
      "\n",
      "for fobj, n in gen_kepler():\n",
      "    plt.figure(figsize(5,3.7))\n",
      "    plt.title(fobj.title)\n",
      "    fobj.check_eta2_simp(eta2_vals, mu_vals, fmt_vals)\n",
      "    plt.show()"
     ],
     "language": "python",
     "metadata": {},
     "outputs": []
    },
    {
     "cell_type": "heading",
     "level": 1,
     "metadata": {},
     "source": [
      "3. Full model fits to Kepler data"
     ]
    },
    {
     "cell_type": "markdown",
     "metadata": {},
     "source": [
      "Code for sections 3.1, 3.2 is out of date.\n",
      "\n",
      "NOT YET UPDATED FOR KEPLER"
     ]
    },
    {
     "cell_type": "heading",
     "level": 2,
     "metadata": {},
     "source": [
      "3.1 Plot $(B_0, \\chi^2)$ space to check that grid resolves best $B_0$ (for various $\\mu$, $\\eta_2$)"
     ]
    },
    {
     "cell_type": "markdown",
     "metadata": {},
     "source": [
      "Subplots correspond to indiv. regions; this only plots the first 5 regions."
     ]
    },
    {
     "cell_type": "code",
     "collapsed": true,
     "input": [
      "mu_vals = [0, 1./3, 0.5, 1, 1.5, 2]\n",
      "fmt_vals = [':r.', ':g.', ':b.', '-k.', '--c.', '--y.']\n",
      "eta2_vals = np.sort(TABS[VS_VALS[0]][0].keys())  # Assumes same eta2 values for all mu\n",
      "\n",
      "for eta2 in eta2_vals[::10]:\n",
      "    header = 'Eta2 = {:0.2f}'.format(eta2)\n",
      "    print header\n",
      "    print '-'*len(header)\n",
      "    plt.figure(figsize=(20,8))\n",
      "    for fobj, i in zip(gen_tycho(), xrange(5)):\n",
      "        # Log scaling\n",
      "        plt.subplot(2,5,i+1)\n",
      "        plt.title(fobj.title)\n",
      "        plt.yscale('log')\n",
      "        fobj.check_B0_grid(eta2, mu_vals, fmt_vals)\n",
      "        # Linear scaling\n",
      "        plt.subplot(2,5,i+6)\n",
      "        fobj.check_B0_grid(eta2, mu_vals, fmt_vals)\n",
      "    plt.tight_layout()\n",
      "    plt.show()\n",
      "    print ''"
     ],
     "language": "python",
     "metadata": {},
     "outputs": []
    },
    {
     "cell_type": "heading",
     "level": 2,
     "metadata": {},
     "source": [
      "3.2 Plot $(\\eta_2, \\chi^2)$ space"
     ]
    },
    {
     "cell_type": "code",
     "collapsed": false,
     "input": [
      "mu_vals = [0, 1./3, 0.5, 1, 1.5, 2]\n",
      "fmt_vals = [':r.', ':g.', ':b.', '-k.', '--c.', '--y.']\n",
      "\n",
      "for fobj, n in gen_kepler():\n",
      "    plt.figure(figsize=(8,5))\n",
      "    plt.title(fobj.title)\n",
      "    fobj.check_eta2_grid(mu_vals, fmt_vals)\n",
      "    plt.show()"
     ],
     "language": "python",
     "metadata": {},
     "outputs": []
    },
    {
     "cell_type": "heading",
     "level": 2,
     "metadata": {},
     "source": [
      "3.3 Generate Table 8 with best fits + errors + plots etc..."
     ]
    },
    {
     "cell_type": "markdown",
     "metadata": {},
     "source": [
      "Double check the available kwargs to `build_dataf`"
     ]
    },
    {
     "cell_type": "code",
     "collapsed": false,
     "input": [
      "mdsp.build_dataf?"
     ],
     "language": "python",
     "metadata": {},
     "outputs": []
    },
    {
     "cell_type": "markdown",
     "metadata": {},
     "source": [
      "Determine fit properties, output root, etc."
     ]
    },
    {
     "cell_type": "code",
     "collapsed": false,
     "input": [
      "mu_vals = [0., 1./3, 0.5, 1, 1.5, 2.]\n",
      "fmt_vals = [':b', ':g', ':r', '-k', '-r', '-g']\n",
      "outroot = KEPLER_OUTDIR + 'full-std_err'\n",
      "\n",
      "# Apply fit settings using factory function\n",
      "f_data = mdsp.build_dataf('full', conf_intv=0.683,\n",
      "                          fit_kws={}, err_kws={'method':'stderr'})\n",
      "\n",
      "dview.push(dict(f_data=f_data, mu_vals=mu_vals, outroot=outroot))\n",
      "plists = dview.map_async(lambda args: mdsp.generate_fits(f_data, args[0], args[1], mu_vals, outroot,\n",
      "                                                         save=True), gen_kepler())"
     ],
     "language": "python",
     "metadata": {},
     "outputs": []
    },
    {
     "cell_type": "markdown",
     "metadata": {},
     "source": [
      "Print stdout while waiting"
     ]
    },
    {
     "cell_type": "code",
     "collapsed": false,
     "input": [
      "for _s in plists.stdout:\n",
      "    print _s\n",
      "    print '\\n','-'*72,'\\n'"
     ],
     "language": "python",
     "metadata": {},
     "outputs": []
    },
    {
     "cell_type": "markdown",
     "metadata": {},
     "source": [
      "Useful debugging attributes: http://ipython.org/ipython-doc/dev/parallel/parallel_details.html"
     ]
    },
    {
     "cell_type": "code",
     "collapsed": true,
     "input": [
      "print plists.status\n",
      "print plists.elapsed\n",
      "_ = [_cmpl - _strt for _cmpl, _strt in zip(plists.completed, plists.started)]\n",
      "for _a in _:\n",
      "    print _a"
     ],
     "language": "python",
     "metadata": {},
     "outputs": []
    },
    {
     "cell_type": "code",
     "collapsed": true,
     "input": [
      "plists.display_outputs()"
     ],
     "language": "python",
     "metadata": {},
     "outputs": []
    },
    {
     "cell_type": "markdown",
     "metadata": {},
     "source": [
      "Print results when done"
     ]
    },
    {
     "cell_type": "code",
     "collapsed": true,
     "input": [
      "idx = 1\n",
      "for p_list, fobj in plists:\n",
      "    print fobj.title\n",
      "    ipytable, ltable = mdsp.generate_tabs(p_list, fobj.title, mu_vals)\n",
      "    display(ipytable)\n",
      "    mdsp.generate_plots(p_list, fobj, mu_vals, fmt_vals, ax=None)\n",
      "    plt.savefig('reg_{:02d}.pdf'.format(idx))\n",
      "    idx += 1\n",
      "    plt.show()\n",
      "    print ltable, '\\n'"
     ],
     "language": "python",
     "metadata": {},
     "outputs": []
    },
    {
     "cell_type": "heading",
     "level": 1,
     "metadata": {},
     "source": [
      "4. Full model damping fits for Kepler (brute force iteration over ab, eta2)"
     ]
    },
    {
     "cell_type": "code",
     "collapsed": false,
     "input": [
      "plists_list = []\n",
      "mu_vals = [1.]\n",
      "eta2_vals = [0.01, 0.1, 1., 2., 10.]\n",
      "\n",
      "for ab in KEPLER_AB_VALS:\n",
      "    \n",
      "    outroot = KEPLER_OUTDIR + 'full-std_err-ab_{:0.2e}-eta2_free'.format(ab)\n",
      "    \n",
      "    f_data = mdsp.build_dataf('full', conf_intv=0.683,\n",
      "                              fit_kws={'model_kws':{'idamp': True, 'damp_ab': ab}},\n",
      "                              err_kws={'method':'stderr'})\n",
      "\n",
      "    dview.push(dict(f_data=f_data, mu_vals=mu_vals, outroot=outroot))\n",
      "    plists = dview.map_async(lambda args: mdsp.generate_fits(f_data, args[0], args[1], mu_vals, outroot,\n",
      "                                                             save=True), gen_kepler_damp(ab))\n",
      "    plists_list.append(plists)"
     ],
     "language": "python",
     "metadata": {},
     "outputs": []
    },
    {
     "cell_type": "code",
     "collapsed": true,
     "input": [
      "for eta2 in eta2_vals:\n",
      "    for ab in KEPLER_AB_VALS:\n",
      "        \n",
      "        outroot = KEPLER_OUTDIR + 'full-std_err-ab_{:0.2e}-eta2_{:0.2e}'.format(ab, eta2)\n",
      "        \n",
      "        f_data = mdsp.build_dataf('full', conf_intv=0.683,\n",
      "                                  fit_kws={'eta2': eta2, 'eta2_free': False,\n",
      "                                           'model_kws':{'idamp': True, 'damp_ab': ab}},\n",
      "                                  err_kws={'method': 'stderr'})\n",
      "\n",
      "        dview.push(dict(f_data=f_data, mu_vals=mu_vals, outroot=outroot))\n",
      "        plists = dview.map_async(lambda args: mdsp.generate_fits(f_data, args[0], args[1], mu_vals, outroot,\n",
      "                                                                 save=True), gen_kepler_damp(ab))\n",
      "        plists_list.append(plists)"
     ],
     "language": "python",
     "metadata": {},
     "outputs": []
    },
    {
     "cell_type": "code",
     "collapsed": false,
     "input": [
      "print [_.ready() for _ in plists_list]"
     ],
     "language": "python",
     "metadata": {},
     "outputs": []
    },
    {
     "cell_type": "code",
     "collapsed": false,
     "input": [
      "i = 0"
     ],
     "language": "python",
     "metadata": {},
     "outputs": []
    },
    {
     "cell_type": "code",
     "collapsed": false,
     "input": [
      "print 'Time elapsed:', plists_list[i].elapsed\n",
      "print 'Status:', map(str,plists_list[i].status)\n",
      "print 'Submitted:', map(str,plists_list[i].submitted)\n",
      "print 'Received:', map(str,plists_list[i].received)\n",
      "print 'Started:', map(str,plists_list[i].started)\n",
      "print 'Completed:', map(str,plists_list[i].completed)"
     ],
     "language": "python",
     "metadata": {},
     "outputs": []
    },
    {
     "cell_type": "code",
     "collapsed": false,
     "input": [
      "for _s in plists_list[i].stdout:\n",
      "    print _s\n",
      "    print '\\n','-'*72,'\\n'"
     ],
     "language": "python",
     "metadata": {},
     "outputs": []
    },
    {
     "cell_type": "code",
     "collapsed": false,
     "input": [
      "plists_list[i].display_outputs()"
     ],
     "language": "python",
     "metadata": {},
     "outputs": []
    },
    {
     "cell_type": "code",
     "collapsed": false,
     "input": [
      "idx = 1\n",
      "for p_list, fobj in plists_list[98]:\n",
      "    print fobj.title\n",
      "    ipytable, ltable = mdsp.generate_tabs(p_list, fobj.title, mu_vals)\n",
      "    display(ipytable)\n",
      "    #mdsp.generate_plots(p_list, fobj, mu_vals, fmt_vals, ax=None)\n",
      "    #plt.savefig('reg_{:02d}.pdf'.format(idx))\n",
      "    #idx += 1\n",
      "    #plt.show()\n",
      "    print ltable, '\\n'"
     ],
     "language": "python",
     "metadata": {},
     "outputs": []
    }
   ],
   "metadata": {}
  }
 ]
}