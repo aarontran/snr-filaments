{
 "metadata": {
  "name": "",
  "signature": "sha256:ce0cd78e8374072dee4e82c0e809f1a325e5ccf3fb71b9f1111470c6c12c1b42"
 },
 "nbformat": 3,
 "nbformat_minor": 0,
 "worksheets": [
  {
   "cells": [
    {
     "cell_type": "heading",
     "level": 1,
     "metadata": {},
     "source": [
      "Process, fit, pull science out of radio + X-ray profiles"
     ]
    },
    {
     "cell_type": "markdown",
     "metadata": {},
     "source": [
      "This notebook covers ALL processing steps for the radio/X-ray profiles.  Yes, it's a bit of a mess.\n",
      "\n",
      "I store the best (eyeball) fit parameters for our joint radio and X-ray fits here, as they are most easily used to regenerate plots here, etc.  No need to split them off to an intermediate file because this is the end of the line for the data pipeline."
     ]
    },
    {
     "cell_type": "code",
     "collapsed": true,
     "input": [
      "%pylab --no-import-all\n",
      "%matplotlib inline\n",
      "# ('gtk', 'inline', 'osx', 'qt', 'qt4', 'tk', 'wx')\n",
      "%load_ext autoreload\n",
      "%autoreload 2\n",
      "\n",
      "from __future__ import division\n",
      "from glob import glob\n",
      "import lmfit\n",
      "\n",
      "from fplot import fplot, show_mplrc_settings\n",
      "import models\n",
      "import snr_catalog as snrcat"
     ],
     "language": "python",
     "metadata": {},
     "outputs": []
    },
    {
     "cell_type": "heading",
     "level": 2,
     "metadata": {},
     "source": [
      "Constants"
     ]
    },
    {
     "cell_type": "code",
     "collapsed": true,
     "input": [
      "NYRS = 2009 - 1994  # Time between Chandra and VLA observations\n",
      "PX_2_ARCSEC_RADIO = 0.5  # Image scaling\n",
      "PX_ACIS = 0.492  # Chandra ACIS pixel size, arcsec\n",
      "RADIO_RMS = 0.3e-3  # RMS noise in Jy/beam, estimated manually (see 2014 Dec 3 notes)\n",
      "\n",
      "the_alphabet_song = 'abcdefghijklmnopqrstuvwxyz'.upper()\n",
      "nan = np.nan"
     ],
     "language": "python",
     "metadata": {},
     "outputs": []
    },
    {
     "cell_type": "heading",
     "level": 2,
     "metadata": {},
     "source": [
      "Initial setup: load data, shift, translate, compute (arbitrary) scalings for comparison plots"
     ]
    },
    {
     "cell_type": "markdown",
     "metadata": {},
     "source": [
      "After generating profiles, run `prep_profile_fit.py` on x-ray profiles only (we take care of radio errors here).\n",
      "The processed profile will have x-coords in arcsec and errors.  The fit domain file (`prf-proc-fit_cuts.[dat,npz]`) is not needed."
     ]
    },
    {
     "cell_type": "code",
     "collapsed": true,
     "input": [
      "data_root = '../../data-tycho/regions-6-VLA/'\n",
      "data_az = np.loadtxt('../../data-tycho/regions-6-VLA/regions-6-VLA-az.txt')  # Azimuth angles\n",
      "data_pm = np.loadtxt('../../data-tycho/regions-6-VLA/regions-6-VLA-prmotion.txt')  # Proper motions\n",
      "snr = snrcat.make_tycho()\n",
      "kevs_all = np.array([5.6865e-9, 4.0])\n",
      "\n",
      "plt_root = '../../data-tycho/regions-6-VLA/plots/'"
     ],
     "language": "python",
     "metadata": {},
     "outputs": []
    },
    {
     "cell_type": "markdown",
     "metadata": {},
     "source": [
      "I copy paste the region thicknesses from the (verbose) output of:\n",
      "\n",
      "    $ python ../../../code/profiles/prep_profile_fit.py \\\n",
      "             ../regions-6-VLA.physreg \\\n",
      "             prf prf-cts prf-proc -l 4-7kev -v\n",
      "\n",
      "which parses the region dimensions and spits them out."
     ]
    },
    {
     "cell_type": "code",
     "collapsed": true,
     "input": [
      "proj_lengths = np.array([62.00, 38.00, 28.00, 40.00, 58.00, 38.00, 41.00, 46.00,\n",
      "                         73.00, 38.00, 28.00, 14.00, 52.00, 48.00, 41.00, 44.00])\n",
      "proj_lengths *= PX_ACIS / PX_2_ARCSEC_RADIO"
     ],
     "language": "python",
     "metadata": {},
     "outputs": []
    },
    {
     "cell_type": "markdown",
     "metadata": {},
     "source": [
      "All profiles show two consistent features -- a 4-7 keV peak, and a sharp zero-crossing rise in radio (CLEAN bowl).  Previously I set the shock radius 2\" ahead of the 4-7 keV peak, but I think shifting based on the radio rise is more sensible, as 2\" is an arbitrary guess that may vary around the remnant."
     ]
    },
    {
     "cell_type": "code",
     "collapsed": true,
     "input": [
      "class Profile(object):\n",
      "    \"\"\"Holder for profile information\"\"\"\n",
      "    pass"
     ],
     "language": "python",
     "metadata": {},
     "outputs": []
    },
    {
     "cell_type": "code",
     "collapsed": true,
     "input": [
      "n_prfs = len(glob(data_root + 'profiles/prf_*_band_1.375GHz.dat'))  # Count radio profiles\n",
      "\n",
      "prfs_radio = []\n",
      "prfs_xhard = []\n",
      "\n",
      "for n in xrange(1, n_prfs+1):\n",
      "    \n",
      "    fname_radio = data_root + 'profiles/prf_{:02d}_band_1.375GHz.dat'.format(n)\n",
      "    fname_xhard = data_root + 'profiles/prf-proc_{:02d}_band_4-7keV.dat'.format(n)\n",
      "    \n",
      "    radio = Profile()\n",
      "    xhard = Profile()\n",
      "    \n",
      "    radio.x, radio.y = np.loadtxt(fname_radio, unpack=True)\n",
      "    radio.y *= proj_lengths[n-1]  # Multiply by projection (integration) length\n",
      "    radio.eps = RADIO_RMS * np.ones_like(radio.y)\n",
      "    xhard.x, xhard.y, xhard.eps = np.loadtxt(fname_xhard, unpack=True)\n",
      "    \n",
      "    radio.x *= PX_2_ARCSEC_RADIO\n",
      "    radio.x += NYRS * data_pm[n-1]  # Proper motion (arcsec)\n",
      "\n",
      "    # Identify position of radio zero-crossing\n",
      "    radio_zero_crossings = np.where(np.diff(np.sign(radio.y)))[0]\n",
      "    assert len(radio_zero_crossings) == 1\n",
      "    ind_cross = radio_zero_crossings[0]\n",
      "    rs_init = radio.x[ind_cross]\n",
      "    \n",
      "    # Set SNR shock radius to datum @ immediate left of zero-crossing\n",
      "    radio.x += snr.rsarc - rs_init\n",
      "    xhard.x += snr.rsarc - rs_init\n",
      "\n",
      "    # Compute (arbitrary) scales for comparison plots\n",
      "    r_pk = xhard.x[np.argmax(xhard.y)]\n",
      "    ind_pk_radio = np.searchsorted(radio.x, r_pk)\n",
      "\n",
      "    # Convenience scales for plotting\n",
      "    radio.scale = np.amax(radio.y[radio.x > r_pk-4])  # Search for radio max from 2\" behind 4-7 keV peak\n",
      "    xhard.scale = np.amax(xhard.y)\n",
      "    \n",
      "    prfs_radio.append(radio)\n",
      "    prfs_xhard.append(xhard)"
     ],
     "language": "python",
     "metadata": {},
     "outputs": []
    },
    {
     "cell_type": "heading",
     "level": 2,
     "metadata": {},
     "source": [
      "First pass plots of the data"
     ]
    },
    {
     "cell_type": "code",
     "collapsed": true,
     "input": [
      "for n, radio, xhard in zip(xrange(1,n_prfs+1), prfs_radio, prfs_xhard):\n",
      "    \n",
      "    print 'Region {} ({})'.format(n, the_alphabet_song[n-1])\n",
      "    print 'Az: {} deg., proper motion: {} arcsec/yr'.format(data_az[n-1], data_pm[n-1])\n",
      "    \n",
      "    plt.figure(figsize=(4,3))\n",
      "    plt.errorbar(radio.x, radio.y/radio.scale, yerr=radio.eps/radio.scale, fmt='-r.', capsize=0,\n",
      "                 label='1.375 GHz')\n",
      "    plt.errorbar(xhard.x, xhard.y/xhard.scale, yerr=xhard.eps/xhard.scale, fmt='-b.', capsize=0,\n",
      "                 label='4-7 keV')\n",
      "\n",
      "    plt.xlim(216, 250)\n",
      "    plt.tight_layout()\n",
      "    plt.ylim(ymin=0)\n",
      "    if n == 9:\n",
      "        plt.ylim(ymax=2)\n",
      "\n",
      "    # Annotations\n",
      "    plt.xlabel('Radial distance (arcsec)')\n",
      "    plt.ylabel('Intensity (arbitrary units)')\n",
      "    \n",
      "    plt.text(0.95, 0.87, the_alphabet_song[n-1], transform=plt.gca().transAxes,\n",
      "             horizontalalignment='right')\n",
      "    plt.show()"
     ],
     "language": "python",
     "metadata": {},
     "outputs": []
    },
    {
     "cell_type": "heading",
     "level": 2,
     "metadata": {},
     "source": [
      "Inspect plots by eye and get shifts, cuts for fitting, location of minima/maxima"
     ]
    },
    {
     "cell_type": "markdown",
     "metadata": {},
     "source": [
      "In a few regions the radio rim lags the X-ray rim -- apply an additional shift to line them up."
     ]
    },
    {
     "cell_type": "code",
     "collapsed": true,
     "input": [
      "shifts = {9:2, 10:1, 13:2}  # key: region number, off by one; value, arcsec shift.  Same direction for all.\n",
      "# These are regions I, J, M"
     ],
     "language": "python",
     "metadata": {},
     "outputs": []
    },
    {
     "cell_type": "markdown",
     "metadata": {},
     "source": [
      "Cuts for profile fitting, based on radio coordinates.\n",
      "\n",
      "Even if we are not fitting automatically and just doing this $\\chi$-by-eye procedure, these are still useful to guide the eye and use consistent fit \"domains\" in both radio and X-ray (!)."
     ]
    },
    {
     "cell_type": "code",
     "collapsed": true,
     "input": [
      "cuts = [(225, 238), (232, 240), (232, 240), (230, 239.5),\n",
      "        (227, 239.5), (227, 240), (230, 240), (231, 239),\n",
      "        (230, 240), (230, 240), (233, 240), (230, 240),\n",
      "        (232, 240), (230, 240), (229, 240), (228, 239)]"
     ],
     "language": "python",
     "metadata": {},
     "outputs": []
    },
    {
     "cell_type": "markdown",
     "metadata": {},
     "source": [
      "Identify minima/maxima in profiles for shape analysis"
     ]
    },
    {
     "cell_type": "code",
     "collapsed": true,
     "input": [
      "min_loc_radio = [226, nan, nan, nan, 228, 227, 234, 232,\n",
      "                 230, nan, 233, nan, nan, 234, 229, 231]\n",
      "min_loc_xhard = [226, 232, 230, 231, 225, 230, 232, 233,\n",
      "                 236, 235, 235, 233, 236, 235, 234, 232]\n",
      "\n",
      "# -1 tells code to seek maximum, right of minimum\n",
      "# nan tells code that a \"max\" couldn't be readily found\n",
      "max_loc_radio = [-1, 234, 236.5, 234, -1, 235, -1, -1,\n",
      "                 -1, 232, -1, nan, nan, -1, -1, -1]\n",
      "max_loc_xhard = []\n",
      "\n",
      "for radio, n in zip(prfs_radio, xrange(len(prfs_radio))):\n",
      "    if max_loc_radio[n] == -1:\n",
      "        msk = radio.x > min_loc_radio[n]\n",
      "        max_loc_radio[n] = radio.x[msk][np.argmax(radio.y[msk])]\n",
      "\n",
      "for xhard, min_loc in zip(prfs_xhard, min_loc_xhard):\n",
      "    msk = xhard.x > min_loc\n",
      "    max_loc_xhard.append(xhard.x[msk][np.argmax(xhard.y[msk])])"
     ],
     "language": "python",
     "metadata": {},
     "outputs": []
    },
    {
     "cell_type": "markdown",
     "metadata": {},
     "source": [
      "Apply shifts to data (and min/max locations).  Run this cell only once!"
     ]
    },
    {
     "cell_type": "code",
     "collapsed": true,
     "input": [
      "for n, dx in shifts.items():\n",
      "    prfs_xhard[n-1].x -= dx\n",
      "    min_loc_xhard[n-1] -= dx\n",
      "    max_loc_xhard[n-1] -= dx"
     ],
     "language": "python",
     "metadata": {},
     "outputs": []
    },
    {
     "cell_type": "markdown",
     "metadata": {},
     "source": [
      "Compute the actual intensity shifts (from values @ min/max locations), masks for fits, save to Profile objects"
     ]
    },
    {
     "cell_type": "code",
     "collapsed": true,
     "input": [
      "for n, radio, xhard in zip(xrange(1,n_prfs+1), prfs_radio, prfs_xhard):\n",
      "    \n",
      "    # Find and save min/max indices\n",
      "    radio.x_min = min_loc_radio[n-1]\n",
      "    radio.x_max = max_loc_radio[n-1]\n",
      "    xhard.x_min = min_loc_xhard[n-1]\n",
      "    xhard.x_max = max_loc_xhard[n-1]\n",
      "    \n",
      "    # Radio intensity min/max span, if possible\n",
      "    if np.isfinite(radio.x_min):\n",
      "        ind_min_r = np.searchsorted(radio.x, radio.x_min)\n",
      "        radio.y_min = radio.y[ind_min_r]\n",
      "    else:\n",
      "        radio.y_min = nan\n",
      "    if np.isfinite(radio.x_max):\n",
      "        ind_max_r = np.searchsorted(radio.x, radio.x_max)\n",
      "        radio.y_max = radio.y[ind_max_r]\n",
      "    else:\n",
      "        radio.y_max = nan\n",
      "    \n",
      "    # X-ray min/max always present\n",
      "    ind_min_x = np.searchsorted(xhard.x, xhard.x_min)\n",
      "    ind_max_x = np.searchsorted(xhard.x, xhard.x_max)\n",
      "    xhard.y_min = xhard.y[ind_min_x]\n",
      "    xhard.y_max = xhard.y[ind_max_x]\n",
      "    \n",
      "    # Generate and save masks for cuts, plot profiles with cuts\n",
      "    x_left, x_right = cuts[n-1]\n",
      "    radio.msk = np.logical_and(x_left < radio.x, radio.x < x_right)\n",
      "    xhard.msk = np.logical_and(x_left < xhard.x, xhard.x < x_right)\n",
      "    radio.nmsk = np.logical_not(radio.msk)\n",
      "    xhard.nmsk = np.logical_not(xhard.msk)"
     ],
     "language": "python",
     "metadata": {},
     "outputs": []
    },
    {
     "cell_type": "markdown",
     "metadata": {},
     "source": [
      "Now replot everything and make sure it all checks out"
     ]
    },
    {
     "cell_type": "code",
     "collapsed": true,
     "input": [
      "for n, radio, xhard in zip(xrange(1,n_prfs+1), prfs_radio, prfs_xhard):\n",
      "\n",
      "    print 'Region {} ({})'.format(n, the_alphabet_song[n-1])\n",
      "    \n",
      "    plt.figure(figsize=(4,3))\n",
      "    ax = plt.gca()\n",
      "    \n",
      "    ax.errorbar(radio.x[radio.msk], radio.y[radio.msk]/radio.scale,\n",
      "                yerr=radio.eps[radio.msk]/radio.scale,\n",
      "                fmt='-r.', capsize=0, label='1.375 GHz')\n",
      "    ax.errorbar(xhard.x[xhard.msk], xhard.y[xhard.msk]/xhard.scale,\n",
      "                yerr=xhard.eps[xhard.msk]/xhard.scale,\n",
      "                fmt='-b.', capsize=0, label='4-7 keV')\n",
      "    \n",
      "    ax.errorbar(radio.x[radio.nmsk], radio.y[radio.nmsk]/radio.scale,\n",
      "                yerr=radio.eps[radio.nmsk]/radio.scale,\n",
      "                fmt='r.', alpha=0.3, capsize=0, label='1.375 GHz')\n",
      "    ax.errorbar(xhard.x[xhard.nmsk], xhard.y[xhard.nmsk]/xhard.scale,\n",
      "                yerr=xhard.eps[xhard.nmsk]/xhard.scale,\n",
      "                fmt='b.', alpha=0.3, capsize=0, label='4-7 keV')\n",
      "    \n",
      "    # Annotate region of steepest drop for shape analysis\n",
      "    if np.isfinite(radio.x_min) and np.isfinite(radio.x_max):\n",
      "        ax.fill_between([radio.x_min, radio.x_max], [radio.y_min/radio.scale]*2,\n",
      "                        [radio.y_max/radio.scale]*2, color='r', alpha=0.2)\n",
      "    elif np.isfinite(radio.x_max):\n",
      "        ax.axvline(radio.x_max, color='r', alpha=0.8)\n",
      "    ax.fill_between([xhard.x_min, xhard.x_max], [xhard.y_min/xhard.scale]*2,\n",
      "                    [xhard.y_max/xhard.scale]*2, color='b', alpha=0.2)\n",
      "    \n",
      "    ax.set_xlim(216, 250)\n",
      "    ax.set_ylim(ymin=0)\n",
      "    ax.set_xlabel('Radial distance (arcsec)')\n",
      "    ax.set_ylabel('Intensity (arbitrary units)')\n",
      "    \n",
      "    ax.text(0.9, 0.87, the_alphabet_song[n-1], transform=ax.transAxes,\n",
      "            horizontalalignment='center', fontsize=14)\n",
      "    plt.show()"
     ],
     "language": "python",
     "metadata": {},
     "outputs": []
    },
    {
     "cell_type": "markdown",
     "metadata": {},
     "source": [
      "Ad hoc clean-up (check for variables with `%whos`)"
     ]
    },
    {
     "cell_type": "code",
     "collapsed": true,
     "input": [
      "del ax, cuts, dx, fname_radio, fname_xhard\n",
      "del ind_cross, ind_max_r, ind_min_r, ind_max_x, ind_min_x, ind_pk_radio\n",
      "del max_loc_radio, max_loc_xhard, min_loc_radio, min_loc_xhard\n",
      "del min_loc, msk, n, n_prfs, proj_lengths, r_pk, radio_zero_crossings, rs_init\n",
      "del shifts, x_left, x_right"
     ],
     "language": "python",
     "metadata": {},
     "outputs": []
    },
    {
     "cell_type": "heading",
     "level": 1,
     "metadata": {},
     "source": [
      "--- _Run all cells above here to initialize data_ ---"
     ]
    },
    {
     "cell_type": "heading",
     "level": 1,
     "metadata": {},
     "source": [
      "Shape analysis from intensity drops/plateaus, first glance"
     ]
    },
    {
     "cell_type": "markdown",
     "metadata": {},
     "source": [
      "Now address the significance of our shape analysis.  There are 3 cases:\n",
      "* min and max identified (trough behind rim)\n",
      "* max identified (min is nan), rim plateaus but doesn't show clear minimum\n",
      "* min and max both nan (continuous increase)"
     ]
    },
    {
     "cell_type": "code",
     "collapsed": true,
     "input": [
      "_, (ax1, ax2) = plt.subplots(1, 2, sharey=True, figsize=(8,3))\n",
      "\n",
      "for n, radio, xhard, az, pm in zip(xrange(1,len(prfs_radio)+1), prfs_radio, prfs_xhard, data_az, data_pm):\n",
      "    \n",
      "    print 'Region {} ({})'.format(n, the_alphabet_song[n-1])\n",
      "    print '\\tAz: {:0.1f} deg., proper motion: {} arcsec/yr'.format(az, pm)\n",
      "    \n",
      "    if radio.x_max is nan:\n",
      "        assert radio.x_min is nan, 'Cannot have max=nan and min present'\n",
      "        print '\\tRadio rise'\n",
      "        \n",
      "        ax1.plot(az, 1.1, 'or')\n",
      "        ax2.plot(pm, 1.1, 'or')\n",
      "    elif radio.x_min is nan:\n",
      "        print '\\tRadio plateau, max = {:.3f}'.format(radio.x_max)\n",
      "        \n",
      "        ax1.plot(az, 1, 'or')\n",
      "        ax2.plot(pm, 1, 'or')\n",
      "    else:\n",
      "        print '\\tRadio rim, drop = {:.3f}%, dist = {:.3f}'.format(radio.y_min/radio.y_max, radio.x_max - radio.x_min)\n",
      "    \n",
      "        ax1.plot(az, radio.y_min/radio.y_max, 'or')\n",
      "        ax2.plot(pm, radio.y_min/radio.y_max, 'or')\n",
      "    \n",
      "    ind_min_x = np.searchsorted(xhard.x, xhard.x_min)\n",
      "    ind_max_x = np.searchsorted(xhard.x, xhard.x_max)\n",
      "    print '\\tX-ray rim, drop = {:.3f}%, dist = {:.3f}'.format(xhard.y_min/xhard.y_max, xhard.x_max - xhard.x_min)\n",
      "    \n",
      "    ax1.plot(az, xhard.y_min/xhard.y_max, 'ob')\n",
      "    ax2.plot(pm, xhard.y_min/xhard.y_max, 'ob')\n",
      "\n",
      "ax1.axhline(1.0)  # Plateau\n",
      "ax1.axhline(1.1)  # Radio rise\n",
      "\n",
      "ax2.axhline(1.0)  # Plateau\n",
      "ax2.axhline(1.1)  # Radio rise\n",
      "\n",
      "plt.show()"
     ],
     "language": "python",
     "metadata": {},
     "outputs": []
    },
    {
     "cell_type": "markdown",
     "metadata": {},
     "source": [
      "Try inspecting brightness of the rim alone (vs. relative brightness) as a function of azimuth angle"
     ]
    },
    {
     "cell_type": "code",
     "collapsed": true,
     "input": [
      "_, (ax1, ax2) = plt.subplots(1, 2, figsize=(8,3))\n",
      "\n",
      "for n, radio, xhard, az, pm in zip(xrange(1,len(prfs_radio)+1), prfs_radio, prfs_xhard, data_az, data_pm):\n",
      "    \n",
      "    ind_min_x = np.searchsorted(xhard.x, xhard.x_min)\n",
      "    ind_max_x = np.searchsorted(xhard.x, xhard.x_max)\n",
      "    x_drop = xhard.y[ind_max_x]\n",
      "    \n",
      "    if radio.x_max is nan or radio.x_min is nan:\n",
      "        ax1.plot(az, x_drop, 'sk')\n",
      "        ax2.plot(az, np.nan, 'sk')\n",
      "    else:\n",
      "        ind_min_r = np.searchsorted(radio.x, radio.x_min)\n",
      "        ind_max_r = np.searchsorted(radio.x, radio.x_max)\n",
      "        r_drop = radio.y[ind_max_r]\n",
      "    \n",
      "        ax1.plot(az, x_drop, 'or')\n",
      "        ax2.plot(az, r_drop, 'or')\n",
      "\n",
      "ax1.set_xlabel('Azimuth angle')\n",
      "ax2.set_xlabel('Proper motion (arcsec/yr)')\n",
      "ax1.set_ylabel(r'X-ray intensity (cts/s/cm${}^2$/Hz or whatever)')\n",
      "ax2.set_ylabel(r'Radio intensity (Jy/beam)')\n",
      "\n",
      "plt.show()"
     ],
     "language": "python",
     "metadata": {},
     "outputs": []
    },
    {
     "cell_type": "markdown",
     "metadata": {},
     "source": [
      "Finally plot steepness of the drop-off in radio/x-ray vs azimuth angle, proper motion"
     ]
    },
    {
     "cell_type": "code",
     "collapsed": true,
     "input": [
      "_, (ax1, ax2) = plt.subplots(1, 2, sharey=True, figsize=(8,3))\n",
      "\n",
      "for n, radio, xhard, az, pm in zip(xrange(1,len(prfs_radio)+1), prfs_radio, prfs_xhard, data_az, data_pm):\n",
      "    \n",
      "    if radio.x_max is nan or radio.x_min is nan:\n",
      "        ax1.plot(az, 0, 'sr')\n",
      "        ax2.plot(pm, 0, 'sr')\n",
      "        pass\n",
      "    else:\n",
      "        ax1.plot(az, (1-radio.y_min/radio.y_max) / (radio.x_max - radio.x_min), 'or')\n",
      "        ax2.plot(pm, (1-radio.y_min/radio.y_max) / (radio.x_max - radio.x_min), 'or')\n",
      "    \n",
      "    ax1.plot(az, (1-xhard.y_min/xhard.y_max) / (xhard.x_max - xhard.x_min), 'ob')\n",
      "    ax2.plot(pm, (1-xhard.y_min/xhard.y_max) / (xhard.x_max - xhard.x_min), 'ob')\n",
      "\n",
      "ax1.set_xlabel('azimuth angle')\n",
      "ax2.set_xlabel('proper motion (arcsec/yr)')\n",
      "ax1.set_ylabel('Steepness (relative drop/arcsec)')\n",
      "\n",
      "plt.show()"
     ],
     "language": "python",
     "metadata": {},
     "outputs": []
    },
    {
     "cell_type": "heading",
     "level": 1,
     "metadata": {},
     "source": [
      "Shape analysis, more formal constraints on $a_b$ and $B_0$"
     ]
    },
    {
     "cell_type": "markdown",
     "metadata": {},
     "source": [
      "Generate table of qualitative info -- does a rim exist? what is the allowed space of parameters, if $B_0$ is less than 500 microGauss?\n",
      "\n",
      "This should pull in code from the parameter space notebook..."
     ]
    },
    {
     "cell_type": "markdown",
     "metadata": {},
     "source": [
      "Several different approaches:\n",
      "* which profiles fall _at least_ that steeply, just behind the peak (if present)?\n",
      "* Check that profile doesn't rise up steeply again or anything.  But that's a fools errand since our model is not reasonable much beyond the shock.\n",
      "* Is the peak thin enough to fit in the observed rim?"
     ]
    },
    {
     "cell_type": "heading",
     "level": 2,
     "metadata": {},
     "source": [
      "Compute slew of profiles for comparison"
     ]
    },
    {
     "cell_type": "markdown",
     "metadata": {},
     "source": [
      "We only need to compute model profiles to around 15 arcsec. behind the shock; I use 20 to be conservative."
     ]
    },
    {
     "cell_type": "code",
     "collapsed": false,
     "input": [
      "print 'Max drop length behind radio rim:', np.nanmax([prf.x_max - prf.x_min for prf in prfs_radio])\n",
      "print 'Max drop length behind x-ray rim:', np.nanmax([prf.x_max - prf.x_min for prf in prfs_xhard])\n",
      "\n",
      "print 'Max dist behind shock, radio:', 240-np.nanmin([prf.x_min for prf in prfs_radio])\n",
      "print 'Max dist behind shock, x-ray:', 240-np.nanmin([prf.x_min for prf in prfs_xhard])"
     ],
     "language": "python",
     "metadata": {},
     "outputs": []
    },
    {
     "cell_type": "markdown",
     "metadata": {},
     "source": [
      "Start computation of many profiles (X-ray and radio both) for 150 values of $B_0$, 40 values of $a_b$ (cuts computation time by 60% to about 25 min. instead of 45 min.)."
     ]
    },
    {
     "cell_type": "code",
     "collapsed": true,
     "input": [
      "#kev_ext = np.array([kevs_all[0]])  # JUST radio for now...\n",
      "kev_ext = kevs_all\n",
      "mu = 1.0\n",
      "eta2= 1.0\n",
      "B0_vals = np.logspace(np.log10(10e-6), np.log10(200e-6), 150)  #200\n",
      "ab_vals = [nan] + list(np.logspace(np.log10(0.5), np.log10(0.002), 40))  # [0.5, 0.1, 0.05, 0.02, 0.01, 0.008, 0.005, 0.002]\n",
      "idamp_vals = [False] + [True] * (len(ab_vals) - 1)\n",
      "\n",
      "tycho_out_test = {}\n",
      "\n",
      "for B0 in B0_vals:\n",
      "    tycho_out_test[B0] = []\n",
      "    for ab, idamp in zip(ab_vals, idamp_vals):\n",
      "        fwhm_stats = models.full_width(snrcat.make_tycho(), kev_ext, mu, eta2, B0,\n",
      "                                               idamp=idamp, damp_ab=ab, damp_bmin=5e-6, verbose=False,\n",
      "                                               rminarc=20, irad_adapt=False, get_data=True, get_fwhms=False)\n",
      "        tycho_out_test[B0].append(fwhm_stats)"
     ],
     "language": "python",
     "metadata": {},
     "outputs": []
    },
    {
     "cell_type": "markdown",
     "metadata": {},
     "source": [
      "Takes 3.6 seconds for 9 ab values, 10 magnetic field values (radio only).\n",
      "If I throw in X-ray with $\\eta_2 = 1$, it takes 23 seconds (about 6x longer (!))\n",
      "\n",
      "If we sample 50 $a_b$ values and 200 $a_b$ values, it will take 400 seconds (about 7 minutes).\n",
      "If we sample 50 $a_b$ values and 200 $a_b$ values, with X-ray, it will take 2555 seconds (about 45 minutes).\n",
      "\n",
      "IF I don't do the FWHM computations, radio takes 3.3s, radio+x-ray takes 20.4s.  Marginal improvement in each case."
     ]
    },
    {
     "cell_type": "heading",
     "level": 2,
     "metadata": {},
     "source": [
      "Compare slew of profiles to data"
     ]
    },
    {
     "cell_type": "markdown",
     "metadata": {},
     "source": [
      "For each profile, get the location of trough.  Filter out all those that are too far BEHIND the current profiles (basically use one dataset to find trough locations everywhere... -- iterate over `a_b` and `B_0`, )."
     ]
    },
    {
     "cell_type": "code",
     "collapsed": true,
     "input": [
      "def get_zero_crossings(x,y,y_cross):\n",
      "    \"\"\"x,y numpy arrays; y_cross must be a scalar.  Finds x-pos of all crossings of y_cross in y\n",
      "    (linearly interpolating between discrete pts)\"\"\"\n",
      "    cross_idx = np.where(np.diff(np.sign(y - y_cross)))[0]  # Left side of crossing\n",
      "    \n",
      "    x_crosses = []\n",
      "    \n",
      "    for idx in cross_idx:\n",
      "        slope = (y[idx+1] - y[idx]) / (x[idx+1] - x[idx])\n",
      "        x_cross = x[idx] + (y_cross - y[idx]) / slope\n",
      "        x_crosses.append(x_cross)\n",
      "    \n",
      "    return np.array(x_crosses)"
     ],
     "language": "python",
     "metadata": {},
     "outputs": []
    },
    {
     "cell_type": "markdown",
     "metadata": {},
     "source": [
      "Visualize the allowed values of $B_0$ and $a_b$"
     ]
    },
    {
     "cell_type": "code",
     "collapsed": true,
     "input": [
      "for n, radio, xhard in zip(xrange(1,len(prfs_radio)+1), prfs_radio, prfs_xhard):\n",
      "    \n",
      "    if np.isnan(radio.y_min) or np.isnan(radio.y_max):\n",
      "        print 'skip'\n",
      "        continue  # skip profiles without rims\n",
      "    \n",
      "    print 'Region {} ({})'.format(n, the_alphabet_song[n-1])\n",
      "    \n",
      "    drop = (1 - radio.y_min / radio.y_max) / (radio.x_max - radio.x_min)\n",
      "    \n",
      "    tup_good = []  # min_pct and slope of drop-off compatible w/ observations\n",
      "    tup_too_slow = []  # min_pct consistent, but falls off too slowly vs. observation\n",
      "    tup_rim = []  # min_pct too small, but at least shows a maximum / rim\n",
      "    tup_no = []  # no rim at all\n",
      "    \n",
      "    for B0 in B0_vals:\n",
      "        for tup, ab in zip(tycho_out_test[B0], ab_vals):\n",
      "            igrid, rgrid = tup[0][0], tup[1][0]\n",
      "            data_dict = tup[2][0]  # 3 gets list of dicts; 0 gets first dict\n",
      "            \n",
      "            has_max = data_dict['has_max']\n",
      "            min_pct = data_dict['min_pct']\n",
      "            min_pos = data_dict['min_pos']\n",
      "            max_pos = data_dict['max_pos']\n",
      "            \n",
      "            if has_max and min_pct < radio.y_min/radio.y_max:\n",
      "                \n",
      "                idx_min = np.searchsorted(rgrid, min_pos*snr.rsarc) + 1  # Fudge factor\n",
      "                igrid_norm = igrid / np.amax(igrid[idx_min:])  # Normalize to peak intensity, right of minimum\n",
      "                crs = get_zero_crossings(rgrid, igrid_norm, radio.y_min/radio.y_max)\n",
      "                \n",
      "                if len(crs[crs>min_pos*snr.rsarc]) == 1:  # EDGE case: minimum just fails to touch crossing\n",
      "                    m_drop = np.infty\n",
      "                else:\n",
      "                    assert len(crs[crs>min_pos*snr.rsarc]) == 2  # Confirm 1 crossing on each side of peak\n",
      "                \n",
      "                    x_min = crs[crs>min_pos*snr.rsarc][0]  # Get crossing right of minimum\n",
      "                    m_drop = (1-radio.y_min/radio.y_max)/(max_pos*snr.rsarc - x_min)\n",
      "                \n",
      "                if drop <= m_drop:\n",
      "                    tup_good.append((B0,ab))\n",
      "                else:\n",
      "                    tup_too_slow.append((B0,ab))\n",
      "            elif has_max:\n",
      "                tup_rim.append((B0,ab))\n",
      "            else:\n",
      "                tup_no.append((B0,ab))\n",
      "\n",
      "    tup_good = np.array(tup_good).T\n",
      "    tup_too_slow = np.array(tup_too_slow).T\n",
      "    tup_rim = np.array(tup_rim).T\n",
      "    tup_no = np.array(tup_no).T\n",
      "\n",
      "    plt.figure(figsize=(5,4))\n",
      "    plt.scatter(tup_good[0]*1e6, tup_good[1], c='y', s=10, linewidth=0)\n",
      "    plt.scatter(tup_too_slow[0]*1e6, tup_too_slow[1], c='c', s=10, linewidth=0)\n",
      "    plt.scatter(tup_rim[0]*1e6, tup_rim[1], c='r', s=10, linewidth=0)\n",
      "    plt.scatter(tup_no[0]*1e6, tup_no[1], c='k', s=10, linewidth=0)\n",
      "    plt.xscale('log')\n",
      "    plt.yscale('log')\n",
      "    plt.xlabel('B0')\n",
      "    plt.ylabel('ab')\n",
      "    plt.xlim(10,200)\n",
      "    plt.ylim(0.002,0.5)\n",
      "    plt.tight_layout()\n",
      "    plt.show()"
     ],
     "language": "python",
     "metadata": {},
     "outputs": []
    },
    {
     "cell_type": "code",
     "collapsed": true,
     "input": [
      "for n, radio, xhard in zip(xrange(1,len(prfs_radio)+1), prfs_radio, prfs_xhard):\n",
      "    \n",
      "    if np.isnan(radio.y_min) or np.isnan(radio.y_max):\n",
      "        print 'skip'\n",
      "        continue  # skip profiles without rims\n",
      "    \n",
      "    drop = (1 - radio.y_min / radio.y_max) / (radio.x_max - radio.x_min)\n",
      "    \n",
      "    tup_good = []  # min_pct and slope of drop-off compatible w/ observations\n",
      "    tup_too_slow = []  # min_pct consistent, but falls off too slowly vs. observation\n",
      "    tup_rim = []  # min_pct too small, but at least shows a maximum / rim\n",
      "    tup_no = []  # no rim at all\n",
      "    \n",
      "    for B0 in B0_vals:\n",
      "        for tup, ab in zip(tycho_out_test[B0], ab_vals):\n",
      "            igrid, rgrid = tup[0][0], tup[1][0]\n",
      "            data_dict = tup[2][0]  # 3 gets list of dicts; 0 gets first dict\n",
      "            \n",
      "            has_max = data_dict['has_max']\n",
      "            min_pct = data_dict['min_pct']\n",
      "            min_pos = data_dict['min_pos']\n",
      "            max_pos = data_dict['max_pos']\n",
      "            \n",
      "            if has_max and min_pct < radio.y_min/radio.y_max:\n",
      "                \n",
      "                idx_min = np.searchsorted(rgrid, min_pos*snr.rsarc) + 1  # Fudge factor\n",
      "                igrid_norm = igrid / np.amax(igrid[idx_min:])  # Normalize to peak intensity, right of minimum\n",
      "                crs = get_zero_crossings(rgrid, igrid_norm, radio.y_min/radio.y_max)\n",
      "                \n",
      "                if len(crs[crs>min_pos*snr.rsarc]) == 1:  # EDGE case: minimum just fails to touch crossing\n",
      "                    m_drop = np.infty\n",
      "                else:\n",
      "                    assert len(crs[crs>min_pos*snr.rsarc]) == 2  # Confirm 1 crossing on each side of peak\n",
      "                \n",
      "                    x_min = crs[crs>min_pos*snr.rsarc][0]  # Get crossing right of minimum\n",
      "                    m_drop = (1-radio.y_min/radio.y_max)/(max_pos*snr.rsarc - x_min)\n",
      "                \n",
      "                if drop <= m_drop:\n",
      "                    tup_good.append((B0,ab))\n",
      "                else:\n",
      "                    tup_too_slow.append((B0,ab))\n",
      "            elif has_max:\n",
      "                tup_rim.append((B0,ab))\n",
      "            else:\n",
      "                tup_no.append((B0,ab))\n",
      "\n",
      "    tup_good = np.array(tup_good).T\n",
      "    tup_too_slow = np.array(tup_too_slow).T\n",
      "    tup_rim = np.array(tup_rim).T\n",
      "    tup_no = np.array(tup_no).T\n",
      "\n",
      "    B0_good, ab_good = tup_good\n",
      "    print 'Region {} ({}): minimum B0 = {:0.3f}, maximum ab = {:0.3f}'.format(n, the_alphabet_song[n-1],\n",
      "            min(B0_good)*1e6, max(ab_good))"
     ],
     "language": "python",
     "metadata": {},
     "outputs": []
    },
    {
     "cell_type": "heading",
     "level": 3,
     "metadata": {},
     "source": [
      "Now consider regions with no thin rims that do show an emission plateau near the shock"
     ]
    },
    {
     "cell_type": "code",
     "collapsed": true,
     "input": [
      "for n, radio, xhard in zip(xrange(1,len(prfs_radio)+1), prfs_radio, prfs_xhard):\n",
      "    \n",
      "    if not(np.isnan(radio.y_min) and ~np.isnan(radio.y_max)):\n",
      "        print 'skip'\n",
      "        continue  # skip profiles not showing plateau-like behavior\n",
      "    \n",
      "    print 'Region {} ({})'.format(n, the_alphabet_song[n-1])\n",
      "    \n",
      "    radio_rise = snr.rsarc - radio.x_max\n",
      "    \n",
      "    tup_good = []  # rises to a max fast enough\n",
      "    tup_too_slow = []  # rises to a max not fast enough\n",
      "    #tup_rim = []  # min_pct too small, but at least shows a maximum / rim\n",
      "    tup_no = []  # no rim at all\n",
      "    \n",
      "    for B0 in B0_vals:\n",
      "        for tup, ab in zip(tycho_out_test[B0], ab_vals):\n",
      "            igrid, rgrid = tup[0][0], tup[1][0]\n",
      "            data_dict = tup[2][0]  # 3 gets list of dicts; 0 gets first dict\n",
      "            \n",
      "            has_max = data_dict['has_max']\n",
      "            min_pct = data_dict['min_pct']\n",
      "            min_pos = data_dict['min_pos']\n",
      "            max_pos = data_dict['max_pos']\n",
      "            \n",
      "            if has_max:\n",
      "                radio_rise_m = snr.rsarc*(1 - max_pos)\n",
      "                \n",
      "                if radio_rise > radio_rise_m:  # Model reaches max sooner than data, good\n",
      "                    tup_good.append((B0, ab))\n",
      "                else:  # Data peak occurs before model, less plausible\n",
      "                    tup_too_slow.append((B0,ab))\n",
      "            else:\n",
      "                tup_no.append((B0,ab))\n",
      "\n",
      "    tup_good = np.array(tup_good).T\n",
      "    tup_too_slow = np.array(tup_too_slow).T\n",
      "    #tup_rim = np.array(tup_rim).T\n",
      "    tup_no = np.array(tup_no).T\n",
      "\n",
      "    plt.figure(figsize=(5,4))\n",
      "    plt.scatter(tup_good[0]*1e6, tup_good[1], c='y', s=10, linewidth=0)\n",
      "    plt.scatter(tup_too_slow[0]*1e6, tup_too_slow[1], c='c', s=10, linewidth=0)\n",
      "    #plt.scatter(tup_rim[0]*1e6, tup_rim[1], c='r', s=10, linewidth=0)\n",
      "    plt.scatter(tup_no[0]*1e6, tup_no[1], c='k', s=10, linewidth=0)\n",
      "    plt.xscale('log')\n",
      "    plt.yscale('log')\n",
      "    plt.xlabel('B0')\n",
      "    plt.ylabel('ab')\n",
      "    plt.xlim(10,200)\n",
      "    plt.ylim(0.002,0.5)\n",
      "    plt.tight_layout()\n",
      "    plt.show()"
     ],
     "language": "python",
     "metadata": {},
     "outputs": []
    },
    {
     "cell_type": "code",
     "collapsed": true,
     "input": [
      "for n, radio, xhard in zip(xrange(1,len(prfs_radio)+1), prfs_radio, prfs_xhard):\n",
      "    \n",
      "    if not(np.isnan(radio.y_min) and ~np.isnan(radio.y_max)):\n",
      "        print 'skip'\n",
      "        continue  # skip profiles not showing plateau-like behavior\n",
      "    \n",
      "    radio_rise = snr.rsarc - radio.x_max\n",
      "    \n",
      "    tup_good = []  # rises to a max fast enough\n",
      "    \n",
      "    for B0 in B0_vals:\n",
      "        for tup, ab in zip(tycho_out_test[B0], ab_vals):\n",
      "            igrid, rgrid = tup[0][0], tup[1][0]\n",
      "            data_dict = tup[2][0]  # 3 gets list of dicts; 0 gets first dict\n",
      "            \n",
      "            has_max = data_dict['has_max']\n",
      "            min_pct = data_dict['min_pct']\n",
      "            min_pos = data_dict['min_pos']\n",
      "            max_pos = data_dict['max_pos']\n",
      "            \n",
      "            if has_max:\n",
      "                radio_rise_m = snr.rsarc*(1 - max_pos)\n",
      "                \n",
      "                if radio_rise > radio_rise_m:  # Model reaches max sooner than data, good\n",
      "                    tup_good.append((B0, ab))\n",
      "\n",
      "    tup_good = np.array(tup_good).T\n",
      "    B0_good, ab_good = tup_good\n",
      "    print 'Region {} ({}): minimum B0 = {:0.3f}, maximum ab = {:0.3f}'.format(n, the_alphabet_song[n-1],\n",
      "            min(B0_good)*1e6, max(ab_good))"
     ],
     "language": "python",
     "metadata": {},
     "outputs": []
    },
    {
     "cell_type": "heading",
     "level": 3,
     "metadata": {},
     "source": [
      "Address loss-limited rims -- if it does not show a max within ~6 arcsec or whatever, then just look at profiles without rims"
     ]
    },
    {
     "cell_type": "code",
     "collapsed": true,
     "input": [
      "for n, radio, xhard in zip(xrange(1,len(prfs_radio)+1), prfs_radio, prfs_xhard):\n",
      "    \n",
      "    if not(np.isnan(radio.y_min) and np.isnan(radio.y_max)):\n",
      "        print 'skip'\n",
      "        continue  # skip profiles not showing loss-limited behavior\n",
      "    \n",
      "    print 'Region {} ({})'.format(n, the_alphabet_song[n-1])\n",
      "    \n",
      "    radio_rise = snr.rsarc - radio.x_max\n",
      "    \n",
      "    tup_good = []  # rises to a max fast enough\n",
      "    tup_rim_okay = []  # rises to a max not fast enough\n",
      "    #tup_rim = []  # min_pct too small, but at least shows a maximum / rim\n",
      "    tup_no = []  # no rim at all\n",
      "    \n",
      "    for B0 in B0_vals:\n",
      "        for tup, ab in zip(tycho_out_test[B0], ab_vals):\n",
      "            igrid, rgrid = tup[0][0], tup[1][0]\n",
      "            data_dict = tup[2][0]  # 3 gets list of dicts; 0 gets first dict\n",
      "            \n",
      "            has_max = data_dict['has_max']\n",
      "            min_pct = data_dict['min_pct']\n",
      "            min_pos = data_dict['min_pos']\n",
      "            max_pos = data_dict['max_pos']\n",
      "            \n",
      "            if has_max:\n",
      "                if max_pos > 0.95:  # Within 5 % of shock radius\n",
      "                    tup_no.append((B0, ab))\n",
      "                else:  # Reaches maximum too soon\n",
      "                    tup_rim_okay.append((B0,ab))\n",
      "            else:\n",
      "                tup_good.append((B0, ab))  # No maximum, hurray\n",
      "\n",
      "    tup_good = np.array(tup_good).T\n",
      "    tup_rim_okay = np.array(tup_rim_okay).T\n",
      "    #tup_rim = np.array(tup_rim).T\n",
      "    tup_no = np.array(tup_no).T\n",
      "\n",
      "    plt.figure(figsize=(5,4))\n",
      "    plt.scatter(tup_good[0]*1e6, tup_good[1], c='y', s=10, linewidth=0)\n",
      "    plt.scatter(tup_rim_okay[0]*1e6, tup_rim_okay[1], c='c', s=10, linewidth=0)\n",
      "    #plt.scatter(tup_rim[0]*1e6, tup_rim[1], c='r', s=10, linewidth=0)\n",
      "    plt.scatter(tup_no[0]*1e6, tup_no[1], c='k', s=10, linewidth=0)\n",
      "    plt.xscale('log')\n",
      "    plt.yscale('log')\n",
      "    plt.xlabel('B0')\n",
      "    plt.ylabel('ab')\n",
      "    plt.xlim(10,200)\n",
      "    plt.ylim(0.002,0.5)\n",
      "    plt.tight_layout()\n",
      "    plt.show()"
     ],
     "language": "python",
     "metadata": {},
     "outputs": []
    },
    {
     "cell_type": "heading",
     "level": 1,
     "metadata": {},
     "source": [
      "Eyeball fit x-ray/radio profiles to model output profiles"
     ]
    },
    {
     "cell_type": "heading",
     "level": 2,
     "metadata": {},
     "source": [
      "Methods to automate some aspects of fitting and plotting"
     ]
    },
    {
     "cell_type": "markdown",
     "metadata": {},
     "source": [
      "Currently enforcing translation limit of $\\pm 5$ arcseconds.  Fitting with $a_b$ and $B_0$ fixed, amplitude $>0$.\n",
      "\n",
      "The profile alignment (x-axis) is a bit funky, complicated because I used different translation factors for different fits.  When plotting multiple fits it makes most sense to translate/twiddle the fits rather than the data (and that makes more sense in general), but it also makes it tricker to plot the damping lengthscale/zone."
     ]
    },
    {
     "cell_type": "code",
     "collapsed": true,
     "input": [
      "def get_fit_res(ab, B0, kevs, prfs, epss, r_prfs, rminarc_f=1.5, **lmfit_kws):\n",
      "    \"\"\"Run joint fit with fixed ab, B0 values\"\"\"\n",
      "    assert len(kevs) == len(prfs) == len(epss) == len(r_prfs)\n",
      "    \n",
      "    model_kws = {}\n",
      "    model_kws['get_prfs'] = True\n",
      "    model_kws['irad_adapt'] = False\n",
      "    model_kws['get_fwhms'] = False\n",
      "    model_kws['get_data'] = False\n",
      "    model_kws['verbose'] = False\n",
      "    model_kws['damp_ab'] = ab\n",
      "    if ab > 1.0 or np.isnan(ab) or ab < 0.0:\n",
      "        model_kws['idamp'] = False\n",
      "    else:\n",
      "        model_kws['idamp'] = True\n",
      "\n",
      "    # require rminarc > r_prfs at all energies, default safety factor 1.5\n",
      "    rminarc = []\n",
      "    for r_prf in r_prfs:\n",
      "        rminarc.append(max(r_prf) - min(r_prf))\n",
      "    model_kws['rminarc'] = rminarc_f * np.array(rminarc)\n",
      "\n",
      "    p = lmfit.Parameters()\n",
      "    p.add('mu', value=1, vary=False)\n",
      "    p.add('eta2', value=1, vary=False)\n",
      "    p.add('B0', value=B0, vary=False)\n",
      "    \n",
      "    multishift = True\n",
      "    for n in xrange(len(kevs)):\n",
      "        p.add('r_trans_{:d}'.format(n), value=0, vary=True, min=-5, max=5)\n",
      "        p.add('amp_{:d}'.format(n), value=1, vary=True, min=0)\n",
      "\n",
      "    res = lmfit.minimize(models.prf_objective_func, p,\n",
      "                         args=(prfs, epss, r_prfs, multishift, kevs, snr),\n",
      "                         kws=model_kws, **lmfit_kws)\n",
      "    return res, model_kws"
     ],
     "language": "python",
     "metadata": {},
     "outputs": []
    },
    {
     "cell_type": "code",
     "collapsed": true,
     "input": [
      "def init_eyeball_fit(n, ab=None, B0=None):\n",
      "    \"\"\"Initialize stuff to fit, runs one initial fit\"\"\"\n",
      "    radio, xhard = prfs_radio[n], prfs_xhard[n]\n",
      "    letter = the_alphabet_song[n]\n",
      "    rmsk = radio.msk\n",
      "    xmsk = xhard.msk\n",
      "\n",
      "    prfs = [radio.y[rmsk], xhard.y[xmsk]]\n",
      "    epss = [radio.eps[rmsk], xhard.eps[xmsk]]\n",
      "    rprfs = [radio.x[rmsk], xhard.x[xmsk]]\n",
      "    \n",
      "    if ab is None:\n",
      "        ab = 0.02\n",
      "    if B0 is None:\n",
      "        B0 = 100e-6\n",
      "\n",
      "    res, mkws = get_fit_res(ab, B0, kevs_all,\n",
      "                      prfs, epss, rprfs,\n",
      "                      xtol=1e-3, ftol=1e-3, maxfev=20)\n",
      "\n",
      "    # Remove limits on r_trans for manual twiddling\n",
      "    res.params['r_trans_0'].min = -100\n",
      "    res.params['r_trans_0'].max = 100\n",
      "    res.params['r_trans_1'].min = -100\n",
      "    res.params['r_trans_1'].max = 100\n",
      "    \n",
      "    return radio, xhard, res, mkws, letter"
     ],
     "language": "python",
     "metadata": {},
     "outputs": []
    },
    {
     "cell_type": "markdown",
     "metadata": {},
     "source": [
      "Methods for plotting -- `eyeball_fit` is oriented towards the iterative twiddling of parameters; `plt_prf_fit_multi` is used to plot multiple model curves for comparison in paper.\n",
      "\n",
      "When generating plots for paper, we basically re-implement `eyeball_fit` on the fly with different twiddle-ables set."
     ]
    },
    {
     "cell_type": "code",
     "collapsed": true,
     "input": [
      "def plt_prf_fit_multi(params_mult, ab_mult, fmt_mult, mkws, kevs, prfs, epss, rprfs, msks, letter):\n",
      "    \"\"\"Make plot of data and eyeball fits for multiple sets of mkws/params/fmts (show fit variation)\"\"\"\n",
      "    assert len(kevs) == len(prfs) == len(msks)\n",
      "    \n",
      "    # Use larger figures if plotting interactively\n",
      "    figsize = (6,3) if len(params_mult) > 1 else (8,4)\n",
      "    _, axes = plt.subplots(1,len(kevs), figsize=figsize)\n",
      "    \n",
      "    for params, ab, fmt in zip(params_mult, ab_mult, fmt_mult):\n",
      "        \n",
      "        mkws['damp_ab'] = ab\n",
      "        if ab > 0.5 or np.isnan(ab):\n",
      "            mkws['idamp'] = False\n",
      "        else:\n",
      "            mkws['idamp'] = True\n",
      "        \n",
      "        igrids, rgrids = models.width_cont(params, kevs, snr, **mkws)  # snr is (effectively) a global here...\n",
      "        \n",
      "        for ax, rgrid, igrid, n in zip(axes, rgrids, igrids, xrange(len(kevs))):\n",
      "            if ab > 0.5 or np.isnan(ab):\n",
      "                lab_ab = r'$a_b = \\infty$'\n",
      "            else:\n",
      "                lab_ab = r'$a_b = {:g}$'.format(ab)\n",
      "            ax.plot(rgrid - params['r_trans_{}'.format(n)].value,\n",
      "                    igrid / params['amp_{}'.format(n)].value,\n",
      "                    fmt, zorder=10,\n",
      "                    label=r'{}, $B_0 = {:0.0f}\\;\\mu$G'.format(lab_ab, params['B0'].value*1e6))\n",
      "    \n",
      "    for _ in zip(prfs, epss, rprfs, msks, axes):\n",
      "        prf, eps, rprf, msk, ax = _\n",
      "        plt_help_data(ax, rprf, prf, eps, msk)\n",
      "    \n",
      "    # These are to be applied universally, anyways, and can be changed\n",
      "    for ax in axes:\n",
      "        ax.set_xlim((215,245))\n",
      "        ax.set_xlabel('Radial distance (arcsec)')\n",
      "    axes[0].set_ylabel('Radio intensity (Jy/beam, arbitrary scaling)')\n",
      "    axes[1].set_ylabel(r'X-ray intensity (cts/cm${}^2$/s, arbitrary scaling)')\n",
      "    \n",
      "    # This should work for all plots, so don't repeat this\n",
      "    axes[1].text(0.89, 0.89, letter, transform=axes[1].transAxes,\n",
      "                 horizontalalignment='center', fontsize=14)\n",
      "    \n",
      "    return axes\n",
      "\n",
      "def plt_help_data(ax, x, y, eps, msk):\n",
      "    \"\"\"Plot masked and unmasked data\"\"\"\n",
      "    nmsk = np.logical_not(msk)\n",
      "    ax.errorbar(x[msk], y[msk], yerr=eps[msk], fmt='.b', capsize=0)\n",
      "    ax.errorbar(x[nmsk], y[nmsk], yerr=eps[nmsk], fmt='.k', capsize=0, alpha=0.2)\n",
      "    return ax"
     ],
     "language": "python",
     "metadata": {},
     "outputs": []
    },
    {
     "cell_type": "code",
     "collapsed": true,
     "input": [
      "def eyeball_fit(radio, xhard, res, mkws, letter, ab=None, **kwargs):\n",
      "    \"\"\"if ab > 0.5 or nan, turn off damping\n",
      "    Supply B0, amp_0, r_trans_0, amp_1, r_trans_1 by kwargs\n",
      "    Convenience method for quickly plotting/replotting stuff\"\"\"\n",
      "    \n",
      "    if ab is None:\n",
      "        ab = mkws['damp_ab']\n",
      "    \n",
      "    for kw, val in kwargs.items():\n",
      "        if kw in res.params:\n",
      "            res.params[kw].value = val\n",
      "        else:\n",
      "            raise Exception('Invalid param. name, must be in res.params')\n",
      "    \n",
      "    axes = plt_prf_fit_multi([res.params], [ab], ['-k'], mkws, kevs_all,\n",
      "                             [radio.y, xhard.y], [radio.eps, xhard.eps],\n",
      "                             [radio.x, xhard.x], [radio.msk, xhard.msk], letter)\n",
      "    \n",
      "    for ax, n in zip(axes, xrange(2)):\n",
      "        if 'idamp' in mkws and mkws['idamp']:\n",
      "            ax.axvspan(snr.rsarc*(1-mkws['damp_ab']) - res.params['r_trans_{}'.format(n)],\n",
      "                       snr.rsarc - res.params['r_trans_{}'.format(n)], alpha=0.1, color='green')\n",
      "    \n",
      "    axes[0].text(0.1, 0.1, '1.375 GHz', transform=axes[0].transAxes,\n",
      "                 horizontalalignment='left', fontsize=12)\n",
      "    axes[1].text(0.1, 0.1, '4-7 keV', transform=axes[1].transAxes,\n",
      "                 horizontalalignment='left', fontsize=12)\n",
      "    plt.tight_layout()\n",
      "    \n",
      "    return axes"
     ],
     "language": "python",
     "metadata": {},
     "outputs": []
    },
    {
     "cell_type": "heading",
     "level": 2,
     "metadata": {},
     "source": [
      "Individual (manual) fitting, twiddling parameters, etc"
     ]
    },
    {
     "cell_type": "markdown",
     "metadata": {},
     "source": [
      "Try running a fit and loading some data.  Set the data / etc here for subsequent parameter playing.\n",
      "\n",
      "__Note:__ code is not consistently up to date (too many cells).  The most important data are the parameters and translations/amplitudes, which are time-intensive to determine by hand.  Update cells w/ correct methods on the fly."
     ]
    },
    {
     "cell_type": "heading",
     "level": 3,
     "metadata": {},
     "source": [
      "Manual fits for Region A, `regions-6-VLA`"
     ]
    },
    {
     "cell_type": "code",
     "collapsed": true,
     "input": [
      "radio, xhard, res, mkws, letter = init_eyeball_fit(0, ab=0.02, B0=50e-6)  # 0 == A"
     ],
     "language": "python",
     "metadata": {},
     "outputs": []
    },
    {
     "cell_type": "markdown",
     "metadata": {},
     "source": [
      "Region A, $a_b = 0.1$, $B_0 = 200$ $\\mu$G.  Even at $B_0 = 10$ mG, we cannot form a radio rim; $a_b$ is too large.\n",
      "Instead, we try to fit the X-ray rim, then scale the radio rise to fit underneath the bump"
     ]
    },
    {
     "cell_type": "code",
     "collapsed": true,
     "input": [
      "p1, p2, p3 = [lmfit.Parameters(), lmfit.Parameters(), lmfit.Parameters()]\n",
      "p1.add_many(('B0',120e-6), ('amp_0', 24), ('amp_1', 115), ('r_trans_0', 2.1), ('r_trans_1', 3.5), ('mu', 1), ('eta2', 1))\n",
      "p2.add_many(('B0',200e-6), ('amp_0', 53), ('amp_1', 175), ('r_trans_0', 2.1), ('r_trans_1', 5), ('mu', 1), ('eta2', 1))\n",
      "p3.add_many(('B0',300e-6), ('amp_0', 100), ('amp_1', 260), ('r_trans_0', 2.1), ('r_trans_1', 5.2), ('mu', 1), ('eta2', 1))\n",
      "\n",
      "pars_mult = [p1, p2, p3]\n",
      "ab_mult = [0.1, 0.1, 0.1]\n",
      "fmt_mult = ['--r', '-k', '--c']\n",
      "\n",
      "axes = plt_prf_fit_multi(pars_mult, ab_mult, fmt_mult, mkws, kevs_all,\n",
      "                         [radio.y, xhard.y], [radio.eps, xhard.eps],\n",
      "                         [radio.x, xhard.x], [radio.msk, xhard.msk], letter)"
     ],
     "language": "python",
     "metadata": {},
     "outputs": []
    },
    {
     "cell_type": "markdown",
     "metadata": {},
     "source": [
      "Region A, $a_b = 0.025$, $B_0 = 70$ $\\mu$G."
     ]
    },
    {
     "cell_type": "code",
     "collapsed": true,
     "input": [
      "axes = eyeball_fit(radio, xhard, res, mkws, letter, ab=0.025, B0=100e-6,\n",
      "                   amp_0=7.6, amp_1=78, r_trans_0=4.6, r_trans_1=4.4)"
     ],
     "language": "python",
     "metadata": {},
     "outputs": []
    },
    {
     "cell_type": "markdown",
     "metadata": {},
     "source": [
      "Region A, $a_b = 0.02$, $B_0 = 50$ $\\mu$G.  __This is the \"best\" eyeballed fit__\n",
      "\n",
      "Increased $B_0$ sharpens rim, improves X-ray but worsens radio.\n",
      "And, vice versa for smaller $B_0$.  Deviation gets bad around $30$ and $150$ $\\mu$G."
     ]
    },
    {
     "cell_type": "code",
     "collapsed": true,
     "input": [
      "p1, p2, p3 = [lmfit.Parameters(), lmfit.Parameters(), lmfit.Parameters()]\n",
      "p1.add_many(('B0',30e-6), ('amp_0', 1.12), ('amp_1', 17), ('r_trans_0', 4.5), ('r_trans_1', 3), ('mu', 1), ('eta2', 1))\n",
      "p2.add_many(('B0',50e-6), ('amp_0', 2.3), ('amp_1', 27.5), ('r_trans_0', 5), ('r_trans_1', 3.6), ('mu', 1), ('eta2', 1))\n",
      "p3.add_many(('B0',150e-6), ('amp_0', 12.5), ('amp_1', 110), ('r_trans_0', 5.2), ('r_trans_1', 5), ('mu', 1), ('eta2', 1))\n",
      "\n",
      "pars_mult = [p1, p2, p3]\n",
      "ab_mult = [0.02, 0.02, 0.02]\n",
      "fmt_mult = ['-r', '-k', '-c']\n",
      "\n",
      "axes = plt_prf_fit_multi(pars_mult, ab_mult, fmt_mult, mkws, kevs_all,\n",
      "                         [radio.y, xhard.y], [radio.eps, xhard.eps],\n",
      "                         [radio.x, xhard.x], [radio.msk, xhard.msk], letter)\n",
      "\n",
      "for ax in axes:\n",
      "    ax.set_xlim((216,250))\n",
      "    ax.set_xlabel('Radial distance (arcsec)')\n",
      "axes[0].set_ylim(ymin=-0.03)\n",
      "\n",
      "axes[0].set_ylabel('Radio intensity (Jy/beam, arbitrary scaling)')\n",
      "axes[1].set_ylabel(r'X-ray intensity (cts/cm${}^2$/s, arbitrary scaling)')\n",
      "    \n",
      "axes[0].text(0.08, 0.92, '1.375 GHz', transform=axes[0].transAxes,\n",
      "             horizontalalignment='left', fontsize=12)\n",
      "axes[1].text(0.08, 0.92, '4-7 keV', transform=axes[1].transAxes,\n",
      "             horizontalalignment='left', fontsize=12)\n",
      "\n",
      "axes[0].legend(loc='best', frameon=False)\n",
      "plt.tight_layout()"
     ],
     "language": "python",
     "metadata": {},
     "outputs": []
    },
    {
     "cell_type": "markdown",
     "metadata": {},
     "source": [
      "Region A, $a_b = 0.015$, $B_0 = 50$ $\\mu$G."
     ]
    },
    {
     "cell_type": "code",
     "collapsed": true,
     "input": [
      "axes = eyeball_fit(radio, xhard, res, mkws, letter, ab=0.015, B0=100e-6,\n",
      "                   amp_0=5.8, amp_1=60, r_trans_0=5.5, r_trans_1=5)"
     ],
     "language": "python",
     "metadata": {},
     "outputs": []
    },
    {
     "cell_type": "markdown",
     "metadata": {},
     "source": [
      "Region A, $a_b = 0.005$ with various $B_0$ values"
     ]
    },
    {
     "cell_type": "code",
     "collapsed": true,
     "input": [
      "axes = eyeball_fit(radio, xhard, res, mkws, letter, ab=0.005, B0=100e-6,\n",
      "                   amp_0=3.4, amp_1=40, r_trans_0=6.5, r_trans_1=5)"
     ],
     "language": "python",
     "metadata": {},
     "outputs": []
    },
    {
     "cell_type": "code",
     "collapsed": true,
     "input": [
      "axes = eyeball_fit(radio, xhard, res, mkws, letter, ab=0.005, B0=22e-6,\n",
      "                   amp_0=0.35, amp_1=4.5, r_trans_0=6.7, r_trans_1=5)"
     ],
     "language": "python",
     "metadata": {},
     "outputs": []
    },
    {
     "cell_type": "code",
     "collapsed": true,
     "input": [
      "axes = eyeball_fit(radio, xhard, res, mkws, letter, ab=0.005, B0=16e-6,\n",
      "                   amp_0=0.32, amp_1=3.7, r_trans_0=4, r_trans_1=4)"
     ],
     "language": "python",
     "metadata": {},
     "outputs": []
    },
    {
     "cell_type": "heading",
     "level": 3,
     "metadata": {},
     "source": [
      "Manual fit for Region B, regions-6-VLA"
     ]
    },
    {
     "cell_type": "markdown",
     "metadata": {},
     "source": [
      "This is a \"plateau\" region; the main constraint comes from the X-ray rim.\n",
      "\n",
      "Here $a_b = 0.05$, $B_0 = 200$ $\\mu$G fits very nicely; plausible range in $B_0$ is 150--250 $\\mu$G.  $100$ and $300$ start to push it on the X-ray.  $a_b = 0.03$ to $0.08$ seems like an okay range for damping length spread."
     ]
    },
    {
     "cell_type": "code",
     "collapsed": true,
     "input": [
      "radio, xhard, res, mkws, letter = init_eyeball_fit(1, ab=0.02, B0=50e-6)  # 1 == B"
     ],
     "language": "python",
     "metadata": {},
     "outputs": []
    },
    {
     "cell_type": "code",
     "collapsed": true,
     "input": [
      "p1, p2, p3 = [lmfit.Parameters(), lmfit.Parameters(), lmfit.Parameters()]\n",
      "p1.add_many(('B0', 100e-6), ('amp_0', 15.8), ('amp_1', 70), ('r_trans_0', 1), ('r_trans_1', 0.6), ('mu', 1), ('eta2', 1))\n",
      "p2.add_many(('B0', 200e-6), ('amp_0', 47), ('amp_1', 110), ('r_trans_0', 1), ('r_trans_1', 1.2), ('mu', 1), ('eta2', 1))\n",
      "p3.add_many(('B0', 300e-6), ('amp_0', 88), ('amp_1', 160), ('r_trans_0', 1), ('r_trans_1', 1.2), ('mu', 1), ('eta2', 1))\n",
      "\n",
      "pars_mult = [p1, p2, p3]\n",
      "ab_mult = [0.05, 0.05, 0.05]\n",
      "fmt_mult = ['-r', '-k', '-c']\n",
      "\n",
      "axes = plt_prf_fit_multi(pars_mult, ab_mult, fmt_mult, mkws, kevs_all,\n",
      "                         [radio.y, xhard.y], [radio.eps, xhard.eps],\n",
      "                         [radio.x, xhard.x], [radio.msk, xhard.msk], letter)\n",
      "\n",
      "axes[0].set_ylim(ymin=-0.02)\n",
      "axes[1].set_ylim(ymin=0)\n",
      "    \n",
      "axes[0].text(0.07, 0.83, '1.375 GHz', transform=axes[0].transAxes,\n",
      "             horizontalalignment='left', fontsize=11)\n",
      "axes[1].text(0.07, 0.89, '4-7 keV', transform=axes[1].transAxes,\n",
      "             horizontalalignment='left', fontsize=11)\n",
      "\n",
      "axes[0].legend(loc='best', frameon=False, fontsize=8)\n",
      "plt.tight_layout()\n",
      "plt.savefig(plt_root + 'region-{}-ab_0.05-B0_vary.pdf'.format(letter))  # Change this filename appropriately..."
     ],
     "language": "python",
     "metadata": {},
     "outputs": []
    },
    {
     "cell_type": "code",
     "collapsed": true,
     "input": [
      "axes = eyeball_fit(radio, xhard, res, mkws, letter, ab=0.05, B0=100e-6,\n",
      "                   amp_0 = 16, amp_1 = 70, r_trans_0 = 1, r_trans_1 = 0.6)"
     ],
     "language": "python",
     "metadata": {},
     "outputs": []
    },
    {
     "cell_type": "code",
     "collapsed": true,
     "input": [
      "axes = eyeball_fit(radio, xhard, res, mkws, letter, ab=0.05, B0=200e-6,\n",
      "                   amp_0 = 47, amp_1 = 110, r_trans_0 = 1, r_trans_1 = 1.2)"
     ],
     "language": "python",
     "metadata": {},
     "outputs": []
    },
    {
     "cell_type": "code",
     "collapsed": true,
     "input": [
      "axes = eyeball_fit(radio, xhard, res, mkws, letter, ab=0.05, B0=250e-6,\n",
      "                   amp_0 = 67, amp_1 = 140, r_trans_0 = 1, r_trans_1 = 1.2)"
     ],
     "language": "python",
     "metadata": {},
     "outputs": []
    },
    {
     "cell_type": "markdown",
     "metadata": {},
     "source": [
      "Region B, try other damping lengths"
     ]
    },
    {
     "cell_type": "code",
     "collapsed": true,
     "input": [
      "p1, p2, p3 = [lmfit.Parameters(), lmfit.Parameters(), lmfit.Parameters()]\n",
      "p1.add_many(('B0', 200e-6), ('amp_0', 55), ('amp_1', 114), ('r_trans_0', 1), ('r_trans_1', 1.2), ('mu', 1), ('eta2', 1))\n",
      "p2.add_many(('B0', 200e-6), ('amp_0', 47), ('amp_1', 110), ('r_trans_0', 1), ('r_trans_1', 1.2), ('mu', 1), ('eta2', 1))\n",
      "p3.add_many(('B0', 200e-6), ('amp_0', 38), ('amp_1', 105), ('r_trans_0', 1.5), ('r_trans_1', 1.2), ('mu', 1), ('eta2', 1))\n",
      "\n",
      "pars_mult = [p1, p2, p3]\n",
      "ab_mult = [0.07, 0.05, 0.03]\n",
      "fmt_mult = ['--r', '-k', '--c']\n",
      "\n",
      "axes = plt_prf_fit_multi(pars_mult, ab_mult, fmt_mult, mkws, kevs_all,\n",
      "                         [radio.y, xhard.y], [radio.eps, xhard.eps],\n",
      "                         [radio.x, xhard.x], [radio.msk, xhard.msk], letter)\n",
      "\n",
      "axes[0].set_ylim(ymin=-0.02)\n",
      "axes[1].set_ylim(ymin=0)\n",
      "    \n",
      "axes[0].text(0.07, 0.83, '1.375 GHz', transform=axes[0].transAxes,\n",
      "             horizontalalignment='left', fontsize=11)\n",
      "axes[1].text(0.07, 0.89, '4-7 keV', transform=axes[1].transAxes,\n",
      "             horizontalalignment='left', fontsize=11)\n",
      "\n",
      "axes[0].legend(loc='best', frameon=False, fontsize=8)\n",
      "plt.tight_layout()\n",
      "plt.savefig(plt_root + 'region-{}-ab_vary-B0_200e-6.pdf'.format(letter))  # Change this filename appropriately..."
     ],
     "language": "python",
     "metadata": {},
     "outputs": []
    },
    {
     "cell_type": "code",
     "collapsed": true,
     "input": [
      "p1, p2, p3 = lmfit.Parameters(), lmfit.Parameters(), lmfit.Parameters()\n",
      "p4, p5 = lmfit.Parameters(), lmfit.Parameters()\n",
      "p1.add_many(('B0', 100e-6), ('amp_0', 15.8), ('amp_1', 70), ('r_trans_0', 1), ('r_trans_1', 0.6), ('mu', 1), ('eta2', 1))\n",
      "p2.add_many(('B0', 200e-6), ('amp_0', 47), ('amp_1', 110), ('r_trans_0', 1), ('r_trans_1', 1.2), ('mu', 1), ('eta2', 1))\n",
      "p3.add_many(('B0', 300e-6), ('amp_0', 88), ('amp_1', 160), ('r_trans_0', 1), ('r_trans_1', 1.2), ('mu', 1), ('eta2', 1))\n",
      "p4.add_many(('B0', 200e-6), ('amp_0', 55), ('amp_1', 114), ('r_trans_0', 1), ('r_trans_1', 1.2), ('mu', 1), ('eta2', 1))\n",
      "p5.add_many(('B0', 200e-6), ('amp_0', 38), ('amp_1', 105), ('r_trans_0', 1.5), ('r_trans_1', 1.2), ('mu', 1), ('eta2', 1))\n",
      "\n",
      "pars_mult = [p1, p2, p3, p4, p5]\n",
      "ab_mult = [0.05, 0.05, 0.05, 0.07, 0.03]\n",
      "fmt_mult = ['-r', '-k', '-c', '--m', '--y']\n",
      "\n",
      "axes = plt_prf_fit_multi(pars_mult, ab_mult, fmt_mult, mkws, kevs_all,\n",
      "                         [radio.y, xhard.y], [radio.eps, xhard.eps],\n",
      "                         [radio.x, xhard.x], [radio.msk, xhard.msk], letter)\n",
      "\n",
      "axes[0].set_ylim(ymin=0)\n",
      "axes[1].set_ylim(ymin=0)\n",
      "    \n",
      "axes[0].text(0.07, 0.8, '1.375 GHz', transform=axes[0].transAxes,\n",
      "             horizontalalignment='left', fontsize=11)\n",
      "axes[1].text(0.07, 0.89, '4-7 keV', transform=axes[1].transAxes,\n",
      "             horizontalalignment='left', fontsize=11)\n",
      "\n",
      "axes[0].legend(loc='best', frameon=False, fontsize=8)\n",
      "plt.tight_layout()\n",
      "plt.savefig(plt_root + 'region-{}-ab_vary-B0_vary.pdf'.format(letter))  # Change this filename appropriately..."
     ],
     "language": "python",
     "metadata": {},
     "outputs": []
    },
    {
     "cell_type": "heading",
     "level": 3,
     "metadata": {},
     "source": [
      "Manual fit for Region C, regions-6-VLA"
     ]
    },
    {
     "cell_type": "markdown",
     "metadata": {},
     "source": [
      "This one is tricky, especially as the X-ray \"rim\" is very fuzzy and has few counts\n",
      "\n",
      "* 0.005 is generally kind of poor (to not get radio rim while still getting weak/broad, but present X-ray rim is difficult)\n",
      "* 0.01 (15 $\\mu$G) looks plausible\n",
      "* 0.02 (15 $\\mu$G) same deal\n",
      "* up to 0.05 is plausible too, but at this point radio does not capture the sharpness as well.  Damping is favored to reproduce the sharp rise.\n",
      "\n",
      "So I guess $0.01$ to $0.05$ is acceptable for damping lengths"
     ]
    },
    {
     "cell_type": "code",
     "collapsed": true,
     "input": [
      "radio, xhard, res, mkws, letter = init_eyeball_fit(2, ab=0.02, B0=50e-6)  # 2 == C"
     ],
     "language": "python",
     "metadata": {},
     "outputs": []
    },
    {
     "cell_type": "code",
     "collapsed": true,
     "input": [
      "axes = eyeball_fit(radio, xhard, res, mkws, letter, ab=0.05, B0=35e-6,\n",
      "                   amp_0 = 6.5, amp_1 = 25, r_trans_0 = 0.27, r_trans_1 = 0)"
     ],
     "language": "python",
     "metadata": {},
     "outputs": []
    },
    {
     "cell_type": "code",
     "collapsed": true,
     "input": [
      "axes = eyeball_fit(radio, xhard, res, mkws, letter, ab=0.05, B0=60e-6,\n",
      "                   amp_0 = 15, amp_1 = 45, r_trans_0 = 0.27, r_trans_1 = 0)"
     ],
     "language": "python",
     "metadata": {},
     "outputs": []
    },
    {
     "cell_type": "markdown",
     "metadata": {},
     "source": [
      "$a_b = 0.01$ seems the best compromise to get sharp radio rise and reasonably wide X-ray rim"
     ]
    },
    {
     "cell_type": "code",
     "collapsed": true,
     "input": [
      "axes = eyeball_fit(radio, xhard, res, mkws, letter, ab=0.01, B0=15e-6,\n",
      "                   amp_0 = 0.95, amp_1 = 3.5, r_trans_0 = 1.2, r_trans_1 = 1.2)"
     ],
     "language": "python",
     "metadata": {},
     "outputs": []
    },
    {
     "cell_type": "markdown",
     "metadata": {},
     "source": [
      "At smaller $a_b$, getting the X-ray rim to fit becomes problematic."
     ]
    },
    {
     "cell_type": "code",
     "collapsed": true,
     "input": [
      "axes = eyeball_fit(radio, xhard, res, mkws, letter, ab=0.005, B0=15e-6,\n",
      "                   amp_0 = 0.67, amp_1 = 2.4, r_trans_0 = 1.2, r_trans_1 = 1.2)"
     ],
     "language": "python",
     "metadata": {},
     "outputs": []
    },
    {
     "cell_type": "heading",
     "level": 3,
     "metadata": {},
     "source": [
      "Manual fit for Region D, regions-6-VLA"
     ]
    },
    {
     "cell_type": "markdown",
     "metadata": {},
     "source": [
      "ab=0.1, B0=100 (200, rim too narrow; 50, a little too fat)\n",
      "\n",
      "__ab = 0.05, B0 = 100 looks best__. 200 gets sharp rise, but x-ray rim too thin.\n",
      "\n",
      "ab = 0.02, B0 = 20--60 can't get the radio plateau.  smaller B0 improves radio plateau, but worsens x-ray rim."
     ]
    },
    {
     "cell_type": "code",
     "collapsed": true,
     "input": [
      "radio, xhard, res, mkws, letter = init_eyeball_fit(3, ab=0.02, B0=50e-6)  # 3 == D"
     ],
     "language": "python",
     "metadata": {},
     "outputs": []
    },
    {
     "cell_type": "code",
     "collapsed": true,
     "input": [
      "axes = eyeball_fit(radio, xhard, res, mkws, letter, ab=0.1, B0=50e-6,\n",
      "                   amp_0 = 14, amp_1 = 50, r_trans_0 = 1, r_trans_1 = 1)\n",
      "\n",
      "axes = eyeball_fit(radio, xhard, res, mkws, letter, ab=0.1, B0=100e-6,\n",
      "                   amp_0 = 40, amp_1 = 90, r_trans_0 = 1, r_trans_1 = 1)"
     ],
     "language": "python",
     "metadata": {},
     "outputs": []
    },
    {
     "cell_type": "code",
     "collapsed": true,
     "input": [
      "axes = eyeball_fit(radio, xhard, res, mkws, letter, ab=0.05, B0=100e-6,\n",
      "                   amp_0 = 29, amp_1 = 80, r_trans_0 = 1, r_trans_1 = 1)"
     ],
     "language": "python",
     "metadata": {},
     "outputs": []
    },
    {
     "cell_type": "code",
     "collapsed": true,
     "input": [
      "axes = eyeball_fit(radio, xhard, res, mkws, letter, ab=0.05, B0=50e-6,\n",
      "                   amp_0 = 10, amp_1 = 40, r_trans_0 = 1, r_trans_1 = 1)"
     ],
     "language": "python",
     "metadata": {},
     "outputs": []
    },
    {
     "cell_type": "code",
     "collapsed": true,
     "input": [
      "axes = eyeball_fit(radio, xhard, res, mkws, letter, ab=0.05, B0=200e-6,\n",
      "                   amp_0 = 85, amp_1 = 164, r_trans_0 = 1, r_trans_1 = 2)"
     ],
     "language": "python",
     "metadata": {},
     "outputs": []
    },
    {
     "cell_type": "code",
     "collapsed": true,
     "input": [
      "mkws['damp_ab'] = 0.02\n",
      "res.params['B0'].value = 60e-6\n",
      "\n",
      "res.params['amp_0'].value = 9\n",
      "res.params['r_trans_0'].value = 1\n",
      "res.params['amp_1'].value = 32\n",
      "res.params['r_trans_1'].value = 1.5\n",
      "\n",
      "plt_prf_fit(res.params, mkws, kevs_all, [radio.y, xhard.y], [radio.eps, xhard.eps],\n",
      "            [radio.x, xhard.x], [radio.msk, xhard.msk], letter)"
     ],
     "language": "python",
     "metadata": {},
     "outputs": []
    },
    {
     "cell_type": "code",
     "collapsed": true,
     "input": [
      "mkws['damp_ab'] = 0.02\n",
      "res.params['B0'].value = 20e-6\n",
      "\n",
      "res.params['amp_0'].value = 1.75\n",
      "res.params['r_trans_0'].value = 1\n",
      "res.params['amp_1'].value = 7.7\n",
      "res.params['r_trans_1'].value = 1\n",
      "\n",
      "plt_prf_fit(res.params, mkws, kevs_all, [radio.y, xhard.y], [radio.eps, xhard.eps],\n",
      "            [radio.x, xhard.x], [radio.msk, xhard.msk], letter)"
     ],
     "language": "python",
     "metadata": {},
     "outputs": []
    },
    {
     "cell_type": "code",
     "collapsed": true,
     "input": [
      "mkws['damp_ab'] = 0.01\n",
      "res.params['B0'].value = 15e-6\n",
      "\n",
      "res.params['amp_0'].value = 0.85\n",
      "res.params['r_trans_0'].value = 1\n",
      "res.params['amp_1'].value = 3.6\n",
      "res.params['r_trans_1'].value = 1.5\n",
      "\n",
      "plt_prf_fit(res.params, mkws, kevs_all, [radio.y, xhard.y], [radio.eps, xhard.eps],\n",
      "            [radio.x, xhard.x], [radio.msk, xhard.msk], letter)"
     ],
     "language": "python",
     "metadata": {},
     "outputs": []
    },
    {
     "cell_type": "code",
     "collapsed": true,
     "input": [
      "mkws['damp_ab'] = 0.005\n",
      "res.params['B0'].value = 15e-6\n",
      "\n",
      "res.params['amp_0'].value = 0.65\n",
      "res.params['r_trans_0'].value = 1.5\n",
      "res.params['amp_1'].value = 2.4\n",
      "res.params['r_trans_1'].value = 1.5\n",
      "\n",
      "plt_prf_fit(res.params, mkws, kevs_all, [radio.y, xhard.y], [radio.eps, xhard.eps],\n",
      "            [radio.x, xhard.x], [radio.msk, xhard.msk], letter)"
     ],
     "language": "python",
     "metadata": {},
     "outputs": []
    },
    {
     "cell_type": "heading",
     "level": 3,
     "metadata": {},
     "source": [
      "Region E"
     ]
    },
    {
     "cell_type": "markdown",
     "metadata": {},
     "source": [
      "This could plausibly be a two filament structure, honestly"
     ]
    },
    {
     "cell_type": "code",
     "collapsed": true,
     "input": [
      "radio, xhard, res, mkws, letter = init_eyeball_fit(4, ab=0.02, B0=50e-6)  # 4 == E"
     ],
     "language": "python",
     "metadata": {},
     "outputs": []
    },
    {
     "cell_type": "markdown",
     "metadata": {},
     "source": [
      "Region E, $a_b$ = 0.03 seems to work"
     ]
    },
    {
     "cell_type": "code",
     "collapsed": true,
     "input": [
      "mkws['damp_ab'] = 0.03\n",
      "res.params['B0'].value = 120e-6\n",
      "\n",
      "res.params['amp_0'].value = 18.7\n",
      "res.params['r_trans_0'].value = 0.5\n",
      "res.params['amp_1'].value = 58\n",
      "res.params['r_trans_1'].value = 1\n",
      "\n",
      "plt_prf_fit(res.params, mkws, kevs_all, [radio.y, xhard.y], [radio.eps, xhard.eps],\n",
      "            [radio.x, xhard.x], [radio.msk, xhard.msk], letter)\n",
      "plt.savefig('region-E-ab_0.03-B0_120e-6.pdf')\n",
      "plt.savefig('region-E-ab_0.03-B0_120e-6.png')"
     ],
     "language": "python",
     "metadata": {},
     "outputs": []
    },
    {
     "cell_type": "markdown",
     "metadata": {},
     "source": [
      "Larger damping length $a_b = 0.05$ is iffier in getting the fairly wide rim AND x-ray simultaneously"
     ]
    },
    {
     "cell_type": "code",
     "collapsed": true,
     "input": [
      "mkws['damp_ab'] = 0.05\n",
      "res.params['B0'].value = 100e-6\n",
      "\n",
      "res.params['amp_0'].value = 19\n",
      "res.params['r_trans_0'].value = 0.5\n",
      "res.params['amp_1'].value = 65\n",
      "res.params['r_trans_1'].value = 1\n",
      "\n",
      "plt_prf_fit(res.params, mkws, kevs_all, [radio.y, xhard.y], [radio.eps, xhard.eps],\n",
      "            [radio.x, xhard.x], [radio.msk, xhard.msk], letter)"
     ],
     "language": "python",
     "metadata": {},
     "outputs": []
    },
    {
     "cell_type": "code",
     "collapsed": true,
     "input": [
      "mkws['damp_ab'] = 0.05\n",
      "res.params['B0'].value = 250e-6\n",
      "\n",
      "res.params['amp_0'].value = 80\n",
      "res.params['r_trans_0'].value = 0.5\n",
      "res.params['amp_1'].value = 95\n",
      "res.params['r_trans_1'].value = 1\n",
      "\n",
      "plt_prf_fit(res.params, mkws, kevs_all, [radio.y, xhard.y], [radio.eps, xhard.eps],\n",
      "            [radio.x, xhard.x], [radio.msk, xhard.msk], letter)"
     ],
     "language": "python",
     "metadata": {},
     "outputs": []
    },
    {
     "cell_type": "heading",
     "level": 3,
     "metadata": {},
     "source": [
      "Manual fit to Region F"
     ]
    },
    {
     "cell_type": "markdown",
     "metadata": {},
     "source": [
      "Could be two filaments -- I don't really know."
     ]
    },
    {
     "cell_type": "code",
     "collapsed": true,
     "input": [
      "radio, xhard, res, mkws, letter = init_eyeball_fit(5, ab=0.02, B0=50e-6)  # 5 == F"
     ],
     "language": "python",
     "metadata": {},
     "outputs": []
    },
    {
     "cell_type": "markdown",
     "metadata": {},
     "source": [
      "0.05, 0.04, 0.03 gives radio too fat, x-ray too thin"
     ]
    },
    {
     "cell_type": "code",
     "collapsed": true,
     "input": [
      "mkws['damp_ab'] = 0.03\n",
      "res.params['B0'].value = 500e-6\n",
      "\n",
      "res.params['amp_0'].value = 290\n",
      "res.params['r_trans_0'].value = 1\n",
      "res.params['amp_1'].value = 180\n",
      "res.params['r_trans_1'].value = 1\n",
      "\n",
      "plt_prf_fit(res.params, mkws, kevs_all, [radio.y, xhard.y], [radio.eps, xhard.eps],\n",
      "            [radio.x, xhard.x], [radio.msk, xhard.msk], letter)"
     ],
     "language": "python",
     "metadata": {},
     "outputs": []
    },
    {
     "cell_type": "markdown",
     "metadata": {},
     "source": [
      "Now both are too thin..."
     ]
    },
    {
     "cell_type": "code",
     "collapsed": true,
     "input": [
      "mkws['damp_ab'] = 0.025\n",
      "res.params['B0'].value = 300e-6\n",
      "\n",
      "res.params['amp_0'].value = 115\n",
      "res.params['r_trans_0'].value = 1\n",
      "res.params['amp_1'].value = 110\n",
      "res.params['r_trans_1'].value = 1.5\n",
      "\n",
      "plt_prf_fit(res.params, mkws, kevs_all, [radio.y, xhard.y], [radio.eps, xhard.eps],\n",
      "            [radio.x, xhard.x], [radio.msk, xhard.msk], letter)"
     ],
     "language": "python",
     "metadata": {},
     "outputs": []
    },
    {
     "cell_type": "code",
     "collapsed": true,
     "input": [
      "mkws['damp_ab'] = 0.02\n",
      "res.params['B0'].value = 300e-6\n",
      "\n",
      "res.params['amp_0'].value = 110\n",
      "res.params['r_trans_0'].value = 1\n",
      "res.params['amp_1'].value = 110\n",
      "res.params['r_trans_1'].value = 1.5\n",
      "\n",
      "plt_prf_fit(res.params, mkws, kevs_all, [radio.y, xhard.y], [radio.eps, xhard.eps],\n",
      "            [radio.x, xhard.x], [radio.msk, xhard.msk], letter)"
     ],
     "language": "python",
     "metadata": {},
     "outputs": []
    },
    {
     "cell_type": "heading",
     "level": 3,
     "metadata": {},
     "source": [
      "Manual fit to Region G"
     ]
    },
    {
     "cell_type": "markdown",
     "metadata": {},
     "source": [
      "ab = 0.02 (0.01-0.03), B0 = 250 (200-300)"
     ]
    },
    {
     "cell_type": "code",
     "collapsed": true,
     "input": [
      "radio, xhard, res, mkws, letter = init_eyeball_fit(6, ab=0.02, B0=50e-6)  # 6 == G"
     ],
     "language": "python",
     "metadata": {},
     "outputs": []
    },
    {
     "cell_type": "markdown",
     "metadata": {},
     "source": [
      "at ab = 0.03, B0 of 200/400 just worsen the x-ray rims too much.  Best is probably around B0 = 250.  Does not capture radio rim."
     ]
    },
    {
     "cell_type": "code",
     "collapsed": false,
     "input": [
      "axes = eyeball_fit(radio, xhard, res, mkws, letter, ab=0.03, B0=250e-6,\n",
      "                   amp_0 = 135, amp_1 = 73, r_trans_0 = 0.5, r_trans_1 = 1)"
     ],
     "language": "python",
     "metadata": {},
     "outputs": []
    },
    {
     "cell_type": "markdown",
     "metadata": {},
     "source": [
      "ab = 0.02 is as good as we'll get.  B0 = 250 seems to hit the spot, 200-300 are too fat/thin"
     ]
    },
    {
     "cell_type": "code",
     "collapsed": true,
     "input": [
      "mkws['damp_ab'] = 0.02\n",
      "res.params['B0'].value = 200e-6\n",
      "\n",
      "res.params['amp_0'].value = 74\n",
      "res.params['r_trans_0'].value = 0.5\n",
      "res.params['amp_1'].value = 55\n",
      "res.params['r_trans_1'].value = 0.8\n",
      "\n",
      "plt_prf_fit(res.params, mkws, kevs_all, [radio.y, xhard.y], [radio.eps, xhard.eps],\n",
      "            [radio.x, xhard.x], [radio.msk, xhard.msk], letter)"
     ],
     "language": "python",
     "metadata": {},
     "outputs": []
    },
    {
     "cell_type": "code",
     "collapsed": true,
     "input": [
      "mkws['damp_ab'] = 0.02\n",
      "res.params['B0'].value = 250e-6\n",
      "\n",
      "res.params['amp_0'].value = 105\n",
      "res.params['r_trans_0'].value = 0.5\n",
      "res.params['amp_1'].value = 70\n",
      "res.params['r_trans_1'].value = 1\n",
      "\n",
      "plt_prf_fit(res.params, mkws, kevs_all, [radio.y, xhard.y], [radio.eps, xhard.eps],\n",
      "            [radio.x, xhard.x], [radio.msk, xhard.msk], letter)"
     ],
     "language": "python",
     "metadata": {},
     "outputs": []
    },
    {
     "cell_type": "markdown",
     "metadata": {},
     "source": [
      "Damping lengths ab = 0.01 give crap.  Cannot reproduce radio and x-ray rims..."
     ]
    },
    {
     "cell_type": "code",
     "collapsed": true,
     "input": [
      "mkws['damp_ab'] = 0.01\n",
      "res.params['B0'].value = 20e-6\n",
      "\n",
      "res.params['amp_0'].value = 1.5\n",
      "res.params['r_trans_0'].value = 1\n",
      "res.params['amp_1'].value = 3\n",
      "res.params['r_trans_1'].value = 1\n",
      "\n",
      "plt_prf_fit(res.params, mkws, kevs_all, [radio.y, xhard.y], [radio.eps, xhard.eps],\n",
      "            [radio.x, xhard.x], [radio.msk, xhard.msk], letter)"
     ],
     "language": "python",
     "metadata": {},
     "outputs": []
    },
    {
     "cell_type": "code",
     "collapsed": true,
     "input": [
      "mkws['damp_ab'] = 0.01\n",
      "res.params['B0'].value = 30e-6\n",
      "\n",
      "res.params['amp_0'].value = 2.9\n",
      "res.params['r_trans_0'].value = 1\n",
      "res.params['amp_1'].value = 4\n",
      "res.params['r_trans_1'].value = 1.5\n",
      "\n",
      "plt_prf_fit(res.params, mkws, kevs_all, [radio.y, xhard.y], [radio.eps, xhard.eps],\n",
      "            [radio.x, xhard.x], [radio.msk, xhard.msk], letter)"
     ],
     "language": "python",
     "metadata": {},
     "outputs": []
    },
    {
     "cell_type": "code",
     "collapsed": true,
     "input": [
      "mkws['damp_ab'] = 0.01\n",
      "res.params['B0'].value = 100e-6\n",
      "\n",
      "res.params['amp_0'].value = 17\n",
      "res.params['r_trans_0'].value = 1\n",
      "res.params['amp_1'].value = 20\n",
      "res.params['r_trans_1'].value = 1\n",
      "\n",
      "plt_prf_fit(res.params, mkws, kevs_all, [radio.y, xhard.y], [radio.eps, xhard.eps],\n",
      "            [radio.x, xhard.x], [radio.msk, xhard.msk], letter)"
     ],
     "language": "python",
     "metadata": {},
     "outputs": []
    },
    {
     "cell_type": "markdown",
     "metadata": {},
     "source": [
      "A smaller damping length ($a_b = 0.005$) will not reproduce the X-ray rim width"
     ]
    },
    {
     "cell_type": "code",
     "collapsed": true,
     "input": [
      "mkws['damp_ab'] = 0.005\n",
      "res.params['B0'].value = 20e-6\n",
      "\n",
      "res.params['amp_0'].value = 1.5\n",
      "res.params['r_trans_0'].value = 1\n",
      "res.params['amp_1'].value = 3\n",
      "res.params['r_trans_1'].value = 1\n",
      "\n",
      "plt_prf_fit(res.params, mkws, kevs_all, [radio.y, xhard.y], [radio.eps, xhard.eps],\n",
      "            [radio.x, xhard.x], [radio.msk, xhard.msk], letter)"
     ],
     "language": "python",
     "metadata": {},
     "outputs": []
    },
    {
     "cell_type": "heading",
     "level": 3,
     "metadata": {},
     "source": [
      "Manual fit for Region H"
     ]
    },
    {
     "cell_type": "markdown",
     "metadata": {},
     "source": [
      "Generally hard to fit.  $a_b = 0.02$ with $B_0 = 300$ $\\mu$G gives best fit, but overall it's hard to get the X-ray rim shape right on; the \"kurtosis\" is not right."
     ]
    },
    {
     "cell_type": "code",
     "collapsed": true,
     "input": [
      "radio, xhard, res, mkws, letter = init_eyeball_fit(7, ab=0.02, B0=50e-6)  # 7 == H"
     ],
     "language": "python",
     "metadata": {},
     "outputs": []
    },
    {
     "cell_type": "markdown",
     "metadata": {},
     "source": [
      "Try $a_b = 0.025$.  Same issue as for $a_b = 0.02$, but now radio rim is not as good."
     ]
    },
    {
     "cell_type": "code",
     "collapsed": true,
     "input": [
      "axes = eyeball_fit(radio, xhard, res, mkws, letter, ab=0.025, B0=300e-6,\n",
      "                   amp_0 = 175, amp_1 = 95, r_trans_0 = 1, r_trans_1 = 1.5)"
     ],
     "language": "python",
     "metadata": {},
     "outputs": []
    },
    {
     "cell_type": "markdown",
     "metadata": {},
     "source": [
      "With $a_b = 0.02$, radio rim fit is excellent but X-ray rim is in tension.  Wrong shape on downstream side."
     ]
    },
    {
     "cell_type": "code",
     "collapsed": true,
     "input": [
      "axes = eyeball_fit(radio, xhard, res, mkws, letter, ab=0.02, B0=200e-6,\n",
      "                   amp_0 = 80, amp_1 = 60, r_trans_0 = 1, r_trans_1 = 1.5)"
     ],
     "language": "python",
     "metadata": {},
     "outputs": []
    },
    {
     "cell_type": "code",
     "collapsed": true,
     "input": [
      "axes = eyeball_fit(radio, xhard, res, mkws, letter, ab=0.02, B0=300e-6,\n",
      "                   amp_0 = 150, amp_1 = 90, r_trans_0 = 1, r_trans_1 = 1.5)"
     ],
     "language": "python",
     "metadata": {},
     "outputs": []
    },
    {
     "cell_type": "code",
     "collapsed": true,
     "input": [
      "axes = eyeball_fit(radio, xhard, res, mkws, letter, ab=0.02, B0=400e-6,\n",
      "                   amp_0 = 235, amp_1 = 130, r_trans_0 = 1, r_trans_1 = 1.5)"
     ],
     "language": "python",
     "metadata": {},
     "outputs": []
    },
    {
     "cell_type": "markdown",
     "metadata": {},
     "source": [
      "Now try $a_b = 0.015$"
     ]
    },
    {
     "cell_type": "code",
     "collapsed": true,
     "input": [
      "axes = eyeball_fit(radio, xhard, res, mkws, letter, ab=0.015, B0=300e-6,\n",
      "                   amp_0 = 127, amp_1 = 88, r_trans_0 = 1.2, r_trans_1 = 1.5)"
     ],
     "language": "python",
     "metadata": {},
     "outputs": []
    },
    {
     "cell_type": "code",
     "collapsed": true,
     "input": [
      "axes = eyeball_fit(radio, xhard, res, mkws, letter, ab=0.015, B0=400e-6,\n",
      "                   amp_0 = 200, amp_1 = 120, r_trans_0 = 1.5, r_trans_1 = 1.5)"
     ],
     "language": "python",
     "metadata": {},
     "outputs": []
    },
    {
     "cell_type": "markdown",
     "metadata": {},
     "source": [
      "Trying a few smaller damping lengths does not help at all ($a_b = 0.01$, $0.005$)"
     ]
    },
    {
     "cell_type": "code",
     "collapsed": true,
     "input": [
      "axes = eyeball_fit(radio, xhard, res, mkws, letter, ab=0.01, B0=200e-6,\n",
      "                   amp_0 = 60, amp_1 = 52, r_trans_0 = 1, r_trans_1 = 1.5)"
     ],
     "language": "python",
     "metadata": {},
     "outputs": []
    },
    {
     "cell_type": "code",
     "collapsed": true,
     "input": [
      "axes = eyeball_fit(radio, xhard, res, mkws, letter, ab=0.005, B0=300e-6,\n",
      "                   amp_0 = 80, amp_1 = 70, r_trans_0 = 1.5, r_trans_1 = 2)"
     ],
     "language": "python",
     "metadata": {},
     "outputs": []
    },
    {
     "cell_type": "heading",
     "level": 3,
     "metadata": {},
     "source": [
      "Manual fit for Region I, regions-6-VLA"
     ]
    },
    {
     "cell_type": "code",
     "collapsed": true,
     "input": [
      "radio, xhard, res, mkws, letter = init_eyeball_fit(8, ab=0.02, B0=50e-6)  # 8 == I"
     ],
     "language": "python",
     "metadata": {},
     "outputs": []
    },
    {
     "cell_type": "markdown",
     "metadata": {},
     "source": [
      "ab = 0.02, B0 = 250e-6 seems to work.\n",
      "But anything from 0.02 to 0.05 seems to work, w/ B fields around 200-300 range."
     ]
    },
    {
     "cell_type": "code",
     "collapsed": true,
     "input": [
      "axes = eyeball_fit(radio, xhard, res, mkws, letter, ab=0.05, B0=250e-6,\n",
      "                   amp_0 = 210, amp_1 = 95, r_trans_0 = 0.2, r_trans_1 = 1.2)"
     ],
     "language": "python",
     "metadata": {},
     "outputs": []
    },
    {
     "cell_type": "markdown",
     "metadata": {},
     "source": [
      "ab = 0.02, B = 250 is perhaps the best of a bad lot"
     ]
    },
    {
     "cell_type": "code",
     "collapsed": true,
     "input": [
      "axes = eyeball_fit(radio, xhard, res, mkws, letter, ab=0.02, B0=250e-6,\n",
      "                   amp_0 = 130, amp_1 = 89, r_trans_0 = 1, r_trans_1 = 1.2)"
     ],
     "language": "python",
     "metadata": {},
     "outputs": []
    },
    {
     "cell_type": "code",
     "collapsed": true,
     "input": [
      "axes = eyeball_fit(radio, xhard, res, mkws, letter, ab=0.02, B0=300e-6,\n",
      "                   amp_0 = 175, amp_1 = 105, r_trans_0 = 1, r_trans_1 = 1.5)"
     ],
     "language": "python",
     "metadata": {},
     "outputs": []
    },
    {
     "cell_type": "markdown",
     "metadata": {},
     "source": [
      "$a_b=0.01$,  Radio rim doesn't work"
     ]
    },
    {
     "cell_type": "code",
     "collapsed": true,
     "input": [
      "axes = eyeball_fit(radio, xhard, res, mkws, letter, ab=0.01, B0=250e-6,\n",
      "                   amp_0 = 83, amp_1 = 79, r_trans_0 = 4, r_trans_1 = 1.5)"
     ],
     "language": "python",
     "metadata": {},
     "outputs": []
    },
    {
     "cell_type": "code",
     "collapsed": true,
     "input": [
      "p1, p2, p3 = lmfit.Parameters(), lmfit.Parameters(), lmfit.Parameters()\n",
      "p1.add_many(('B0', 250e-6), ('amp_0', 210), ('amp_1', 95), ('r_trans_0', 0.2), ('r_trans_1', 1.2), ('mu', 1), ('eta2', 1))\n",
      "p2.add_many(('B0', 250e-6), ('amp_0', 130), ('amp_1', 89), ('r_trans_0', 1.0), ('r_trans_1', 1.2), ('mu', 1), ('eta2', 1))\n",
      "p3.add_many(('B0', 250e-6), ('amp_0',  83), ('amp_1', 79), ('r_trans_0', 4.0), ('r_trans_1', 1.2), ('mu', 1), ('eta2', 1))\n",
      "\n",
      "pars_mult = [p1, p2, p3]\n",
      "ab_mult = [0.05, 0.02, 0.01]\n",
      "fmt_mult = ['--r', '-k', '--c']\n",
      "\n",
      "axes = plt_prf_fit_multi(pars_mult, ab_mult, fmt_mult, mkws, kevs_all,\n",
      "                         [radio.y, xhard.y], [radio.eps, xhard.eps],\n",
      "                         [radio.x, xhard.x], [radio.msk, xhard.msk], letter)\n",
      "\n",
      "axes[0].set_ylim(ymin=0, ymax=0.033)\n",
      "axes[1].set_ylim(ymin=0)\n",
      "\n",
      "axes[0].text(0.07, 0.83, '1.375 GHz', transform=axes[0].transAxes,\n",
      "             horizontalalignment='left', fontsize=11)\n",
      "axes[1].text(0.07, 0.89, '4-7 keV', transform=axes[1].transAxes,\n",
      "             horizontalalignment='left', fontsize=11)\n",
      "\n",
      "axes[0].legend(loc='lower left', frameon=False, fontsize=8)\n",
      "plt.tight_layout()\n",
      "plt.savefig(plt_root + 'region-{}-ab_vary-B0_250e-6.pdf'.format(letter))  # Change this filename appropriately..."
     ],
     "language": "python",
     "metadata": {},
     "outputs": []
    },
    {
     "cell_type": "heading",
     "level": 3,
     "metadata": {},
     "source": [
      "Manual fit for Region J, regions-6-VLA"
     ]
    },
    {
     "cell_type": "code",
     "collapsed": true,
     "input": [
      "radio, xhard, res, mkws, letter = init_eyeball_fit(9, ab=0.02, B0=50e-6)  # 9 == J"
     ],
     "language": "python",
     "metadata": {},
     "outputs": []
    },
    {
     "cell_type": "markdown",
     "metadata": {},
     "source": [
      "Loss-limited or very weakly damped models ($a_b \\gtrsim 0.1$) with $B_0 = 300$ $\\mu$G are best at explaining front emission.  This all depends on\n",
      "\n",
      "1. how much emission you believe could be within 10 arcsec of the shock,\n",
      "2. how incorrect our model is going downstream (should it plateau faster than observed?)\n",
      "\n",
      "Models with $a_b < 0.1$ could work, but need another source of radio emission XOR some PSF effects to get the X-ray rim shape right."
     ]
    },
    {
     "cell_type": "code",
     "collapsed": true,
     "input": [
      "axes = eyeball_fit(radio, xhard, res, mkws, letter, ab=np.nan, B0=300e-6,\n",
      "                   amp_0=420, amp_1=110, r_trans_0=1, r_trans_1=1)"
     ],
     "language": "python",
     "metadata": {},
     "outputs": []
    },
    {
     "cell_type": "code",
     "collapsed": true,
     "input": [
      "axes = eyeball_fit(radio, xhard, res, mkws, letter, ab=0.5, B0=300e-6,\n",
      "                   amp_0=420, amp_1=110, r_trans_0=1, r_trans_1=1)"
     ],
     "language": "python",
     "metadata": {},
     "outputs": []
    },
    {
     "cell_type": "code",
     "collapsed": true,
     "input": [
      "axes = eyeball_fit(radio, xhard, res, mkws, letter, ab=0.3, B0=300e-6,\n",
      "                   amp_0=420, amp_1=110, r_trans_0=1, r_trans_1=1)\n",
      "#plt.savefig('region-J-ab_0.3-B0_300e-6.pdf')\n",
      "#plt.savefig('region-J-ab_0.3-B0_300e-6.png')"
     ],
     "language": "python",
     "metadata": {},
     "outputs": []
    },
    {
     "cell_type": "markdown",
     "metadata": {},
     "source": [
      "Region J with $a_b = 0.1$"
     ]
    },
    {
     "cell_type": "code",
     "collapsed": true,
     "input": [
      "mkws['damp_ab'] = 0.1\n",
      "#mkws['idamp'] = True\n",
      "res.params['B0'].value = 300e-6\n",
      "\n",
      "res.params['amp_0'].value = 410\n",
      "res.params['r_trans_0'].value = 1\n",
      "res.params['amp_1'].value = 110\n",
      "res.params['r_trans_1'].value = 1\n",
      "\n",
      "plt_prf_fit(res.params, mkws, kevs_all, [radio.y, xhard.y], [radio.eps, xhard.eps],\n",
      "            [radio.x, xhard.x], [radio.msk, xhard.msk])"
     ],
     "language": "python",
     "metadata": {},
     "outputs": []
    },
    {
     "cell_type": "code",
     "collapsed": true,
     "input": [
      "mkws['damp_ab'] = 0.1\n",
      "#mkws['idamp'] = True\n",
      "res.params['B0'].value = 400e-6\n",
      "\n",
      "res.params['amp_0'].value = 510\n",
      "res.params['r_trans_0'].value = 1.5\n",
      "res.params['amp_1'].value = 130\n",
      "res.params['r_trans_1'].value = 1.5\n",
      "\n",
      "plt_prf_fit(res.params, mkws, kevs_all, [radio.y, xhard.y], [radio.eps, xhard.eps],\n",
      "            [radio.x, xhard.x], [radio.msk, xhard.msk])"
     ],
     "language": "python",
     "metadata": {},
     "outputs": []
    },
    {
     "cell_type": "markdown",
     "metadata": {},
     "source": [
      "Region J with $a_b = 0.05$"
     ]
    },
    {
     "cell_type": "code",
     "collapsed": true,
     "input": [
      "mkws['damp_ab'] = 0.05\n",
      "#mkws['idamp'] = True\n",
      "res.params['B0'].value = 150e-6\n",
      "\n",
      "res.params['amp_0'].value = 100\n",
      "res.params['r_trans_0'].value = 1\n",
      "res.params['amp_1'].value = 70\n",
      "res.params['r_trans_1'].value = 0\n",
      "\n",
      "plt_prf_fit(res.params, mkws, kevs_all, [radio.y, xhard.y], [radio.eps, xhard.eps],\n",
      "            [radio.x, xhard.x], [radio.msk, xhard.msk])"
     ],
     "language": "python",
     "metadata": {},
     "outputs": []
    },
    {
     "cell_type": "code",
     "collapsed": true,
     "input": [
      "mkws['damp_ab'] = 0.05\n",
      "#mkws['idamp'] = True\n",
      "res.params['B0'].value = 300e-6\n",
      "\n",
      "res.params['amp_0'].value = 300\n",
      "res.params['r_trans_0'].value = 1\n",
      "res.params['amp_1'].value = 100\n",
      "res.params['r_trans_1'].value = 1\n",
      "\n",
      "plt_prf_fit(res.params, mkws, kevs_all, [radio.y, xhard.y], [radio.eps, xhard.eps],\n",
      "            [radio.x, xhard.x], [radio.msk, xhard.msk])"
     ],
     "language": "python",
     "metadata": {},
     "outputs": []
    },
    {
     "cell_type": "code",
     "collapsed": true,
     "input": [
      "mkws['damp_ab'] = 0.05\n",
      "#mkws['idamp'] = True\n",
      "res.params['B0'].value = 400e-6\n",
      "\n",
      "res.params['amp_0'].value = 420\n",
      "res.params['r_trans_0'].value = 1\n",
      "res.params['amp_1'].value = 130\n",
      "res.params['r_trans_1'].value = 1\n",
      "\n",
      "plt_prf_fit(res.params, mkws, kevs_all, [radio.y, xhard.y], [radio.eps, xhard.eps],\n",
      "            [radio.x, xhard.x], [radio.msk, xhard.msk])"
     ],
     "language": "python",
     "metadata": {},
     "outputs": []
    },
    {
     "cell_type": "heading",
     "level": 3,
     "metadata": {},
     "source": [
      "Region K (regions-6-VLA)"
     ]
    },
    {
     "cell_type": "code",
     "collapsed": true,
     "input": [
      "radio, xhard, res, mkws, letter = init_eyeball_fit(10)  # 10 == K"
     ],
     "language": "python",
     "metadata": {},
     "outputs": []
    },
    {
     "cell_type": "markdown",
     "metadata": {},
     "source": [
      "Start with ab = 0.02 -- rims are a little too fat"
     ]
    },
    {
     "cell_type": "code",
     "collapsed": true,
     "input": [
      "axes = eyeball_fit(radio, xhard, res, mkws, letter, ab=0.02, B0=400e-6,\n",
      "                   amp_0=420, amp_1=85, r_trans_0=0.3, r_trans_1=1)"
     ],
     "language": "python",
     "metadata": {},
     "outputs": []
    },
    {
     "cell_type": "code",
     "collapsed": true,
     "input": [
      "axes = eyeball_fit(radio, xhard, res, mkws, letter, ab=0.02, B0=300e-6,\n",
      "                   amp_0=200, amp_1=65, r_trans_0=0.3, r_trans_1=0.5)\n",
      "\n",
      "axes = eyeball_fit(radio, xhard, res, mkws, letter, ab=0.02, B0=500e-6,\n",
      "                   amp_0=480, amp_1=110, r_trans_0=0.3, r_trans_1=0.5)"
     ],
     "language": "python",
     "metadata": {},
     "outputs": []
    },
    {
     "cell_type": "markdown",
     "metadata": {},
     "source": [
      "$a_b = 0.01$ hits right on in radio.  X-ray not perfect..."
     ]
    },
    {
     "cell_type": "code",
     "collapsed": true,
     "input": [
      "p1, p2, p3 = [lmfit.Parameters(), lmfit.Parameters(), lmfit.Parameters()]\n",
      "p1.add_many(('B0', 300e-6), ('amp_0', 148), ('amp_1', 58), ('r_trans_0', 0.7), ('r_trans_1', 1), ('mu', 1), ('eta2', 1))\n",
      "p2.add_many(('B0', 400e-6), ('amp_0', 230), ('amp_1', 80), ('r_trans_0', 0.7), ('r_trans_1', 1), ('mu', 1), ('eta2', 1))\n",
      "p3.add_many(('B0', 500e-6), ('amp_0', 330), ('amp_1', 100), ('r_trans_0', 0.7), ('r_trans_1', 1.3), ('mu', 1), ('eta2', 1))\n",
      "\n",
      "pars_mult = [p1, p2, p3]\n",
      "ab_mult = [0.01, 0.01, 0.01]\n",
      "fmt_mult = ['-r', '-k', '-c']\n",
      "\n",
      "axes = plt_prf_fit_multi(pars_mult, ab_mult, fmt_mult, mkws, kevs_all,\n",
      "                         [radio.y, xhard.y], [radio.eps, xhard.eps],\n",
      "                         [radio.x, xhard.x], [radio.msk, xhard.msk], letter)\n",
      "\n",
      "axes[0].set_ylim(ymin=-0.007, ymax=0.020)\n",
      "axes[1].set_ylim(ymin=0)\n",
      "\n",
      "axes[0].text(0.07, 0.89, '1.375 GHz', transform=axes[0].transAxes,\n",
      "             horizontalalignment='left', fontsize=11)\n",
      "axes[1].text(0.07, 0.89, '4-7 keV', transform=axes[1].transAxes,\n",
      "             horizontalalignment='left', fontsize=11)\n",
      "\n",
      "axes[0].legend(loc='lower left', frameon=False, fontsize=8)\n",
      "plt.tight_layout()\n",
      "#plt.savefig(plt_root + 'region-{}-ab_0.01-B0_vary.pdf'.format(letter))  # Change this filename appropriately..."
     ],
     "language": "python",
     "metadata": {},
     "outputs": []
    },
    {
     "cell_type": "code",
     "collapsed": true,
     "input": [
      "p1, p2, p3 = [lmfit.Parameters(), lmfit.Parameters(), lmfit.Parameters()]\n",
      "p1.add_many(('B0', 400e-6), ('amp_0', 340), ('amp_1', 85), ('r_trans_0', 0.3), ('r_trans_1', 1), ('mu', 1), ('eta2', 1))\n",
      "p2.add_many(('B0', 400e-6), ('amp_0', 230), ('amp_1', 80), ('r_trans_0', 0.5), ('r_trans_1', 1), ('mu', 1), ('eta2', 1))\n",
      "p3.add_many(('B0', 400e-6), ('amp_0', 165), ('amp_1', 70), ('r_trans_0', 1.0), ('r_trans_1', 1), ('mu', 1), ('eta2', 1))\n",
      "\n",
      "pars_mult = [p1, p2, p3]\n",
      "ab_mult = [0.02, 0.01, 0.005]\n",
      "fmt_mult = ['--r', '-k', '--c']\n",
      "\n",
      "axes = plt_prf_fit_multi(pars_mult, ab_mult, fmt_mult, mkws, kevs_all,\n",
      "                         [radio.y, xhard.y], [radio.eps, xhard.eps],\n",
      "                         [radio.x, xhard.x], [radio.msk, xhard.msk], letter)\n",
      "\n",
      "axes[0].set_ylim(ymin=-0.007, ymax=0.020)\n",
      "axes[1].set_ylim(ymin=0)\n",
      "\n",
      "axes[0].text(0.07, 0.89, '1.375 GHz', transform=axes[0].transAxes,\n",
      "             horizontalalignment='left', fontsize=11)\n",
      "axes[1].text(0.07, 0.89, '4-7 keV', transform=axes[1].transAxes,\n",
      "             horizontalalignment='left', fontsize=11)\n",
      "\n",
      "axes[0].legend(loc='lower left', frameon=False, fontsize=8)\n",
      "plt.tight_layout()\n",
      "#plt.savefig(plt_root + 'region-{}-ab_vary-B0_400e-6.pdf'.format(letter))  # Change this filename appropriately..."
     ],
     "language": "python",
     "metadata": {},
     "outputs": []
    },
    {
     "cell_type": "code",
     "collapsed": true,
     "input": [
      "p1, p2, p3 = lmfit.Parameters(), lmfit.Parameters(), lmfit.Parameters()\n",
      "p4, p5 = lmfit.Parameters(), lmfit.Parameters()\n",
      "p1.add_many(('B0', 300e-6), ('amp_0', 148), ('amp_1', 58), ('r_trans_0', 0.7), ('r_trans_1', 1), ('mu', 1), ('eta2', 1))\n",
      "p2.add_many(('B0', 400e-6), ('amp_0', 230), ('amp_1', 80), ('r_trans_0', 0.7), ('r_trans_1', 1), ('mu', 1), ('eta2', 1))\n",
      "p3.add_many(('B0', 500e-6), ('amp_0', 330), ('amp_1', 100), ('r_trans_0', 0.7), ('r_trans_1', 1.3), ('mu', 1), ('eta2', 1))\n",
      "p4.add_many(('B0', 400e-6), ('amp_0', 340), ('amp_1', 85), ('r_trans_0', 0.3), ('r_trans_1', 1), ('mu', 1), ('eta2', 1))\n",
      "p5.add_many(('B0', 400e-6), ('amp_0', 165), ('amp_1', 70), ('r_trans_0', 1.0), ('r_trans_1', 1), ('mu', 1), ('eta2', 1))\n",
      "\n",
      "pars_mult = [p1, p2, p3, p4, p5]\n",
      "ab_mult = [0.01, 0.01, 0.01, 0.02, 0.005]\n",
      "fmt_mult = ['-r', '-k', '-c', '--m', '--y']\n",
      "\n",
      "axes = plt_prf_fit_multi(pars_mult, ab_mult, fmt_mult, mkws, kevs_all,\n",
      "                         [radio.y, xhard.y], [radio.eps, xhard.eps],\n",
      "                         [radio.x, xhard.x], [radio.msk, xhard.msk], letter)\n",
      "\n",
      "axes[0].set_ylim(ymin=-0.007, ymax=0.020)\n",
      "axes[1].set_ylim(ymin=0)\n",
      "\n",
      "axes[0].text(0.07, 0.89, '1.375 GHz', transform=axes[0].transAxes,\n",
      "             horizontalalignment='left', fontsize=11)\n",
      "axes[1].text(0.07, 0.89, '4-7 keV', transform=axes[1].transAxes,\n",
      "             horizontalalignment='left', fontsize=11)\n",
      "\n",
      "axes[0].legend(loc='lower left', frameon=False, fontsize=8)\n",
      "plt.tight_layout()\n",
      "plt.savefig(plt_root + 'region-{}-ab_vary-B0_vary.pdf'.format(letter))  # Change this filename appropriately..."
     ],
     "language": "python",
     "metadata": {},
     "outputs": []
    },
    {
     "cell_type": "markdown",
     "metadata": {},
     "source": [
      "$a_b = 0.005$ is definitely too narrow in radio and too wide in X-ray"
     ]
    },
    {
     "cell_type": "code",
     "collapsed": true,
     "input": [
      "axes = eyeball_fit(radio, xhard, res, mkws, letter, ab=0.005, B0=400e-6,\n",
      "                   amp_0=165, amp_1=73, r_trans_0=1., r_trans_1=1.2)"
     ],
     "language": "python",
     "metadata": {},
     "outputs": []
    },
    {
     "cell_type": "heading",
     "level": 3,
     "metadata": {},
     "source": [
      "Region L manual fit"
     ]
    },
    {
     "cell_type": "code",
     "collapsed": true,
     "input": [
      "radio, xhard, res, mkws, letter = init_eyeball_fit(11)  # 11 == L"
     ],
     "language": "python",
     "metadata": {},
     "outputs": []
    },
    {
     "cell_type": "markdown",
     "metadata": {},
     "source": [
      "Loss limited works pretty well; ab = 0.2 gives marginally better curve in radio."
     ]
    },
    {
     "cell_type": "code",
     "collapsed": true,
     "input": [
      "axes = eyeball_fit(radio, xhard, res, mkws, letter, ab=0.6, B0=200e-6,\n",
      "                   amp_0=620, amp_1=43, r_trans_0=2, r_trans_1=3.2)"
     ],
     "language": "python",
     "metadata": {},
     "outputs": []
    },
    {
     "cell_type": "code",
     "collapsed": true,
     "input": [
      "axes = eyeball_fit(radio, xhard, res, mkws, letter, ab=0.2, B0=250e-6,\n",
      "                   amp_0=720, amp_1=53, r_trans_0=2, r_trans_1=3.6)"
     ],
     "language": "python",
     "metadata": {},
     "outputs": []
    },
    {
     "cell_type": "code",
     "collapsed": true,
     "input": [
      "axes = eyeball_fit(radio, xhard, res, mkws, letter, ab=0.1, B0=250e-6,\n",
      "                   amp_0=680, amp_1=50, r_trans_0=2, r_trans_1=3.5)"
     ],
     "language": "python",
     "metadata": {},
     "outputs": []
    },
    {
     "cell_type": "code",
     "collapsed": true,
     "input": [
      "axes = eyeball_fit(radio, xhard, res, mkws, letter, ab=0.05, B0=200e-6,\n",
      "                   amp_0=390, amp_1=40, r_trans_0=2.5, r_trans_1=3.2)"
     ],
     "language": "python",
     "metadata": {},
     "outputs": []
    },
    {
     "cell_type": "heading",
     "level": 3,
     "metadata": {},
     "source": [
      "Region M (loss-limited shock), manual fit"
     ]
    },
    {
     "cell_type": "markdown",
     "metadata": {},
     "source": [
      "Here I will actually favor loss-limited to get the best slope, with B0 = 200e-6"
     ]
    },
    {
     "cell_type": "code",
     "collapsed": true,
     "input": [
      "radio, xhard, res, mkws, letter = init_eyeball_fit(12)  # 12 == M"
     ],
     "language": "python",
     "metadata": {},
     "outputs": []
    },
    {
     "cell_type": "code",
     "collapsed": true,
     "input": [
      "axes = eyeball_fit(radio, xhard, res, mkws, letter, ab=0.6, B0=150e-6,\n",
      "                   amp_0=105, amp_1=110, r_trans_0=0, r_trans_1=0.5)"
     ],
     "language": "python",
     "metadata": {},
     "outputs": []
    },
    {
     "cell_type": "code",
     "collapsed": true,
     "input": [
      "axes = eyeball_fit(radio, xhard, res, mkws, letter, ab=0.6, B0=200e-6,\n",
      "                   amp_0=165, amp_1=138, r_trans_0=0, r_trans_1=0.5)"
     ],
     "language": "python",
     "metadata": {},
     "outputs": []
    },
    {
     "cell_type": "code",
     "collapsed": true,
     "input": [
      "axes = eyeball_fit(radio, xhard, res, mkws, letter, ab=0.6, B0=300e-6,\n",
      "                   amp_0=310, amp_1=190, r_trans_0=0, r_trans_1=0.5)"
     ],
     "language": "python",
     "metadata": {},
     "outputs": []
    },
    {
     "cell_type": "code",
     "collapsed": true,
     "input": [
      "p1, p2, p3 = [lmfit.Parameters(), lmfit.Parameters(), lmfit.Parameters()]\n",
      "p1.add_many(('B0', 150e-6), ('amp_0', 105), ('amp_1', 110), ('r_trans_0', 0.), ('r_trans_1', 0.5), ('mu', 1), ('eta2', 1))\n",
      "p2.add_many(('B0', 200e-6), ('amp_0', 165), ('amp_1', 138), ('r_trans_0', 0.), ('r_trans_1', 0.5), ('mu', 1), ('eta2', 1))\n",
      "p3.add_many(('B0', 300e-6), ('amp_0', 310), ('amp_1', 190), ('r_trans_0', 0.), ('r_trans_1', 0.5), ('mu', 1), ('eta2', 1))\n",
      "\n",
      "pars_mult = [p1, p2, p3]\n",
      "ab_mult = [np.nan, np.nan, np.nan]\n",
      "fmt_mult = ['-r', '-k', '-c']\n",
      "\n",
      "axes = plt_prf_fit_multi(pars_mult, ab_mult, fmt_mult, mkws, kevs_all,\n",
      "                         [radio.y, xhard.y], [radio.eps, xhard.eps],\n",
      "                         [radio.x, xhard.x], [radio.msk, xhard.msk], letter)\n",
      "\n",
      "axes[0].set_ylim(ymin=-0.02, ymax=0.06)\n",
      "axes[1].set_ylim(ymin=0)\n",
      "\n",
      "axes[0].text(0.07, 0.78, '1.375 GHz', transform=axes[0].transAxes,\n",
      "             horizontalalignment='left', fontsize=11)\n",
      "axes[1].text(0.07, 0.89, '4-7 keV', transform=axes[1].transAxes,\n",
      "             horizontalalignment='left', fontsize=11)\n",
      "\n",
      "axes[0].legend(loc='lower left', frameon=False, fontsize=8)\n",
      "plt.tight_layout()\n",
      "plt.savefig(plt_root + 'region-{}-ab_nan-B0_vary.pdf'.format(letter))  # Change this filename appropriately..."
     ],
     "language": "python",
     "metadata": {},
     "outputs": []
    },
    {
     "cell_type": "code",
     "collapsed": true,
     "input": [
      "p1, p2, p3 = [lmfit.Parameters(), lmfit.Parameters(), lmfit.Parameters()]\n",
      "p1.add_many(('B0', 200e-6), ('amp_0', 165), ('amp_1', 138), ('r_trans_0', 0.), ('r_trans_1', 0.5), ('mu', 1), ('eta2', 1))\n",
      "p2.add_many(('B0', 200e-6), ('amp_0', 130), ('amp_1', 134), ('r_trans_0', 0.), ('r_trans_1', 0.5), ('mu', 1), ('eta2', 1))\n",
      "p3.add_many(('B0', 200e-6), ('amp_0', 110), ('amp_1', 125), ('r_trans_0', 0.5), ('r_trans_1', 0.5), ('mu', 1), ('eta2', 1))\n",
      "\n",
      "pars_mult = [p1, p2, p3]\n",
      "ab_mult = [np.nan, 0.1, 0.05]\n",
      "fmt_mult = ['-k', '--r', '--c']\n",
      "\n",
      "axes = plt_prf_fit_multi(pars_mult, ab_mult, fmt_mult, mkws, kevs_all,\n",
      "                         [radio.y, xhard.y], [radio.eps, xhard.eps],\n",
      "                         [radio.x, xhard.x], [radio.msk, xhard.msk], letter)\n",
      "\n",
      "axes[0].set_ylim(ymin=-0.02, ymax=0.06)\n",
      "axes[1].set_ylim(ymin=0)\n",
      "\n",
      "axes[0].text(0.07, 0.78, '1.375 GHz', transform=axes[0].transAxes,\n",
      "             horizontalalignment='left', fontsize=11)\n",
      "axes[1].text(0.07, 0.89, '4-7 keV', transform=axes[1].transAxes,\n",
      "             horizontalalignment='left', fontsize=11)\n",
      "\n",
      "axes[0].legend(loc='lower left', frameon=False, fontsize=8)\n",
      "plt.tight_layout()\n",
      "plt.savefig(plt_root + 'region-{}-ab_vary-B0_200e-6.pdf'.format(letter))  # Change this filename appropriately..."
     ],
     "language": "python",
     "metadata": {},
     "outputs": []
    },
    {
     "cell_type": "code",
     "collapsed": true,
     "input": [
      "p1, p2, p3, p4, p5 = lmfit.Parameters(), lmfit.Parameters(), lmfit.Parameters(), lmfit.Parameters(), lmfit.Parameters()\n",
      "p1.add_many(('B0', 150e-6), ('amp_0', 105), ('amp_1', 110), ('r_trans_0', 0.), ('r_trans_1', 0.5), ('mu', 1), ('eta2', 1))\n",
      "p2.add_many(('B0', 200e-6), ('amp_0', 165), ('amp_1', 138), ('r_trans_0', 0.), ('r_trans_1', 0.5), ('mu', 1), ('eta2', 1))\n",
      "p3.add_many(('B0', 300e-6), ('amp_0', 310), ('amp_1', 190), ('r_trans_0', 0.), ('r_trans_1', 0.5), ('mu', 1), ('eta2', 1))\n",
      "p4.add_many(('B0', 200e-6), ('amp_0', 130), ('amp_1', 134), ('r_trans_0', 0.), ('r_trans_1', 0.5), ('mu', 1), ('eta2', 1))\n",
      "p5.add_many(('B0', 200e-6), ('amp_0', 110), ('amp_1', 125), ('r_trans_0', 0.5), ('r_trans_1', 0.5), ('mu', 1), ('eta2', 1))\n",
      "\n",
      "pars_mult = [p1, p2, p3, p4, p5]\n",
      "ab_mult = [np.nan, np.nan, np.nan, 0.1, 0.05]\n",
      "fmt_mult = ['-r', '-k', '-c', '--m', '--y']\n",
      "\n",
      "axes = plt_prf_fit_multi(pars_mult, ab_mult, fmt_mult, mkws, kevs_all,\n",
      "                         [radio.y, xhard.y], [radio.eps, xhard.eps],\n",
      "                         [radio.x, xhard.x], [radio.msk, xhard.msk], letter)\n",
      "\n",
      "axes[0].set_ylim(ymin=0, ymax=0.06)\n",
      "axes[1].set_ylim(ymin=0)\n",
      "\n",
      "axes[0].text(0.07, 0.78, '1.375 GHz', transform=axes[0].transAxes,\n",
      "             horizontalalignment='left', fontsize=11)\n",
      "axes[1].text(0.07, 0.89, '4-7 keV', transform=axes[1].transAxes,\n",
      "             horizontalalignment='left', fontsize=11)\n",
      "\n",
      "axes[0].legend(loc='lower left', frameon=False, fontsize=8)\n",
      "plt.tight_layout()\n",
      "plt.savefig(plt_root + 'region-{}-ab_vary-B0_vary.pdf'.format(letter))  # Change this filename appropriately..."
     ],
     "language": "python",
     "metadata": {},
     "outputs": []
    },
    {
     "cell_type": "heading",
     "level": 3,
     "metadata": {},
     "source": [
      "Region N (sharp rim at NW)"
     ]
    },
    {
     "cell_type": "code",
     "collapsed": true,
     "input": [
      "radio, xhard, res, mkws, letter = init_eyeball_fit(13)  # 13 == N"
     ],
     "language": "python",
     "metadata": {},
     "outputs": []
    },
    {
     "cell_type": "markdown",
     "metadata": {},
     "source": [
      "Loss-limited obviously doesn't capture the rim"
     ]
    },
    {
     "cell_type": "code",
     "collapsed": true,
     "input": [
      "axes = eyeball_fit(radio, xhard, res, mkws, letter, ab=0.6, B0=500e-6,\n",
      "                   amp_0=550, amp_1=80, r_trans_0=0, r_trans_1=2)"
     ],
     "language": "python",
     "metadata": {},
     "outputs": []
    },
    {
     "cell_type": "code",
     "collapsed": true,
     "input": [
      "axes = eyeball_fit(radio, xhard, res, mkws, letter, ab=0.05, B0=500e-6,\n",
      "                   amp_0=235, amp_1=78, r_trans_0=0, r_trans_1=2)"
     ],
     "language": "python",
     "metadata": {},
     "outputs": []
    },
    {
     "cell_type": "code",
     "collapsed": true,
     "input": [
      "axes = eyeball_fit(radio, xhard, res, mkws, letter, ab=0.02, B0=800e-6,\n",
      "                   amp_0=245, amp_1=115, r_trans_0=0, r_trans_1=2)"
     ],
     "language": "python",
     "metadata": {},
     "outputs": []
    },
    {
     "cell_type": "markdown",
     "metadata": {},
     "source": [
      "$a_b = 0.01$ can capture the radio rim but not the subsequent plateau.  $a_b = 0.02$ is too large in radio, regardless of $B_0$"
     ]
    },
    {
     "cell_type": "code",
     "collapsed": true,
     "input": [
      "axes = eyeball_fit(radio, xhard, res, mkws, letter, ab=0.01, B0=400e-6,\n",
      "                   amp_0=57, amp_1=56, r_trans_0=1.7, r_trans_1=2)\n",
      "#plt.savefig(plt_root + 'region-N-ab_0.004-B0_23e-6.pdf')"
     ],
     "language": "python",
     "metadata": {},
     "outputs": []
    },
    {
     "cell_type": "code",
     "collapsed": true,
     "input": [
      "axes = eyeball_fit(radio, xhard, res, mkws, letter, ab=0.01, B0=800e-6,\n",
      "                   amp_0=170, amp_1=115, r_trans_0=1.7, r_trans_1=2)\n",
      "#plt.savefig(plt_root + 'region-N-ab_0.004-B0_23e-6.pdf')"
     ],
     "language": "python",
     "metadata": {},
     "outputs": []
    },
    {
     "cell_type": "markdown",
     "metadata": {},
     "source": [
      "Try small damping length ($a_b = 0.005$)"
     ]
    },
    {
     "cell_type": "code",
     "collapsed": true,
     "input": [
      "axes = eyeball_fit(radio, xhard, res, mkws, letter, ab=0.005, B0=23e-6,\n",
      "                   amp_0=0.52, amp_1=0.9, r_trans_0=2, r_trans_1=1.5)\n",
      "#plt.savefig(plt_root + 'region-N-ab_0.004-B0_23e-6.pdf')"
     ],
     "language": "python",
     "metadata": {},
     "outputs": []
    },
    {
     "cell_type": "code",
     "collapsed": true,
     "input": [
      "axes = eyeball_fit(radio, xhard, res, mkws, letter, ab=0.005, B0=800e-6,\n",
      "                   amp_0=122, amp_1=110, r_trans_0=2, r_trans_1=2)\n",
      "#plt.savefig(plt_root + 'region-N-ab_0.004-B0_23e-6.pdf')"
     ],
     "language": "python",
     "metadata": {},
     "outputs": []
    },
    {
     "cell_type": "markdown",
     "metadata": {},
     "source": [
      "All together in one plot"
     ]
    },
    {
     "cell_type": "code",
     "collapsed": false,
     "input": [
      "axes = eyeball_fit(radio, xhard, res, mkws, letter, ab=0.01, B0=400e-6,\n",
      "                   amp_0=57, amp_1=56, r_trans_0=1.7, r_trans_1=2)\n",
      "#plt.savefig(plt_root + 'region-N-ab_0.004-B0_23e-6.pdf')"
     ],
     "language": "python",
     "metadata": {},
     "outputs": []
    },
    {
     "cell_type": "code",
     "collapsed": true,
     "input": [
      "p1, p2, p3, p4 = lmfit.Parameters(), lmfit.Parameters(), lmfit.Parameters(), lmfit.Parameters()\n",
      "p1.add_many(('B0', 23e-6), ('amp_0', 0.52), ('amp_1', 0.9), ('r_trans_0', 1.7), ('r_trans_1', 2.0), ('mu', 1), ('eta2', 1))\n",
      "p2.add_many(('B0', 400e-6), ('amp_0',  57), ('amp_1',  56), ('r_trans_0', 1.7), ('r_trans_1', 2.0), ('mu', 1), ('eta2', 1))\n",
      "p3.add_many(('B0', 800e-6), ('amp_0', 122), ('amp_1', 110), ('r_trans_0', 1.7), ('r_trans_1', 2.0), ('mu', 1), ('eta2', 1))\n",
      "p4.add_many(('B0', 800e-6), ('amp_0', 170), ('amp_1', 115), ('r_trans_0', 1.7), ('r_trans_1', 2.0), ('mu', 1), ('eta2', 1))\n",
      "\n",
      "pars_mult = [p1, p2, p3, p4]\n",
      "ab_mult = [0.005, 0.01, 0.005, 0.01]\n",
      "fmt_mult = [':m', '-.k', '-y', '--c']\n",
      "\n",
      "axes = plt_prf_fit_multi(pars_mult, ab_mult, fmt_mult, mkws, kevs_all,\n",
      "                         [radio.y, xhard.y], [radio.eps, xhard.eps],\n",
      "                         [radio.x, xhard.x], [radio.msk, xhard.msk], letter)\n",
      "\n",
      "#axes[0].set_ylim(ymin=-0.02, ymax=0.04)\n",
      "axes[1].set_ylim(ymin=0)\n",
      "\n",
      "axes[0].text(0.07, 0.89, '1.375 GHz', transform=axes[0].transAxes,\n",
      "             horizontalalignment='left', fontsize=11)\n",
      "axes[1].text(0.07, 0.89, '4-7 keV', transform=axes[1].transAxes,\n",
      "             horizontalalignment='left', fontsize=11)\n",
      "\n",
      "axes[0].legend(loc='lower left', frameon=False, fontsize=8)\n",
      "plt.tight_layout()\n",
      "plt.savefig(plt_root + 'region-{}-ab_0.005-B0_vary.pdf'.format(letter))  # Change this filename appropriately..."
     ],
     "language": "python",
     "metadata": {},
     "outputs": []
    },
    {
     "cell_type": "heading",
     "level": 3,
     "metadata": {},
     "source": [
      "Region O"
     ]
    },
    {
     "cell_type": "markdown",
     "metadata": {},
     "source": [
      "Best is around ab=0.05, B0 = 300"
     ]
    },
    {
     "cell_type": "code",
     "collapsed": true,
     "input": [
      "radio, xhard, res, mkws, letter = init_eyeball_fit(14)  # 14 == O"
     ],
     "language": "python",
     "metadata": {},
     "outputs": []
    },
    {
     "cell_type": "code",
     "collapsed": true,
     "input": [
      "axes = eyeball_fit(radio, xhard, res, mkws, letter, ab=0.1, B0=300e-6,\n",
      "                   amp_0=230, amp_1=280, r_trans_0=0.5, r_trans_1=1.5)"
     ],
     "language": "python",
     "metadata": {},
     "outputs": []
    },
    {
     "cell_type": "code",
     "collapsed": true,
     "input": [
      "axes = eyeball_fit(radio, xhard, res, mkws, letter, ab=0.05, B0=200e-6,\n",
      "                   amp_0=94, amp_1=185, r_trans_0=0.5, r_trans_1=1)"
     ],
     "language": "python",
     "metadata": {},
     "outputs": []
    },
    {
     "cell_type": "code",
     "collapsed": true,
     "input": [
      "axes = eyeball_fit(radio, xhard, res, mkws, letter, ab=0.04, B0=200e-6,\n",
      "                   amp_0=82, amp_1=185, r_trans_0=0.5, r_trans_1=1)"
     ],
     "language": "python",
     "metadata": {},
     "outputs": []
    },
    {
     "cell_type": "markdown",
     "metadata": {},
     "source": [
      "$a_b = 0.02$ appears too small."
     ]
    },
    {
     "cell_type": "code",
     "collapsed": true,
     "input": [
      "axes = eyeball_fit(radio, xhard, res, mkws, letter, ab=0.02, B0=100e-6,\n",
      "                   amp_0=20, amp_1=77, r_trans_0=1, r_trans_1=1)"
     ],
     "language": "python",
     "metadata": {},
     "outputs": []
    },
    {
     "cell_type": "code",
     "collapsed": true,
     "input": [
      "axes = eyeball_fit(radio, xhard, res, mkws, letter, ab=0.02, B0=200e-6,\n",
      "                   amp_0=55, amp_1=170, r_trans_0=0, r_trans_1=1)"
     ],
     "language": "python",
     "metadata": {},
     "outputs": []
    },
    {
     "cell_type": "heading",
     "level": 3,
     "metadata": {},
     "source": [
      "Region P (last one!)"
     ]
    },
    {
     "cell_type": "code",
     "collapsed": true,
     "input": [
      "radio, xhard, res, mkws, letter = init_eyeball_fit(15)  # 15 == P"
     ],
     "language": "python",
     "metadata": {},
     "outputs": []
    },
    {
     "cell_type": "code",
     "collapsed": true,
     "input": [
      "axes = eyeball_fit(radio, xhard, res, mkws, letter, ab=0.05, B0=200e-6,\n",
      "                   amp_0=55, amp_1=170, r_trans_0=1, r_trans_1=1)"
     ],
     "language": "python",
     "metadata": {},
     "outputs": []
    },
    {
     "cell_type": "code",
     "collapsed": true,
     "input": [
      "axes = eyeball_fit(radio, xhard, res, mkws, letter, ab=0.03, B0=250e-6,\n",
      "                   amp_0=50, amp_1=120, r_trans_0=2.5, r_trans_1=3)"
     ],
     "language": "python",
     "metadata": {},
     "outputs": []
    },
    {
     "cell_type": "code",
     "collapsed": true,
     "input": [
      "axes = eyeball_fit(radio, xhard, res, mkws, letter, ab=0.02, B0=250e-6,\n",
      "                   amp_0=37.5, amp_1=120, r_trans_0=2.5, r_trans_1=3)"
     ],
     "language": "python",
     "metadata": {},
     "outputs": []
    },
    {
     "cell_type": "code",
     "collapsed": true,
     "input": [
      "axes = eyeball_fit(radio, xhard, res, mkws, letter, ab=0.015, B0=250e-6,\n",
      "                   amp_0=33, amp_1=110, r_trans_0=2.5, r_trans_1=3)"
     ],
     "language": "python",
     "metadata": {},
     "outputs": []
    },
    {
     "cell_type": "code",
     "collapsed": true,
     "input": [
      "axes = eyeball_fit(radio, xhard, res, mkws, letter, ab=0.012, B0=150e-6,\n",
      "                   amp_0=13, amp_1=58, r_trans_0=3.3, r_trans_1=3.3)"
     ],
     "language": "python",
     "metadata": {},
     "outputs": []
    }
   ],
   "metadata": {}
  }
 ]
}