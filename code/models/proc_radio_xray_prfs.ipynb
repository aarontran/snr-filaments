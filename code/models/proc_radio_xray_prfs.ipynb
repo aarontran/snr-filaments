{
 "metadata": {
  "name": "",
  "signature": "sha256:f66a268bd381729dc2f6da36a677230297f09255422c1d181344d751ed5a29e9"
 },
 "nbformat": 3,
 "nbformat_minor": 0,
 "worksheets": [
  {
   "cells": [
    {
     "cell_type": "heading",
     "level": 2,
     "metadata": {},
     "source": [
      "Notebook (preliminary) to process, fit, pull science out of radio + X-ray profiles"
     ]
    },
    {
     "cell_type": "code",
     "collapsed": false,
     "input": [
      "%pylab --no-import-all\n",
      "%matplotlib inline\n",
      "# ('gtk', 'inline', 'osx', 'qt', 'qt4', 'tk', 'wx')\n",
      "%load_ext autoreload\n",
      "%autoreload 2\n",
      "\n",
      "# Should be changed -- I have not figured out how to structure the code/modules/etc\n",
      "# in relation to data and other things...\n",
      "%cd '../code/models/'\n",
      "from fplot import fplot, show_mplrc_settings\n",
      "import models\n",
      "import snr_catalog as snrcat\n",
      "%cd '../../VLA/'\n",
      "\n",
      "from __future__ import division\n",
      "\n",
      "# For reference\n",
      "show_mplrc_settings()"
     ],
     "language": "python",
     "metadata": {},
     "outputs": []
    },
    {
     "cell_type": "heading",
     "level": 2,
     "metadata": {},
     "source": [
      "Global constants, effectively"
     ]
    },
    {
     "cell_type": "code",
     "collapsed": false,
     "input": [
      "nyrs = 2009 - 1994  # Time between Chandra and VLA observations\n",
      "arcsec_per_yr = 0.3  # Katsuda et al. 2010\n",
      "px2arcsec_radio = 0.5  # Image scaling\n",
      "px2arcsec_xray = 0.492\n",
      "r_shock = 240  # arcsec\n",
      "r_rise = 2  # Dist of x-ray peak behind shock (arbitrary guess!)\n",
      "\n",
      "r_min = 200  # arcsec, plot bounds\n",
      "r_max = 250\n",
      "\n",
      "nums = [1,2,3,4]  # Labeling\n",
      "names = ['NNE', 'NW', 'WNW', 'SW']"
     ],
     "language": "python",
     "metadata": {},
     "outputs": []
    },
    {
     "cell_type": "heading",
     "level": 2,
     "metadata": {},
     "source": [
      "First plot the profiles (applying shifts and scaling to compare radio, X-ray)"
     ]
    },
    {
     "cell_type": "code",
     "collapsed": false,
     "input": [
      "def load_prf_data(num, pref=None):\n",
      "    \"\"\"Load data from 3 bands, shift and scale\"\"\"\n",
      "    if pref is None:\n",
      "        prf_radio = np.loadtxt('prf-flmts/prf_{:02d}_band_1.375GHz.dat'.format(num))\n",
      "        prf_xsoft = np.loadtxt('prf-flmts/prf_{:02d}_band_1-1.7keV.dat'.format(num))\n",
      "        prf_xhard = np.loadtxt('prf-flmts/prf_{:02d}_band_4-7keV.dat'.format(num))\n",
      "    else:\n",
      "        prf_radio = np.loadtxt(pref+'/prf_{:02d}_band_1.375GHz.dat'.format(num))\n",
      "        prf_xsoft = np.loadtxt(pref+'/prf_{:02d}_band_1-1.7keV.dat'.format(num))\n",
      "        prf_xhard = np.loadtxt(pref+'/prf_{:02d}_band_4-7keV.dat'.format(num))\n",
      "\n",
      "    prfs_all = (prf_radio, prf_xsoft, prf_xhard)\n",
      "\n",
      "    # Translate and align data by radial coordinate\n",
      "\n",
      "    prf_radio[:,0] *= px2arcsec_radio  # Convert to arcseconds\n",
      "    prf_xsoft[:,0] *= px2arcsec_xray\n",
      "    prf_xhard[:,0] *= px2arcsec_xray\n",
      "\n",
      "    prf_radio[:,0] += nyrs * arcsec_per_yr  # Proper motion (arcsec)\n",
      "\n",
      "    ind_pk_init = np.argmax(prf_xhard[:,1])  # 4-7 keV peak\n",
      "    r_pk_init = prf_xhard[ind_pk_init, 0]\n",
      "\n",
      "    def rescale_to_rs(prf):  # Modifies input\n",
      "        prf[:,0] += (r_shock - r_pk_init - r_rise)\n",
      "        return prf\n",
      "    def mask_r_domain(prf):\n",
      "        r_mask = np.logical_and(r_min < prf[:,0], prf[:,0] < r_max)\n",
      "        return prf[r_mask]\n",
      "\n",
      "    map(rescale_to_rs, prfs_all)\n",
      "    prf_radio, prf_xsoft, prf_xhard = map(mask_r_domain, prfs_all)\n",
      "\n",
      "    # Rescale intensity values\n",
      "    #del ind_pk_init, r_pk_init  # must update for new coordinates\n",
      "    ind_pk = np.argmax(prf_xhard[:,1])\n",
      "    r_pk = prf_xhard[ind_pk, 0]\n",
      "\n",
      "    ind_pk_radio = np.searchsorted(prf_radio[:,0], r_pk)  # Corresponding locations\n",
      "    ind_pk_xsoft = np.searchsorted(prf_xsoft[:,0], r_pk)  # for 4-7 keV peak\n",
      "\n",
      "    scale_radio = np.amax(prf_radio[(ind_pk_radio-10):, 1])  # Search 10 pts behind \\\n",
      "    scale_xsoft = np.amax(prf_xsoft[(ind_pk_xsoft-10):, 1])  # the 4-7 keV peak\n",
      "    scale_xhard = prf_xhard[ind_pk, 1]\n",
      "    scales_all = (scale_radio, scale_xsoft, scale_xhard)\n",
      "\n",
      "    return prfs_all, scales_all"
     ],
     "language": "python",
     "metadata": {},
     "outputs": []
    },
    {
     "cell_type": "code",
     "collapsed": false,
     "input": [
      "plt.figure(figsize=(8,6))\n",
      "\n",
      "for num, name in zip(nums, names):\n",
      "\n",
      "    prfs, scales = load_prf_data(num)\n",
      "    prf_radio, prf_xsoft, prf_xhard = prfs\n",
      "    scale_radio, scale_xsoft, scale_xhard = scales\n",
      "\n",
      "    plt.subplot(2, 2, num)\n",
      "    plt.plot(prf_radio[:,0], prf_radio[:,1] / scale_radio, '-r.',\n",
      "             label='1.375 GHz')\n",
      "    plt.plot(prf_xsoft[:,0], prf_xsoft[:,1] / scale_xsoft, '-g.',\n",
      "             label='1-1.7 keV')\n",
      "    plt.plot(prf_xhard[:,0], prf_xhard[:,1] / scale_xhard, '-b.',\n",
      "             label='4-7 keV')\n",
      "\n",
      "    plt.xlim(r_min,r_max)\n",
      "    plt.ylim(ymin=0)\n",
      "    if num == 3:\n",
      "        plt.ylim(ymax=1.5)\n",
      "\n",
      "    # Annotations\n",
      "    if num == 1:\n",
      "        plt.legend(loc='best')\n",
      "    if num in (3,4):\n",
      "        plt.xlabel('Radial distance (arcsec)')\n",
      "    if num in (1,3):\n",
      "        plt.ylabel('Intensity (arbitrary scalings)')\n",
      "\n",
      "    xpos_name = 0.58 if num == 1 else 0.95\n",
      "    plt.text(xpos_name, 0.87, name, transform=plt.gca().transAxes,\n",
      "             horizontalalignment='right')\n",
      "\n",
      "#plt.savefig('prf-flmts-subplot.pdf')\n",
      "plt.show()"
     ],
     "language": "python",
     "metadata": {},
     "outputs": []
    },
    {
     "cell_type": "heading",
     "level": 2,
     "metadata": {},
     "source": [
      "Attempt to fit profiles to full model!"
     ]
    },
    {
     "cell_type": "code",
     "collapsed": false,
     "input": [
      "snr = snrcat.make_tycho()\n",
      "kevs_radio = np.array([5.6865e-9])\n",
      "kevs_xhard = np.array([4.0])\n",
      "kevs_all = np.array([5.6865e-9, 4.0])"
     ],
     "language": "python",
     "metadata": {},
     "outputs": []
    },
    {
     "cell_type": "markdown",
     "metadata": {},
     "source": [
      "Data preparation..."
     ]
    },
    {
     "cell_type": "code",
     "collapsed": false,
     "input": [
      "def load_data_for_fit(num):\n",
      "    \"\"\"Load preliminary data according to num, applying manual (eyeballed) cuts\n",
      "    num=1,2 (NNE,NW) implemented\n",
      "    \"\"\"\n",
      "    prfs, scales = load_prf_data(num, pref='/Users/atran3/snr-research/VLA/prf-flmts')\n",
      "    prf_radio, _, prf_xhard = prfs\n",
      "\n",
      "    if num == 1:\n",
      "        msks_radio = (prf_radio[:,1] > 0,\n",
      "                      prf_radio[:,0] > 228,\n",
      "                      prf_radio[:,0] < 240)\n",
      "        msks_xhard = (prf_xhard[:,0] > 223,\n",
      "                      prf_xhard[:,0] < 241)\n",
      "    elif num == 2:\n",
      "        msks_radio = (prf_radio[:,1] > 0,\n",
      "                      prf_radio[:,0] > 232)\n",
      "\n",
      "        msks_xhard = (prf_xhard[:,1] > 1e-9,\n",
      "                      prf_xhard[:,0] > 228,\n",
      "                      prf_xhard[:,0] < 240)\n",
      "\n",
      "    msk_radio = reduce(np.logical_and, msks_radio)\n",
      "    msk_xhard = reduce(np.logical_and, msks_xhard)\n",
      "    \n",
      "    prfs = (prf_radio, prf_xhard)\n",
      "    msks = (msk_radio, msk_xhard)\n",
      "\n",
      "    return prfs, msks"
     ],
     "language": "python",
     "metadata": {},
     "outputs": []
    },
    {
     "cell_type": "code",
     "collapsed": false,
     "input": [
      "def plt_prf_fit(p, kevs, prfs, msks, damp_ab=None, idamp=True):\n",
      "    \"\"\"Make plot for multishift thing\n",
      "    supply damp_ab if ab was not a free fitting parameter\n",
      "    \"\"\"\n",
      "    assert len(kevs) == len(prfs) == len(msks)\n",
      "    try:\n",
      "        damp_ab = p['ab'].value\n",
      "    except KeyError:\n",
      "        if damp_ab is None:\n",
      "            raise Exception('Supply damping ab')\n",
      "    \n",
      "    _ = models.width_cont(p, kevs, snr, rminarc=20,\n",
      "                          idamp=idamp, damp_ab=damp_ab,\n",
      "                          irad_adapt=False, get_prfs=True)\n",
      "    _, igrids, rgrids = _\n",
      "    \n",
      "    for prf, msk, rgrid, igrid, n in zip(prfs, msks, rgrids, igrids, xrange(len(kevs))):\n",
      "        nmsk = np.logical_not(msk)\n",
      "        plt.plot(rgrid, igrid, '-k.')\n",
      "        if len(kevs) > 1:\n",
      "            plt.plot(prf[msk,0] + p['r_trans_{}'.format(n)].value,\n",
      "                     prf[msk,1]*p['amp_{}'.format(n)].value, 'ob')\n",
      "            plt.plot(prf[nmsk,0] + p['r_trans_{}'.format(n)].value,\n",
      "                     prf[nmsk,1]*p['amp_{}'.format(n)].value, 'or', alpha=0.2)\n",
      "        else:\n",
      "            plt.plot(prf[msk,0] + p['r_trans'].value,\n",
      "                     prf[msk,1]*p['amp'].value, 'ob')\n",
      "            plt.plot(prf[nmsk,0] + p['r_trans'].value,\n",
      "                     prf[nmsk,1]*p['amp'].value, 'or', alpha=0.2)\n",
      "        \n",
      "        if idamp==True:\n",
      "            plt.axvspan(240*(1-damp_ab), 240, alpha=0.1, color='green')\n",
      "        #plt.ylim(ymin=0)\n",
      "        plt.show()"
     ],
     "language": "python",
     "metadata": {},
     "outputs": []
    },
    {
     "cell_type": "markdown",
     "metadata": {},
     "source": [
      "Load the data you want to fit"
     ]
    },
    {
     "cell_type": "code",
     "collapsed": false,
     "input": [
      "prfs, msks = load_data_for_fit(1)\n",
      "prf_radio, prf_xhard = prfs\n",
      "msk_radio, msk_xhard = msks\n",
      "# Should be replaced w/ correct errors at some point\n",
      "eps_radio = np.ones_like(prf_radio[msk_radio,1])\n",
      "eps_xhard = np.ones_like(prf_xhard[msk_xhard,1])"
     ],
     "language": "python",
     "metadata": {},
     "outputs": []
    },
    {
     "cell_type": "markdown",
     "metadata": {},
     "source": [
      "Generate a slew of fits and profiles.  Next step -- how to organize them and get something coherent/useful out!"
     ]
    },
    {
     "cell_type": "code",
     "collapsed": false,
     "input": [
      "res_r = models.profile_fit(snr, kevs_radio, [prf_radio[msk_radio,1]],\n",
      "        [eps_radio], [prf_radio[msk_radio,0]],\n",
      "        1.0, eta2=1.0, B0=50e-6, r_trans=0, amp=1, ab_fit=0.005,\n",
      "        mu_free=False, eta2_free=False, model_kws={'idamp':True})\n",
      "\n",
      "res_x = models.profile_fit(snr, kevs_xhard, [prf_xhard[msk_xhard,1]],\n",
      "        [eps_xhard], [prf_xhard[msk_xhard,0]],\n",
      "        1.0, eta2=1.0, B0=25e-6, r_trans=0, amp=1, ab_fit=0.004,\n",
      "        mu_free=False, eta2_free=False, model_kws={'idamp':True})"
     ],
     "language": "python",
     "metadata": {},
     "outputs": []
    },
    {
     "cell_type": "code",
     "collapsed": false,
     "input": [
      "plt_prf_fit(res_r.params, kevs_radio, [prf_radio], [msk_radio])\n",
      "plt_prf_fit(res_x.params, kevs_xhard, [prf_xhard], [msk_xhard])\n",
      "\n",
      "print res_r.params['r_trans'].value, res_r.params['amp'].value\n",
      "print res_x.params['r_trans'].value, res_x.params['amp'].value"
     ],
     "language": "python",
     "metadata": {},
     "outputs": []
    },
    {
     "cell_type": "markdown",
     "metadata": {},
     "source": [
      "Like above, but now attempting fits with `a_b` fixed!"
     ]
    },
    {
     "cell_type": "code",
     "collapsed": false,
     "input": [
      "res_r = models.profile_fit(snr, kevs_radio, [prf_radio[msk_radio,1]],\n",
      "        [eps_radio], [prf_radio[msk_radio,0]],\n",
      "        1.0, eta2=1.0, B0=50e-6, r_trans=0, amp=1,\n",
      "        mu_free=False, eta2_free=False, model_kws={'idamp':True, 'damp_ab':0.005})\n",
      "\n",
      "=res_x = models.profile_fit(snr, kevs_xhard, [prf_xhard[msk_xhard,1]],\n",
      "        [eps_xhard], [prf_xhard[msk_xhard,0]],\n",
      "        1.0, eta2=1.0, B0=25e-6, r_trans=0, amp=1,\n",
      "        mu_free=False, eta2_free=False, model_kws={'idamp':True, 'damp_ab':0.005})"
     ],
     "language": "python",
     "metadata": {},
     "outputs": []
    },
    {
     "cell_type": "code",
     "collapsed": false,
     "input": [
      "plt_prf_fit(res_r.params, kevs_radio, [prf_radio], [msk_radio], damp_ab=0.005)\n",
      "plt_prf_fit(res_x.params, kevs_xhard, [prf_xhard], [msk_xhard], damp_ab=0.005)\n",
      "\n",
      "print res_r.params['r_trans'].value, res_r.params['amp'].value\n",
      "print res_x.params['r_trans'].value, res_x.params['amp'].value"
     ],
     "language": "python",
     "metadata": {},
     "outputs": []
    },
    {
     "cell_type": "markdown",
     "metadata": {},
     "source": [
      "And again, loss-limited"
     ]
    },
    {
     "cell_type": "code",
     "collapsed": false,
     "input": [
      "res_r = models.profile_fit(snr, kevs_radio, [prf_radio[msk_radio,1]],\n",
      "        [eps_radio], [prf_radio[msk_radio,0]],\n",
      "        1.0, eta2=1.0, B0=400e-6, r_trans=0, amp=1,\n",
      "        mu_free=False, eta2_free=False, model_kws={'idamp':False, 'damp_ab':100})\n",
      "\n",
      "res_x = models.profile_fit(snr, kevs_xhard, [prf_xhard[msk_xhard,1]],\n",
      "        [eps_xhard], [prf_xhard[msk_xhard,0]],\n",
      "        1.0, eta2=1.0, B0=400e-6, r_trans=0, amp=1,\n",
      "        mu_free=False, eta2_free=False, model_kws={'idamp':False, 'damp_ab':100})"
     ],
     "language": "python",
     "metadata": {},
     "outputs": []
    },
    {
     "cell_type": "code",
     "collapsed": false,
     "input": [
      "plt_prf_fit(res_r.params, kevs_radio, [prf_radio], [msk_radio], damp_ab=100, idamp=False)\n",
      "plt_prf_fit(res_x.params, kevs_xhard, [prf_xhard], [msk_xhard], damp_ab=100, idamp=False)\n",
      "\n",
      "print res_r.params['r_trans'].value, res_r.params['amp'].value\n",
      "print res_x.params['r_trans'].value, res_x.params['amp'].value"
     ],
     "language": "python",
     "metadata": {},
     "outputs": []
    },
    {
     "cell_type": "markdown",
     "metadata": {},
     "source": [
      "Try a joint fit with ab free"
     ]
    },
    {
     "cell_type": "code",
     "collapsed": false,
     "input": [
      "res = models.profile_fit(snr, np.array([5.6865e-9, 4.0]),\n",
      "                         [prf_radio[msk_radio,1], prf_xhard[msk_xhard,1]],\n",
      "                         [eps_radio, eps_xhard],\n",
      "                         [prf_radio[msk_radio,0], prf_xhard[msk_xhard,0]],\n",
      "                         1.0, eta2=1.0, B0=50e-6, r_trans=[0,0], amp=[1,1], multishift=True,\n",
      "                         mu_free=False, eta2_free=False,\n",
      "                         ab_fit=0.01, model_kws={'idamp':True})"
     ],
     "language": "python",
     "metadata": {},
     "outputs": []
    },
    {
     "cell_type": "code",
     "collapsed": false,
     "input": [
      "plt_prf_fit(res.params, kevs_all, prfs, msks)"
     ],
     "language": "python",
     "metadata": {},
     "outputs": []
    },
    {
     "cell_type": "markdown",
     "metadata": {},
     "source": [
      "Try a joint fit! at ab = 0.005 fixed"
     ]
    },
    {
     "cell_type": "code",
     "collapsed": false,
     "input": [
      "res = models.profile_fit(snr, np.array([5.6865e-9, 4.0]),\n",
      "                         [prf_radio[msk_radio,1], prf_xhard[msk_xhard,1]],\n",
      "                         [eps_radio, eps_xhard],\n",
      "                         [prf_radio[msk_radio,0], prf_xhard[msk_xhard,0]],\n",
      "                         1.0, eta2=1.0, B0=50e-6, r_trans=[0,0], amp=[1,1], multishift=True,\n",
      "                         mu_free=False, eta2_free=False, model_kws={'idamp':True, 'damp_ab':0.005})"
     ],
     "language": "python",
     "metadata": {},
     "outputs": []
    },
    {
     "cell_type": "code",
     "collapsed": false,
     "input": [
      "plt_prf_fit_multi(res.params, np.array([5.6865e-9, 4.0]), prfs, msks, damp_ab=0.005, idamp=True)"
     ],
     "language": "python",
     "metadata": {},
     "outputs": []
    },
    {
     "cell_type": "markdown",
     "metadata": {},
     "source": [
      "Again, with other ab values"
     ]
    },
    {
     "cell_type": "code",
     "collapsed": false,
     "input": [
      "res = models.profile_fit(snr, np.array([5.6865e-9, 4.0]),\n",
      "                         [prf_radio[msk_radio,1], prf_xhard[msk_xhard,1]],\n",
      "                         [eps_radio, eps_xhard],\n",
      "                         [prf_radio[msk_radio,0], prf_xhard[msk_xhard,0]],\n",
      "                         1.0, eta2=1.0, B0=50e-6, r_trans=[0,0], amp=[1,1], multishift=True,\n",
      "                         mu_free=False, eta2_free=False, model_kws={'idamp':True, 'damp_ab':0.01})"
     ],
     "language": "python",
     "metadata": {},
     "outputs": []
    },
    {
     "cell_type": "code",
     "collapsed": false,
     "input": [
      "plt_prf_fit(res.params, kevs_all, prfs, msks, damp_ab=0.01, idamp=True)\n",
      "print res.chisqr"
     ],
     "language": "python",
     "metadata": {},
     "outputs": []
    },
    {
     "cell_type": "markdown",
     "metadata": {},
     "source": [
      "A loss-limited case"
     ]
    },
    {
     "cell_type": "code",
     "collapsed": false,
     "input": [
      "res = models.profile_fit(snr, np.array([5.6865e-9, 4.0]),\n",
      "                         [prf_radio[msk_radio,1], prf_xhard[msk_xhard,1]],\n",
      "                         [eps_radio, eps_xhard],\n",
      "                         [prf_radio[msk_radio,0], prf_xhard[msk_xhard,0]],\n",
      "                         1.0, eta2=1.0, B0=400e-6, r_trans=[0,0], amp=[1,1], multishift=True,\n",
      "                         mu_free=False, eta2_free=False, model_kws={'idamp':False, 'damp_ab':0.01})"
     ],
     "language": "python",
     "metadata": {},
     "outputs": []
    },
    {
     "cell_type": "code",
     "collapsed": false,
     "input": [
      "plt_prf_fit(res.params, kevs_all, prfs, msks, damp_ab=0.01, idamp=False)\n",
      "print res.chisqr\n",
      "print res.params['r_trans_0'].value, res.params['r_trans_1'].value\n",
      "print res.params['amp_0'].value, res.params['amp_1'].value"
     ],
     "language": "python",
     "metadata": {},
     "outputs": []
    },
    {
     "cell_type": "code",
     "collapsed": false,
     "input": [
      "res = models.profile_fit(snr, np.array([5.6865e-9, 4.0]),\n",
      "                         [prf_radio[msk_radio,1], prf_xhard[msk_xhard,1]],\n",
      "                         [eps_radio, eps_xhard],\n",
      "                         [prf_radio[msk_radio,0], prf_xhard[msk_xhard,0]],\n",
      "                         1.0, eta2=1.0, B0=50e-6, r_trans=[0,0], amp=[1,1], multishift=True,\n",
      "                         mu_free=False, eta2_free=False, B0_free=False,\n",
      "                         model_kws={'idamp':True, 'damp_ab':0.01})"
     ],
     "language": "python",
     "metadata": {},
     "outputs": []
    },
    {
     "cell_type": "code",
     "collapsed": false,
     "input": [
      "plt_prf_fit(res.params, kevs_all, prfs, msks, damp_ab=0.01, idamp=True)\n",
      "print res.chisqr\n",
      "print res.params['r_trans_0'].value, res.params['r_trans_1'].value\n",
      "print res.params['amp_0'].value, res.params['amp_1'].value"
     ],
     "language": "python",
     "metadata": {},
     "outputs": []
    },
    {
     "cell_type": "heading",
     "level": 2,
     "metadata": {},
     "source": [
      "Find emission minimum behind peak (and, how low it is), for X-ray and radio (shape analysis stuff)"
     ]
    },
    {
     "cell_type": "markdown",
     "metadata": {},
     "source": [
      "We might be able to do better by e.g., moving as close behind the peak as possible"
     ]
    },
    {
     "cell_type": "code",
     "collapsed": false,
     "input": [
      "%cd '../code/profiles/'\n",
      "import fsmooth\n",
      "%cd '../../VLA/'"
     ],
     "language": "python",
     "metadata": {},
     "outputs": []
    },
    {
     "cell_type": "code",
     "collapsed": false,
     "input": [
      "num = 1\n",
      "\n",
      "prfs, scales = load_prf_data(num)  # NNE\n",
      "prf_radio, prf_xsoft, prf_xhard = prfs\n",
      "scale_radio, scale_xsoft, scale_xhard = scales"
     ],
     "language": "python",
     "metadata": {},
     "outputs": []
    },
    {
     "cell_type": "code",
     "collapsed": false,
     "input": [
      "cut = 10 if num == 1 else 40\n",
      "ind_min_radio = cut + fsmooth.ind_first_min(prf_radio[cut:,1], window_len=17)\n",
      "ind_min_xhard = cut + fsmooth.ind_first_min(prf_xhard[cut:,1], window_len=17)\n",
      "\n",
      "r_min_radio = prf_radio[ind_min_radio,0]\n",
      "r_max_radio = prf_radio[ind_min_radio+np.argmax(prf_radio[ind_min_radio:,1]),0]\n",
      "r_min_xhard = prf_xhard[ind_min_xhard,0]\n",
      "r_max_xhard = prf_xhard[ind_min_xhard+np.argmax(prf_xhard[ind_min_xhard:,1]),0]"
     ],
     "language": "python",
     "metadata": {},
     "outputs": []
    },
    {
     "cell_type": "code",
     "collapsed": false,
     "input": [
      "plt.plot(prf_radio[:,0], prf_radio[:,1]/scale_radio, '.', alpha=0.4)\n",
      "#plt.plot(prf_radio[:,0], fsmooth.std_smooth(prf_radio[:,1], window_len=17)/scale_radio, color='k')\n",
      "plt.axvline(r_min_radio, c='g')\n",
      "plt.axvline(r_max_radio, c='r')\n",
      "plt.axhline(prf_radio[ind_min_radio,1] / scale_radio, c='k')\n",
      "plt.show()\n",
      "\n",
      "plt.plot(prf_xhard[:,0], prf_xhard[:,1]/scale_xhard, '.', alpha=0.4)\n",
      "#plt.plot(prf_xhard[:,0], fsmooth.std_smooth(prf_xhard[:,1], window_len=17)/scale_xhard, color='k')\n",
      "plt.axvline(r_min_xhard, c='g')\n",
      "plt.axvline(r_max_xhard, c='r')\n",
      "plt.axhline(prf_xhard[ind_min_xhard,1] / scale_xhard, c='k')\n",
      "plt.show()"
     ],
     "language": "python",
     "metadata": {},
     "outputs": []
    },
    {
     "cell_type": "code",
     "collapsed": false,
     "input": [
      "print prf_radio[ind_min_radio,1] / scale_radio\n",
      "print prf_xhard[ind_min_xhard,1] / scale_xhard\n",
      "print ''\n",
      "print r_max_radio - r_min_radio\n",
      "print r_max_xhard - r_min_xhard"
     ],
     "language": "python",
     "metadata": {},
     "outputs": []
    },
    {
     "cell_type": "markdown",
     "metadata": {},
     "source": [
      "* num=1 (NNE) emission drops to 73%, 5.5 arcsec behind peak\n",
      "* num=2 (NW) emission drops to 80%, 6 arcsec behind peak"
     ]
    }
   ],
   "metadata": {}
  }
 ]
}