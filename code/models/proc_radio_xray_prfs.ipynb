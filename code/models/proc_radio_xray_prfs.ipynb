{
 "metadata": {
  "name": "",
  "signature": "sha256:79a26775e74a1250c7647090fcd3c177207f039ea4b581ad9e9ee430459c51c2"
 },
 "nbformat": 3,
 "nbformat_minor": 0,
 "worksheets": [
  {
   "cells": [
    {
     "cell_type": "heading",
     "level": 1,
     "metadata": {},
     "source": [
      "Process, fit, pull science out of radio + X-ray profiles"
     ]
    },
    {
     "cell_type": "code",
     "collapsed": false,
     "input": [
      "%pylab --no-import-all\n",
      "%matplotlib inline\n",
      "# ('gtk', 'inline', 'osx', 'qt', 'qt4', 'tk', 'wx')\n",
      "%load_ext autoreload\n",
      "%autoreload 2\n",
      "\n",
      "from __future__ import division\n",
      "from glob import glob\n",
      "\n",
      "from fplot import fplot, show_mplrc_settings\n",
      "import models\n",
      "import snr_catalog as snrcat"
     ],
     "language": "python",
     "metadata": {},
     "outputs": []
    },
    {
     "cell_type": "heading",
     "level": 2,
     "metadata": {},
     "source": [
      "Constants"
     ]
    },
    {
     "cell_type": "code",
     "collapsed": false,
     "input": [
      "NYRS = 2009 - 1994  # Time between Chandra and VLA observations\n",
      "PX_2_ARCSEC_RADIO = 0.5  # Image scaling\n",
      "PX_ACIS = 0.492  # Chandra ACIS pixel size, arcsec\n",
      "RADIO_RMS = 0.3e-3  # RMS noise in Jy/beam, estimated manually (see 2014 Dec 3 notes)\n",
      "\n",
      "the_alphabet_song = 'abcdefghijklmnopqrstuvwxyz'.upper()"
     ],
     "language": "python",
     "metadata": {},
     "outputs": []
    },
    {
     "cell_type": "heading",
     "level": 2,
     "metadata": {},
     "source": [
      "Load data and shift, translate, compute (arbitrary) scalings for comparison plots"
     ]
    },
    {
     "cell_type": "markdown",
     "metadata": {},
     "source": [
      "After generating profiles, run `prep_profile_fit.py` on x-ray profiles only (we take care of radio errors here).\n",
      "The processed profile will have x-coords in arcsec and errors.  The fit domain file (`prf-proc-fit_cuts.[dat,npz]`) is not needed."
     ]
    },
    {
     "cell_type": "code",
     "collapsed": false,
     "input": [
      "data_root = '../../data-tycho/regions-6-VLA/'\n",
      "data_az = np.loadtxt('../../data-tycho/regions-6-VLA/regions-6-VLA-az.txt')  # Azimuth angles\n",
      "data_pm = np.loadtxt('../../data-tycho/regions-6-VLA/regions-6-VLA-prmotion.txt')  # Proper motions\n",
      "snr = snrcat.make_tycho()\n",
      "kevs_all = np.array([5.6865e-9, 4.0])"
     ],
     "language": "python",
     "metadata": {},
     "outputs": []
    },
    {
     "cell_type": "markdown",
     "metadata": {},
     "source": [
      "I copy paste the region thicknesses from the (verbose) output of:\n",
      "\n",
      "    $ python ../../../code/profiles/prep_profile_fit.py \\\n",
      "             ../regions-6-VLA.physreg \\\n",
      "             prf prf-cts prf-proc -l 4-7kev -v\n",
      "\n",
      "which parses the region dimensions and spits them out."
     ]
    },
    {
     "cell_type": "code",
     "collapsed": false,
     "input": [
      "proj_lengths = np.array([62.00, 38.00, 28.00, 40.00, 58.00, 38.00, 41.00, 46.00,\n",
      "                         73.00, 38.00, 28.00, 14.00, 52.00, 48.00, 41.00, 44.00])\n",
      "proj_lengths *= PX_ACIS / PX_2_ARCSEC_RADIO"
     ],
     "language": "python",
     "metadata": {},
     "outputs": []
    },
    {
     "cell_type": "markdown",
     "metadata": {},
     "source": [
      "All profiles show two consistent features -- a 4-7 keV peak, and a sharp zero-crossing rise in radio (CLEAN bowl).  Previously I set the shock radius 2\" ahead of the 4-7 keV peak, but I think shifting based on the radio rise is more sensible, as 2\" is an arbitrary guess that may vary around the remnant."
     ]
    },
    {
     "cell_type": "code",
     "collapsed": false,
     "input": [
      "class Profile(object):\n",
      "    \"\"\"Holder for profile information\"\"\"\n",
      "    pass"
     ],
     "language": "python",
     "metadata": {},
     "outputs": []
    },
    {
     "cell_type": "code",
     "collapsed": false,
     "input": [
      "n_prfs = len(glob(data_root + 'profiles/prf_*_band_1.375GHz.dat'))  # Count radio profiles\n",
      "\n",
      "prfs_radio = []\n",
      "prfs_xhard = []\n",
      "\n",
      "for n in xrange(1, n_prfs+1):\n",
      "    \n",
      "    fname_radio = data_root + 'profiles/prf_{:02d}_band_1.375GHz.dat'.format(n)\n",
      "    fname_xhard = data_root + 'profiles/prf-proc_{:02d}_band_4-7keV.dat'.format(n)\n",
      "    \n",
      "    radio = Profile()\n",
      "    xhard = Profile()\n",
      "    \n",
      "    radio.x, radio.y = np.loadtxt(fname_radio, unpack=True)\n",
      "    radio.y *= proj_lengths[n-1]\n",
      "    radio.eps = RADIO_RMS * np.ones_like(radio.y)  # TODO NEEDS INFORMATION ABOUT REGION WIDTH -- MULTIPLY PRFS BY THAT\n",
      "    xhard.x, xhard.y, xhard.eps = np.loadtxt(fname_xhard, unpack=True)\n",
      "    \n",
      "    radio.x *= PX_2_ARCSEC_RADIO\n",
      "    radio.x += NYRS * data_pm[n-1]  # Proper motion (arcsec)\n",
      "\n",
      "    # Identify position of radio zero-crossing\n",
      "    radio_zero_crossings = np.where(np.diff(np.sign(radio.y)))[0]\n",
      "    assert len(radio_zero_crossings) == 1\n",
      "    ind_cross = radio_zero_crossings[0]\n",
      "    rs_init = radio.x[ind_cross]\n",
      "    \n",
      "    # Set SNR shock radius to datum @ immediate left of zero-crossing\n",
      "    radio.x += snr.rsarc - rs_init\n",
      "    xhard.x += snr.rsarc - rs_init\n",
      "\n",
      "    # Compute (arbitrary) scales for comparison plots\n",
      "    r_pk = xhard.x[np.argmax(xhard.y)]\n",
      "    ind_pk_radio = np.searchsorted(radio.x, r_pk)  # Corresponding location\n",
      "\n",
      "    # Convenience scales for plotting\n",
      "    radio.scale = np.amax(radio.y[radio.x > r_pk-4])  # Search for radio max from 2\" behind 4-7 keV peak\n",
      "    xhard.scale = np.amax(xhard.y)\n",
      "    \n",
      "    prfs_radio.append(radio)\n",
      "    prfs_xhard.append(xhard)"
     ],
     "language": "python",
     "metadata": {},
     "outputs": []
    },
    {
     "cell_type": "markdown",
     "metadata": {},
     "source": [
      "First pass plots of the data"
     ]
    },
    {
     "cell_type": "code",
     "collapsed": false,
     "input": [
      "for n, radio, xhard in zip(xrange(1,n_prfs+1), prfs_radio, prfs_xhard):\n",
      "    \n",
      "    print 'Region {} ({})'.format(n, the_alphabet_song[n-1])\n",
      "    print 'Az: {} deg., proper motion: {} arcsec/yr'.format(data_az[n-1], data_pm[n-1])\n",
      "    \n",
      "    # PLOT\n",
      "    plt.figure(figsize=(4,3))\n",
      "    plt.errorbar(radio.x, radio.y/radio.scale, yerr=radio.eps/radio.scale, fmt='-r.', capsize=0,\n",
      "                 label='1.375 GHz')\n",
      "    plt.errorbar(xhard.x, xhard.y/xhard.scale, yerr=xhard.eps/xhard.scale, fmt='-b.', capsize=0,\n",
      "                 label='4-7 keV')\n",
      "\n",
      "    plt.xlim(216, 250)\n",
      "    plt.tight_layout()\n",
      "    plt.ylim(ymin=0)\n",
      "    if n == 9:\n",
      "        plt.ylim(ymax=2)\n",
      "\n",
      "    # Annotations\n",
      "    plt.xlabel('Radial distance (arcsec)')\n",
      "    plt.ylabel('Intensity (arbitrary units)')\n",
      "    \n",
      "    plt.text(0.95, 0.87, the_alphabet_song[n-1], transform=plt.gca().transAxes,\n",
      "             horizontalalignment='right')\n",
      "    plt.show()"
     ],
     "language": "python",
     "metadata": {},
     "outputs": []
    },
    {
     "cell_type": "heading",
     "level": 3,
     "metadata": {},
     "source": [
      "Plot profiles, check alignment, and identify cuts/measurement points to get profile minima"
     ]
    },
    {
     "cell_type": "markdown",
     "metadata": {},
     "source": [
      "In a few regions the radio rim lags the X-ray rim -- apply an additional shift to line them up."
     ]
    },
    {
     "cell_type": "code",
     "collapsed": false,
     "input": [
      "shifts = {9:2, 10:1, 13:2}"
     ],
     "language": "python",
     "metadata": {},
     "outputs": []
    },
    {
     "cell_type": "markdown",
     "metadata": {},
     "source": [
      "Cuts for profile fitting, based on radio coordinates"
     ]
    },
    {
     "cell_type": "code",
     "collapsed": false,
     "input": [
      "cuts = [(225, 238), (232, 240), (232, 240), (230, 239.5),\n",
      "        (227, 239.5), (227, 240), (230, 240), (231, 239),\n",
      "        (230, 240), (230, 240), (233, 240), (230, 240),\n",
      "        (232, 240), (230, 240), (229, 240), (228, 239)]"
     ],
     "language": "python",
     "metadata": {},
     "outputs": []
    },
    {
     "cell_type": "markdown",
     "metadata": {},
     "source": [
      "Identify minima/maxima in profiles for shape analysis"
     ]
    },
    {
     "cell_type": "code",
     "collapsed": false,
     "input": [
      "nan = np.nan\n",
      "min_loc_radio = [226, nan, nan, nan, 228, 227, 234, 232,\n",
      "                 230, nan, 233, nan, nan, 234, 229, 231]\n",
      "min_loc_xhard = [226, 232, 230, 231, 225, 230, 232, 233,\n",
      "                 236, 235, 235, 233, 236, 235, 234, 232]\n",
      "\n",
      "# nan tells code to seek maximum, right of minimum\n",
      "max_loc_radio = [-1, 234, 236.5, 234, -1, 235, -1, -1,\n",
      "                 -1, 232, -1, nan, nan, -1, -1, -1]\n",
      "max_loc_xhard = []\n",
      "\n",
      "for radio, n in zip(prfs_radio, xrange(len(prfs_radio))):\n",
      "    if max_loc_radio[n] == -1:\n",
      "        msk = radio.x > min_loc_radio[n]\n",
      "        max_loc_radio[n] = radio.x[msk][np.argmax(radio.y[msk])]\n",
      "\n",
      "for xhard, min_loc in zip(prfs_xhard, min_loc_xhard):\n",
      "    msk = xhard.x > min_loc\n",
      "    max_loc_xhard.append(xhard.x[msk][np.argmax(xhard.y[msk])])"
     ],
     "language": "python",
     "metadata": {},
     "outputs": []
    },
    {
     "cell_type": "markdown",
     "metadata": {},
     "source": [
      "Apply shifts to data (and min/max locations).  Run this cell only once!"
     ]
    },
    {
     "cell_type": "code",
     "collapsed": false,
     "input": [
      "for n, dx in shifts.items():\n",
      "    prfs_xhard[n-1].x -= dx\n",
      "    min_loc_xhard[n-1] -= dx\n",
      "    max_loc_xhard[n-1] -= dx"
     ],
     "language": "python",
     "metadata": {},
     "outputs": []
    },
    {
     "cell_type": "markdown",
     "metadata": {},
     "source": [
      "Now replot everything and make sure it all checks out"
     ]
    },
    {
     "cell_type": "code",
     "collapsed": false,
     "input": [
      "for n, radio, xhard, (x_left, x_right) in zip(xrange(1,n_prfs+1), prfs_radio, prfs_xhard, cuts):\n",
      "    \n",
      "    print 'Region {} ({})'.format(n, the_alphabet_song[n-1])\n",
      "    \n",
      "    # Find and save min/max indices\n",
      "    radio.x_min = min_loc_radio[n-1]\n",
      "    radio.x_max = max_loc_radio[n-1]\n",
      "    xhard.x_min = min_loc_xhard[n-1]\n",
      "    xhard.x_max = max_loc_xhard[n-1]\n",
      "    \n",
      "    # Find intensity min/max span\n",
      "    if np.isfinite(radio.x_min) and np.isfinite(radio.x_max):\n",
      "        ind_min_r = np.searchsorted(radio.x, radio.x_min)\n",
      "        ind_max_r = np.searchsorted(radio.x, radio.x_max)\n",
      "        radio.y_min = radio.y[ind_min_r]\n",
      "        radio.y_max = radio.y[ind_max_r]\n",
      "    \n",
      "    ind_min_x = np.searchsorted(xhard.x, xhard.x_min)\n",
      "    ind_max_x = np.searchsorted(xhard.x, xhard.x_max)\n",
      "    xhard.y_min = xhard.y[ind_min_x]\n",
      "    xhard.y_max = xhard.y[ind_max_x]\n",
      "    \n",
      "    # Generate and save masks for cuts, plot profiles with cuts\n",
      "    radio.msk = np.logical_and(x_left < radio.x, radio.x < x_right)\n",
      "    xhard.msk = np.logical_and(x_left < xhard.x, xhard.x < x_right)\n",
      "    radio.nmsk = np.logical_not(radio.msk)\n",
      "    xhard.nmsk = np.logical_not(xhard.msk)\n",
      "    \n",
      "    # Plot profiles with min/max identifications\n",
      "    #_, (ax1, ax2, ax3) = plt.subplots(1, 3, sharex=True, sharey=True, figsize=(12,3))\n",
      "    #ax1.errorbar(radio.x, radio.y/radio.scale, yerr=radio.eps/radio.scale, fmt='-r.', capsize=0,\n",
      "    #             label='1.375 GHz')\n",
      "    #ax2.errorbar(xhard.x, xhard.y/xhard.scale, yerr=xhard.eps/xhard.scale, fmt='-b.', capsize=0,\n",
      "    #             label='4-7 keV')\n",
      "    \n",
      "    #ax1.axvline(radio.x_min, c='r', ls=':')\n",
      "    #ax1.axvline(radio.x_max, c='k')\n",
      "    #ax2.axvline(xhard.x_min, c='b', ls=':')\n",
      "    #ax2.axvline(xhard.x_max, c='k')\n",
      "    \n",
      "    plt.figure(figsize=(4,3))\n",
      "    ax3 = plt.gca()\n",
      "    \n",
      "    # PLOT\n",
      "    ax3.errorbar(radio.x[radio.msk], radio.y[radio.msk]/radio.scale,\n",
      "                 yerr=radio.eps[radio.msk]/radio.scale,\n",
      "                 fmt='-r.', capsize=0, label='1.375 GHz')\n",
      "    ax3.errorbar(xhard.x[xhard.msk], xhard.y[xhard.msk]/xhard.scale,\n",
      "                 yerr=xhard.eps[xhard.msk]/xhard.scale,\n",
      "                 fmt='-b.', capsize=0, label='4-7 keV')\n",
      "    \n",
      "    ax3.errorbar(radio.x[radio.nmsk], radio.y[radio.nmsk]/radio.scale,\n",
      "                 yerr=radio.eps[radio.nmsk]/radio.scale,\n",
      "                 fmt='r.', alpha=0.3, capsize=0, label='1.375 GHz')\n",
      "    ax3.errorbar(xhard.x[xhard.nmsk], xhard.y[xhard.nmsk]/xhard.scale,\n",
      "                 yerr=xhard.eps[xhard.nmsk]/xhard.scale,\n",
      "                 fmt='b.', alpha=0.3, capsize=0, label='4-7 keV')\n",
      "    \n",
      "    if np.isfinite(radio.x_min) and np.isfinite(radio.x_max):\n",
      "        ax3.fill_between([radio.x_min, radio.x_max], [radio.y_min/radio.scale]*2,\n",
      "                         [radio.y_max/radio.scale]*2, color='r', alpha=0.2)\n",
      "    ax3.fill_between([xhard.x_min, xhard.x_max], [xhard.y_min/xhard.scale]*2,\n",
      "                     [xhard.y_max/xhard.scale]*2, color='b', alpha=0.2)\n",
      "    \n",
      "    # Global (all subplot) settings\n",
      "    ax3.set_xlim(216, 250)\n",
      "    ax3.set_ylim(ymin=0)\n",
      "\n",
      "    # Annotations\n",
      "    #ax1.set_xlabel('Radial distance (arcsec)')\n",
      "    #ax2.set_xlabel('Radial distance (arcsec)')\n",
      "    ax3.set_xlabel('Radial distance (arcsec)')\n",
      "    ax3.set_ylabel('Intensity (arbitrary units)')\n",
      "    \n",
      "    ax3.text(0.9, 0.87, the_alphabet_song[n-1], transform=ax3.transAxes,\n",
      "             horizontalalignment='center', fontsize=14)\n",
      "    plt.show()"
     ],
     "language": "python",
     "metadata": {},
     "outputs": []
    },
    {
     "cell_type": "markdown",
     "metadata": {},
     "source": [
      "Now address the significance of our shape analysis.  There are 3 cases:\n",
      "* min and max identified (trough behind rim)\n",
      "* max identified (min is nan), rim plateaus but doesn't show clear minimum\n",
      "* min and max both nan (continuous increase)"
     ]
    },
    {
     "cell_type": "code",
     "collapsed": false,
     "input": [
      "_, (ax1, ax2) = plt.subplots(1, 2, sharey=True, figsize=(8,3))\n",
      "\n",
      "for n, radio, xhard, az, pm in zip(xrange(1,len(prfs_radio)+1), prfs_radio, prfs_xhard, data_az, data_pm):\n",
      "    \n",
      "    print 'Region {} ({})'.format(n, the_alphabet_song[n-1])\n",
      "    print '\\tAz: {:0.1f} deg., proper motion: {} arcsec/yr'.format(az, pm)\n",
      "    \n",
      "    if radio.x_max is nan:\n",
      "        assert radio.x_min is nan, 'Cannot have max=nan and min present'\n",
      "        print '\\tRadio rise'\n",
      "        \n",
      "        ax1.plot(az, 1.1, 'or')\n",
      "        ax2.plot(pm, 1.1, 'or')\n",
      "    elif radio.x_min is nan:\n",
      "        print '\\tRadio plateau, max = {:.3f}'.format(radio.x_max)\n",
      "        \n",
      "        ax1.plot(az, 1, 'or')\n",
      "        ax2.plot(pm, 1, 'or')\n",
      "    else:\n",
      "        print '\\tRadio rim, drop = {:.3f}%, dist = {:.3f}'.format(radio.y_min/radio.y_max, radio.x_max - radio.x_min)\n",
      "    \n",
      "        ax1.plot(az, radio.y_min/radio.y_max, 'or')\n",
      "        ax2.plot(pm, radio.y_min/radio.y_max, 'or')\n",
      "    \n",
      "    ind_min_x = np.searchsorted(xhard.x, xhard.x_min)\n",
      "    ind_max_x = np.searchsorted(xhard.x, xhard.x_max)\n",
      "    print '\\tX-ray rim, drop = {:.3f}%, dist = {:.3f}'.format(xhard.y_min/xhard.y_max, xhard.x_max - xhard.x_min)\n",
      "    \n",
      "    ax1.plot(az, xhard.y_min/xhard.y_max, 'ob')\n",
      "    ax2.plot(pm, xhard.y_min/xhard.y_max, 'ob')\n",
      "\n",
      "ax1.axhline(1.0)  # Plateau\n",
      "ax1.axhline(1.1)  # Radio rise\n",
      "\n",
      "ax2.axhline(1.0)  # Plateau\n",
      "ax2.axhline(1.1)  # Radio rise\n",
      "\n",
      "plt.show()"
     ],
     "language": "python",
     "metadata": {},
     "outputs": []
    },
    {
     "cell_type": "markdown",
     "metadata": {},
     "source": [
      "Try inspecting brightness of the rim alone (vs. relative brightness) as a function of azimuth angle"
     ]
    },
    {
     "cell_type": "code",
     "collapsed": false,
     "input": [
      "_, (ax1, ax2) = plt.subplots(1, 2, figsize=(8,3))\n",
      "\n",
      "for n, radio, xhard, az, pm in zip(xrange(1,len(prfs_radio)+1), prfs_radio, prfs_xhard, data_az, data_pm):\n",
      "    \n",
      "    ind_min_x = np.searchsorted(xhard.x, xhard.x_min)\n",
      "    ind_max_x = np.searchsorted(xhard.x, xhard.x_max)\n",
      "    x_drop = xhard.y[ind_max_x]\n",
      "    \n",
      "    if radio.x_max is nan or radio.x_min is nan:\n",
      "        ax1.plot(az, x_drop, 'sk')\n",
      "        ax2.plot(az, np.nan, 'sk')\n",
      "    else:\n",
      "        r_drop = radio.y[ind_max_r]\n",
      "    \n",
      "        ax1.plot(az, x_drop, 'or')\n",
      "        ax2.plot(az, r_drop, 'or')\n",
      "\n",
      "ax1.set_xlabel('Azimuth angle')\n",
      "ax2.set_xlabel('Proper motion (arcsec/yr)')\n",
      "ax1.set_ylabel(r'X-ray intensity (cts/s/cm${}^2$/Hz or whatever)')\n",
      "ax2.set_ylabel(r'Radio intensity (Jy/beam)')\n",
      "\n",
      "plt.show()"
     ],
     "language": "python",
     "metadata": {},
     "outputs": []
    },
    {
     "cell_type": "markdown",
     "metadata": {},
     "source": [
      "Finally plot steepness of the drop-off in radio/x-ray vs azimuth angle, proper motion"
     ]
    },
    {
     "cell_type": "code",
     "collapsed": false,
     "input": [
      "_, (ax1, ax2) = plt.subplots(1, 2, sharey=True, figsize=(8,3))\n",
      "\n",
      "for n, radio, xhard, az, pm in zip(xrange(1,len(prfs_radio)+1), prfs_radio, prfs_xhard, data_az, data_pm):\n",
      "    \n",
      "    if radio.x_max is nan or radio.x_min is nan:\n",
      "        ax1.plot(az, 0, 'sr')\n",
      "        ax2.plot(pm, 0, 'sr')\n",
      "        pass\n",
      "    else:\n",
      "        ax1.plot(az, (1-radio.y_min/radio.y_max) / (radio.x_max - radio.x_min), 'or')\n",
      "        ax2.plot(pm, (1-radio.y_min/radio.y_max) / (radio.x_max - radio.x_min), 'or')\n",
      "    \n",
      "    ax1.plot(az, (1-xhard.y_min/xhard.y_max) / (xhard.x_max - xhard.x_min), 'ob')\n",
      "    ax2.plot(pm, (1-xhard.y_min/xhard.y_max) / (xhard.x_max - xhard.x_min), 'ob')\n",
      "\n",
      "ax1.set_xlabel('azimuth angle')\n",
      "ax2.set_xlabel('proper motion (arcsec/yr)')\n",
      "ax1.set_ylabel('Steepness (relative drop/arcsec)')\n",
      "\n",
      "plt.show()"
     ],
     "language": "python",
     "metadata": {},
     "outputs": []
    },
    {
     "cell_type": "markdown",
     "metadata": {},
     "source": [
      "Generate table of qualitative info -- does a rim exist? what is the allowed space of parameters, if $B_0$ is less than 500 microGauss?\n",
      "\n",
      "This should pull in code from the parameter space notebook..."
     ]
    },
    {
     "cell_type": "heading",
     "level": 2,
     "metadata": {},
     "source": [
      "Attempt to fit profiles to full model!"
     ]
    },
    {
     "cell_type": "markdown",
     "metadata": {},
     "source": [
      "First set up some fitting methods"
     ]
    },
    {
     "cell_type": "code",
     "collapsed": false,
     "input": [
      "import lmfit\n",
      "import models"
     ],
     "language": "python",
     "metadata": {},
     "outputs": []
    },
    {
     "cell_type": "markdown",
     "metadata": {},
     "source": [
      "Currently enforcing translation limit of $\\pm 3$ arcseconds.  Fitting with $a_b$ and $B_0$ fixed, amplitude $>0$. "
     ]
    },
    {
     "cell_type": "code",
     "collapsed": false,
     "input": [
      "def get_fit_res(ab, B0, kevs, prfs, epss, r_prfs, rminarc_f=1.2, **lmfit_kws):\n",
      "    \"\"\"Run joint fit with fixed ab, B0 values\"\"\"\n",
      "    assert len(kevs) == len(prfs) == len(epss) == len(r_prfs)\n",
      "    \n",
      "    model_kws = {}\n",
      "    model_kws['get_prfs'] = True\n",
      "    model_kws['irad_adapt'] = False\n",
      "    if ab > 1.0 or np.isnan(ab) or ab < 0.0:  # I.e., bad ab supplied\n",
      "        model_kws['idamp'] = False\n",
      "    else:\n",
      "        model_kws['idamp'] = True\n",
      "        model_kws['damp_ab'] = ab\n",
      "\n",
      "    # require rminarc > r_prfs at all energies, default safety factor 1.2\n",
      "    rminarc = []\n",
      "    for r_prf in r_prfs:\n",
      "        rminarc.append(max(r_prf) - min(r_prf))\n",
      "    model_kws['rminarc'] = rminarc_f * np.array(rminarc)\n",
      "\n",
      "    p = lmfit.Parameters()\n",
      "    p.add('mu', value=1, vary=False)\n",
      "    p.add('eta2', value=1, vary=False)\n",
      "    p.add('B0', value=B0, vary=False)\n",
      "    \n",
      "    multishift = True\n",
      "    for n in xrange(len(kevs)):\n",
      "        p.add('r_trans_{:d}'.format(n), value=0, vary=True, min=-5, max=5)\n",
      "        p.add('amp_{:d}'.format(n), value=1, vary=True, min=0)\n",
      "\n",
      "    res = lmfit.minimize(models.prf_objective_func, p,\n",
      "                         args=(prfs, epss, r_prfs, multishift, kevs, snr),\n",
      "                         kws=model_kws, **lmfit_kws)\n",
      "    return res, model_kws"
     ],
     "language": "python",
     "metadata": {},
     "outputs": []
    },
    {
     "cell_type": "code",
     "collapsed": false,
     "input": [
      "def plt_prf_fit(p, mkws, kevs, prfs, epss, rprfs, msks, letter):\n",
      "    \"\"\"Make plot for multishift thing\n",
      "    supply damp_ab if ab was not a free fitting parameter\n",
      "    \"\"\"\n",
      "    assert len(kevs) == len(prfs) == len(msks)\n",
      "    \n",
      "    _ = models.width_cont(p, kevs, snr, **mkws)\n",
      "    _, igrids, rgrids = _\n",
      "    \n",
      "    _, axes = plt.subplots(1,len(kevs), figsize=(8,4))\n",
      "    \n",
      "    for prf, eps, rprf, msk, rgrid, igrid, n, ax in zip(prfs, epss, rprfs, msks, rgrids, igrids, xrange(len(kevs)), axes):\n",
      "        nmsk = np.logical_not(msk)\n",
      "        ax.plot(rgrid, igrid, '-k')  # Plot model output\n",
      "        \n",
      "        ax.errorbar(rprf[msk] + p['r_trans_{}'.format(n)].value,\n",
      "                    prf[msk]*p['amp_{}'.format(n)].value,\n",
      "                    yerr=eps[msk]*p['amp_{}'.format(n)].value,\n",
      "                    fmt='.b', capsize=0)\n",
      "        ax.errorbar(rprf[nmsk] + p['r_trans_{}'.format(n)].value,\n",
      "                    prf[nmsk]*p['amp_{}'.format(n)].value,\n",
      "                    yerr=eps[nmsk]*p['amp_{}'.format(n)].value,\n",
      "                    fmt='.r', capsize=0, alpha=0.2)\n",
      "        \n",
      "        if 'idamp' in mkws and mkws['idamp']:\n",
      "            ax.axvspan(240*(1-mkws['damp_ab']), 240, alpha=0.1, color='green')\n",
      "        #plt.ylim(ymin=0)\n",
      "        ax.set_xlim((216,250))\n",
      "        \n",
      "        ax.set_xlabel('Radial distance (arcsec)')\n",
      "    axes[0].set_ylabel('Radio intensity (Jy/beam, arbitrary scaling)')\n",
      "    axes[1].set_ylabel(r'X-ray intensity (cts/cm${}^2$/s, arbitrary scaling)')\n",
      "    \n",
      "    axes[0].text(0.1, 0.1, '1.375 GHz', transform=axes[0].transAxes,\n",
      "                 horizontalalignment='left', fontsize=12)\n",
      "    axes[1].text(0.1, 0.1, '4-7 keV', transform=axes[1].transAxes,\n",
      "                 horizontalalignment='left', fontsize=12)\n",
      "    \n",
      "    axes[1].text(0.9, 0.87, letter, transform=axes[1].transAxes,\n",
      "                 horizontalalignment='center', fontsize=14)\n",
      "    \n",
      "    plt.tight_layout()"
     ],
     "language": "python",
     "metadata": {},
     "outputs": []
    },
    {
     "cell_type": "markdown",
     "metadata": {},
     "source": [
      "Iterate over a grid of values -- this takes about ~15 seconds for one fit (100 function calls).\n",
      "\n",
      "8 $a_b$ values, 9 $B_0$ values, 16 regions implies about 5 hours"
     ]
    },
    {
     "cell_type": "code",
     "collapsed": false,
     "input": [
      "ab_vals = [10, 0.1, 0.05, 0.02, 0.01, 0.008, 0.005, 0.002]\n",
      "B0_vals = [300e-6, 200e-6, 100e-6, 80e-6, 50e-6, 40e-6, 30e-6, 25e-6, 20e-6]\n",
      "\n",
      "region_fit_dicts = []"
     ],
     "language": "python",
     "metadata": {},
     "outputs": []
    },
    {
     "cell_type": "code",
     "collapsed": false,
     "input": [
      "for n, radio, xhard in zip(xrange(1,len(prfs_radio)+1), prfs_radio, prfs_xhard):\n",
      "    resmkw_dict = {}\n",
      "    \n",
      "    rmsk = radio.msk\n",
      "    xmsk = xhard.msk\n",
      "\n",
      "    prfs = [radio.y[rmsk], xhard.y[xmsk]]\n",
      "    epss = [radio.eps[rmsk], xhard.eps[xmsk]]\n",
      "    rprfs = [radio.x[rmsk], xhard.x[xmsk]]\n",
      "    \n",
      "    for B0 in B0_vals:\n",
      "        resmkw_dict[B0] = {}\n",
      "        for ab in ab_vals:\n",
      "            res, mkws = get_fit_res(ab, B0, kevs_all, prfs, epss, rprfs,\n",
      "                                    xtol=1e-3, ftol=1e-3, maxfev=100)\n",
      "            \n",
      "            resmkw_dict[B0][ab] = (res, mkws)\n",
      "    \n",
      "    region_fit_dicts.append(resmkw_dict)"
     ],
     "language": "python",
     "metadata": {},
     "outputs": []
    },
    {
     "cell_type": "markdown",
     "metadata": {},
     "source": [
      "Now we need to show the fits side by side, then go through and identify plausible candidate fits (or note where the fits are, by eye, inconsistent...)\n",
      "\n",
      "(this code not yet functional)"
     ]
    },
    {
     "cell_type": "code",
     "collapsed": false,
     "input": [
      "for resmkw_dict, radio, xhard in zip(region_fit_dicts, prfs_radio, prfs_xhard):\n",
      "    resmkw_dict = {}\n",
      "    \n",
      "    rmsk = radio.msk\n",
      "    xmsk = xhard.msk\n",
      "\n",
      "    prfs = [radio.y[rmsk], xhard.y[xmsk]]\n",
      "    epss = [radio.eps[rmsk], xhard.eps[xmsk]]\n",
      "    rprfs = [radio.x[rmsk], xhard.x[xmsk]]\n",
      "    \n",
      "    for B0 in B0_vals:\n",
      "        for ab in ab_vals:\n",
      "            \n",
      "            res, mkws = resmkw_dict[B0][ab]\n",
      "            \n",
      "            plt_prf_fit(res.params, mkws, kevs_all, [radio.y, xhard.y], [10*radio.eps, xhard.eps],\n",
      "                        [radio.x, xhard.x], [radio.msk, xhard.msk])"
     ],
     "language": "python",
     "metadata": {},
     "outputs": []
    },
    {
     "cell_type": "heading",
     "level": 2,
     "metadata": {},
     "source": [
      "Individual (manual) fitting, twiddling parameters, etc"
     ]
    },
    {
     "cell_type": "markdown",
     "metadata": {},
     "source": [
      "Try running a fit and loading some data.  Set the data / etc here for subsequent parameter playing."
     ]
    },
    {
     "cell_type": "heading",
     "level": 3,
     "metadata": {},
     "source": [
      "Manual fits for Region A, `regions-6-VLA`"
     ]
    },
    {
     "cell_type": "code",
     "collapsed": false,
     "input": [
      "radio, xhard = prfs_radio[0], prfs_xhard[0]\n",
      "letter = the_alphabet_song[0]\n",
      "rmsk = radio.msk\n",
      "xmsk = xhard.msk\n",
      "\n",
      "prfs = [radio.y[rmsk], xhard.y[xmsk]]\n",
      "epss = [radio.eps[rmsk], xhard.eps[xmsk]]\n",
      "rprfs = [radio.x[rmsk], xhard.x[xmsk]]"
     ],
     "language": "python",
     "metadata": {},
     "outputs": []
    },
    {
     "cell_type": "code",
     "collapsed": false,
     "input": [
      "%%capture\n",
      "res, mkws = get_fit_res(0.02, 50e-6, kevs_all,\n",
      "                  prfs, epss, rprfs,\n",
      "                  xtol=1e-3, ftol=1e-3, maxfev=100)\n",
      "\n",
      "# After the fit, remove limits on r_trans for manual twiddling\n",
      "res.params['r_trans_0'].min = -100\n",
      "res.params['r_trans_0'].max = 100\n",
      "res.params['r_trans_1'].min = -100\n",
      "res.params['r_trans_1'].max = 100"
     ],
     "language": "python",
     "metadata": {},
     "outputs": []
    },
    {
     "cell_type": "markdown",
     "metadata": {},
     "source": [
      "Region A, $a_b = 0.1$, $B_0 = 200$ $\\mu$G.\n",
      "Roughly speaking:\n",
      "* $80$ $\\mu$G is too small (x-ray rim too fat)\n",
      "* $120$ $\\mu$G is passable\n",
      "* $300$ $\\mu$G is too large, x-ray rim too thin -- unless it could be PSF-ed down\n",
      "\n",
      "Even at $B_0 = 10$ mG, we cannot form a radio rim; $a_b$ is too large.\n",
      "Instead, we try to fit the X-ray rim, then scale the radio rise to fit underneath the bump"
     ]
    },
    {
     "cell_type": "code",
     "collapsed": false,
     "input": [
      "mkws['damp_ab'] = 0.1\n",
      "res.params['B0'].value = 200e-6\n",
      "\n",
      "res.params['amp_0'].value = 53\n",
      "res.params['r_trans_0'].value = 2.1\n",
      "res.params['amp_1'].value = 170\n",
      "res.params['r_trans_1'].value = 5\n",
      "\n",
      "plt_prf_fit(res.params, mkws, kevs_all, [radio.y, xhard.y], [radio.eps, xhard.eps],\n",
      "            [radio.x, xhard.x], [radio.msk, xhard.msk])"
     ],
     "language": "python",
     "metadata": {},
     "outputs": []
    },
    {
     "cell_type": "markdown",
     "metadata": {},
     "source": [
      "Region A, $a_b = 0.025$, $B_0 = 70$ $\\mu$G."
     ]
    },
    {
     "cell_type": "code",
     "collapsed": false,
     "input": [
      "mkws['damp_ab'] = 0.025\n",
      "res.params['B0'].value = 100e-6\n",
      "\n",
      "res.params['amp_0'].value = 7.6\n",
      "res.params['r_trans_0'].value = 4.6\n",
      "res.params['amp_1'].value = 78\n",
      "res.params['r_trans_1'].value = 4.4\n",
      "\n",
      "plt_prf_fit(res.params, mkws, kevs_all, [radio.y, xhard.y], [radio.eps, xhard.eps],\n",
      "            [radio.x, xhard.x], [radio.msk, xhard.msk])"
     ],
     "language": "python",
     "metadata": {},
     "outputs": []
    },
    {
     "cell_type": "markdown",
     "metadata": {},
     "source": [
      "Region A, $a_b = 0.02$, $B_0 = 50$ $\\mu$G.  __This is the \"best\" eyeballed fit__\n",
      "\n",
      "Increased $B_0$ sharpens rim, improves X-ray but worsens radio.\n",
      "And, vice versa for smaller $B_0$.  Deviation gets bad around $30$ and $150$ $\\mu$G."
     ]
    },
    {
     "cell_type": "code",
     "collapsed": false,
     "input": [
      "mkws['damp_ab'] = 0.02\n",
      "res.params['B0'].value = 30e-6\n",
      "\n",
      "res.params['amp_0'].value = 1.12\n",
      "res.params['r_trans_0'].value = 4.5\n",
      "res.params['amp_1'].value = 17\n",
      "res.params['r_trans_1'].value = 3\n",
      "\n",
      "plt_prf_fit(res.params, mkws, kevs_all, [radio.y, xhard.y], [radio.eps, xhard.eps],\n",
      "            [radio.x, xhard.x], [radio.msk, xhard.msk], letter)"
     ],
     "language": "python",
     "metadata": {},
     "outputs": []
    },
    {
     "cell_type": "code",
     "collapsed": false,
     "input": [
      "mkws['damp_ab'] = 0.02\n",
      "res.params['B0'].value = 50e-6\n",
      "\n",
      "res.params['amp_0'].value = 2.3\n",
      "res.params['r_trans_0'].value = 5\n",
      "res.params['amp_1'].value = 30\n",
      "res.params['r_trans_1'].value = 4\n",
      "\n",
      "plt_prf_fit(res.params, mkws, kevs_all, [radio.y, xhard.y], [radio.eps, xhard.eps],\n",
      "            [radio.x, xhard.x], [radio.msk, xhard.msk], letter)\n",
      "plt.savefig('region-A-ab_0.02-B0_50e-6.pdf')\n",
      "plt.savefig('region-A-ab_0.02-B0_50e-6.png')"
     ],
     "language": "python",
     "metadata": {},
     "outputs": []
    },
    {
     "cell_type": "code",
     "collapsed": false,
     "input": [
      "mkws['damp_ab'] = 0.02\n",
      "res.params['B0'].value = 150e-6\n",
      "\n",
      "res.params['amp_0'].value = 12.5\n",
      "res.params['r_trans_0'].value = 5.2\n",
      "res.params['amp_1'].value = 110\n",
      "res.params['r_trans_1'].value = 5\n",
      "\n",
      "plt_prf_fit(res.params, mkws, kevs_all, [radio.y, xhard.y], [10*radio.eps, xhard.eps],\n",
      "            [radio.x, xhard.x], [radio.msk, xhard.msk])"
     ],
     "language": "python",
     "metadata": {},
     "outputs": []
    },
    {
     "cell_type": "markdown",
     "metadata": {},
     "source": [
      "Region A, $a_b = 0.015$, $B_0 = 50$ $\\mu$G."
     ]
    },
    {
     "cell_type": "code",
     "collapsed": false,
     "input": [
      "mkws['damp_ab'] = 0.015\n",
      "res.params['B0'].value = 100e-6\n",
      "\n",
      "res.params['amp_0'].value = 5.8\n",
      "res.params['r_trans_0'].value = 5.5\n",
      "res.params['amp_1'].value = 60\n",
      "res.params['r_trans_1'].value = 5\n",
      "\n",
      "plt_prf_fit(res.params, mkws, kevs_all, [radio.y, xhard.y], [10*radio.eps, xhard.eps],\n",
      "            [radio.x, xhard.x], [radio.msk, xhard.msk])"
     ],
     "language": "python",
     "metadata": {},
     "outputs": []
    },
    {
     "cell_type": "markdown",
     "metadata": {},
     "source": [
      "Region A, $a_b = 0.005$, $B_0 = 100$ $\\mu$G."
     ]
    },
    {
     "cell_type": "code",
     "collapsed": false,
     "input": [
      "mkws['damp_ab'] = 0.005\n",
      "res.params['B0'].value = 100e-6\n",
      "\n",
      "res.params['amp_0'].value = 3.4\n",
      "res.params['r_trans_0'].value = 6.5\n",
      "res.params['amp_1'].value = 40\n",
      "res.params['r_trans_1'].value = 5\n",
      "\n",
      "plt_prf_fit(res.params, mkws, kevs_all, [radio.y, xhard.y], [radio.eps, xhard.eps],\n",
      "            [radio.x, xhard.x], [radio.msk, xhard.msk])"
     ],
     "language": "python",
     "metadata": {},
     "outputs": []
    },
    {
     "cell_type": "markdown",
     "metadata": {},
     "source": [
      "Region A, $a_b = 0.005$, $B_0 = 22$ $\\mu$G."
     ]
    },
    {
     "cell_type": "code",
     "collapsed": false,
     "input": [
      "mkws['damp_ab'] = 0.005\n",
      "res.params['B0'].value = 22e-6\n",
      "\n",
      "res.params['amp_0'].value = 0.35\n",
      "res.params['r_trans_0'].value = 6.7\n",
      "res.params['amp_1'].value = 4.5\n",
      "res.params['r_trans_1'].value = 5\n",
      "\n",
      "plt_prf_fit(res.params, mkws, kevs_all, [radio.y, xhard.y], [radio.eps, xhard.eps],\n",
      "            [radio.x, xhard.x], [radio.msk, xhard.msk])"
     ],
     "language": "python",
     "metadata": {},
     "outputs": []
    },
    {
     "cell_type": "markdown",
     "metadata": {},
     "source": [
      "Region A, $a_b = 0.005$, $B_0 = 16$ $\\mu$G."
     ]
    },
    {
     "cell_type": "code",
     "collapsed": false,
     "input": [
      "mkws['damp_ab'] = 0.005\n",
      "res.params['B0'].value = 16e-6\n",
      "\n",
      "res.params['amp_0'].value = 0.32\n",
      "res.params['r_trans_0'].value = 4\n",
      "res.params['amp_1'].value = 3.7\n",
      "res.params['r_trans_1'].value = 4\n",
      "\n",
      "plt_prf_fit(res.params, mkws, kevs_all, [radio.y, xhard.y], [radio.eps, xhard.eps],\n",
      "            [radio.x, xhard.x], [radio.msk, xhard.msk])"
     ],
     "language": "python",
     "metadata": {},
     "outputs": []
    },
    {
     "cell_type": "heading",
     "level": 3,
     "metadata": {},
     "source": [
      "Manual fit for Region J, regions-6-VLA"
     ]
    },
    {
     "cell_type": "code",
     "collapsed": false,
     "input": [
      "radio, xhard = prfs_radio[9], prfs_xhard[9]\n",
      "letter = the_alphabet_song[9]\n",
      "rmsk = radio.msk\n",
      "xmsk = xhard.msk\n",
      "\n",
      "prfs = [radio.y[rmsk], xhard.y[xmsk]]\n",
      "epss = [radio.eps[rmsk], xhard.eps[xmsk]]\n",
      "rprfs = [radio.x[rmsk], xhard.x[xmsk]]"
     ],
     "language": "python",
     "metadata": {},
     "outputs": []
    },
    {
     "cell_type": "code",
     "collapsed": false,
     "input": [
      "%%capture\n",
      "res, mkws = get_fit_res(0.1, 150e-6, kevs_all,\n",
      "                  prfs, epss, rprfs,\n",
      "                  xtol=1e-3, ftol=1e-3, maxfev=100)\n",
      "\n",
      "# After the fit, remove limits on r_trans for manual twiddling\n",
      "res.params['r_trans_0'].min = -100\n",
      "res.params['r_trans_0'].max = 100\n",
      "res.params['r_trans_1'].min = -100\n",
      "res.params['r_trans_1'].max = 100"
     ],
     "language": "python",
     "metadata": {},
     "outputs": []
    },
    {
     "cell_type": "markdown",
     "metadata": {},
     "source": [
      "Loss-limited or very weakly damped models ($a_b \\gtrsim 0.1$) with $B_0 = 300$ $\\mu$G are best at explaining front emission.  This all depends on\n",
      "\n",
      "1. how much emission you believe could be within 10 arcsec of the shock,\n",
      "2. how incorrect our model is going downstream (should it plateau faster than observed?)\n",
      "\n",
      "Models with $a_b < 0.1$ could work, but need another source of radio emission XOR some PSF effects to get the X-ray rim shape right."
     ]
    },
    {
     "cell_type": "code",
     "collapsed": false,
     "input": [
      "mkws['damp_ab'] = 0.5\n",
      "mkws['idamp'] = False\n",
      "res.params['B0'].value = 300e-6\n",
      "\n",
      "res.params['amp_0'].value = 420\n",
      "res.params['r_trans_0'].value = 1\n",
      "res.params['amp_1'].value = 110\n",
      "res.params['r_trans_1'].value = 1\n",
      "\n",
      "plt_prf_fit(res.params, mkws, kevs_all, [radio.y, xhard.y], [radio.eps, xhard.eps],\n",
      "            [radio.x, xhard.x], [radio.msk, xhard.msk])\n",
      "\n",
      "mkws['idamp'] = True  # As a courtesy to the other cells"
     ],
     "language": "python",
     "metadata": {},
     "outputs": []
    },
    {
     "cell_type": "code",
     "collapsed": false,
     "input": [
      "mkws['damp_ab'] = 0.5\n",
      "res.params['B0'].value = 300e-6\n",
      "\n",
      "res.params['amp_0'].value = 420\n",
      "res.params['r_trans_0'].value = 1\n",
      "res.params['amp_1'].value = 110\n",
      "res.params['r_trans_1'].value = 1\n",
      "\n",
      "plt_prf_fit(res.params, mkws, kevs_all, [radio.y, xhard.y], [radio.eps, xhard.eps],\n",
      "            [radio.x, xhard.x], [radio.msk, xhard.msk])"
     ],
     "language": "python",
     "metadata": {},
     "outputs": []
    },
    {
     "cell_type": "code",
     "collapsed": false,
     "input": [
      "mkws['damp_ab'] = 0.3\n",
      "res.params['B0'].value = 300e-6\n",
      "\n",
      "res.params['amp_0'].value = 420\n",
      "res.params['r_trans_0'].value = 1\n",
      "res.params['amp_1'].value = 110\n",
      "res.params['r_trans_1'].value = 1\n",
      "\n",
      "plt_prf_fit(res.params, mkws, kevs_all, [radio.y, xhard.y], [radio.eps, xhard.eps],\n",
      "            [radio.x, xhard.x], [radio.msk, xhard.msk], letter)\n",
      "plt.savefig('region-J-ab_0.3-B0_300e-6.pdf')\n",
      "plt.savefig('region-J-ab_0.3-B0_300e-6.png')"
     ],
     "language": "python",
     "metadata": {},
     "outputs": []
    },
    {
     "cell_type": "markdown",
     "metadata": {},
     "source": [
      "Region J with $a_b = 0.1$"
     ]
    },
    {
     "cell_type": "code",
     "collapsed": false,
     "input": [
      "mkws['damp_ab'] = 0.1\n",
      "#mkws['idamp'] = True\n",
      "res.params['B0'].value = 300e-6\n",
      "\n",
      "res.params['amp_0'].value = 410\n",
      "res.params['r_trans_0'].value = 1\n",
      "res.params['amp_1'].value = 110\n",
      "res.params['r_trans_1'].value = 1\n",
      "\n",
      "plt_prf_fit(res.params, mkws, kevs_all, [radio.y, xhard.y], [radio.eps, xhard.eps],\n",
      "            [radio.x, xhard.x], [radio.msk, xhard.msk])"
     ],
     "language": "python",
     "metadata": {},
     "outputs": []
    },
    {
     "cell_type": "code",
     "collapsed": false,
     "input": [
      "mkws['damp_ab'] = 0.1\n",
      "#mkws['idamp'] = True\n",
      "res.params['B0'].value = 400e-6\n",
      "\n",
      "res.params['amp_0'].value = 510\n",
      "res.params['r_trans_0'].value = 1.5\n",
      "res.params['amp_1'].value = 130\n",
      "res.params['r_trans_1'].value = 1.5\n",
      "\n",
      "plt_prf_fit(res.params, mkws, kevs_all, [radio.y, xhard.y], [radio.eps, xhard.eps],\n",
      "            [radio.x, xhard.x], [radio.msk, xhard.msk])"
     ],
     "language": "python",
     "metadata": {},
     "outputs": []
    },
    {
     "cell_type": "markdown",
     "metadata": {},
     "source": [
      "Region J with $a_b = 0.05$"
     ]
    },
    {
     "cell_type": "code",
     "collapsed": false,
     "input": [
      "mkws['damp_ab'] = 0.05\n",
      "#mkws['idamp'] = True\n",
      "res.params['B0'].value = 150e-6\n",
      "\n",
      "res.params['amp_0'].value = 100\n",
      "res.params['r_trans_0'].value = 1\n",
      "res.params['amp_1'].value = 70\n",
      "res.params['r_trans_1'].value = 0\n",
      "\n",
      "plt_prf_fit(res.params, mkws, kevs_all, [radio.y, xhard.y], [radio.eps, xhard.eps],\n",
      "            [radio.x, xhard.x], [radio.msk, xhard.msk])"
     ],
     "language": "python",
     "metadata": {},
     "outputs": []
    },
    {
     "cell_type": "code",
     "collapsed": false,
     "input": [
      "mkws['damp_ab'] = 0.05\n",
      "#mkws['idamp'] = True\n",
      "res.params['B0'].value = 300e-6\n",
      "\n",
      "res.params['amp_0'].value = 300\n",
      "res.params['r_trans_0'].value = 1\n",
      "res.params['amp_1'].value = 100\n",
      "res.params['r_trans_1'].value = 1\n",
      "\n",
      "plt_prf_fit(res.params, mkws, kevs_all, [radio.y, xhard.y], [radio.eps, xhard.eps],\n",
      "            [radio.x, xhard.x], [radio.msk, xhard.msk])"
     ],
     "language": "python",
     "metadata": {},
     "outputs": []
    },
    {
     "cell_type": "code",
     "collapsed": false,
     "input": [
      "mkws['damp_ab'] = 0.05\n",
      "#mkws['idamp'] = True\n",
      "res.params['B0'].value = 400e-6\n",
      "\n",
      "res.params['amp_0'].value = 420\n",
      "res.params['r_trans_0'].value = 1\n",
      "res.params['amp_1'].value = 130\n",
      "res.params['r_trans_1'].value = 1\n",
      "\n",
      "plt_prf_fit(res.params, mkws, kevs_all, [radio.y, xhard.y], [radio.eps, xhard.eps],\n",
      "            [radio.x, xhard.x], [radio.msk, xhard.msk])"
     ],
     "language": "python",
     "metadata": {},
     "outputs": []
    },
    {
     "cell_type": "heading",
     "level": 3,
     "metadata": {},
     "source": [
      "Region E"
     ]
    },
    {
     "cell_type": "markdown",
     "metadata": {},
     "source": [
      "This could plausibly be a two filament structure, honestly"
     ]
    },
    {
     "cell_type": "code",
     "collapsed": false,
     "input": [
      "radio, xhard = prfs_radio[4], prfs_xhard[4]\n",
      "letter = the_alphabet_song[4]\n",
      "rmsk = radio.msk\n",
      "xmsk = xhard.msk\n",
      "\n",
      "prfs = [radio.y[rmsk], xhard.y[xmsk]]\n",
      "epss = [radio.eps[rmsk], xhard.eps[xmsk]]\n",
      "rprfs = [radio.x[rmsk], xhard.x[xmsk]]"
     ],
     "language": "python",
     "metadata": {},
     "outputs": []
    },
    {
     "cell_type": "code",
     "collapsed": false,
     "input": [
      "%%capture\n",
      "res, mkws = get_fit_res(0.02, 50e-6, kevs_all,\n",
      "                  prfs, epss, rprfs,\n",
      "                  xtol=1e-3, ftol=1e-3, maxfev=100)\n",
      "\n",
      "# After the fit, remove limits on r_trans for manual twiddling\n",
      "res.params['r_trans_0'].min = -100\n",
      "res.params['r_trans_0'].max = 100\n",
      "res.params['r_trans_1'].min = -100\n",
      "res.params['r_trans_1'].max = 100"
     ],
     "language": "python",
     "metadata": {},
     "outputs": []
    },
    {
     "cell_type": "markdown",
     "metadata": {},
     "source": [
      "Region E, $a_b$ = 0.03 seems to work"
     ]
    },
    {
     "cell_type": "code",
     "collapsed": false,
     "input": [
      "mkws['damp_ab'] = 0.03\n",
      "res.params['B0'].value = 120e-6\n",
      "\n",
      "res.params['amp_0'].value = 18.7\n",
      "res.params['r_trans_0'].value = 0.5\n",
      "res.params['amp_1'].value = 58\n",
      "res.params['r_trans_1'].value = 1\n",
      "\n",
      "plt_prf_fit(res.params, mkws, kevs_all, [radio.y, xhard.y], [radio.eps, xhard.eps],\n",
      "            [radio.x, xhard.x], [radio.msk, xhard.msk], letter)\n",
      "plt.savefig('region-E-ab_0.03-B0_120e-6.pdf')\n",
      "plt.savefig('region-E-ab_0.03-B0_120e-6.png')"
     ],
     "language": "python",
     "metadata": {},
     "outputs": []
    },
    {
     "cell_type": "markdown",
     "metadata": {},
     "source": [
      "Larger damping length $a_b = 0.05$ is iffier in getting the fairly wide rim AND x-ray simultaneously"
     ]
    },
    {
     "cell_type": "code",
     "collapsed": false,
     "input": [
      "mkws['damp_ab'] = 0.05\n",
      "res.params['B0'].value = 100e-6\n",
      "\n",
      "res.params['amp_0'].value = 19\n",
      "res.params['r_trans_0'].value = 0.5\n",
      "res.params['amp_1'].value = 65\n",
      "res.params['r_trans_1'].value = 1\n",
      "\n",
      "plt_prf_fit(res.params, mkws, kevs_all, [radio.y, xhard.y], [radio.eps, xhard.eps],\n",
      "            [radio.x, xhard.x], [radio.msk, xhard.msk], letter)"
     ],
     "language": "python",
     "metadata": {},
     "outputs": []
    },
    {
     "cell_type": "code",
     "collapsed": false,
     "input": [
      "mkws['damp_ab'] = 0.05\n",
      "res.params['B0'].value = 250e-6\n",
      "\n",
      "res.params['amp_0'].value = 80\n",
      "res.params['r_trans_0'].value = 0.5\n",
      "res.params['amp_1'].value = 95\n",
      "res.params['r_trans_1'].value = 1\n",
      "\n",
      "plt_prf_fit(res.params, mkws, kevs_all, [radio.y, xhard.y], [radio.eps, xhard.eps],\n",
      "            [radio.x, xhard.x], [radio.msk, xhard.msk], letter)"
     ],
     "language": "python",
     "metadata": {},
     "outputs": []
    },
    {
     "cell_type": "heading",
     "level": 3,
     "metadata": {},
     "source": [
      "Region N (sharp rim at NW)"
     ]
    },
    {
     "cell_type": "code",
     "collapsed": false,
     "input": [
      "radio, xhard = prfs_radio[13], prfs_xhard[13]\n",
      "letter = the_alphabet_song[13]\n",
      "rmsk = radio.msk\n",
      "xmsk = xhard.msk\n",
      "\n",
      "prfs = [radio.y[rmsk], xhard.y[xmsk]]\n",
      "epss = [radio.eps[rmsk], xhard.eps[xmsk]]\n",
      "rprfs = [radio.x[rmsk], xhard.x[xmsk]]"
     ],
     "language": "python",
     "metadata": {},
     "outputs": []
    },
    {
     "cell_type": "code",
     "collapsed": false,
     "input": [
      "%%capture\n",
      "res, mkws = get_fit_res(0.02, 100e-6, kevs_all,\n",
      "                  prfs, epss, rprfs,\n",
      "                  xtol=1e-3, ftol=1e-3, maxfev=100)\n",
      "\n",
      "# After the fit, remove limits on r_trans for manual twiddling\n",
      "res.params['r_trans_0'].min = -100\n",
      "res.params['r_trans_0'].max = 100\n",
      "res.params['r_trans_1'].min = -100\n",
      "res.params['r_trans_1'].max = 100"
     ],
     "language": "python",
     "metadata": {},
     "outputs": []
    },
    {
     "cell_type": "code",
     "collapsed": false,
     "input": [
      "mkws['damp_ab'] = 0.002\n",
      "res.params['B0'].value = 400e-6\n",
      "\n",
      "res.params['amp_0'].value = 27\n",
      "res.params['r_trans_0'].value = 2\n",
      "res.params['amp_1'].value = 45\n",
      "res.params['r_trans_1'].value = 2\n",
      "\n",
      "plt_prf_fit(res.params, mkws, kevs_all, [radio.y, xhard.y], [radio.eps, xhard.eps],\n",
      "            [radio.x, xhard.x], [radio.msk, xhard.msk], letter)\n",
      "plt.savefig('region-N-ab_0.002-B0_400e-6.pdf')\n",
      "plt.savefig('region-N-ab_0.002-B0_400e-6.png')"
     ],
     "language": "python",
     "metadata": {},
     "outputs": []
    },
    {
     "cell_type": "code",
     "collapsed": false,
     "input": [
      "mkws['damp_ab'] = 0.05\n",
      "res.params['B0'].value = 500e-6\n",
      "\n",
      "res.params['amp_0'].value = 240\n",
      "res.params['r_trans_0'].value = 0\n",
      "res.params['amp_1'].value = 88\n",
      "res.params['r_trans_1'].value = 2\n",
      "\n",
      "plt_prf_fit(res.params, mkws, kevs_all, [radio.y, xhard.y], [radio.eps, xhard.eps],\n",
      "            [radio.x, xhard.x], [radio.msk, xhard.msk], letter)\n",
      "plt.savefig('region-N-ab_0.05-B0_500e-6.pdf')\n",
      "plt.savefig('region-N-ab_0.05-B0_500e-6.png')"
     ],
     "language": "python",
     "metadata": {},
     "outputs": []
    },
    {
     "cell_type": "code",
     "collapsed": false,
     "input": [
      "mkws['damp_ab'] = 0.004\n",
      "res.params['B0'].value = 23e-6\n",
      "\n",
      "res.params['amp_0'].value = 0.47\n",
      "res.params['r_trans_0'].value = 2.5\n",
      "res.params['amp_1'].value = 2\n",
      "res.params['r_trans_1'].value = 1\n",
      "\n",
      "plt_prf_fit(res.params, mkws, kevs_all, [radio.y, xhard.y], [radio.eps, xhard.eps],\n",
      "            [radio.x, xhard.x], [radio.msk, xhard.msk], letter)\n",
      "plt.savefig('region-N-ab_0.004-B0_23e-6.pdf')\n",
      "plt.savefig('region-N-ab_0.004-B0_23e-6.png')"
     ],
     "language": "python",
     "metadata": {},
     "outputs": []
    }
   ],
   "metadata": {}
  }
 ]
}