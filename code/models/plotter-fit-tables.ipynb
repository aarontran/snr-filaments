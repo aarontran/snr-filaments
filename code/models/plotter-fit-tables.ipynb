{
 "metadata": {
  "name": "",
  "signature": "sha256:c21f4fa5cacbfc1e97d3116359f5a95703ac173b48dc3fe221637e90f7242ebc"
 },
 "nbformat": 3,
 "nbformat_minor": 0,
 "worksheets": [
  {
   "cells": [
    {
     "cell_type": "heading",
     "level": 1,
     "metadata": {},
     "source": [
      "Notebook to generate nice tables, plots for paper (manipulating fit outputs)"
     ]
    },
    {
     "cell_type": "markdown",
     "metadata": {},
     "source": [
      "Basically, make a new one for each SNR -- it's probably easier/simpler,\n",
      "because depending on the number of tables, values/averages being reported, etc.,\n",
      "you'll have to twiddle the layout, change headers, etc.\n",
      "\n",
      "So, not really worth refactoring this module"
     ]
    },
    {
     "cell_type": "markdown",
     "metadata": {},
     "source": [
      "More generally, I'm using this notebook to load all the fit data -- and generate tons of derived output, calculations, or presentation based on the best fit parameters.  It's a bit of a mess.\n",
      "\n",
      "1. The first half is mostly tables of fit parameters etc, for all the different types of fits I've run.\n",
      "2. The second half is a lot of plots illustrating the fits etc."
     ]
    },
    {
     "cell_type": "code",
     "collapsed": true,
     "input": [
      "%pylab --no-import-all\n",
      "%matplotlib inline\n",
      "# ('gtk', 'inline', 'osx', 'qt', 'qt4', 'tk', 'wx')\n",
      "%load_ext autoreload\n",
      "%autoreload 2\n",
      "from fplot import fplot, show_mplrc_settings\n",
      "\n",
      "from __future__ import division\n",
      "\n",
      "import cPickle as pickle\n",
      "from glob import glob\n",
      "import re\n",
      "\n",
      "import models\n",
      "import models_exec as mex\n",
      "import models_disp as mdsp\n",
      "from nice_tables import LatexTable\n",
      "from nice_tables import merge_latex_tables as mergelt\n",
      "import snr_catalog as snrcat\n",
      "\n",
      "# For reference\n",
      "show_mplrc_settings()"
     ],
     "language": "python",
     "metadata": {},
     "outputs": []
    },
    {
     "cell_type": "heading",
     "level": 1,
     "metadata": {},
     "source": [
      "0. Set-up: data to use, plot output path, etc"
     ]
    },
    {
     "cell_type": "code",
     "collapsed": false,
     "input": [
      "# TYCHO\n",
      "labels = ['0.7-1kev', '1-1.7kev', '2-3kev', '3-4.5kev', '4.5-7kev']\n",
      "labels_nice = [r'0.7--1 keV', r'1--1.7 keV', r'2--3 keV', r'3--4.5 keV', r'4.5--7 keV']\n",
      "\n",
      "fitroot = '../../data-tycho/regions-6/fwhms-subbkg/model-fits/full-man_err'\n",
      "#fitroot = '../../data-tycho/regions-6/fwhms-subbkg/model-fits/full-std_err-srcutlog'\n",
      "fitroot_eta2_one = '../../data-tycho/regions-6/fwhms-subbkg/model-fits/full-std_err-eta2_one'\n",
      "\n",
      "damproot_free = '../../data-tycho/regions-6/fwhms-subbkg/model-fits/full-std_err-ab_{:0.2e}-eta2_free'\n",
      "damproot_eta2 = '../../data-tycho/regions-6/fwhms-subbkg/model-fits/full-std_err-ab_{:0.2e}-eta2_{:0.2e}'\n",
      "damproot_mu = '../../data-tycho/regions-6/fwhms-subbkg/model-fits/full-std_err-mu_all-ab_{:0.2e}-eta2_1.00e+00'\n",
      "damproot_bmin = '../../data-tycho/regions-6/fwhms-subbkg/model-fits/full-std_err-ab_{:0.2e}-eta2_{:0.2e}-Bmin_{:0.2e}'\n",
      "plt_outroot = '../../data-tycho/regions-6/fwhms-subbkg/model-fit-plots/'\n",
      "\n",
      "AB_VALS = [0.5, 0.05, 0.04, 0.03, 0.02, 0.01, 0.009, 0.008, 0.007, 0.006, 0.005, 0.004, 0.003, 0.002]\n",
      "ETA2_VALS = [0.01, 0.1, 1., 2., 10.]\n",
      "\n",
      "# TYCHO simulations\n",
      "#fitroot = '../../data-tycho/simul-fakeit/full-man_err'\n",
      "#indiv_left = [1,4]\n",
      "#indiv_rows = [[1,2,3], [4,5,6]]"
     ],
     "language": "python",
     "metadata": {},
     "outputs": []
    },
    {
     "cell_type": "code",
     "collapsed": true,
     "input": [
      "# SN 1006\n",
      "labels = ['0.7-1kev', '1-2kev', '2-7kev']\n",
      "labels_nice = ['0.7--1 keV', '1--2 keV', '2--7 keV']\n",
      "fitroot = '../../data-sn1006/model-fits/full-std_err'\n",
      "damproot_free = '../../data-sn1006/model-fits-damp/full-std_err-ab_{:0.2e}-eta2_free'\n",
      "damproot_eta2 = '../../data-sn1006/model-fits-damp/full-std_err-ab_{:0.2e}-eta2_{:0.2e}'\n",
      "plt_outroot = '../../data-sn1006/model-fits/plots/full-loss-damp'\n",
      "\n",
      "AB_VALS = [0.5, 0.05, 0.04, 0.03, 0.02, 0.01, 0.009, 0.008, 0.007, 0.006, 0.005, 0.004]\n",
      "ETA2_VALS = [0.01, 0.1, 1., 2., 10.]"
     ],
     "language": "python",
     "metadata": {},
     "outputs": []
    },
    {
     "cell_type": "code",
     "collapsed": false,
     "input": [
      "# KEPLER\n",
      "labels = ['0.7-1kev', '1-2kev', '2-4kev', '4-7kev']\n",
      "labels_nice = [r'0.7--1 keV', r'1--2 keV', r'2--4 keV', r'4--7 keV']\n",
      "fitroot = '../../data-kepler/regions-3/fwhms-subbkg/model-fits/full-std_err'\n",
      "damproot_free = '../../data-kepler/regions-3/fwhms-subbkg/model-fits/full-std_err-ab_{:0.2e}-eta2_free'\n",
      "damproot_eta2 = '../../data-kepler/regions-3/fwhms-subbkg/model-fits/full-std_err-ab_{:0.2e}-eta2_{:0.2e}'\n",
      "plt_outroot = '../../data-kepler/regions-3/fwhms-subbkg/plots/model-fits'\n",
      "\n",
      "AB_VALS = [0.5, 0.05, 0.04, 0.03, 0.02, 0.015, 0.012, 0.011, 0.01,\n",
      "           0.009, 0.008, 0.007, 0.006, 0.005, 0.004, 0.003, 0.002]\n",
      "ETA2_VALS = [0.01, 0.1, 1., 2., 10.]"
     ],
     "language": "python",
     "metadata": {},
     "outputs": []
    },
    {
     "cell_type": "code",
     "collapsed": false,
     "input": [
      "def m_expt(ens, widths):\n",
      "    \"\"\"Calculated following Ressler et al. [2014]\n",
      "    Output array size is one less than that of ens/widths\n",
      "    \"\"\"\n",
      "    e2, e1 = ens[1:], ens[:-1]\n",
      "    w2, w1 = widths[1:], widths[:-1]\n",
      "    return np.log(w2/w1) / np.log(e2/e1)"
     ],
     "language": "python",
     "metadata": {},
     "outputs": []
    },
    {
     "cell_type": "markdown",
     "metadata": {},
     "source": [
      "Find the best damping fits for moderate damping ($a_b \\leq 0.01$)"
     ]
    },
    {
     "cell_type": "code",
     "collapsed": false,
     "input": [
      "AB_BEST = {}\n",
      "CHISQR_BEST = {}\n",
      "\n",
      "for ab_val in [x for x in AB_VALS if x <= 0.01]:\n",
      "    \n",
      "    froot = damproot_free.format(ab_val)\n",
      "    \n",
      "    # Iterate over each region\n",
      "    for p_list, mu_vals, n, fobj_dict in mdsp.load_fit_pkls(froot, want_fobj=True):\n",
      "        for p, mu in zip(p_list, mu_vals):  # Only one mu value to speak of\n",
      "            \n",
      "            chisqr_val = p.info['chisqr']\n",
      "            \n",
      "            if n not in AB_BEST or chisqr_val <= CHISQR_BEST[n]:\n",
      "                AB_BEST[n] = ab_val\n",
      "                CHISQR_BEST[n] = chisqr_val"
     ],
     "language": "python",
     "metadata": {},
     "outputs": []
    },
    {
     "cell_type": "markdown",
     "metadata": {},
     "source": [
      "Copy pasta code -- find best damped fits if $\\eta_2 = 1$ holds."
     ]
    },
    {
     "cell_type": "code",
     "collapsed": true,
     "input": [
      "AB_BEST_ETA2_ONE = {}\n",
      "CHISQR_BEST_ETA2_ONE = {}\n",
      "\n",
      "for ab_val in [x for x in AB_VALS if x <= 0.01]:\n",
      "    \n",
      "    froot = damproot_eta2.format(ab_val, 1)\n",
      "    \n",
      "    # Iterate over each region\n",
      "    for p_list, mu_vals, n, fobj_dict in mdsp.load_fit_pkls(froot, want_fobj=True):\n",
      "        for p, mu in zip(p_list, mu_vals):  # Only one mu value to speak of\n",
      "            \n",
      "            chisqr_val = p.info['chisqr']\n",
      "            \n",
      "            if n not in AB_BEST_ETA2_ONE or chisqr_val <= CHISQR_BEST_ETA2_ONE[n]:\n",
      "                AB_BEST_ETA2_ONE[n] = ab_val\n",
      "                CHISQR_BEST_ETA2_ONE[n] = chisqr_val"
     ],
     "language": "python",
     "metadata": {},
     "outputs": []
    },
    {
     "cell_type": "markdown",
     "metadata": {},
     "source": [
      "And again for case $\\eta_2 = 1$, $B_{\\mathrm{min}} = 0$."
     ]
    },
    {
     "cell_type": "code",
     "collapsed": true,
     "input": [
      "AB_BEST_BMIN_ZERO = {}\n",
      "CHISQR_BEST_BMIN_ZERO = {}\n",
      "\n",
      "for ab_val in [x for x in AB_VALS if x <= 0.01]:\n",
      "    \n",
      "    froot = damproot_bmin.format(ab_val, 1., 0.)\n",
      "    print froot\n",
      "    \n",
      "    # Iterate over each region\n",
      "    for p_list, mu_vals, n, fobj_dict in mdsp.load_fit_pkls(froot, want_fobj=True):\n",
      "        for p, mu in zip(p_list, mu_vals):  # Only one mu value to speak of\n",
      "            \n",
      "            chisqr_val = p.info['chisqr']\n",
      "            \n",
      "            if n not in AB_BEST_BMIN_ZERO or chisqr_val <= CHISQR_BEST_BMIN_ZERO[n]:\n",
      "                AB_BEST_BMIN_ZERO[n] = ab_val\n",
      "                CHISQR_BEST_BMIN_ZERO[n] = chisqr_val"
     ],
     "language": "python",
     "metadata": {},
     "outputs": []
    },
    {
     "cell_type": "markdown",
     "metadata": {},
     "source": [
      "Copy pasta code -- find best damped fits with $\\eta_2 = 1$ and multiple $\\mu$ values."
     ]
    },
    {
     "cell_type": "code",
     "collapsed": false,
     "input": [
      "AB_BEST_MU_ALL = {}\n",
      "CHISQR_BEST_MU_ALL = {}  # Keys n to dict of mu: ab values\n",
      "\n",
      "for ab_val in [x for x in AB_VALS if x <= 0.01]:\n",
      "    \n",
      "    froot = damproot_mu.format(ab_val)\n",
      "    \n",
      "    # Iterate over each region\n",
      "    for p_list, mu_vals, n, fobj_dict in mdsp.load_fit_pkls(froot, want_fobj=True):\n",
      "        for p, mu in zip(p_list, mu_vals):\n",
      "            \n",
      "            chisqr_val = p.info['chisqr']\n",
      "            \n",
      "            # This is very stupid\n",
      "            if n not in AB_BEST_MU_ALL:\n",
      "                AB_BEST_MU_ALL[n] = {}\n",
      "                CHISQR_BEST_MU_ALL[n] = {}\n",
      "            \n",
      "            if mu not in AB_BEST_MU_ALL[n] or chisqr_val < CHISQR_BEST_MU_ALL[n][mu]:\n",
      "                AB_BEST_MU_ALL[n][mu] = ab_val\n",
      "                CHISQR_BEST_MU_ALL[n][mu] = chisqr_val"
     ],
     "language": "python",
     "metadata": {},
     "outputs": []
    },
    {
     "cell_type": "markdown",
     "metadata": {},
     "source": [
      "Quick one-off cell to print results..."
     ]
    },
    {
     "cell_type": "code",
     "collapsed": false,
     "input": [
      "for n, mu_dict in AB_BEST_MU_ALL.items():\n",
      "    \n",
      "    print 'Region {}'.format(n)\n",
      "    \n",
      "    for mu in np.sort(mu_dict.keys()):\n",
      "        \n",
      "        ab = mu_dict[mu]\n",
      "        froot = damproot_mu.format(ab)\n",
      "        p_list, mu_vals, fobj = mdsp.load_fit_pkl(froot, n)\n",
      "        for p, mu_val in zip(p_list, mu_vals):\n",
      "            if mu_val == mu:\n",
      "                break\n",
      "        \n",
      "\n",
      "        print 'mu = {:0.2f}, ab = {:0.3f}, B0 = {:0.1f}, chisqr = {:0.2f}'.format(mu, ab, p['B0'].value*1e6, p.info['chisqr'])\n",
      "    print ''"
     ],
     "language": "python",
     "metadata": {},
     "outputs": []
    },
    {
     "cell_type": "heading",
     "level": 2,
     "metadata": {},
     "source": [
      "0.1 Just for reference"
     ]
    },
    {
     "cell_type": "markdown",
     "metadata": {},
     "source": [
      "Generator `mdsp.load_fit_pkls(...)` gives a list of Parameters() objects, mu values, region number, and a dictionary with Fitter() object properties (i.e., data/settings used for all 6 fits).\n",
      "\n",
      "We have access to, besides the parameters, the following (for each `p` in the list):\n",
      "\n",
      "    p.ci               dict of confidence intervals\n",
      "    p.snr              SupernovaRemnant object used in fits (this should go with fobj_all but whatever)\n",
      "    p.info             dict of best fit parameters w/ keys:\n",
      "        'conf-intv'         CI value\n",
      "        'chisqr'            fit chisqr\n",
      "        'redchi'            fit reduced chisqr\n",
      "        'ndata'             res.ndata\n",
      "        'nvarys'            res.nvarys\n",
      "        'nfree'             res.nfree\n",
      "    p.metadata         dict of build_dataf args\n",
      "        'fit-type'          simp/full\n",
      "        'fit-kws'           eta2_free, model_kws, etc...\n",
      "        'err-kws'           manual/lmfit/stderr, eps, adapt, etc...\n",
      "\n",
      "The Fitter() dict has keys: `['title', 'kevs', 'data', 'eps', 'inds', 'snr-pars']`; snr-pars is a text dump of SNR settings from SupernovaRemnant().config_log()."
     ]
    },
    {
     "cell_type": "heading",
     "level": 1,
     "metadata": {},
     "source": [
      "1. Slew of tables of fit parameters"
     ]
    },
    {
     "cell_type": "heading",
     "level": 2,
     "metadata": {},
     "source": [
      "Tables of loss-limited fits (all $\\mu$ values) for individual regions"
     ]
    },
    {
     "cell_type": "markdown",
     "metadata": {},
     "source": [
      "This is largely dredged from `mdsp.generate_tabs(...)`.\n",
      "\n",
      "Generate tables, left (with $\\mu$) and right (without $\\mu$).  Precision is set to 1; where more precision is needed, come back and change it temporarily (rationale: most values are fine w/ prec=1 or 0)."
     ]
    },
    {
     "cell_type": "code",
     "collapsed": true,
     "input": [
      "# Tycho\n",
      "indiv_left = [1, 4, 8, 11, 14, 18]  # These tables will have column of mu values\n",
      "indiv_rows = [[1,2,3], [4,5,6,7], [8,9,10], [11,12,13], [14,15,16,17], [18,19,20]]"
     ],
     "language": "python",
     "metadata": {},
     "outputs": []
    },
    {
     "cell_type": "code",
     "collapsed": false,
     "input": [
      "# Kepler\n",
      "indiv_left = [1, 4]\n",
      "indiv_rows = [[1,2,3,4], [5,6,7,8]]"
     ],
     "language": "python",
     "metadata": {},
     "outputs": []
    },
    {
     "cell_type": "code",
     "collapsed": true,
     "input": [
      "ltabs_all = {}\n",
      "\n",
      "for p_list, mu_vals, n, fobj_dict in mdsp.load_fit_pkls(fitroot, want_fobj=True):\n",
      "    latex_hdr = [r'$\\mu$ (-)', r'$\\eta_2$ (-)', r'$B_0$ ($\\mu$G)', r'$\\chi^2$']\n",
      "    latex_cols = ['{:0.2f}', 2, 2, '{:0.2f}']\n",
      "    if n not in indiv_left:  # Remove mu column\n",
      "        latex_hdr = latex_hdr[1:]\n",
      "        latex_cols = latex_cols[1:]\n",
      "    ltab = LatexTable(latex_hdr, latex_cols, 'Region {}'.format(n), prec=1)\n",
      "\n",
      "    for p, mu in zip(p_list, mu_vals):\n",
      "        # Pull full errors from p.ci  (get_ci_errors order: pos/neg errs)\n",
      "        p['B0'].fullerr = mex.get_ci_errors(p.ci, 'B0', p.info['conf-intv'])\n",
      "        p['eta2'].fullerr = mex.get_ci_errors(p.ci, 'eta2',p.info['conf-intv'])\n",
      "        \n",
      "        # Edit B0 parameter for table formatting\n",
      "        p['B0'].min, p['B0'].max = None, None\n",
      "        p['B0'].value *= 1e6\n",
      "        p['B0'].stderr *= 1e6\n",
      "        p['B0'].fullerr = 1e6 * np.array(p['B0'].fullerr)  # Hackish workaround\n",
      "\n",
      "        # Build LaTeX table\n",
      "        ltr = [mu] if n in indiv_left else []\n",
      "        ltr += [p['eta2'].value] + list(p['eta2'].fullerr)\n",
      "        ltr += [p['B0'].value] + list(p['B0'].fullerr)\n",
      "        ltr += [p.info['chisqr']]\n",
      "        ltab.add_row(*ltr)\n",
      "\n",
      "    ltabs_all[n] = ltab"
     ],
     "language": "python",
     "metadata": {},
     "outputs": []
    },
    {
     "cell_type": "markdown",
     "metadata": {},
     "source": [
      "Merge the necessary tables together"
     ]
    },
    {
     "cell_type": "code",
     "collapsed": true,
     "input": [
      "for row in indiv_rows:\n",
      "    print reduce(mergelt, [ltabs_all[idx] for idx in row])\n",
      "    print ''"
     ],
     "language": "python",
     "metadata": {},
     "outputs": []
    },
    {
     "cell_type": "code",
     "collapsed": false,
     "input": [
      "print mergelt(ltabs_all[1], ltabs_all[16])"
     ],
     "language": "python",
     "metadata": {},
     "outputs": []
    },
    {
     "cell_type": "heading",
     "level": 2,
     "metadata": {},
     "source": [
      "Tables of loss-limited fits (all $\\mu$ values) with filament-averaged parameter values"
     ]
    },
    {
     "cell_type": "markdown",
     "metadata": {},
     "source": [
      "First pull out all the parameters, then print averages with standard errors (using sample std. dev.)"
     ]
    },
    {
     "cell_type": "code",
     "collapsed": false,
     "input": [
      "flmt_regs = {1: [1,2,3],\n",
      "             2: [4,5,6,7,8,9,10],\n",
      "             3: [11, 12, 13],\n",
      "             4: [14,15,16,17],\n",
      "             5: [18, 19, 20],\n",
      "             6: range(1,21)}  # Global average #s, 1-20 inclusive\n",
      "flmt_left = [1,4]  # These filament tables will have mu columns"
     ],
     "language": "python",
     "metadata": {},
     "outputs": []
    },
    {
     "cell_type": "code",
     "collapsed": true,
     "input": [
      "pdict = {}\n",
      "\n",
      "for p_list, mu_vals, n in mdsp.load_fit_pkls(fitroot, want_fobj=False):\n",
      "    pdict[n] = {}\n",
      "    for p, mu in zip(p_list, mu_vals):\n",
      "        pdict[n][mu] = {}\n",
      "        pdict[n][mu]['eta2'] = p['eta2'].value\n",
      "        pdict[n][mu]['B0'] = 1e6 * p['B0'].value\n",
      "\n",
      "ltabs_avg = {}\n",
      "\n",
      "for m in flmt_regs:\n",
      "    \n",
      "    latex_hdr = [r'$\\mu$ (-)', r'$\\eta_2$ (-)', r'$B_0$ ($\\mu$G)']\n",
      "    latex_cols = ['{:0.2f}', 1, 1]\n",
      "    if m not in flmt_left:  # Remove mu column\n",
      "        latex_hdr = latex_hdr[1:]\n",
      "        latex_cols = latex_cols[1:]\n",
      "    ltab = LatexTable(latex_hdr, latex_cols, 'Filament {}'.format(m), prec=2)\n",
      "    \n",
      "    print flmt_regs[m]\n",
      "    \n",
      "    for mu in mu_vals:  # HACK: using mu_vals from previous loop.  Assumes all identical.\n",
      "        B0_vals = [pdict[n][mu]['B0'] for n in flmt_regs[m]]\n",
      "        eta2_vals = [pdict[n][mu]['eta2'] for n in flmt_regs[m]]\n",
      "        \n",
      "        # Compute means, std errs\n",
      "        B0_avg = np.mean(B0_vals)\n",
      "        B0_err = np.std(B0_vals, ddof=1) / np.sqrt(len(B0_vals))\n",
      "        eta2_avg = np.mean(eta2_vals)\n",
      "        eta2_err = np.std(eta2_vals, ddof=1) / np.sqrt(len(eta2_vals))\n",
      "        \n",
      "        ltr = [mu] if m in flmt_left else []\n",
      "        ltr += [eta2_avg, eta2_err, B0_avg, B0_err]\n",
      "        ltab.add_row(*ltr)\n",
      "    \n",
      "    ltabs_avg[m] = ltab"
     ],
     "language": "python",
     "metadata": {},
     "outputs": []
    },
    {
     "cell_type": "markdown",
     "metadata": {},
     "source": [
      "Manually, merge together filaments 1-3 and 4-5 for the final table"
     ]
    },
    {
     "cell_type": "code",
     "collapsed": true,
     "input": [
      "print mergelt(mergelt(ltabs_avg[1], ltabs_avg[2]), ltabs_avg[3])\n",
      "print ''\n",
      "print mergelt(mergelt(ltabs_avg[4], ltabs_avg[5]), ltabs_avg[6])"
     ],
     "language": "python",
     "metadata": {},
     "outputs": []
    },
    {
     "cell_type": "heading",
     "level": 2,
     "metadata": {},
     "source": [
      "Tables of $\\vec{B}$-damping fits for all $\\eta_2$ and $a_b$ values"
     ]
    },
    {
     "cell_type": "code",
     "collapsed": true,
     "input": [
      "ltabs_all = {}\n",
      "\n",
      "n_eta2 = 1 + len(ETA2_VALS)\n",
      "latex_hdr = [r'$a_b$ (-)', r'$\\eta_2$ (-)']  # For the free one only\n",
      "latex_hdr += n_eta2 * [r'$B_0$ ($\\mu$G)', r'$\\chi^2$']  # 6 sets of B0/chisqr\n",
      "latex_cols = ['{:0.3f}', '{:0.3f}'] + 2*n_eta2*['{:0.2f}']\n",
      "\n",
      "# The ordering of loops is horribly wrong\n",
      "for ab in AB_VALS:\n",
      "    \n",
      "    # Dict of LaTeX table rows keyed to regions, varying eta2 value left to right\n",
      "    ltr_saved = {}\n",
      "    \n",
      "    # Iterate over file roots (free eta2/fixed eta2 value)\n",
      "    froots = [damproot_free.format(ab)]\n",
      "    froots.extend([damproot_eta2.format(ab, eta2) for eta2 in ETA2_VALS])\n",
      "    for froot in froots:\n",
      "        \n",
      "        # Iterate over each region\n",
      "        for p_list, mu_vals, n, fobj_dict in mdsp.load_fit_pkls(froot, want_fobj=True):\n",
      "            for p, mu in zip(p_list, mu_vals):  # Spoiler: there's only one mu value\n",
      "                \n",
      "                fkws = p.metadata['fit-kws']\n",
      "                ab = fkws['model_kws']['damp_ab']\n",
      "                eta2 = p['eta2'].value\n",
      "                B0 = p['B0'].value*1e6\n",
      "                chisqr = p.info['chisqr']\n",
      "                \n",
      "                # Set up LaTeX table (only on first pass) (yes, bad place to put this code)\n",
      "                if n not in ltabs_all:\n",
      "                    ltabs_all[n] = LatexTable(latex_hdr, latex_cols, 'Region {}'.format(n), prec=1)  # prec irrelevant\n",
      "                \n",
      "                # ASSUMES eta2_free is the first filename provided\n",
      "                if n not in ltr_saved:\n",
      "                    ltr_saved[n] = [ab, eta2]\n",
      "                \n",
      "                ltr_saved[n] += [B0, chisqr]\n",
      "    \n",
      "    for n in ltabs_all:\n",
      "        ltr = ltr_saved[n]\n",
      "        ltabs_all[n].add_row(*ltr)"
     ],
     "language": "python",
     "metadata": {},
     "outputs": []
    },
    {
     "cell_type": "code",
     "collapsed": true,
     "input": [
      "for n in ltabs_all:\n",
      "    print ltabs_all[n]\n",
      "    print''"
     ],
     "language": "python",
     "metadata": {},
     "outputs": []
    },
    {
     "cell_type": "code",
     "collapsed": true,
     "input": [
      "print ltabs_all[1], '\\n', ltabs_all[16]"
     ],
     "language": "python",
     "metadata": {},
     "outputs": []
    },
    {
     "cell_type": "heading",
     "level": 2,
     "metadata": {},
     "source": [
      "Table of $m_E$ values from best loss-limited and damped fits ($\\mu = 1$; $a_b < 0.01$)"
     ]
    },
    {
     "cell_type": "markdown",
     "metadata": {},
     "source": [
      "NOTE: I use old `fglists.dat`, `itmax=1000`, `inmax=100` to be consistent.<br>\n",
      "The stored SNR object will have the old radio spectral index (and hence s = 2.25 or whatever)"
     ]
    },
    {
     "cell_type": "code",
     "collapsed": false,
     "input": [
      "n_mE_vals = len(labels) - 1\n",
      "\n",
      "latex_hdr = [r'Region'] + 2*n_mE_vals*[r'$m_{\\mt{E}}$'] + [r'$a_b$']\n",
      "latex_cols = ['{:d}'] + 2*n_mE_vals*['{:0.2f}'] + ['{:0.3f}']\n",
      "ltab = LatexTable(latex_hdr, latex_cols, 'Best fit curve mE values', prec=2)\n",
      "\n",
      "for p_list, mu_vals, fobj, n in mdsp.load_fit_pkls_new(fitroot):\n",
      "    \n",
      "    kevs_loss, fwhms_loss = mdsp.best_fit_fwhms(p_list, mu_vals, fobj, kevs_calc=None, mu_calc=[1],\n",
      "                                     fgfname='fglists.dat', itmax=1000, inmax=100)\n",
      "    mE_loss = m_expt(kevs_loss, fwhms_loss)\n",
      "    \n",
      "    # Pull up best damping fit\n",
      "    ab = AB_BEST[n]\n",
      "    droot = damproot_free.format(ab)\n",
      "    p_list2, mu_vals2, fobj2 = mdsp.load_fit_pkl(droot, n)  # Bad construction...\n",
      "    \n",
      "    kevs_damp, fwhms_damp = mdsp.best_fit_fwhms(p_list2, mu_vals2, fobj2)\n",
      "    mE_damp = m_expt(kevs_damp, fwhms_damp)\n",
      "    \n",
      "    #assert len(mE_loss) == len(mE_damp)\n",
      "    \n",
      "    ltr = [n]\n",
      "    if len(mE_loss) < n_mE_vals:\n",
      "        nanarr = float('nan')*np.ones(n_mE_vals-len(mE_loss))\n",
      "        mE_loss = np.insert(mE_loss, 0, nanarr)\n",
      "    if len(mE_damp) < n_mE_vals:\n",
      "        nanarr = float('nan')*np.ones(n_mE_vals-len(mE_damp))\n",
      "        mE_damp = np.insert(mE_damp, 0, nanarr)\n",
      "    \n",
      "    ltr = [n] + list(mE_loss) + list(mE_damp) + [ab]\n",
      "    ltab.add_row(*ltr)\n",
      "\n",
      "ltab_out = str(ltab)\n",
      "print re.sub(r'nan', r'     ', ltab_out)  # Remove m_E nans"
     ],
     "language": "python",
     "metadata": {},
     "outputs": []
    },
    {
     "cell_type": "heading",
     "level": 2,
     "metadata": {},
     "source": [
      "Summary table of best loss-limited _and_ damped fits ($\\mu = 1$; $a_b < 0.01$)"
     ]
    },
    {
     "cell_type": "code",
     "collapsed": false,
     "input": [
      "latex_hdr = [r'Region', ] + 2*[r'$\\eta_2$ (-)', r'$B_0$ ($\\mu$G)', r'$\\chi^2$'] + [r'$a_b$']\n",
      "latex_cols = ['{:d}'] + 2*['{:0.2f}', '{:0.1f}', '{:0.2f}'] + ['{:0.3f}']\n",
      "ltab = LatexTable(latex_hdr, latex_cols, 'Best fits for $\\mu = 1$', prec=1)\n",
      "\n",
      "for p_list, mu_vals, fobj, n in mdsp.load_fit_pkls_new(fitroot):\n",
      "\n",
      "    # Get best loss-limited fit parameters for mu=1 only\n",
      "    for p, mu in zip(p_list, mu_vals):\n",
      "        if 0.9 < mu < 1.1:  # Get mu=1 only\n",
      "            break\n",
      "    ltr = [n, p['eta2'].value, p['B0'].value * 1e6, p.info['chisqr']]\n",
      "    \n",
      "    # Get best damped fit with ab < 0.010\n",
      "    ab = AB_BEST[n]\n",
      "    droot = damproot_free.format(ab)\n",
      "    p_list2, mu_vals2, fobj2 = mdsp.load_fit_pkl(droot, n)\n",
      "    \n",
      "    assert 0.95 < mu_vals2[0] < 1.05, 'Expecting mu=1 only for damped fits!'\n",
      "    p2 = p_list2[0]\n",
      "    ltr += [p2['eta2'].value, p2['B0'].value * 1e6, p2.info['chisqr'], ab]\n",
      "    \n",
      "    ltab.add_row(*ltr)\n",
      "\n",
      "print ltab"
     ],
     "language": "python",
     "metadata": {},
     "outputs": []
    },
    {
     "cell_type": "heading",
     "level": 2,
     "metadata": {},
     "source": [
      "Summary table of best loss-limited _and_ damped fits ($\\mu = \\eta_2 = 1$; $a_b < 0.01$)"
     ]
    },
    {
     "cell_type": "code",
     "collapsed": true,
     "input": [
      "latex_hdr = [r'Region', ] + 2*[r'$B_0$ ($\\mu$G)', r'$\\chi^2$'] + [r'$a_b$']\n",
      "latex_cols = ['{:d}'] + 2*['{:0.3g}', '{:0.2f}'] + ['{:0.3f}']\n",
      "ltab = LatexTable(latex_hdr, latex_cols, 'Best fits for $\\mu = 1$', prec=1)\n",
      "\n",
      "for p_list, mu_vals, fobj, n in mdsp.load_fit_pkls_new(fitroot_eta2_one):\n",
      "\n",
      "    # Get best loss-limited fit parameters for mu=1 only\n",
      "    for p, mu in zip(p_list, mu_vals):\n",
      "        if 0.9 < mu < 1.1:  # Get mu=1 only\n",
      "            break\n",
      "    ltr = [n, p['B0'].value * 1e6, p.info['chisqr']]\n",
      "    \n",
      "    # Get best damped fit with ab < 0.010\n",
      "    ab = AB_BEST_ETA2_ONE[n]\n",
      "    droot = damproot_eta2.format(ab,1)\n",
      "    p_list2, mu_vals2, fobj2 = mdsp.load_fit_pkl(droot, n)\n",
      "    \n",
      "    assert 0.95 < mu_vals2[0] < 1.05, 'Expecting mu=1 only for damped fits!'\n",
      "    p2 = p_list2[0]\n",
      "    ltr += [p2['B0'].value * 1e6, p2.info['chisqr'], ab]\n",
      "    \n",
      "    ltab.add_row(*ltr)\n",
      "\n",
      "print ltab"
     ],
     "language": "python",
     "metadata": {},
     "outputs": []
    },
    {
     "cell_type": "heading",
     "level": 2,
     "metadata": {},
     "source": [
      "Summary table of best loss-limited _and_ damped fits, $B_{\\mathrm{min}} = 0$ ($\\mu = \\eta_2 = 1$; $a_b < 0.01$)"
     ]
    },
    {
     "cell_type": "code",
     "collapsed": true,
     "input": [
      "latex_hdr = [r'Region', ] + 2*[r'$B_0$ ($\\mu$G)', r'$\\chi^2$'] + [r'$a_b$']\n",
      "latex_cols = ['{:d}'] + 2*['{:0.3g}', '{:0.2f}'] + ['{:0.3f}']\n",
      "ltab = LatexTable(latex_hdr, latex_cols, 'Best fits for $\\mu = 1$', prec=1)\n",
      "\n",
      "# Bmin doesn't matter for loss lim\n",
      "for p_list, mu_vals, fobj, n in mdsp.load_fit_pkls_new(fitroot_eta2_one):\n",
      "\n",
      "    # Get best loss-limited fit parameters for mu=1 only\n",
      "    for p, mu in zip(p_list, mu_vals):\n",
      "        if 0.9 < mu < 1.1:  # Get mu=1 only\n",
      "            break\n",
      "    ltr = [n, p['B0'].value * 1e6, p.info['chisqr']]\n",
      "    \n",
      "    # Get best damped fit with ab < 0.010\n",
      "    ab = AB_BEST_BMIN_ZERO[n]\n",
      "    droot = damproot_bmin.format(ab, 1., 0.)\n",
      "    p_list2, mu_vals2, fobj2 = mdsp.load_fit_pkl(droot, n)\n",
      "    \n",
      "    assert 0.95 < mu_vals2[0] < 1.05, 'Expecting mu=1 only for damped fits!'\n",
      "    p2 = p_list2[0]\n",
      "    ltr += [p2['B0'].value * 1e6, p2.info['chisqr'], ab]\n",
      "    \n",
      "    ltab.add_row(*ltr)\n",
      "\n",
      "print ltab"
     ],
     "language": "python",
     "metadata": {},
     "outputs": []
    },
    {
     "cell_type": "heading",
     "level": 2,
     "metadata": {},
     "source": [
      "Plot $a_b$ vs. FWHM at highest energy (for Steve)"
     ]
    },
    {
     "cell_type": "markdown",
     "metadata": {},
     "source": [
      "Not a table, but more data analysis oriented than figures below.  Note: inconsistent"
     ]
    },
    {
     "cell_type": "code",
     "collapsed": false,
     "input": [
      "inds = [1,2,4,5,10,12,15,18,19]  # Regions w/ \"hybrid\" best fits"
     ],
     "language": "python",
     "metadata": {},
     "outputs": []
    },
    {
     "cell_type": "code",
     "collapsed": false,
     "input": [
      "plt_out_fname = '../../../Desktop/ab-fwhm-tycho-regions6.pdf'\n",
      "\n",
      "nvals = []\n",
      "ab_sc = []\n",
      "fwhm_ab_sc = []\n",
      "\n",
      "for _, _, _, n in mdsp.load_fit_pkls_new(fitroot_eta2_one):\n",
      "    \n",
      "    # Get best damped fit with ab < 0.010\n",
      "    ab = AB_BEST[n]\n",
      "    droot = damproot_free.format(ab)\n",
      "    p_list2, mu_vals2, fobj2 = mdsp.load_fit_pkl(droot, n)\n",
      "    assert 0.95 < mu_vals2[0] < 1.05, 'Expecting mu=1 only for damped fits!'\n",
      "    \n",
      "    nvals.append(n)\n",
      "    \n",
      "    ab_unsc = ab * fobj2.snr.rsarc\n",
      "    ab_sc.append(ab_unsc)\n",
      "    \n",
      "    data = ab_unsc / fobj2.data\n",
      "    if len(data) == 4:\n",
      "        data = [float('nan')] + list(data)\n",
      "    else:\n",
      "        data = list(data)\n",
      "    fwhm_ab_sc.append(data)\n",
      "\n",
      "fwhm_ab_sc = np.array(fwhm_ab_sc)\n",
      "nvals = np.array(nvals)\n",
      "ab_sc = np.array(ab_sc)\n",
      "\n",
      "\n",
      "# Generate figure\n",
      "fig, axes = plt.subplots(nrows=2, ncols=1, sharex=True, figsize=(6,4))\n",
      "\n",
      "msk = np.array([n in inds for n in nvals])\n",
      "not_msk = np.logical_not(msk)\n",
      "\n",
      "axes[0].plot(nvals[not_msk], fwhm_ab_sc[not_msk,-1], 'ok')\n",
      "axes[0].plot(nvals[msk], fwhm_ab_sc[msk,-1], 'or')\n",
      "axes[0].set_ylabel(r'$a_b$ / FWHM(4.5 keV)')\n",
      "\n",
      "axes[0].axvline(3.5, ls=':')\n",
      "axes[0].axvline(10.5, ls=':')\n",
      "axes[0].axvline(13.5, ls=':')\n",
      "axes[0].axvline(17.5, ls=':')\n",
      "\n",
      "axes[0].set_xlim((0, len(nvals)+1))\n",
      "axes[0].minorticks_on()\n",
      "\n",
      "axes[1].plot(nvals[not_msk], ab_sc[not_msk], 'ok', label='Damped fit')\n",
      "axes[1].plot(nvals[msk], ab_sc[msk], 'or', label='``Hybrid'' fit')\n",
      "axes[1].set_ylabel(r'$a_b$ (arcsec)')\n",
      "axes[1].set_xlabel('Region number (1-20)')\n",
      "\n",
      "axes[1].axvline(3.5, ls=':')\n",
      "axes[1].axvline(10.5, ls=':')\n",
      "axes[1].axvline(13.5, ls=':')\n",
      "axes[1].axvline(17.5, ls=':')\n",
      "\n",
      "axes[1].set_xlim((0, len(nvals)+1))\n",
      "axes[1].minorticks_on()\n",
      "axes[1].legend(loc='best', prop={'size':6})\n",
      "\n",
      "plt.tight_layout()\n",
      "plt.savefig(plt_out_fname, dpi=300)\n",
      "plt.show()"
     ],
     "language": "python",
     "metadata": {},
     "outputs": []
    },
    {
     "cell_type": "heading",
     "level": 2,
     "metadata": {},
     "source": [
      "Assemble a table to compare FWHMs at 2 keV w/ $a_b$ values, $l_{\\mathrm{ad}}$, and $l_{\\mathrm{diff}}$ "
     ]
    },
    {
     "cell_type": "markdown",
     "metadata": {},
     "source": [
      "Print v0 while you're at it since that varies from region to region and affects the `l_ad` estimate"
     ]
    },
    {
     "cell_type": "code",
     "collapsed": false,
     "input": [
      "snr = snrcat.make_tycho()\n",
      "kev_calc = 2.0  # Compute everything at 2 keV"
     ],
     "language": "python",
     "metadata": {},
     "outputs": []
    },
    {
     "cell_type": "code",
     "collapsed": false,
     "input": [
      "def len_adv(snr, B0, en):\n",
      "    \"\"\"Advective lengthscale in cm\n",
      "    en is the photon energy in keV\"\"\"\n",
      "    c_m = snrcat.SYNCH_CM\n",
      "    b = snrcat.SYNCH_B\n",
      "    nu = en * snrcat.NUKEV\n",
      "    return snr.v0() * np.sqrt(c_m) / b * B0**(-3./2) * nu**(-1./2)\n",
      "\n",
      "def len_diff(mu, eta2, B0, en):\n",
      "    \"\"\"Diffusive lengthscale in cm\"\"\"\n",
      "    eta = eta2_to_eta(mu,eta2,B0)\n",
      "    c_d = snrcat.CD\n",
      "    c_m = snrcat.SYNCH_CM\n",
      "    b = snrcat.SYNCH_B\n",
      "    nu = en * snrcat.NUKEV\n",
      "    return np.sqrt(eta * c_d / b) * B0**(-3./2) * (nu / (c_m*B0))**((mu-1)/4)\n",
      "\n",
      "def eta2_to_eta(mu, eta2, B0):\n",
      "    \"\"\"Say the function name out loud\"\"\"\n",
      "    nu_h = 2. * snrcat.NUKEV # i.e., nu for fiducial energy 2 keV\n",
      "    eta =  eta2 * (nu_h/(snrcat.SYNCH_CM*B0))**(-(mu-1)/2)\n",
      "    return eta"
     ],
     "language": "python",
     "metadata": {},
     "outputs": []
    },
    {
     "cell_type": "markdown",
     "metadata": {},
     "source": [
      "First show that radio advective lengthscale is massive ( >1 up to 1000 muG)"
     ]
    },
    {
     "cell_type": "code",
     "collapsed": false,
     "input": [
      "B0_vals = np.logspace(np.log10(10e-6), np.log10(1000e-6), 500)\n",
      "\n",
      "plt.plot(B0_vals*1e6, len_adv(snr, B0_vals, kev_calc) / snr.rs(), '-k', label='2 keV')  # XRAY (2 keV)\n",
      "plt.plot(B0_vals*1e6, len_adv(snr, B0_vals, 5.6865e-9) / snr.rs(), '--r', label='1.375 GHz')  # RADIO\n",
      "\n",
      "plt.axhline(0.01, color='b', linestyle='-', alpha=0.4)\n",
      "plt.axvline(100, color='b', linestyle='-', alpha=0.4)\n",
      "\n",
      "plt.xscale('log')\n",
      "plt.yscale('log')\n",
      "plt.xlabel(r'$B_0$ ($\\mu$G)')\n",
      "plt.ylabel(r'$l_{\\mathrm{ad}}$ (scaled to $r_s$)')\n",
      "plt.legend(loc='best')\n",
      "plt.grid()\n",
      "plt.show()"
     ],
     "language": "python",
     "metadata": {},
     "outputs": []
    },
    {
     "cell_type": "markdown",
     "metadata": {},
     "source": [
      "Now plot different lengthscale \"components\" of fits, which all contribute to the final model FWHM"
     ]
    },
    {
     "cell_type": "code",
     "collapsed": false,
     "input": [
      "plt.figure(figsize=(10,6))\n",
      "\n",
      "plt.plot(B0_vals*1e6, len_adv(snr, B0_vals, kev_calc) / snr.rs(), '-k', label=r'$l_{\\mathrm{ad}}$')\n",
      "plt.plot(B0_vals*1e6, len_diff(1., 1., B0_vals, kev_calc) / snr.rs(), ':r',label=r'$l_{\\mathrm{diff}}$, $\\eta_2=1$')\n",
      "plt.plot(B0_vals*1e6, len_diff(1., 10., B0_vals, kev_calc) / snr.rs(), '--r',label=r'$l_{\\mathrm{diff}}$, $\\eta_2=10$')\n",
      "\n",
      "plt.axhline(0.01, color='b', linestyle='-', alpha=0.4)\n",
      "plt.axvline(100, color='b', linestyle='-', alpha=0.4)\n",
      "\n",
      "for p_list, mu_vals, fobj, n in mdsp.load_fit_pkls_new(fitroot_eta2_one):  # Iterate over eta2=1 loss-lim fits\n",
      "    \n",
      "    # Get best loss-limited fit, eta=1 fixed, mu=1 only\n",
      "    for p, mu in zip(p_list, mu_vals):\n",
      "        if 0.9 < mu < 1.1:\n",
      "            break\n",
      "    \n",
      "    # Get best damped fit with ab < 0.010, eta2=1 fixed\n",
      "    ab = AB_BEST_ETA2_ONE[n]\n",
      "    droot = damproot_eta2.format(ab, 1.)\n",
      "    p_list2, mu_vals2, fobj2 = mdsp.load_fit_pkl(droot, n)\n",
      "    assert 0.95 < mu_vals2[0] < 1.05, 'Expecting mu=1 only for damped fits!'\n",
      "    p2 = p_list2[0]\n",
      "    \n",
      "    l_ad = len_adv(fobj.snr, p['B0'].value, kev_calc) / snr.rs()\n",
      "    l_diff = len_diff(mu, p['eta2'].value, p['B0'].value, kev_calc) / snr.rs()\n",
      "    l_ad_2 = len_adv(fobj.snr, p2['B0'].value, kev_calc) / snr.rs()\n",
      "    l_diff_2 = len_diff(mu, p2['eta2'].value, p2['B0'].value, kev_calc) / snr.rs()\n",
      "    \n",
      "    plt.scatter(p['B0'].value*1e6, fobj.data[-3] / fobj.snr.rsarc, facecolors='none', edgecolors='r', s=30)  # LOSS-LIM\n",
      "    \n",
      "    plt.plot(p['B0'].value*1e6, l_ad, '*m')  # LOSS-LIM\n",
      "    plt.plot(p['B0'].value*1e6, l_diff, '.m')  # LOSS-LIM\n",
      "\n",
      "plt.xscale('log')\n",
      "plt.yscale('log')\n",
      "plt.xlabel(r'$B_0$ ($\\mu$G)')\n",
      "plt.ylabel(r'$l_{\\mathrm{ad}}$ (scaled to $r_s$)')\n",
      "plt.legend(loc='best')\n",
      "plt.grid()\n",
      "plt.xlim(xmax=1e3)\n",
      "plt.show()"
     ],
     "language": "python",
     "metadata": {},
     "outputs": []
    },
    {
     "cell_type": "markdown",
     "metadata": {},
     "source": [
      "As above but for damped best fits"
     ]
    },
    {
     "cell_type": "code",
     "collapsed": false,
     "input": [
      "plt.figure(figsize=(10,6))\n",
      "\n",
      "plt.plot(B0_vals*1e6, len_adv(snr, B0_vals, kev_calc) / snr.rs(), '-k', label=r'$l_{\\mathrm{ad}}$')\n",
      "plt.plot(B0_vals*1e6, len_diff(1., 1., B0_vals, kev_calc) / snr.rs(), ':r',label=r'$l_{\\mathrm{diff}}$, $\\eta_2=1$')\n",
      "plt.plot(B0_vals*1e6, len_diff(1., 10., B0_vals, kev_calc) / snr.rs(), '--r',label=r'$l_{\\mathrm{diff}}$, $\\eta_2=10$')\n",
      "\n",
      "plt.axhline(0.01, color='b', linestyle='-', alpha=0.4)\n",
      "plt.axvline(100, color='b', linestyle='-', alpha=0.4)\n",
      "\n",
      "for p_list, mu_vals, fobj, n in mdsp.load_fit_pkls_new(fitroot_eta2_one):  # Iterate over eta2=1 loss-lim fits\n",
      "    \n",
      "    # Get best loss-limited fit, eta=1 fixed, mu=1 only\n",
      "    for p, mu in zip(p_list, mu_vals):\n",
      "        if 0.9 < mu < 1.1:\n",
      "            break\n",
      "    \n",
      "    # Get best damped fit with ab < 0.010, eta2=1 fixed\n",
      "    ab = AB_BEST_ETA2_ONE[n]\n",
      "    droot = damproot_eta2.format(ab, 1.)\n",
      "    p_list2, mu_vals2, fobj2 = mdsp.load_fit_pkl(droot, n)\n",
      "    assert 0.95 < mu_vals2[0] < 1.05, 'Expecting mu=1 only for damped fits!'\n",
      "    p2 = p_list2[0]\n",
      "    \n",
      "    l_ad = len_adv(fobj.snr, p['B0'].value, kev_calc) / snr.rs()\n",
      "    l_diff = len_diff(mu, p['eta2'].value, p['B0'].value, kev_calc) / snr.rs()\n",
      "    l_ad_2 = len_adv(fobj.snr, p2['B0'].value, kev_calc) / snr.rs()\n",
      "    l_diff_2 = len_diff(mu, p2['eta2'].value, p2['B0'].value, kev_calc) / snr.rs()\n",
      "    \n",
      "    plt.scatter(p2['B0'].value*1e6, fobj.data[-3] / fobj.snr.rsarc, facecolors='none', edgecolors='b', s=30)  # DAMPING\n",
      "    \n",
      "    plt.plot(p2['B0'].value*1e6, ab, 'sc')  # DAMPING\n",
      "    plt.plot(p2['B0'].value*1e6, l_ad_2, '*c')  # DAMPING\n",
      "    plt.plot(p2['B0'].value*1e6, l_diff_2, '.c')  # DAMPING\n",
      "\n",
      "plt.xscale('log')\n",
      "plt.yscale('log')\n",
      "plt.xlabel(r'$B_0$ ($\\mu$G)')\n",
      "plt.ylabel(r'$l_{\\mathrm{ad}}$ (scaled to $r_s$)')\n",
      "plt.legend(loc='best')\n",
      "plt.grid()\n",
      "plt.xlim(xmax=1e3)\n",
      "plt.show()"
     ],
     "language": "python",
     "metadata": {},
     "outputs": []
    },
    {
     "cell_type": "markdown",
     "metadata": {},
     "source": [
      "Now just plot FWHMs w/ B0 values from both damped / loss-limited best fits.  Send this around"
     ]
    },
    {
     "cell_type": "code",
     "collapsed": false,
     "input": [
      "plt.plot(B0_vals*1e6, len_adv(snr, B0_vals, kev_calc) / snr.rs(), '-k', label=r'$l_{\\mathrm{ad}}$, 2 keV')\n",
      "plt.plot(B0_vals*1e6, len_diff(1., 1., B0_vals, kev_calc) / snr.rs(), ':r',label=r'$l_{\\mathrm{diff}}$, $\\eta_2=1$')\n",
      "plt.plot(B0_vals*1e6, len_diff(1., 10., B0_vals, kev_calc) / snr.rs(), '--r',label=r'$l_{\\mathrm{diff}}$, $\\eta_2=10$')\n",
      "\n",
      "pts_2kev = []\n",
      "B0_loss = []\n",
      "B0_damp = []\n",
      "\n",
      "for p_list, mu_vals, fobj, n in mdsp.load_fit_pkls_new(fitroot_eta2_one):  # Iterate over eta2=1 loss-lim fits\n",
      "    \n",
      "    # Get best loss-limited fit, eta=1 fixed, mu=1 only\n",
      "    for p, mu in zip(p_list, mu_vals):\n",
      "        if 0.9 < mu < 1.1:\n",
      "            break\n",
      "    \n",
      "    # Get best damped fit with ab < 0.010, eta2=1 fixed\n",
      "    ab = AB_BEST_ETA2_ONE[n]\n",
      "    droot = damproot_eta2.format(ab, 1.)\n",
      "    p_list2, mu_vals2, fobj2 = mdsp.load_fit_pkl(droot, n)\n",
      "    assert 0.95 < mu_vals2[0] < 1.05, 'Expecting mu=1 only for damped fits!'\n",
      "    p2 = p_list2[0]\n",
      "    \n",
      "    pts_2kev.append(fobj.data[-3] / fobj.snr.rsarc)\n",
      "    B0_loss.append(p['B0'].value)\n",
      "    B0_damp.append(p2['B0'].value)\n",
      "\n",
      "pts_2kev = np.array(pts_2kev)\n",
      "B0_loss = np.array(B0_loss)\n",
      "B0_damp = np.array(B0_damp)\n",
      "    \n",
      "plt.plot(B0_loss*1e6, pts_2kev, 'ro', alpha=0.5, markersize=6, label=r'FWHM(2 keV), loss-limited fit $B_0$')\n",
      "plt.plot(B0_damp*1e6, pts_2kev, 'bs', alpha=0.5, markersize=6, label=r'FWHM(2 keV), damped fit $B_0$')\n",
      "\n",
      "plt.grid()\n",
      "plt.xscale('log')\n",
      "plt.yscale('log')\n",
      "plt.xlabel(r'$B_0$ ($\\mu$G)')\n",
      "plt.ylabel(r'Lengthscale (scaled to shock radius, $r_s$)')\n",
      "plt.xlim(xmax=1e3)\n",
      "plt.ylim(ymin=1e-3,ymax=1e-1)\n",
      "plt.legend(loc='best')\n",
      "\n",
      "plt.savefig('/Users/atran3/Desktop/lengthscales_fwhm.pdf')"
     ],
     "language": "python",
     "metadata": {},
     "outputs": []
    },
    {
     "cell_type": "markdown",
     "metadata": {},
     "source": [
      "Actually calculate/tabulate the numbers (should also do this w/ parameters from eyeball fits)"
     ]
    },
    {
     "cell_type": "code",
     "collapsed": false,
     "input": [
      "for p_list, mu_vals, fobj, n in mdsp.load_fit_pkls_new(fitroot_eta2_one):  # Iterate over eta2=1 loss-lim fits\n",
      "    \n",
      "    # Get best loss-limited fit, eta=1 fixed, mu=1 only\n",
      "    for p, mu in zip(p_list, mu_vals):\n",
      "        if 0.9 < mu < 1.1:\n",
      "            break\n",
      "    \n",
      "    # Get best damped fit with ab < 0.010, eta2=1 fixed\n",
      "    ab = AB_BEST_ETA2_ONE[n]\n",
      "    droot = damproot_eta2.format(ab, 1.)\n",
      "    p_list2, mu_vals2, fobj2 = mdsp.load_fit_pkl(droot, n)\n",
      "    assert 0.95 < mu_vals2[0] < 1.05, 'Expecting mu=1 only for damped fits!'\n",
      "    p2 = p_list2[0]\n",
      "    \n",
      "    assert fobj.snr.v0() == fobj2.snr.v0()\n",
      "    \n",
      "    # Lengthscales in units of snr radius\n",
      "    l_ad = len_adv(fobj.snr, p['B0'].value, kev_calc) / snr.rs()\n",
      "    l_diff = len_diff(mu, p['eta2'].value, p['B0'].value, kev_calc) / snr.rs()\n",
      "    \n",
      "    l_ad_2 = len_adv(fobj.snr, p2['B0'].value, kev_calc) / snr.rs()\n",
      "    l_diff_2 = len_diff(mu, p2['eta2'].value, p2['B0'].value, kev_calc) / snr.rs()\n",
      "    \n",
      "    print 'Region {}, v_downstream = {} km/s'.format(n, fobj.snr.v0()/1e5)\n",
      "    print '\\tloss-limited: l_ad = {:0.4f}, l_diff = {:0.4f}'.format(l_ad, l_diff)\n",
      "    print '\\tdamping case: l_ad = {:0.4f}, l_diff = {:0.4f}'.format(l_ad_2, l_diff_2)\n",
      "    print '\\tFWHM @ 2 keV: {:0.4f}'.format(fobj.data[-3] / snr.rsarc)  #  2 keV in all cases # MAGIC NUMBER ARGH\n",
      "    print '\\tBest ab damp: {}'.format(ab)\n",
      "    print ''"
     ],
     "language": "python",
     "metadata": {},
     "outputs": []
    },
    {
     "cell_type": "heading",
     "level": 1,
     "metadata": {},
     "source": [
      "2. Slew of plots -- intensity profiles, best fit curves/data, etc"
     ]
    },
    {
     "cell_type": "heading",
     "level": 2,
     "metadata": {},
     "source": [
      "Giant grid of energy-width data and best-fit curves (loss-limited and damped) with $\\mu=1$ _and_ $\\eta_2=1$ (postage stamps)"
     ]
    },
    {
     "cell_type": "markdown",
     "metadata": {},
     "source": [
      "Many plot settings to customize in here!\n",
      "\n",
      "Image of _Chandra_ downloaded from [CXC artist's illustrations](http://chandra.harvard.edu/resources/illustrations/craftIllustrations.html).  Image is titled _Spacecraft in Orbit_, file `msfc_chandra.pdf` converted to png with Imagemagick using:\n",
      "\n",
      "    convert -density 80 msfc_chandra.pdf msfc_chandra.png\n",
      "\n",
      "This is inefficient as output pdf includes 20 of the same raster, I think."
     ]
    },
    {
     "cell_type": "code",
     "collapsed": false,
     "input": [
      "# Tycho\n",
      "plot_pts = np.linspace(0.4, 5, 41)  # Get many pts for final plot(s)\n",
      "plot_pts = np.unique(np.concatenate((plot_pts, np.array([0.7, 1.0, 2.0, 3.0, 4.5]))))  # Also sorts plot_pts\n",
      "\n",
      "# SN 1006\n",
      "#plot_pts = np.linspace(0.4, 2.5, 41)  # Get many pts for final plot(s)\n",
      "#plot_pts = np.unique(np.concatenate((plot_pts, np.array([0.7, 1.0, 2.0]))))  # Also sorts plot_pts\n",
      "\n",
      "# Kepler\n",
      "#plot_pts = np.linspace(0.4, 4.5, 5)  # Get many pts for final plot(s)\n",
      "#plot_pts = np.unique(np.concatenate((plot_pts, np.array([0.7, 1.0, 2.0, 3.0, 4.0]))))  # Also sorts plot_pts\n",
      "\n",
      "plt_suffix = 'energywidth-subplot-stamp.pdf'\n",
      "postage_stamp = True"
     ],
     "language": "python",
     "metadata": {},
     "outputs": []
    },
    {
     "cell_type": "markdown",
     "metadata": {},
     "source": [
      "Compute the modeled FWHMs for $\\mu=1$, $\\eta_2=1$ only (where FWHMs are not computed, they are automatically masked out)"
     ]
    },
    {
     "cell_type": "code",
     "collapsed": false,
     "input": [
      "data_points = {}\n",
      "loss_curves = {}\n",
      "damp_curves = {}\n",
      "\n",
      "# Iterate over loss-limited best fits\n",
      "for p_list, mu_vals, fobj, n in mdsp.load_fit_pkls_new(fitroot_eta2_one):\n",
      "    \n",
      "    data_points[n] = fobj.kevs, fobj.data, fobj.eps\n",
      "    loss_curves[n] = mdsp.best_fit_fwhms(p_list, mu_vals, fobj,\n",
      "                                         kevs_calc=plot_pts, mu_calc=[1], get_mask=False)\n",
      "    \n",
      "    ab = AB_BEST_ETA2_ONE[n]\n",
      "    droot = damproot_eta2.format(ab, 1)\n",
      "    p_list2, mu_vals2, fobj2 = mdsp.load_fit_pkl(droot, n)\n",
      "    damp_curves[n] = mdsp.best_fit_fwhms(p_list2, mu_vals2, fobj2,\n",
      "                                         kevs_calc=plot_pts, mu_calc=[1], get_mask=False)"
     ],
     "language": "python",
     "metadata": {},
     "outputs": []
    },
    {
     "cell_type": "markdown",
     "metadata": {},
     "source": [
      "Below cell is for Tycho only"
     ]
    },
    {
     "cell_type": "code",
     "collapsed": false,
     "input": [
      "fig, axes = plt.subplots(nrows=5, ncols=4, sharex=True, sharey=False, figsize=(8.5, 10))\n",
      "axes_list = np.ravel(axes, order='C')  # For iteration\n",
      "if postage_stamp:\n",
      "    msfc_chandra = plt.imread('msfc_chandra.png')\n",
      "\n",
      "for n, ax in zip(data_points, axes_list):\n",
      "    \n",
      "    # Plot data and curves\n",
      "    kevs, data, eps = data_points[n]\n",
      "    kevs_loss, data_loss = loss_curves[n]\n",
      "    kevs_damp, data_damp = damp_curves[n]\n",
      "\n",
      "    ax.errorbar(kevs, data, eps, fmt='ok', markersize=3, label='Data')\n",
      "    ax.plot(kevs_loss, data_loss, ':b', label='Loss-limited')\n",
      "    ax.plot(kevs_damp, data_damp, '-k', alpha=0.7, label='Damped')\n",
      "\n",
      "    # Compute all axis limits\n",
      "    kevs_all = np.concatenate((kevs, kevs_loss, kevs_damp))\n",
      "    _gap = 1.2*max(eps) + 0.05  # 0.05 is fudge factor to round down/up to nearest 1/10ths place\n",
      "    xmin, xmax = min(kevs_all), max(kevs_all)\n",
      "    ymin, ymax = round(min(data) - _gap, 1), round(max(data) + _gap, 1)\n",
      "    \n",
      "    # Customize to get nicer tickmarks\n",
      "    if n == 2:\n",
      "        ymin = 2\n",
      "    elif n == 3:\n",
      "        ymin, ymax = 1.2, 2.6\n",
      "    elif n == 7:\n",
      "        ymin = 1.6\n",
      "    elif n == 8:\n",
      "        ymax = 3.0\n",
      "    elif n == 11:\n",
      "        ymin = 1.5\n",
      "    elif n == 14:\n",
      "        ymin = 2.0\n",
      "    elif n == 15:\n",
      "        ymin = 1.4\n",
      "    \n",
      "    # Annotations for individual subplots\n",
      "    if postage_stamp:\n",
      "        ax.imshow(msfc_chandra, alpha=0.25, extent=(xmin,xmax, ymin,ymax))\n",
      "        ax.axis('tight')  # Forces matplotlib to obey ax.set_[x,y]lim\n",
      "        \n",
      "        ax.text(0.4, 0.88, r'\\emph{FOREVER} \\textbar~USA', fontsize=8, color='white',\n",
      "                transform=ax.transAxes, horizontalalignment='left')\n",
      "    else:\n",
      "        if n == 1:\n",
      "            ax.legend(loc='best', prop={'size':7})\n",
      "\n",
      "        _xpos = 0.4 if n == 1 else 0.82  # If figure sizing changes, update position\n",
      "        _ypos = 0.8\n",
      "        ax.text(_xpos, _ypos, str(n), fontsize=14,\n",
      "                transform=ax.transAxes, horizontalalignment='right')\n",
      "    \n",
      "    # Apply axis limits, tickmarks, labels\n",
      "    ax.set_xlim((xmin,xmax))\n",
      "    ax.set_ylim((ymin,ymax))\n",
      "    \n",
      "    if n > 16:\n",
      "        ax.set_xlabel('Energy (keV)')\n",
      "    if (n-1)%4 == 0:\n",
      "        ax.set_ylabel('FWHM (arcsec.)')\n",
      "    \n",
      "    ax.set_xticks([1.0, 2.0, 3.0, 4.0, 5.0])\n",
      "    ax.minorticks_on()\n",
      "    \n",
      "plt.tight_layout()\n",
      "plt.savefig(plt_outroot + plt_suffix, dpi=300)\n",
      "plt.show()"
     ],
     "language": "python",
     "metadata": {},
     "outputs": []
    },
    {
     "cell_type": "markdown",
     "metadata": {},
     "source": [
      "Below is for SN 1006 only"
     ]
    },
    {
     "cell_type": "code",
     "collapsed": false,
     "input": [
      "fig, axes = plt.subplots(nrows=2, ncols=3, sharex=True, sharey=False, figsize=(6.5, 4))\n",
      "axes_list = np.ravel(axes, order='C')  # For iteration\n",
      "if postage_stamp:\n",
      "    msfc_chandra = plt.imread('msfc_chandra.png')\n",
      "\n",
      "for n, ax in zip(data_points, axes_list):\n",
      "    \n",
      "    # Plot data and curves\n",
      "    kevs, data, eps = data_points[n]\n",
      "    kevs_loss, data_loss = loss_curves[n]\n",
      "    kevs_damp, data_damp = damp_curves[n]\n",
      "\n",
      "    ax.errorbar(kevs, data, eps, fmt='ok', markersize=3, label='Data')\n",
      "    ax.plot(kevs_loss, data_loss, ':b', label='Loss-limited')\n",
      "    ax.plot(kevs_damp, data_damp, '-k', alpha=0.7, label='Damped')\n",
      "\n",
      "    # Compute all axis limits\n",
      "    kevs_all = np.concatenate((kevs, kevs_loss, kevs_damp))\n",
      "    _gap = 1.2*max(eps) + 0.05  # 0.05 is fudge factor to round down/up to nearest 1/10ths place\n",
      "    xmin, xmax = min(kevs_all), max(kevs_all)\n",
      "    ymin, ymax = round(min(data) - _gap, 1), round(max(data) + _gap, 1)\n",
      "    \n",
      "    #  Customize to get nicer tickmarks\n",
      "    if n == 1:\n",
      "        ymax = 38\n",
      "    elif n == 2:\n",
      "        ymin, ymax = 10, 26\n",
      "    elif n == 3:\n",
      "        ymax = 55\n",
      "    elif n == 4:\n",
      "        ymax = 32\n",
      "    elif n== 5:\n",
      "        ymin = 23\n",
      "    \n",
      "    # Annotations for individual subplots\n",
      "    if postage_stamp:\n",
      "        ax.imshow(msfc_chandra, alpha=0.25, extent=(xmin,xmax, ymin,ymax))\n",
      "        ax.axis('tight')  # Forces matplotlib to obey ax.set_[x,y]lim\n",
      "        \n",
      "        ax.text(0.4, 0.88, r'\\emph{FOREVER} \\textbar~USA', fontsize=8, color='white',\n",
      "                transform=ax.transAxes, horizontalalignment='left')\n",
      "    else:\n",
      "        if n == 1:\n",
      "            ax.legend(loc='best', prop={'size':7})\n",
      "\n",
      "        _xpos = 0.4 if n == 1 else 0.82  # If figure sizing changes, update position\n",
      "        _ypos = 0.8\n",
      "        ax.text(_xpos, _ypos, str(n), fontsize=14,\n",
      "                transform=ax.transAxes, horizontalalignment='right')\n",
      "    \n",
      "    # Apply axis limits, tickmarks, labels\n",
      "    ax.set_xlim((xmin,xmax))\n",
      "    ax.set_ylim((ymin,ymax))\n",
      "    \n",
      "    if n > 3:\n",
      "        ax.set_xlabel('Energy (keV)')\n",
      "    if (n-1)%3 == 0:\n",
      "        ax.set_ylabel('FWHM (arcsec.)')\n",
      "    \n",
      "    #ax.set_xticks([1.0, 2.0, 3.0, 4.0, 5.0])\n",
      "    ax.minorticks_on()\n",
      "    \n",
      "plt.tight_layout()\n",
      "plt.savefig(plt_outroot + plt_suffix, dpi=300)\n",
      "plt.show()"
     ],
     "language": "python",
     "metadata": {},
     "outputs": []
    },
    {
     "cell_type": "markdown",
     "metadata": {},
     "source": [
      "Now for Kepler..."
     ]
    },
    {
     "cell_type": "code",
     "collapsed": false,
     "input": [
      "fig, axes = plt.subplots(nrows=2, ncols=4, sharex=True, sharey=False, figsize=(8.5, 4))\n",
      "axes_list = np.ravel(axes, order='C')  # For iteration\n",
      "if postage_stamp:\n",
      "    msfc_chandra = plt.imread('msfc_chandra.png')\n",
      "\n",
      "for n, ax in zip(data_points, axes_list):\n",
      "    \n",
      "    # Plot data and curves\n",
      "    kevs, data, eps = data_points[n]\n",
      "    kevs_loss, data_loss = loss_curves[n]\n",
      "    kevs_damp, data_damp = damp_curves[n]\n",
      "\n",
      "    ax.errorbar(kevs, data, eps, fmt='ok', markersize=3, label='Data')\n",
      "    ax.plot(kevs_loss, data_loss, ':b', label='Loss-limited')\n",
      "    ax.plot(kevs_damp, data_damp, '-k', alpha=0.7, label='Damped')\n",
      "\n",
      "    # Compute all axis limits\n",
      "    kevs_all = np.concatenate((kevs, kevs_loss, kevs_damp))\n",
      "    _gap = 1.2*max(eps) + 0.05  # 0.05 is fudge factor to round down/up to nearest 1/10ths place\n",
      "    xmin, xmax = min(kevs_all), max(kevs_all)\n",
      "    ymin, ymax = round(min(data) - _gap, 1), round(max(data) + _gap, 1)\n",
      "    \n",
      "    # Customize to get nicer tickmarks\n",
      "    #if n == 2:\n",
      "    #    ymin = 2\n",
      "    \n",
      "    # Annotations for individual subplots\n",
      "    if postage_stamp:\n",
      "        ax.imshow(msfc_chandra, alpha=0.25, extent=(xmin,xmax, ymin,ymax))\n",
      "        ax.axis('tight')  # Forces matplotlib to obey ax.set_[x,y]lim\n",
      "        \n",
      "        ax.text(0.4, 0.88, r'\\emph{FOREVER} \\textbar~USA', fontsize=8, color='white',\n",
      "                transform=ax.transAxes, horizontalalignment='left')\n",
      "    else:\n",
      "        if n == 1:\n",
      "            ax.legend(loc='best', prop={'size':7})\n",
      "\n",
      "        _xpos = 0.4 if n == 1 else 0.82  # If figure sizing changes, update position\n",
      "        _ypos = 0.8\n",
      "        ax.text(_xpos, _ypos, str(n), fontsize=14,\n",
      "                transform=ax.transAxes, horizontalalignment='right')\n",
      "    \n",
      "    # Apply axis limits, tickmarks, labels\n",
      "    ax.set_xlim((xmin,xmax))\n",
      "    ax.set_ylim((ymin,ymax))\n",
      "    \n",
      "    if n > 4:\n",
      "        ax.set_xlabel('Energy (keV)')\n",
      "    if (n-1)%4 == 0:\n",
      "        ax.set_ylabel('FWHM (arcsec.)')\n",
      "    \n",
      "    ax.set_xticks([1.0, 2.0, 3.0, 4.0, 5.0])\n",
      "    ax.minorticks_on()\n",
      "    \n",
      "plt.tight_layout()\n",
      "plt.savefig(plt_outroot + plt_suffix, dpi=300)\n",
      "plt.show()"
     ],
     "language": "python",
     "metadata": {},
     "outputs": []
    },
    {
     "cell_type": "heading",
     "level": 2,
     "metadata": {},
     "source": [
      "Energy-width plots like above, but for individual regions w/ various mu values.  $\\eta_2=1$ fixed."
     ]
    },
    {
     "cell_type": "markdown",
     "metadata": {},
     "source": [
      "A lot of redundant code (some stuff factored into `models_disp`) but it works."
     ]
    },
    {
     "cell_type": "code",
     "collapsed": false,
     "input": [
      "fmt_vals = [':b', ':g', ':m', '--k', '--m', '--g']  # For each mu value\n",
      "\n",
      "# 0.65 to 5 keV for Tycho\n",
      "# 0.65 to 2.15 keV for SN1006\n",
      "plot_pts = np.linspace(0.65, 5, 40)  # Set to high # for final plots\n",
      "plt_suffix = 'energywidth-eta2one-{:02d}-poster.pdf'  # Default for paper plots\n",
      "\n",
      "# Low energy extrapolation\n",
      "#plot_pts = np.linspace(0.1, 2.15, 40)\n",
      "#plt_suffix = 'energywidth-lowE-{:02d}.pdf'"
     ],
     "language": "python",
     "metadata": {},
     "outputs": []
    },
    {
     "cell_type": "code",
     "collapsed": false,
     "input": [
      "for p_list, mu_vals, n, fdict in mdsp.load_fit_pkls(fitroot_eta2_one, want_fobj=True):\n",
      "    \n",
      "    #if n != 1 and n != 16:\n",
      "    #    continue\n",
      "    if n != 16:\n",
      "        continue\n",
      "    \n",
      "    # Set up plot, plot FWHM data\n",
      "    plt.figure(figsize=(3.5, 2.6))\n",
      "    ax = plt.gca()\n",
      "    ax.errorbar(fdict['kevs'], fdict['data'], fdict['eps'], fmt='ok', label='Data')\n",
      "    \n",
      "    # x (keV) values at which to plot model predictions\n",
      "    kevs_m = np.concatenate((fdict['kevs'], plot_pts))\n",
      "    kevs_m = np.sort(kevs_m)\n",
      "    \n",
      "    # Compute and plot best loss-limited fits (all mu values)\n",
      "    for p, mu, fmt in zip(p_list, mu_vals, fmt_vals):\n",
      "        # Pull out model fitting kws used\n",
      "        if 'fit_kws' in p.metadata and 'model_kws' in p.metadata['fit-kws']:\n",
      "            mkws = p.metadata['fit-kws']['model_kws']\n",
      "        else:\n",
      "            mkws = {}\n",
      "        print 'Best loss-limited fit kws:', mkws\n",
      "        \n",
      "        eta2 = p['eta2'].value\n",
      "        B0 = p['B0'].value\n",
      "        \n",
      "        # Calculate and plot mdoel predictions\n",
      "        fobj = mex.Fitter(p.snr, kevs_m, np.ones(len(kevs_m)), np.ones(len(kevs_m)), None, inds=None, verbose=True)\n",
      "        fwhms_m = fobj.width_full(mu, eta2, B0, **mkws)\n",
      "        fwhms_m[fwhms_m > 0.99*p.snr.rsarc] = float('nan')  # Remove cases where FWHMs not found\n",
      "        ax.plot(kevs_m, fwhms_m, fmt, label=r'$\\mu = {:0.2f}$'.format(mu))\n",
      "    \n",
      "    # Compute and plot best damping fit (mu=1)\n",
      "    ab = AB_BEST[n]\n",
      "    froot = damproot_free.format(ab)\n",
      "    p_list2, mu_vals2, _ = mdsp.load_fit_pkl(froot, n)\n",
      "    assert len(p_list2) == len(mu_vals2) == 1\n",
      "    p, mu = p_list2[0], mu_vals2[0]\n",
      "\n",
      "    # Pull out model fitting kws used\n",
      "    try:\n",
      "        mkws = p.metadata['fit-kws']['model_kws']\n",
      "    except KeyError:\n",
      "        mkws = {}\n",
      "    print 'Best damped fit kws:', mkws\n",
      "\n",
      "    eta2 = p['eta2'].value\n",
      "    B0 = p['B0'].value\n",
      "    \n",
      "    # Calculate and plot the model predictions\n",
      "    fobj = mex.Fitter(p.snr, kevs_m, np.ones(len(kevs_m)), np.ones(len(kevs_m)), None, inds=None, verbose=True)\n",
      "    fwhms_m = fobj.width_full(mu, eta2, B0, **mkws)\n",
      "    fwhms_m[fwhms_m > 0.99*p.snr.rsarc] = float('nan')  # Remove cases where FWHMs not found\n",
      "    ax.plot(kevs_m, fwhms_m, '-k', linewidth=2, label=r'Damped')\n",
      "\n",
      "    # Assemble final plot\n",
      "    if n == 1 or n ==16:  # Only show legend for Region 1\n",
      "        ax.legend(loc='best', prop={'size':8})\n",
      "        _xpos = 0.6\n",
      "    else:\n",
      "        _xpos = 0.9\n",
      "    ax.text(_xpos, 0.8, str(n),  # Print region number\n",
      "            fontsize=18, fontweight='bold',\n",
      "            transform=ax.transAxes,\n",
      "            horizontalalignment='right')\n",
      "    fplot('Energy (keV)', 'FWHM (arcsec)', axargs='tight')\n",
      "    \n",
      "    plt.tight_layout()\n",
      "    plt.savefig(plt_outroot + plt_suffix.format(n), dpi=300)\n",
      "    plt.show()"
     ],
     "language": "python",
     "metadata": {},
     "outputs": []
    },
    {
     "cell_type": "heading",
     "level": 2,
     "metadata": {},
     "source": [
      "Plot best damped fit $m_{\\mathrm{E}}$ values as a function of energy, all regions"
     ]
    },
    {
     "cell_type": "markdown",
     "metadata": {},
     "source": [
      "Goal is to show dichotomy in best fits.  This replaces the giant table of $m_{\\mathrm{E}}$ values."
     ]
    },
    {
     "cell_type": "code",
     "collapsed": false,
     "input": [
      "# Tycho setup\n",
      "kevs_m = np.linspace(0.1, 5, 41)  # Set to high # for final plots\n",
      "kevs_m = np.append(kevs_m, np.logspace(-3, -1, 20, endpoint=False))\n",
      "kevs_m = np.sort(kevs_m)\n",
      "\n",
      "# SN 1006 setup\n",
      "#kevs_m = np.logspace(-1.1, 0.7, 50)\n",
      "\n",
      "plt_fname = plt_outroot + 'mE-damp.pdf'"
     ],
     "language": "python",
     "metadata": {},
     "outputs": []
    },
    {
     "cell_type": "code",
     "collapsed": false,
     "input": [
      "hitlist = []\n",
      "mE_plot = {}\n",
      "\n",
      "for n_iter in xrange(max(AB_BEST)):  # Enforce ordering\n",
      "    n = n_iter + 1\n",
      "    \n",
      "    # Load best damped fit\n",
      "    ab = AB_BEST[n]\n",
      "    droot = damproot_free.format(ab)\n",
      "    p_list, mu_vals, fobj = mdsp.load_fit_pkl(droot, n)\n",
      "    \n",
      "    # Compute FWHMs and m_E values, keeping computation mask to flag\n",
      "    _ = mdsp.best_fit_fwhms(p_list, mu_vals, fobj,\n",
      "                            kevs_calc=kevs_m, mu_calc=[1], get_mask=True)\n",
      "    kevs_out, fwhms_out, msk_calc = _\n",
      "    mE_vals = m_expt(kevs_out, fwhms_out)\n",
      "    mE_plot[n] = kevs_out[1:], mE_vals\n",
      "\n",
      "    if any(mE_vals < -0.5) or not all(msk_calc):\n",
      "        print '----- Region {:02d} has mE < -0.5 or NaN FWHMs -----'.format(n)\n",
      "        hitlist.append(n)"
     ],
     "language": "python",
     "metadata": {},
     "outputs": []
    },
    {
     "cell_type": "code",
     "collapsed": false,
     "input": [
      "plt.figure(figsize=(3.5, 2.6))\n",
      "\n",
      "for n_iter in xrange(max(AB_BEST)):  # Enforce ordering\n",
      "    n = n_iter + 1\n",
      "    kevs, mE_vals = mE_plot[n]\n",
      "    plt.plot(kevs, mE_vals, alpha=0.8, label=r'Region {:02d}'.format(n))  # Let matplotlib cycle the colors for now\n",
      "\n",
      "fplot('Energy (keV)', r'$m_{\\mathrm{E}}$', axargs='tight')\n",
      "\n",
      "plt.xscale('log')\n",
      "#plt.legend(loc='best')  # For SN 1006\n",
      "#plt.ylim(bottom=-2.0)   # SN 1006\n",
      "plt.tight_layout()\n",
      "plt.savefig(plt_fname, dpi=300)\n",
      "plt.show()\n",
      "print 'Hitlist: ', hitlist"
     ],
     "language": "python",
     "metadata": {},
     "outputs": []
    },
    {
     "cell_type": "heading",
     "level": 2,
     "metadata": {},
     "source": [
      "Intensity profiles for best fit parameters (damped and loss-limited at $\\mu=1$, $\\eta_2 = 1$)."
     ]
    },
    {
     "cell_type": "markdown",
     "metadata": {},
     "source": [
      "Customize code to plot variety of energies as desired (lower X-ray to UV energies, radio wavelengths).\n",
      "\n",
      "These plots are not super informative, but let us inspect profiles as a function of energy quickly."
     ]
    },
    {
     "cell_type": "code",
     "collapsed": false,
     "input": [
      "# Tycho\n",
      "plot_kws = {'irmax': 400, 'iradmax': 200, 'rminarc': 24, 'irad_adapt': False}\n",
      "rsarc = snrcat.make_tycho().rsarc\n",
      "plt_suffix = 'prfs-fit-{:02d}.pdf'\n",
      "\n",
      "#kevs_plot = np.array([0.7, 1.0, 2.0, 3.0, 4.5])\n",
      "#colors = ['orange', 'magenta', 'green', 'blue', 'black']\n",
      "#linestyles = ['-', '-', '-', '-', '-']\n",
      "#manuscript_profiles = True  # If True, kevs_plot is not used (drawn from stored fits instead)\n",
      "# when low energy FWHMs are missing, colors/linestyles are truncated on the left (use values on right, to match up)\n",
      "# Very hacky workaround\n",
      "\n",
      "kevs_plot = np.array([5.6865e-9, 0.01, 0.1, 0.7, 1.0, 2.0, 3.0, 4.5])  # 1, 3.1623, 10 are ~equally log-spaced\n",
      "# 5.6865e-9 keV/h = 1.375 GHz\n",
      "colors = ['r', 'r', 'r', 'magenta', 'g', 'cyan', 'b', 'k']\n",
      "linestyles = [':', '-.', '--',] + 5*['-']\n",
      "manuscript_profiles = False"
     ],
     "language": "python",
     "metadata": {},
     "outputs": []
    },
    {
     "cell_type": "code",
     "collapsed": false,
     "input": [
      "# Kepler\n",
      "plot_kws = {'irmax': 400, 'iradmax': 200, 'rminarc': 10, 'irad_adapt': False}\n",
      "rsarc = snrcat.make_kepler().rsarc\n",
      "plt_suffix = 'prfs_{:02d}.pdf'\n",
      "\n",
      "kevs_plot = np.array([0.7, 1.0, 2.0, 4.0])\n",
      "colors = ['orange', 'magenta', 'green', 'blue']\n",
      "linestyles = ['-', '-', '-', '-']\n",
      "\n",
      "manuscript_profiles = True"
     ],
     "language": "python",
     "metadata": {},
     "outputs": []
    },
    {
     "cell_type": "code",
     "collapsed": false,
     "input": [
      "# SN 1006\n",
      "#kevs_plot = np.array([0.7, 1.0, 2.0])\n",
      "#colors = ['magenta', 'green', 'blue']\n",
      "#linestyles = 3*['-']\n",
      "\n",
      "#kevs_plot = np.array([0.05, 0.1, 0.2, 0.5, 1., 2., 4.])  # lots of low energies\n",
      "#colors =     ['b', 'g', 'm', 'k', 'k',  'm',  'g']\n",
      "#linestyles = [':', ':', ':', ':', '--', '--', '--']\n",
      "\n",
      "#kevs_plot = np.array([4.136e-9, 2.07e-8, 1., 4.5])  # Radio wavelengths"
     ],
     "language": "python",
     "metadata": {},
     "outputs": []
    },
    {
     "cell_type": "markdown",
     "metadata": {},
     "source": [
      "Generate and save intensity profiles for damped/loss-limited best fit parameters"
     ]
    },
    {
     "cell_type": "code",
     "collapsed": false,
     "input": [
      "loss_prfs = {}\n",
      "damp_prfs = {}\n",
      "\n",
      "for p_list, mu_vals, fobj, n in mdsp.load_fit_pkls_new(fitroot_eta2_one):  # Taking eta2 = 1\n",
      "    \n",
      "    kevs_calc = kevs_plot\n",
      "    \n",
      "    # Get best loss-limited fit intensity profiles\n",
      "    loss_prfs[n] = mdsp.best_fit_fwhms(p_list, mu_vals, fobj, kevs_calc = kevs_calc, mu_calc=[1],\n",
      "                                    get_mask=False, get_prfs=True, itmax=500, inmax=100,\n",
      "                                    **plot_kws)\n",
      "    \n",
      "    # Get best damped fit intensity profiles, eta2 = 1 enforced\n",
      "    droot = damproot_eta2.format(AB_BEST_ETA2_ONE[n], 1)\n",
      "    p_list2, mu_vals2, fobj2 = mdsp.load_fit_pkl(droot, n)\n",
      "    \n",
      "    damp_prfs[n] = mdsp.best_fit_fwhms(p_list2, mu_vals2, fobj2, kevs_calc = kevs_calc, mu_calc=[1],\n",
      "                                    get_mask=False, get_prfs=True,\n",
      "                                    **plot_kws)"
     ],
     "language": "python",
     "metadata": {},
     "outputs": []
    },
    {
     "cell_type": "markdown",
     "metadata": {},
     "source": [
      "Plot intensity profiles for each region"
     ]
    },
    {
     "cell_type": "code",
     "collapsed": false,
     "input": [
      "blacklist = []\n",
      "\n",
      "for n in np.sort(loss_prfs.keys()):  # Enforce ordering...\n",
      "    \n",
      "    # Set up subplot\n",
      "    fig, axes = plt.subplots(1, 2, figsize=(6, 3), sharey=True)\n",
      "    ax1, ax2 = axes\n",
      "    \n",
      "    # Unload data and check that all makes sense\n",
      "    ab = AB_BEST[n]\n",
      "    kevs_m, _ = loss_prfs[n]\n",
      "    fwhms_m, intensity_m, rgrids_m = _\n",
      "    kevs_d, _ = damp_prfs[n]\n",
      "    fwhms_d, intensity_d, rgrids_d = _\n",
      "    assert np.array_equal(kevs_m, kevs_d)\n",
      "    \n",
      "    # Plot elements\n",
      "    ax1.axhline(y=0.5, color='k', alpha=0.5, ls='-')  # Show where FWHM is being measured\n",
      "    ax2.axhline(y=0.5, color='k', alpha=0.5, ls='-')\n",
      "    ax2.axvspan((1-ab)*rsarc, rsarc, color='0.2', alpha=0.1)  # Shade in damping lengthscale\n",
      "    \n",
      "    ax1.grid(color='k', which='major', alpha=0.1, linestyle='-')  # Gridding\n",
      "    ax2.grid(color='k', which='major', alpha=0.1, linestyle='-')\n",
      "    \n",
      "    for en, idx in zip(kevs_m, xrange(len(kevs_m))):\n",
      "        \n",
      "        if en < 0.001:  # If working at energies below 1 eV, convert to GHz\n",
      "            legend_lab = r'{:0.4g} GHz'.format(en * 2.417989e8)  # 1 keV/h = 2.417989e8 GHz\n",
      "        else:\n",
      "            legend_lab = r'{:0.1g} keV'.format(en)\n",
      "        \n",
      "        ax1.plot(rgrids_m[idx], intensity_m[idx] / np.amax(intensity_m[idx]), linestyle=linestyles[idx], c=colors[idx])\n",
      "        ax2.plot(rgrids_d[idx], intensity_d[idx] / np.amax(intensity_d[idx]), linestyle=linestyles[idx], c=colors[idx],\n",
      "                 label=legend_lab)\n",
      "    \n",
      "    fplot('Radial position (arcsec.)', 'Intensity (a.u.)', ax=ax1, axargs='tight')\n",
      "    fplot('Radial position (arcsec.)', '', ax=ax2, axargs='tight')\n",
      "    ax1.set_ylim(0., 1.0)\n",
      "    ax2.set_ylim(0., 1.0)\n",
      "    \n",
      "    # Print region number\n",
      "    ax1.text(0.1, 0.82, str(n), fontsize=18, transform=ax1.transAxes,\n",
      "             horizontalalignment='left')\n",
      "    \n",
      "    # For manuscript only\n",
      "    if n == 1:\n",
      "        ax1.set_title('Loss-limited', fontsize=12)\n",
      "        ax2.set_title('Damped', fontsize=12)\n",
      "    elif n == 16:\n",
      "        ax2.legend(loc='best', prop={'size':8})\n",
      "    \n",
      "    if any(fwhms_d > 0.99*rsarc):\n",
      "        blacklist.append(n)\n",
      "    \n",
      "    plt.tight_layout()\n",
      "    plt.savefig(plt_outroot + plt_suffix.format(n), dpi=300)  # dpi irrelevant here\n",
      "    plt.show()\n",
      "\n",
      "print 'The following regions exhibit weak-field damping'\n",
      "print '(at least one low-energy profile considered has no FWHM)'\n",
      "print blacklist, '\\n'"
     ],
     "language": "python",
     "metadata": {},
     "outputs": []
    },
    {
     "cell_type": "markdown",
     "metadata": {},
     "source": [
      "As above, but now plot _only_ damped fits to illustrate damped vs. loss-limited fits."
     ]
    },
    {
     "cell_type": "code",
     "collapsed": false,
     "input": [
      "plt_suffix = 'prfs-fit-damp-{:02d}.pdf'"
     ],
     "language": "python",
     "metadata": {},
     "outputs": []
    },
    {
     "cell_type": "code",
     "collapsed": false,
     "input": [
      "blacklist = []\n",
      "\n",
      "for n in np.sort(loss_prfs.keys()):  # Enforce ordering...\n",
      "    \n",
      "    plt.figure(figsize=(4, 3))\n",
      "    ax = plt.gca()\n",
      "    \n",
      "    # Unload data\n",
      "    ab = AB_BEST[n]\n",
      "    kevs_d, _ = damp_prfs[n]\n",
      "    fwhms_d, intensity_d, rgrids_d = _\n",
      "    \n",
      "    # Plot elements\n",
      "    ax.axhline(y=0.5, color='k', alpha=0.5, ls='-')  # Show where FWHM is being measured\n",
      "    ax.axvspan((1-ab)*rsarc, rsarc, color='0.2', alpha=0.1)  # Shade in damping lengthscale\n",
      "    ax.grid(color='k', which='major', alpha=0.1, linestyle='-')\n",
      "    \n",
      "    # Plot model profiles\n",
      "    for en, idx in zip(kevs_m, xrange(len(kevs_m))):\n",
      "        \n",
      "        if en < 0.001:  # If working at energies below 1 eV, convert to GHz\n",
      "            legend_lab = r'{:0.4g} GHz'.format(en * 2.417989e8)  # 1 keV/h = 2.417989e8 GHz\n",
      "        else:\n",
      "            legend_lab = r'{:0.1g} keV'.format(en)\n",
      "        \n",
      "        ax.plot(rgrids_d[idx], intensity_d[idx] / np.amax(intensity_d[idx]), linestyle=linestyles[idx], c=colors[idx],\n",
      "                label=legend_lab)\n",
      "    \n",
      "    fplot('Radial position (arcsec.)', 'Intensity (a.u.)', ax=ax, axargs='tight')\n",
      "    ax.set_ylim(0., 1.0)\n",
      "    \n",
      "    # For manuscript, region number / legend\n",
      "    if n == 16:\n",
      "        ax.legend(loc='best', prop={'size':8})\n",
      "        ax.text(0.35, 0.82, str(n), fontsize=18, transform=ax.transAxes,\n",
      "                horizontalalignment='left')\n",
      "    else:\n",
      "        ax.text(0.1, 0.82, str(n), fontsize=18, transform=ax.transAxes,\n",
      "                horizontalalignment='left')\n",
      "    \n",
      "    if any(fwhms_d > 0.99*rsarc):\n",
      "        blacklist.append(n)\n",
      "    \n",
      "    plt.tight_layout()\n",
      "    plt.savefig(plt_outroot + plt_suffix.format(n), dpi=300)  # dpi irrelevant here\n",
      "    plt.show()\n",
      "\n",
      "print 'The following regions exhibit weak-field damping'\n",
      "print '(at least one low-energy profile considered has no FWHM)'\n",
      "print blacklist, '\\n'"
     ],
     "language": "python",
     "metadata": {},
     "outputs": []
    },
    {
     "cell_type": "heading",
     "level": 2,
     "metadata": {},
     "source": [
      "Same intensity plots as above, split into 5 subplots to show w/ data"
     ]
    },
    {
     "cell_type": "markdown",
     "metadata": {},
     "source": [
      "Show how well (or how poorly) profiles based on width-energy dep. only, match the full profile"
     ]
    },
    {
     "cell_type": "code",
     "collapsed": false,
     "input": [
      "import json\n",
      "\n",
      "import json_utils as jsu\n",
      "import regdict_utils as rdu"
     ],
     "language": "python",
     "metadata": {},
     "outputs": []
    },
    {
     "cell_type": "code",
     "collapsed": false,
     "input": [
      "# Tycho\n",
      "fwhm_root = '../../data-tycho/regions-6/fwhms-subbkg/fwhms'\n",
      "kevs_all = np.array([0.7, 1., 2., 3., 4.5])\n",
      "plt_suffix = 'prfs-fit-and-data-{:02d}.pdf'"
     ],
     "language": "python",
     "metadata": {},
     "outputs": []
    },
    {
     "cell_type": "markdown",
     "metadata": {},
     "source": [
      "Recalculate with profiles for all energies, makes code much simpler"
     ]
    },
    {
     "cell_type": "code",
     "collapsed": false,
     "input": [
      "loss_prfs = {}\n",
      "damp_prfs = {}\n",
      "\n",
      "for p_list, mu_vals, fobj, n in mdsp.load_fit_pkls_new(fitroot):\n",
      "    \n",
      "    kevs_calc = kevs_all  # Use all energies\n",
      "    \n",
      "    # Get best loss-limited fit intensity profiles\n",
      "    loss_prfs[n] = mdsp.best_fit_fwhms(p_list, mu_vals, fobj, kevs_calc = kevs_calc, mu_calc=[1],\n",
      "                                    get_mask=False, get_prfs=True, itmax=500, inmax=100,\n",
      "                                    **plot_kws)\n",
      "    \n",
      "    # Get best damped fit intensity profiles\n",
      "    ab = AB_BEST[n]\n",
      "    droot = damproot_free.format(AB_BEST[n])\n",
      "    p_list2, mu_vals2, fobj2 = mdsp.load_fit_pkl(droot, n)\n",
      "    \n",
      "    damp_prfs[n] = mdsp.best_fit_fwhms(p_list2, mu_vals2, fobj2, kevs_calc = kevs_calc, mu_calc=[1],\n",
      "                                    get_mask=False, get_prfs=True,\n",
      "                                    **plot_kws)"
     ],
     "language": "python",
     "metadata": {},
     "outputs": []
    },
    {
     "cell_type": "markdown",
     "metadata": {},
     "source": [
      "This is copy-pasted from the radio/X-ray profile processing notebook (`proc_radio_xray_prfs.ipynb`)"
     ]
    },
    {
     "cell_type": "code",
     "collapsed": false,
     "input": [
      "def get_zero_crossings(x,y,y_cross):\n",
      "    \"\"\"x,y numpy arrays; y_cross must be a scalar.  Finds x-pos of all crossings of y_cross in y\n",
      "    (linearly interpolating between discrete pts)\"\"\"\n",
      "    cross_idx = np.where(np.diff(np.sign(y - y_cross)))[0]  # Left side of crossing\n",
      "    \n",
      "    x_crosses = []\n",
      "    \n",
      "    for idx in cross_idx:\n",
      "        slope = (y[idx+1] - y[idx]) / (x[idx+1] - x[idx])\n",
      "        x_cross = x[idx] + (y_cross - y[idx]) / slope\n",
      "        x_crosses.append(x_cross)\n",
      "    \n",
      "    return np.array(x_crosses)"
     ],
     "language": "python",
     "metadata": {},
     "outputs": []
    },
    {
     "cell_type": "code",
     "collapsed": false,
     "input": [
      "for rdict, n in rdu.regdict_load(fwhm_root):  # Yes, this comes out ordered\n",
      "    \n",
      "    # Set up plot for n-th region\n",
      "    fig, axes = plt.subplots(2, 5, figsize=(12, 4.5), sharex=True, sharey=True)\n",
      "    ab = AB_BEST[n]\n",
      "        \n",
      "    for row, n_row in zip(axes, xrange(len(axes))):\n",
      "        \n",
      "        # Get loss-limited or damped model data\n",
      "        if n_row == 0:  # First row\n",
      "            fwhms, intensity, rgrids = loss_prfs[n][1]\n",
      "        else:\n",
      "            fwhms, intensity, rgrids = damp_prfs[n][1]\n",
      "        \n",
      "        # Plot data, model for each energy (even if FWHM not measured!)\n",
      "        for lab, ax, idx in zip(labels, row, xrange(len(kevs_all))):\n",
      "            \n",
      "            # Plot model prediction\n",
      "            ax.plot(rgrids[idx], intensity[idx] / np.amax(intensity[idx]),\n",
      "                    linestyle='-', c='k')\n",
      "            \n",
      "            # Get actual data, and align based on model and measured FWHMs\n",
      "            x, y, y_err, c = rdict[lab]['data']  # c = fit domain cutoff, on left\n",
      "            w = rdict[lab]['fwhm']\n",
      "            lims = rdict[lab]['lims']\n",
      "            \n",
      "            x_fwhms = get_zero_crossings(rgrids[idx], intensity[idx] / np.amax(intensity[idx]),\n",
      "                                         0.5)  # Find FWHM locations\n",
      "            if np.isfinite(w):  \n",
      "                measured_fwhm_right = lims[1]\n",
      "            else:  # HACKY WORKAROUND: this only occurs if idx = 0.  Get 1 keV FWHM instead\n",
      "                measured_fwhm_right =  rdict[labels[idx+1]]['lims'][1]\n",
      "            x_shift = x_fwhms[-1] - measured_fwhm_right\n",
      "            x = x + x_shift  # Translate forward!\n",
      "            \n",
      "            # Plot actual data\n",
      "            ax.errorbar(x[c:], y[c:] / np.amax(y[c:]), yerr=y_err[c:]/np.amax(y[c:]),\n",
      "                        xerr=np.ones_like(y_err[c:]) * 0.492, fmt='.b', capsize=0, ms=0)\n",
      "            if c > 0:\n",
      "                ax.errorbar(x[:c], y[:c] / np.amax(y[:c]), yerr=y_err[:c]/np.amax(y[:c]),\n",
      "                            xerr=np.ones_like(y_err[:c]) * 0.492, fmt='.k', capsize=0, ms=0,\n",
      "                            alpha=0.2)\n",
      "            \n",
      "            # Annotations -- mark measured FWHM location and draw 0.5\n",
      "            if np.isfinite(w):\n",
      "                ax.axvline(lims[0] + x_shift, ls=':', c='r', lw=1, alpha=1)\n",
      "                ax.axvline(lims[1] + x_shift, ls=':', c='r', lw=1, alpha=1)\n",
      "                ax.axhline(y=0.5, color='r', alpha=0.5, ls='-')\n",
      "            if n_row == 1:  # Damped case\n",
      "                ax.axvspan((1-ab)*rsarc, rsarc, color='0.2', alpha=0.1)  # Shade in damping lengthscale\n",
      "            \n",
      "            # Plot labels, etc.\n",
      "            if n_row == 1:\n",
      "                ax.set_xlabel('Radial position (arcsec.)')\n",
      "            if lab == '0.7-1kev':\n",
      "                ax.set_ylabel('Normalized intensity')\n",
      "                if n_row == 0:  # Top-left subplot\n",
      "                    ax.text(0.90, 0.82, str(n), fontsize=18, transform=ax.transAxes,\n",
      "                             horizontalalignment='right')\n",
      "            \n",
      "            ax.set_ylim(0, 1)\n",
      "            ax.set_xlim(x[0], x[-1])\n",
      "            ax.set_title(labels_nice[idx])\n",
      "\n",
      "    plt.tight_layout()\n",
      "    plt.savefig(plt_outroot + plt_suffix.format(n), dpi=300)  # dpi irrelevant here\n",
      "    plt.show()\n",
      "    print ''"
     ],
     "language": "python",
     "metadata": {},
     "outputs": []
    }
   ],
   "metadata": {}
  }
 ]
}