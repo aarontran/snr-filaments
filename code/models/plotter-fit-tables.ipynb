{
 "metadata": {
  "name": "",
  "signature": "sha256:89c6f3cdec27dd441b16a0e2f02cab37a9c19c3d85da6e8003ae203d4cc499b8"
 },
 "nbformat": 3,
 "nbformat_minor": 0,
 "worksheets": [
  {
   "cells": [
    {
     "cell_type": "heading",
     "level": 1,
     "metadata": {},
     "source": [
      "Notebook to generate nice tables, plots for paper (manipulating fit outputs)"
     ]
    },
    {
     "cell_type": "markdown",
     "metadata": {},
     "source": [
      "Basically, make a new one for each SNR -- it's probably easier/simpler,\n",
      "because depending on the number of tables, values/averages being reported, etc.,\n",
      "you'll have to twiddle the layout, change headers, etc.\n",
      "\n",
      "So, not really worth refactoring this module"
     ]
    },
    {
     "cell_type": "code",
     "collapsed": true,
     "input": [
      "%pylab --no-import-all\n",
      "%matplotlib inline\n",
      "# ('gtk', 'inline', 'osx', 'qt', 'qt4', 'tk', 'wx')\n",
      "%load_ext autoreload\n",
      "%autoreload 2\n",
      "from fplot import fplot, show_mplrc_settings\n",
      "\n",
      "from __future__ import division\n",
      "\n",
      "import cPickle as pickle\n",
      "from glob import glob\n",
      "import re\n",
      "\n",
      "import models\n",
      "import models_exec as mex\n",
      "import models_disp as mdsp\n",
      "from nice_tables import LatexTable\n",
      "from nice_tables import merge_latex_tables as mergelt\n",
      "import snr_catalog as snrcat\n",
      "\n",
      "# For reference\n",
      "show_mplrc_settings()"
     ],
     "language": "python",
     "metadata": {},
     "outputs": []
    },
    {
     "cell_type": "heading",
     "level": 1,
     "metadata": {},
     "source": [
      "0. Set-up: data to use, plot output path, etc"
     ]
    },
    {
     "cell_type": "code",
     "collapsed": false,
     "input": [
      "# TYCHO\n",
      "labels = ['0.7-1kev', '1-1.7kev', '2-3kev', '3-4.5kev', '4.5-7kev']\n",
      "labels_nice = [r'0.7--1 keV', r'1--1.7 keV', r'2--3 keV', r'3--4.5 keV', r'4.5--7 keV']\n",
      "fitroot = '../../data-tycho/regions-5/fwhms-subbkg/model-fits/full-man_err'\n",
      "damproot_free = '../../data-tycho/regions-5/fwhms-subbkg/model-fits-damp/full-std_err-ab_{:0.2e}-eta2_free'\n",
      "damproot_eta2 = '../../data-tycho/regions-5/fwhms-subbkg/model-fits-damp/full-std_err-ab_{:0.2e}-eta2_{:0.2e}'\n",
      "plt_outroot = '../../data-tycho/regions-5/fwhms-subbkg/plots/full-std_err'\n",
      "\n",
      "AB_VALS = [0.5, 0.05, 0.04, 0.03, 0.02, 0.01, 0.009, 0.008, 0.007, 0.006, 0.005, 0.004, 0.003, 0.002]\n",
      "ETA2_VALS = [0.01, 0.1, 1., 2., 10.]\n",
      "\n",
      "# TYCHO simulations\n",
      "#fitroot = '../../data-tycho/simul-fakeit/full-man_err'\n",
      "#indiv_left = [1,4]\n",
      "#indiv_rows = [[1,2,3], [4,5,6]]"
     ],
     "language": "python",
     "metadata": {},
     "outputs": []
    },
    {
     "cell_type": "code",
     "collapsed": true,
     "input": [
      "# SN 1006\n",
      "labels = ['0.7-1kev', '1-2kev', '2-7kev']\n",
      "labels_nice = ['0.7--1 keV', '1--2 keV', '2--7 keV']\n",
      "fitroot = '../../data-sn1006/model-fits/full-std_err'\n",
      "damproot_free = '../../data-sn1006/model-fits-damp/full-std_err-ab_{:0.2e}-eta2_free'\n",
      "damproot_eta2 = '../../data-sn1006/model-fits-damp/full-std_err-ab_{:0.2e}-eta2_{:0.2e}'\n",
      "plt_outroot = '../../data-sn1006/model-fits/plots/full-loss-damp'\n",
      "\n",
      "AB_VALS = [0.5, 0.05, 0.04, 0.03, 0.02, 0.01, 0.009, 0.008, 0.007, 0.006, 0.005, 0.004]\n",
      "ETA2_VALS = [0.01, 0.1, 1., 2., 10.]"
     ],
     "language": "python",
     "metadata": {},
     "outputs": []
    },
    {
     "cell_type": "code",
     "collapsed": false,
     "input": [
      "def m_expt(ens, widths):\n",
      "    \"\"\"Calculated following Ressler et al. [2014]\n",
      "    Output array size is one less than that of ens/widths\n",
      "    \"\"\"\n",
      "    e2, e1 = ens[1:], ens[:-1]\n",
      "    w2, w1 = widths[1:], widths[:-1]\n",
      "    return np.log(w2/w1) / np.log(e2/e1)"
     ],
     "language": "python",
     "metadata": {},
     "outputs": []
    },
    {
     "cell_type": "markdown",
     "metadata": {},
     "source": [
      "Find the best damping fits for moderate damping ($a_b \\leq 0.01$) (RERUN THIS IF FILENAMES ARE CHANGED !)"
     ]
    },
    {
     "cell_type": "code",
     "collapsed": false,
     "input": [
      "AB_BEST = {}\n",
      "CHISQR_BEST = {}\n",
      "\n",
      "for ab_val in [x for x in AB_VALS if x <= 0.01]:\n",
      "    \n",
      "    froot = damproot_free.format(ab_val)\n",
      "    \n",
      "    # Iterate over each region\n",
      "    for p_list, mu_vals, n, fobj_dict in mdsp.load_fit_pkls(froot, want_fobj=True):\n",
      "        for p, mu in zip(p_list, mu_vals):  # Only one mu value to speak of\n",
      "            \n",
      "            chisqr_val = p.info['chisqr']\n",
      "            \n",
      "            if n not in AB_BEST or chisqr_val <= CHISQR_BEST[n]:\n",
      "                AB_BEST[n] = ab_val\n",
      "                CHISQR_BEST[n] = chisqr_val"
     ],
     "language": "python",
     "metadata": {},
     "outputs": []
    },
    {
     "cell_type": "markdown",
     "metadata": {},
     "source": [
      "Copy pasta code -- find best damped fits if $\\eta_2 = 1$ holds."
     ]
    },
    {
     "cell_type": "code",
     "collapsed": true,
     "input": [
      "AB_BEST_ETA2_ONE = {}\n",
      "CHISQR_BEST_ETA2_ONE = {}\n",
      "\n",
      "for ab_val in [x for x in AB_VALS if x <= 0.01]:\n",
      "    \n",
      "    froot = damproot_eta2.format(ab_val, 1)\n",
      "    \n",
      "    # Iterate over each region\n",
      "    for p_list, mu_vals, n, fobj_dict in mdsp.load_fit_pkls(froot, want_fobj=True):\n",
      "        for p, mu in zip(p_list, mu_vals):  # Only one mu value to speak of\n",
      "            \n",
      "            chisqr_val = p.info['chisqr']\n",
      "            \n",
      "            if n not in AB_BEST_ETA2_ONE or chisqr_val <= CHISQR_BEST_ETA2_ONE[n]:\n",
      "                AB_BEST_ETA2_ONE[n] = ab_val\n",
      "                CHISQR_BEST_ETA2_ONE[n] = chisqr_val"
     ],
     "language": "python",
     "metadata": {},
     "outputs": []
    },
    {
     "cell_type": "heading",
     "level": 2,
     "metadata": {},
     "source": [
      "0.1 Just for reference"
     ]
    },
    {
     "cell_type": "markdown",
     "metadata": {},
     "source": [
      "Generator `mdsp.load_fit_pkls(...)` gives a list of Parameters() objects, mu values, region number, and a dictionary with Fitter() object properties (i.e., data/settings used for all 6 fits).\n",
      "\n",
      "We have access to, besides the parameters, the following (for each `p` in the list):\n",
      "\n",
      "    p.ci               dict of confidence intervals\n",
      "    p.snr              SupernovaRemnant object used in fits (this should go with fobj_all but whatever)\n",
      "    p.info             dict of best fit parameters w/ keys:\n",
      "        'conf-intv'         CI value\n",
      "        'chisqr'            fit chisqr\n",
      "        'redchi'            fit reduced chisqr\n",
      "        'ndata'             res.ndata\n",
      "        'nvarys'            res.nvarys\n",
      "        'nfree'             res.nfree\n",
      "    p.metadata         dict of build_dataf args\n",
      "        'fit-type'          simp/full\n",
      "        'fit-kws'           eta2_free, model_kws, etc...\n",
      "        'err-kws'           manual/lmfit/stderr, eps, adapt, etc...\n",
      "\n",
      "The Fitter() dict has keys: `['title', 'kevs', 'data', 'eps', 'inds', 'snr-pars']`; snr-pars is a text dump of SNR settings from SupernovaRemnant().config_log()."
     ]
    },
    {
     "cell_type": "heading",
     "level": 1,
     "metadata": {},
     "source": [
      "1. Slew of tables of fit parameters"
     ]
    },
    {
     "cell_type": "heading",
     "level": 2,
     "metadata": {},
     "source": [
      "Tables of loss-limited fits (all $\\mu$ values) for individual regions"
     ]
    },
    {
     "cell_type": "markdown",
     "metadata": {},
     "source": [
      "This is largely dredged from `mdsp.generate_tabs(...)`.\n",
      "\n",
      "Generate tables, left (with $\\mu$) and right (without $\\mu$).  Precision is set to 1; where more precision is needed, come back and change it temporarily (rationale: most values are fine w/ prec=1 or 0)."
     ]
    },
    {
     "cell_type": "code",
     "collapsed": true,
     "input": [
      "indiv_left = [1, 4, 8, 11, 14, 18, 21]  # These tables will have column of mu values"
     ],
     "language": "python",
     "metadata": {},
     "outputs": []
    },
    {
     "cell_type": "code",
     "collapsed": true,
     "input": [
      "ltabs_all = {}\n",
      "\n",
      "for p_list, mu_vals, n, fobj_dict in mdsp.load_fit_pkls(fitroot, want_fobj=True):\n",
      "    latex_hdr = [r'$\\mu$ (-)', r'$\\eta_2$ (-)', r'$B_0$ ($\\mu$G)', r'$\\chi^2$']\n",
      "    latex_cols = ['{:0.2f}', 2, 2, '{:0.2f}']\n",
      "    if n not in indiv_left:  # Remove mu column\n",
      "        latex_hdr = latex_hdr[1:]\n",
      "        latex_cols = latex_cols[1:]\n",
      "    ltab = LatexTable(latex_hdr, latex_cols, 'Region {}'.format(n), prec=1)\n",
      "\n",
      "    for p, mu in zip(p_list, mu_vals):\n",
      "        # Pull full errors from p.ci  (get_ci_errors order: pos/neg errs)\n",
      "        p['B0'].fullerr = mex.get_ci_errors(p.ci, 'B0', p.info['conf-intv'])\n",
      "        p['eta2'].fullerr = mex.get_ci_errors(p.ci, 'eta2',p.info['conf-intv'])\n",
      "        \n",
      "        # Edit B0 parameter for table formatting\n",
      "        p['B0'].min, p['B0'].max = None, None\n",
      "        p['B0'].value *= 1e6\n",
      "        p['B0'].stderr *= 1e6\n",
      "        p['B0'].fullerr = 1e6 * np.array(p['B0'].fullerr)  # Hackish workaround\n",
      "\n",
      "        # Build LaTeX table\n",
      "        ltr = [mu] if n in indiv_left else []\n",
      "        ltr += [p['eta2'].value] + list(p['eta2'].fullerr)\n",
      "        ltr += [p['B0'].value] + list(p['B0'].fullerr)\n",
      "        ltr += [p.info['chisqr']]\n",
      "        ltab.add_row(*ltr)\n",
      "\n",
      "    ltabs_all[n] = ltab"
     ],
     "language": "python",
     "metadata": {},
     "outputs": []
    },
    {
     "cell_type": "markdown",
     "metadata": {},
     "source": [
      "Merge the necessary tables together"
     ]
    },
    {
     "cell_type": "code",
     "collapsed": true,
     "input": [
      "indiv_rows = [[1,2,3], [4,5,6,7], [8,9,10], [11,12,13], [14,15,16,17], [18,19,20], [21, 22]]\n",
      "for row in indiv_rows:\n",
      "    print reduce(mergelt, [ltabs_all[idx] for idx in row])\n",
      "    print ''"
     ],
     "language": "python",
     "metadata": {},
     "outputs": []
    },
    {
     "cell_type": "heading",
     "level": 2,
     "metadata": {},
     "source": [
      "Tables of loss-limited fits (all $\\mu$ values) with filament-averaged parameter values"
     ]
    },
    {
     "cell_type": "markdown",
     "metadata": {},
     "source": [
      "First pull out all the parameters, then print averages with standard errors (using sample std. dev.)"
     ]
    },
    {
     "cell_type": "code",
     "collapsed": false,
     "input": [
      "flmt_regs = {1: [1,2,3],\n",
      "             2: [4,5,6,7,8,9,10],\n",
      "             3: [11, 12, 13],\n",
      "             4: [14,15,16,17],\n",
      "             5: [18, 19, 20],\n",
      "             6: range(1,21)}  # Global average #s, 1-20 inclusive\n",
      "flmt_left = [1,4]  # These filament tables will have mu columns"
     ],
     "language": "python",
     "metadata": {},
     "outputs": []
    },
    {
     "cell_type": "code",
     "collapsed": true,
     "input": [
      "pdict = {}\n",
      "\n",
      "for p_list, mu_vals, n in mdsp.load_fit_pkls(fitroot, want_fobj=False):\n",
      "    pdict[n] = {}\n",
      "    for p, mu in zip(p_list, mu_vals):\n",
      "        pdict[n][mu] = {}\n",
      "        pdict[n][mu]['eta2'] = p['eta2'].value\n",
      "        pdict[n][mu]['B0'] = 1e6 * p['B0'].value\n",
      "\n",
      "ltabs_avg = {}\n",
      "\n",
      "for m in flmt_regs:\n",
      "    \n",
      "    latex_hdr = [r'$\\mu$ (-)', r'$\\eta_2$ (-)', r'$B_0$ ($\\mu$G)']\n",
      "    latex_cols = ['{:0.2f}', 1, 1]\n",
      "    if m not in flmt_left:  # Remove mu column\n",
      "        latex_hdr = latex_hdr[1:]\n",
      "        latex_cols = latex_cols[1:]\n",
      "    ltab = LatexTable(latex_hdr, latex_cols, 'Filament {}'.format(m), prec=2)\n",
      "    \n",
      "    print flmt_regs[m]\n",
      "    \n",
      "    for mu in mu_vals:  # HACK: using mu_vals from previous loop.  Assumes all identical.\n",
      "        B0_vals = [pdict[n][mu]['B0'] for n in flmt_regs[m]]\n",
      "        eta2_vals = [pdict[n][mu]['eta2'] for n in flmt_regs[m]]\n",
      "        \n",
      "        # Compute means, std errs\n",
      "        B0_avg = np.mean(B0_vals)\n",
      "        B0_err = np.std(B0_vals, ddof=1) / np.sqrt(len(B0_vals))\n",
      "        eta2_avg = np.mean(eta2_vals)\n",
      "        eta2_err = np.std(eta2_vals, ddof=1) / np.sqrt(len(eta2_vals))\n",
      "        \n",
      "        ltr = [mu] if m in flmt_left else []\n",
      "        ltr += [eta2_avg, eta2_err, B0_avg, B0_err]\n",
      "        ltab.add_row(*ltr)\n",
      "    \n",
      "    ltabs_avg[m] = ltab"
     ],
     "language": "python",
     "metadata": {},
     "outputs": []
    },
    {
     "cell_type": "markdown",
     "metadata": {},
     "source": [
      "Manually, merge together filaments 1-3 and 4-5 for the final table"
     ]
    },
    {
     "cell_type": "code",
     "collapsed": true,
     "input": [
      "print mergelt(mergelt(ltabs_avg[1], ltabs_avg[2]), ltabs_avg[3])\n",
      "print ''\n",
      "print mergelt(mergelt(ltabs_avg[4], ltabs_avg[5]), ltabs_avg[6])"
     ],
     "language": "python",
     "metadata": {},
     "outputs": []
    },
    {
     "cell_type": "heading",
     "level": 2,
     "metadata": {},
     "source": [
      "Tables of $\\vec{B}$-damping fits for all $\\eta_2$ and $a_b$ values"
     ]
    },
    {
     "cell_type": "code",
     "collapsed": true,
     "input": [
      "ltabs_all = {}\n",
      "\n",
      "n_eta2 = 1 + len(ETA2_VALS)\n",
      "latex_hdr = [r'$a_b$ (-)', r'$\\eta_2$ (-)']  # For the free one only\n",
      "latex_hdr += n_eta2 * [r'$B_0$ ($\\mu$G)', r'$\\chi^2_{\\mt{red}}$']  # 6 sets of B0/chisqr\n",
      "latex_cols = ['{:0.3f}', '{:0.3f}'] + 2*n_eta2*['{:0.2f}']\n",
      "\n",
      "# The ordering of loops is horribly wrong\n",
      "for ab in AB_VALS:\n",
      "    \n",
      "    # Dict of LaTeX table rows keyed to regions, varying eta2 value left to right\n",
      "    ltr_saved = {}\n",
      "    \n",
      "    # Iterate over file roots (free eta2/fixed eta2 value)\n",
      "    froots = [damproot_free.format(ab)]\n",
      "    froots.extend([damproot_eta2.format(ab, eta2) for eta2 in ETA2_VALS])\n",
      "    for froot in froots:\n",
      "        \n",
      "        # Iterate over each region\n",
      "        for p_list, mu_vals, n, fobj_dict in mdsp.load_fit_pkls(froot, want_fobj=True):\n",
      "            for p, mu in zip(p_list, mu_vals):  # Spoiler: there's only one mu value\n",
      "                \n",
      "                fkws = p.metadata['fit-kws']\n",
      "                ab = fkws['model_kws']['damp_ab']\n",
      "                eta2 = p['eta2'].value\n",
      "                B0 = p['B0'].value*1e6\n",
      "                chisqr = p.info['chisqr']\n",
      "                \n",
      "                # Set up LaTeX table (only on first pass) (yes, bad place to put this code)\n",
      "                if n not in ltabs_all:\n",
      "                    ltabs_all[n] = LatexTable(latex_hdr, latex_cols, 'Region {}'.format(n), prec=1)  # prec irrelevant\n",
      "                \n",
      "                # ASSUMES eta2_free is the first filename provided\n",
      "                if n not in ltr_saved:\n",
      "                    ltr_saved[n] = [ab, eta2]\n",
      "                \n",
      "                ltr_saved[n] += [B0, chisqr]\n",
      "    \n",
      "    for n in ltabs_all:\n",
      "        ltr = ltr_saved[n]\n",
      "        ltabs_all[n].add_row(*ltr)"
     ],
     "language": "python",
     "metadata": {},
     "outputs": []
    },
    {
     "cell_type": "code",
     "collapsed": true,
     "input": [
      "for n in ltabs_all:\n",
      "    print ltabs_all[n]\n",
      "    print''"
     ],
     "language": "python",
     "metadata": {},
     "outputs": []
    },
    {
     "cell_type": "code",
     "collapsed": true,
     "input": [
      "print ltabs_all[1], '\\n', ltabs_all[16]"
     ],
     "language": "python",
     "metadata": {},
     "outputs": []
    },
    {
     "cell_type": "heading",
     "level": 2,
     "metadata": {},
     "source": [
      "Table of $m_E$ values from best loss-limited and damped fits ($\\mu = 1$; $a_b < 0.01$)"
     ]
    },
    {
     "cell_type": "markdown",
     "metadata": {},
     "source": [
      "NOTE: I use old `fglists.dat`, `itmax=1000`, `inmax=100` to be consistent.<br>\n",
      "The stored SNR object will have the old radio spectral index (and hence s = 2.25 or whatever)"
     ]
    },
    {
     "cell_type": "code",
     "collapsed": false,
     "input": [
      "n_mE_vals = len(labels) - 1\n",
      "\n",
      "latex_hdr = [r'Region'] + 2*n_mE_vals*[r'$m_{\\mt{E}}$'] + [r'$a_b$']\n",
      "latex_cols = ['{:d}'] + 2*n_mE_vals*['{:0.2f}'] + ['{:0.3f}']\n",
      "ltab = LatexTable(latex_hdr, latex_cols, 'Best fit curve mE values', prec=2)\n",
      "\n",
      "for p_list, mu_vals, fobj, n in mdsp.load_fit_pkls_new(fitroot):\n",
      "    \n",
      "    kevs_loss, fwhms_loss = mdsp.best_fit_fwhms(p_list, mu_vals, fobj, kevs_calc=None, mu_calc=[1],\n",
      "                                     fgfname='fglists.dat', itmax=1000, inmax=100)\n",
      "    mE_loss = m_expt(kevs_loss, fwhms_loss)\n",
      "    \n",
      "    # Pull up best damping fit\n",
      "    ab = AB_BEST[n]\n",
      "    droot = damproot_free.format(ab)\n",
      "    p_list2, mu_vals2, fobj2 = mdsp.load_fit_pkl(droot, n)  # Bad construction...\n",
      "    \n",
      "    kevs_damp, fwhms_damp = mdsp.best_fit_fwhms(p_list2, mu_vals2, fobj2)\n",
      "    mE_damp = m_expt(kevs_damp, fwhms_damp)\n",
      "    \n",
      "    assert len(mE_loss) == len(mE_damp)\n",
      "    \n",
      "    ltr = [n]\n",
      "    if len(mE_loss) < n_mE_vals:\n",
      "        nanarr = float('nan')*np.ones(n_mE_vals-len(mE_loss))\n",
      "        mE_loss = np.insert(mE_loss, 0, nanarr)\n",
      "        mE_damp = np.insert(mE_damp, 0, nanarr)\n",
      "    \n",
      "    ltr = [n] + list(mE_loss) + list(mE_damp) + [ab]\n",
      "    ltab.add_row(*ltr)\n",
      "\n",
      "ltab_out = str(ltab)\n",
      "print re.sub(r'nan', r'     ', ltab_out)  # Remove m_E nans"
     ],
     "language": "python",
     "metadata": {},
     "outputs": []
    },
    {
     "cell_type": "heading",
     "level": 2,
     "metadata": {},
     "source": [
      "Summary table of best loss-limited _and_ damped fits ($\\mu = 1$; $a_b < 0.01$)"
     ]
    },
    {
     "cell_type": "code",
     "collapsed": true,
     "input": [
      "latex_hdr = [r'Region', ] + 2*[r'$\\eta_2$ (-)', r'$B_0$ ($\\mu$G)', r'$\\chi^2$'] + [r'$a_b$']\n",
      "latex_cols = ['{:d}'] + 2*['{:0.2f}', '{:0.1f}', '{:0.2f}'] + ['{:0.3f}']\n",
      "ltab = LatexTable(latex_hdr, latex_cols, 'Best fits for $\\mu = 1$', prec=1)\n",
      "\n",
      "for p_list, mu_vals, fobj, n in mdsp.load_fit_pkls_new(fitroot):\n",
      "\n",
      "    # Get best loss-limited fit parameters for mu=1 only\n",
      "    for p, mu in zip(p_list, mu_vals):\n",
      "        if 0.9 < mu < 1.1:  # Get mu=1 only\n",
      "            break\n",
      "    ltr = [n, p['eta2'].value, p['B0'].value * 1e6, p.info['chisqr']]\n",
      "    \n",
      "    # Get best damped fit with ab < 0.010\n",
      "    ab = AB_BEST[n]\n",
      "    droot = damproot_free.format(ab)\n",
      "    p_list2, mu_vals2, fobj2 = mdsp.load_fit_pkl(droot, n)\n",
      "    \n",
      "    assert 0.95 < mu_vals2[0] < 1.05, 'Expecting mu=1 only for damped fits!'\n",
      "    p2 = p_list2[0]\n",
      "    ltr += [p2['eta2'].value, p2['B0'].value * 1e6, p2.info['chisqr'], ab]\n",
      "    \n",
      "    ltab.add_row(*ltr)\n",
      "\n",
      "print ltab"
     ],
     "language": "python",
     "metadata": {},
     "outputs": []
    },
    {
     "cell_type": "heading",
     "level": 2,
     "metadata": {},
     "source": [
      "Summary table of best loss-limited _and_ damped fits ($\\mu = \\eta_2 = 1$; $a_b < 0.01$)"
     ]
    },
    {
     "cell_type": "markdown",
     "metadata": {},
     "source": [
      "Results for loss-limited fit TBA... so I am using $a_b = 0.5$ results in lieu of true loss-limited fits for now!"
     ]
    },
    {
     "cell_type": "code",
     "collapsed": true,
     "input": [
      "latex_hdr = [r'Region', ] + 2*[r'$B_0$ ($\\mu$G)', r'$\\chi^2$'] + [r'$a_b$']\n",
      "latex_cols = ['{:d}'] + 2*['{:0.1f}', '{:0.2f}'] + ['{:0.3f}']\n",
      "ltab = LatexTable(latex_hdr, latex_cols, 'Best fits for $\\mu = 1$', prec=1)\n",
      "\n",
      "for p_list, mu_vals, fobj, n in mdsp.load_fit_pkls_new(damproot_eta2.format(0.5, 1)):  # Change to fitroot_eta2 or something\n",
      "\n",
      "    # Get best loss-limited fit parameters for mu=1 only\n",
      "    for p, mu in zip(p_list, mu_vals):\n",
      "        if 0.9 < mu < 1.1:  # Get mu=1 only\n",
      "            break\n",
      "    ltr = [n, p['B0'].value * 1e6, p.info['chisqr']]\n",
      "    \n",
      "    # Get best damped fit with ab < 0.010\n",
      "    ab = AB_BEST[n]\n",
      "    droot = damproot_free.format(ab)\n",
      "    p_list2, mu_vals2, fobj2 = mdsp.load_fit_pkl(droot, n)\n",
      "    \n",
      "    assert 0.95 < mu_vals2[0] < 1.05, 'Expecting mu=1 only for damped fits!'\n",
      "    p2 = p_list2[0]\n",
      "    ltr += [p2['B0'].value * 1e6, p2.info['chisqr'], ab]\n",
      "    \n",
      "    ltab.add_row(*ltr)\n",
      "\n",
      "print ltab"
     ],
     "language": "python",
     "metadata": {},
     "outputs": []
    },
    {
     "cell_type": "heading",
     "level": 1,
     "metadata": {},
     "source": [
      "2. Slew of plots -- intensity profiles, best fit curves/data, etc"
     ]
    },
    {
     "cell_type": "heading",
     "level": 2,
     "metadata": {},
     "source": [
      "Giant grid of energy-width data and best-fit curves (loss-limited and damped) (postage stamps)"
     ]
    },
    {
     "cell_type": "markdown",
     "metadata": {},
     "source": [
      "Many plot settings to customize in here!\n",
      "\n",
      "Image of _Chandra_ downloaded from [CXC artist's illustrations](http://chandra.harvard.edu/resources/illustrations/craftIllustrations.html).  Image is titled _Spacecraft in Orbit_, file `msfc_chandra.pdf` converted to png with Imagemagick using:\n",
      "\n",
      "    convert -density 80 msfc_chandra.pdf msfc_chandra.png\n",
      "\n",
      "This is inefficient as output pdf includes 20 of the same raster, I think."
     ]
    },
    {
     "cell_type": "code",
     "collapsed": false,
     "input": [
      "# Tycho\n",
      "#plot_pts = np.linspace(0.4, 5, 41)  # Get many pts for final plot(s)\n",
      "#plot_pts = np.unique(np.concatenate((plot_pts, np.array([0.7, 1.0, 2.0, 3.0, 4.5]))))  # Also sorts plot_pts\n",
      "\n",
      "# SN 1006\n",
      "plot_pts = np.linspace(0.4, 2.5, 41)  # Get many pts for final plot(s)\n",
      "plot_pts = np.unique(np.concatenate((plot_pts, np.array([0.7, 1.0, 2.0]))))  # Also sorts plot_pts\n",
      "\n",
      "plt_suffix = '-energywidth-subplot-stamp.pdf'\n",
      "postage_stamp = True"
     ],
     "language": "python",
     "metadata": {},
     "outputs": []
    },
    {
     "cell_type": "markdown",
     "metadata": {},
     "source": [
      "Compute the modeled FWHMs for $\\mu=1$ only (where FWHMs are not computed, they are automatically masked out)"
     ]
    },
    {
     "cell_type": "code",
     "collapsed": false,
     "input": [
      "data_points = {}\n",
      "loss_curves = {}\n",
      "damp_curves = {}\n",
      "\n",
      "# Iterate over loss-limited best fits\n",
      "for p_list, mu_vals, fobj, n in mdsp.load_fit_pkls_new(fitroot):\n",
      "    if n > 20:  # Ignore 21, 22  # Ad hoc workaround for Tycho!\n",
      "        break\n",
      "    \n",
      "    data_points[n] = fobj.kevs, fobj.data, fobj.eps\n",
      "    loss_curves[n] = mdsp.best_fit_fwhms(p_list, mu_vals, fobj,\n",
      "                                         kevs_calc=plot_pts, mu_calc=[1], get_mask=False)\n",
      "    \n",
      "    ab = AB_BEST[n]\n",
      "    droot = damproot_free.format(ab)\n",
      "    p_list2, mu_vals2, fobj2 = mdsp.load_fit_pkl(droot, n)\n",
      "    damp_curves[n] = mdsp.best_fit_fwhms(p_list2, mu_vals2, fobj2,\n",
      "                                         kevs_calc=plot_pts, mu_calc=[1], get_mask=False)"
     ],
     "language": "python",
     "metadata": {},
     "outputs": []
    },
    {
     "cell_type": "markdown",
     "metadata": {},
     "source": [
      "Below cell is for Tycho only"
     ]
    },
    {
     "cell_type": "code",
     "collapsed": false,
     "input": [
      "fig, axes = plt.subplots(nrows=5, ncols=4, sharex=True, sharey=False, figsize=(8.5, 10))\n",
      "axes_list = np.ravel(axes, order='C')  # For iteration\n",
      "if postage_stamp:\n",
      "    msfc_chandra = plt.imread('msfc_chandra.png')\n",
      "\n",
      "for n, ax in zip(data_points, axes_list):\n",
      "    \n",
      "    # Plot data and curves\n",
      "    kevs, data, eps = data_points[n]\n",
      "    kevs_loss, data_loss = loss_curves[n]\n",
      "    kevs_damp, data_damp = damp_curves[n]\n",
      "\n",
      "    ax.errorbar(kevs, data, eps, fmt='ok', markersize=3, label='Data')\n",
      "    ax.plot(kevs_loss, data_loss, ':b', label='Loss-limited')\n",
      "    ax.plot(kevs_damp, data_damp, '-k', alpha=0.7, label='Damped')\n",
      "\n",
      "    # Compute all axis limits\n",
      "    kevs_all = np.concatenate((kevs, kevs_loss, kevs_damp))\n",
      "    _gap = 1.2*max(eps) + 0.05  # 0.05 is fudge factor to round down/up to nearest 1/10ths place\n",
      "    xmin, xmax = min(kevs_all), max(kevs_all)\n",
      "    ymin, ymax = round(min(data) - _gap, 1), round(max(data) + _gap, 1)\n",
      "    \n",
      "    # Customize to get nicer tickmarks\n",
      "    if n == 2:\n",
      "        ymin = 2\n",
      "    elif n == 3:\n",
      "        ymin, ymax = 1.2, 2.6\n",
      "    elif n == 7:\n",
      "        ymin = 1.6\n",
      "    elif n == 8:\n",
      "        ymax = 3.0\n",
      "    elif n == 11:\n",
      "        ymin = 1.5\n",
      "    elif n == 14:\n",
      "        ymin = 2.0\n",
      "    elif n == 15:\n",
      "        ymin = 1.4\n",
      "    elif n == 19:\n",
      "        ymin = 1.0\n",
      "    \n",
      "    # Annotations for individual subplots\n",
      "    if postage_stamp:\n",
      "        ax.imshow(msfc_chandra, alpha=0.25, extent=(xmin,xmax, ymin,ymax))\n",
      "        ax.axis('tight')  # Forces matplotlib to obey ax.set_[x,y]lim\n",
      "        \n",
      "        ax.text(0.4, 0.88, r'\\emph{FOREVER} \\textbar~USA', fontsize=8, color='white',\n",
      "                transform=ax.transAxes, horizontalalignment='left')\n",
      "    else:\n",
      "        if n == 1:\n",
      "            ax.legend(loc='best', prop={'size':7})\n",
      "\n",
      "        _xpos = 0.4 if n == 1 else 0.82  # If figure sizing changes, update position\n",
      "        _ypos = 0.8\n",
      "        ax.text(_xpos, _ypos, str(n), fontsize=14,\n",
      "                transform=ax.transAxes, horizontalalignment='right')\n",
      "    \n",
      "    # Apply axis limits, tickmarks, labels\n",
      "    ax.set_xlim((xmin,xmax))\n",
      "    ax.set_ylim((ymin,ymax))\n",
      "    \n",
      "    if n > 16:\n",
      "        ax.set_xlabel('Energy (keV)')\n",
      "    if (n-1)%4 == 0:\n",
      "        ax.set_ylabel('FWHM (arcsec.)')\n",
      "    \n",
      "    ax.set_xticks([1.0, 2.0, 3.0, 4.0, 5.0])\n",
      "    ax.minorticks_on()\n",
      "    \n",
      "plt.tight_layout()\n",
      "plt.savefig(plt_outroot + plt_suffix, dpi=300)\n",
      "plt.show()"
     ],
     "language": "python",
     "metadata": {},
     "outputs": []
    },
    {
     "cell_type": "markdown",
     "metadata": {},
     "source": [
      "Below is for SN 1006 only"
     ]
    },
    {
     "cell_type": "code",
     "collapsed": false,
     "input": [
      "fig, axes = plt.subplots(nrows=2, ncols=3, sharex=True, sharey=False, figsize=(6.5, 4))\n",
      "axes_list = np.ravel(axes, order='C')  # For iteration\n",
      "if postage_stamp:\n",
      "    msfc_chandra = plt.imread('msfc_chandra.png')\n",
      "\n",
      "for n, ax in zip(data_points, axes_list):\n",
      "    \n",
      "    # Plot data and curves\n",
      "    kevs, data, eps = data_points[n]\n",
      "    kevs_loss, data_loss = loss_curves[n]\n",
      "    kevs_damp, data_damp = damp_curves[n]\n",
      "\n",
      "    ax.errorbar(kevs, data, eps, fmt='ok', markersize=3, label='Data')\n",
      "    ax.plot(kevs_loss, data_loss, ':b', label='Loss-limited')\n",
      "    ax.plot(kevs_damp, data_damp, '-k', alpha=0.7, label='Damped')\n",
      "\n",
      "    # Compute all axis limits\n",
      "    kevs_all = np.concatenate((kevs, kevs_loss, kevs_damp))\n",
      "    _gap = 1.2*max(eps) + 0.05  # 0.05 is fudge factor to round down/up to nearest 1/10ths place\n",
      "    xmin, xmax = min(kevs_all), max(kevs_all)\n",
      "    ymin, ymax = round(min(data) - _gap, 1), round(max(data) + _gap, 1)\n",
      "    \n",
      "    #  Customize to get nicer tickmarks\n",
      "    if n == 1:\n",
      "        ymax = 38\n",
      "    elif n == 2:\n",
      "        ymin, ymax = 10, 26\n",
      "    elif n == 3:\n",
      "        ymax = 55\n",
      "    elif n == 4:\n",
      "        ymax = 32\n",
      "    elif n== 5:\n",
      "        ymin = 23\n",
      "    \n",
      "    # Annotations for individual subplots\n",
      "    if postage_stamp:\n",
      "        ax.imshow(msfc_chandra, alpha=0.25, extent=(xmin,xmax, ymin,ymax))\n",
      "        ax.axis('tight')  # Forces matplotlib to obey ax.set_[x,y]lim\n",
      "        \n",
      "        ax.text(0.4, 0.88, r'\\emph{FOREVER} \\textbar~USA', fontsize=8, color='white',\n",
      "                transform=ax.transAxes, horizontalalignment='left')\n",
      "    else:\n",
      "        if n == 1:\n",
      "            ax.legend(loc='best', prop={'size':7})\n",
      "\n",
      "        _xpos = 0.4 if n == 1 else 0.82  # If figure sizing changes, update position\n",
      "        _ypos = 0.8\n",
      "        ax.text(_xpos, _ypos, str(n), fontsize=14,\n",
      "                transform=ax.transAxes, horizontalalignment='right')\n",
      "    \n",
      "    # Apply axis limits, tickmarks, labels\n",
      "    ax.set_xlim((xmin,xmax))\n",
      "    ax.set_ylim((ymin,ymax))\n",
      "    \n",
      "    if n > 3:\n",
      "        ax.set_xlabel('Energy (keV)')\n",
      "    if (n-1)%3 == 0:\n",
      "        ax.set_ylabel('FWHM (arcsec.)')\n",
      "    \n",
      "    #ax.set_xticks([1.0, 2.0, 3.0, 4.0, 5.0])\n",
      "    ax.minorticks_on()\n",
      "    \n",
      "plt.tight_layout()\n",
      "plt.savefig(plt_outroot + plt_suffix, dpi=300)\n",
      "plt.show()"
     ],
     "language": "python",
     "metadata": {},
     "outputs": []
    },
    {
     "cell_type": "heading",
     "level": 2,
     "metadata": {},
     "source": [
      "Plot best damped fit $m_{\\mathrm{E}}$ values as a function of energy, all regions"
     ]
    },
    {
     "cell_type": "markdown",
     "metadata": {},
     "source": [
      "Goal is to show dichotomy in best fits.  This replaces the giant table of $m_{\\mathrm{E}}$ values."
     ]
    },
    {
     "cell_type": "code",
     "collapsed": false,
     "input": [
      "# Tycho setup\n",
      "#kevs_m = np.linspace(0.1, 5, 41)  # Set to high # for final plots\n",
      "#kevs_m = np.append(kevs_m, np.logspace(-3, -1, 20, endpoint=False))\n",
      "#kevs_m = np.sort(kevs_m)\n",
      "\n",
      "# SN 1006 setup\n",
      "kevs_m = np.logspace(-1.1, 0.7, 50)\n",
      "\n",
      "plt_fname = plt_outroot + '-mE-damp.pdf'"
     ],
     "language": "python",
     "metadata": {},
     "outputs": []
    },
    {
     "cell_type": "code",
     "collapsed": false,
     "input": [
      "hitlist = []\n",
      "mE_plot = {}\n",
      "\n",
      "for n_iter in xrange(max(AB_BEST)):  # Enforce ordering\n",
      "    n = n_iter + 1\n",
      "    \n",
      "    # Load best damped fit\n",
      "    ab = AB_BEST[n]\n",
      "    droot = damproot_free.format(ab)\n",
      "    p_list, mu_vals, fobj = mdsp.load_fit_pkl(droot, n)\n",
      "    \n",
      "    # Compute FWHMs and m_E values, keeping computation mask to flag\n",
      "    _ = mdsp.best_fit_fwhms(p_list, mu_vals, fobj,\n",
      "                            kevs_calc=kevs_m, mu_calc=[1], get_mask=True)\n",
      "    kevs_out, fwhms_out, msk_calc = _\n",
      "    mE_vals = m_expt(kevs_out, fwhms_out)\n",
      "    mE_plot[n] = kevs_out[1:], mE_vals\n",
      "\n",
      "    if any(mE_vals < -0.5) or not all(msk_calc):\n",
      "        print '----- Region {:02d} has mE < -0.5 or NaN FWHMs -----'.format(n)\n",
      "        hitlist.append(n)"
     ],
     "language": "python",
     "metadata": {},
     "outputs": []
    },
    {
     "cell_type": "code",
     "collapsed": false,
     "input": [
      "plt.figure(figsize=(3.5, 2.6))\n",
      "\n",
      "for n_iter in xrange(max(AB_BEST)):  # Enforce ordering\n",
      "    n = n_iter + 1\n",
      "    kevs, mE_vals = mE_plot[n]\n",
      "    plt.plot(kevs, mE_vals, alpha=0.8, label=r'Region {:02d}'.format(n))  # Let matplotlib cycle the colors for now\n",
      "\n",
      "fplot('Energy (keV)', r'$m_{\\mathrm{E}}$', axargs='tight')\n",
      "\n",
      "plt.xscale('log')\n",
      "plt.legend(loc='best')  # For SN 1006\n",
      "plt.ylim(bottom=-2.0)   # SN 1006\n",
      "plt.tight_layout()\n",
      "plt.savefig(plt_fname, dpi=300)\n",
      "plt.show()\n",
      "print 'Hitlist: ', hitlist"
     ],
     "language": "python",
     "metadata": {},
     "outputs": []
    },
    {
     "cell_type": "heading",
     "level": 2,
     "metadata": {},
     "source": [
      "Intensity profiles for best fit parameters (damped and loss-limited at $\\mu=1$)."
     ]
    },
    {
     "cell_type": "markdown",
     "metadata": {},
     "source": [
      "Customize code to plot variety of energies as desired (lower X-ray to UV energies, radio wavelengths)"
     ]
    },
    {
     "cell_type": "code",
     "collapsed": false,
     "input": [
      "plot_kws = {'irmax': 400, 'iradmax': 200, 'rminarc': 60, 'irad_adapt': False}\n",
      "rsarc = snrcat.make_SN1006().rsarc\n",
      "plt_suffix = '-prfs_{:02d}.pdf'\n",
      "\n",
      "manuscript_profiles = True  # If True, kevs_plot is not used (drawn from stored fits instead)\n",
      "# when low energy FWHMs are missing, colors/linestyles are truncated on the left (use values on right)\n",
      "\n",
      "kevs_plot = np.array([0.7, 1.0, 2.0])\n",
      "colors = ['magenta', 'green', 'blue']\n",
      "linestyles = 3*['-']\n",
      "\n",
      "#kevs_plot = np.array([0.7, 1.0, 2.0, 3.0, 4.5])\n",
      "#colors = ['orange', 'magenta', 'green', 'blue', 'black']\n",
      "#linestyles = ['-', '-', '-', '-', '-']\n",
      "\n",
      "#kevs_plot = np.array([0.05, 0.1, 0.2, 0.5, 1., 2., 4.])  # lots of low energies\n",
      "#colors =     ['b', 'g', 'm', 'k', 'k',  'm',  'g']\n",
      "#linestyles = [':', ':', ':', ':', '--', '--', '--']\n",
      "\n",
      "#kevs_plot = np.array([4.136e-9, 2.07e-8, 1., 4.5])  # Radio wavelengths\n"
     ],
     "language": "python",
     "metadata": {},
     "outputs": []
    },
    {
     "cell_type": "code",
     "collapsed": false,
     "input": [
      "loss_prfs = {}\n",
      "damp_prfs = {}\n",
      "\n",
      "for p_list, mu_vals, fobj, n in mdsp.load_fit_pkls_new(fitroot):\n",
      "    \n",
      "    if not manuscript_profiles:\n",
      "        kevs_calc = kevs_plot\n",
      "    else:\n",
      "        kevs_calc = fobj.kevs\n",
      "        \n",
      "        if p_list[0].snr.name == 'Tycho':\n",
      "            if n == 1:\n",
      "                plot_kws['rminarc'] = 16\n",
      "            elif n == 16:\n",
      "                plot_kws['rminarc'] = 5\n",
      "            else:\n",
      "                plot_kws['rminarc'] = 10\n",
      "    \n",
      "    # Get best loss-limited fit intensity profiles\n",
      "    loss_prfs[n] = mdsp.best_fit_fwhms(p_list, mu_vals, fobj, kevs_calc = kevs_calc, mu_calc=[1],\n",
      "                                    get_mask=False, get_prfs=True,\n",
      "                                    fgfname='fglists.dat', itmax=500, inmax=100,\n",
      "                                    **plot_kws)\n",
      "    \n",
      "    # Get best damped fit intensity profiles\n",
      "    ab = AB_BEST[n]\n",
      "    droot = damproot_free.format(AB_BEST[n])\n",
      "    p_list2, mu_vals2, fobj2 = mdsp.load_fit_pkl(droot, n)\n",
      "    \n",
      "    damp_prfs[n] = mdsp.best_fit_fwhms(p_list2, mu_vals2, fobj2, kevs_calc = kevs_calc, mu_calc=[1],\n",
      "                                    get_mask=False, get_prfs=True,\n",
      "                                    **plot_kws)"
     ],
     "language": "python",
     "metadata": {},
     "outputs": []
    },
    {
     "cell_type": "code",
     "collapsed": false,
     "input": [
      "for n in np.sort(loss_prfs.keys()):  # Enforce ordering...\n",
      "    \n",
      "    # Set up subplot\n",
      "    fig, axes = plt.subplots(1, 2, figsize=(6, 3), sharey=True)\n",
      "    ax1, ax2 = axes\n",
      "    \n",
      "    # Unload data and check that all makes sense\n",
      "    ab = AB_BEST[n]\n",
      "    kevs_m, _ = loss_prfs[n]\n",
      "    fwhms_m, intensity_m, rgrids_m = _\n",
      "    kevs_d, _ = damp_prfs[n]\n",
      "    fwhms_d, intensity_d, rgrids_d = _\n",
      "    assert np.array_equal(kevs_m, kevs_d)\n",
      "    \n",
      "    # Subset if kevs_m is missing values\n",
      "    if manuscript_profiles and len(kevs_m) < len(colors):\n",
      "        ndiff = len(colors) - len(kevs_m)\n",
      "        clr_plt = colors[ndiff:]\n",
      "        ls_plt = linestyles[ndiff:]\n",
      "    else:\n",
      "        clr_plt = colors\n",
      "        ls_plt = linestyles\n",
      "    \n",
      "    # Plot elements -- visual\n",
      "    ax1.axhline(y=0.5, color='k', alpha=0.5, ls='-')  # Show where FWHM is being measured\n",
      "    ax2.axhline(y=0.5, color='k', alpha=0.5, ls='-')\n",
      "    ax2.axvspan((1-ab)*rsarc, rsarc, color='0.2', alpha=0.1)  # Shade in damping lengthscale\n",
      "    \n",
      "    map(lambda x, c: ax1.axvline(rsarc-x, ymin=0, ymax=0.5, c=c, ls=':'), fwhms_m, clr_plt)\n",
      "    map(lambda x, c: ax2.axvline(rsarc-x, ymin=0, ymax=0.5, c=c, ls=':'), fwhms_d, clr_plt)\n",
      "    \n",
      "    for en, idx in zip(kevs_m, xrange(len(kevs_m))):\n",
      "        ax1.plot(rgrids_m[idx], intensity_m[idx] / np.amax(intensity_m[idx]), linestyle=ls_plt[idx], c=clr_plt[idx])\n",
      "        ax2.plot(rgrids_d[idx], intensity_d[idx] / np.amax(intensity_d[idx]), linestyle=ls_plt[idx], c=clr_plt[idx],\n",
      "                 label=r'{:0.2f} keV'.format(en))\n",
      "    \n",
      "    # Formatting plot (labels, limits, annotations, etc)\n",
      "    fplot('Radial position (arcsec.)', 'Intensity (a.u.)', ax=ax1, axargs='tight')\n",
      "    fplot('Radial position (arcsec.)', '', ax=ax2, axargs='tight')\n",
      "    ax1.set_title('Loss-limited profiles')\n",
      "    ax2.set_title('Damped profiles')\n",
      "    ax1.set_ylim(0., 1.01)\n",
      "    ax2.set_ylim(0., 1.01)\n",
      "    \n",
      "    # Annotations\n",
      "    ax1.text(0.15, 0.82, str(n),  # Print region number\n",
      "             fontsize=18, transform=ax1.transAxes,\n",
      "             horizontalalignment='left')\n",
      "    if n == 16:  # For manuscript, assuming region 16 is last one to be plotted\n",
      "        ax2.legend(loc='best', prop={'size':8})\n",
      "\n",
      "    plt.tight_layout()\n",
      "    plt.savefig(plt_outroot + plt_suffix.format(n), dpi=300)  # dpi irrelevant here\n",
      "    plt.show()"
     ],
     "language": "python",
     "metadata": {},
     "outputs": []
    },
    {
     "cell_type": "heading",
     "level": 1,
     "metadata": {},
     "source": [
      "3. Generate plots to explore parameter space (not based on fits, can be split to new notebook)"
     ]
    },
    {
     "cell_type": "markdown",
     "metadata": {},
     "source": [
      "Replan -- we want to explore parameter space.\n",
      "what radio wavelengths to look at?\n",
      "\n",
      "just stick to 1 GHz, and plot the line of fwhm."
     ]
    },
    {
     "cell_type": "code",
     "collapsed": false,
     "input": [
      "parspace_fname = '../../../Desktop/pargrid-bmin_5-large.pdf'\n",
      "\n",
      "params = [( 1, float('inf'), [10e-6, 15e-6, 20e-6, 30e-6, 50e-6, 400e-6]),\n",
      "          ( 1, 0.05,  [10e-6, 15e-6, 20e-6, 30e-6, 50e-6, 400e-6]),\n",
      "          ( 1, 0.02,  [10e-6, 15e-6, 20e-6, 30e-6, 50e-6, 400e-6]),\n",
      "          ( 1, 0.005, [10e-6, 15e-6, 20e-6, 30e-6, 50e-6, 400e-6]),\n",
      "          ( 1, 0.002, [10e-6, 15e-6, 20e-6, 30e-6, 50e-6, 400e-6]),]\n",
      "\n",
      "kevs = np.array([4.136e-9, 0.4, 1.0, 4.0])\n",
      "fmts = ['--r', '-g', '-k', '-b']\n",
      "\n",
      "kws = {'irmax':400, 'iradmax':800, 'rminarc':120, 'irad_adapt':False,\n",
      "       'damp_bmin': 5e-6}\n",
      "snr = snrcat.make_tycho()\n",
      "\n",
      "nrows, ncols = len(params), max(map(lambda x: len(x[2]), params))\n",
      "fig, axes = plt.subplots(nrows, ncols, sharex=True, sharey=True,\n",
      "                         figsize=(4*ncols, 3*nrows))\n",
      "\n",
      "for row_pars, ax_list in zip(params, axes):\n",
      "    \n",
      "    eta2, ab, B0_list = row_pars\n",
      "    for B0, ax in zip(B0_list, ax_list):\n",
      "        \n",
      "        idamp_flag = ab < 1.0\n",
      "        _ = models.full_width(snr, kevs, 1.0, eta2, B0,\n",
      "                              get_prfs=True, idamp=idamp_flag, damp_ab=ab,\n",
      "                              **kws)\n",
      "        fwhms, igrids, rgrids = _\n",
      "        \n",
      "        # Standard subplot\n",
      "        for i in xrange(len(kevs)):\n",
      "            ax.axhline(y=0.5, alpha=1, color='y')\n",
      "            if idamp_flag:\n",
      "                ax.axvspan((1-ab)*snr.rsarc, snr.rsarc, color='0.2', alpha=0.1)\n",
      "            ax.plot(rgrids[i], igrids[i] / np.amax(igrids[i]), fmts[i], label=r'{:0.2g} keV'.format(kevs[i]))\n",
      "            ax.text(0.1, 0.05, r'$B_0 = {:0.1f}$'.format(B0*1e6), fontsize=12,\n",
      "                    transform=ax.transAxes, horizontalalignment='left')\n",
      "            ax.set_xlim(ax.get_xlim()[0], snr.rsarc)\n",
      "            ax.set_ylim(0., 1.01)\n",
      "        \n",
      "        # Target certain subplots for legend, plot axes, etc\n",
      "        if B0 is B0_list[-1]:  # Last plot of each row (B0_list can be smaller than ax_list)\n",
      "            ax.legend(loc='upper left', prop={'size':8})\n",
      "        \n",
      "        if ax is ax_list[0]:  # Left-most subplot in row\n",
      "            ax.set_ylabel('Intensity (a.u.)')\n",
      "            row_lab = r'$\\eta_2$, $a_b = {:0.1f}$, '.format(eta2)\n",
      "            row_lab += r'${:0.3f}$'.format(ab) if idamp_flag else '$\\infty$'\n",
      "            ax.text(0.1, 0.15, row_lab, fontsize=12,\n",
      "                    transform=ax.transAxes, horizontalalignment='left')\n",
      "        if ax in axes[-1, :]:  # Bottom row of subplots\n",
      "            ax.set_xlabel('Radial position (arcsec.)')\n",
      "\n",
      "plt.tight_layout()\n",
      "plt.savefig(parspace_fname, dpi=300)  # dpi irrelevant here\n",
      "plt.show()"
     ],
     "language": "python",
     "metadata": {},
     "outputs": []
    }
   ],
   "metadata": {}
  }
 ]
}