{
 "metadata": {
  "name": "",
  "signature": "sha256:d83c7d427009c9d732b4affa4cc4546867565220b158cd7e710772fdd1ac2f76"
 },
 "nbformat": 3,
 "nbformat_minor": 0,
 "worksheets": [
  {
   "cells": [
    {
     "cell_type": "heading",
     "level": 1,
     "metadata": {},
     "source": [
      "Notebook to generate nice tables, plots for paper (manipulating fit outputs)"
     ]
    },
    {
     "cell_type": "markdown",
     "metadata": {},
     "source": [
      "Basically, make a new one for each SNR -- it's probably easier/simpler,\n",
      "because depending on the number of tables, values/averages being reported, etc.,\n",
      "you'll have to twiddle the layout, change headers, etc.\n",
      "\n",
      "So, not really worth refactoring this module"
     ]
    },
    {
     "cell_type": "markdown",
     "metadata": {},
     "source": [
      "More generally, I'm using this notebook to load all the fit data -- and generate tons of derived output, calculations, or presentation based on the best fit parameters.  It's a bit of a mess.\n",
      "\n",
      "But, in principle, all cell groups after the data loading should be quite independent.  They all just take advantage of a set of common imports + manipulations of the same data, loaded in a consistent way.  So it's sort of like a giant lab notebook.  It's roughly sectioned as:\n",
      "\n",
      "1. Tables of fit parameters, in many variations\n",
      "2. Plots illustrating best fits, whether profiles, width-energy dep., etc."
     ]
    },
    {
     "cell_type": "code",
     "collapsed": true,
     "input": [
      "%pylab --no-import-all\n",
      "%matplotlib inline\n",
      "# ('gtk', 'inline', 'osx', 'qt', 'qt4', 'tk', 'wx')\n",
      "%load_ext autoreload\n",
      "%autoreload 2\n",
      "from fplot import fplot, show_mplrc_settings\n",
      "\n",
      "from __future__ import division\n",
      "\n",
      "import cPickle as pickle\n",
      "from glob import glob\n",
      "import re\n",
      "\n",
      "import models\n",
      "import models_exec as mex\n",
      "import models_disp as mdsp\n",
      "from nice_tables import LatexTable\n",
      "from nice_tables import merge_latex_tables as mergelt\n",
      "import snr_catalog as snrcat\n",
      "\n",
      "# For reference\n",
      "show_mplrc_settings()"
     ],
     "language": "python",
     "metadata": {},
     "outputs": []
    },
    {
     "cell_type": "heading",
     "level": 1,
     "metadata": {},
     "source": [
      "0. Set-up: data to use, plot output path, etc"
     ]
    },
    {
     "cell_type": "markdown",
     "metadata": {},
     "source": [
      "I'm not sure how to best manage the different filenames but I figure this is better than burying them all in-line"
     ]
    },
    {
     "cell_type": "code",
     "collapsed": false,
     "input": [
      "# TYCHO\n",
      "labels = ['0.7-1kev', '1-1.7kev', '2-3kev', '3-4.5kev', '4.5-7kev']\n",
      "labels_nice = [r'0.7--1 keV', r'1--1.7 keV', r'2--3 keV', r'3--4.5 keV', r'4.5--7 keV']\n",
      "\n",
      "fit_dir = '../../data-tycho/regions-6/fwhms-subbkg/model-fits/'\n",
      "plt_outroot = '../../data-tycho/regions-6/fwhms-subbkg/model-fit-plots/'\n",
      "\n",
      "fitroot = fit_dir + 'full-man_err'\n",
      "fitroot_eta2_one = fit_dir + 'full-std_err-eta2_one'\n",
      "fitroot_eta2_ten = fit_dir + 'full-std_err-eta2_1.00e+01'\n",
      "fitroot_srcutlog = fit_dir + 'full-std_err-srcutlog'\n",
      "\n",
      "damproot_free = fit_dir + 'full-std_err-ab_{:0.2e}-eta2_free'\n",
      "damproot_eta2 = fit_dir + 'full-std_err-ab_{:0.2e}-eta2_{eta2:0.2e}'\n",
      "damproot_mu = fit_dir + 'full-std_err-mu_all-ab_{:0.2e}-eta2_1.00e+00'\n",
      "damproot_bmin = fit_dir + 'full-std_err-ab_{:0.2e}-eta2_{eta2:0.2e}-Bmin_{bmin:0.2e}'\n",
      "damproot_srcutlog = fit_dir + 'full-std_err-ab_{:0.2e}-eta2_srcutlog'\n",
      "# Assign names to all fields other than ab\n",
      "\n",
      "# For damped fits only\n",
      "AB_VALS = [0.5, 0.05, 0.04, 0.03, 0.02, 0.01, 0.009, 0.008, 0.007, 0.006, 0.005, 0.004, 0.003, 0.002]\n",
      "ETA2_VALS = [0.01, 0.1, 1., 2., 10.]"
     ],
     "language": "python",
     "metadata": {},
     "outputs": []
    },
    {
     "cell_type": "code",
     "collapsed": true,
     "input": [
      "# SN 1006\n",
      "labels = ['0.7-1kev', '1-2kev', '2-7kev']\n",
      "labels_nice = ['0.7--1 keV', '1--2 keV', '2--7 keV']\n",
      "fitroot = '../../data-sn1006/model-fits/full-std_err'\n",
      "damproot_free = '../../data-sn1006/model-fits-damp/full-std_err-ab_{:0.2e}-eta2_free'\n",
      "damproot_eta2 = '../../data-sn1006/model-fits-damp/full-std_err-ab_{:0.2e}-eta2_{eta2:0.2e}'\n",
      "plt_outroot = '../../data-sn1006/model-fits/plots/full-loss-damp'\n",
      "\n",
      "AB_VALS = [0.5, 0.05, 0.04, 0.03, 0.02, 0.01, 0.009, 0.008, 0.007, 0.006, 0.005, 0.004]\n",
      "ETA2_VALS = [0.01, 0.1, 1., 2., 10.]"
     ],
     "language": "python",
     "metadata": {},
     "outputs": []
    },
    {
     "cell_type": "code",
     "collapsed": false,
     "input": [
      "# KEPLER\n",
      "labels = ['0.7-1kev', '1-2kev', '2-4kev', '4-7kev']\n",
      "labels_nice = [r'0.7--1 keV', r'1--2 keV', r'2--4 keV', r'4--7 keV']\n",
      "fitroot = '../../data-kepler/regions-3/fwhms-subbkg/model-fits/full-std_err'\n",
      "damproot_free = '../../data-kepler/regions-3/fwhms-subbkg/model-fits/full-std_err-ab_{:0.2e}-eta2_free'\n",
      "damproot_eta2 = '../../data-kepler/regions-3/fwhms-subbkg/model-fits/full-std_err-ab_{:0.2e}-eta2_{eta2:0.2e}'\n",
      "plt_outroot = '../../data-kepler/regions-3/fwhms-subbkg/plots/model-fits'\n",
      "\n",
      "AB_VALS = [0.5, 0.05, 0.04, 0.03, 0.02, 0.015, 0.012, 0.011, 0.01,\n",
      "           0.009, 0.008, 0.007, 0.006, 0.005, 0.004, 0.003, 0.002]\n",
      "ETA2_VALS = [0.01, 0.1, 1., 2., 10.]"
     ],
     "language": "python",
     "metadata": {},
     "outputs": []
    },
    {
     "cell_type": "heading",
     "level": 2,
     "metadata": {},
     "source": [
      "0.1 Setup cont -- useful functions etc"
     ]
    },
    {
     "cell_type": "code",
     "collapsed": false,
     "input": [
      "def m_expt(ens, widths):\n",
      "    \"\"\"Calculated following Ressler et al. [2014]\n",
      "    Output array size is one less than that of ens/widths\n",
      "    \"\"\"\n",
      "    e2, e1 = ens[1:], ens[:-1]\n",
      "    w2, w1 = widths[1:], widths[:-1]\n",
      "    return np.log(w2/w1) / np.log(e2/e1)"
     ],
     "language": "python",
     "metadata": {},
     "outputs": []
    },
    {
     "cell_type": "markdown",
     "metadata": {},
     "source": [
      "Function to obtain best $a_b$ value for each region, by manual comparison"
     ]
    },
    {
     "cell_type": "code",
     "collapsed": false,
     "input": [
      "def get_best_ab_dict(froot_fmt, ab_vals, mu=1, **kwargs):\n",
      "    \"\"\"Give a list of ab_values that you wish to consider.\n",
      "    froot should accept 1 format field, to insert the appropriate ab value\n",
      "    Specify the mu value you wish to use (assumes mu values at least 1e-10 apart)\n",
      "    \n",
      "    If froot_fmt requires additional arguments, use kwargs to specify\n",
      "    \"\"\"\n",
      "    ab_best = {}\n",
      "    chisqr_best = {}\n",
      "    \n",
      "    for ab_val in ab_vals:\n",
      "        \n",
      "        froot = froot_fmt.format(ab_val, **kwargs)\n",
      "        \n",
      "        for p_list, mu_vals, fobj, n in mdsp.load_fit_pkls_new(froot):  # Iterate over regions\n",
      "            \n",
      "            mu_found = False\n",
      "            for p, mu_val in zip(p_list, mu_vals):  # Iterate over mu values + fit params\n",
      "                if abs(mu_val - mu) > 1e-10:\n",
      "                    continue\n",
      "                assert not mu_found, 'Error: found more than two values of mu, file root {}'.format(froot)\n",
      "                mu_found = True\n",
      "                \n",
      "                chisqr_val = p.info['chisqr']\n",
      "                if n not in ab_best or chisqr_val <= chisqr_best[n]:\n",
      "                    ab_best[n] = ab_val\n",
      "                    chisqr_best[n] = chisqr_val\n",
      "            assert mu_found, 'Error: could not find mu'\n",
      "    \n",
      "    return ab_best"
     ],
     "language": "python",
     "metadata": {},
     "outputs": []
    },
    {
     "cell_type": "markdown",
     "metadata": {},
     "source": [
      "Find the best damping fits for all the different cases we consider.\n",
      "There are a lot of different cases to consider..."
     ]
    },
    {
     "cell_type": "code",
     "collapsed": false,
     "input": [
      "AB_VALS_SUB_PCT = [ab for ab in AB_VALS if ab <= 0.01]\n",
      "\n",
      "AB_BEST = get_best_ab_dict(damproot_free, AB_VALS_SUB_PCT, mu=1)\n",
      "AB_BEST_ETA2_ONE = get_best_ab_dict(damproot_eta2, AB_VALS_SUB_PCT, mu=1, eta2=1)\n",
      "AB_BEST_ETA2_TEN = get_best_ab_dict(damproot_eta2, AB_VALS_SUB_PCT, mu=1, eta2=10)\n",
      "AB_BEST_BMIN_ZERO = get_best_ab_dict(damproot_bmin, AB_VALS_SUB_PCT, mu=1, eta2=1., bmin=0.)\n",
      "AB_BEST_SRCUTLOG = get_best_ab_dict(damproot_srcutlog, AB_VALS_SUB_PCT, mu=1)\n",
      "\n",
      "AB_BEST_MUS = {}\n",
      "for mu in [0., 1./3, 1./2, 1., 1.5, 2.0]:\n",
      "    AB_BEST_MUS[mu] = get_best_ab_dict(damproot_mu, AB_VALS_SUB_PCT, mu=mu)"
     ],
     "language": "python",
     "metadata": {},
     "outputs": []
    },
    {
     "cell_type": "markdown",
     "metadata": {},
     "source": [
      "As above, but also permit $a_b > 0.01$"
     ]
    },
    {
     "cell_type": "code",
     "collapsed": false,
     "input": [
      "AB_ALL_BEST = get_best_ab_dict(damproot_free, AB_VALS, mu=1)\n",
      "AB_ALL_BEST_ETA2_ONE = get_best_ab_dict(damproot_eta2, AB_VALS, mu=1, eta2=1)\n",
      "AB_ALL_BEST_ETA2_TEN = get_best_ab_dict(damproot_eta2, AB_VALS, mu=1, eta2=10)\n",
      "AB_ALL_BEST_BMIN_ZERO = get_best_ab_dict(damproot_bmin, AB_VALS, mu=1, eta2=1., bmin=0.)\n",
      "AB_ALL_BEST_SRCUTLOG = get_best_ab_dict(damproot_srcutlog, AB_VALS, mu=1)\n",
      "\n",
      "AB_ALL_BEST_MUS = {}\n",
      "for mu in [0., 1./3, 1./2, 1., 1.5, 2.0]:\n",
      "    AB_ALL_BEST_MUS[mu] = get_best_ab_dict(damproot_mu, AB_VALS, mu=mu)"
     ],
     "language": "python",
     "metadata": {},
     "outputs": []
    },
    {
     "cell_type": "heading",
     "level": 2,
     "metadata": {},
     "source": [
      "0.2 Print results, to get quick idea of what $a_b$ values we are getting"
     ]
    },
    {
     "cell_type": "markdown",
     "metadata": {},
     "source": [
      "Compare best damped fits with $\\eta_2$ free..."
     ]
    },
    {
     "cell_type": "code",
     "collapsed": false,
     "input": [
      "for n in AB_BEST:\n",
      "    outstr = 'Region {:2d}, best ab (<0.01) = {:0.3f}, best ab = {:0.3f}'\n",
      "    if AB_BEST[n] != AB_ALL_BEST[n]:\n",
      "        outstr = outstr + ' *'\n",
      "    print outstr.format(n, AB_BEST[n], AB_ALL_BEST[n])"
     ],
     "language": "python",
     "metadata": {},
     "outputs": []
    },
    {
     "cell_type": "markdown",
     "metadata": {},
     "source": [
      "with $\\eta_2 = 1$..."
     ]
    },
    {
     "cell_type": "code",
     "collapsed": false,
     "input": [
      "for n in AB_BEST_ETA2_ONE:\n",
      "    outstr = 'Region {:2d}, best ab (<0.01) = {:0.3f}, best ab = {:0.3f}'\n",
      "    if AB_BEST_ETA2_ONE[n] != AB_ALL_BEST_ETA2_ONE[n]:\n",
      "        outstr = outstr + ' *'\n",
      "    print outstr.format(n, AB_BEST_ETA2_ONE[n], AB_ALL_BEST_ETA2_ONE[n])"
     ],
     "language": "python",
     "metadata": {},
     "outputs": []
    },
    {
     "cell_type": "markdown",
     "metadata": {},
     "source": [
      "with $\\eta_2 = 10$..."
     ]
    },
    {
     "cell_type": "code",
     "collapsed": false,
     "input": [
      "for n in AB_BEST_ETA2_TEN:\n",
      "    outstr = 'Region {:2d}, best ab (<0.01) = {:0.3f}, best ab = {:0.3f}'\n",
      "    if AB_BEST_ETA2_TEN[n] != AB_ALL_BEST_ETA2_TEN[n]:\n",
      "        outstr = outstr + ' *'\n",
      "    print outstr.format(n, AB_BEST_ETA2_TEN[n], AB_ALL_BEST_ETA2_TEN[n])"
     ],
     "language": "python",
     "metadata": {},
     "outputs": []
    },
    {
     "cell_type": "markdown",
     "metadata": {},
     "source": [
      "with $\\eta_2 = 1$, $B_{\\mathrm{min}} = 0$..."
     ]
    },
    {
     "cell_type": "code",
     "collapsed": false,
     "input": [
      "for n in AB_BEST_BMIN_ZERO:\n",
      "    outstr = 'Region {:2d}, best ab (<0.01) = {:0.3f}, best ab = {:0.3f}'\n",
      "    if AB_BEST_BMIN_ZERO[n] != AB_ALL_BEST_BMIN_ZERO[n]:\n",
      "        outstr = outstr + ' *'\n",
      "    print outstr.format(n, AB_BEST_BMIN_ZERO[n], AB_ALL_BEST_BMIN_ZERO[n])"
     ],
     "language": "python",
     "metadata": {},
     "outputs": []
    },
    {
     "cell_type": "markdown",
     "metadata": {},
     "source": [
      "and with $\\eta_2$ derived from `srcutlog`"
     ]
    },
    {
     "cell_type": "code",
     "collapsed": false,
     "input": [
      "for n in AB_BEST_SRCUTLOG:\n",
      "    outstr = 'Region {:2d}, best ab (<0.01) = {:0.3f}, best ab = {:0.3f}'\n",
      "    if AB_BEST_SRCUTLOG[n] != AB_ALL_BEST_SRCUTLOG[n]:\n",
      "        outstr = outstr + ' *'\n",
      "    print outstr.format(n, AB_BEST_SRCUTLOG[n], AB_ALL_BEST_SRCUTLOG[n])"
     ],
     "language": "python",
     "metadata": {},
     "outputs": []
    },
    {
     "cell_type": "markdown",
     "metadata": {},
     "source": [
      "Then take a look at how best damped fits vary with $\\mu$.  The fits appear to jump around, especially in $B_0$."
     ]
    },
    {
     "cell_type": "code",
     "collapsed": false,
     "input": [
      "for n in AB_BEST_MUS.values()[0]:  # Iterate over num. regions in ab-value dict for some arbitrary mu\n",
      "    \n",
      "    print 'Region {}'.format(n)\n",
      "    \n",
      "    for mu in np.sort(AB_BEST_MUS.keys()):\n",
      "        \n",
      "        ab = AB_BEST_MUS[mu][n]\n",
      "        froot = damproot_mu.format(ab)\n",
      "        p_list, mu_vals, fobj = mdsp.load_fit_pkl(froot, n)\n",
      "        for p, mu_val in zip(p_list, mu_vals):\n",
      "            if mu_val != mu:\n",
      "                continue\n",
      "            outstr = 'mu = {:0.2f}, ab = {:0.3f}, B0 = {:0.1f}, chisqr = {:0.2f}'\n",
      "            print outstr.format(mu, ab, p['B0'].value*1e6, p.info['chisqr'])\n",
      "    print ''"
     ],
     "language": "python",
     "metadata": {},
     "outputs": []
    },
    {
     "cell_type": "heading",
     "level": 2,
     "metadata": {},
     "source": [
      "0.3 Just for reference"
     ]
    },
    {
     "cell_type": "markdown",
     "metadata": {},
     "source": [
      "Generator `mdsp.load_fit_pkls(...)` gives a list of Parameters() objects, mu values, region number, and a dictionary with Fitter() object properties (i.e., data/settings used for all 6 fits).\n",
      "\n",
      "We have access to, besides the parameters, the following (for each `p` in the list):\n",
      "\n",
      "    p.ci               dict of confidence intervals\n",
      "    p.snr              SupernovaRemnant object used in fits (this should go with fobj_all but whatever)\n",
      "    p.info             dict of best fit parameters w/ keys:\n",
      "        'conf-intv'         CI value\n",
      "        'chisqr'            fit chisqr\n",
      "        'redchi'            fit reduced chisqr\n",
      "        'ndata'             res.ndata\n",
      "        'nvarys'            res.nvarys\n",
      "        'nfree'             res.nfree\n",
      "    p.metadata         dict of build_dataf args\n",
      "        'fit-type'          simp/full\n",
      "        'fit-kws'           eta2_free, model_kws, etc...\n",
      "        'err-kws'           manual/lmfit/stderr, eps, adapt, etc...\n",
      "\n",
      "The Fitter() dict has keys: `['title', 'kevs', 'data', 'eps', 'inds', 'snr-pars']`; snr-pars is a text dump of SNR settings from SupernovaRemnant().config_log()."
     ]
    },
    {
     "cell_type": "heading",
     "level": 1,
     "metadata": {},
     "source": [
      "1. Fit parameter tables, individual regions"
     ]
    },
    {
     "cell_type": "heading",
     "level": 2,
     "metadata": {},
     "source": [
      "Tables of loss-limited fits (all $\\mu$ values) for individual regions"
     ]
    },
    {
     "cell_type": "markdown",
     "metadata": {},
     "source": [
      "This is largely dredged from `mdsp.generate_tabs(...)`.\n",
      "\n",
      "Generate tables, left (with $\\mu$) and right (without $\\mu$).  Precision is set to 1; where more precision is needed, come back and change it temporarily (rationale: most values are fine w/ prec=1 or 0)."
     ]
    },
    {
     "cell_type": "code",
     "collapsed": true,
     "input": [
      "# Tycho\n",
      "indiv_left = [1, 4, 8, 11, 14, 18]  # These tables will have column of mu values\n",
      "indiv_rows = [[1,2,3], [4,5,6,7], [8,9,10], [11,12,13], [14,15,16,17], [18,19,20]]"
     ],
     "language": "python",
     "metadata": {},
     "outputs": []
    },
    {
     "cell_type": "code",
     "collapsed": false,
     "input": [
      "# Kepler\n",
      "indiv_left = [1, 4]\n",
      "indiv_rows = [[1,2,3,4], [5,6,7,8]]"
     ],
     "language": "python",
     "metadata": {},
     "outputs": []
    },
    {
     "cell_type": "code",
     "collapsed": true,
     "input": [
      "ltabs_all = {}\n",
      "\n",
      "for p_list, mu_vals, n, fobj_dict in mdsp.load_fit_pkls(fitroot, want_fobj=True):\n",
      "    latex_hdr = [r'$\\mu$ (-)', r'$\\eta_2$ (-)', r'$B_0$ ($\\mu$G)', r'$\\chi^2$']\n",
      "    latex_cols = ['{:0.2f}', 2, 2, '{:0.2f}']\n",
      "    if n not in indiv_left:  # Remove mu column\n",
      "        latex_hdr = latex_hdr[1:]\n",
      "        latex_cols = latex_cols[1:]\n",
      "    ltab = LatexTable(latex_hdr, latex_cols, 'Region {}'.format(n), prec=1)\n",
      "\n",
      "    for p, mu in zip(p_list, mu_vals):\n",
      "        # Pull full errors from p.ci  (get_ci_errors order: pos/neg errs)\n",
      "        p['B0'].fullerr = mex.get_ci_errors(p.ci, 'B0', p.info['conf-intv'])\n",
      "        p['eta2'].fullerr = mex.get_ci_errors(p.ci, 'eta2',p.info['conf-intv'])\n",
      "        \n",
      "        # Edit B0 parameter for table formatting\n",
      "        p['B0'].min, p['B0'].max = None, None\n",
      "        p['B0'].value *= 1e6\n",
      "        p['B0'].stderr *= 1e6\n",
      "        p['B0'].fullerr = 1e6 * np.array(p['B0'].fullerr)  # Hackish workaround\n",
      "\n",
      "        # Build LaTeX table\n",
      "        ltr = [mu] if n in indiv_left else []\n",
      "        ltr += [p['eta2'].value] + list(p['eta2'].fullerr)\n",
      "        ltr += [p['B0'].value] + list(p['B0'].fullerr)\n",
      "        ltr += [p.info['chisqr']]\n",
      "        ltab.add_row(*ltr)\n",
      "\n",
      "    ltabs_all[n] = ltab"
     ],
     "language": "python",
     "metadata": {},
     "outputs": []
    },
    {
     "cell_type": "markdown",
     "metadata": {},
     "source": [
      "Merge the necessary tables together"
     ]
    },
    {
     "cell_type": "code",
     "collapsed": true,
     "input": [
      "for row in indiv_rows:\n",
      "    print reduce(mergelt, [ltabs_all[idx] for idx in row])\n",
      "    print ''"
     ],
     "language": "python",
     "metadata": {},
     "outputs": []
    },
    {
     "cell_type": "code",
     "collapsed": false,
     "input": [
      "print mergelt(ltabs_all[1], ltabs_all[16])"
     ],
     "language": "python",
     "metadata": {},
     "outputs": []
    },
    {
     "cell_type": "heading",
     "level": 2,
     "metadata": {},
     "source": [
      "Tables of loss-limited fits (all $\\mu$ values) with filament-averaged parameter values"
     ]
    },
    {
     "cell_type": "markdown",
     "metadata": {},
     "source": [
      "First pull out all the parameters, then print averages with standard errors (using sample std. dev.)"
     ]
    },
    {
     "cell_type": "code",
     "collapsed": false,
     "input": [
      "flmt_regs = {1: [1,2,3],\n",
      "             2: [4,5,6,7,8,9,10],\n",
      "             3: [11, 12, 13],\n",
      "             4: [14,15,16,17],\n",
      "             5: [18, 19, 20],\n",
      "             6: range(1,21)}  # Global average #s, 1-20 inclusive\n",
      "flmt_left = [1,4]  # These filament tables will have mu columns"
     ],
     "language": "python",
     "metadata": {},
     "outputs": []
    },
    {
     "cell_type": "code",
     "collapsed": true,
     "input": [
      "pdict = {}\n",
      "\n",
      "for p_list, mu_vals, n in mdsp.load_fit_pkls(fitroot, want_fobj=False):\n",
      "    pdict[n] = {}\n",
      "    for p, mu in zip(p_list, mu_vals):\n",
      "        pdict[n][mu] = {}\n",
      "        pdict[n][mu]['eta2'] = p['eta2'].value\n",
      "        pdict[n][mu]['B0'] = 1e6 * p['B0'].value\n",
      "\n",
      "ltabs_avg = {}\n",
      "\n",
      "for m in flmt_regs:\n",
      "    \n",
      "    latex_hdr = [r'$\\mu$ (-)', r'$\\eta_2$ (-)', r'$B_0$ ($\\mu$G)']\n",
      "    latex_cols = ['{:0.2f}', 1, 1]\n",
      "    if m not in flmt_left:  # Remove mu column\n",
      "        latex_hdr = latex_hdr[1:]\n",
      "        latex_cols = latex_cols[1:]\n",
      "    ltab = LatexTable(latex_hdr, latex_cols, 'Filament {}'.format(m), prec=2)\n",
      "    \n",
      "    print flmt_regs[m]\n",
      "    \n",
      "    for mu in mu_vals:  # HACK: using mu_vals from previous loop.  Assumes all identical.\n",
      "        B0_vals = [pdict[n][mu]['B0'] for n in flmt_regs[m]]\n",
      "        eta2_vals = [pdict[n][mu]['eta2'] for n in flmt_regs[m]]\n",
      "        \n",
      "        # Compute means, std errs\n",
      "        B0_avg = np.mean(B0_vals)\n",
      "        B0_err = np.std(B0_vals, ddof=1) / np.sqrt(len(B0_vals))\n",
      "        eta2_avg = np.mean(eta2_vals)\n",
      "        eta2_err = np.std(eta2_vals, ddof=1) / np.sqrt(len(eta2_vals))\n",
      "        \n",
      "        ltr = [mu] if m in flmt_left else []\n",
      "        ltr += [eta2_avg, eta2_err, B0_avg, B0_err]\n",
      "        ltab.add_row(*ltr)\n",
      "    \n",
      "    ltabs_avg[m] = ltab"
     ],
     "language": "python",
     "metadata": {},
     "outputs": []
    },
    {
     "cell_type": "markdown",
     "metadata": {},
     "source": [
      "Manually, merge together filaments 1-3 and 4-5 for the final table"
     ]
    },
    {
     "cell_type": "code",
     "collapsed": true,
     "input": [
      "print mergelt(mergelt(ltabs_avg[1], ltabs_avg[2]), ltabs_avg[3])\n",
      "print ''\n",
      "print mergelt(mergelt(ltabs_avg[4], ltabs_avg[5]), ltabs_avg[6])"
     ],
     "language": "python",
     "metadata": {},
     "outputs": []
    },
    {
     "cell_type": "heading",
     "level": 2,
     "metadata": {},
     "source": [
      "Tables of $\\vec{B}$-damping fits for all $\\eta_2$ and $a_b$ values"
     ]
    },
    {
     "cell_type": "markdown",
     "metadata": {},
     "source": [
      "These are very large tables spanning multiple pages of paper."
     ]
    },
    {
     "cell_type": "code",
     "collapsed": true,
     "input": [
      "ltabs_all = {}\n",
      "\n",
      "n_eta2 = 1 + len(ETA2_VALS)\n",
      "latex_hdr = [r'$a_b$ (-)', r'$\\eta_2$ (-)']  # For the free one only\n",
      "latex_hdr += n_eta2 * [r'$B_0$ ($\\mu$G)', r'$\\chi^2$']  # 6 sets of B0/chisqr\n",
      "latex_cols = ['{:0.3f}', '{:0.3f}'] + 2*n_eta2*['{:0.1f}']\n",
      "\n",
      "# The ordering of loops is horribly wrong\n",
      "for ab in AB_VALS:\n",
      "    \n",
      "    # Dict of LaTeX table rows keyed to regions, varying eta2 value left to right\n",
      "    ltr_saved = {}\n",
      "    \n",
      "    # Iterate over file roots (free eta2/fixed eta2 value)\n",
      "    froots = [damproot_free.format(ab)]\n",
      "    froots.extend([damproot_eta2.format(ab, eta2=eta2) for eta2 in ETA2_VALS])\n",
      "    for froot in froots:\n",
      "        \n",
      "        # Iterate over each region\n",
      "        for p_list, mu_vals, n, fobj_dict in mdsp.load_fit_pkls(froot, want_fobj=True):\n",
      "            for p, mu in zip(p_list, mu_vals):  # Spoiler: there's only one mu value\n",
      "                \n",
      "                fkws = p.metadata['fit-kws']\n",
      "                ab = fkws['model_kws']['damp_ab']\n",
      "                eta2 = p['eta2'].value\n",
      "                B0 = p['B0'].value*1e6\n",
      "                chisqr = p.info['chisqr']\n",
      "                \n",
      "                # Set up LaTeX table (only on first pass) (yes, bad place to put this code)\n",
      "                if n not in ltabs_all:\n",
      "                    ltabs_all[n] = LatexTable(latex_hdr, latex_cols, 'Region {}'.format(n), prec=1)  # prec irrelevant\n",
      "                \n",
      "                # ASSUMES eta2_free is the first filename provided\n",
      "                if n not in ltr_saved:\n",
      "                    ltr_saved[n] = [ab, eta2]\n",
      "                \n",
      "                ltr_saved[n] += [B0, chisqr]\n",
      "    \n",
      "    for n in ltabs_all:\n",
      "        ltr = ltr_saved[n]\n",
      "        ltabs_all[n].add_row(*ltr)"
     ],
     "language": "python",
     "metadata": {},
     "outputs": []
    },
    {
     "cell_type": "code",
     "collapsed": true,
     "input": [
      "for n in ltabs_all:\n",
      "    print ltabs_all[n]\n",
      "    print''"
     ],
     "language": "python",
     "metadata": {},
     "outputs": []
    },
    {
     "cell_type": "code",
     "collapsed": true,
     "input": [
      "print ltabs_all[1], '\\n', ltabs_all[16]"
     ],
     "language": "python",
     "metadata": {},
     "outputs": []
    },
    {
     "cell_type": "heading",
     "level": 2,
     "metadata": {},
     "source": [
      "Summary tables for all regions"
     ]
    },
    {
     "cell_type": "markdown",
     "metadata": {},
     "source": [
      "Be careful that you specify the correct file roots _and_ the matching best $a_b$ values.  For paper presentation, strip some extraneous columns by hand."
     ]
    },
    {
     "cell_type": "code",
     "collapsed": false,
     "input": [
      "def get_summary_table(froot_loss, froot_damp, ab_best_damp, mu=1, prec=1, **kwargs):\n",
      "    \"\"\"Template method to print out best loss-limited and damped fits, for a variety of cases\n",
      "    kwargs passed into froot_damp for other format arguments (eta2, Bmin)\n",
      "    \n",
      "    NOTE: prec doesn't do anything - all precisions specified in column header here.\n",
      "    \"\"\"\n",
      "\n",
      "    latex_hdr = [r'Region', ] + 2*[r'$\\eta_2$ (-)', r'$B_0$ ($\\mu$G)', r'$\\chi^2$'] + [r'$a_b$']\n",
      "    latex_cols = ['{:d}'] + 2*['{:0.1f}', '{:0.0f}', '{:0.1f}'] + ['{:0.3f}']\n",
      "    ltab = LatexTable(latex_hdr, latex_cols, 'Best fits', prec=prec)\n",
      "\n",
      "    for p_list, mu_vals, fobj, n in mdsp.load_fit_pkls_new(froot_loss):\n",
      "\n",
      "        # Get best loss-limited fit parameters for mu=1 only\n",
      "        for p, mu_val in zip(p_list, mu_vals):\n",
      "            if abs(mu - mu_val) < 1e-10:  # Get specified mu only\n",
      "                break\n",
      "        \n",
      "        ltr = [n, p['eta2'].value, p['B0'].value * 1e6, p.info['chisqr']]\n",
      "\n",
      "        # Get best damped fit with ab < 0.010\n",
      "        ab = ab_best_damp[n]\n",
      "        droot = froot_damp.format(ab, **kwargs)\n",
      "        p_list2, mu_vals2, fobj2 = mdsp.load_fit_pkl(droot, n)\n",
      "        for p2, mu_val2 in zip(p_list2, mu_vals2):\n",
      "            if abs(mu - mu_val) < 1e-10:  # Get specified mu only\n",
      "                break\n",
      "        \n",
      "        ltr += [p2['eta2'].value, p2['B0'].value * 1e6, p2.info['chisqr'], ab]\n",
      "\n",
      "        ltab.add_row(*ltr)\n",
      "\n",
      "    return ltab"
     ],
     "language": "python",
     "metadata": {},
     "outputs": []
    },
    {
     "cell_type": "heading",
     "level": 3,
     "metadata": {},
     "source": [
      "Best loss-limited and damped fits with $\\eta_2$ free ($\\mu = 1$; $a_b < 0.01$)"
     ]
    },
    {
     "cell_type": "code",
     "collapsed": false,
     "input": [
      "print get_summary_table(fitroot, damproot_free, AB_BEST, mu=1, prec=1)"
     ],
     "language": "python",
     "metadata": {},
     "outputs": []
    },
    {
     "cell_type": "heading",
     "level": 3,
     "metadata": {},
     "source": [
      "Best loss-limited and damped fits ($\\mu = \\eta_2 = 1$; $a_b < 0.01$)"
     ]
    },
    {
     "cell_type": "code",
     "collapsed": false,
     "input": [
      "print get_summary_table(fitroot_eta2_one, damproot_eta2, AB_BEST_ETA2_ONE, mu=1, prec=1, eta2=1)"
     ],
     "language": "python",
     "metadata": {},
     "outputs": []
    },
    {
     "cell_type": "heading",
     "level": 3,
     "metadata": {},
     "source": [
      "Best loss-limited and damped fits, $B_{\\mathrm{min}} = 0$ ($\\mu = \\eta_2 = 1$; $a_b < 0.01$)."
     ]
    },
    {
     "cell_type": "markdown",
     "metadata": {},
     "source": [
      "Note that $B_{\\mathrm{min}}$ is not relevant for loss-limited fits."
     ]
    },
    {
     "cell_type": "code",
     "collapsed": false,
     "input": [
      "print get_summary_table(fitroot_eta2_one, damproot_bmin, AB_BEST_BMIN_ZERO, mu=1, prec=1, eta2=1, bmin=0.)"
     ],
     "language": "python",
     "metadata": {},
     "outputs": []
    },
    {
     "cell_type": "heading",
     "level": 3,
     "metadata": {},
     "source": [
      "Best loss-limited and damped fits with $\\mu=1$, $\\eta_2 = 10$, $a_b < 0.01$"
     ]
    },
    {
     "cell_type": "code",
     "collapsed": false,
     "input": [
      "print get_summary_table(fitroot_eta2_ten, damproot_eta2, AB_BEST_ETA2_TEN, mu=1, prec=1, eta2=10)"
     ],
     "language": "python",
     "metadata": {},
     "outputs": []
    },
    {
     "cell_type": "heading",
     "level": 3,
     "metadata": {},
     "source": [
      "Best loss-limited and damped fits with `srcutlog`-derived $\\eta_2$; $\\mu = 1$, $a_b < 0.01$"
     ]
    },
    {
     "cell_type": "code",
     "collapsed": false,
     "input": [
      "print get_summary_table(fitroot_srcutlog, damproot_srcutlog, AB_BEST_SRCUTLOG, mu=1, prec=1)"
     ],
     "language": "python",
     "metadata": {},
     "outputs": []
    },
    {
     "cell_type": "heading",
     "level": 2,
     "metadata": {},
     "source": [
      "Summary tables as above, with $a_b > 0.01$ permitted"
     ]
    },
    {
     "cell_type": "markdown",
     "metadata": {},
     "source": [
      "I only print the ones currently being included in the paper"
     ]
    },
    {
     "cell_type": "heading",
     "level": 3,
     "metadata": {},
     "source": [
      "Best loss-limited and damped fits ($\\mu = \\eta_2 = 1$)"
     ]
    },
    {
     "cell_type": "code",
     "collapsed": false,
     "input": [
      "print get_summary_table(fitroot_eta2_one, damproot_eta2, AB_ALL_BEST_ETA2_ONE, mu=1, prec=1, eta2=1)"
     ],
     "language": "python",
     "metadata": {},
     "outputs": []
    },
    {
     "cell_type": "heading",
     "level": 3,
     "metadata": {},
     "source": [
      "Best loss-limited and damped fits, $B_{\\mathrm{min}} = 0$ ($\\mu = \\eta_2 = 1$)."
     ]
    },
    {
     "cell_type": "markdown",
     "metadata": {},
     "source": [
      "Note that $B_{\\mathrm{min}}$ is not relevant for loss-limited fits."
     ]
    },
    {
     "cell_type": "code",
     "collapsed": false,
     "input": [
      "print get_summary_table(fitroot_eta2_one, damproot_bmin, AB_ALL_BEST_BMIN_ZERO, mu=1, prec=0, eta2=1, bmin=0.)"
     ],
     "language": "python",
     "metadata": {},
     "outputs": []
    },
    {
     "cell_type": "heading",
     "level": 3,
     "metadata": {},
     "source": [
      "Best loss-limited and damped fits with $\\mu=1$, $\\eta_2 = 10$"
     ]
    },
    {
     "cell_type": "code",
     "collapsed": false,
     "input": [
      "print get_summary_table(fitroot_eta2_ten, damproot_eta2, AB_ALL_BEST_ETA2_TEN, mu=1, prec=1, eta2=10)"
     ],
     "language": "python",
     "metadata": {},
     "outputs": []
    },
    {
     "cell_type": "heading",
     "level": 3,
     "metadata": {},
     "source": [
      "Best loss-limited and damped fits with `srcutlog`-derived $\\eta_2$; $\\mu = 1$"
     ]
    },
    {
     "cell_type": "code",
     "collapsed": false,
     "input": [
      "print get_summary_table(fitroot_srcutlog, damproot_srcutlog, AB_ALL_BEST_SRCUTLOG, mu=1, prec=1)"
     ],
     "language": "python",
     "metadata": {},
     "outputs": []
    },
    {
     "cell_type": "heading",
     "level": 1,
     "metadata": {},
     "source": [
      "2. Compute lengthscales for comparison: FWHMs at 2 keV, $a_b$ values, $l_{\\mathrm{ad}}$, and $l_{\\mathrm{diff}}$ "
     ]
    },
    {
     "cell_type": "markdown",
     "metadata": {},
     "source": [
      "Print v0 while you're at it since that varies from region to region and affects the `l_ad` estimate"
     ]
    },
    {
     "cell_type": "code",
     "collapsed": false,
     "input": [
      "snr = snrcat.make_tycho()\n",
      "kev_calc = 2.0  # Compute everything at 2 keV"
     ],
     "language": "python",
     "metadata": {},
     "outputs": []
    },
    {
     "cell_type": "code",
     "collapsed": false,
     "input": [
      "def len_adv(snr, B0, en):\n",
      "    \"\"\"Advective lengthscale in cm\n",
      "    en is the photon energy in keV\"\"\"\n",
      "    c_m = snrcat.SYNCH_CM\n",
      "    b = snrcat.SYNCH_B\n",
      "    nu = en * snrcat.NUKEV\n",
      "    return snr.v0() * np.sqrt(c_m) / b * B0**(-3./2) * nu**(-1./2)\n",
      "\n",
      "def len_diff(mu, eta2, B0, en):\n",
      "    \"\"\"Diffusive lengthscale in cm\"\"\"\n",
      "    eta = eta2_to_eta(mu,eta2,B0)\n",
      "    c_d = snrcat.CD\n",
      "    c_m = snrcat.SYNCH_CM\n",
      "    b = snrcat.SYNCH_B\n",
      "    nu = en * snrcat.NUKEV\n",
      "    return np.sqrt(eta * c_d / b) * B0**(-3./2) * (nu / (c_m*B0))**((mu-1)/4)\n",
      "\n",
      "def eta2_to_eta(mu, eta2, B0):\n",
      "    \"\"\"Say the function name out loud\"\"\"\n",
      "    nu_h = 2. * snrcat.NUKEV # i.e., nu for fiducial energy 2 keV\n",
      "    eta =  eta2 * (nu_h/(snrcat.SYNCH_CM*B0))**(-(mu-1)/2)\n",
      "    return eta"
     ],
     "language": "python",
     "metadata": {},
     "outputs": []
    },
    {
     "cell_type": "markdown",
     "metadata": {},
     "source": [
      "First show that radio advective lengthscale is massive ( >5 up to 1000 muG).  So we needn't consider it."
     ]
    },
    {
     "cell_type": "code",
     "collapsed": false,
     "input": [
      "B0_vals = np.logspace(np.log10(10e-6), np.log10(1000e-6), 500)\n",
      "\n",
      "xray_len_adv = len_adv(snr, B0_vals, kev_calc) / snr.rs()\n",
      "radio_len_adv = len_adv(snr, B0_vals, 5.6865e-9) / snr.rs()\n",
      "\n",
      "print 'radio:', min(radio_len_adv), max(radio_len_adv)\n",
      "print 'x-ray:', min(xray_len_adv), max(xray_len_adv)"
     ],
     "language": "python",
     "metadata": {},
     "outputs": []
    },
    {
     "cell_type": "markdown",
     "metadata": {},
     "source": [
      "Compute model FWHMs at 50 points for comparison"
     ]
    },
    {
     "cell_type": "code",
     "collapsed": false,
     "input": [
      "B0_samp = B0_vals[::10]=\n",
      "fwhm_samp = [models.full_width(snr, np.array([kev_calc]), 1.0, 1.0, B0_val)[0]\n",
      "             for B0_val in B0_samp]\n",
      "\n",
      "fwhm_samp = np.array(fwhm_samp)\n",
      "msk = fwhm_samp < 0.99*snr.rsarc"
     ],
     "language": "python",
     "metadata": {},
     "outputs": []
    },
    {
     "cell_type": "markdown",
     "metadata": {},
     "source": [
      "Plot FWHMs w/ B0 values from both damped / loss-limited best fits.  For damped fits, also show $a_b$ values.  Send this around"
     ]
    },
    {
     "cell_type": "code",
     "collapsed": false,
     "input": [
      "plt.plot(B0_vals*1e6, len_adv(snr, B0_vals, kev_calc) / snr.rs(), '-.k', label=r'$l_{\\mathrm{ad}}$, 2 keV')\n",
      "plt.plot(B0_vals*1e6, len_diff(1., 1., B0_vals, kev_calc) / snr.rs(), ':r',label=r'$l_{\\mathrm{diff}}$, $\\eta_2=1$')\n",
      "\n",
      "#plt.scatter(B0_samp[msk]*1e6, fwhm_samp[msk] / snr.rsarc, c='k', marker='o', s=40, label=r'Model FWHM')\n",
      "plt.plot(B0_samp[msk]*1e6, fwhm_samp[msk] / snr.rsarc, '-k', label=r'Model FWHM')\n",
      "\n",
      "print (fwhm_samp[msk]/snr.rsarc) / (len_adv(snr, B0_vals, kev_calc)[::10][msk] / snr.rs())\n",
      "\n",
      "pts_2kev = []\n",
      "B0_loss = []\n",
      "B0_damp = []\n",
      "ab_data = []\n",
      "\n",
      "for p_list, mu_vals, fobj, n in mdsp.load_fit_pkls_new(fitroot_eta2_one):  # Iterate over eta2=1 loss-lim fits\n",
      "    \n",
      "    # Get best loss-limited fit, eta=1 fixed, mu=1 only\n",
      "    for p, mu in zip(p_list, mu_vals):\n",
      "        if 0.9 < mu < 1.1:\n",
      "            break\n",
      "    \n",
      "    # Get best damped fit with ab < 0.010, eta2=1 fixed\n",
      "    ab = AB_ALL_BEST_ETA2_ONE[n]\n",
      "    droot = damproot_eta2.format(ab, eta2=1.)\n",
      "    p_list2, mu_vals2, fobj2 = mdsp.load_fit_pkl(droot, n)\n",
      "    assert 0.95 < mu_vals2[0] < 1.05, 'Expecting mu=1 only for damped fits!'\n",
      "    p2 = p_list2[0]\n",
      "    \n",
      "    pts_2kev.append(fobj.data[-3] / fobj.snr.rsarc)\n",
      "    B0_loss.append(p['B0'].value)\n",
      "    B0_damp.append(p2['B0'].value)\n",
      "    ab_data.append(ab)\n",
      "\n",
      "pts_2kev = np.array(pts_2kev)\n",
      "B0_loss = np.array(B0_loss)\n",
      "B0_damp = np.array(B0_damp)\n",
      "    \n",
      "plt.scatter(B0_loss*1e6, pts_2kev, c='r', marker='o', s=40, alpha=0.5,\n",
      "            label=r'FWHM, loss-lim. fit $B_0$')\n",
      "plt.scatter(B0_damp*1e6, pts_2kev, c='b', marker='o', s=40, alpha=0.5,\n",
      "            label=r'FWHM, damped fit $B_0$')\n",
      "plt.scatter(B0_damp*1e6, ab_data, c='b', marker='s', s=40, facecolors='none', alpha=0.5,\n",
      "            label=r'$a_b$, damped fit $B_0$')\n",
      "\n",
      "plt.grid()\n",
      "plt.xscale('log')\n",
      "plt.yscale('log')\n",
      "plt.xlabel(r'$B_0$ ($\\mu$G)')\n",
      "plt.ylabel(r'Lengthscale (scaled to shock radius, $r_s$)')\n",
      "plt.xlim(xmin=1e1, xmax=1e3)\n",
      "plt.ylim(ymin=1e-3,ymax=1e0)\n",
      "plt.legend(loc='best')\n",
      "plt.tight_layout()\n",
      "\n",
      "plt.savefig(plt_outroot + 'lengthscales_fwhm.pdf')"
     ],
     "language": "python",
     "metadata": {},
     "outputs": []
    },
    {
     "cell_type": "code",
     "collapsed": false,
     "input": [
      "f_sph_proj = 4.6  # Projection factor for spherical shell\n",
      "\n",
      "pts_2kev = []\n",
      "B0_loss = []\n",
      "B0_damp = []\n",
      "ab_data = []\n",
      "l_ad_loss = []\n",
      "l_diff_loss = []\n",
      "l_ad_damp = []\n",
      "l_diff_damp = []\n",
      "\n",
      "for p_list, mu_vals, fobj, n in mdsp.load_fit_pkls_new(fitroot_eta2_one):  # Iterate over eta2=1 loss-lim fits\n",
      "    \n",
      "    # Get best loss-limited fit, eta=1 fixed, mu=1 only\n",
      "    for p, mu in zip(p_list, mu_vals):\n",
      "        if 0.9 < mu < 1.1:\n",
      "            break\n",
      "    \n",
      "    # Get best damped fit with ab < 0.010, eta2=1 fixed\n",
      "    ab = AB_ALL_BEST_ETA2_ONE[n]\n",
      "    droot = damproot_eta2.format(ab, eta2=1.)\n",
      "    p_list2, mu_vals2, fobj2 = mdsp.load_fit_pkl(droot, n)\n",
      "    assert 0.95 < mu_vals2[0] < 1.05, 'Expecting mu=1 only for damped fits!'\n",
      "    p2 = p_list2[0]\n",
      "    \n",
      "    l_ad = len_adv(fobj.snr, p['B0'].value, kev_calc) / snr.rs()\n",
      "    l_diff = len_diff(mu, p['eta2'].value, p['B0'].value, kev_calc) / snr.rs()\n",
      "    l_ad_2 = len_adv(fobj.snr, p2['B0'].value, kev_calc) / snr.rs()\n",
      "    l_diff_2 = len_diff(mu, p2['eta2'].value, p2['B0'].value, kev_calc) / snr.rs()\n",
      "    \n",
      "    pts_2kev.append(fobj.data[-3] / fobj.snr.rsarc)\n",
      "    B0_loss.append(p['B0'].value)\n",
      "    B0_damp.append(p2['B0'].value)\n",
      "    ab_data.append(ab)\n",
      "    l_ad_loss.append(l_ad)\n",
      "    l_diff_loss.append(l_diff)\n",
      "    l_ad_damp.append(l_ad_2)\n",
      "    l_diff_damp.append(l_diff_2)\n",
      "\n",
      "pts_2kev = np.array(pts_2kev)\n",
      "B0_loss = np.array(B0_loss)\n",
      "B0_damp = np.array(B0_damp)\n",
      "ab_data = np.array(ab_data)\n",
      "l_ad_loss = np.array(l_ad_loss)\n",
      "l_diff_loss = np.array(l_ad_loss)\n",
      "l_ad_damp = np.array(l_ad_damp)\n",
      "l_diff_damp = np.array(l_ad_damp)\n",
      "    \n",
      "plt.scatter(B0_loss*1e6, pts_2kev / l_ad_loss, label=r'FWHM / loss-limited $l_{\\mathrm{ad}}$',\n",
      "            color='k', alpha=0.5, marker='s', s=40)\n",
      "plt.scatter(B0_damp*1e6, pts_2kev / ab_data, label=r'FWHM / damped $a_b$',\n",
      "            facecolors='none', edgecolors='b', s=40)  # DAMPING\n",
      "plt.scatter(B0_damp*1e6, pts_2kev / l_ad_damp, label=r'FWHM / damped $l_{\\mathrm{ad}}$',\n",
      "            facecolors='none', edgecolors='r', s=40)  # DAMPING\n",
      "\n",
      "plt.plot(B0_samp[msk]*1e6, (fwhm_samp[msk] / snr.rsarc) / (len_adv(snr, B0_vals, kev_calc)[::10][msk] / snr.rs()),\n",
      "         '-k', label=r'Model FWHM')\n",
      "\n",
      "# Some way of combining effects of damping + l_ad/l_diff, but I don't have an analytic or empirical result for that yet\n",
      "#plt.scatter(B0_damp*1e6, (pts_2kev / ab_data + pts_2kev / l_ad_damp) / f_sph_proj, label=r'FWHM / damping $l_{\\mathrm{ad}}$',\n",
      "#            facecolors='none', edgecolors='g', s=40)  # DAMPING\n",
      "\n",
      "plt.axhline(f_sph_proj, color='k', ls=':')\n",
      "\n",
      "plt.xscale('log')\n",
      "plt.yscale('log')\n",
      "plt.xlabel(r'$B_0$ ($\\mu$G)')\n",
      "plt.ylabel(r'Dimensionless FWHM')\n",
      "plt.ylim(1e-2, 1e1)\n",
      "plt.legend(loc='lower left')\n",
      "plt.tight_layout()\n",
      "\n",
      "plt.savefig(plt_outroot + 'lengthscales_fwhm_dimless.pdf')\n",
      "\n",
      "plt.show()"
     ],
     "language": "python",
     "metadata": {},
     "outputs": []
    },
    {
     "cell_type": "markdown",
     "metadata": {},
     "source": [
      "Tabulate all the relevant numbers"
     ]
    },
    {
     "cell_type": "code",
     "collapsed": false,
     "input": [
      "latex_hdr = [r'Region', r'$v_0$', r'$w$ (2 keV)', r'$l_{\\mt{ad}}$ (loss)', r'$l_{\\mt{ad}}/l_{\\mt{diff}}$',\n",
      "             r'$l_{\\mt{ad}}$ (damp)', r'$a_b$', r'$l_{\\mt{ad}}/a_b$']\n",
      "\n",
      "latex_cols = ['{:d}', '{:0.2f}', '{:0.2f}'] + ['{:0.2f}', '{:0.2f}'] + 3*['{:0.2f}']\n",
      "ltab = LatexTable(latex_hdr, latex_cols, 'Lengthscales')  # prec kwarg not usable\n",
      "\n",
      "\n",
      "for p_list, mu_vals, fobj, n in mdsp.load_fit_pkls_new(fitroot_eta2_one):  # Iterate over eta2=1 loss-lim fits\n",
      "    \n",
      "    # Get best loss-limited fit, eta=1 fixed, mu=1 only\n",
      "    for p, mu in zip(p_list, mu_vals):\n",
      "        if 0.9 < mu < 1.1:\n",
      "            break\n",
      "    \n",
      "    # Get best damped fit with ab < 0.010, eta2=1 fixed\n",
      "    ab = AB_ALL_BEST_ETA2_ONE[n]\n",
      "    droot = damproot_eta2.format(ab, eta2=1.)\n",
      "    p_list2, mu_vals2, fobj2 = mdsp.load_fit_pkl(droot, n)\n",
      "    assert 0.95 < mu_vals2[0] < 1.05, 'Expecting mu=1 only for damped fits!'\n",
      "    p2 = p_list2[0]\n",
      "    \n",
      "    assert fobj.snr.v0() == fobj2.snr.v0()\n",
      "    \n",
      "    # Get FWHM at kev_calc, scaled by SNR radius\n",
      "    idxes = np.where(abs(fobj.kevs - kev_calc) < 1e-10)[0]\n",
      "    assert len(idxes) == 1  # Only one should match\n",
      "    fwhm_kev_calc = fobj.data[idxes[0]] / fobj.snr.rsarc\n",
      "    \n",
      "    # Lengthscales in units of snr radius\n",
      "    l_ad = len_adv(fobj.snr, p['B0'].value, kev_calc) / fobj.snr.rs()\n",
      "    l_diff = len_diff(mu, p['eta2'].value, p['B0'].value, kev_calc) / fobj.snr.rs()\n",
      "    l_ad_2 = len_adv(fobj.snr, p2['B0'].value, kev_calc) / fobj.snr.rs()\n",
      "    l_diff_2 = len_diff(mu, p2['eta2'].value, p2['B0'].value, kev_calc) / fobj.snr.rs()\n",
      "    \n",
      "    assert abs(l_ad/l_diff - l_ad_2/l_diff_2) < 1e-10  # Ratio virtually identical\n",
      "    \n",
      "    l_trans = min(ab, max(l_ad_2, l_diff_2))\n",
      "    \n",
      "    # Presenting lengthscales in terms of %s now -- scaling up by 100 to make table more readable...\n",
      "    ltr = [n, fobj.snr.v0()/1e8, fwhm_kev_calc*100]  # Convert cm/s to 1e8 cm/s\n",
      "    ltr += [l_ad*100, l_ad/l_diff]\n",
      "    ltr += [l_ad_2*100, ab*100, l_ad_2/ab]\n",
      "\n",
      "    ltab.add_row(*ltr)\n",
      "print ltab"
     ],
     "language": "python",
     "metadata": {},
     "outputs": []
    },
    {
     "cell_type": "heading",
     "level": 1,
     "metadata": {},
     "source": [
      "3. Slew of plots -- intensity profiles, best fit curves/data, etc"
     ]
    },
    {
     "cell_type": "heading",
     "level": 2,
     "metadata": {},
     "source": [
      "Giant grid of energy-width data and best-fit curves (loss-limited and damped) with $\\mu=1$ _and_ $\\eta_2=1$ (postage stamps)"
     ]
    },
    {
     "cell_type": "markdown",
     "metadata": {},
     "source": [
      "Many plot settings to customize in here!\n",
      "\n",
      "Image of _Chandra_ downloaded from [CXC artist's illustrations](http://chandra.harvard.edu/resources/illustrations/craftIllustrations.html).  Image is titled _Spacecraft in Orbit_, file `msfc_chandra.pdf` converted to png with Imagemagick using:\n",
      "\n",
      "    convert -density 80 msfc_chandra.pdf msfc_chandra.png\n",
      "\n",
      "This is inefficient as output pdf includes 20 of the same raster, I think."
     ]
    },
    {
     "cell_type": "code",
     "collapsed": false,
     "input": [
      "# Tycho\n",
      "plot_pts = np.linspace(0.4, 5, 41)  # Get many pts for final plot(s)\n",
      "plot_pts = np.unique(np.concatenate((plot_pts, np.array([0.7, 1.0, 2.0, 3.0, 4.5]))))  # Also sorts plot_pts\n",
      "\n",
      "# SN 1006\n",
      "#plot_pts = np.linspace(0.4, 2.5, 41)  # Get many pts for final plot(s)\n",
      "#plot_pts = np.unique(np.concatenate((plot_pts, np.array([0.7, 1.0, 2.0]))))  # Also sorts plot_pts\n",
      "\n",
      "# Kepler\n",
      "#plot_pts = np.linspace(0.4, 4.5, 5)  # Get many pts for final plot(s)\n",
      "#plot_pts = np.unique(np.concatenate((plot_pts, np.array([0.7, 1.0, 2.0, 3.0, 4.0]))))  # Also sorts plot_pts\n",
      "\n",
      "plt_suffix = 'energywidth-subplot-stamp.pdf'\n",
      "postage_stamp = True"
     ],
     "language": "python",
     "metadata": {},
     "outputs": []
    },
    {
     "cell_type": "markdown",
     "metadata": {},
     "source": [
      "Compute the modeled FWHMs for $\\mu=1$, $\\eta_2=1$ only (where FWHMs are not computed, they are automatically masked out)"
     ]
    },
    {
     "cell_type": "code",
     "collapsed": false,
     "input": [
      "data_points = {}\n",
      "loss_curves = {}\n",
      "damp_curves = {}\n",
      "\n",
      "# Iterate over loss-limited best fits\n",
      "for p_list, mu_vals, fobj, n in mdsp.load_fit_pkls_new(fitroot_eta2_one):\n",
      "    \n",
      "    data_points[n] = fobj.kevs, fobj.data, fobj.eps\n",
      "    loss_curves[n] = mdsp.best_fit_fwhms(p_list, mu_vals, fobj,\n",
      "                                         kevs_calc=plot_pts, mu_calc=[1], get_mask=False)\n",
      "    \n",
      "    ab = AB_ALL_BEST_ETA2_ONE[n]\n",
      "    droot = damproot_eta2.format(ab, eta2=1)\n",
      "    p_list2, mu_vals2, fobj2 = mdsp.load_fit_pkl(droot, n)\n",
      "    damp_curves[n] = mdsp.best_fit_fwhms(p_list2, mu_vals2, fobj2,\n",
      "                                         kevs_calc=plot_pts, mu_calc=[1], get_mask=False)"
     ],
     "language": "python",
     "metadata": {},
     "outputs": []
    },
    {
     "cell_type": "markdown",
     "metadata": {},
     "source": [
      "Below cell is for Tycho only"
     ]
    },
    {
     "cell_type": "code",
     "collapsed": false,
     "input": [
      "fig, axes = plt.subplots(nrows=5, ncols=4, sharex=True, sharey=False, figsize=(8.5, 10))\n",
      "axes_list = np.ravel(axes, order='C')  # For iteration\n",
      "if postage_stamp:\n",
      "    msfc_chandra = plt.imread('msfc_chandra.png')\n",
      "\n",
      "for n, ax in zip(data_points, axes_list):\n",
      "    \n",
      "    # Plot data and curves\n",
      "    kevs, data, eps = data_points[n]\n",
      "    kevs_loss, data_loss = loss_curves[n]\n",
      "    kevs_damp, data_damp = damp_curves[n]\n",
      "\n",
      "    ax.errorbar(kevs, data, eps, fmt='ok', markersize=3, label='Data')\n",
      "    ax.plot(kevs_loss, data_loss, ':b', label='Loss-limited')\n",
      "    ax.plot(kevs_damp, data_damp, '-k', alpha=0.7, label='Damped')\n",
      "\n",
      "    # Compute all axis limits\n",
      "    kevs_all = np.concatenate((kevs, kevs_loss, kevs_damp))\n",
      "    _gap = 1.2*max(eps) + 0.05  # 0.05 is fudge factor to round down/up to nearest 1/10ths place\n",
      "    xmin, xmax = min(kevs_all), max(kevs_all)\n",
      "    ymin, ymax = round(min(data) - _gap, 1), round(max(data) + _gap, 1)\n",
      "    \n",
      "    # Customize to get nicer tickmarks\n",
      "    if n == 2:\n",
      "        ymin = 2\n",
      "    elif n == 3:\n",
      "        ymin, ymax = 1.2, 2.6\n",
      "    elif n == 7:\n",
      "        ymin = 1.6\n",
      "    elif n == 8:\n",
      "        ymax = 3.0\n",
      "    elif n == 11:\n",
      "        ymin = 1.5\n",
      "    elif n == 14:\n",
      "        ymin = 2.0\n",
      "    elif n == 15:\n",
      "        ymin = 1.4\n",
      "    \n",
      "    # Annotations for individual subplots\n",
      "    if postage_stamp:\n",
      "        ax.imshow(msfc_chandra, alpha=0.25, extent=(xmin,xmax, ymin,ymax))\n",
      "        ax.axis('tight')  # Forces matplotlib to obey ax.set_[x,y]lim\n",
      "        \n",
      "        ax.text(0.4, 0.88, r'\\emph{FOREVER} \\textbar~USA', fontsize=8, color='white',\n",
      "                transform=ax.transAxes, horizontalalignment='left')\n",
      "    else:\n",
      "        if n == 1:\n",
      "            ax.legend(loc='best', prop={'size':7})\n",
      "\n",
      "        _xpos = 0.4 if n == 1 else 0.82  # If figure sizing changes, update position\n",
      "        _ypos = 0.8\n",
      "        ax.text(_xpos, _ypos, str(n), fontsize=14,\n",
      "                transform=ax.transAxes, horizontalalignment='right')\n",
      "    \n",
      "    # Apply axis limits, tickmarks, labels\n",
      "    ax.set_xlim((xmin,xmax))\n",
      "    ax.set_ylim((ymin,ymax))\n",
      "    \n",
      "    if n > 16:\n",
      "        ax.set_xlabel('Energy (keV)')\n",
      "    if (n-1)%4 == 0:\n",
      "        ax.set_ylabel('FWHM (arcsec.)')\n",
      "    \n",
      "    ax.set_xticks([1.0, 2.0, 3.0, 4.0, 5.0])\n",
      "    ax.minorticks_on()\n",
      "    \n",
      "plt.tight_layout()\n",
      "plt.savefig(plt_outroot + plt_suffix, dpi=300)\n",
      "plt.show()"
     ],
     "language": "python",
     "metadata": {},
     "outputs": []
    },
    {
     "cell_type": "markdown",
     "metadata": {},
     "source": [
      "Below is for SN 1006 only"
     ]
    },
    {
     "cell_type": "code",
     "collapsed": false,
     "input": [
      "fig, axes = plt.subplots(nrows=2, ncols=3, sharex=True, sharey=False, figsize=(6.5, 4))\n",
      "axes_list = np.ravel(axes, order='C')  # For iteration\n",
      "if postage_stamp:\n",
      "    msfc_chandra = plt.imread('msfc_chandra.png')\n",
      "\n",
      "for n, ax in zip(data_points, axes_list):\n",
      "    \n",
      "    # Plot data and curves\n",
      "    kevs, data, eps = data_points[n]\n",
      "    kevs_loss, data_loss = loss_curves[n]\n",
      "    kevs_damp, data_damp = damp_curves[n]\n",
      "\n",
      "    ax.errorbar(kevs, data, eps, fmt='ok', markersize=3, label='Data')\n",
      "    ax.plot(kevs_loss, data_loss, ':b', label='Loss-limited')\n",
      "    ax.plot(kevs_damp, data_damp, '-k', alpha=0.7, label='Damped')\n",
      "\n",
      "    # Compute all axis limits\n",
      "    kevs_all = np.concatenate((kevs, kevs_loss, kevs_damp))\n",
      "    _gap = 1.2*max(eps) + 0.05  # 0.05 is fudge factor to round down/up to nearest 1/10ths place\n",
      "    xmin, xmax = min(kevs_all), max(kevs_all)\n",
      "    ymin, ymax = round(min(data) - _gap, 1), round(max(data) + _gap, 1)\n",
      "    \n",
      "    #  Customize to get nicer tickmarks\n",
      "    if n == 1:\n",
      "        ymax = 38\n",
      "    elif n == 2:\n",
      "        ymin, ymax = 10, 26\n",
      "    elif n == 3:\n",
      "        ymax = 55\n",
      "    elif n == 4:\n",
      "        ymax = 32\n",
      "    elif n== 5:\n",
      "        ymin = 23\n",
      "    \n",
      "    # Annotations for individual subplots\n",
      "    if postage_stamp:\n",
      "        ax.imshow(msfc_chandra, alpha=0.25, extent=(xmin,xmax, ymin,ymax))\n",
      "        ax.axis('tight')  # Forces matplotlib to obey ax.set_[x,y]lim\n",
      "        \n",
      "        ax.text(0.4, 0.88, r'\\emph{FOREVER} \\textbar~USA', fontsize=8, color='white',\n",
      "                transform=ax.transAxes, horizontalalignment='left')\n",
      "    else:\n",
      "        if n == 1:\n",
      "            ax.legend(loc='best', prop={'size':7})\n",
      "\n",
      "        _xpos = 0.4 if n == 1 else 0.82  # If figure sizing changes, update position\n",
      "        _ypos = 0.8\n",
      "        ax.text(_xpos, _ypos, str(n), fontsize=14,\n",
      "                transform=ax.transAxes, horizontalalignment='right')\n",
      "    \n",
      "    # Apply axis limits, tickmarks, labels\n",
      "    ax.set_xlim((xmin,xmax))\n",
      "    ax.set_ylim((ymin,ymax))\n",
      "    \n",
      "    if n > 3:\n",
      "        ax.set_xlabel('Energy (keV)')\n",
      "    if (n-1)%3 == 0:\n",
      "        ax.set_ylabel('FWHM (arcsec.)')\n",
      "    \n",
      "    #ax.set_xticks([1.0, 2.0, 3.0, 4.0, 5.0])\n",
      "    ax.minorticks_on()\n",
      "    \n",
      "plt.tight_layout()\n",
      "plt.savefig(plt_outroot + plt_suffix, dpi=300)\n",
      "plt.show()"
     ],
     "language": "python",
     "metadata": {},
     "outputs": []
    },
    {
     "cell_type": "markdown",
     "metadata": {},
     "source": [
      "Now for Kepler..."
     ]
    },
    {
     "cell_type": "code",
     "collapsed": false,
     "input": [
      "fig, axes = plt.subplots(nrows=2, ncols=4, sharex=True, sharey=False, figsize=(8.5, 4))\n",
      "axes_list = np.ravel(axes, order='C')  # For iteration\n",
      "if postage_stamp:\n",
      "    msfc_chandra = plt.imread('msfc_chandra.png')\n",
      "\n",
      "for n, ax in zip(data_points, axes_list):\n",
      "    \n",
      "    # Plot data and curves\n",
      "    kevs, data, eps = data_points[n]\n",
      "    kevs_loss, data_loss = loss_curves[n]\n",
      "    kevs_damp, data_damp = damp_curves[n]\n",
      "\n",
      "    ax.errorbar(kevs, data, eps, fmt='ok', markersize=3, label='Data')\n",
      "    ax.plot(kevs_loss, data_loss, ':b', label='Loss-limited')\n",
      "    ax.plot(kevs_damp, data_damp, '-k', alpha=0.7, label='Damped')\n",
      "\n",
      "    # Compute all axis limits\n",
      "    kevs_all = np.concatenate((kevs, kevs_loss, kevs_damp))\n",
      "    _gap = 1.2*max(eps) + 0.05  # 0.05 is fudge factor to round down/up to nearest 1/10ths place\n",
      "    xmin, xmax = min(kevs_all), max(kevs_all)\n",
      "    ymin, ymax = round(min(data) - _gap, 1), round(max(data) + _gap, 1)\n",
      "    \n",
      "    # Customize to get nicer tickmarks\n",
      "    #if n == 2:\n",
      "    #    ymin = 2\n",
      "    \n",
      "    # Annotations for individual subplots\n",
      "    if postage_stamp:\n",
      "        ax.imshow(msfc_chandra, alpha=0.25, extent=(xmin,xmax, ymin,ymax))\n",
      "        ax.axis('tight')  # Forces matplotlib to obey ax.set_[x,y]lim\n",
      "        \n",
      "        ax.text(0.4, 0.88, r'\\emph{FOREVER} \\textbar~USA', fontsize=8, color='white',\n",
      "                transform=ax.transAxes, horizontalalignment='left')\n",
      "    else:\n",
      "        if n == 1:\n",
      "            ax.legend(loc='best', prop={'size':7})\n",
      "\n",
      "        _xpos = 0.4 if n == 1 else 0.82  # If figure sizing changes, update position\n",
      "        _ypos = 0.8\n",
      "        ax.text(_xpos, _ypos, str(n), fontsize=14,\n",
      "                transform=ax.transAxes, horizontalalignment='right')\n",
      "    \n",
      "    # Apply axis limits, tickmarks, labels\n",
      "    ax.set_xlim((xmin,xmax))\n",
      "    ax.set_ylim((ymin,ymax))\n",
      "    \n",
      "    if n > 4:\n",
      "        ax.set_xlabel('Energy (keV)')\n",
      "    if (n-1)%4 == 0:\n",
      "        ax.set_ylabel('FWHM (arcsec.)')\n",
      "    \n",
      "    ax.set_xticks([1.0, 2.0, 3.0, 4.0, 5.0])\n",
      "    ax.minorticks_on()\n",
      "    \n",
      "plt.tight_layout()\n",
      "plt.savefig(plt_outroot + plt_suffix, dpi=300)\n",
      "plt.show()"
     ],
     "language": "python",
     "metadata": {},
     "outputs": []
    },
    {
     "cell_type": "heading",
     "level": 2,
     "metadata": {},
     "source": [
      "Energy-width plots like above, but for individual regions w/ various mu values.  $\\eta_2=1$ fixed."
     ]
    },
    {
     "cell_type": "markdown",
     "metadata": {},
     "source": [
      "A lot of redundant code (some stuff factored into `models_disp`) but it works."
     ]
    },
    {
     "cell_type": "code",
     "collapsed": false,
     "input": [
      "fmt_vals = [':b', ':g', ':m', '--k', '--m', '--g']  # For each mu value\n",
      "\n",
      "# 0.65 to 5 keV for Tycho\n",
      "# 0.65 to 2.15 keV for SN1006\n",
      "plot_pts = np.linspace(0.65, 5, 40)  # Set to high # for final plots\n",
      "plot_pts = np.concatenate((np.array([0.7, 1.0, 2.0, 3.0, 4.5]), plot_pts))\n",
      "plot_pts= np.sort(plot_pts)\n",
      "plt_suffix = 'energywidth-eta2one-{:02d}.pdf'  # Default for paper plots\n",
      "\n",
      "# Low energy extrapolation\n",
      "#plot_pts = np.linspace(0.1, 2.15, 40)\n",
      "#plt_suffix = 'energywidth-lowE-{:02d}.pdf'"
     ],
     "language": "python",
     "metadata": {},
     "outputs": []
    },
    {
     "cell_type": "markdown",
     "metadata": {},
     "source": [
      "Copy-pasted, very much like above, but with multiple $\\mu$ values for loss-lim. fits (and only two specific regions)"
     ]
    },
    {
     "cell_type": "code",
     "collapsed": false,
     "input": [
      "data_points = {}\n",
      "loss_curves = {}\n",
      "damp_curves = {}\n",
      "\n",
      "# Iterate over loss-limited best fits\n",
      "for p_list, mu_vals, fobj, n in mdsp.load_fit_pkls_new(fitroot_eta2_one):\n",
      "    \n",
      "    if n != 1 and n != 16:\n",
      "        continue\n",
      "    \n",
      "    data_points[n] = fobj.kevs, fobj.data, fobj.eps\n",
      "    loss_curves[n] = mdsp.best_fit_fwhms(p_list, mu_vals, fobj,\n",
      "                                         kevs_calc=plot_pts, mu_calc=mu_vals, get_mask=False)\n",
      "    \n",
      "    # Compute and plot best damping fit (mu=1)\n",
      "    ab = AB_ALL_BEST_ETA2_ONE[n]\n",
      "    droot = damproot_eta2.format(ab, eta2=1)\n",
      "    p_list2, mu_vals2, fobj2 = mdsp.load_fit_pkl(droot, n)\n",
      "    damp_curves[n] = mdsp.best_fit_fwhms(p_list2, mu_vals2, fobj2,\n",
      "                                         kevs_calc=plot_pts, mu_calc=[1], get_mask=False)"
     ],
     "language": "python",
     "metadata": {},
     "outputs": []
    },
    {
     "cell_type": "code",
     "collapsed": false,
     "input": [
      "for n, _ in data_points.items():\n",
      "    \n",
      "    # Plot data and curves\n",
      "    kevs, data, eps = _\n",
      "    kevs_loss_mult, data_loss_mult = loss_curves[n]  # Multiple mu values expected\n",
      "    kevs_damp, data_damp = damp_curves[n]\n",
      "    \n",
      "    # Set up plot, plot FWHM data\n",
      "    plt.figure(figsize=(3.5, 2.6))\n",
      "    ax = plt.gca()\n",
      "    ax.errorbar(kevs, data, eps, fmt='ok', label='Data')\n",
      "    \n",
      "    # Plot best loss-limited fits for all mu\n",
      "    for kevs_loss, data_loss, mu, fmt in zip(kevs_loss_mult, data_loss_mult, mu_vals, fmt_vals):\n",
      "        ax.plot(kevs_loss, data_loss, fmt, label=r'$\\mu = {:0.2f}$'.format(mu))\n",
      "        # WARNING: this assumes that mu_vals is the same for every region;\n",
      "        # runs using the mu_vals from previous cell... hacky bad code\n",
      "    \n",
      "    ax.plot(kevs_damp, data_damp, '-k', linewidth=2, label=r'Damped')\n",
      "\n",
      "    # Assemble final plot\n",
      "    if n == 1:  # Only show legend for Region 1\n",
      "        ax.legend(loc='best', prop={'size':8})\n",
      "        _xpos = 0.6\n",
      "    else:\n",
      "        _xpos = 0.9\n",
      "    ax.text(_xpos, 0.8, str(n),  # Print region number\n",
      "            fontsize=18, fontweight='bold',\n",
      "            transform=ax.transAxes,\n",
      "            horizontalalignment='right')\n",
      "    \n",
      "    \n",
      "    ax.set_xticks([1.0, 2.0, 3.0, 4.0, 5.0])\n",
      "    ax.minorticks_on()\n",
      "    \n",
      "    fplot('Energy (keV)', 'FWHM (arcsec.)', axargs='tight')\n",
      "    \n",
      "    plt.tight_layout()\n",
      "    plt.savefig(plt_outroot + plt_suffix.format(n), dpi=300)\n",
      "    plt.show()"
     ],
     "language": "python",
     "metadata": {},
     "outputs": []
    },
    {
     "cell_type": "heading",
     "level": 2,
     "metadata": {},
     "source": [
      "Intensity profiles for best fit parameters (damped and loss-limited at $\\mu=1$, $\\eta_2 = 1$)."
     ]
    },
    {
     "cell_type": "markdown",
     "metadata": {},
     "source": [
      "Customize code to plot variety of energies as desired (lower X-ray to UV energies, radio wavelengths).\n",
      "\n",
      "These plots are not super informative, but let us inspect profiles as a function of energy quickly."
     ]
    },
    {
     "cell_type": "code",
     "collapsed": false,
     "input": [
      "# Tycho\n",
      "plot_kws = {'irmax': 400, 'iradmax': 200, 'rminarc': 24, 'irad_adapt': False}\n",
      "rsarc = snrcat.make_tycho().rsarc\n",
      "plt_suffix = 'prfs-fit-{:02d}.pdf'\n",
      "\n",
      "kevs_plot = np.array([5.6865e-9, 0.01, 0.1, 0.7, 1.0, 2.0, 3.0, 4.5])  # 1, 3.1623, 10 are ~equally log-spaced\n",
      "# 5.6865e-9 keV/h = 1.375 GHz\n",
      "colors = ['r', 'r', 'r', 'magenta', 'g', 'cyan', 'b', 'k']\n",
      "linestyles = [':', '-.', '--',] + 5*['-']"
     ],
     "language": "python",
     "metadata": {},
     "outputs": []
    },
    {
     "cell_type": "code",
     "collapsed": false,
     "input": [
      "# Kepler\n",
      "plot_kws = {'irmax': 400, 'iradmax': 200, 'rminarc': 10, 'irad_adapt': False}\n",
      "rsarc = snrcat.make_kepler().rsarc\n",
      "plt_suffix = 'prfs_{:02d}.pdf'\n",
      "\n",
      "kevs_plot = np.array([0.7, 1.0, 2.0, 4.0])\n",
      "colors = ['orange', 'magenta', 'green', 'blue']\n",
      "linestyles = ['-', '-', '-', '-']"
     ],
     "language": "python",
     "metadata": {},
     "outputs": []
    },
    {
     "cell_type": "code",
     "collapsed": false,
     "input": [
      "# SN 1006\n",
      "#kevs_plot = np.array([0.7, 1.0, 2.0])\n",
      "#colors = ['magenta', 'green', 'blue']\n",
      "#linestyles = 3*['-']\n",
      "\n",
      "#kevs_plot = np.array([0.05, 0.1, 0.2, 0.5, 1., 2., 4.])  # lots of low energies\n",
      "#colors =     ['b', 'g', 'm', 'k', 'k',  'm',  'g']\n",
      "#linestyles = [':', ':', ':', ':', '--', '--', '--']\n",
      "\n",
      "#kevs_plot = np.array([4.136e-9, 2.07e-8, 1., 4.5])  # Radio wavelengths"
     ],
     "language": "python",
     "metadata": {},
     "outputs": []
    },
    {
     "cell_type": "markdown",
     "metadata": {},
     "source": [
      "Generate and save intensity profiles for damped/loss-limited best fit parameters"
     ]
    },
    {
     "cell_type": "code",
     "collapsed": false,
     "input": [
      "loss_prfs = {}\n",
      "damp_prfs = {}\n",
      "\n",
      "for p_list, mu_vals, fobj, n in mdsp.load_fit_pkls_new(fitroot_eta2_one):  # Taking eta2 = 1\n",
      "    \n",
      "    kevs_calc = kevs_plot\n",
      "    \n",
      "    # Get best loss-limited fit intensity profiles\n",
      "    loss_prfs[n] = mdsp.best_fit_fwhms(p_list, mu_vals, fobj, kevs_calc = kevs_calc, mu_calc=[1],\n",
      "                                    get_mask=False, get_prfs=True, itmax=500, inmax=100,\n",
      "                                    **plot_kws)\n",
      "    \n",
      "    # Get best damped fit intensity profiles, eta2 = 1 enforced\n",
      "    droot = damproot_eta2.format(AB_ALL_BEST_ETA2_ONE[n], eta2=1)\n",
      "    p_list2, mu_vals2, fobj2 = mdsp.load_fit_pkl(droot, n)\n",
      "    \n",
      "    damp_prfs[n] = mdsp.best_fit_fwhms(p_list2, mu_vals2, fobj2, kevs_calc = kevs_calc, mu_calc=[1],\n",
      "                                    get_mask=False, get_prfs=True,\n",
      "                                    **plot_kws)"
     ],
     "language": "python",
     "metadata": {},
     "outputs": []
    },
    {
     "cell_type": "markdown",
     "metadata": {},
     "source": [
      "Plot intensity profiles for each region"
     ]
    },
    {
     "cell_type": "code",
     "collapsed": false,
     "input": [
      "blacklist = []\n",
      "\n",
      "for n in np.sort(loss_prfs.keys()):  # Enforce ordering...\n",
      "    \n",
      "    # Set up subplot\n",
      "    fig, axes = plt.subplots(1, 2, figsize=(6, 3), sharey=True)\n",
      "    ax1, ax2 = axes\n",
      "    \n",
      "    # Unload data and check that all makes sense\n",
      "    ab = AB_ALL_BEST_ETA2_ONE[n]\n",
      "    kevs_m, _ = loss_prfs[n]\n",
      "    fwhms_m, intensity_m, rgrids_m = _\n",
      "    kevs_d, _ = damp_prfs[n]\n",
      "    fwhms_d, intensity_d, rgrids_d = _\n",
      "    assert np.array_equal(kevs_m, kevs_d)\n",
      "    \n",
      "    # Plot elements\n",
      "    ax1.axhline(y=0.5, color='k', alpha=0.5, ls='-')  # Show where FWHM is being measured\n",
      "    ax2.axhline(y=0.5, color='k', alpha=0.5, ls='-')\n",
      "    ax2.axvspan((1-ab)*rsarc, rsarc, color='0.2', alpha=0.1)  # Shade in damping lengthscale\n",
      "    \n",
      "    ax1.grid(color='k', which='major', alpha=0.1, linestyle='-')  # Gridding\n",
      "    ax2.grid(color='k', which='major', alpha=0.1, linestyle='-')\n",
      "    \n",
      "    for en, idx in zip(kevs_m, xrange(len(kevs_m))):\n",
      "        \n",
      "        if en < 0.001:  # If working at energies below 1 eV, convert to GHz\n",
      "            legend_lab = r'{:0.4g} GHz'.format(en * 2.417989e8)  # 1 keV/h = 2.417989e8 GHz\n",
      "        else:\n",
      "            legend_lab = r'{:0.1g} keV'.format(en)\n",
      "        \n",
      "        ax1.plot(rgrids_m[idx], intensity_m[idx] / np.amax(intensity_m[idx]), linestyle=linestyles[idx], c=colors[idx])\n",
      "        ax2.plot(rgrids_d[idx], intensity_d[idx] / np.amax(intensity_d[idx]), linestyle=linestyles[idx], c=colors[idx],\n",
      "                 label=legend_lab)\n",
      "    \n",
      "    fplot('Radial position (arcsec.)', 'Intensity (a.u.)', ax=ax1, axargs='tight')\n",
      "    fplot('Radial position (arcsec.)', '', ax=ax2, axargs='tight')\n",
      "    ax1.set_ylim(0., 1.0)\n",
      "    ax2.set_ylim(0., 1.0)\n",
      "    \n",
      "    # Print region number\n",
      "    ax1.text(0.1, 0.82, str(n), fontsize=18, transform=ax1.transAxes,\n",
      "             horizontalalignment='left')\n",
      "    \n",
      "    # For manuscript only\n",
      "    if n == 1:\n",
      "        ax1.set_title('Loss-limited', fontsize=12)\n",
      "        ax2.set_title('Damped', fontsize=12)\n",
      "    elif n == 16:\n",
      "        ax2.legend(loc='best', prop={'size':8})\n",
      "    \n",
      "    if any(fwhms_d > 0.99*rsarc):\n",
      "        blacklist.append(n)\n",
      "    \n",
      "    plt.tight_layout()\n",
      "    plt.savefig(plt_outroot + plt_suffix.format(n), dpi=300)  # dpi irrelevant here\n",
      "    plt.show()\n",
      "\n",
      "print 'The following regions exhibit weak-field damping'\n",
      "print '(at least one low-energy profile considered has no FWHM)'\n",
      "print blacklist, '\\n'"
     ],
     "language": "python",
     "metadata": {},
     "outputs": []
    },
    {
     "cell_type": "markdown",
     "metadata": {},
     "source": [
      "As above, but now plot _only_ damped fits to illustrate damped vs. loss-limited fits."
     ]
    },
    {
     "cell_type": "code",
     "collapsed": false,
     "input": [
      "plt_suffix = 'prfs-fit-damp-{:02d}.pdf'"
     ],
     "language": "python",
     "metadata": {},
     "outputs": []
    },
    {
     "cell_type": "code",
     "collapsed": false,
     "input": [
      "blacklist = []\n",
      "\n",
      "for n in np.sort(loss_prfs.keys()):  # Enforce ordering...\n",
      "    \n",
      "    plt.figure(figsize=(4, 3))\n",
      "    ax = plt.gca()\n",
      "    \n",
      "    # Unload data\n",
      "    ab = AB_ALL_BEST_ETA2_ONE[n]\n",
      "    kevs_d, _ = damp_prfs[n]\n",
      "    fwhms_d, intensity_d, rgrids_d = _\n",
      "    \n",
      "    # Plot elements\n",
      "    ax.axhline(y=0.5, color='k', alpha=0.5, ls='-')  # Show where FWHM is being measured\n",
      "    ax.axvspan((1-ab)*rsarc, rsarc, color='0.2', alpha=0.1)  # Shade in damping lengthscale\n",
      "    ax.grid(color='k', which='major', alpha=0.1, linestyle='-')\n",
      "    \n",
      "    # Plot model profiles\n",
      "    for en, idx in zip(kevs_m, xrange(len(kevs_m))):\n",
      "        \n",
      "        if en < 0.001:  # If working at energies below 1 eV, convert to GHz\n",
      "            legend_lab = r'{:0.4g} GHz'.format(en * 2.417989e8)  # 1 keV/h = 2.417989e8 GHz\n",
      "        else:\n",
      "            legend_lab = r'{:0.1g} keV'.format(en)\n",
      "        \n",
      "        ax.plot(rgrids_d[idx], intensity_d[idx] / np.amax(intensity_d[idx]), linestyle=linestyles[idx], c=colors[idx],\n",
      "                label=legend_lab)\n",
      "    \n",
      "    fplot('Radial position (arcsec.)', 'Intensity (a.u.)', ax=ax, axargs='tight')\n",
      "    ax.set_ylim(0., 1.0)\n",
      "    \n",
      "    # For manuscript, region number / legend\n",
      "    if n == 16:\n",
      "        ax.legend(loc='best', prop={'size':8})\n",
      "        ax.text(0.35, 0.82, str(n), fontsize=18, transform=ax.transAxes,\n",
      "                horizontalalignment='left')\n",
      "    else:\n",
      "        ax.text(0.1, 0.82, str(n), fontsize=18, transform=ax.transAxes,\n",
      "                horizontalalignment='left')\n",
      "    \n",
      "    if any(fwhms_d > 0.99*rsarc):\n",
      "        blacklist.append(n)\n",
      "    \n",
      "    plt.tight_layout()\n",
      "    plt.savefig(plt_outroot + plt_suffix.format(n), dpi=300)  # dpi irrelevant here\n",
      "    plt.show()\n",
      "\n",
      "print 'The following regions exhibit weak-field damping'\n",
      "print '(at least one low-energy profile considered has no FWHM)'\n",
      "print blacklist, '\\n'"
     ],
     "language": "python",
     "metadata": {},
     "outputs": []
    },
    {
     "cell_type": "heading",
     "level": 2,
     "metadata": {},
     "source": [
      "Same intensity plots as above, split into 5 subplots to show w/ data"
     ]
    },
    {
     "cell_type": "markdown",
     "metadata": {},
     "source": [
      "Show how well (or how poorly) profiles based on width-energy dep. only, match the full profile"
     ]
    },
    {
     "cell_type": "code",
     "collapsed": false,
     "input": [
      "import json\n",
      "\n",
      "import json_utils as jsu\n",
      "import regdict_utils as rdu"
     ],
     "language": "python",
     "metadata": {},
     "outputs": []
    },
    {
     "cell_type": "code",
     "collapsed": false,
     "input": [
      "# Tycho\n",
      "fwhm_root = '../../data-tycho/regions-6/fwhms-subbkg/fwhms'\n",
      "kevs_all = np.array([0.7, 1., 2., 3., 4.5])\n",
      "plt_suffix = 'prfs-fit-and-data-{:02d}.pdf'"
     ],
     "language": "python",
     "metadata": {},
     "outputs": []
    },
    {
     "cell_type": "markdown",
     "metadata": {},
     "source": [
      "Recalculate with profiles for all energies, makes code much simpler"
     ]
    },
    {
     "cell_type": "code",
     "collapsed": false,
     "input": [
      "loss_prfs = {}\n",
      "damp_prfs = {}\n",
      "\n",
      "for p_list, mu_vals, fobj, n in mdsp.load_fit_pkls_new(fitroot_eta2_one):\n",
      "    \n",
      "    kevs_calc = kevs_all  # Use all energies\n",
      "    \n",
      "    # Get best loss-limited fit intensity profiles\n",
      "    loss_prfs[n] = mdsp.best_fit_fwhms(p_list, mu_vals, fobj, kevs_calc = kevs_calc, mu_calc=[1],\n",
      "                                    get_mask=False, get_prfs=True, itmax=500, inmax=100,\n",
      "                                    **plot_kws)\n",
      "    \n",
      "    # Get best damped fit intensity profiles\n",
      "    droot = damproot_eta2.format(AB_ALL_BEST_ETA2_ONE[n], eta2=1.)\n",
      "    p_list2, mu_vals2, fobj2 = mdsp.load_fit_pkl(droot, n)\n",
      "    \n",
      "    damp_prfs[n] = mdsp.best_fit_fwhms(p_list2, mu_vals2, fobj2, kevs_calc = kevs_calc, mu_calc=[1],\n",
      "                                    get_mask=False, get_prfs=True,\n",
      "                                    **plot_kws)"
     ],
     "language": "python",
     "metadata": {},
     "outputs": []
    },
    {
     "cell_type": "markdown",
     "metadata": {},
     "source": [
      "This is copy-pasted from the radio/X-ray profile processing notebook (`proc_radio_xray_prfs.ipynb`)"
     ]
    },
    {
     "cell_type": "code",
     "collapsed": false,
     "input": [
      "def get_zero_crossings(x,y,y_cross):\n",
      "    \"\"\"x,y numpy arrays; y_cross must be a scalar.  Finds x-pos of all crossings of y_cross in y\n",
      "    (linearly interpolating between discrete pts)\"\"\"\n",
      "    cross_idx = np.where(np.diff(np.sign(y - y_cross)))[0]  # Left side of crossing\n",
      "    \n",
      "    x_crosses = []\n",
      "    \n",
      "    for idx in cross_idx:\n",
      "        slope = (y[idx+1] - y[idx]) / (x[idx+1] - x[idx])\n",
      "        x_cross = x[idx] + (y_cross - y[idx]) / slope\n",
      "        x_crosses.append(x_cross)\n",
      "    \n",
      "    return np.array(x_crosses)"
     ],
     "language": "python",
     "metadata": {},
     "outputs": []
    },
    {
     "cell_type": "code",
     "collapsed": false,
     "input": [
      "for rdict, n in rdu.regdict_load(fwhm_root):  # Yes, this comes out ordered\n",
      "    \n",
      "    # Set up plot for n-th region\n",
      "    fig, axes = plt.subplots(2, 5, figsize=(12, 4.5), sharex=True, sharey=True)\n",
      "    ab = AB_ALL_BEST_ETA2_ONE[n]\n",
      "        \n",
      "    for row, n_row in zip(axes, xrange(len(axes))):\n",
      "        \n",
      "        # Get loss-limited or damped model data\n",
      "        if n_row == 0:  # First row\n",
      "            fwhms, intensity, rgrids = loss_prfs[n][1]\n",
      "        else:\n",
      "            fwhms, intensity, rgrids = damp_prfs[n][1]\n",
      "        \n",
      "        # Plot data, model for each energy (even if FWHM not measured!)\n",
      "        for lab, ax, idx in zip(labels, row, xrange(len(kevs_all))):\n",
      "            \n",
      "            # Plot model prediction\n",
      "            ax.plot(rgrids[idx], intensity[idx] / np.amax(intensity[idx]),\n",
      "                    linestyle='-', c='k')\n",
      "            \n",
      "            # Get actual data, and align based on model and measured FWHMs\n",
      "            x, y, y_err, c = rdict[lab]['data']  # c = fit domain cutoff, on left\n",
      "            w = rdict[lab]['fwhm']\n",
      "            lims = rdict[lab]['lims']\n",
      "            \n",
      "            x_fwhms = get_zero_crossings(rgrids[idx], intensity[idx] / np.amax(intensity[idx]),\n",
      "                                         0.5)  # Find FWHM locations\n",
      "            if np.isfinite(w):  \n",
      "                measured_fwhm_right = lims[1]\n",
      "            else:  # HACKY WORKAROUND: this only occurs if idx = 0.  Get 1 keV FWHM instead\n",
      "                measured_fwhm_right =  rdict[labels[idx+1]]['lims'][1]\n",
      "            x_shift = x_fwhms[-1] - measured_fwhm_right\n",
      "            x = x + x_shift  # Translate forward!\n",
      "            \n",
      "            # Plot actual data\n",
      "            ax.errorbar(x[c:], y[c:] / np.amax(y[c:]), yerr=y_err[c:]/np.amax(y[c:]),\n",
      "                        xerr=np.ones_like(y_err[c:]) * 0.492, fmt='.b', capsize=0, ms=0)\n",
      "            if c > 0:\n",
      "                ax.errorbar(x[:c], y[:c] / np.amax(y[:c]), yerr=y_err[:c]/np.amax(y[:c]),\n",
      "                            xerr=np.ones_like(y_err[:c]) * 0.492, fmt='.k', capsize=0, ms=0,\n",
      "                            alpha=0.2)\n",
      "            \n",
      "            # Annotations -- mark measured FWHM location and draw 0.5\n",
      "            if np.isfinite(w):\n",
      "                ax.axvline(lims[0] + x_shift, ls=':', c='r', lw=1, alpha=1)\n",
      "                ax.axvline(lims[1] + x_shift, ls=':', c='r', lw=1, alpha=1)\n",
      "                ax.axhline(y=0.5, color='r', alpha=0.5, ls='-')\n",
      "            if n_row == 1:  # Damped case\n",
      "                ax.axvspan((1-ab)*rsarc, rsarc, color='0.2', alpha=0.1)  # Shade in damping lengthscale\n",
      "            \n",
      "            # Plot labels, etc.\n",
      "            if n_row == 1:\n",
      "                ax.set_xlabel('Radial position (arcsec.)')\n",
      "            if lab == '0.7-1kev':\n",
      "                ax.set_ylabel('Normalized intensity')\n",
      "                if n_row == 0:  # Top-left subplot\n",
      "                    ax.text(0.90, 0.82, str(n), fontsize=18, transform=ax.transAxes,\n",
      "                             horizontalalignment='right')\n",
      "            \n",
      "            ax.set_ylim(0, 1)\n",
      "            ax.set_xlim(x[0], x[-1])\n",
      "            ax.set_title(labels_nice[idx])\n",
      "\n",
      "    plt.tight_layout()\n",
      "    plt.savefig(plt_outroot + plt_suffix.format(n), dpi=300)  # dpi irrelevant here\n",
      "    plt.show()\n",
      "    print ''"
     ],
     "language": "python",
     "metadata": {},
     "outputs": []
    },
    {
     "cell_type": "heading",
     "level": 1,
     "metadata": {},
     "source": [
      "4. Table and plot for radio/X-ray eyeballed fits"
     ]
    },
    {
     "cell_type": "markdown",
     "metadata": {},
     "source": [
      "Input as dict of `n: (B0, ab)` with B0 specified in $\\mu$G"
     ]
    },
    {
     "cell_type": "code",
     "collapsed": false,
     "input": [
      "snr = snrcat.make_tycho()\n",
      "kev_calc = 2.0  # Compute everything at 2 keV\n",
      "\n",
      "eyeball_fits = {  1: ( 50, 0.02),\n",
      "                  2: (200, 0.05),\n",
      "                  3: ( 15, 0.01),\n",
      "                  4: (100, 0.05),\n",
      "                  5: (120, 0.03),\n",
      "                  6: (300, 0.025),\n",
      "                  7: (250, 0.02),\n",
      "                  8: (300, 0.02),\n",
      "                  9: (250, 0.02),\n",
      "                 10: (300, 0.3),\n",
      "                 11: (400, 0.01),\n",
      "                 12: (250, 0.2),\n",
      "                 13: (200, np.inf),\n",
      "                 14: (800, 0.01),\n",
      "                 15: (200, 0.005),\n",
      "                 16: (150, 0.012)}\n",
      "\n",
      "the_alphabet_song = 'abcdefghijklmnopqrstuvwxyz'.upper()\n",
      "def get_lett(n):\n",
      "    return the_alphabet_song[n-1]"
     ],
     "language": "python",
     "metadata": {},
     "outputs": []
    },
    {
     "cell_type": "heading",
     "level": 2,
     "metadata": {},
     "source": [
      "First, make a table of eyeball fit results + compute $l_{\\mathrm{ad}}$ and stuff"
     ]
    },
    {
     "cell_type": "code",
     "collapsed": false,
     "input": [
      "latex_hdr = [r'Region', r'$B_0$', r'$a_b$', r'$l_{\\mt{ad}}(2\\unit{keV})$', r'$l_{\\mt{ad}}/a_b$']\n",
      "\n",
      "latex_cols = ['{:s}', '{:0.0f}', '{:0.2f}', '{:0.2f}', '{:0.2f}']\n",
      "ltab = LatexTable(latex_hdr, latex_cols, 'Eyeballed fits')  # prec kwarg not usable\n",
      "\n",
      "for n in np.sort(eyeball_fits.keys()):\n",
      "    \n",
      "    B0 = eyeball_fits[n][0] * 1e-6\n",
      "    ab = eyeball_fits[n][1]\n",
      "    \n",
      "    # Lengthscales in units of snr radius\n",
      "    l_ad = len_adv(fobj.snr, B0, kev_calc) / snr.rs()\n",
      "    l_diff = len_diff(1.0, 1.0, B0, kev_calc) / snr.rs()  # mu=1, eta2=1 assumed here\n",
      "    \n",
      "    # Presenting lengthscales in terms of %s now -- scaling up by 100 to make table more readable...\n",
      "    ltr = [get_lett(n), B0*1e6, ab*100]  # Convert cm/s to 1e8 cm/s\n",
      "    ltr += [l_ad*100, l_ad/ab]\n",
      "\n",
      "    ltab.add_row(*ltr)\n",
      "print ltab"
     ],
     "language": "python",
     "metadata": {},
     "outputs": []
    },
    {
     "cell_type": "heading",
     "level": 2,
     "metadata": {},
     "source": [
      "Compare FWHM data with width-energy dep. predicted by eyeballed radio/X-ray fits?"
     ]
    },
    {
     "cell_type": "markdown",
     "metadata": {},
     "source": [
      "I.e., go the other way.  We just used width-energy fits to generate model profiles.  Now we can use profile-based fits to generate width-energy predictions.\n",
      "\n",
      "Because X-ray/radio regions don't match up well, manually add a dict to link overlying regions."
     ]
    },
    {
     "cell_type": "code",
     "collapsed": false,
     "input": [
      "lett_dict = {'E':1, 'F':2, 'G':4, 'H':6, 'I':10,\n",
      "             'J':12, 'K':13, 'N':16, 'O':18}\n",
      "\n",
      "plot_pts = np.linspace(0.65, 5, 40)  # Set to high # for final plots #40\n",
      "plot_pts = np.concatenate((np.array([0.7, 1.0, 2.0, 3.0, 4.5]), plot_pts))\n",
      "plot_pts = np.sort(plot_pts)\n",
      "\n",
      "plt_suffix = 'energywidth-radioxray-{:s}.pdf'"
     ],
     "language": "python",
     "metadata": {},
     "outputs": []
    },
    {
     "cell_type": "code",
     "collapsed": false,
     "input": [
      "data_points = {}\n",
      "damp_fwhms = {}\n",
      "\n",
      "# Just getting FWHM data\n",
      "for p_list, mu_vals, fobj, n in mdsp.load_fit_pkls_new(fitroot_eta2_one):\n",
      "    data_points[n] = fobj.kevs, fobj.data, fobj.eps\n",
      "\n",
      "for m in np.sort(eyeball_fits.keys()):\n",
      "    B0 = eyeball_fits[m][0] * 1e-6\n",
      "    ab = eyeball_fits[m][1]\n",
      "    \n",
      "    damp_fwhms[m] = models.full_width(snr, plot_pts, 1., 1., B0,\n",
      "                                      idamp=np.isfinite(ab), damp_ab=ab)  # mu=1, eta2=1 imposed here"
     ],
     "language": "python",
     "metadata": {},
     "outputs": []
    },
    {
     "cell_type": "code",
     "collapsed": false,
     "input": [
      "for m in np.sort(eyeball_fits.keys()):\n",
      "    lett = get_lett(m)\n",
      "    if lett not in lett_dict:\n",
      "        continue\n",
      "    \n",
      "    kevs_plt, data_plt, eps_plt = data_points[lett_dict[lett]]\n",
      "    data_m = damp_fwhms[m]\n",
      "    msk = data_m < 0.99*snr.rsarc\n",
      "    kevs_m = plot_pts[msk]\n",
      "    data_m = data_m[msk]\n",
      "    \n",
      "    plt.figure(figsize=(3.5, 2.6))\n",
      "    ax = plt.gca()\n",
      "    ax.errorbar(kevs_plt, data_plt, eps_plt, fmt='ok', label='Data')\n",
      "    \n",
      "    ax.plot(kevs_m, data_m, '-k', linewidth=2, label=r'Eyeball fit pred.')\n",
      "    \n",
      "    ax.text(0.9, 0.8, get_lett(m) + ' (data: {:d})'.format(lett_dict[lett]),  # Print region letter\n",
      "            fontsize=18, fontweight='bold',\n",
      "            transform=ax.transAxes,\n",
      "            horizontalalignment='right')\n",
      "    ax.set_xticks([1.0, 2.0, 3.0, 4.0, 5.0])\n",
      "    ax.minorticks_on()\n",
      "    fplot('Energy (keV)', 'FWHM (arcsec.)', axargs='tight')\n",
      "    \n",
      "    plt.tight_layout()\n",
      "    plt.savefig(plt_outroot + plt_suffix.format(lett), dpi=300)\n",
      "    plt.show()"
     ],
     "language": "python",
     "metadata": {},
     "outputs": []
    }
   ],
   "metadata": {}
  }
 ]
}