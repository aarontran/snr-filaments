{
 "metadata": {
  "name": "",
  "signature": "sha256:dd38ac966bdc1f1489dc1bc2f324f901f8f67094800866ce47b2d625cd2d1e76"
 },
 "nbformat": 3,
 "nbformat_minor": 0,
 "worksheets": [
  {
   "cells": [
    {
     "cell_type": "heading",
     "level": 1,
     "metadata": {},
     "source": [
      "Notebook to generate nice tables for paper"
     ]
    },
    {
     "cell_type": "markdown",
     "metadata": {},
     "source": [
      "Basically, make a new one for each SNR -- it's probably easier/simpler,\n",
      "because depending on the number of tables, values/averages being reported, etc.,\n",
      "you'll have to twiddle the layout, change headers, etc.\n",
      "\n",
      "So, not really worth refactoring this module"
     ]
    },
    {
     "cell_type": "code",
     "collapsed": false,
     "input": [
      "%pylab --no-import-all\n",
      "%matplotlib inline\n",
      "# ('gtk', 'inline', 'osx', 'qt', 'qt4', 'tk', 'wx')\n",
      "%load_ext autoreload\n",
      "%autoreload 2\n",
      "from fplot import fplot, show_mplrc_settings\n",
      "\n",
      "from __future__ import division\n",
      "\n",
      "import cPickle as pickle\n",
      "from glob import glob\n",
      "\n",
      "import models\n",
      "import models_exec as mex\n",
      "import models_disp as mdsp\n",
      "from nice_tables import LatexTable\n",
      "from nice_tables import merge_latex_tables as mergelt\n",
      "#import parutils\n",
      "#import regdict_utils as rdu\n",
      "#import snr_catalog as snrcat\n",
      "\n",
      "# For reference\n",
      "show_mplrc_settings()"
     ],
     "language": "python",
     "metadata": {},
     "outputs": []
    },
    {
     "cell_type": "heading",
     "level": 1,
     "metadata": {},
     "source": [
      "0. Set-up: data to use, table arrangement, etc"
     ]
    },
    {
     "cell_type": "code",
     "collapsed": false,
     "input": [
      "labels = ['0.7-1kev', '1-1.7kev', '2-3kev', '3-4.5kev', '4.5-7kev']\n",
      "\n",
      "indiv_left = [1,10,12,2,4,6,8]  # For single-ApJ-column table, w/ two data columns\n",
      "indiv_pairs = [(10,11), (12,13), (2,3), (4,5), (6,7), (8,9)]\n",
      "flmt_regs = {1:[1,10,11,12,13], 2:[2,3], 3:[4,5], 4:[6,7], 5:[8,9]}  # regions-good-4.reg\n",
      "flmt_left = [1,4]\n",
      "\n",
      "#fitroot = '../../data-tycho/regions-4/fwhms-cap-subbkg/model-fits/full-std_err'  # 'fwhms/model-fits/??-{:02d}-*.json/pkl\n",
      "fitroot = '../../data-tycho/regions-4/fwhms/model-fits/simp-man_err'\n",
      "\n",
      "fmt_vals = [':b', ':g', ':r', '-k', '-r', '-g']  # Format values for each mu value, for fit plots\n",
      "# plt_outroot = '../../data-tycho/regions-4/fwhms/model-fits/plots/full-std_err'  # NOT IN USE"
     ],
     "language": "python",
     "metadata": {},
     "outputs": []
    },
    {
     "cell_type": "markdown",
     "metadata": {},
     "source": [
      "Generator `mdsp.load_fit_pkls(...)` gives a list of Parameters() objects, mu values, region number, and a dictionary with Fitter() object properties (i.e., data/settings used for all 6 fits).\n",
      "\n",
      "We have access to, besides the parameters, the following (for each `p` in the list):\n",
      "\n",
      "    p.ci               dict of confidence intervals\n",
      "    p.snr              SupernovaRemnant object used in fits (this should go with fobj_all but whatever)\n",
      "    p.info             dict of best fit parameters w/ keys:\n",
      "        'conf-intv'         CI value\n",
      "        'chisqr'            fit chisqr\n",
      "        'redchi'            fit reduced chisqr\n",
      "        'ndata'             res.ndata\n",
      "        'nvarys'            res.nvarys\n",
      "        'nfree'             res.nfree\n",
      "    p.metadata         dict of build_dataf args\n",
      "        'fit-type'          simp/full\n",
      "        'fit-kws'           eta2_free, model_kws, etc...\n",
      "        'err-kws'           manual/lmfit/stderr, eps, adapt, etc...\n",
      "\n",
      "The Fitter() dict `fobj_all` has keys: `['title', 'kevs', 'data', 'eps', 'inds', 'snr-pars']`; snr-pars is a text dump of SNR settings from SupernovaRemnant().config_log()."
     ]
    },
    {
     "cell_type": "heading",
     "level": 1,
     "metadata": {},
     "source": [
      "1. Generate tables for individual regions"
     ]
    },
    {
     "cell_type": "markdown",
     "metadata": {},
     "source": [
      "This is largely dredged from `mdsp.generate_tabs(...)`.\n",
      "\n",
      "Generate tables, left (with $\\mu$) and right (without $\\mu$).  Precision is set to 1; where more precision is needed, come back and change it temporarily (rationale: most values are fine w/ prec=1 or 0)."
     ]
    },
    {
     "cell_type": "code",
     "collapsed": false,
     "input": [
      "ltabs_all = {}\n",
      "\n",
      "for p_list, mu_vals, n, fobj_dict in mdsp.load_fit_pkls(fitroot, want_fobj=True):\n",
      "    latex_hdr = [r'$\\mu$ (-)', r'$\\eta_2$ (-)', r'$B_0$ ($\\mu$G)', r'$\\chi^2_{\\mt{red}}$ (dof)']\n",
      "    latex_cols = ['{:0.2f}', 2, 2, '{:0.2f} ({:d})']\n",
      "    if n not in indiv_left:  # Remove mu column\n",
      "        latex_hdr = latex_hdr[1:]\n",
      "        latex_cols = latex_cols[1:]\n",
      "    ltab = LatexTable(latex_hdr, latex_cols, fobj_dict['title'], prec=2)\n",
      "\n",
      "    for p, mu in zip(p_list, mu_vals):\n",
      "        # Pull full errors from p.ci  (get_ci_errors order: pos/neg errs)\n",
      "        p['B0'].fullerr = mex.get_ci_errors(p.ci, 'B0', p.info['conf-intv'])\n",
      "        p['eta2'].fullerr = mex.get_ci_errors(p.ci, 'eta2',p.info['conf-intv'])\n",
      "        \n",
      "        # Edit B0 parameter for table formatting\n",
      "        p['B0'].min, p['B0'].max = None, None\n",
      "        p['B0'].value *= 1e6\n",
      "        p['B0'].stderr *= 1e6\n",
      "        p['B0'].fullerr = 1e6 * np.array(p['B0'].fullerr)  # Hackish workaround\n",
      "\n",
      "        # Build LaTeX table\n",
      "        ltr = [mu] if n in indiv_left else []\n",
      "        ltr += [p['eta2'].value] + list(p['eta2'].fullerr)\n",
      "        ltr += [p['B0'].value] + list(p['B0'].fullerr)\n",
      "        ltr += [p.info['redchi'], p.info['nfree']]\n",
      "        ltab.add_row(*ltr)\n",
      "\n",
      "    ltabs_all[n] = ltab"
     ],
     "language": "python",
     "metadata": {},
     "outputs": []
    },
    {
     "cell_type": "markdown",
     "metadata": {},
     "source": [
      "Merge the necessary tables together"
     ]
    },
    {
     "cell_type": "code",
     "collapsed": false,
     "input": [
      "print ltabs_all[1], '\\n'\n",
      "for n1, n2 in indiv_pairs:\n",
      "    print mergelt(ltabs_all[n1], ltabs_all[n2], indent=5)\n",
      "    print ''"
     ],
     "language": "python",
     "metadata": {},
     "outputs": []
    },
    {
     "cell_type": "heading",
     "level": 1,
     "metadata": {},
     "source": [
      "2. Generate plots of individual fits, perhaps a large subplot thing"
     ]
    },
    {
     "cell_type": "markdown",
     "metadata": {},
     "source": [
      "Largely stolen from `mdsp.generate_plots`.  Does NOT work!  Very low priority -- if we decide to show all final regions, then come back to this."
     ]
    },
    {
     "cell_type": "code",
     "collapsed": false,
     "input": [
      "plt.figure(figsize=(4,10))\n",
      "\n",
      "for p_list, mu_vals, n, fdict in mdsp.load_fit_pkls(fitroot, want_fobj=True):\n",
      "    if n == 4:\n",
      "        break\n",
      "    kevs = fdict['kevs']\n",
      "    data = fdict['data']\n",
      "    eps = fdict['eps']\n",
      "    \n",
      "    plt.subplot(7, 2, 1)\n",
      "    ax = plt.gca()\n",
      "    ax.errorbar(kevs, data, eps, fmt='ok', label='Data')\n",
      "\n",
      "    for p, mu, fmt in zip(p_list, mu_vals, fmt_vals):\n",
      "\n",
      "        fit_type = p.metadata['fit-type']\n",
      "        fit_kws = p.metadata['fit-kws']\n",
      "\n",
      "        if fit_type == 'simp':\n",
      "            kevs_m = np.linspace(kevs[0]-0.2, kevs[-1]+0.2, 100)\n",
      "            fwhms_m = models.width_dump(p, kevs_m, snr)       # !!!!! NEED SNR OBJECT\n",
      "\n",
      "        elif fit_type == 'full':\n",
      "            fill_kevs = np.linspace(kevs[0]-0.2, kevs[-1]+0.2, 5)\n",
      "            kevs_m = np.sort(np.hstack((kevs, fill_kevs)))\n",
      "            if fit_kws is not None and 'model_kws' in fit_kws:\n",
      "                model_kws = fit_kws['model_kws']\n",
      "            else:\n",
      "                model_kws = {}\n",
      "            fwhms_m = models.width_cont(p, kevs_m, snr, verbose=False,   # !!!!! NEED SNR OBJECT\n",
      "                                        **model_kws)\n",
      "        ax.plot(kevs_m, fwhms_m, fmt, label=r'$\\mu = {:0.2f}$'.format(mu))\n",
      "\n",
      "    # Prepare composite plot\n",
      "    fplot('Energy (keV)', 'FWHM (arcsec)', axargs='tight')\n",
      "    ax.legend(loc='best')\n",
      "\n",
      "plt.tight_layout()\n",
      "plt.show()"
     ],
     "language": "python",
     "metadata": {},
     "outputs": []
    },
    {
     "cell_type": "code",
     "collapsed": false,
     "input": [
      "\n",
      "\n",
      "    fig = plt.figure(figsize=(9,3))\n",
      "\n",
      "    # Plot highest energy profile with selection regions\n",
      "    ax0 = plt.subplot2grid((5,3), (0,0), rowspan=5)\n",
      "    ax0.axvspan(cuts[0], cuts[1], facecolor='b', alpha=0.15)\n",
      "    ax0.axvspan(cuts[1], cuts[2], facecolor='k', alpha=0.15)\n",
      "    rdu.plot_smoothing_cut(rdict[labels[-1]], ax0, show_smth=False)\n",
      "\n",
      "    # Downstream, then upstream spectra\n",
      "    for sect, clr, col in zip(['dn', 'up'], ['b', 'k'], [1,2]):\n",
      "        \n",
      "        spec_info = eval('spec_'+sect+'_info')\n",
      "        spec_data = eval('spec_'+sect+'_data')\n",
      "\n",
      "        # Lazily initialize x, y, xE, yE, m, bkg\n",
      "        for key in spec_data:\n",
      "            exec(\"{k} = spec_data['{k}']\".format(k = key))\n",
      "        res = y - m  # Signed residuals\n",
      "        chi2r = spec_info['fitstat'][1] / spec_info['dof']\n",
      "\n",
      "        # Plot spectrum\n",
      "        # use fmt='none', color=clr to suppress markers/lines\n",
      "        # requires matplotlib 1.4.0, use fmt=None otherwise\n",
      "        # changed in commit:9c99f28c826ea076be547a9f69178e541dd54af3\n",
      "        ax1 = plt.subplot2grid((5,3), (0,col), rowspan=3)\n",
      "        ax1.errorbar(x, y, xerr=xE, yerr=yE, fmt='none', ecolor=clr, capsize=0, alpha=1)\n",
      "        ax1.plot(x, m, '-k', alpha=1)\n",
      "        fplot('', r'Counts s$^{-1}$ keV$^{-1}$', axargs='tight',\n",
      "              ax=ax1, scales=('log','log'))\n",
      "\n",
      "        # Add reduced chi^2 annotation\n",
      "        chi2r_str = r'$\\chi^2_{\\mathrm{red}}=' + '{:0.2f}$'.format(chi2r)\n",
      "        ax1.text(0.25, 0.14, chi2r_str, transform=ax1.transAxes,\n",
      "                horizontalalignment='center')\n",
      "        \n",
      "        # Adjust horizontal spacing before changing vertical space,\n",
      "        # to get shared x-axis in spectrum+residual plots\n",
      "        plt.tight_layout()\n",
      "\n",
      "        # Share x-axis with residual plot (stackoverflow.com/q/21661526)\n",
      "        # Thus hide x ticklabels.  Set xticks for consistency\n",
      "        ax1.set_xlim([0.5,7])\n",
      "        ax1.set_xticks([0.5, 1, 2, 5])  # <-- adjust this as needed\n",
      "        ax1.get_xaxis().set_major_formatter(matplotlib.ticker.ScalarFormatter())\n",
      "        plt.setp(ax1.get_xticklabels(), visible=False)\n",
      "\n",
      "        # Plot absolute residuals (no scaling)\n",
      "        ax2 = plt.subplot2grid((5,3), (3,col), sharex=ax1)\n",
      "        ax2.errorbar(x, res, xerr=xE, yerr=yE, fmt='none', ecolor=clr, capsize=0, alpha=1)\n",
      "        ax2.axhline(0, c='k')\n",
      "        ax2.set_xscale('log')\n",
      "        ax2.set_ylabel(r'$\\chi$')\n",
      "        ax2.axis('tight')\n",
      "\n",
      "        # Fix plot formatting\n",
      "        ax2.set_xlim([0.5,7])\n",
      "        ax2.set_xticks([0.5, 1, 2, 5])\n",
      "        ax2.get_xaxis().set_major_formatter(matplotlib.ticker.ScalarFormatter())\n",
      "        plt.setp(ax2.get_xticklabels(), visible=False)\n",
      "\n",
      "        ax2.set_ylim(-1*max(np.abs(ax2.get_ylim())),max(np.abs(ax2.get_ylim())))  # Symmetrize y-limits\n",
      "        ax2.get_yaxis().get_major_formatter().set_powerlimits((-2, 4))  # Force scientific notation\n",
      "\n",
      "        # Plot ratio of spectrum/model (or can do scaled residuals as res/m)\n",
      "        ax3 = plt.subplot2grid((5,3), (4,col), sharex=ax1)  # Share axis\n",
      "        ax3.errorbar(x, y/m, xerr=xE, yerr=yE/m, fmt='none', ecolor=clr, capsize=0, alpha=1)\n",
      "        ax3.axhline(1, c='k')\n",
      "\n",
      "        fplot('Energy (keV)', 'Ratio',\n",
      "              ax=ax3, axargs='tight', scales=('log','linear'))\n",
      "\n",
      "        # Fix plot formatting\n",
      "        ax3.set_xticks([0.5, 1, 2, 5])\n",
      "        ax3.get_xaxis().set_major_formatter(matplotlib.ticker.ScalarFormatter())\n",
      "        ax3.set_xlim([0.5,7])\n",
      "\n",
      "    # For the spectra/residuals to share axes\n",
      "    fig.subplots_adjust(hspace=0, wspace=0.25)\n",
      "\n",
      "    plt.savefig(plt_outroot+'spec_{:02d}.pdf'.format(n), dpi=300)\n",
      "    plt.show()"
     ],
     "language": "python",
     "metadata": {},
     "outputs": []
    },
    {
     "cell_type": "heading",
     "level": 1,
     "metadata": {},
     "source": [
      "3. Generate tables with averaged parameter values"
     ]
    },
    {
     "cell_type": "markdown",
     "metadata": {},
     "source": [
      "First pull out all the parameters, then print averages with standard errors (using sample std. dev.)"
     ]
    },
    {
     "cell_type": "code",
     "collapsed": false,
     "input": [
      "pdict = {}\n",
      "\n",
      "for p_list, mu_vals, n in mdsp.load_fit_pkls(fitroot, want_fobj=False):\n",
      "    pdict[n] = {}\n",
      "    for p, mu in zip(p_list, mu_vals):\n",
      "        pdict[n][mu] = {}\n",
      "        pdict[n][mu]['eta2'] = p['eta2'].value\n",
      "        pdict[n][mu]['B0'] = 1e6 * p['B0'].value\n",
      "\n",
      "ltabs_avg = {}\n",
      "\n",
      "for m in flmt_regs:\n",
      "    \n",
      "    latex_hdr = [r'$\\mu$ (-)', r'$\\eta_2$ (-)', r'$B_0$ ($\\mu$G)']\n",
      "    latex_cols = ['{:0.2f}', 1, 1]\n",
      "    if m not in flmt_left:  # Remove mu column\n",
      "        latex_hdr = latex_hdr[1:]\n",
      "        latex_cols = latex_cols[1:]\n",
      "    ltab = LatexTable(latex_hdr, latex_cols, 'Filament {}'.format(m), prec=1)\n",
      "    \n",
      "    for mu in mu_vals:  # HACK: using mu_vals from previous loop.  Assumes all identical.\n",
      "        B0_vals = [pdict[n][mu]['B0'] for n in flmt_regs[m]]\n",
      "        eta2_vals = [pdict[n][mu]['eta2'] for n in flmt_regs[m]]\n",
      "        \n",
      "        # Compute means, std errs\n",
      "        B0_avg = np.mean(B0_vals)\n",
      "        B0_err = np.std(B0_vals, ddof=1) / np.sqrt(len(B0_vals))\n",
      "        eta2_avg = np.mean(eta2_vals)\n",
      "        eta2_err = np.std(eta2_vals, ddof=1) / np.sqrt(len(eta2_vals))\n",
      "        \n",
      "        ltr = [mu] if m in flmt_left else []\n",
      "        ltr += [eta2_avg, eta2_err, B0_avg, B0_err]\n",
      "        ltab.add_row(*ltr)\n",
      "    \n",
      "    ltabs_avg[m] = ltab"
     ],
     "language": "python",
     "metadata": {},
     "outputs": []
    },
    {
     "cell_type": "markdown",
     "metadata": {},
     "source": [
      "Manually, merge together filaments 1-3 and 4-5 for the final table"
     ]
    },
    {
     "cell_type": "code",
     "collapsed": false,
     "input": [
      "print mergelt(mergelt(ltabs_avg[1], ltabs_avg[2]), ltabs_avg[3])\n",
      "print ''\n",
      "print mergelt(ltabs_avg[4], ltabs_avg[5])"
     ],
     "language": "python",
     "metadata": {},
     "outputs": []
    }
   ],
   "metadata": {}
  }
 ]
}