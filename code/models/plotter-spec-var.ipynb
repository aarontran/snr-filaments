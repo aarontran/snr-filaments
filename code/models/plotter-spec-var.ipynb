{
 "metadata": {
  "name": "",
  "signature": "sha256:2edb8b2f686347ab32617250b0ba5519d4ce3fb265a9a613c058c1e90475ae6b"
 },
 "nbformat": 3,
 "nbformat_minor": 0,
 "worksheets": [
  {
   "cells": [
    {
     "cell_type": "heading",
     "level": 1,
     "metadata": {},
     "source": [
      "Compute model spectra (for comparison to measurements)"
     ]
    },
    {
     "cell_type": "markdown",
     "metadata": {},
     "source": [
      "Same data loading / etc. procedure as main `plotter-fit-tables` notebook."
     ]
    },
    {
     "cell_type": "code",
     "collapsed": false,
     "input": [
      "%pylab --no-import-all\n",
      "%matplotlib inline\n",
      "# ('gtk', 'inline', 'osx', 'qt', 'qt4', 'tk', 'wx')\n",
      "%load_ext autoreload\n",
      "%autoreload 2\n",
      "from fplot import fplot, show_mplrc_settings\n",
      "\n",
      "from __future__ import division\n",
      "\n",
      "import cPickle as pickle\n",
      "from glob import glob\n",
      "import re\n",
      "\n",
      "import models\n",
      "import models_exec as mex\n",
      "import models_disp as mdsp\n",
      "from nice_tables import LatexTable\n",
      "from nice_tables import merge_latex_tables as mergelt\n",
      "import snr_catalog as snrcat\n",
      "\n",
      "# For reference\n",
      "show_mplrc_settings()"
     ],
     "language": "python",
     "metadata": {},
     "outputs": []
    },
    {
     "cell_type": "code",
     "collapsed": false,
     "input": [
      "# TYCHO\n",
      "labels = ['0.7-1kev', '1-1.7kev', '2-3kev', '3-4.5kev', '4.5-7kev']\n",
      "labels_nice = [r'0.7--1 keV', r'1--1.7 keV', r'2--3 keV', r'3--4.5 keV', r'4.5--7 keV']\n",
      "\n",
      "fit_dir = '../../data-tycho/regions-6/fwhms-subbkg/model-fits/'\n",
      "plt_outroot = '../../data-tycho/regions-6/fwhms-subbkg/model-fit-plots/'\n",
      "\n",
      "fitroot = fit_dir + 'full-man_err'\n",
      "fitroot_eta2_one = fit_dir + 'full-std_err-eta2_one'\n",
      "fitroot_eta2_ten = fit_dir + 'full-std_err-eta2_1.00e+01'\n",
      "fitroot_srcutlog = fit_dir + 'full-std_err-srcutlog'\n",
      "\n",
      "damproot_free = fit_dir + 'full-std_err-ab_{:0.2e}-eta2_free'\n",
      "damproot_eta2 = fit_dir + 'full-std_err-ab_{:0.2e}-eta2_{eta2:0.2e}'\n",
      "damproot_mu = fit_dir + 'full-std_err-mu_all-ab_{:0.2e}-eta2_1.00e+00'\n",
      "damproot_bmin = fit_dir + 'full-std_err-ab_{:0.2e}-eta2_{eta2:0.2e}-Bmin_{bmin:0.2e}'\n",
      "damproot_srcutlog = fit_dir + 'full-std_err-ab_{:0.2e}-eta2_srcutlog'\n",
      "# Assign names to all fields other than ab\n",
      "\n",
      "# For damped fits only\n",
      "AB_VALS = [0.5, 0.05, 0.04, 0.03, 0.02, 0.01, 0.009, 0.008, 0.007, 0.006, 0.005, 0.004, 0.003, 0.002]\n",
      "ETA2_VALS = [0.01, 0.1, 1., 2., 10.]"
     ],
     "language": "python",
     "metadata": {},
     "outputs": []
    },
    {
     "cell_type": "markdown",
     "metadata": {},
     "source": [
      "Identify the best $a_b$ values to be used"
     ]
    },
    {
     "cell_type": "code",
     "collapsed": false,
     "input": [
      "def get_best_ab_dict(froot_fmt, ab_vals, mu=1, **kwargs):\n",
      "    \"\"\"Give a list of ab_values that you wish to consider.\n",
      "    froot should accept 1 format field, to insert the appropriate ab value\n",
      "    Specify the mu value you wish to use (assumes mu values at least 1e-10 apart)\n",
      "    \n",
      "    If froot_fmt requires additional arguments, use kwargs to specify\n",
      "    \"\"\"\n",
      "    ab_best = {}\n",
      "    chisqr_best = {}\n",
      "    \n",
      "    for ab_val in ab_vals:\n",
      "        \n",
      "        froot = froot_fmt.format(ab_val, **kwargs)\n",
      "        \n",
      "        for p_list, mu_vals, fobj, n in mdsp.load_fit_pkls_new(froot):  # Iterate over regions\n",
      "            \n",
      "            mu_found = False\n",
      "            for p, mu_val in zip(p_list, mu_vals):  # Iterate over mu values + fit params\n",
      "                if abs(mu_val - mu) > 1e-10:\n",
      "                    continue\n",
      "                assert not mu_found, 'Error: found more than two values of mu, file root {}'.format(froot)\n",
      "                mu_found = True\n",
      "                \n",
      "                chisqr_val = p.info['chisqr']\n",
      "                if n not in ab_best or chisqr_val <= chisqr_best[n]:\n",
      "                    ab_best[n] = ab_val\n",
      "                    chisqr_best[n] = chisqr_val\n",
      "            assert mu_found, 'Error: could not find mu'\n",
      "    \n",
      "    return ab_best"
     ],
     "language": "python",
     "metadata": {},
     "outputs": []
    },
    {
     "cell_type": "markdown",
     "metadata": {},
     "source": [
      "Find the best damping fits for all the different cases we consider.\n",
      "There are a lot of different cases to consider..."
     ]
    },
    {
     "cell_type": "code",
     "collapsed": false,
     "input": [
      "AB_VALS_SUB_PCT = [ab for ab in AB_VALS if ab <= 0.01]\n",
      "\n",
      "AB_BEST = get_best_ab_dict(damproot_free, AB_VALS_SUB_PCT, mu=1)\n",
      "AB_BEST_ETA2_ONE = get_best_ab_dict(damproot_eta2, AB_VALS_SUB_PCT, mu=1, eta2=1)\n",
      "AB_BEST_ETA2_TEN = get_best_ab_dict(damproot_eta2, AB_VALS_SUB_PCT, mu=1, eta2=10)\n",
      "AB_BEST_BMIN_ZERO = get_best_ab_dict(damproot_bmin, AB_VALS_SUB_PCT, mu=1, eta2=1., bmin=0.)\n",
      "AB_BEST_SRCUTLOG = get_best_ab_dict(damproot_srcutlog, AB_VALS_SUB_PCT, mu=1)\n",
      "\n",
      "AB_BEST_MUS = {}\n",
      "for mu in [0., 1./3, 1./2, 1., 1.5, 2.0]:\n",
      "    AB_BEST_MUS[mu] = get_best_ab_dict(damproot_mu, AB_VALS_SUB_PCT, mu=mu)"
     ],
     "language": "python",
     "metadata": {},
     "outputs": []
    },
    {
     "cell_type": "markdown",
     "metadata": {},
     "source": [
      "As above, but also permit $a_b > 0.01$"
     ]
    },
    {
     "cell_type": "code",
     "collapsed": false,
     "input": [
      "AB_ALL_BEST = get_best_ab_dict(damproot_free, AB_VALS, mu=1)\n",
      "AB_ALL_BEST_ETA2_ONE = get_best_ab_dict(damproot_eta2, AB_VALS, mu=1, eta2=1)\n",
      "AB_ALL_BEST_ETA2_TEN = get_best_ab_dict(damproot_eta2, AB_VALS, mu=1, eta2=10)\n",
      "AB_ALL_BEST_BMIN_ZERO = get_best_ab_dict(damproot_bmin, AB_VALS, mu=1, eta2=1., bmin=0.)\n",
      "AB_ALL_BEST_SRCUTLOG = get_best_ab_dict(damproot_srcutlog, AB_VALS, mu=1)\n",
      "\n",
      "AB_ALL_BEST_MUS = {}\n",
      "for mu in [0., 1./3, 1./2, 1., 1.5, 2.0]:\n",
      "    AB_ALL_BEST_MUS[mu] = get_best_ab_dict(damproot_mu, AB_VALS, mu=mu)"
     ],
     "language": "python",
     "metadata": {},
     "outputs": []
    },
    {
     "cell_type": "heading",
     "level": 1,
     "metadata": {},
     "source": [
      "Begin computing spectra for best fit parameters"
     ]
    },
    {
     "cell_type": "markdown",
     "metadata": {},
     "source": [
      "Procedure:\n",
      "* compute intensity profiles from best fit parameters between 2-7 keV.\n",
      "* Using the FWHM in each energy band (should hold this constant at 0.7 keV FWHM\n",
      "  to be more consistent w/ my measurements, actually), integrate intensities\n",
      "  from shock to 1 FWHM behind shock (rim), and from 1 FWHM to 2 FWHM behind\n",
      "  shock (plateau)\n",
      "* Plot integrated rim/plateau intensities vs. energy to get energy spectra\n",
      "* Fit spectra between 2-7 keV and back out spectral indices\n",
      "* Subtract rim/plateau indices to get difference"
     ]
    },
    {
     "cell_type": "code",
     "collapsed": false,
     "input": [
      "import scipy as sp\n",
      "from scipy import integrate"
     ],
     "language": "python",
     "metadata": {},
     "outputs": []
    },
    {
     "cell_type": "code",
     "collapsed": false,
     "input": [
      "KEVS_M = np.logspace(np.log10(1.05), np.log10(10.0), 50)\n",
      "rsarc = snrcat.make_tycho().rsarc"
     ],
     "language": "python",
     "metadata": {},
     "outputs": []
    },
    {
     "cell_type": "code",
     "collapsed": false,
     "input": [
      "def get_profiles(froot, mu=1, ab_dict=None, **kwargs):\n",
      "    \"\"\"\n",
      "    Get model profiles corresponding to best fit parameters for each region, specified by froot, mu, ab_dict, kwargs\n",
      "    Input:\n",
      "        froot - file root for best fit parameter.  If using damped fits, supply ab_dict and **kwargs\n",
      "                if damped fit, froot must take ab as a format arg, and possibly other format kwargs\n",
      "        ab_dict - best ab values for each region, if getting damped best fit profiles.  Leave None otherwise\n",
      "        **kwargs - additional format kwargs for froot, for various damped fits\n",
      "    \"\"\"\n",
      "    damp_flag = ab_dict is not None\n",
      "    \n",
      "    if damp_flag:\n",
      "        \n",
      "        def damped_fit_pkls(froot, ab_dict, **kwargs):\n",
      "            \"\"\"Generator mimicking mdsp.load_fit_pkls_new, but using best ab values\"\"\"\n",
      "            for n, ab in ab_dict.items():\n",
      "                droot = froot.format(ab, **kwargs)  # ab given to droot varies w/ n\n",
      "                p_list, mu_vals, fobj = mdsp.load_fit_pkl(droot, n)\n",
      "                yield p_list, mu_vals, fobj, n\n",
      "\n",
      "        gen_pkl = damped_fit_pkls(froot, ab_dict, **kwargs)\n",
      "        \n",
      "    else:\n",
      "        gen_pkl = mdsp.load_fit_pkls_new(froot)\n",
      "    \n",
      "    model_outs = {}\n",
      "    for p_list, mu_vals, fobj, n in gen_pkl:\n",
      "\n",
      "        # First iteration, just get FWHMs\n",
      "        kevs_m_mask, fwhms = mdsp.best_fit_fwhms(p_list, mu_vals, fobj, kevs_calc=KEVS_M, mu_calc=[mu],\n",
      "                                                 get_mask=False, get_prfs=False, idamp=damp_flag)\n",
      "        assert len(kevs_m_mask) == len(kevs_m)\n",
      "\n",
      "        # Now, get profiles at ~2x FWHMs to compute spectra (rminarc = 2.2*np.nanmax(fwhms))\n",
      "        kevs_m_out, _ = mdsp.best_fit_fwhms(p_list, mu_vals, fobj, kevs_calc=KEVS_M, mu_calc=[mu], get_mask=False,\n",
      "                                            get_fwhms=False, get_prfs=True, rminarc = 2.2*np.nanmax(fwhms),\n",
      "                                            irad_adapt=False, idamp=damp_flag)\n",
      "        igrids, rgrids = _\n",
      "        assert len(kevs_m_out) == len(kevs_m)\n",
      "\n",
      "        model_outs[n] = fwhms, igrids, rgrids\n",
      "    \n",
      "    return model_outs"
     ],
     "language": "python",
     "metadata": {},
     "outputs": []
    },
    {
     "cell_type": "markdown",
     "metadata": {},
     "source": [
      "This takes a while to run (30+ minutes?)"
     ]
    },
    {
     "cell_type": "code",
     "collapsed": false,
     "input": [
      "model_out_loss_eta2_one = get_profiles(fitroot_eta2_one, mu=1)\n",
      "model_out_loss_eta2_srcutlog = get_profiles(fitroot_srcutlog, mu=1)\n",
      "\n",
      "model_out_damp_eta2_one = get_profiles(damproot_eta2, mu=1, ab_dict=AB_ALL_BEST_ETA2_ONE, eta2=1)\n",
      "model_out_damp_eta2_free = get_profiles(damproot_free, mu=1, ab_dict=AB_ALL_BEST)\n",
      "model_out_damp_srcutlog = get_profiles(damproot_srcutlog, mu=1, ab_dict=AB_ALL_BEST_SRCUTLOG)"
     ],
     "language": "python",
     "metadata": {},
     "outputs": []
    },
    {
     "cell_type": "heading",
     "level": 2,
     "metadata": {},
     "source": [
      "Now compute the spectral changes from the modeled profiles"
     ]
    },
    {
     "cell_type": "code",
     "collapsed": false,
     "input": [
      "def compute_plot_dgamma(model_outs, make_plots=True, out_pltroot=None):\n",
      "    \"\"\"Compute spectral indices and the change between peak/plateau.\n",
      "    Output:\n",
      "        Three lists of \\Delta\\Gamma, \\Gamma_{peak}, \\Gamma_{plat} values for each region (ordered)\n",
      "    \"\"\"\n",
      "    deltas = []\n",
      "    gamma_peaks = []\n",
      "    gamma_plats = []\n",
      "\n",
      "    for n, m_out in model_outs.items():  # Iterate over each region\n",
      "        print 'Region {}'.format(n)\n",
      "        fwhms, igrids, rgrids = m_out\n",
      "\n",
      "        # Integrate over profiles at each energy to get spectrum points\n",
      "        int_i_peak = []  # (int)egrated (i)ntensity, (peak) -- as a function of energy\n",
      "        int_i_plat = []\n",
      "\n",
      "        # Use 1 keV FWHM to determine integration regions\n",
      "        assert abs(KEVS_M[0] - 1.05) < 0.001  # Lowest energy is 1.0 keV\n",
      "        fwhm_1kev = fwhms[0]\n",
      "        rgrid_1kev = rgrids[0]\n",
      "\n",
      "        msk_peak = rsarc - fwhm_1kev < rgrid_1kev  # shock to one FWHM(1keV) behind shock\n",
      "        msk_plat = np.logical_and(rsarc - 2*fwhm_1kev < rgrid_1kev, rgrid_1kev <= rsarc - fwhm_1kev)  # one to two FWHMs\n",
      "        assert np.amin(rgrid_1kev[msk_plat]) < np.amin(rgrid_1kev[msk_peak]) < np.amax(rgrid_1kev[msk_peak])\n",
      "\n",
      "        for en, igrid, rgrid in zip(kevs_m, igrids, rgrids):\n",
      "\n",
      "            assert np.array_equal(rgrid, rgrid_1kev)\n",
      "\n",
      "            i_peak = 1/en * sp.integrate.simps(igrid[msk_peak], rgrid[msk_peak])\n",
      "            i_plat = 1/en * sp.integrate.simps(igrid[msk_plat], rgrid[msk_plat])\n",
      "\n",
      "            int_i_peak.append(i_peak)\n",
      "            int_i_plat.append(i_plat)\n",
      "\n",
      "        int_i_peak = np.array(int_i_peak)  # Spectra, units erg/s /cm^2 /Hz /sr /erg... or whatever\n",
      "        int_i_plat = np.array(int_i_plat)  # Normalization is not correct, but not important (yet)\n",
      "\n",
      "        # Fit each spectrum to a power law over 2-7 keV\n",
      "        msk_fit = np.logical_and(2 < kevs_m, kevs_m <= 7)\n",
      "        poly_peak = np.polyfit(np.log10(kevs_m[msk_fit]), np.log10(int_i_peak[msk_fit]), 1)\n",
      "        poly_plat = np.polyfit(np.log10(kevs_m[msk_fit]), np.log10(int_i_plat[msk_fit]), 1)\n",
      "\n",
      "        gamma_peaks.append(poly_peak[0])\n",
      "        gamma_plats.append(poly_plat[0])\n",
      "        deltas.append(poly_peak[0]-poly_plat[0])\n",
      "        \n",
      "        if make_plots:  # Sort of replicates Figs 2, 4 of Rettig & Pohl (2012)\n",
      "            fig, (ax1, ax2) = plt.subplots(1, 2, figsize=(6,3))\n",
      "            \n",
      "            # Plot integrated spectra\n",
      "            ax1.plot(kevs_m, int_i_peak, 'r.', label='Rim')\n",
      "            ax1.plot(kevs_m, int_i_plat, 'b.', label='Downstream')\n",
      "            # alongside best power-law fits\n",
      "            x = np.logspace(np.log10(0.9), np.log10(7+3), 10)  # Plot best fits and highlight fit domain\n",
      "            ax1.plot(x, np.power(10, np.polyval(poly_peak, np.log10(x))), '-r')\n",
      "            ax1.plot(x, np.power(10, np.polyval(poly_plat, np.log10(x))), '-b')\n",
      "            ax1.axvspan(2,7,color='k',alpha=0.05)\n",
      "            \n",
      "            fplot('Energy (keV)', r'Cts cm${}^{-2}$ Hz${}^{-1}$ sr${}^{-1}$ s${}^{-1}$, arbitrary scaling',\n",
      "                  ax=ax1, axargs='tight', scales=['log','log'])\n",
      "            ax1.legend(loc='best')\n",
      "            \n",
      "            # Plot spectral index computed point-wise\n",
      "            ax2.plot(kevs_m[1:],\n",
      "                     np.log(int_i_peak[1:] / int_i_peak[:-1]) / np.log(kevs_m[1:] / kevs_m[:-1]),\n",
      "                     '-r.', label='Rim')\n",
      "            ax2.plot(kevs_m[1:],\n",
      "                     np.log(int_i_plat[1:] / int_i_plat[:-1]) / np.log(kevs_m[1:] / kevs_m[:-1]),\n",
      "                     '-b.', label='Downstream')\n",
      "            ax2.axvspan(2,7,color='k',alpha=0.05)\n",
      "            fplot('Energy (keV)', 'Spectral index (-)', ax=ax2, axargs='tight', scales=['log', 'linear'])\n",
      "            ax2.set_xlim(xmin=0.9, xmax=10)\n",
      "            #ax2.set_ylim(ymin=-4, ymax=-1.5)\n",
      "            ax2.legend(loc='best')\n",
      "            plt.tight_layout()\n",
      "            #if n == 1 or n == 16:\n",
      "            #    print 'saving figure'\n",
      "            #    plt.savefig('plt-specvar-{}.pdf'.format(n))\n",
      "            plt.show()\n",
      "    \n",
      "    return deltas, gamma_peaks, gamma_plats"
     ],
     "language": "python",
     "metadata": {},
     "outputs": []
    },
    {
     "cell_type": "code",
     "collapsed": false,
     "input": [
      "dgamma_loss_eta2_one = compute_plot_dgamma(model_out_loss_eta2_one)"
     ],
     "language": "python",
     "metadata": {},
     "outputs": []
    },
    {
     "cell_type": "code",
     "collapsed": false,
     "input": [
      "dgamma_loss_srcutlog = compute_plot_dgamma(model_out_loss_eta2_srcutlog)"
     ],
     "language": "python",
     "metadata": {},
     "outputs": []
    },
    {
     "cell_type": "code",
     "collapsed": false,
     "input": [
      "dgamma_damp_eta2_one = compute_plot_dgamma(model_out_damp_eta2_one)"
     ],
     "language": "python",
     "metadata": {},
     "outputs": []
    },
    {
     "cell_type": "code",
     "collapsed": false,
     "input": [
      "dgamma_damp_srcutlog = compute_plot_dgamma(model_out_damp_srcutlog)"
     ],
     "language": "python",
     "metadata": {},
     "outputs": []
    },
    {
     "cell_type": "code",
     "collapsed": false,
     "input": [
      "dgamma_damp_eta2_free = compute_plot_dgamma(model_out_damp_eta2_free)"
     ],
     "language": "python",
     "metadata": {},
     "outputs": []
    },
    {
     "cell_type": "markdown",
     "metadata": {},
     "source": [
      "Print a table of results, now.<br />\n",
      "This should match whatever you iterated over in the preceding cell!  Sloppy code..."
     ]
    },
    {
     "cell_type": "code",
     "collapsed": false,
     "input": [
      "def tabulate_dgamma(model_outs, froot, deltas, gamma_peaks, gamma_plats, ab_dict=None, plt_fmt=None, **kwargs):\n",
      "    \"\"\"ab_dict, **kwargs for damped cases...\"\"\"\n",
      "    \n",
      "    damp_flag = ab_dict is not None\n",
      "    \n",
      "    B0_plt = []\n",
      "    \n",
      "    for (n, m_out), delta, gamma_peak, gamma_plat in zip(model_outs.items(), deltas, gamma_peaks, gamma_plats):\n",
      "        \n",
      "        if damp_flag:\n",
      "            ab = ab_dict[n]\n",
      "            droot = froot.format(ab, **kwargs)\n",
      "        else:\n",
      "            ab = np.nan\n",
      "            droot = froot\n",
      "        \n",
      "        p_list, mu_vals, fobj = mdsp.load_fit_pkl(droot, n)\n",
      "\n",
      "        if n == 1:\n",
      "            print 'Region\\trim\\tdown\\tdelta\\tab\\tB0\\teta2'\n",
      "        r1 = '{:d}\\t{:0.3f}\\t{:0.3f}\\t{:0.2g}'.format(n, gamma_peak, gamma_plat, delta)\n",
      "        r2 = '\\t{:0.3f}\\t{:0.1f}\\t{:0.3g}'.format(ab, p_list[0]['B0'].value*1e6, p_list[0]['eta2'].value)\n",
      "        print r1+r2\n",
      "        \n",
      "        B0_plt.append(p_list[0]['B0'].value*1e6)\n",
      "        \n",
      "    if plt_fmt is None:\n",
      "        plt_fmt = 'ok'\n",
      "    plt.plot(B0_plt, deltas, plt_fmt)\n",
      "\n",
      "    print ''\n",
      "    print 'Mean ', np.mean(deltas)\n",
      "    print 'Stdev', np.std(deltas)\n",
      "    print 'Max  ', np.max(deltas)\n",
      "    print 'Min  ', np.min(deltas)\n",
      "    \n",
      "    plt.xlabel(r'$B_0$ ($\\mu$G)')\n",
      "    plt.ylabel(r'$\\Delta\\Gamma$ (-)')"
     ],
     "language": "python",
     "metadata": {},
     "outputs": []
    },
    {
     "cell_type": "code",
     "collapsed": false,
     "input": [
      "tabulate_dgamma(model_out_loss_eta2_one, fitroot_eta2_one, *dgamma_loss_eta2_one)"
     ],
     "language": "python",
     "metadata": {},
     "outputs": []
    },
    {
     "cell_type": "code",
     "collapsed": false,
     "input": [
      "tabulate_dgamma(model_out_loss_eta2_srcutlog, fitroot_srcutlog, *dgamma_loss_srcutlog)"
     ],
     "language": "python",
     "metadata": {},
     "outputs": []
    },
    {
     "cell_type": "code",
     "collapsed": false,
     "input": [
      "tabulate_dgamma(model_out_damp_eta2_one, damproot_eta2, *dgamma_damp_eta2_one,\n",
      "                plt_fmt='oc',\n",
      "                ab_dict=AB_ALL_BEST_ETA2_ONE, eta2=1)\n",
      "\n",
      "tabulate_dgamma(model_out_damp_srcutlog, damproot_srcutlog, *dgamma_damp_srcutlog,\n",
      "                plt_fmt='or',\n",
      "                ab_dict=AB_ALL_BEST_SRCUTLOG)\n",
      "\n",
      "plt.legend([r'$\\eta_2 = 1$', r'$\\eta_2$ from \\texttt{srcut}'])\n",
      "plt.savefig(plt_outroot + 'specvar-dgamma.pdf', dpi=300)\n",
      "plt.show()"
     ],
     "language": "python",
     "metadata": {},
     "outputs": []
    },
    {
     "cell_type": "code",
     "collapsed": false,
     "input": [
      "tabulate_dgamma(model_out_damp_eta2_free, damproot_free, *dgamma_damp_eta2_free,\n",
      "                ab_dict=AB_ALL_BEST)"
     ],
     "language": "python",
     "metadata": {},
     "outputs": []
    },
    {
     "cell_type": "heading",
     "level": 1,
     "metadata": {},
     "source": [
      "Try replicating Rettig/Pohl's procedure as closely as possible"
     ]
    },
    {
     "cell_type": "markdown",
     "metadata": {},
     "source": [
      "Goal is to check their reported numbers, since we don't seem to reproduce large $\\Delta\\Gamma$ values for our damped model."
     ]
    },
    {
     "cell_type": "code",
     "collapsed": false,
     "input": [
      "kevs_m = np.logspace(np.log10(0.08), np.log10(10.0), 45)\n",
      "rsarc = snrcat.make_tycho().rsarc\n",
      "\n",
      "# R&P take rim spectra over 5\", I assume plateau over 5\" as well (not stated in paper?)\n",
      "r_plat_min_rp = 220\n",
      "r_plat_max_rp = 225\n",
      "r_peak_min_rp = 235  # r_peak_max_rp is just rsarc\n",
      "rminarc_rp = 20.5\n",
      "\n",
      "mu_rp, eta2_rp = 1.0, 0.9  # eta2 = 0.9 roughly matches reported E_cut in Rettig/Pohl\n",
      "bmin_rp = 10e-6\n",
      "\n",
      "# loss-limited, weak damping, strong damping\n",
      "#B0_rp, idamp_rp, ab_rp = 310e-6, False, np.nan\n",
      "#B0_rp, idamp_rp, ab_rp = 150e-6, True, 0.00573 # ab * r_shock = 1.375\" = (0.02 pc)*(3/2.5) / 3kpc\n",
      "B0_rp, idamp_rp, ab_rp = 35e-6, True, 0.00229 # ab * r_shock = 0.55\" = 0.008 pc / 3kpc\n",
      "eta2_rp *= 2.3\n",
      "\n",
      "snr_rp = snrcat.make_tycho()\n",
      "snr_rp.dkpc = 2.5\n",
      "snr_rp.vs = 5e8\n",
      "\n",
      "igrids, rgrids = models.full_width(snrcat.make_tycho(), kevs_m, mu_rp, eta2_rp, B0_rp,\n",
      "                      rminarc=rminarc_rp, idamp=idamp_rp, damp_ab=ab_rp, damp_bmin=bmin_rp,\n",
      "                      get_prfs=True, get_fwhms=False, irad_adapt=False)"
     ],
     "language": "python",
     "metadata": {},
     "outputs": []
    },
    {
     "cell_type": "markdown",
     "metadata": {},
     "source": [
      "Check on $E_{\\mathrm{cut}}$ reported by Rettig/Pohl, ensure our eta2 values are sensible"
     ]
    },
    {
     "cell_type": "code",
     "collapsed": false,
     "input": [
      "#B0_rp, eta2_rp = 310e-6, 0.9\n",
      "\n",
      "eta =  eta2_rp * (2.*snrcat.NUKEV/(snrcat.SYNCH_CM*B0_rp))**(-(mu_rp-1)/2)\n",
      "Ecut = ( (8.3*(B0_rp/(100e-6))**(-0.5)*(snrcat.make_tycho().vs/1e8)*1.6021773)**(2/(1+mu_rp))\n",
      "        *(1./eta)**(1./(mu_rp+1)) )\n",
      "\n",
      "print Ecut * 0.624150934  # erg to TeV"
     ],
     "language": "python",
     "metadata": {},
     "outputs": []
    },
    {
     "cell_type": "markdown",
     "metadata": {},
     "source": [
      "Check that we're using the right SNR parameters"
     ]
    },
    {
     "cell_type": "code",
     "collapsed": false,
     "input": [
      "print snr_rp.config_log()"
     ],
     "language": "python",
     "metadata": {},
     "outputs": []
    },
    {
     "cell_type": "markdown",
     "metadata": {},
     "source": [
      "Try changing where you evaluate the plateau spectrum if you like"
     ]
    },
    {
     "cell_type": "code",
     "collapsed": false,
     "input": [
      "r_plat_min_rp = 230\n",
      "r_plat_max_rp = 235"
     ],
     "language": "python",
     "metadata": {},
     "outputs": []
    },
    {
     "cell_type": "code",
     "collapsed": false,
     "input": [
      "r_plat_min_rp = 220\n",
      "r_plat_max_rp = 223"
     ],
     "language": "python",
     "metadata": {},
     "outputs": []
    },
    {
     "cell_type": "markdown",
     "metadata": {},
     "source": [
      "Now plot and compute results..."
     ]
    },
    {
     "cell_type": "code",
     "collapsed": false,
     "input": [
      "# Integrate over profiles at each energy to get spectrum points\n",
      "int_i_peak = []\n",
      "int_i_plat = []\n",
      "\n",
      "# Rettig and Pohl use 5 arcsec as cut\n",
      "rgrid_i = rgrids[0]\n",
      "msk_peak = r_peak_min_rp < rgrid_i\n",
      "msk_plat = np.logical_and(r_plat_min_rp < rgrid_i, rgrid_i <= r_plat_max_rp)\n",
      "\n",
      "for en, igrid, rgrid in zip(kevs_m, igrids, rgrids):\n",
      "\n",
      "    assert np.array_equal(rgrid, rgrid_i)\n",
      "\n",
      "    i_peak = 1/en * sp.integrate.simps(igrid[msk_peak], rgrid[msk_peak])\n",
      "    i_plat = 1/en * sp.integrate.simps(igrid[msk_plat], rgrid[msk_plat])\n",
      "\n",
      "    int_i_peak.append(i_peak)\n",
      "    int_i_plat.append(i_plat)\n",
      "\n",
      "int_i_peak = np.array(int_i_peak)  # Spectra, units erg/s /cm^2 /Hz /sr /erg... or whatever\n",
      "int_i_plat = np.array(int_i_plat)  # Normalization is not correct, but not important (yet)\n",
      "\n",
      "# Fit the spectra to a power law between 2, 7 keV\n",
      "msk_fit = np.logical_and(2 < kevs_m, kevs_m <= 7)\n",
      "poly_peak = np.polyfit(np.log10(kevs_m[msk_fit]), np.log10(int_i_peak[msk_fit]), 1)\n",
      "poly_plat = np.polyfit(np.log10(kevs_m[msk_fit]), np.log10(int_i_plat[msk_fit]), 1)\n",
      "    \n",
      "# ============\n",
      "# Plot results (replicate Figures 2,4 of Rettig/Pohl (2012))\n",
      "# ============\n",
      "\n",
      "fig, (ax1, ax2) = plt.subplots(1, 2, figsize=(6,4))\n",
      "\n",
      "# Plot spectra with best fits\n",
      "ax1.plot(kevs_m, int_i_peak, 'or', label='Rim')  # Plot integrated spectrum points\n",
      "ax1.plot(kevs_m, int_i_plat, 'ob', label='Downstream')\n",
      "\n",
      "x = np.logspace(np.log10(0.6), np.log10(7+3), 50)  # Plot best fits and highlight fit domain\n",
      "ax1.plot(x, np.power(10, np.polyval(poly_peak, np.log10(x))), '-r')\n",
      "ax1.plot(x, np.power(10, np.polyval(poly_plat, np.log10(x))), '-b')\n",
      "ax1.axvspan(2,7,color='k',alpha=0.05)\n",
      "\n",
      "fplot('Energy (keV)', r'Photons /cm${}^2$ /Hz /sr /s', ax=ax1, axargs='tight', scales=['log','log'])\n",
      "ax1.legend(loc='best')\n",
      "\n",
      "# Plot spectral index computed point-wise\n",
      "ax2.plot(kevs_m[1:],\n",
      "         np.log(int_i_peak[1:] / int_i_peak[:-1]) / np.log(kevs_m[1:] / kevs_m[:-1]),\n",
      "         '-r.', label='Rim')\n",
      "ax2.plot(kevs_m[1:],\n",
      "         np.log(int_i_plat[1:] / int_i_plat[:-1]) / np.log(kevs_m[1:] / kevs_m[:-1]),\n",
      "         '-b.', label='Downstream')\n",
      "ax2.axvspan(2,7,color='k',alpha=0.05)\n",
      "fplot('Energy (keV)', 'Spectral index (-)', ax=ax2, axargs='tight', scales=['log', 'linear'])\n",
      "ax2.set_xlim(xmin=0.1, xmax=10)\n",
      "ax2.legend(loc='best')\n",
      "plt.tight_layout()\n",
      "plt.show()"
     ],
     "language": "python",
     "metadata": {},
     "outputs": []
    },
    {
     "cell_type": "code",
     "collapsed": false,
     "input": [
      "\n",
      "deltas_ptwise = (np.log(int_i_peak[1:] / int_i_peak[:-1]) / np.log(kevs_m[1:] / kevs_m[:-1])\n",
      "                 - np.log(int_i_plat[1:] / int_i_plat[:-1]) / np.log(kevs_m[1:] / kevs_m[:-1]))\n",
      "\n",
      "np.set_printoptions(precision=4)\n",
      "print kevs_m[:-1]\n",
      "print deltas_ptwise\n",
      "np.set_printoptions(precision=8)\n",
      "plt.plot(kevs_m[1:], deltas_ptwise, '-k.')\n",
      "plt.xscale('log')\n",
      "plt.show()\n",
      "print ''\n",
      "print poly_peak[0] - poly_plat[0]  # Diff between rim/plateau from 2-7keV fit"
     ],
     "language": "python",
     "metadata": {},
     "outputs": []
    }
   ],
   "metadata": {}
  }
 ]
}