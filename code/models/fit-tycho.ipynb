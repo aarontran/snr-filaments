{
 "metadata": {
  "name": "",
  "signature": "sha256:7c63d8a578c37a22f1b101ff333c05abb5c6f8878403270040b1c5e7059db918"
 },
 "nbformat": 3,
 "nbformat_minor": 0,
 "worksheets": [
  {
   "cells": [
    {
     "cell_type": "heading",
     "level": 1,
     "metadata": {},
     "source": [
      "Tycho fitting notebook"
     ]
    },
    {
     "cell_type": "code",
     "collapsed": false,
     "input": [
      "%pylab --no-import-all\n",
      "%matplotlib inline\n",
      "# ('gtk', 'inline', 'osx', 'qt', 'qt4', 'tk', 'wx')\n",
      "%load_ext autoreload\n",
      "%autoreload 2\n",
      "from fplot import fplot, show_mplrc_settings\n",
      "from IPython.core.display import display, Image, HTML, Math, Latex\n",
      "\n",
      "from IPython import parallel\n",
      "\n",
      "from __future__ import division\n",
      "\n",
      "import cPickle as pickle\n",
      "from glob import glob\n",
      "\n",
      "import fullmodel_recompile\n",
      "fullmodel_recompile.main()\n",
      "\n",
      "import models as models\n",
      "import models_exec as mex\n",
      "import models_disp as mdsp\n",
      "import parutils\n",
      "import regdict_utils as rdu\n",
      "import snr_catalog as snrcat\n",
      "\n",
      "# For reference\n",
      "show_mplrc_settings()"
     ],
     "language": "python",
     "metadata": {},
     "outputs": []
    },
    {
     "cell_type": "heading",
     "level": 1,
     "metadata": {},
     "source": [
      "1. Read in data (fwhms, full model grids), interpolate shock velocites"
     ]
    },
    {
     "cell_type": "markdown",
     "metadata": {},
     "source": [
      "Functions to interpolate shock velocity, specific to Tycho's SNR"
     ]
    },
    {
     "cell_type": "code",
     "collapsed": false,
     "input": [
      "def init_tab_vs(fexpr, vsvals):\n",
      "    \"\"\"vsvals must be sorted and match filenames\"\"\"\n",
      "    tabs = {}\n",
      "    for fname, vs in zip(sorted(glob(fexpr)), vsvals):\n",
      "        with open(fname, 'r') as fpkl:\n",
      "            tabs[vs] = pickle.load(fpkl)\n",
      "    return tabs\n",
      "\n",
      "def init_tab_ab(fexpr, abvals):\n",
      "    \"\"\"Read in tables for list of ab values, given glob expr\n",
      "    Assumes ab values uniquely specified in filename with {:0.2e}\"\"\"\n",
      "    tabs = {}\n",
      "    flist = glob(fexpr)\n",
      "    for ab in abvals:\n",
      "        abstr = '{:0.2e}'.format(ab)\n",
      "        tabmatch = [x for x in flist if abstr in x]\n",
      "        if len(tabmatch) > 1:  # Not expected\n",
      "            print 'warning, found more than one match to given ab value'\n",
      "            print 'taking first one: {}'.format(tabmatch[0])\n",
      "        with open(tabmatch[0], 'r') as fpkl:\n",
      "            tabs[ab] = pickle.load(fpkl)\n",
      "    return tabs\n",
      "\n",
      "def init_vs(f_veloc, d3kpc=None):\n",
      "    \"\"\"Read in interpolated shock velocities, convert to dict format\n",
      "    If d3kpc is specified, rescale appropriately\"\"\"\n",
      "    arr = np.loadtxt(f_veloc)\n",
      "    \n",
      "    if d3kpc is not None:\n",
      "        arr = arr * d3kpc  # arr assumed generated at d3kpc\n",
      "    \n",
      "    return dict(zip(xrange(1, len(arr)+1), arr))\n",
      "\n",
      "def init_eta2(f_eta2, mu_vals=None):\n",
      "    arr = np.loadtxt(f_eta2)\n",
      "    \n",
      "    if mu_vals is None:\n",
      "        mu_vals = [0, 1./3, 0.5, 1, 1.5, 2]\n",
      "    assert len(mu_vals) == len(arr[0,1:])\n",
      "    # Currently not using mu values for anything\n",
      "    \n",
      "    return {n: row[1:] for n, row in zip(xrange(1, len(arr)+1), arr)}"
     ],
     "language": "python",
     "metadata": {},
     "outputs": []
    },
    {
     "cell_type": "heading",
     "level": 2,
     "metadata": {},
     "source": [
      "1.1 Store data, create Fitter() generators"
     ]
    },
    {
     "cell_type": "markdown",
     "metadata": {},
     "source": [
      "Manually set filenames etc. here.  You must decide the following:\n",
      "1. Energy bands, FWHMs, region velocities, tables for fits (loss-limited)\n",
      "3. Damping fits: $a_b$ values and damped tables\n",
      "4. `srcutlog` fits: $\\eta_2$ values\n",
      "5. Output directory for all these fits"
     ]
    },
    {
     "cell_type": "code",
     "collapsed": false,
     "input": [
      "TYCHO_KEVS = np.array([0.7, 1., 2., 3., 4.5])\n",
      "TYCHO_LABELS = ['0.7-1kev', '1-1.7kev', '2-3kev', '3-4.5kev', '4.5-7kev']\n",
      "\n",
      "TYCHO_DATA = mdsp.init_data('../../data-tycho/regions-6/fwhms-subbkg/fwhms', TYCHO_KEVS, TYCHO_LABELS)\n",
      "TYCHO_VS = init_vs('../../data-tycho/regions-6/regions-6-velocs.txt')\n",
      "\n",
      "# Loss limited fit tables (varying shock velocity vs)\n",
      "TYCHO_VS_VALS = [4.59e8, 4.76e8, 4.94e8, 5.11e8]\n",
      "TYCHO_TABS = init_tab_vs('tables/Tycho_gen_2014-10-23_grid_6-151-20_vs-*.pkl', TYCHO_VS_VALS)\n",
      "\n",
      "# Damped fit tables (varying damping lengthscale a_b)\n",
      "TYCHO_AB_VALS = [0.5, 0.05, 0.04, 0.03, 0.02, 0.01, 0.009, 0.008, 0.007, 0.006, 0.005, 0.004, 0.003, 0.002]\n",
      "TYCHO_TABS_DAMP = init_tab_ab('tables/Tycho_gen_2014-10-24_grid_1-151-50_ab-*.pkl', TYCHO_AB_VALS)\n",
      "\n",
      "# Fits with eta2 fixed from srcutlog\n",
      "TYCHO_ETA2_VALS = init_eta2('../../data-tycho/regions-6/regions-6-srcutlog-eta2.txt')\n",
      "\n",
      "TYCHO_OUTDIR = '../../data-tycho/regions-6/fwhms-subbkg/model-fits/'"
     ],
     "language": "python",
     "metadata": {},
     "outputs": []
    },
    {
     "cell_type": "markdown",
     "metadata": {},
     "source": [
      "A generator that returns `Fitter()` objects w/ correct shock velocities"
     ]
    },
    {
     "cell_type": "code",
     "collapsed": false,
     "input": [
      "# General form: accept fmod as an argument to allow user intervention if needed\n",
      "# yield Fitter(), region/filament number\n",
      "\n",
      "def gen_tycho(fmod=None, verbose=True, with_eta2=False):\n",
      "    for n in TYCHO_DATA:\n",
      "        kevs, data, eps, inds = TYCHO_DATA[n]\n",
      "        \n",
      "        vs = TYCHO_VS[n]\n",
      "        # Get tab w/ closest shock veloc. to vs\n",
      "        idx = (np.abs(TYCHO_VS_VALS - vs)).argmin()\n",
      "        vs_key = TYCHO_VS_VALS[idx]\n",
      "        tab = TYCHO_TABS[vs_key]\n",
      "        \n",
      "        # Build fitter object\n",
      "        fobj = mex.Fitter(snrcat.make_tycho(), kevs, data, eps, tab,\n",
      "                          inds=inds, verbose=verbose)\n",
      "        fobj.snr.vs = vs\n",
      "        fobj.title = ('Region {} (using tab(vs={:0.2e});\\n'\n",
      "                      'vs={:0.2e} cm/s)').format(n, vs_key, vs)\n",
      "        \n",
      "        if fmod:\n",
      "            fobj = fmod(fobj)\n",
      "        \n",
      "        if with_eta2:\n",
      "            yield fobj, n, TYCHO_ETA2_VALS[n]\n",
      "        else:\n",
      "            yield fobj, n\n",
      "\n",
      "def gen_tycho_damp(ab, fmod=None, verbose=True):\n",
      "    for n in TYCHO_DATA:\n",
      "        kevs, data, eps, inds = TYCHO_DATA[n]\n",
      "        tab = TYCHO_TABS_DAMP[ab]\n",
      "        \n",
      "        # Build fitter object\n",
      "        fobj = mex.Fitter(snrcat.make_tycho(), kevs, data, eps, tab,\n",
      "                          inds=inds, verbose=verbose)\n",
      "        fobj.snr.vs = TYCHO_VS[n]\n",
      "        fobj.title = ('Region {}').format(n)\n",
      "        \n",
      "        if fmod:\n",
      "            fobj = fmod(fobj)\n",
      "        yield fobj, n"
     ],
     "language": "python",
     "metadata": {},
     "outputs": []
    },
    {
     "cell_type": "heading",
     "level": 2,
     "metadata": {},
     "source": [
      "1.2 Set up clients for parallel computation"
     ]
    },
    {
     "cell_type": "markdown",
     "metadata": {},
     "source": [
      "Possibly useful [SE question](http://stackoverflow.com/q/15289168), and [another](http://stackoverflow.com/q/18086299) (both answered by \"Min\" Ragan-Kelley (`minrk`)).  As it would be useful to view stdout as computation progresses..."
     ]
    },
    {
     "cell_type": "code",
     "collapsed": false,
     "input": [
      "dview = parutils.get_dview()\n",
      "%px import models_disp as mdsp\n",
      "%px %load_ext autoreload\n",
      "%px %autoreload 2"
     ],
     "language": "python",
     "metadata": {},
     "outputs": []
    },
    {
     "cell_type": "heading",
     "level": 1,
     "metadata": {},
     "source": [
      "2. Simple model fits to Tycho, applied to all regions (no FWHM averaging)"
     ]
    },
    {
     "cell_type": "markdown",
     "metadata": {},
     "source": [
      "Need to account for shock velocity and try seeing what happens if we average.\n",
      "\n",
      "Also, does changing the different FWHM measurement approaches make a difference?  Here we might be able to quantify that.  Tons of questions and numbers and plots to produce and parse here."
     ]
    },
    {
     "cell_type": "code",
     "collapsed": true,
     "input": [
      "mu_vals = [0., 1./3, 0.5, 1, 1.5, 2.]\n",
      "fmt_vals = [':b', ':g', ':r', '-k', '-r', '-g']\n",
      "outroot = TYCHO_OUTDIR + 'simp-man_err-d4kpc'\n",
      "\n",
      "# Apply fit settings using factory function\n",
      "f_data = mdsp.build_dataf('simp', conf_intv=0.683,\n",
      "                          fit_kws={},\n",
      "                          err_kws={'method':'manual'})\n",
      "# Customize fitter settings\n",
      "def fitter_mod(fobj):\n",
      "    fobj.snr.dkpc = 4.0\n",
      "    fobj.snr.vs = fobj.snr.vs * 4.0/3.0\n",
      "    return fobj\n",
      "\n",
      "dview.push(dict(f_data=f_data, mu_vals=mu_vals, outroot=outroot))\n",
      "plists = dview.map_async(lambda args: mdsp.generate_fits(f_data, args[0], args[1], mu_vals, outroot,\n",
      "                                                         save=True), gen_tycho(fitter_mod))"
     ],
     "language": "python",
     "metadata": {},
     "outputs": []
    },
    {
     "cell_type": "code",
     "collapsed": true,
     "input": [
      "#for _s in plists.stdout:\n",
      "#    print _s\n",
      "plists.display_outputs()"
     ],
     "language": "python",
     "metadata": {},
     "outputs": []
    },
    {
     "cell_type": "code",
     "collapsed": false,
     "input": [
      "for p_list, fobj in plists:\n",
      "    print fobj.title\n",
      "    ipytable, ltable = mdsp.generate_tabs(p_list, fobj.title, mu_vals)\n",
      "    display(ipytable)\n",
      "    mdsp.generate_plots(p_list, fobj, mu_vals, fmt_vals, ax=None)\n",
      "    plt.show()\n",
      "    print ltable, '\\n'"
     ],
     "language": "python",
     "metadata": {},
     "outputs": []
    },
    {
     "cell_type": "heading",
     "level": 2,
     "metadata": {},
     "source": [
      "2.2 Plot chisqr space"
     ]
    },
    {
     "cell_type": "code",
     "collapsed": false,
     "input": [
      "mu_vals = [0, 1./3, 0.5, 1, 1.5, 2]  # Plotting more mu values shows tendency for best fits to run off to mu=50...\n",
      "fmt_vals = [':r.', ':g.', ':b.', '-k.', '--c.', '--y.']\n",
      "eta2_vals = np.logspace(-3, 3, num=100, base=10)  # One extra decade in each direction, vs. gridded eta2...\n",
      "\n",
      "for fobj in gen_tycho():\n",
      "    plt.figure(figsize(5,3.7))\n",
      "    plt.title(fobj.title)\n",
      "    fobj.check_eta2_simp(eta2_vals, mu_vals, fmt_vals)\n",
      "    plt.show()"
     ],
     "language": "python",
     "metadata": {},
     "outputs": []
    },
    {
     "cell_type": "heading",
     "level": 1,
     "metadata": {},
     "source": [
      "3. Full model fits to Tycho data"
     ]
    },
    {
     "cell_type": "markdown",
     "metadata": {},
     "source": [
      "Code for sections 3.1, 3.2 is out of date"
     ]
    },
    {
     "cell_type": "heading",
     "level": 2,
     "metadata": {},
     "source": [
      "3.1 Plot $(B_0, \\chi^2)$ space to check that grid resolves best $B_0$ (for various $\\mu$, $\\eta_2$)"
     ]
    },
    {
     "cell_type": "markdown",
     "metadata": {},
     "source": [
      "Subplots correspond to indiv. regions; this only plots the first 5 regions."
     ]
    },
    {
     "cell_type": "code",
     "collapsed": true,
     "input": [
      "mu_vals = [0, 1./3, 0.5, 1, 1.5, 2]\n",
      "fmt_vals = [':r.', ':g.', ':b.', '-k.', '--c.', '--y.']\n",
      "eta2_vals = np.sort(TABS[VS_VALS[0]][0].keys())  # Assumes same eta2 values for all mu\n",
      "\n",
      "for eta2 in eta2_vals[::10]:\n",
      "    header = 'Eta2 = {:0.2f}'.format(eta2)\n",
      "    print header\n",
      "    print '-'*len(header)\n",
      "    plt.figure(figsize=(20,8))\n",
      "    for fobj, i in zip(gen_tycho(), xrange(5)):\n",
      "        # Log scaling\n",
      "        plt.subplot(2,5,i+1)\n",
      "        plt.title(fobj.title)\n",
      "        plt.yscale('log')\n",
      "        fobj.check_B0_grid(eta2, mu_vals, fmt_vals)\n",
      "        # Linear scaling\n",
      "        plt.subplot(2,5,i+6)\n",
      "        fobj.check_B0_grid(eta2, mu_vals, fmt_vals)\n",
      "    plt.tight_layout()\n",
      "    plt.show()\n",
      "    print ''"
     ],
     "language": "python",
     "metadata": {},
     "outputs": []
    },
    {
     "cell_type": "heading",
     "level": 2,
     "metadata": {},
     "source": [
      "3.2 Plot $(\\eta_2, \\chi^2)$ space"
     ]
    },
    {
     "cell_type": "code",
     "collapsed": false,
     "input": [
      "mu_vals = [0, 1./3, 0.5, 1, 1.5, 2]\n",
      "fmt_vals = [':r.', ':g.', ':b.', '-k.', '--c.', '--y.']\n",
      "\n",
      "for fobj, n in gen_tycho():\n",
      "    plt.figure(figsize=(8,5))\n",
      "    plt.title(fobj.title)\n",
      "    fobj.check_eta2_grid(mu_vals, fmt_vals)\n",
      "    plt.show()"
     ],
     "language": "python",
     "metadata": {},
     "outputs": []
    },
    {
     "cell_type": "heading",
     "level": 2,
     "metadata": {},
     "source": [
      "3.3 Generate equivalent of Ressler+'s (2014) Table 8 with best fits + errors + plots etc..."
     ]
    },
    {
     "cell_type": "markdown",
     "metadata": {},
     "source": [
      "Double check the available kwargs to `build_dataf`"
     ]
    },
    {
     "cell_type": "code",
     "collapsed": false,
     "input": [
      "mdsp.build_dataf?"
     ],
     "language": "python",
     "metadata": {},
     "outputs": []
    },
    {
     "cell_type": "markdown",
     "metadata": {},
     "source": [
      "Determine fit properties, output root, etc."
     ]
    },
    {
     "cell_type": "code",
     "collapsed": false,
     "input": [
      "mu_vals = [0., 1./3, 0.5, 1, 1.5, 2.]\n",
      "outroot = TYCHO_OUTDIR + 'full-man_err'\n",
      "\n",
      "# Apply fit settings using factory function\n",
      "f_data = mdsp.build_dataf('full', conf_intv=0.683,\n",
      "                          fit_kws={},\n",
      "                          err_kws={})\n",
      "\n",
      "dview.push(dict(f_data=f_data, mu_vals=mu_vals, outroot=outroot))\n",
      "plists = dview.map_async(lambda args: mdsp.generate_fits(f_data, args[0], args[1], mu_vals, outroot,\n",
      "                                                         save=True), gen_tycho())"
     ],
     "language": "python",
     "metadata": {},
     "outputs": []
    },
    {
     "cell_type": "markdown",
     "metadata": {},
     "source": [
      "Print stdout while waiting"
     ]
    },
    {
     "cell_type": "code",
     "collapsed": false,
     "input": [
      "for _s in plists.stdout:\n",
      "    print _s\n",
      "    print '\\n','-'*72,'\\n'"
     ],
     "language": "python",
     "metadata": {},
     "outputs": []
    },
    {
     "cell_type": "markdown",
     "metadata": {},
     "source": [
      "Useful debugging attributes: http://ipython.org/ipython-doc/dev/parallel/parallel_details.html"
     ]
    },
    {
     "cell_type": "code",
     "collapsed": true,
     "input": [
      "print plists.status\n",
      "print plists.elapsed\n",
      "_ = [_cmpl - _strt for _cmpl, _strt in zip(plists.completed, plists.started)]\n",
      "for _a in _:\n",
      "    print _a"
     ],
     "language": "python",
     "metadata": {},
     "outputs": []
    },
    {
     "cell_type": "code",
     "collapsed": true,
     "input": [
      "plists.display_outputs()"
     ],
     "language": "python",
     "metadata": {},
     "outputs": []
    },
    {
     "cell_type": "markdown",
     "metadata": {},
     "source": [
      "Print results when done"
     ]
    },
    {
     "cell_type": "code",
     "collapsed": true,
     "input": [
      "fmt_vals = [':b', ':g', ':r', '-k', '-r', '-g']\n",
      "\n",
      "idx = 1\n",
      "for p_list, fobj in plists:\n",
      "    print fobj.title\n",
      "    ipytable, ltable = mdsp.generate_tabs(p_list, fobj.title, mu_vals)\n",
      "    display(ipytable)\n",
      "    mdsp.generate_plots(p_list, fobj, mu_vals, fmt_vals, ax=None)\n",
      "    plt.savefig('reg_{:02d}.pdf'.format(idx))\n",
      "    idx += 1\n",
      "    plt.show()\n",
      "    print ltable, '\\n'"
     ],
     "language": "python",
     "metadata": {},
     "outputs": []
    },
    {
     "cell_type": "heading",
     "level": 2,
     "metadata": {},
     "source": [
      "3.4 Best loss-limited fits, with $\\eta_2$ fixed at `srcutlog` derived values or $1$"
     ]
    },
    {
     "cell_type": "code",
     "collapsed": false,
     "input": [
      "mdsp.build_dataf??"
     ],
     "language": "python",
     "metadata": {},
     "outputs": []
    },
    {
     "cell_type": "code",
     "collapsed": false,
     "input": [
      "def gen_eta2_fits(fobj, n_ID, mu_vals, eta2_vals, outroot, save=True):\n",
      "    \"\"\"Perform fits and save to pkl/json if desired;\n",
      "    return list of Parameters objects and Fitter()\n",
      "    Stolen from models_disp.py, to allow more customization (bad hardcoding to vary mu only)\n",
      "    \"\"\"\n",
      "    p_list = []\n",
      "    for eta2, mu in zip(eta2_vals, mu_vals):\n",
      "        print '{} stdout'.format(fobj.title)\n",
      "        f_data = mdsp.build_dataf('full', conf_intv=0.683, err_kws={'method':'stderr'},\n",
      "                                  fit_kws={'eta2_free': False, 'eta2':eta2})\n",
      "        res = f_data(mu, fobj)\n",
      "        p_list.append(res.params)\n",
      "    if save:\n",
      "        mdsp.save_fits(p_list, fobj, mu_vals, outroot + '-{:02d}'.format(n_ID))\n",
      "    return p_list, fobj"
     ],
     "language": "python",
     "metadata": {},
     "outputs": []
    },
    {
     "cell_type": "heading",
     "level": 3,
     "metadata": {},
     "source": [
      "First variant: generator returns `fobj`, `n`, and srcutlog derived $\\eta_2$."
     ]
    },
    {
     "cell_type": "code",
     "collapsed": false,
     "input": [
      "mu_vals = [0., 1./3, 0.5, 1, 1.5, 2.]  # Must match order of that in srcutlog-eta2 text file\n",
      "outroot = TYCHO_OUTDIR + 'full-std_err-srcutlog'\n",
      "\n",
      "dview.push(dict(gen_eta2_fits=gen_eta2_fits, mu_vals=mu_vals, outroot=outroot))\n",
      "plists = dview.map_async(lambda args: gen_eta2_fits(args[0], args[1], mu_vals, args[2], outroot, save=True),\n",
      "                         gen_tycho(with_eta2=True))"
     ],
     "language": "python",
     "metadata": {},
     "outputs": []
    },
    {
     "cell_type": "heading",
     "level": 3,
     "metadata": {},
     "source": [
      "Second variant: just use $\\eta_2$ at some fixed value (in this instance, $\\mu=1$ and $\\eta_2=1$ both fixed)."
     ]
    },
    {
     "cell_type": "markdown",
     "metadata": {},
     "source": [
      "Started around 17:00:30"
     ]
    },
    {
     "cell_type": "code",
     "collapsed": false,
     "input": [
      "mu_vals = [0., 1./3, 0.5, 1, 1.5, 2.]\n",
      "eta2_vals = len(mu_vals) * [1.]\n",
      "outroot = TYCHO_OUTDIR + 'full-std_err-eta2_one'\n",
      "\n",
      "dview.push(dict(gen_eta2_fits=gen_eta2_fits, mu_vals=mu_vals, eta2_vals=eta2_vals,outroot=outroot))\n",
      "plists = dview.map_async(lambda args: gen_eta2_fits(args[0], args[1], mu_vals, eta2_vals, outroot, save=True),\n",
      "                         gen_tycho(with_eta2=True))"
     ],
     "language": "python",
     "metadata": {},
     "outputs": []
    },
    {
     "cell_type": "code",
     "collapsed": false,
     "input": [
      "for _s in plists.stdout:\n",
      "    print _s\n",
      "    print '\\n','-'*72,'\\n'"
     ],
     "language": "python",
     "metadata": {},
     "outputs": []
    },
    {
     "cell_type": "code",
     "collapsed": false,
     "input": [
      "print plists.status\n",
      "print plists.elapsed\n",
      "_ = [_cmpl - _strt for _cmpl, _strt in zip(plists.completed, plists.started)]\n",
      "for _a in _:\n",
      "    print _a"
     ],
     "language": "python",
     "metadata": {},
     "outputs": []
    },
    {
     "cell_type": "code",
     "collapsed": false,
     "input": [
      "plists.display_outputs()"
     ],
     "language": "python",
     "metadata": {},
     "outputs": []
    },
    {
     "cell_type": "heading",
     "level": 1,
     "metadata": {},
     "source": [
      "4. Full model fits with damping..."
     ]
    },
    {
     "cell_type": "heading",
     "level": 2,
     "metadata": {},
     "source": [
      "4.1 Run all fits ($\\eta_2$ free, $\\eta_2 = 0.01,0.1,1.0,2.0,10.0$).  $\\mu=1$ fixed."
     ]
    },
    {
     "cell_type": "markdown",
     "metadata": {},
     "source": [
      "First, run completely free fits.  Then, iterate over several eta2 values and run fixed-eta2 fits.\n",
      "Throw all the `map_async` results together into a mega list."
     ]
    },
    {
     "cell_type": "code",
     "collapsed": true,
     "input": [
      "plists_list = []\n",
      "mu_vals = [1.]\n",
      "eta2_vals = [0.01, 0.1, 1., 2., 10.]\n",
      "\n",
      "for ab in TYCHO_AB_VALS:\n",
      "    \n",
      "    outroot = TYCHO_OUTDIR + 'full-std_err-ab_{:0.2e}-eta2_free'.format(ab)\n",
      "    \n",
      "    f_data = mdsp.build_dataf('full', conf_intv=0.683,\n",
      "                              fit_kws={'model_kws':{'idamp': True,\n",
      "                                                    'damp_ab': ab}},\n",
      "                              err_kws={'method':'stderr'})\n",
      "\n",
      "    dview.push(dict(f_data=f_data, mu_vals=mu_vals, outroot=outroot))\n",
      "    plists = dview.map_async(lambda args: mdsp.generate_fits(f_data, args[0], args[1], mu_vals, outroot,\n",
      "                                                             save=True), gen_tycho_damp(ab))\n",
      "    plists_list.append(plists)\n",
      "\n",
      "\n",
      "for eta2 in eta2_vals:\n",
      "    for ab in TYCHO_AB_VALS:\n",
      "        \n",
      "        outroot = TYCHO_OUTDIR + 'full-std_err-ab_{:0.2e}-eta2_{:0.2e}'.format(ab, eta2)\n",
      "        \n",
      "        f_data = mdsp.build_dataf('full', conf_intv=0.683,\n",
      "                                  fit_kws={'eta2': eta2, 'eta2_free': False,\n",
      "                                           'model_kws':{'idamp': True,\n",
      "                                                        'damp_ab': ab}},\n",
      "                                  err_kws={'method':'stderr'})\n",
      "\n",
      "        dview.push(dict(f_data=f_data, mu_vals=mu_vals, outroot=outroot))\n",
      "        plists = dview.map_async(lambda args: mdsp.generate_fits(f_data, args[0], args[1], mu_vals, outroot,\n",
      "                                                                 save=True), gen_tycho_damp(ab))\n",
      "        plists_list.append(plists)"
     ],
     "language": "python",
     "metadata": {},
     "outputs": []
    },
    {
     "cell_type": "markdown",
     "metadata": {},
     "source": [
      "Check status of each `map_async` result, and set `i` appropriately"
     ]
    },
    {
     "cell_type": "code",
     "collapsed": true,
     "input": [
      "print [_.ready() for _ in plists_list]"
     ],
     "language": "python",
     "metadata": {},
     "outputs": []
    },
    {
     "cell_type": "code",
     "collapsed": true,
     "input": [
      "i = len(plists_list) - 1"
     ],
     "language": "python",
     "metadata": {},
     "outputs": []
    },
    {
     "cell_type": "markdown",
     "metadata": {},
     "source": [
      "Now print out status information on the `i`-th set of results."
     ]
    },
    {
     "cell_type": "code",
     "collapsed": false,
     "input": [
      "print 'Time elapsed:', plists_list[i].elapsed\n",
      "print 'Status:', map(str,plists_list[i].status)\n",
      "print 'Submitted:', map(str,plists_list[i].submitted)\n",
      "print 'Received:', map(str,plists_list[i].received)\n",
      "print 'Started:', map(str,plists_list[i].started)\n",
      "print 'Completed:', map(str,plists_list[i].completed)"
     ],
     "language": "python",
     "metadata": {},
     "outputs": []
    },
    {
     "cell_type": "code",
     "collapsed": true,
     "input": [
      "for _s in plists_list[i].stdout:\n",
      "    print _s\n",
      "    print '\\n','-'*72,'\\n'"
     ],
     "language": "python",
     "metadata": {},
     "outputs": []
    },
    {
     "cell_type": "code",
     "collapsed": false,
     "input": [
      "plists_list[i].display_outputs()"
     ],
     "language": "python",
     "metadata": {},
     "outputs": []
    },
    {
     "cell_type": "code",
     "collapsed": true,
     "input": [
      "idx = 1\n",
      "for p_list, fobj in plists_list[i]:\n",
      "    print fobj.title\n",
      "    ipytable, ltable = mdsp.generate_tabs(p_list, fobj.title, mu_vals)\n",
      "    display(ipytable)\n",
      "    #mdsp.generate_plots(p_list, fobj, mu_vals, fmt_vals, ax=None)\n",
      "    #plt.savefig('reg_{:02d}.pdf'.format(idx))\n",
      "    #idx += 1\n",
      "    #plt.show()\n",
      "    print ltable, '\\n'"
     ],
     "language": "python",
     "metadata": {},
     "outputs": []
    },
    {
     "cell_type": "heading",
     "level": 2,
     "metadata": {},
     "source": [
      "4.3 Now run fits as above, with $\\eta_2 = 1$ fixed and $\\mu = 0, 1/3, 1/2, \\ldots$"
     ]
    },
    {
     "cell_type": "code",
     "collapsed": false,
     "input": [
      "plists_list = []\n",
      "mu_vals = [0, 1./3, 0.5, 1, 1.5, 2]\n",
      "eta2 = 1.\n",
      "\n",
      "for ab in TYCHO_AB_VALS:\n",
      "    \n",
      "    outroot = TYCHO_OUTDIR + 'full-std_err-mu_all-ab_{:0.2e}-eta2_{:0.2e}'.format(ab, eta2)\n",
      "\n",
      "    f_data = mdsp.build_dataf('full', conf_intv=0.683,\n",
      "                              fit_kws={'eta2': eta2, 'eta2_free': False,\n",
      "                                       'model_kws':{'idamp': True,\n",
      "                                                    'damp_ab': ab}},\n",
      "                              err_kws={'method':'stderr'})\n",
      "\n",
      "    dview.push(dict(f_data=f_data, mu_vals=mu_vals, outroot=outroot))\n",
      "    plists = dview.map_async(lambda args: mdsp.generate_fits(f_data, args[0], args[1], mu_vals, outroot,\n",
      "                                                             save=True), gen_tycho_damp(ab))\n",
      "    plists_list.append(plists)"
     ],
     "language": "python",
     "metadata": {},
     "outputs": []
    },
    {
     "cell_type": "code",
     "collapsed": false,
     "input": [
      "print [_.ready() for _ in plists_list]"
     ],
     "language": "python",
     "metadata": {},
     "outputs": []
    },
    {
     "cell_type": "code",
     "collapsed": false,
     "input": [
      "i = len(plists_list)-1\n",
      "\n",
      "print 'Time elapsed:', plists_list[i].elapsed\n",
      "print 'Status:', map(str,plists_list[i].status)\n",
      "print 'Submitted:', map(str,plists_list[i].submitted)\n",
      "print 'Received:', map(str,plists_list[i].received)\n",
      "print 'Started:', map(str,plists_list[i].started)\n",
      "print 'Completed:', map(str,plists_list[i].completed)\n",
      "print ''\n",
      "\n",
      "for _s in plists_list[i].stdout:\n",
      "    print _s\n",
      "    print '\\n','-'*72,'\\n'"
     ],
     "language": "python",
     "metadata": {},
     "outputs": []
    },
    {
     "cell_type": "code",
     "collapsed": false,
     "input": [
      "plists_list[i].display_outputs()"
     ],
     "language": "python",
     "metadata": {},
     "outputs": []
    },
    {
     "cell_type": "heading",
     "level": 2,
     "metadata": {},
     "source": [
      "4.4 Damped fits as above, $\\eta_2 = 1$ and $\\mu = 1$ fixed, but with two different $B_{\\mathrm{min}}$ values"
     ]
    },
    {
     "cell_type": "markdown",
     "metadata": {},
     "source": [
      "Of course, we've already run the case for $B_{\\mathrm{min}} = 5\\times10^{-6}$"
     ]
    },
    {
     "cell_type": "code",
     "collapsed": false,
     "input": [
      "plists_list = []\n",
      "mu_vals = [1.]\n",
      "eta2 = 1.\n",
      "bmin_vals = [0., 2e-6]\n",
      "\n",
      "for bmin in bmin_vals:\n",
      "    for ab in TYCHO_AB_VALS:\n",
      "\n",
      "        outroot = TYCHO_OUTDIR + 'full-std_err-ab_{:0.2e}-eta2_{:0.2e}-Bmin_{:0.2e}'.format(ab, eta2, bmin)\n",
      "\n",
      "        f_data = mdsp.build_dataf('full', conf_intv=0.683,\n",
      "                                  fit_kws={'eta2': eta2, 'eta2_free': False,\n",
      "                                           'model_kws':{'idamp': True,\n",
      "                                                        'damp_ab': ab,\n",
      "                                                        'damp_bmin': bmin}},\n",
      "                                  err_kws={'method':'stderr'})\n",
      "\n",
      "        dview.push(dict(f_data=f_data, mu_vals=mu_vals, outroot=outroot))\n",
      "        plists = dview.map_async(lambda args: mdsp.generate_fits(f_data, args[0], args[1], mu_vals, outroot,\n",
      "                                                                 save=True), gen_tycho_damp(ab))\n",
      "        plists_list.append(plists)"
     ],
     "language": "python",
     "metadata": {},
     "outputs": []
    },
    {
     "cell_type": "code",
     "collapsed": false,
     "input": [
      "print [_.ready() for _ in plists_list]"
     ],
     "language": "python",
     "metadata": {},
     "outputs": []
    },
    {
     "cell_type": "code",
     "collapsed": false,
     "input": [
      "i = -1\n",
      "\n",
      "print 'Time elapsed:', plists_list[i].elapsed\n",
      "print 'Status:', map(str,plists_list[i].status)\n",
      "print 'Submitted:', map(str,plists_list[i].submitted)\n",
      "print 'Received:', map(str,plists_list[i].received)\n",
      "print 'Started:', map(str,plists_list[i].started)\n",
      "print 'Completed:', map(str,plists_list[i].completed)\n",
      "print ''\n",
      "\n",
      "for _s in plists_list[i].stdout:\n",
      "    print _s\n",
      "    print '\\n','-'*72,'\\n'\n",
      "for _s in plists_list[i].stdout:\n",
      "    print _s\n",
      "    print '\\n','-'*72,'\\n'"
     ],
     "language": "python",
     "metadata": {},
     "outputs": []
    },
    {
     "cell_type": "code",
     "collapsed": true,
     "input": [
      "idx = 14\n",
      "for p_list, fobj in plists_list[idx]:\n",
      "    print fobj.title\n",
      "    print p_list[0].metadata['fit-kws']\n",
      "    ipytable, ltable = mdsp.generate_tabs(p_list, fobj.title, mu_vals)\n",
      "    display(ipytable)\n",
      "    mdsp.generate_plots(p_list, fobj, mu_vals, ['-r'], ax=None)\n",
      "    #plt.savefig('reg_{:02d}.pdf'.format(idx))\n",
      "    #idx += 1\n",
      "    plt.show()\n",
      "    print ltable, '\\n'"
     ],
     "language": "python",
     "metadata": {},
     "outputs": []
    },
    {
     "cell_type": "heading",
     "level": 1,
     "metadata": {},
     "source": [
      "5. Full model fits with damping as a free parameter"
     ]
    },
    {
     "cell_type": "markdown",
     "metadata": {},
     "source": [
      "Three free parameters: eta2, B0, damping length ab.\n",
      "\n",
      "These fits will probably not end well, but I should give them a try and compare to my manual gridding fits (4, above).\n",
      "\n",
      "Result: fits did not end well (also ran into error trying to save/pickle final parameters)."
     ]
    },
    {
     "cell_type": "code",
     "collapsed": false,
     "input": [
      "# mu_vals = [0., 1./3, 0.5, 1, 1.5, 2.]\n",
      "mu_vals = [1.]\n",
      "outroot = TYCHO_OUTDIR + 'full-std_err-ab_free'\n",
      "\n",
      "ab_init = 0.005\n",
      "\n",
      "# Apply fit settings using factory function\n",
      "f_data = mdsp.build_dataf('full', conf_intv=0.683,\n",
      "                          fit_kws={'ab_fit': ab_init,\n",
      "                                   'model_kws': {'idamp': True,\n",
      "                                                 'damp_bmin': 5e-6},\n",
      "                                   'epsfcn': 1e-5, 'factor': 10},\n",
      "                          err_kws={'method':'stderr'})\n",
      "\n",
      "dview.push(dict(f_data=f_data, mu_vals=mu_vals, outroot=outroot))\n",
      "plists = dview.map_async(lambda args: mdsp.generate_fits(f_data, args[0], args[1], mu_vals, outroot,\n",
      "                                                         save=True), gen_tycho_damp(ab_init))"
     ],
     "language": "python",
     "metadata": {},
     "outputs": []
    },
    {
     "cell_type": "code",
     "collapsed": false,
     "input": [
      "for _s in plists.stdout:\n",
      "    print _s\n",
      "    print '\\n','-'*72,'\\n'"
     ],
     "language": "python",
     "metadata": {},
     "outputs": []
    },
    {
     "cell_type": "code",
     "collapsed": false,
     "input": [
      "plists.display_outputs()"
     ],
     "language": "python",
     "metadata": {},
     "outputs": []
    },
    {
     "cell_type": "code",
     "collapsed": false,
     "input": [
      "plists.status"
     ],
     "language": "python",
     "metadata": {},
     "outputs": []
    }
   ],
   "metadata": {}
  }
 ]
}