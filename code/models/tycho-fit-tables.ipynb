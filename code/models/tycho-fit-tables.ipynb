{
 "metadata": {
  "name": "",
  "signature": "sha256:6c480f8ffdfa08119f22fde1486cfd8945d0061964fc9232c5b61408798c3dc9"
 },
 "nbformat": 3,
 "nbformat_minor": 0,
 "worksheets": [
  {
   "cells": [
    {
     "cell_type": "heading",
     "level": 1,
     "metadata": {},
     "source": [
      "Tycho fitting notebook"
     ]
    },
    {
     "cell_type": "code",
     "collapsed": false,
     "input": [
      "%pylab --no-import-all\n",
      "%matplotlib inline\n",
      "# ('gtk', 'inline', 'osx', 'qt', 'qt4', 'tk', 'wx')\n",
      "%load_ext autoreload\n",
      "%autoreload 2\n",
      "from fplot import fplot, show_mplrc_settings\n",
      "from IPython.core.display import display, Image, HTML, Math, Latex\n",
      "\n",
      "from IPython import parallel\n",
      "\n",
      "from __future__ import division\n",
      "\n",
      "import cPickle as pickle\n",
      "from glob import glob\n",
      "\n",
      "import fullmodel_recompile\n",
      "fullmodel_recompile.main()\n",
      "\n",
      "import models as models\n",
      "import models_exec as mex\n",
      "import models_disp as mdsp\n",
      "import parutils\n",
      "import regdict_utils as rdu\n",
      "import snr_catalog as snrcat\n",
      "\n",
      "# For reference\n",
      "show_mplrc_settings()"
     ],
     "language": "python",
     "metadata": {},
     "outputs": []
    },
    {
     "cell_type": "heading",
     "level": 1,
     "metadata": {},
     "source": [
      "1. Read in data (fwhms, full model grids), interpolate shock velocites"
     ]
    },
    {
     "cell_type": "markdown",
     "metadata": {},
     "source": [
      "Functions to interpolate shock velocity, specific to Tycho's SNR"
     ]
    },
    {
     "cell_type": "code",
     "collapsed": false,
     "input": [
      "def init_tab_vs(fexpr, vsvals):\n",
      "    \"\"\"vsvals must be sorted and match filenames\"\"\"\n",
      "    TABS = {}\n",
      "    for fname, vs in zip(sorted(glob(fexpr)), vsvals):\n",
      "        with open(fname, 'r') as fpkl:\n",
      "            TABS[vs] = pickle.load(fpkl)\n",
      "    return TABS\n",
      "\n",
      "def interp_vs(f_briantab, f_az, dkpc=3.):\n",
      "    \"\"\"Interpolated shock velocities, assuming distance dkpc to SNR\n",
      "    Intended for Tycho's SNR, variable shock velocities\n",
      "    \"\"\"\n",
      "    briantab = np.loadtxt(f_briantab)\n",
      "    az_angles = np.loadtxt(f_az)\n",
      "\n",
      "    aztab = briantab[:,0]\n",
      "    vstab = briantab[:,1] * 1e5  # Convert km/s to cm/s\n",
      "\n",
      "    TYCHO_VS = {}\n",
      "\n",
      "    # Pad table on each end to avoid edge cases\n",
      "    aztab = np.insert(aztab, [0, len(aztab)], [aztab[-1]-360., aztab[0]+360.])\n",
      "    vstab = np.insert(vstab, [0, len(vstab)], [vstab[-1], vstab[0]])\n",
      "\n",
      "    # Interpolate linearly in Brian's table\n",
      "    for n, az in zip(xrange(len(az_angles)), az_angles):\n",
      "\n",
      "        az = az % 360\n",
      "        ind = np.searchsorted(aztab, az)\n",
      "        slope = (vstab[ind] - vstab[ind-1]) / (aztab[ind] - aztab[ind-1])\n",
      "        vs_interp = vstab[ind-1] + slope * (az - aztab[ind-1])\n",
      "\n",
      "        TYCHO_VS[n+1] = vs_interp * dkpc/2.3, az\n",
      "    \n",
      "    return TYCHO_VS"
     ],
     "language": "python",
     "metadata": {},
     "outputs": []
    },
    {
     "cell_type": "heading",
     "level": 2,
     "metadata": {},
     "source": [
      "1.1 Store data, create Fitter() generators"
     ]
    },
    {
     "cell_type": "markdown",
     "metadata": {},
     "source": [
      "Currently configured for regions-4 with background subtraction and manual cap on FWHM"
     ]
    },
    {
     "cell_type": "code",
     "collapsed": false,
     "input": [
      "TYCHO_KEVS = np.array([0.7, 1., 2., 3., 4.5])\n",
      "TYCHO_LABELS = ['0.7-1kev', '1-1.7kev', '2-3kev', '3-4.5kev', '4.5-7kev']\n",
      "\n",
      "#TYCHO_FLMTS = {1:[1,10,11,12,13],\n",
      "#               2:[2,3], 3:[4,5],\n",
      "#               4:[6,7], 5:[8,9]}\n",
      "\n",
      "TYCHO_DATA = mdsp.init_data('../../data-tycho/regions-5/fwhms-subbkg/fwhms', TYCHO_KEVS, TYCHO_LABELS)\n",
      "#TYCHO_DATA_AVG = mdsp.init_data_avg(TYCHO_DATA, TYCHO_FLMTS, avg='a')\n",
      "\n",
      "TYCHO_VS_VALS = [4.59e8, 4.76e8, 4.94e8, 5.11e8]  # 2014 August 30 tables\n",
      "TYCHO_TABS = init_tab_vs('tables/Tycho_gen_2014-08-30_*.pkl', TYCHO_VS_VALS)\n",
      "TYCHO_VS = interp_vs('../../data-tycho/velocs/tycho_velocs.txt',\n",
      "                     '../../data-tycho/regions-5/regions-5-az.txt',\n",
      "                     dkpc=3.)\n",
      "\n",
      "TYCHO_OUTDIR = '../../data-tycho/regions-5/fwhms-subbkg/model-fits/'"
     ],
     "language": "python",
     "metadata": {},
     "outputs": []
    },
    {
     "cell_type": "code",
     "collapsed": false,
     "input": [
      "# General form: accept fmod as an argument to allow user intervention if needed\n",
      "# yield Fitter(), region/filament number\n",
      "\n",
      "def gen_tycho(fmod=None, verbose=True):\n",
      "    for n in TYCHO_DATA:\n",
      "        kevs, data, eps, inds = TYCHO_DATA[n]\n",
      "        \n",
      "        vs, az = TYCHO_VS[n]\n",
      "        # Get tab w/ closest shock veloc. to vs\n",
      "        idx = (np.abs(TYCHO_VS_VALS - vs)).argmin()\n",
      "        vs_key = TYCHO_VS_VALS[idx]\n",
      "        tab = TYCHO_TABS[vs_key]\n",
      "        \n",
      "        # Build fitter object\n",
      "        fobj = mex.Fitter(snrcat.make_tycho(), kevs, data, eps, tab,\n",
      "                          inds=inds, verbose=verbose)\n",
      "        fobj.snr.vs = vs\n",
      "        fobj.title = ('Region {} (using tab(vs={:0.2e});\\n'\n",
      "                      'vs={:0.2e} cm/s, az={:0.1f} deg.)').format(n, vs_key, vs, az)\n",
      "        \n",
      "        if fmod:\n",
      "            fobj = fmod(fobj)\n",
      "        yield fobj, n\n",
      "\n",
      "def gen_tycho_flmt(fmod=None, verbose=True):\n",
      "    for n in TYCHO_DATA_AVG:\n",
      "        kevs, data, eps, inds, n_pts = TYCHO_DATA_AVG[n]\n",
      "        \n",
      "        vs = np.mean([TYCHO_VS[m][0] for m in TYCHO_FLMTS[n]])  # Lazy: average region shock velocs\n",
      "        # Get tab w/ closest shock veloc. to vs\n",
      "        idx = (np.abs(TYCHO_VS_VALS - vs)).argmin()\n",
      "        vs_key = TYCHO_VS_VALS[idx]\n",
      "        tab = TYCHO_TABS[vs_key]\n",
      "        \n",
      "        # Build fitter object\n",
      "        fobj = mex.Fitter(snrcat.make_tycho(), kevs, data, eps, tab,\n",
      "                          inds=inds, verbose=verbose)\n",
      "        fobj.snr.vs = vs\n",
      "        fobj.title = ('Filament {}, mean vs={:0.2e} cm/s').format(n, vs)\n",
      "        \n",
      "        if fmod:\n",
      "            fobj = fmod(fobj)\n",
      "        yield fobj, n"
     ],
     "language": "python",
     "metadata": {},
     "outputs": []
    },
    {
     "cell_type": "heading",
     "level": 2,
     "metadata": {},
     "source": [
      "1.2 Set up clients for parallel computation"
     ]
    },
    {
     "cell_type": "markdown",
     "metadata": {},
     "source": [
      "Possibly useful [SE question](http://stackoverflow.com/q/15289168), and [another](http://stackoverflow.com/q/18086299) (both answered by \"Min\" Ragan-Kelley (`minrk`)).  As it would be useful to view stdout as computation progresses..."
     ]
    },
    {
     "cell_type": "code",
     "collapsed": false,
     "input": [
      "dview = parutils.get_dview()\n",
      "%px import models_disp as mdsp\n",
      "%px %load_ext autoreload\n",
      "%px %autoreload 2"
     ],
     "language": "python",
     "metadata": {},
     "outputs": []
    },
    {
     "cell_type": "heading",
     "level": 2,
     "metadata": {},
     "source": [
      "1.3 TESTBED for magnetic field damping calculations"
     ]
    },
    {
     "cell_type": "markdown",
     "metadata": {},
     "source": [
      "Just get fobj for n = 1"
     ]
    },
    {
     "cell_type": "code",
     "collapsed": true,
     "input": [
      "for fobj, n in gen_tycho():\n",
      "    if n == 1:\n",
      "        break\n",
      "    # Just getting fobj out"
     ],
     "language": "python",
     "metadata": {},
     "outputs": []
    },
    {
     "cell_type": "markdown",
     "metadata": {},
     "source": [
      "Example manual calculation (to play with numbers / etc).  This one with ab = 0.002 fails real badly"
     ]
    },
    {
     "cell_type": "code",
     "collapsed": true,
     "input": [
      "mdsp.build_dataf?"
     ],
     "language": "python",
     "metadata": {},
     "outputs": []
    },
    {
     "cell_type": "code",
     "collapsed": true,
     "input": [
      "fobj.get_fit(1, 'full',\n",
      "             eta2_free=True, B0_free=True,\n",
      "             eta2 = 0.1, B0 = 50e-6,\n",
      "             model_kws =\n",
      "                 {'rminarc': 10, 'irmax': 200, 'icut': True,\n",
      "                  'idamp': True, 'damp_ab': 0.002, 'damp_bmin': 5e-6}\n",
      "             )"
     ],
     "language": "python",
     "metadata": {},
     "outputs": []
    },
    {
     "cell_type": "markdown",
     "metadata": {},
     "source": [
      "Set up parallel calculation"
     ]
    },
    {
     "cell_type": "code",
     "collapsed": true,
     "input": [
      "outroot = TYCHO_OUTDIR + 'full-std_err-damping-141007-test'\n",
      "mu_val = 1.0\n",
      "\n",
      "# Apply fit settings using factory function... that returns the output of a factory function (-_-;)\n",
      "f_f_data = lambda args: mdsp.build_dataf('full', conf_intv=0.683,\n",
      "            fit_kws={'eta2': args[1],\n",
      "                     'B0': args[2],\n",
      "                     'eta2_free': args[3],\n",
      "                     'model_kws': {'rminarc': 10,  # Specific to regions-5, region number 1\n",
      "                                   'irmax': 200,\n",
      "                                   'idamp': True, 'damp_ab': args[0], 'damp_bmin': 5e-6}},\n",
      "            err_kws={'method':'stderr'})\n",
      "\n",
      "# For IPython parallelizing:\n",
      "# pass args to f_f_data(args), which returns the factory function f_data w/ different settings\n",
      "# so we can map over f_data with different settings, instead of mapping over different data\n",
      "# Clearly, we need a better way to do this\n",
      "\n",
      "# Set up:\n",
      "# 1. get free best fits for variety of a_b values\n",
      "# 2. get best fits for variety of a_b values, with eta2 fixed\n",
      "\n",
      "# Next for tomorrow (Weds 10/8) is to check, at fixed a_b, how B0/eta2 space of FWHMs/chisqr looks\n",
      "# (along with checking more bugs and things... run all by Brian or Rob tomorrow, too)\n",
      "\n",
      "# Order of args: a_b, eta2, B0, eta2_free\n",
      "# Long hand-entered list of values (sigh)\n",
      "mapping_args = [(0.5,   3.7,  208e-6, True),  # Fits with both eta2/B0 free\n",
      "                (0.05,  3.0,  195e-6, True),\n",
      "                (0.04,  3.0,  210e-6, True),\n",
      "                (0.03,  2.0,  200e-6, True),\n",
      "                (0.02,  2.0,  200e-6, True),\n",
      "                (0.01,  1.0,  100e-6, True),\n",
      "                (0.009, 1.0,  100e-6, True),\n",
      "                (0.008, 1.0,  100e-6, True),\n",
      "                (0.007, 0.5,  100e-6, True),\n",
      "                (0.006, 0.5,   30e-6, True),\n",
      "                (0.005, 0.03,  34e-6, True),\n",
      "                (0.004, 0.03,  34e-6, True),\n",
      "                (0.5,    1.0, 210e-6, False),  # eta2 = 1 fixed\n",
      "                (0.05,   1.0, 210e-6, False),\n",
      "                (0.04,   1.0, 210e-6, False),\n",
      "                (0.03,   1.0, 210e-6, False),\n",
      "                (0.02,   1.0, 210e-6, False),\n",
      "                (0.01,   1.0, 100e-6, False),\n",
      "                (0.009,  1.0, 100e-6, False),\n",
      "                (0.008,  1.0, 100e-6, False),\n",
      "                (0.007,  1.0, 100e-6, False),\n",
      "                (0.006,  1.0, 100e-6, False),\n",
      "                (0.005,  1.0,  23e-6, False),\n",
      "                (0.004,  1.0,  23e-6, False),\n",
      "                (0.5,    0.1, 200e-6, False),  # eta2 = 0.1 fixed\n",
      "                (0.05,   0.1, 200e-6, False),\n",
      "                (0.04,   0.1, 200e-6, False),\n",
      "                (0.03,   0.1, 200e-6, False),\n",
      "                (0.02,   0.1, 200e-6, False),\n",
      "                (0.01,   0.1, 100e-6, False),\n",
      "                (0.009,  0.1,  50e-6, False),\n",
      "                (0.008,  0.1,  50e-6, False),\n",
      "                (0.007,  0.1,  50e-6, False),\n",
      "                (0.006,  0.1,  50e-6, False),\n",
      "                (0.005,  0.1,  27e-6, False),\n",
      "                (0.004,  0.1,  23e-6, False),\n",
      "                (0.5,    10., 220e-6, False),  # eta2 = 10 fixed\n",
      "                (0.05,   10., 220e-6, False),\n",
      "                (0.04,   10., 220e-6, False),\n",
      "                (0.03,   10., 200e-6, False),\n",
      "                (0.02,   10., 100e-6, False),\n",
      "                (0.01,   10., 100e-6, False),\n",
      "                (0.009,  10., 100e-6, False),\n",
      "                (0.008,  10., 100e-6, False),\n",
      "                (0.007,  10.,  40e-6, False),\n",
      "                (0.006,  10.,  40e-6, False),\n",
      "                (0.005,  10.,  27e-6, False),\n",
      "                (0.004,  10.,  23e-6, False)]\n",
      "\n",
      "dview.push(dict(fobj=fobj, f_f_data=f_f_data, mu_val=mu_val, outroot=None))\n",
      "plists = dview.map_async(lambda args: mdsp.generate_fits(f_f_data(args), fobj, 1, [mu_val], outroot,\n",
      "                                                         save=False),\n",
      "                         mapping_args)"
     ],
     "language": "python",
     "metadata": {},
     "outputs": []
    },
    {
     "cell_type": "code",
     "collapsed": true,
     "input": [
      "print plists.status\n",
      "print plists.elapsed\n",
      "_ = [_cmpl - _strt for _cmpl, _strt in zip(plists.completed, plists.started)]\n",
      "for _a in _:\n",
      "    print _a"
     ],
     "language": "python",
     "metadata": {},
     "outputs": []
    },
    {
     "cell_type": "code",
     "collapsed": true,
     "input": [
      "for _s in plists.stdout:\n",
      "    print _s"
     ],
     "language": "python",
     "metadata": {},
     "outputs": []
    },
    {
     "cell_type": "code",
     "collapsed": true,
     "input": [
      "plists.display_outputs()"
     ],
     "language": "python",
     "metadata": {},
     "outputs": []
    },
    {
     "cell_type": "code",
     "collapsed": true,
     "input": [
      "for p_list, fobj in plists:\n",
      "    print ''\n",
      "    ipytable, ltable = mdsp.generate_tabs(p_list, 'Region 1', [mu_val])\n",
      "    display(ipytable)"
     ],
     "language": "python",
     "metadata": {},
     "outputs": []
    },
    {
     "cell_type": "heading",
     "level": 1,
     "metadata": {},
     "source": [
      "2. Simple model fits to Tycho, applied to all regions (no FWHM averaging)"
     ]
    },
    {
     "cell_type": "markdown",
     "metadata": {},
     "source": [
      "Need to account for shock velocity and try seeing what happens if we average.\n",
      "\n",
      "Also, does changing the different FWHM measurement approaches make a difference?  Here we might be able to quantify that.  Tons of questions and numbers and plots to produce and parse here."
     ]
    },
    {
     "cell_type": "code",
     "collapsed": true,
     "input": [
      "mu_vals = [0., 1./3, 0.5, 1, 1.5, 2.]\n",
      "fmt_vals = [':b', ':g', ':r', '-k', '-r', '-g']\n",
      "outroot = TYCHO_OUTDIR + 'simp-man_err-d4kpc'\n",
      "\n",
      "# Apply fit settings using factory function\n",
      "f_data = mdsp.build_dataf('simp', conf_intv=0.683,\n",
      "                          fit_kws={},\n",
      "                          err_kws={'method':'manual'})\n",
      "# Customize fitter settings\n",
      "def fitter_mod(fobj):\n",
      "    fobj.snr.dkpc = 4.0\n",
      "    fobj.snr.vs = fobj.snr.vs * 4.0/3.0\n",
      "    return fobj\n",
      "\n",
      "dview.push(dict(f_data=f_data, mu_vals=mu_vals, outroot=outroot))\n",
      "plists = dview.map_async(lambda args: mdsp.generate_fits(f_data, args[0], args[1], mu_vals, outroot,\n",
      "                                                         save=True), gen_tycho(fitter_mod))"
     ],
     "language": "python",
     "metadata": {},
     "outputs": []
    },
    {
     "cell_type": "code",
     "collapsed": true,
     "input": [
      "#for _s in plists.stdout:\n",
      "#    print _s\n",
      "plists.display_outputs()"
     ],
     "language": "python",
     "metadata": {},
     "outputs": []
    },
    {
     "cell_type": "code",
     "collapsed": false,
     "input": [
      "for p_list, fobj in plists:\n",
      "    print fobj.title\n",
      "    ipytable, ltable = mdsp.generate_tabs(p_list, fobj.title, mu_vals)\n",
      "    display(ipytable)\n",
      "    mdsp.generate_plots(p_list, fobj, mu_vals, fmt_vals, ax=None)\n",
      "    plt.show()\n",
      "    print ltable, '\\n'"
     ],
     "language": "python",
     "metadata": {},
     "outputs": []
    },
    {
     "cell_type": "heading",
     "level": 2,
     "metadata": {},
     "source": [
      "2.2 Plot chisqr space"
     ]
    },
    {
     "cell_type": "code",
     "collapsed": false,
     "input": [
      "mu_vals = [0, 1./3, 0.5, 1, 1.5, 2]  # Plotting more mu values shows tendency for best fits to run off to mu=50...\n",
      "fmt_vals = [':r.', ':g.', ':b.', '-k.', '--c.', '--y.']\n",
      "eta2_vals = np.logspace(-3, 3, num=100, base=10)  # One extra decade in each direction, vs. gridded eta2...\n",
      "\n",
      "for fobj in gen_tycho():\n",
      "    plt.figure(figsize(5,3.7))\n",
      "    plt.title(fobj.title)\n",
      "    fobj.check_eta2_simp(eta2_vals, mu_vals, fmt_vals)\n",
      "    plt.show()"
     ],
     "language": "python",
     "metadata": {},
     "outputs": []
    },
    {
     "cell_type": "heading",
     "level": 1,
     "metadata": {},
     "source": [
      "3. Full model fits to Tycho data"
     ]
    },
    {
     "cell_type": "markdown",
     "metadata": {},
     "source": [
      "Code for sections 3.1, 3.2 is out of date"
     ]
    },
    {
     "cell_type": "heading",
     "level": 2,
     "metadata": {},
     "source": [
      "3.1 Plot $(B_0, \\chi^2)$ space to check that grid resolves best $B_0$ (for various $\\mu$, $\\eta_2$)"
     ]
    },
    {
     "cell_type": "markdown",
     "metadata": {},
     "source": [
      "Subplots correspond to indiv. regions; this only plots the first 5 regions."
     ]
    },
    {
     "cell_type": "code",
     "collapsed": true,
     "input": [
      "mu_vals = [0, 1./3, 0.5, 1, 1.5, 2]\n",
      "fmt_vals = [':r.', ':g.', ':b.', '-k.', '--c.', '--y.']\n",
      "eta2_vals = np.sort(TABS[VS_VALS[0]][0].keys())  # Assumes same eta2 values for all mu\n",
      "\n",
      "for eta2 in eta2_vals[::10]:\n",
      "    header = 'Eta2 = {:0.2f}'.format(eta2)\n",
      "    print header\n",
      "    print '-'*len(header)\n",
      "    plt.figure(figsize=(20,8))\n",
      "    for fobj, i in zip(gen_tycho(), xrange(5)):\n",
      "        # Log scaling\n",
      "        plt.subplot(2,5,i+1)\n",
      "        plt.title(fobj.title)\n",
      "        plt.yscale('log')\n",
      "        fobj.check_B0_grid(eta2, mu_vals, fmt_vals)\n",
      "        # Linear scaling\n",
      "        plt.subplot(2,5,i+6)\n",
      "        fobj.check_B0_grid(eta2, mu_vals, fmt_vals)\n",
      "    plt.tight_layout()\n",
      "    plt.show()\n",
      "    print ''"
     ],
     "language": "python",
     "metadata": {},
     "outputs": []
    },
    {
     "cell_type": "heading",
     "level": 2,
     "metadata": {},
     "source": [
      "3.2 Plot $(\\eta_2, \\chi^2)$ space"
     ]
    },
    {
     "cell_type": "code",
     "collapsed": false,
     "input": [
      "mu_vals = [0, 1./3, 0.5, 1, 1.5, 2]\n",
      "fmt_vals = [':r.', ':g.', ':b.', '-k.', '--c.', '--y.']\n",
      "\n",
      "for fobj, i in zip(gen_tycho(), xrange(13)):\n",
      "    plt.figure(figsize=(8,5))\n",
      "    plt.title(fobj.title)\n",
      "    fobj.check_eta2_grid(mu_vals, fmt_vals)\n",
      "    plt.show()"
     ],
     "language": "python",
     "metadata": {},
     "outputs": []
    },
    {
     "cell_type": "heading",
     "level": 2,
     "metadata": {},
     "source": [
      "3.3 Generate Table 8 with best fits + errors + plots etc..."
     ]
    },
    {
     "cell_type": "markdown",
     "metadata": {},
     "source": [
      "Double check the available kwargs to `build_dataf`"
     ]
    },
    {
     "cell_type": "code",
     "collapsed": false,
     "input": [
      "mdsp.build_dataf?"
     ],
     "language": "python",
     "metadata": {},
     "outputs": []
    },
    {
     "cell_type": "markdown",
     "metadata": {},
     "source": [
      "Determine fit properties, output root, etc."
     ]
    },
    {
     "cell_type": "code",
     "collapsed": false,
     "input": [
      "mu_vals = [0., 1./3, 0.5, 1, 1.5, 2.]\n",
      "fmt_vals = [':b', ':g', ':r', '-k', '-r', '-g']\n",
      "outroot = TYCHO_OUTDIR + 'full-std_err-d4kpc'\n",
      "\n",
      "# Apply fit settings using factory function\n",
      "f_data = mdsp.build_dataf('full', conf_intv=0.683,\n",
      "                          fit_kws={'model_kws':{'rminarc': None,\n",
      "                                                'irmax': 200},\n",
      "                                   'epsfcn': 1e-5,\n",
      "                                   'factor': 10},\n",
      "                          err_kws={'method':'stderr'})\n",
      "# Customize fitter settings\n",
      "def fitter_mod(fobj):\n",
      "    fobj.snr.dkpc = 4.0\n",
      "    fobj.snr.vs = fobj.snr.vs * 4.0/3.0\n",
      "    return fobj\n",
      "\n",
      "dview.push(dict(f_data=f_data, mu_vals=mu_vals, outroot=outroot))\n",
      "plists = dview.map_async(lambda args: mdsp.generate_fits(f_data, args[0], args[1], mu_vals, outroot,\n",
      "                                                         save=True), gen_tycho(fitter_mod))"
     ],
     "language": "python",
     "metadata": {},
     "outputs": []
    },
    {
     "cell_type": "markdown",
     "metadata": {},
     "source": [
      "Print stdout while waiting"
     ]
    },
    {
     "cell_type": "code",
     "collapsed": false,
     "input": [
      "for _s in plists.stdout:\n",
      "    print _s\n",
      "    print '\\n','-'*72,'\\n'"
     ],
     "language": "python",
     "metadata": {},
     "outputs": []
    },
    {
     "cell_type": "markdown",
     "metadata": {},
     "source": [
      "Useful debugging attributes: http://ipython.org/ipython-doc/dev/parallel/parallel_details.html"
     ]
    },
    {
     "cell_type": "code",
     "collapsed": true,
     "input": [
      "print plists.status\n",
      "print plists.elapsed\n",
      "_ = [_cmpl - _strt for _cmpl, _strt in zip(plists.completed, plists.started)]\n",
      "for _a in _:\n",
      "    print _a"
     ],
     "language": "python",
     "metadata": {},
     "outputs": []
    },
    {
     "cell_type": "code",
     "collapsed": true,
     "input": [
      "plists.display_outputs()"
     ],
     "language": "python",
     "metadata": {},
     "outputs": []
    },
    {
     "cell_type": "markdown",
     "metadata": {},
     "source": [
      "Print results when done"
     ]
    },
    {
     "cell_type": "code",
     "collapsed": true,
     "input": [
      "idx = 1\n",
      "for p_list, fobj in plists:\n",
      "    print fobj.title\n",
      "    ipytable, ltable = mdsp.generate_tabs(p_list, fobj.title, mu_vals)\n",
      "    display(ipytable)\n",
      "    mdsp.generate_plots(p_list, fobj, mu_vals, fmt_vals, ax=None)\n",
      "    plt.savefig('reg_{:02d}.pdf'.format(idx))\n",
      "    idx += 1\n",
      "    plt.show()\n",
      "    print ltable, '\\n'"
     ],
     "language": "python",
     "metadata": {},
     "outputs": []
    }
   ],
   "metadata": {}
  }
 ]
}