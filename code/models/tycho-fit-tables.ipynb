{
 "metadata": {
  "name": "",
  "signature": "sha256:868a2356f5d8fad2c8cbe2723d6436d7481dc6ffb8886375dabaa3941a2c31e6"
 },
 "nbformat": 3,
 "nbformat_minor": 0,
 "worksheets": [
  {
   "cells": [
    {
     "cell_type": "heading",
     "level": 1,
     "metadata": {},
     "source": [
      "Tycho fitting notebook"
     ]
    },
    {
     "cell_type": "code",
     "collapsed": true,
     "input": [
      "%pylab --no-import-all\n",
      "%matplotlib inline\n",
      "# ('gtk', 'inline', 'osx', 'qt', 'qt4', 'tk', 'wx')\n",
      "%load_ext autoreload\n",
      "%autoreload 2\n",
      "from fplot import fplot, show_mplrc_settings\n",
      "from IPython.core.display import display, Image, HTML, Math, Latex\n",
      "\n",
      "from IPython import parallel\n",
      "\n",
      "from __future__ import division\n",
      "\n",
      "import cPickle as pickle\n",
      "from glob import glob\n",
      "\n",
      "import fullmodel_recompile\n",
      "fullmodel_recompile.main()\n",
      "\n",
      "import models as models\n",
      "import models_exec as mex\n",
      "import models_disp as mdsp\n",
      "import parutils\n",
      "import regdict_utils as rdu\n",
      "import snr_catalog as snrcat\n",
      "\n",
      "# For reference\n",
      "show_mplrc_settings()"
     ],
     "language": "python",
     "metadata": {},
     "outputs": []
    },
    {
     "cell_type": "heading",
     "level": 1,
     "metadata": {},
     "source": [
      "1. Read in data (fwhms, full model grids), interpolate shock velocites"
     ]
    },
    {
     "cell_type": "markdown",
     "metadata": {},
     "source": [
      "Functions to interpolate shock velocity, specific to Tycho's SNR"
     ]
    },
    {
     "cell_type": "code",
     "collapsed": true,
     "input": [
      "def init_tab_vs(fexpr, vsvals):\n",
      "    \"\"\"vsvals must be sorted and match filenames\"\"\"\n",
      "    TABS = {}\n",
      "    for fname, vs in zip(sorted(glob(fexpr)), vsvals):\n",
      "        with open(fname, 'r') as fpkl:\n",
      "            TABS[vs] = pickle.load(fpkl)\n",
      "    return TABS\n",
      "\n",
      "def interp_vs(f_briantab, f_az, dkpc=3.):\n",
      "    \"\"\"Interpolated shock velocities, assuming distance dkpc to SNR\n",
      "    Intended for Tycho's SNR, variable shock velocities\n",
      "    \"\"\"\n",
      "    briantab = np.loadtxt(f_briantab)\n",
      "    az_angles = np.loadtxt(f_az)\n",
      "\n",
      "    aztab = briantab[:,0]\n",
      "    vstab = briantab[:,1] * 1e5  # Convert km/s to cm/s\n",
      "\n",
      "    TYCHO_VS = {}\n",
      "\n",
      "    # Pad table on each end to avoid edge cases\n",
      "    aztab = np.insert(aztab, [0, len(aztab)], [aztab[-1]-360., aztab[0]+360.])\n",
      "    vstab = np.insert(vstab, [0, len(vstab)], [vstab[-1], vstab[0]])\n",
      "\n",
      "    # Interpolate linearly in Brian's table\n",
      "    for n, az in zip(xrange(len(az_angles)), az_angles):\n",
      "\n",
      "        az = az % 360\n",
      "        ind = np.searchsorted(aztab, az)\n",
      "        slope = (vstab[ind] - vstab[ind-1]) / (aztab[ind] - aztab[ind-1])\n",
      "        vs_interp = vstab[ind-1] + slope * (az - aztab[ind-1])\n",
      "\n",
      "        TYCHO_VS[n+1] = vs_interp * dkpc/2.3, az\n",
      "    \n",
      "    return TYCHO_VS"
     ],
     "language": "python",
     "metadata": {},
     "outputs": []
    },
    {
     "cell_type": "heading",
     "level": 2,
     "metadata": {},
     "source": [
      "1.1 Store data, create Fitter() generators"
     ]
    },
    {
     "cell_type": "markdown",
     "metadata": {},
     "source": [
      "Currently configured for regions-4 with background subtraction and manual cap on FWHM"
     ]
    },
    {
     "cell_type": "code",
     "collapsed": true,
     "input": [
      "TYCHO_KEVS = np.array([0.7, 1., 2., 3., 4.5])\n",
      "TYCHO_LABELS = ['0.7-1kev', '1-1.7kev', '2-3kev', '3-4.5kev', '4.5-7kev']\n",
      "\n",
      "#TYCHO_FLMTS = {1:[1,10,11,12,13],\n",
      "#               2:[2,3], 3:[4,5],\n",
      "#               4:[6,7], 5:[8,9]}\n",
      "\n",
      "TYCHO_DATA = mdsp.init_data('../../data-tycho/regions-5/fwhms-subbkg/fwhms', TYCHO_KEVS, TYCHO_LABELS)\n",
      "#TYCHO_DATA_AVG = mdsp.init_data_avg(TYCHO_DATA, TYCHO_FLMTS, avg='a')\n",
      "\n",
      "TYCHO_VS_VALS = [4.59e8, 4.76e8, 4.94e8, 5.11e8]  # 2014 August 30 tables\n",
      "TYCHO_TABS = init_tab_vs('tables/Tycho_gen_2014-08-30_*.pkl', TYCHO_VS_VALS)\n",
      "TYCHO_VS = interp_vs('../../data-tycho/velocs/tycho_velocs.txt',\n",
      "                     '../../data-tycho/regions-5/regions-5-az.txt',\n",
      "                     dkpc=3.)\n",
      "\n",
      "TYCHO_OUTDIR = '../../data-tycho/regions-5/fwhms-subbkg/model-fits/'"
     ],
     "language": "python",
     "metadata": {},
     "outputs": []
    },
    {
     "cell_type": "code",
     "collapsed": true,
     "input": [
      "# General form: accept fmod as an argument to allow user intervention if needed\n",
      "# yield Fitter(), region/filament number\n",
      "\n",
      "def gen_tycho(fmod=None, verbose=True):\n",
      "    for n in TYCHO_DATA:\n",
      "        kevs, data, eps, inds = TYCHO_DATA[n]\n",
      "        \n",
      "        vs, az = TYCHO_VS[n]\n",
      "        # Get tab w/ closest shock veloc. to vs\n",
      "        idx = (np.abs(TYCHO_VS_VALS - vs)).argmin()\n",
      "        vs_key = TYCHO_VS_VALS[idx]\n",
      "        tab = TYCHO_TABS[vs_key]\n",
      "        \n",
      "        # Build fitter object\n",
      "        fobj = mex.Fitter(snrcat.make_tycho(), kevs, data, eps, tab,\n",
      "                          inds=inds, verbose=verbose)\n",
      "        fobj.snr.vs = vs\n",
      "        fobj.title = ('Region {} (using tab(vs={:0.2e});\\n'\n",
      "                      'vs={:0.2e} cm/s, az={:0.1f} deg.)').format(n, vs_key, vs, az)\n",
      "        \n",
      "        if fmod:\n",
      "            fobj = fmod(fobj)\n",
      "        yield fobj, n\n",
      "\n",
      "def gen_tycho_flmt(fmod=None, verbose=True):\n",
      "    for n in TYCHO_DATA_AVG:\n",
      "        kevs, data, eps, inds, n_pts = TYCHO_DATA_AVG[n]\n",
      "        \n",
      "        vs = np.mean([TYCHO_VS[m][0] for m in TYCHO_FLMTS[n]])  # Lazy: average region shock velocs\n",
      "        # Get tab w/ closest shock veloc. to vs\n",
      "        idx = (np.abs(TYCHO_VS_VALS - vs)).argmin()\n",
      "        vs_key = TYCHO_VS_VALS[idx]\n",
      "        tab = TYCHO_TABS[vs_key]\n",
      "        \n",
      "        # Build fitter object\n",
      "        fobj = mex.Fitter(snrcat.make_tycho(), kevs, data, eps, tab,\n",
      "                          inds=inds, verbose=verbose)\n",
      "        fobj.snr.vs = vs\n",
      "        fobj.title = ('Filament {}, mean vs={:0.2e} cm/s').format(n, vs)\n",
      "        \n",
      "        if fmod:\n",
      "            fobj = fmod(fobj)\n",
      "        yield fobj, n"
     ],
     "language": "python",
     "metadata": {},
     "outputs": []
    },
    {
     "cell_type": "heading",
     "level": 2,
     "metadata": {},
     "source": [
      "1.2 Set up clients for parallel computation"
     ]
    },
    {
     "cell_type": "markdown",
     "metadata": {},
     "source": [
      "Possibly useful [SE question](http://stackoverflow.com/q/15289168), and [another](http://stackoverflow.com/q/18086299) (both answered by \"Min\" Ragan-Kelley (`minrk`)).  As it would be useful to view stdout as computation progresses..."
     ]
    },
    {
     "cell_type": "code",
     "collapsed": true,
     "input": [
      "dview = parutils.get_dview()\n",
      "%px import models_disp as mdsp\n",
      "%px %load_ext autoreload\n",
      "%px %autoreload 2"
     ],
     "language": "python",
     "metadata": {},
     "outputs": []
    },
    {
     "cell_type": "heading",
     "level": 1,
     "metadata": {},
     "source": [
      "2. Simple model fits to Tycho, applied to all regions (no FWHM averaging)"
     ]
    },
    {
     "cell_type": "markdown",
     "metadata": {},
     "source": [
      "Need to account for shock velocity and try seeing what happens if we average.\n",
      "\n",
      "Also, does changing the different FWHM measurement approaches make a difference?  Here we might be able to quantify that.  Tons of questions and numbers and plots to produce and parse here."
     ]
    },
    {
     "cell_type": "code",
     "collapsed": false,
     "input": [
      "mu_vals = [0., 1./3, 0.5, 1, 1.5, 2.]\n",
      "fmt_vals = [':b', ':g', ':r', '-k', '-r', '-g']\n",
      "outroot = TYCHO_OUTDIR + 'simp-man_err'\n",
      "\n",
      "# Apply fit settings using factory function\n",
      "f_data = mdsp.build_dataf('simp', conf_intv=0.683,\n",
      "                          fit_kws={},\n",
      "                          err_kws={'method':'manual'})\n",
      "# Customize fitter settings\n",
      "def fitter_mod(fobj):\n",
      "    #fobj.snr.vs=4e8\n",
      "    return fobj\n",
      "\n",
      "dview.push(dict(f_data=f_data, mu_vals=mu_vals, outroot=outroot))\n",
      "plists = dview.map_async(lambda args: mdsp.generate_fits(f_data, args[0], args[1], mu_vals, outroot,\n",
      "                                                         save=True), gen_tycho(fitter_mod))"
     ],
     "language": "python",
     "metadata": {},
     "outputs": []
    },
    {
     "cell_type": "code",
     "collapsed": false,
     "input": [
      "#for _s in plists.stdout:\n",
      "#    print _s\n",
      "plists.display_outputs()"
     ],
     "language": "python",
     "metadata": {},
     "outputs": []
    },
    {
     "cell_type": "code",
     "collapsed": true,
     "input": [
      "for p_list, fobj in plists:\n",
      "    print fobj.title\n",
      "    ipytable, ltable = mdsp.generate_tabs(p_list, fobj.title, mu_vals)\n",
      "    display(ipytable)\n",
      "    mdsp.generate_plots(p_list, fobj, mu_vals, fmt_vals, ax=None)\n",
      "    plt.show()\n",
      "    print ltable, '\\n'"
     ],
     "language": "python",
     "metadata": {},
     "outputs": []
    },
    {
     "cell_type": "heading",
     "level": 2,
     "metadata": {},
     "source": [
      "2.2 Plot chisqr space"
     ]
    },
    {
     "cell_type": "code",
     "collapsed": true,
     "input": [
      "mu_vals = [0, 1./3, 0.5, 1, 1.5, 2]  # Plotting more mu values shows tendency for best fits to run off to mu=50...\n",
      "fmt_vals = [':r.', ':g.', ':b.', '-k.', '--c.', '--y.']\n",
      "eta2_vals = np.logspace(-3, 3, num=100, base=10)  # One extra decade in each direction, vs. gridded eta2...\n",
      "\n",
      "for fobj in gen_tycho():\n",
      "    plt.figure(figsize(5,3.7))\n",
      "    plt.title(fobj.title)\n",
      "    fobj.check_eta2_simp(eta2_vals, mu_vals, fmt_vals)\n",
      "    plt.show()"
     ],
     "language": "python",
     "metadata": {},
     "outputs": []
    },
    {
     "cell_type": "heading",
     "level": 1,
     "metadata": {},
     "source": [
      "3. Full model fits to Tycho data"
     ]
    },
    {
     "cell_type": "markdown",
     "metadata": {},
     "source": [
      "Code for sections 3.1, 3.2 is out of date"
     ]
    },
    {
     "cell_type": "heading",
     "level": 2,
     "metadata": {},
     "source": [
      "3.1 Plot $(B_0, \\chi^2)$ space to check that grid resolves best $B_0$ (for various $\\mu$, $\\eta_2$)"
     ]
    },
    {
     "cell_type": "markdown",
     "metadata": {},
     "source": [
      "Subplots correspond to indiv. regions; this only plots the first 5 regions."
     ]
    },
    {
     "cell_type": "code",
     "collapsed": false,
     "input": [
      "mu_vals = [0, 1./3, 0.5, 1, 1.5, 2]\n",
      "fmt_vals = [':r.', ':g.', ':b.', '-k.', '--c.', '--y.']\n",
      "eta2_vals = np.sort(TABS[VS_VALS[0]][0].keys())  # Assumes same eta2 values for all mu\n",
      "\n",
      "for eta2 in eta2_vals[::10]:\n",
      "    header = 'Eta2 = {:0.2f}'.format(eta2)\n",
      "    print header\n",
      "    print '-'*len(header)\n",
      "    plt.figure(figsize=(20,8))\n",
      "    for fobj, i in zip(gen_tycho(), xrange(5)):\n",
      "        # Log scaling\n",
      "        plt.subplot(2,5,i+1)\n",
      "        plt.title(fobj.title)\n",
      "        plt.yscale('log')\n",
      "        fobj.check_B0_grid(eta2, mu_vals, fmt_vals)\n",
      "        # Linear scaling\n",
      "        plt.subplot(2,5,i+6)\n",
      "        fobj.check_B0_grid(eta2, mu_vals, fmt_vals)\n",
      "    plt.tight_layout()\n",
      "    plt.show()\n",
      "    print ''"
     ],
     "language": "python",
     "metadata": {},
     "outputs": []
    },
    {
     "cell_type": "heading",
     "level": 2,
     "metadata": {},
     "source": [
      "3.2 Plot $(\\eta_2, \\chi^2)$ space"
     ]
    },
    {
     "cell_type": "code",
     "collapsed": true,
     "input": [
      "mu_vals = [0, 1./3, 0.5, 1, 1.5, 2]\n",
      "fmt_vals = [':r.', ':g.', ':b.', '-k.', '--c.', '--y.']\n",
      "\n",
      "for fobj, i in zip(gen_tycho(), xrange(13)):\n",
      "    plt.figure(figsize=(8,5))\n",
      "    plt.title(fobj.title)\n",
      "    fobj.check_eta2_grid(mu_vals, fmt_vals)\n",
      "    plt.show()"
     ],
     "language": "python",
     "metadata": {},
     "outputs": []
    },
    {
     "cell_type": "heading",
     "level": 2,
     "metadata": {},
     "source": [
      "3.3 Generate Table 8 with best fits + errors + plots etc..."
     ]
    },
    {
     "cell_type": "markdown",
     "metadata": {},
     "source": [
      "Double check the available kwargs to `build_dataf`"
     ]
    },
    {
     "cell_type": "code",
     "collapsed": true,
     "input": [
      "mdsp.build_dataf?"
     ],
     "language": "python",
     "metadata": {},
     "outputs": []
    },
    {
     "cell_type": "markdown",
     "metadata": {},
     "source": [
      "Determine fit properties, output root, etc."
     ]
    },
    {
     "cell_type": "code",
     "collapsed": true,
     "input": [
      "mu_vals = [0., 1./3, 0.5, 1, 1.5, 2.]\n",
      "fmt_vals = [':b', ':g', ':r', '-k', '-r', '-g']\n",
      "outroot = TYCHO_OUTDIR + 'full-std_err'\n",
      "\n",
      "# Apply fit settings using factory function\n",
      "f_data = mdsp.build_dataf('full', conf_intv=0.683,\n",
      "                          fit_kws={'model_kws':{'rminarc': None,\n",
      "                                                'irmax': 200},\n",
      "                                   'epsfcn': 1e-5,\n",
      "                                   'factor': 10},\n",
      "                          err_kws={'method':'stderr'})\n",
      "# Customize fitter settings\n",
      "def fitter_mod(fobj):\n",
      "    #fobj.snr.vs=4e8\n",
      "    return fobj\n",
      "\n",
      "dview.push(dict(f_data=f_data, mu_vals=mu_vals, outroot=outroot))\n",
      "plists = dview.map_async(lambda args: mdsp.generate_fits(f_data, args[0], args[1], mu_vals, outroot,\n",
      "                                                         save=True), gen_tycho(fitter_mod))"
     ],
     "language": "python",
     "metadata": {},
     "outputs": []
    },
    {
     "cell_type": "markdown",
     "metadata": {},
     "source": [
      "Print stdout while waiting"
     ]
    },
    {
     "cell_type": "code",
     "collapsed": true,
     "input": [
      "for _s in plists.stdout:\n",
      "    print _s\n",
      "    print '\\n','-'*72,'\\n'"
     ],
     "language": "python",
     "metadata": {},
     "outputs": []
    },
    {
     "cell_type": "markdown",
     "metadata": {},
     "source": [
      "Useful debugging attributes: http://ipython.org/ipython-doc/dev/parallel/parallel_details.html"
     ]
    },
    {
     "cell_type": "code",
     "collapsed": false,
     "input": [
      "print plists.status\n",
      "print plists.elapsed\n",
      "_ = [_cmpl - _strt for _cmpl, _strt in zip(plists.completed, plists.started)]\n",
      "for _a in _:\n",
      "    print _a"
     ],
     "language": "python",
     "metadata": {},
     "outputs": []
    },
    {
     "cell_type": "code",
     "collapsed": false,
     "input": [
      "plists.display_outputs()"
     ],
     "language": "python",
     "metadata": {},
     "outputs": []
    },
    {
     "cell_type": "markdown",
     "metadata": {},
     "source": [
      "Print results when done"
     ]
    },
    {
     "cell_type": "code",
     "collapsed": false,
     "input": [
      "idx = 1\n",
      "for p_list, fobj in plists:\n",
      "    print fobj.title\n",
      "    ipytable, ltable = mdsp.generate_tabs(p_list, fobj.title, mu_vals)\n",
      "    display(ipytable)\n",
      "    mdsp.generate_plots(p_list, fobj, mu_vals, fmt_vals, ax=None)\n",
      "    plt.savefig('reg_{:02d}.pdf'.format(idx))\n",
      "    idx += 1\n",
      "    plt.show()\n",
      "    print ltable, '\\n'"
     ],
     "language": "python",
     "metadata": {},
     "outputs": []
    }
   ],
   "metadata": {}
  }
 ]
}