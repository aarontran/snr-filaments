{
 "metadata": {
  "name": "",
  "signature": "sha256:5ecb193e4feae9b226250e701a0e1fb486c1dad6ea95270e5a41deb35c412920"
 },
 "nbformat": 3,
 "nbformat_minor": 0,
 "worksheets": [
  {
   "cells": [
    {
     "cell_type": "heading",
     "level": 1,
     "metadata": {},
     "source": [
      "Check full model code resolution errors, all SNRs"
     ]
    },
    {
     "cell_type": "markdown",
     "metadata": {},
     "source": [
      "Our numerical full model code carries a resolution error, which approaches zero as our resolution is increased (i.e., our discrete code converges towards an exact solution [granted, considering each discretization/mesh separately]).  But, without an analytic solution, we can't compute the error directly (if we had the analytic solution we'd just use that, anyways).\n",
      "\n",
      "We estimate resolution error un-rigorously by computing fractional error, increasing resolution until fractional error is smaller than our tolerance, and praying that the absolute error (sum of fractional errors) will be small enough at the end.\n",
      "\n",
      "It is worth thinking about this more deeply, but it's unfortunately a low priority right now. and our model is a bit of a black box.  I imagine we could look at the integrals and compute error bounds on each one analytically, then propagate the errors through somehow.  Might be good as an exercise.\n",
      "\n",
      "Caveat: we are only looking at fractional error in FWHMs, we have not considered fractional error in best-fit parameters ($B_0$, $\\eta_2$)."
     ]
    },
    {
     "cell_type": "heading",
     "level": 1,
     "metadata": {},
     "source": [
      "1. Imports, set-up fitters for computation"
     ]
    },
    {
     "cell_type": "code",
     "collapsed": true,
     "input": [
      "from __future__ import division\n",
      "\n",
      "from IPython import parallel\n",
      "\n",
      "import cPickle as pickle\n",
      "import numpy as np\n",
      "\n",
      "import models\n",
      "import models_exec as mex\n",
      "from models_exec import Fitter\n",
      "import parutils\n",
      "import snr_catalog as snrcat"
     ],
     "language": "python",
     "metadata": {},
     "outputs": [],
     "prompt_number": 1
    },
    {
     "cell_type": "markdown",
     "metadata": {},
     "source": [
      "Parallelize to speed up computation (remember to start the cluster first)"
     ]
    },
    {
     "cell_type": "code",
     "collapsed": true,
     "input": [
      "lview = parutils.get_lview()"
     ],
     "language": "python",
     "metadata": {},
     "outputs": [],
     "prompt_number": 2
    },
    {
     "cell_type": "markdown",
     "metadata": {},
     "source": [
      "Utilities to create `Fitter()` objects and manipulate SNR settings being investigated"
     ]
    },
    {
     "cell_type": "code",
     "collapsed": true,
     "input": [
      "def init_fitter(snr, kevs):\n",
      "    \"\"\"Generate fitter for some SNR.  Data, eps, tab don't matter\"\"\"\n",
      "    data, eps = np.ones(len(kevs)), np.ones(len(kevs))\n",
      "    tab = {}\n",
      "    return Fitter(snr, kevs, data, eps,\n",
      "                  tab, inds=None, verbose=True)\n",
      "\n",
      "def get_snrvars(fobj):\n",
      "    print 'SNR ({}) settings'.format(fobj.snr.name)\n",
      "    print '\\t','\\n\\t'.join(\"%s: %s\" % item for item in vars(fobj.snr).items())\n",
      "    return vars(fobj.snr).items()\n",
      "\n",
      "def set_snrvars(fobj, vdict):\n",
      "    for par, val in vdict:\n",
      "        vars(fobj.snr)[par] = val\n",
      "    return fobj"
     ],
     "language": "python",
     "metadata": {},
     "outputs": [],
     "prompt_number": 3
    },
    {
     "cell_type": "heading",
     "level": 1,
     "metadata": {},
     "source": [
      "2. Assemble data and parameters to check"
     ]
    },
    {
     "cell_type": "markdown",
     "metadata": {},
     "source": [
      "Bounding parameters are determined by trial and error to give FWHMs outside of FWHM bounds.\n",
      "Simply use a `Fitter()` object's `width_full` method (merely a wrapper for `models.width_full`).\n",
      "\n",
      "Parameters are akin to tables: dicts keyed by mu, then eta2, then a list of min/max B0 values.\n",
      "I input B0 values in $\\mu\\mathrm{G}$ and then rescale, for clarity/convenience."
     ]
    },
    {
     "cell_type": "heading",
     "level": 2,
     "metadata": {},
     "source": [
      "2.1 Utilities for parameter space points $(\\mu$, $\\eta_2$, $B_0)$ being investigated"
     ]
    },
    {
     "cell_type": "code",
     "collapsed": true,
     "input": [
      "def rescale_B0(p):\n",
      "    for mu in p:\n",
      "        for eta2 in p[mu]:\n",
      "            p[mu][eta2] = 1e-6 * np.array(p[mu][eta2])\n",
      "    return p\n",
      "\n",
      "def init_par_bounds(fobj, pars, fwhms_min, fwhms_max):\n",
      "    \"\"\"Check that parameter bounds are valid, return dict of FWHMs\n",
      "    Could be parallelized, but probably not worth the time\n",
      "    (in principle, method only has to be run 1x/SNR... maybe 1-10x in practice)\n",
      "    \"\"\"\n",
      "    print 'Checking for valid parameter bounds'\n",
      "    fwhm_dict = {}\n",
      "    \n",
      "    for mu in pars:\n",
      "        for eta2 in pars[mu]:\n",
      "            B_min, B_max = pars[mu][eta2]\n",
      "            fwhms_hi = fobj.width_full(mu, eta2, B_min)  # Minimum B0, max FWHMs\n",
      "            fwhms_lo = fobj.width_full(mu, eta2, B_max)  # Maximum B0, min FWHMs\n",
      "            if any(fwhms_lo > fwhms_min) or any(fwhms_hi < fwhms_max):\n",
      "                raise ValueError('Bad parameters mu={}, eta2={}, B0 range [{}, {}]'.format(mu, eta2, B_min, B_max))\n",
      "            else:\n",
      "                fwhm_dict[(mu, eta2, B_min)] = fwhms_hi\n",
      "                fwhm_dict[(mu, eta2, B_max)] = fwhms_lo\n",
      "    \n",
      "    print 'All parameters give FWHMs outside measurement range, good to go'\n",
      "    return fwhm_dict"
     ],
     "language": "python",
     "metadata": {},
     "outputs": [],
     "prompt_number": 4
    },
    {
     "cell_type": "heading",
     "level": 2,
     "metadata": {},
     "source": [
      "2.2 (SNR and energy binning)-specific data entry "
     ]
    },
    {
     "cell_type": "heading",
     "level": 3,
     "metadata": {},
     "source": [
      "2.2.1 SN 1006"
     ]
    },
    {
     "cell_type": "markdown",
     "metadata": {},
     "source": [
      "SN 1006 min/max estimates are from Sean's paper"
     ]
    },
    {
     "cell_type": "code",
     "collapsed": true,
     "input": [
      "SN1006_KEVS = np.array([0.7, 1.0, 2.0])\n",
      "SN1006_MIN = np.array([23., 18., 15.])\n",
      "SN1006_MAX = np.array([49., 43., 30.])\n",
      "\n",
      "SN1006_PARS = {0.0: {1e-16: [70, 180], 100: [180, 500], 1000: [230, 650]},\n",
      "               1.0: {1e-16: [70, 180], 100: [140, 380], 1000: [240, 650]},\n",
      "               2.0: {1e-16: [70, 180], 100: [110, 400], 1000: [190, 650]}}\n",
      "SN1006_PARS = rescale_B0(SN1006_PARS)"
     ],
     "language": "python",
     "metadata": {},
     "outputs": [],
     "prompt_number": 5
    },
    {
     "cell_type": "heading",
     "level": 3,
     "metadata": {},
     "source": [
      "2.2.2 Tycho's SNR"
     ]
    },
    {
     "cell_type": "markdown",
     "metadata": {},
     "source": [
      "Tycho min/max estimates are from \"regions-4\" with simple 2-exponential fit\n",
      "\n",
      "N.B. max observed FWHM at 0.7-1 keV was 6.092, but I use 10.0 to be more\n",
      "consistent with observed trend, esp. as some regions don't have a 0.7-1 FWHM."
     ]
    },
    {
     "cell_type": "code",
     "collapsed": true,
     "input": [
      "TYCHO_KEVS = np.array([0.7, 1.0, 2.0, 3.0, 4.5])\n",
      "TYCHO_MIN = np.array([1.628, 1.685, 1.510, 1.465, 1.370])\n",
      "TYCHO_MAX = np.array([10.0, 8.866, 6.901, 7.508, 5.763])\n",
      "\n",
      "TYCHO_PARS = {0.0: {1e-16: [115, 700], 100: [350, 1900], 1000: [380, 2400]},\n",
      "              1.0: {1e-16: [115, 700], 100: [300, 1500], 1000: [500, 2500]},\n",
      "              2.0: {1e-16: [115, 700], 100: [250, 1200], 1000: [400, 2200]}}\n",
      "TYCHO_PARS = rescale_B0(TYCHO_PARS)"
     ],
     "language": "python",
     "metadata": {},
     "outputs": [],
     "prompt_number": 6
    },
    {
     "cell_type": "heading",
     "level": 1,
     "metadata": {},
     "source": [
      "3. Configuration cell - set SNR, energy bands, parameters to use here (!)"
     ]
    },
    {
     "cell_type": "markdown",
     "metadata": {},
     "source": [
      "Change these variables to run analysis with different SNRs, bounds, default grid settings, et cetera"
     ]
    },
    {
     "cell_type": "code",
     "collapsed": true,
     "input": [
      "snr = snrcat.make_SN1006()\n",
      "kevs = SN1006_KEVS\n",
      "fwhms_min = SN1006_MIN\n",
      "fwhms_max = SN1006_MAX\n",
      "pars = SN1006_PARS\n",
      "f = init_fitter(snr, kevs)\n",
      "# Modify fitter settings, e.g. SNR compression ratio etc., here"
     ],
     "language": "python",
     "metadata": {},
     "outputs": [],
     "prompt_number": 7
    },
    {
     "cell_type": "markdown",
     "metadata": {},
     "source": [
      "Save the initial settings and allow subsequent code to reset the `Fitter()`'s `SupernovaRemnant()` object.<br />\n",
      "Then, compute and save FWHMs for the initial settings and verify that they fall within parameter bounds."
     ]
    },
    {
     "cell_type": "code",
     "collapsed": true,
     "input": [
      "init_f = get_snrvars(f)\n",
      "def reset_fitter(fobj):\n",
      "    set_snrvars(fobj, init_f)  # If I'm gonna use globals, may as well take full advantage of them"
     ],
     "language": "python",
     "metadata": {},
     "outputs": [
      {
       "output_type": "stream",
       "stream": "stdout",
       "text": [
        "SNR (SN 1006) settings\n",
        "\tname: SN 1006\n",
        "\tcratio: 4.0\n",
        "\ticut: True\n",
        "\tdkpc: 2.2\n",
        "\trsarc: 900\n",
        "\tpar_lims: {'mu': (0.0, 2.0), 'B0': (1e-06, 0.01), 'eta2': (1e-16, 100000.0)}\n",
        "\ts: 2.2\n",
        "\tvs: 500000000.0\n",
        "\tirmax: 400\n",
        "\tiradmax: 100\n",
        "\tixmax: 500\n",
        "\tpar_init: {'mu': 1.0, 'B0': 0.00015, 'eta2': 1.0}\n",
        "\trminarc: 60\n"
       ]
      }
     ],
     "prompt_number": 8
    },
    {
     "cell_type": "code",
     "collapsed": true,
     "input": [
      "base_fwhms = init_par_bounds(f, pars, fwhms_min, fwhms_max)  # Dict of {(mu,eta2,B0): [fwhms], ...}"
     ],
     "language": "python",
     "metadata": {},
     "outputs": [
      {
       "output_type": "stream",
       "stream": "stdout",
       "text": [
        "Checking for valid parameter bounds\n",
        "\tFull model: B0 = 230.000 muG; eta2 = 1000.000; mu = 0.000; "
       ]
      },
      {
       "output_type": "stream",
       "stream": "stdout",
       "text": [
        "\n",
        "\tinit rminarc = [ 60.  60.  60.]; adapted = [ 69.66  58.6   41.68]\n",
        "\tFull model: B0 = 650.000 muG; eta2 = 1000.000; mu = 0.000; "
       ]
      },
      {
       "output_type": "stream",
       "stream": "stdout",
       "text": [
        "\n",
        "\tinit rminarc = [ 60.  60.  60.]; adapted = [ 14.52  12.21   8.81]\n",
        "\tFull model: B0 = 180.000 muG; eta2 = 100.000; mu = 0.000; "
       ]
      },
      {
       "output_type": "stream",
       "stream": "stdout",
       "text": [
        "\n",
        "\tinit rminarc = [ 60.  60.  60.]; adapted = [ 68.68  60.45  46.84]\n",
        "\tFull model: B0 = 500.000 muG; eta2 = 100.000; mu = 0.000; "
       ]
      },
      {
       "output_type": "stream",
       "stream": "stdout",
       "text": [
        "\n",
        "\tinit rminarc = [ 60.  60.  60.]; adapted = [ 14.7   12.93  10.09]\n",
        "\tFull model: B0 = 70.000 muG; eta2 = 0.000; mu = 0.000; "
       ]
      },
      {
       "output_type": "stream",
       "stream": "stdout",
       "text": [
        "\n",
        "\tinit rminarc = [ 60.  60.  60.]; adapted = [ 67.33  56.57  40.04]\n",
        "\tFull model: B0 = 180.000 muG; eta2 = 0.000; mu = 0.000; "
       ]
      },
      {
       "output_type": "stream",
       "stream": "stdout",
       "text": [
        "\n",
        "\tinit rminarc = [ 60.  60.  60.]; adapted = [ 16.15  13.55   9.73]\n",
        "\tFull model: B0 = 240.000 muG; eta2 = 1000.000; mu = 1.000; "
       ]
      },
      {
       "output_type": "stream",
       "stream": "stdout",
       "text": [
        "\n",
        "\tinit rminarc = [ 60.  60.  60.]; adapted = [ 68.06  64.44  57.89]\n",
        "\tFull model: B0 = 650.000 muG; eta2 = 1000.000; mu = 1.000; "
       ]
      },
      {
       "output_type": "stream",
       "stream": "stdout",
       "text": [
        "\n",
        "\tinit rminarc = [ 60.  60.  60.]; adapted = [ 15.16  14.33  12.86]\n",
        "\tFull model: B0 = 140.000 muG; eta2 = 100.000; mu = 1.000; "
       ]
      },
      {
       "output_type": "stream",
       "stream": "stdout",
       "text": [
        "\n",
        "\tinit rminarc = [ 60.  60.  60.]; adapted = [ 69.35  65.32  58.44]\n",
        "\tFull model: B0 = 380.000 muG; eta2 = 100.000; mu = 1.000; "
       ]
      },
      {
       "output_type": "stream",
       "stream": "stdout",
       "text": [
        "\n",
        "\tinit rminarc = [ 60.  60.  60.]; adapted = [ 15.42  14.5   12.95]\n",
        "\tFull model: B0 = 70.000 muG; eta2 = 0.000; mu = 1.000; "
       ]
      },
      {
       "output_type": "stream",
       "stream": "stdout",
       "text": [
        "\n",
        "\tinit rminarc = [ 60.  60.  60.]; adapted = [ 67.33  56.57  40.04]\n",
        "\tFull model: B0 = 180.000 muG; eta2 = 0.000; mu = 1.000; "
       ]
      },
      {
       "output_type": "stream",
       "stream": "stdout",
       "text": [
        "\n",
        "\tinit rminarc = [ 60.  60.  60.]; adapted = [ 16.15  13.55   9.73]\n",
        "\tFull model: B0 = 190.000 muG; eta2 = 1000.000; mu = 2.000; "
       ]
      },
      {
       "output_type": "stream",
       "stream": "stdout",
       "text": [
        "\n",
        "\tinit rminarc = [ 60.  60.  60.]; adapted = [ 64.31  64.95  66.49]\n",
        "\tFull model: B0 = 650.000 muG; eta2 = 1000.000; mu = 2.000; "
       ]
      },
      {
       "output_type": "stream",
       "stream": "stdout",
       "text": [
        "\n",
        "\tinit rminarc = [ 60.  60.  60.]; adapted = [ 10.11  10.2   10.43]\n",
        "\tFull model: B0 = 110.000 muG; eta2 = 100.000; mu = 2.000; "
       ]
      },
      {
       "output_type": "stream",
       "stream": "stdout",
       "text": [
        "\n",
        "\tinit rminarc = [ 60.  60.  60.]; adapted = [ 68.4   67.47  67.22]\n",
        "\tFull model: B0 = 400.000 muG; eta2 = 100.000; mu = 2.000; "
       ]
      },
      {
       "output_type": "stream",
       "stream": "stdout",
       "text": [
        "\n",
        "\tinit rminarc = [ 60.  60.  60.]; adapted = [ 9.83  9.7   9.67]\n",
        "\tFull model: B0 = 70.000 muG; eta2 = 0.000; mu = 2.000; "
       ]
      },
      {
       "output_type": "stream",
       "stream": "stdout",
       "text": [
        "\n",
        "\tinit rminarc = [ 60.  60.  60.]; adapted = [ 67.33  56.57  40.04]\n",
        "\tFull model: B0 = 180.000 muG; eta2 = 0.000; mu = 2.000; "
       ]
      },
      {
       "output_type": "stream",
       "stream": "stdout",
       "text": [
        "\n",
        "\tinit rminarc = [ 60.  60.  60.]; adapted = [ 16.15  13.55   9.73]\n",
        "All parameters give FWHMs outside measurement range, good to go"
       ]
      },
      {
       "output_type": "stream",
       "stream": "stdout",
       "text": [
        "\n"
       ]
      }
     ],
     "prompt_number": 9
    },
    {
     "cell_type": "heading",
     "level": 1,
     "metadata": {},
     "source": [
      "4. Resolution analysis"
     ]
    },
    {
     "cell_type": "markdown",
     "metadata": {},
     "source": [
      "Functions (loosely speaking) to:\n",
      "1. compute new FWHMs in response to a change in some `Fitter()` parameter\n",
      "2. characterize the resulting fractional change in model output, i.e. our fractional error"
     ]
    },
    {
     "cell_type": "code",
     "collapsed": true,
     "input": [
      "def make_fmod(vname, fappl):\n",
      "    \"\"\"Factory function, to make functions which apply operations to Fitter().snr properties\"\"\"\n",
      "    def f_appl(fobj):\n",
      "        vval = vars(fobj.snr)[vname]\n",
      "        vars(fobj.snr)[vname] = fappl(vval)\n",
      "        print 'Initial {} = {}'.format(vname, vval)\n",
      "        print 'Final {} = {}'.format(vname, vars(fobj.snr)[vname])\n",
      "        return fobj\n",
      "    return f_appl\n",
      "\n",
      "def recalculate(fobj, fmod, base_fwhms):\n",
      "    \"\"\"Compute new FWHMs by applying fmod to fobj.  Reset fobj when done.\"\"\"\n",
      "    fobj = fmod(fobj)\n",
      "    fwhms = lview.map_async(lambda pt: fobj.width_full(*pt), base_fwhms)  # maps over keys\n",
      "    parutils.stdout_when_done(fwhms)\n",
      "    print 'Time elapsed: {}'.format(fwhms.elapsed)\n",
      "    reset_fitter(fobj)\n",
      "    return dict(zip(base_fwhms.keys(), fwhms))\n",
      "\n",
      "def check_frac_change(base_fwhms, mod_fwhms, f=0.001):\n",
      "    \"\"\"Compute maximum fractional change in parameter space;\n",
      "    report points w/ fractional change above some threshold\n",
      "    \"\"\"\n",
      "    fracs_all = []\n",
      "    for pt in base_fwhms:\n",
      "        arr1 = base_fwhms[pt]\n",
      "        arr2 = mod_fwhms[pt]\n",
      "        \n",
      "        frac = np.abs(arr1 - arr2) / np.minimum(arr1, arr2)  # Being conservative\n",
      "        if any(frac > f):\n",
      "            print '\\tFrac change:', ', '.join(['{:0.2g}'.format(x) for x in frac])\n",
      "            print '\\t\\tmu = {:0.2f}, eta2 = {:0.3e}, B0 = {:0.3e}'.format(*pt)\n",
      "        fracs_all.append(frac)\n",
      "    \n",
      "    fracs_all = np.array(fracs_all)\n",
      "    \n",
      "    np.set_printoptions(precision=8)\n",
      "    print 'Maximum frac. change:', np.amax(fracs_all)\n",
      "    print 'Median frac. change in each energy band: ', np.median(fracs_all, axis=0)\n",
      "    print 'Mean frac. change in each energy band: ', np.mean(fracs_all, axis=0)\n",
      "    print 'Maximum frac. change in each energy band: ', np.amax(fracs_all, axis=0)\n",
      "    return fracs_all  # For subsequent analysis, if so desired"
     ],
     "language": "python",
     "metadata": {},
     "outputs": [],
     "prompt_number": 15
    },
    {
     "cell_type": "heading",
     "level": 2,
     "metadata": {},
     "source": [
      "4.1 Procedure (how to use this notebook)"
     ]
    },
    {
     "cell_type": "markdown",
     "metadata": {},
     "source": [
      "* go back up and make sure you set the correct SNR/numbers to analyze\n",
      "* run the \"recalculation\" cells one by one\n",
      "* vary the fractional error threshold in the subsequent cells (if so desired)\n",
      "* record results in the markdown (conclusions) cell; this should be append-only, in principle\n",
      "\n",
      "As you go about running cells nilly-willy, be sure that the output results of each cell\n",
      "were run immediately after the calculation step, since I am recycling the same variable names."
     ]
    },
    {
     "cell_type": "heading",
     "level": 2,
     "metadata": {},
     "source": [
      "4.2 `iradmax` -- resolution for tabulated e- distribution $f(E,r)$"
     ]
    },
    {
     "cell_type": "markdown",
     "metadata": {},
     "source": [
      "This is probably the most important grid resolution: e- distribution calculation is both time intensive and (hence) least precise.\n",
      "Roughly speaking, this is interchangeable with `rminarc`.  To maintain precision, you should vary them together -- doubling `rminarc` requires doubling of `iradmax` resolution (neglecting smaller effects)."
     ]
    },
    {
     "cell_type": "heading",
     "level": 3,
     "metadata": {},
     "source": [
      "4.2.1 Doubling iradmax"
     ]
    },
    {
     "cell_type": "code",
     "collapsed": true,
     "input": [
      "f_mod = make_fmod('iradmax', lambda x: 2*x)\n",
      "mod_fwhms = recalculate(f, f_mod, base_fwhms)"
     ],
     "language": "python",
     "metadata": {},
     "outputs": [
      {
       "output_type": "stream",
       "stream": "stdout",
       "text": [
        "Initial iradmax = 100\n",
        "Final iradmax = 200\n",
        "[stdout:1] \n",
        "\tFull model: B0 = 70.000 muG; eta2 = 0.000; mu = 0.000; \n",
        "\tinit rminarc = [ 60.  60.  60.]; adapted = [ 67.33  56.19  39.57]\n"
       ]
      },
      {
       "output_type": "stream",
       "stream": "stdout",
       "text": [
        "[stdout:3] \n",
        "\tFull model: B0 = 500.000 muG; eta2 = 100.000; mu = 0.000; \n",
        "\tinit rminarc = [ 60.  60.  60.]; adapted = [ 14.72  12.97  10.05]\n",
        "[stdout:2] \n",
        "\tFull model: B0 = 240.000 muG; eta2 = 1000.000; mu = 1.000; \n",
        "\tinit rminarc = [ 60.  60.  60.]; adapted = [ 68.06  64.44  57.88]\n",
        "[stdout:0] \n",
        "\tFull model: B0 = 230.000 muG; eta2 = 1000.000; mu = 0.000; \n",
        "\tinit rminarc = [ 60.  60.  60.]; adapted = [ 69.67  58.6   41.67]\n",
        "[stdout:1] \n",
        "\tFull model: B0 = 110.000 muG; eta2 = 100.000; mu = 2.000; \n",
        "\tinit rminarc = [ 60.  60.  60.]; adapted = [ 68.4   67.47  67.22]\n",
        "[stdout:2] \n",
        "\tFull model: B0 = 190.000 muG; eta2 = 1000.000; mu = 2.000; \n",
        "\tinit rminarc = [ 60.  60.  60.]; adapted = [ 64.31  64.95  66.49]\n",
        "[stdout:3] \n",
        "\tFull model: B0 = 70.000 muG; eta2 = 0.000; mu = 1.000; \n",
        "\tinit rminarc = [ 60.  60.  60.]; adapted = [ 67.33  56.19  39.57]\n",
        "[stdout:0] \n",
        "\tFull model: B0 = 140.000 muG; eta2 = 100.000; mu = 1.000; \n",
        "\tinit rminarc = [ 60.  60.  60.]; adapted = [ 69.35  65.32  58.44]\n",
        "[stdout:3] \n",
        "\tFull model: B0 = 70.000 muG; eta2 = 0.000; mu = 2.000; \n",
        "\tinit rminarc = [ 60.  60.  60.]; adapted = [ 67.33  56.19  39.57]\n",
        "[stdout:3] \n",
        "\tFull model: B0 = 650.000 muG; eta2 = 1000.000; mu = 2.000; \n",
        "\tinit rminarc = [ 60.  60.  60.]; adapted = [ 10.07  10.17  10.41]\n",
        "[stdout:1] \n",
        "\tFull model: B0 = 180.000 muG; eta2 = 0.000; mu = 2.000; \n",
        "\tinit rminarc = [ 60.  60.  60.]; adapted = [ 16.16  13.48   9.62]\n",
        "[stdout:1] \n",
        "\tFull model: B0 = 650.000 muG; eta2 = 1000.000; mu = 1.000; \n",
        "\tinit rminarc = [ 60.  60.  60.]; adapted = [ 15.16  14.35  12.91]\n",
        "[stdout:0] \n",
        "\tFull model: B0 = 180.000 muG; eta2 = 0.000; mu = 1.000; \n",
        "\tinit rminarc = [ 60.  60.  60.]; adapted = [ 16.16  13.48   9.62]\n",
        "[stdout:0] \n",
        "\tFull model: B0 = 180.000 muG; eta2 = 100.000; mu = 0.000; \n",
        "\tinit rminarc = [ 60.  60.  60.]; adapted = [ 68.68  60.45  46.83]\n",
        "[stdout:2] \n",
        "\tFull model: B0 = 650.000 muG; eta2 = 1000.000; mu = 0.000; \n",
        "\tinit rminarc = [ 60.  60.  60.]; adapted = [ 14.54  12.26   8.74]\n",
        "[stdout:1] \n",
        "\tFull model: B0 = 180.000 muG; eta2 = 0.000; mu = 0.000; \n",
        "\tinit rminarc = [ 60.  60.  60.]; adapted = [ 16.16  13.48   9.62]\n",
        "[stdout:1] \n",
        "\tFull model: B0 = 380.000 muG; eta2 = 100.000; mu = 1.000; \n",
        "\tinit rminarc = [ 60.  60.  60.]; adapted = [ 15.4   14.5   12.98]\n",
        "[stdout:3] \n",
        "\tFull model: B0 = 400.000 muG; eta2 = 100.000; mu = 2.000; \n",
        "\tinit rminarc = [ 60.  60.  60.]; adapted = [ 9.78  9.64  9.61]\n",
        "Time elapsed: 37.199302\n"
       ]
      }
     ],
     "prompt_number": 11
    },
    {
     "cell_type": "code",
     "collapsed": true,
     "input": [
      "frac_err = check_frac_change(base_fwhms, mod_fwhms, f=0.0005)"
     ],
     "language": "python",
     "metadata": {},
     "outputs": [
      {
       "output_type": "stream",
       "stream": "stdout",
       "text": [
        "\tFrac change: 1.8e-05, 0.00052, 5.8e-05\n",
        "\t\tmu = 0.00, eta2 = 1.000e-16, B0 = 7.000e-05\n",
        "\tFrac change: 1.8e-05, 0.00052, 5.9e-05\n",
        "\t\tmu = 1.00, eta2 = 1.000e-16, B0 = 7.000e-05\n",
        "\tFrac change: 1.6e-05, 0.00052, 8.3e-05\n",
        "\t\tmu = 2.00, eta2 = 1.000e-16, B0 = 7.000e-05\n",
        "\tFrac change: 0.00027, 7.8e-05, 0.001\n",
        "\t\tmu = 2.00, eta2 = 1.000e-16, B0 = 1.800e-04\n",
        "\tFrac change: 0.00027, 8.2e-05, 0.001\n",
        "\t\tmu = 1.00, eta2 = 1.000e-16, B0 = 1.800e-04\n",
        "\tFrac change: 0.00027, 8.2e-05, 0.001\n",
        "\t\tmu = 0.00, eta2 = 1.000e-16, B0 = 1.800e-04\n",
        "Maximum frac. change: 0.00100189777914\n",
        "Median frac. change in each energy band:  [  1.41430809e-05   1.31702027e-05   1.47225544e-05]\n",
        "Mean frac. change in each energy band:  [  5.24717348e-05   1.05350546e-04   1.83735530e-04]\n",
        "Maximum frac. change in each energy band:  [ 0.00026821  0.00052089  0.0010019 ]\n"
       ]
      }
     ],
     "prompt_number": 18
    },
    {
     "cell_type": "heading",
     "level": 3,
     "metadata": {},
     "source": [
      "4.2.2 Halving iradmax"
     ]
    },
    {
     "cell_type": "code",
     "collapsed": true,
     "input": [
      "f_mod = make_fmod('iradmax', lambda x: int(x/2.))\n",
      "mod_fwhms = recalculate(f, f_mod, base_fwhms)"
     ],
     "language": "python",
     "metadata": {},
     "outputs": [
      {
       "output_type": "stream",
       "stream": "stdout",
       "text": [
        "Initial iradmax = 100\n",
        "Final iradmax = 50\n",
        "[stdout:0] \n",
        "\tFull model: B0 = 70.000 muG; eta2 = 0.000; mu = 0.000; \n",
        "\tinit rminarc = [ 60.  60.  60.]; adapted = [ 67.21  56.    39.86]\n"
       ]
      },
      {
       "output_type": "stream",
       "stream": "stdout",
       "text": [
        "[stdout:2] \n",
        "\tFull model: B0 = 500.000 muG; eta2 = 100.000; mu = 0.000; \n",
        "\tinit rminarc = [ 60.  60.  60.]; adapted = [ 14.59  12.7    9.72]\n",
        "[stdout:1] \n",
        "\tFull model: B0 = 240.000 muG; eta2 = 1000.000; mu = 1.000; \n",
        "\tinit rminarc = [ 60.  60.  60.]; adapted = [ 68.09  64.47  57.87]\n",
        "[stdout:3] \n",
        "\tFull model: B0 = 230.000 muG; eta2 = 1000.000; mu = 0.000; \n",
        "\tinit rminarc = [ 60.  60.  60.]; adapted = [ 69.68  58.57  41.63]\n",
        "[stdout:0] \n",
        "\tFull model: B0 = 110.000 muG; eta2 = 100.000; mu = 2.000; \n",
        "\tinit rminarc = [ 60.  60.  60.]; adapted = [ 68.42  67.5   67.25]\n",
        "[stdout:1] \n",
        "\tFull model: B0 = 190.000 muG; eta2 = 1000.000; mu = 2.000; \n",
        "\tinit rminarc = [ 60.  60.  60.]; adapted = [ 64.3   64.93  66.5 ]\n",
        "[stdout:3] \n",
        "\tFull model: B0 = 70.000 muG; eta2 = 0.000; mu = 1.000; \n",
        "\tinit rminarc = [ 60.  60.  60.]; adapted = [ 67.21  56.    39.86]\n",
        "[stdout:2] \n",
        "\tFull model: B0 = 140.000 muG; eta2 = 100.000; mu = 1.000; \n",
        "\tinit rminarc = [ 60.  60.  60.]; adapted = [ 69.36  65.36  58.43]\n",
        "[stdout:3] \n",
        "\tFull model: B0 = 70.000 muG; eta2 = 0.000; mu = 2.000; \n",
        "\tinit rminarc = [ 60.  60.  60.]; adapted = [ 67.21  56.    39.86]\n",
        "[stdout:0] \n",
        "\tFull model: B0 = 650.000 muG; eta2 = 1000.000; mu = 2.000; \n",
        "\tinit rminarc = [ 60.  60.  60.]; adapted = [ 9.65  9.74  9.98]\n",
        "[stdout:3] \n",
        "\tFull model: B0 = 180.000 muG; eta2 = 0.000; mu = 2.000; \n",
        "\tinit rminarc = [ 60.  60.  60.]; adapted = [ 16.69  14.05  10.57]\n",
        "[stdout:2] \n",
        "\tFull model: B0 = 650.000 muG; eta2 = 1000.000; mu = 1.000; \n",
        "\tinit rminarc = [ 60.  60.  60.]; adapted = [ 15.07  14.21  12.63]\n",
        "[stdout:1] \n",
        "\tFull model: B0 = 180.000 muG; eta2 = 0.000; mu = 1.000; \n",
        "\tinit rminarc = [ 60.  60.  60.]; adapted = [ 16.69  14.05  10.57]\n",
        "[stdout:3] \n",
        "\tFull model: B0 = 180.000 muG; eta2 = 100.000; mu = 0.000; \n",
        "\tinit rminarc = [ 60.  60.  60.]; adapted = [ 68.7   60.43  46.83]\n",
        "[stdout:1] \n",
        "\tFull model: B0 = 650.000 muG; eta2 = 1000.000; mu = 0.000; \n",
        "\tinit rminarc = [ 60.  60.  60.]; adapted = [ 14.38  11.91   8.45]\n",
        "[stdout:0] \n",
        "\tFull model: B0 = 180.000 muG; eta2 = 0.000; mu = 0.000; \n",
        "\tinit rminarc = [ 60.  60.  60.]; adapted = [ 16.69  14.05  10.57]\n",
        "[stdout:2] \n",
        "\tFull model: B0 = 380.000 muG; eta2 = 100.000; mu = 1.000; \n",
        "\tinit rminarc = [ 60.  60.  60.]; adapted = [ 15.42  14.44  12.77]\n",
        "[stdout:0] \n",
        "\tFull model: B0 = 400.000 muG; eta2 = 100.000; mu = 2.000; \n",
        "\tinit rminarc = [ 60.  60.  60.]; adapted = [ 9.46  9.29  9.2 ]\n",
        "Time elapsed: 13.152834\n"
       ]
      }
     ],
     "prompt_number": 19
    },
    {
     "cell_type": "code",
     "collapsed": true,
     "input": [
      "frac_err = check_frac_change(base_fwhms, mod_fwhms, f=0.0005)"
     ],
     "language": "python",
     "metadata": {},
     "outputs": [
      {
       "output_type": "stream",
       "stream": "stdout",
       "text": [
        "\tFrac change: 0.00099, 0.0034, 0.0011\n",
        "\t\tmu = 0.00, eta2 = 1.000e-16, B0 = 7.000e-05\n",
        "\tFrac change: 0.00099, 0.0034, 0.0011\n",
        "\t\tmu = 1.00, eta2 = 1.000e-16, B0 = 7.000e-05\n",
        "\tFrac change: 0.00099, 0.0034, 0.0011\n",
        "\t\tmu = 2.00, eta2 = 1.000e-16, B0 = 7.000e-05\n",
        "\tFrac change: 0.00041, 0.00072, 0.0046\n",
        "\t\tmu = 2.00, eta2 = 1.000e-16, B0 = 1.800e-04\n",
        "\tFrac change: 0.00042, 0.00072, 0.0046\n",
        "\t\tmu = 1.00, eta2 = 1.000e-16, B0 = 1.800e-04\n",
        "\tFrac change: 0.00042, 0.00072, 0.0046\n",
        "\t\tmu = 0.00, eta2 = 1.000e-16, B0 = 1.800e-04\n",
        "Maximum frac. change: 0.00458002406729\n",
        "Median frac. change in each energy band:  [  7.50974902e-05   5.47661014e-05   6.68283775e-05]\n",
        "Mean frac. change in each energy band:  [ 0.00026842  0.00070921  0.00097484]\n",
        "Maximum frac. change in each energy band:  [ 0.00099349  0.00336842  0.00458002]\n"
       ]
      }
     ],
     "prompt_number": 20
    },
    {
     "cell_type": "heading",
     "level": 3,
     "metadata": {},
     "source": [
      "4.2.3 `iradmax` conclusions"
     ]
    },
    {
     "cell_type": "markdown",
     "metadata": {},
     "source": [
      "Notes (2014 August 29)\n",
      "\n",
      "* __SN 1006__: default `iradmax = 100` (inherited from Sean) looks acceptable, error is perhaps ~0.5% or so.<br>\n",
      "  Halving (100 to 50) error at most 1.2% (median, mean around 0.3--0.5%);<br>\n",
      "  doubling (100 to 200) error at most 0.21% (median, mean at most 0.08%).\n",
      "\n",
      "Some tests on Tycho forced my hand and I went ahead and implemented adaptive `rminarc` calculation.\n",
      "\n",
      "* __Tycho__: default `iradmax = 100` (with `rminarc=20`) is kind of abysmal.<br>\n",
      "  Halving (100 to 50), error is up to 33% (!), though 1-10% is more typical<br>\n",
      "  Doubling (100 to 200), error is up to 8%, more typically 0.1-2%\n",
      "* __Tycho__: default `iradmax = 100` (with `rminarc = [20., 16.5, 13.5, 14., 14.]`) not much better<br>\n",
      "  Halving (100 to 50), error is up to 14%, typical values are 2-3% (mean), 0.1-0.2% (median), most extreme 8% in lower bands<br>\n",
      "  Doubling (100 to 200), error is at most 7%, typical values are 0.4-2% (mean), 0.04-0.1% (median), most extreme 1-4% in lower bands\n",
      "* __Tycho__: default `iradmax = 200` (with `rminarc = [20., 16.5, 13.5, 14., 14.]`)<br>\n",
      "  Halving (100 to 200) was done above<br>\n",
      "  Doubling (200 to 400), max error is 1.6%, typical errors 0.01-0.06% (median), 0.05-0.40% (mean), most extreme 0.1-1% in lower bands\n",
      "\n",
      "As expected, most extreme errors occur at small eta2, large B0, highest energy.  On flip side, largest errors at low energies require large eta2, small B0; effect of mu is equivocal (could investigate but not so important).\n",
      "\n",
      "After implementing adaptive `rminarc` calculation:\n",
      "* __Tycho__: default `iradmax = 100` (with `rminarc=20`, adaptive `rminarc`, `irad_adapt_f=1.2`) -- beautiful!<br>\n",
      "  Halving (100 to 50), max error is 0.6%, typical errors are 0.005%-0.01% (median), 0.02-0.07% (mean), extremes 0.06-0.6%.<br>\n",
      "  Only 3 points have errors above 0.1%, all in case eta2 = 1e-16, B0 = 700 muG (thin filaments, no diffusion).<br>\n",
      "  Only 6 points have errors above 0.05%, all in case eta2 = 1e-16 (now incl. widest filaments, no diffusion).<br>\n",
      "  Doubling (100 to 200), max error is 0.13%, typical errors are 0.001-0.002% (median), 0.01-0.03% (mean); extremes 0.05-0.1%.<br>\n",
      "  Again only 3 points above 0.1% error, and 6 points above 0.05% error\n",
      "* __SN1006__: default `iradmax = 100` (with `rminarc=60`, adaptive `rminarc`, `irad_adapt_f=1.2`)<br>\n",
      "  Halving (100 to 50) max error 0.5%, typical errors 0.005-0.007% (median), 0.02-0.07% (mean), extremes 0.1-0.5%<br>\n",
      "  Doubling (100 to 200) max error 0.10%, typical errors 0.001-0.002% (median), 0.005-0.02% (mean), extreme values 0.02-0.1%\n",
      "\n",
      "Maybe not unexpectedly, errors for SN 1006 didn't drop as much (and they weren't so bad to begin with).\n",
      "Having adaptive `rminarc` brought them closer together, which makes sense and is a good sign.\n",
      "\n",
      "Curious observation -- why are all the large errors at zero diffusion?  Could this be related to the advective solution that we are calculating?  Well, it's okay, we've shown it's a ~1% effect.  So who cares."
     ]
    },
    {
     "cell_type": "heading",
     "level": 2,
     "metadata": {},
     "source": [
      "4.3 `ixmax` -- resolution on line-of-sight integration"
     ]
    },
    {
     "cell_type": "heading",
     "level": 3,
     "metadata": {},
     "source": [
      "4.3.1 Double `ixmax`"
     ]
    },
    {
     "cell_type": "code",
     "collapsed": true,
     "input": [
      "f_mod = make_fmod('ixmax', lambda x: 2*x)\n",
      "mod_fwhms = recalculate(f, f_mod, base_fwhms)"
     ],
     "language": "python",
     "metadata": {},
     "outputs": []
    },
    {
     "cell_type": "code",
     "collapsed": true,
     "input": [
      "frac_err = check_frac_change(base_fwhms, mod_fwhms, f=0.001)"
     ],
     "language": "python",
     "metadata": {},
     "outputs": []
    },
    {
     "cell_type": "heading",
     "level": 3,
     "metadata": {},
     "source": [
      "4.3.2 Halve `ixmax`"
     ]
    },
    {
     "cell_type": "code",
     "collapsed": true,
     "input": [
      "f_mod = make_fmod('ixmax', lambda x: int(x/2.))\n",
      "mod_fwhms = recalculate(f, f_mod, base_fwhms)"
     ],
     "language": "python",
     "metadata": {},
     "outputs": []
    },
    {
     "cell_type": "code",
     "collapsed": true,
     "input": [
      "frac_err = check_frac_change(base_fwhms, mod_fwhms, f=0.001)"
     ],
     "language": "python",
     "metadata": {},
     "outputs": []
    },
    {
     "cell_type": "heading",
     "level": 3,
     "metadata": {},
     "source": [
      "4.3.3 `ixmax` conclusions"
     ]
    },
    {
     "cell_type": "markdown",
     "metadata": {},
     "source": [
      "(August 29, 2014 -- prior to adding `iradadapt` option, which should only decrease errors)\n",
      "\n",
      "* __SN1006:__ default of 500 is more than sufficient, error is perhaps 0.005%.<br>\n",
      "  Doubling (500 to 1000) had error at most 0.001%, typical error 0.0004%.<br>\n",
      "  Halving (500 to 250) had error at most 0.01%, typical error 0.002%.\n",
      "* __Tycho:__ default of 500 is okay.  Error like above...<br>\n",
      "  Doubling (500 to 1000) had error at most 0.001%, typical error ~0.0003%<br>\n",
      "  Halving (500 to 250) had error at most 0.01%, typical error ~ 0.003%.\n",
      "\n",
      "In Tycho, the worst error is at low energy -- makes sense, since larger FWHMs require a longer line-of-sight integration"
     ]
    },
    {
     "cell_type": "heading",
     "level": 2,
     "metadata": {},
     "source": [
      "4.4 `irmax` -- expectation is that this should not matter!"
     ]
    },
    {
     "cell_type": "heading",
     "level": 3,
     "metadata": {},
     "source": [
      "4.4.1 Double `irmax`"
     ]
    },
    {
     "cell_type": "code",
     "collapsed": true,
     "input": [
      "f_mod = make_fmod('irmax', lambda x: x*2)\n",
      "mod_fwhms = recalculate(f, f_mod, base_fwhms)"
     ],
     "language": "python",
     "metadata": {},
     "outputs": []
    },
    {
     "cell_type": "code",
     "collapsed": true,
     "input": [
      "frac_err = check_frac_change(base_fwhms, mod_fwhms, f=0.0001)"
     ],
     "language": "python",
     "metadata": {},
     "outputs": []
    },
    {
     "cell_type": "heading",
     "level": 3,
     "metadata": {},
     "source": [
      "4.4.2 Halve `irmax`"
     ]
    },
    {
     "cell_type": "code",
     "collapsed": true,
     "input": [
      "f_mod = make_fmod('irmax', lambda x: int(x/2.))\n",
      "mod_fwhms = recalculate(f, f_mod, base_fwhms)"
     ],
     "language": "python",
     "metadata": {},
     "outputs": []
    },
    {
     "cell_type": "code",
     "collapsed": true,
     "input": [
      "frac_err = check_frac_change(base_fwhms, mod_fwhms, f=0.0001)"
     ],
     "language": "python",
     "metadata": {},
     "outputs": []
    },
    {
     "cell_type": "heading",
     "level": 3,
     "metadata": {},
     "source": [
      "4.4.3 Conclusions"
     ]
    },
    {
     "cell_type": "markdown",
     "metadata": {},
     "source": [
      "(August 29, 2014, prior to adding `iradadapt` option)\n",
      "* __SN1006:__ nothing happens (error ~ 1e-10 to 1e-11 typically, absolute worst 1e-9 = 0.0000001%)\n",
      "* __Tycho:__ same.  Worst error is about 5e-9; typical error is about 1e-11 to 1e-10."
     ]
    },
    {
     "cell_type": "heading",
     "level": 2,
     "metadata": {},
     "source": [
      "4.5 Double Pacholczyk table resolution?"
     ]
    },
    {
     "cell_type": "markdown",
     "metadata": {},
     "source": [
      "Table for single particle emissivity has (only?) 35 entries for scaled single particle synchrotron emissivity numbers (which is basically a table of some ugly Bessel function values).  Do we need to add more entries?\n",
      "\n",
      "(check out copy of Pacholczyk again from Goddard library)"
     ]
    },
    {
     "cell_type": "heading",
     "level": 2,
     "metadata": {},
     "source": [
      "4.6 Update Pacholczyk table numbers (new Bessel function values)?"
     ]
    },
    {
     "cell_type": "markdown",
     "metadata": {},
     "source": [
      "Do we need to put in more accurate table numbers?  I checked Pacholczyk's values against Wolfram|Alpha at some point and they disagreed slightly (probably order 1-10% at most).  What happens if we do this?"
     ]
    }
   ],
   "metadata": {}
  }
 ]
}