{
 "metadata": {
  "name": "",
  "signature": "sha256:7a9e0a35c5d683d37c2b4669dcf5047d8e5fb9cb70785d9877140a45edafe71b"
 },
 "nbformat": 3,
 "nbformat_minor": 0,
 "worksheets": [
  {
   "cells": [
    {
     "cell_type": "heading",
     "level": 1,
     "metadata": {},
     "source": [
      "Tycho fitting notebook"
     ]
    },
    {
     "cell_type": "code",
     "collapsed": true,
     "input": [
      "%pylab --no-import-all\n",
      "%matplotlib inline\n",
      "# ('gtk', 'inline', 'osx', 'qt', 'qt4', 'tk', 'wx')\n",
      "from fplot import fplot, show_mplrc_settings\n",
      "from IPython.core.display import display, Image, HTML, Math, Latex\n",
      "\n",
      "from IPython import parallel\n",
      "\n",
      "from __future__ import division\n",
      "\n",
      "import cPickle as pickle\n",
      "import glob\n",
      "\n",
      "import fullmodel_recompile\n",
      "fullmodel_recompile.main()\n",
      "\n",
      "import models as models\n",
      "import models_exec as mex\n",
      "import models_disp as mdsp\n",
      "import parutils\n",
      "import snr_catalog as snrcat\n",
      "\n",
      "# For reference\n",
      "show_mplrc_settings()"
     ],
     "language": "python",
     "metadata": {},
     "outputs": []
    },
    {
     "cell_type": "heading",
     "level": 1,
     "metadata": {},
     "source": [
      "1. Read in data (fwhms, full model grids), interpolate shock velocites"
     ]
    },
    {
     "cell_type": "markdown",
     "metadata": {},
     "source": [
      "A number of file paths are specified here (pre-tabulated FWHMs, Tycho shock velocities, regions' azimuth angles)."
     ]
    },
    {
     "cell_type": "code",
     "collapsed": true,
     "input": [
      "def init_tab(vsvals):\n",
      "    \"\"\"vsvals must be sorted and match filenames\"\"\"\n",
      "    TABS = {}\n",
      "    for fname, vs in zip(sorted(glob.glob('tables/Tycho_gen_2014-08-30_*.pkl')), vsvals):\n",
      "        with open(fname, 'r') as fpkl:\n",
      "            TABS[vs] = pickle.load(fpkl)\n",
      "    return TABS\n",
      "\n",
      "def init_data():\n",
      "    with open('../data/regions-4/fwhms/fwhms.pkl') as fpkl:\n",
      "        regdict = pickle.load(fpkl)\n",
      "    # print regdict[1]['0.7-1kev']['meas'].keys()\n",
      "\n",
      "    labels = ['0.7-1kev', '1-1.7kev', '2-3kev', '3-4.5kev', '4.5-7kev']  # Must be in order\n",
      "    TYCHO_DATA = {}\n",
      "\n",
      "    for n in regdict:\n",
      "        reg = regdict[n]\n",
      "        kevs = np.array([0.7, 1., 2., 3., 4.5])  # Magic values (keVs specified here!)\n",
      "        data = np.array([reg[lab]['meas']['fwhm'] for lab in labels])\n",
      "        eps = np.mean([reg[lab]['meas']['fwhm-errs'] for lab in labels], axis=1)  # Average asymmetric errors\n",
      "\n",
      "        inds = (np.where(np.isfinite(data)))[0]  # Keep NaN data, but filter out using inds\n",
      "\n",
      "        TYCHO_DATA[n] = kevs, data, eps, inds\n",
      "    return TYCHO_DATA\n",
      "\n",
      "def interp_vs():\n",
      "    \"\"\"Interpolated shock velocities, assuming distance 3 kpc to Tycho's SNR\"\"\"\n",
      "    briantab = np.loadtxt('../data/velocs/tycho_velocs.txt')\n",
      "    az_angles = np.loadtxt('../data/regions-4/regions-4-az.txt')\n",
      "\n",
      "    aztab = briantab[:,0]\n",
      "    vstab = briantab[:,1] * 1e5  # Convert km/s to cm/s\n",
      "\n",
      "    TYCHO_VS = {}\n",
      "\n",
      "    # Pad table on each end to avoid edge cases\n",
      "    aztab = np.insert(aztab, [0, len(aztab)], [aztab[-1]-360., aztab[0]+360.])\n",
      "    vstab = np.insert(vstab, [0, len(vstab)], [vstab[-1], vstab[0]])\n",
      "\n",
      "    # Interpolate linearly in Brian's table\n",
      "    for n, az in zip(xrange(len(az_angles)), az_angles):\n",
      "\n",
      "        az = az % 360\n",
      "        ind = np.searchsorted(aztab, az)\n",
      "        slope = (vstab[ind] - vstab[ind-1]) / (aztab[ind] - aztab[ind-1])\n",
      "        vs_interp = vstab[ind-1] + slope * (az - aztab[ind-1])\n",
      "\n",
      "        TYCHO_VS[n+1] = vs_interp * 3/2.3, az  # Scale to 3 kpc (default) and save values\n",
      "    \n",
      "    return TYCHO_VS"
     ],
     "language": "python",
     "metadata": {},
     "outputs": []
    },
    {
     "cell_type": "heading",
     "level": 2,
     "metadata": {},
     "source": [
      "1.1 Store data, create Fitter() generator"
     ]
    },
    {
     "cell_type": "code",
     "collapsed": true,
     "input": [
      "VS_VALS = sorted([4.59e8, 4.76e8, 4.94e8, 5.11e8])  # 2014 August 30 tables\n",
      "TABS = init_tab(VS_VALS)\n",
      "TYCHO_DATA = init_data()\n",
      "TYCHO_VS = interp_vs()\n",
      "\n",
      "TYCHO_FLMTS = {1:[1,10,11,12,13],\n",
      "               2:[2,3],\n",
      "               3:[4,5],\n",
      "               4:[6,7],\n",
      "               5:[8,9]}\n",
      "\n",
      "def gen_tycho(fmod=None, verbose=True):\n",
      "    for n in TYCHO_DATA:\n",
      "        kevs, data, eps, inds = TYCHO_DATA[n]\n",
      "        vs, az = TYCHO_VS[n]\n",
      "        \n",
      "        # Get tab w/ closest shock veloc. to vs\n",
      "        idx = (np.abs(VS_VALS - vs)).argmin()\n",
      "        vs_key = VS_VALS[idx]\n",
      "        tab = TABS[vs_key]\n",
      "        \n",
      "        # Build fitter object\n",
      "        fobj = mex.Fitter(snrcat.make_tycho(), kevs, data, eps, tab,\n",
      "                          inds=inds, verbose=verbose)\n",
      "        fobj.snr.vs = vs\n",
      "        fobj.title = ('Region {} (using tab(vs={:0.2e});\\n'\n",
      "                      'vs={:0.2e} cm/s, az={:0.1f} deg.)').format(n, vs_key, vs, az)\n",
      "        \n",
      "        if fmod:\n",
      "            fobj = fmod(fobj)\n",
      "        yield fobj\n",
      "\n",
      "\n",
      "def gen_tycho_flmt(fmod=None, verbose=True):\n",
      "    \"\"\"Filament data -- arithmetic average FWHMs w/ std error of mean (sample std dev / sqrt(n))\"\"\"\n",
      "    for n, n_regs in TYCHO_FLMTS.items():\n",
      "        \n",
      "        kevs = []\n",
      "        data_all = []\n",
      "        eps_all = []\n",
      "        for m in n_regs:\n",
      "            kevs_r, data_r, eps_r, inds_r = TYCHO_DATA[m]\n",
      "            kevs = kevs_r  # Same for all regions\n",
      "            data_all.append(data_r)\n",
      "            eps_all.append(eps_r)\n",
      "        \n",
      "        data = np.nanmean(np.array(data_all), axis=0)\n",
      "        \n",
      "        # Using standard error of the mean, as sample_std_dev / sqrt(n)\n",
      "        std = np.nanstd(np.array(data_all), axis=0, ddof=1)\n",
      "        n_pts = np.sum(~np.isnan(data_all),axis=0)\n",
      "        std[np.where(np.isnan(std))] = np.nanmax(std)  # Catch cases where only 1 data point available!\n",
      "        \n",
      "        eps = std / np.sqrt(n_pts)\n",
      "        inds = np.where(n_pts)[0]\n",
      "        # VERY NAIVE / LAZY APPROACH -- merely average the relevant velocities\n",
      "        vs = np.mean([TYCHO_VS[m][0] for m in n_regs])\n",
      "        \n",
      "        # Get tab w/ closest shock veloc. to vs\n",
      "        idx = (np.abs(VS_VALS - vs)).argmin()\n",
      "        vs_key = VS_VALS[idx]\n",
      "        tab = TABS[vs_key]\n",
      "        \n",
      "        # Build fitter object\n",
      "        fobj = mex.Fitter(snrcat.make_tycho(), kevs, data, eps, tab,\n",
      "                          inds=inds, verbose=verbose)\n",
      "        fobj.snr.vs = vs\n",
      "        fobj.title = ('Filament {}, mean vs={:0.2e} cm/s').format(n, vs)\n",
      "        \n",
      "        # Store extra data about the filament computation\n",
      "        fobj.flmt_n_pts = n_pts\n",
      "        \n",
      "        if fmod:\n",
      "            fobj = fmod(fobj)\n",
      "        yield fobj"
     ],
     "language": "python",
     "metadata": {},
     "outputs": []
    },
    {
     "cell_type": "heading",
     "level": 2,
     "metadata": {},
     "source": [
      "1.2 Set up clients for parallel computation"
     ]
    },
    {
     "cell_type": "markdown",
     "metadata": {},
     "source": [
      "Possibly useful [SE question](http://stackoverflow.com/q/15289168), and [another](http://stackoverflow.com/q/18086299) (both answered by \"Min\" Ragan-Kelley (`minrk`)).  As it would be useful to view stdout as computation progresses..."
     ]
    },
    {
     "cell_type": "code",
     "collapsed": true,
     "input": [
      "dview = parutils.get_dview()\n",
      "%px import models_disp as mdsp"
     ],
     "language": "python",
     "metadata": {},
     "outputs": []
    },
    {
     "cell_type": "heading",
     "level": 2,
     "metadata": {},
     "source": [
      "1.3 Print averaged filament data (from generator)"
     ]
    },
    {
     "cell_type": "code",
     "collapsed": false,
     "input": [
      "for fobj in gen_tycho_flmt():\n",
      "    print 'kevs: ', fobj.kevs\n",
      "    print 'Data: ', fobj.data\n",
      "    print 'Errs: ', fobj.eps\n",
      "    print 'Inds: ', fobj.inds\n",
      "    print 'n pts: ', fobj.flmt_n_pts\n",
      "    print ''"
     ],
     "language": "python",
     "metadata": {},
     "outputs": []
    },
    {
     "cell_type": "heading",
     "level": 1,
     "metadata": {},
     "source": [
      "2. Simple model fits to Tycho, applied to all regions (no FWHM averaging)"
     ]
    },
    {
     "cell_type": "markdown",
     "metadata": {},
     "source": [
      "Need to account for shock velocity and try seeing what happens if we average.\n",
      "\n",
      "Also, does changing the different FWHM measurement approaches make a difference?  Here we might be able to quantify that.  Tons of questions and numbers and plots to produce and parse here."
     ]
    },
    {
     "cell_type": "code",
     "collapsed": false,
     "input": [
      "mu_vals = [0., 1./3, 0.5, 1, 1.5, 2.]\n",
      "fmt_vals = [':b', ':g', ':r', '-k', '-r', '-g']\n",
      "\n",
      "# Apply fit settings using factory function\n",
      "f_data = mdsp.build_dataf('simp', conf_intv=0.683, fit_kws={},\n",
      "                          err_kws={'method':'manual'})\n",
      "# Customize fitter settings\n",
      "def fitter_mod(fobj):\n",
      "    #fobj.snr.vs=4e8\n",
      "    return fobj\n",
      "\n",
      "dview.push(dict(f_data=f_data, mu_vals=mu_vals))\n",
      "\n",
      "# Perform parallel computation; output is IPython.parallel.client.asyncresult.AsyncMapResult instance\n",
      "tables_out = dview.map_async(lambda f: mdsp.generate_tabs(f_data, f, f.title, mu_vals),\n",
      "                             gen_tycho(fitter_mod, verbose=True))"
     ],
     "language": "python",
     "metadata": {},
     "outputs": []
    },
    {
     "cell_type": "code",
     "collapsed": true,
     "input": [
      "tables_out.display_outputs()\n",
      "#for _s in tables_out.stdout:\n",
      "#    print _s"
     ],
     "language": "python",
     "metadata": {},
     "outputs": []
    },
    {
     "cell_type": "code",
     "collapsed": true,
     "input": [
      "for table, ltable, plist, fobj in tables_out:\n",
      "    print fobj.title\n",
      "    display(table)\n",
      "    mdsp.generate_plots(plist, fobj, fobj.title, mu_vals, fmt_vals)\n",
      "    print ltable, '\\n'"
     ],
     "language": "python",
     "metadata": {},
     "outputs": []
    },
    {
     "cell_type": "heading",
     "level": 2,
     "metadata": {},
     "source": [
      "2.2 Plot chisqr space"
     ]
    },
    {
     "cell_type": "code",
     "collapsed": true,
     "input": [
      "mu_vals = [0, 1./3, 0.5, 1, 1.5, 2]  # Plotting more mu values shows tendency for best fits to run off to mu=50...\n",
      "fmt_vals = [':r.', ':g.', ':b.', '-k.', '--c.', '--y.']\n",
      "eta2_vals = np.logspace(-3, 3, num=100, base=10)  # One extra decade in each direction, vs. gridded eta2...\n",
      "\n",
      "for fobj in gen_tycho():\n",
      "    plt.figure(figsize(5,3.7))\n",
      "    plt.title(fobj.title)\n",
      "    fobj.check_eta2_simp(eta2_vals, mu_vals, fmt_vals)\n",
      "    plt.show()"
     ],
     "language": "python",
     "metadata": {},
     "outputs": []
    },
    {
     "cell_type": "heading",
     "level": 1,
     "metadata": {},
     "source": [
      "3. Full model fits to Tycho data"
     ]
    },
    {
     "cell_type": "markdown",
     "metadata": {},
     "source": [
      "Code for sections 3.1, 3.2 is out of date"
     ]
    },
    {
     "cell_type": "heading",
     "level": 2,
     "metadata": {},
     "source": [
      "3.1 Plot $(B_0, \\chi^2)$ space to check that grid resolves best $B_0$ (for various $\\mu$, $\\eta_2$)"
     ]
    },
    {
     "cell_type": "markdown",
     "metadata": {},
     "source": [
      "Subplots correspond to indiv. regions; this only plots the first 5 regions."
     ]
    },
    {
     "cell_type": "code",
     "collapsed": false,
     "input": [
      "mu_vals = [0, 1./3, 0.5, 1, 1.5, 2]\n",
      "fmt_vals = [':r.', ':g.', ':b.', '-k.', '--c.', '--y.']\n",
      "eta2_vals = np.sort(TABS[VS_VALS[0]][0].keys())  # Assumes same eta2 values for all mu\n",
      "\n",
      "for eta2 in eta2_vals[::10]:\n",
      "    header = 'Eta2 = {:0.2f}'.format(eta2)\n",
      "    print header\n",
      "    print '-'*len(header)\n",
      "    plt.figure(figsize=(20,8))\n",
      "    for fobj, i in zip(gen_tycho(), xrange(5)):\n",
      "        # Log scaling\n",
      "        plt.subplot(2,5,i+1)\n",
      "        plt.title(fobj.title)\n",
      "        plt.yscale('log')\n",
      "        fobj.check_B0_grid(eta2, mu_vals, fmt_vals)\n",
      "        # Linear scaling\n",
      "        plt.subplot(2,5,i+6)\n",
      "        fobj.check_B0_grid(eta2, mu_vals, fmt_vals)\n",
      "    plt.tight_layout()\n",
      "    plt.show()\n",
      "    print ''"
     ],
     "language": "python",
     "metadata": {},
     "outputs": []
    },
    {
     "cell_type": "heading",
     "level": 2,
     "metadata": {},
     "source": [
      "3.2 Plot $(\\eta_2, \\chi^2)$ space"
     ]
    },
    {
     "cell_type": "code",
     "collapsed": true,
     "input": [
      "mu_vals = [0, 1./3, 0.5, 1, 1.5, 2]\n",
      "fmt_vals = [':r.', ':g.', ':b.', '-k.', '--c.', '--y.']\n",
      "\n",
      "for fobj, i in zip(gen_tycho(), xrange(13)):\n",
      "    plt.figure(figsize=(8,5))\n",
      "    plt.title(fobj.title)\n",
      "    fobj.check_eta2_grid(mu_vals, fmt_vals)\n",
      "    plt.show()"
     ],
     "language": "python",
     "metadata": {},
     "outputs": []
    },
    {
     "cell_type": "heading",
     "level": 2,
     "metadata": {},
     "source": [
      "3.3 Generate Table 8 with best fits + errors + plots etc..."
     ]
    },
    {
     "cell_type": "code",
     "collapsed": true,
     "input": [
      "mu_vals = [0., 1./3, 0.5, 1, 1.5, 2.]\n",
      "fmt_vals = [':b', ':g', ':r', '-k', '-r', '-g']\n",
      "\n",
      "# Apply fit settings using factory function\n",
      "f_data = mdsp.build_dataf('full', conf_intv=0.683,\n",
      "                          fit_kws={'model_kws':{'rminarc': None,\n",
      "                                                'irmax': 200},\n",
      "                                   'epsfcn': 1e-5,\n",
      "                                   'factor': 10},\n",
      "                          err_kws={'method':'stderr','anneal':True})\n",
      "# Customize fitter settings\n",
      "def fitter_mod(fobj):\n",
      "    #fobj.snr.vs=4e8\n",
      "    return fobj\n",
      "\n",
      "dview.push(dict(f_data=f_data, mu_vals=mu_vals))\n",
      "\n",
      "tables_out = dview.map_async(lambda f: mdsp.generate_tabs(f_data, f, f.title, mu_vals),\n",
      "                 gen_tycho_flmt(fitter_mod, verbose=True))"
     ],
     "language": "python",
     "metadata": {},
     "outputs": []
    },
    {
     "cell_type": "markdown",
     "metadata": {},
     "source": [
      "Print stdout while waiting"
     ]
    },
    {
     "cell_type": "code",
     "collapsed": true,
     "input": [
      "for _s in tables_out.stdout:\n",
      "    print _s\n",
      "    print '\\n','-'*72,'\\n'"
     ],
     "language": "python",
     "metadata": {},
     "outputs": []
    },
    {
     "cell_type": "markdown",
     "metadata": {},
     "source": [
      "Useful debugging attributes: http://ipython.org/ipython-doc/dev/parallel/parallel_details.html"
     ]
    },
    {
     "cell_type": "code",
     "collapsed": false,
     "input": [
      "print tables_out.status\n",
      "print tables_out.elapsed\n",
      "_ = [_cmpl - _strt for _cmpl, _strt in zip(tables_out.completed, tables_out.started)]\n",
      "for _a in _:\n",
      "    print _a"
     ],
     "language": "python",
     "metadata": {},
     "outputs": []
    },
    {
     "cell_type": "code",
     "collapsed": false,
     "input": [
      "tables_out.display_outputs()"
     ],
     "language": "python",
     "metadata": {},
     "outputs": []
    },
    {
     "cell_type": "markdown",
     "metadata": {},
     "source": [
      "Print results when done"
     ]
    },
    {
     "cell_type": "code",
     "collapsed": false,
     "input": [
      "for table, ltable, plist, fobj in tables_out:\n",
      "    print fobj.title\n",
      "    display(table)\n",
      "    mdsp.generate_plots(plist, fobj, fobj.title, mu_vals, fmt_vals)\n",
      "    print ltable, '\\n'"
     ],
     "language": "python",
     "metadata": {},
     "outputs": []
    }
   ],
   "metadata": {}
  }
 ]
}