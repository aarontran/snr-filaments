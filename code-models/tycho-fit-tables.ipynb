{
 "metadata": {
  "name": "",
  "signature": "sha256:669cb0814a740e0a462f1a2bc1e27aeeb87252ac3422501ed734b09cdcc5dee3"
 },
 "nbformat": 3,
 "nbformat_minor": 0,
 "worksheets": [
  {
   "cells": [
    {
     "cell_type": "heading",
     "level": 1,
     "metadata": {},
     "source": [
      "Tycho fitting notebook"
     ]
    },
    {
     "cell_type": "code",
     "collapsed": true,
     "input": [
      "%pylab --no-import-all\n",
      "%matplotlib inline\n",
      "# ('gtk', 'inline', 'osx', 'qt', 'qt4', 'tk', 'wx')\n",
      "from fplot import fplot, show_mplrc_settings\n",
      "from IPython.core.display import display, Image, HTML, Math, Latex\n",
      "\n",
      "from IPython import parallel\n",
      "\n",
      "from __future__ import division\n",
      "\n",
      "import cPickle as pickle\n",
      "import glob\n",
      "\n",
      "import fullmodel_recompile\n",
      "fullmodel_recompile.main()\n",
      "\n",
      "import models as models\n",
      "import models_exec as mex\n",
      "import models_disp as mdsp\n",
      "import parutils\n",
      "import snr_catalog as snrcat\n",
      "\n",
      "# For reference\n",
      "show_mplrc_settings()"
     ],
     "language": "python",
     "metadata": {},
     "outputs": []
    },
    {
     "cell_type": "heading",
     "level": 1,
     "metadata": {},
     "source": [
      "1. Read in data (fwhms, full model grids), interpolate shock velocites"
     ]
    },
    {
     "cell_type": "markdown",
     "metadata": {},
     "source": [
      "A number of file paths are specified here (pre-tabulated FWHMs, Tycho shock velocities, regions' azimuth angles)."
     ]
    },
    {
     "cell_type": "code",
     "collapsed": true,
     "input": [
      "def init_tab(vsvals):\n",
      "    \"\"\"vsvals must be sorted and match filenames\"\"\"\n",
      "    TABS = {}\n",
      "    for fname, vs in zip(sorted(glob.glob('tables/Tycho_gen_2014-08-30_*.pkl')), vsvals):\n",
      "        with open(fname, 'r') as fpkl:\n",
      "            TABS[vs] = pickle.load(fpkl)\n",
      "    return TABS\n",
      "\n",
      "def init_data():\n",
      "    with open('../data/regions-4/fwhms/fwhms.pkl') as fpkl:\n",
      "        regdict = pickle.load(fpkl)\n",
      "    # print regdict[1]['0.7-1kev']['meas'].keys()\n",
      "\n",
      "    labels = ['0.7-1kev', '1-1.7kev', '2-3kev', '3-4.5kev', '4.5-7kev']  # Must be in order\n",
      "    TYCHO_DATA = {}\n",
      "\n",
      "    for n in regdict:\n",
      "        reg = regdict[n]\n",
      "        kevs = np.array([0.7, 1., 2., 3., 4.5])\n",
      "        data = np.array([reg[lab]['meas']['fwhm'] for lab in labels])\n",
      "        eps = np.mean([reg[lab]['meas']['fwhm-errs'] for lab in labels], axis=1)  # Average asymmetric errors\n",
      "\n",
      "        inds = (np.where(np.isfinite(data)))[0]  # Keep NaN data, but filter out using inds\n",
      "\n",
      "        TYCHO_DATA[n] = kevs, data, eps, inds\n",
      "    return TYCHO_DATA\n",
      "\n",
      "def interp_vs():\n",
      "    \"\"\"Interpolated shock velocities, assuming distance 3 kpc to Tycho's SNR\"\"\"\n",
      "    briantab = np.loadtxt('../data/velocs/tycho_velocs.txt')\n",
      "    az_angles = np.loadtxt('../data/regions-4/regions-4-az.txt')\n",
      "\n",
      "    aztab = briantab[:,0]\n",
      "    vstab = briantab[:,1] * 1e5  # Convert km/s to cm/s\n",
      "\n",
      "    TYCHO_VS = {}\n",
      "\n",
      "    # Pad table on each end to avoid edge cases\n",
      "    aztab = np.insert(aztab, [0, len(aztab)], [aztab[-1]-360., aztab[0]+360.])\n",
      "    vstab = np.insert(vstab, [0, len(vstab)], [vstab[-1], vstab[0]])\n",
      "\n",
      "    # Interpolate linearly in Brian's table\n",
      "    for n, az in zip(xrange(len(az_angles)), az_angles):\n",
      "\n",
      "        az = az % 360\n",
      "        ind = np.searchsorted(aztab, az)\n",
      "        slope = (vstab[ind] - vstab[ind-1]) / (aztab[ind] - aztab[ind-1])\n",
      "        vs_interp = vstab[ind-1] + slope * (az - aztab[ind-1])\n",
      "\n",
      "        TYCHO_VS[n+1] = vs_interp * 3/2.3, az  # Scale to 3 kpc (default) and save values\n",
      "    \n",
      "    return TYCHO_VS"
     ],
     "language": "python",
     "metadata": {},
     "outputs": [],
     "prompt_number": 2
    },
    {
     "cell_type": "heading",
     "level": 2,
     "metadata": {},
     "source": [
      "1.1 Store data, create Fitter() generator"
     ]
    },
    {
     "cell_type": "code",
     "collapsed": true,
     "input": [
      "VS_VALS = sorted([4.59e8, 4.76e8, 4.94e8, 5.11e8])  # 2014 August 30 tables\n",
      "TABS = init_tab(VS_VALS)\n",
      "TYCHO_DATA = init_data()\n",
      "TYCHO_VS = interp_vs()\n",
      "\n",
      "def gen_tycho(fmod=None, verbose=True):\n",
      "    for n in TYCHO_DATA:\n",
      "        kevs, data, eps, inds = TYCHO_DATA[n]\n",
      "        vs, az = TYCHO_VS[n]\n",
      "        \n",
      "        # Get tab w/ closest shock veloc. to vs\n",
      "        idx = (np.abs(VS_VALS - vs)).argmin()\n",
      "        vs_key = VS_VALS[idx]\n",
      "        tab = TABS[vs_key]\n",
      "        \n",
      "        # Build fitter object\n",
      "        fobj = mex.Fitter(snrcat.make_tycho(), kevs, data, eps, tab,\n",
      "                          inds=inds, verbose=verbose)\n",
      "        fobj.snr.vs = vs\n",
      "        fobj.title = ('Region {} (using tab(vs={:0.2e});\\n'\n",
      "                      'vs={:0.2e} cm/s, az={:0.1f} deg.)').format(n, vs_key, vs, az)\n",
      "        \n",
      "        if fmod:\n",
      "            fobj = fmod(fobj)\n",
      "        yield fobj"
     ],
     "language": "python",
     "metadata": {},
     "outputs": [],
     "prompt_number": 3
    },
    {
     "cell_type": "heading",
     "level": 2,
     "metadata": {},
     "source": [
      "1.2 Set up clients for parallel computation"
     ]
    },
    {
     "cell_type": "markdown",
     "metadata": {},
     "source": [
      "Possibly useful [SE question](http://stackoverflow.com/q/15289168), and [another](http://stackoverflow.com/q/18086299) (both answered by \"Min\" Ragan-Kelley (`minrk`)).  As it would be useful to view stdout as computation progresses..."
     ]
    },
    {
     "cell_type": "code",
     "collapsed": true,
     "input": [
      "dview = parutils.get_dview()\n",
      "%px import models_disp as mdsp"
     ],
     "language": "python",
     "metadata": {},
     "outputs": []
    },
    {
     "cell_type": "heading",
     "level": 1,
     "metadata": {},
     "source": [
      "2. Simple model fits to Tycho, applied to all regions (no FWHM averaging)"
     ]
    },
    {
     "cell_type": "markdown",
     "metadata": {},
     "source": [
      "Need to account for shock velocity and try seeing what happens if we average.\n",
      "\n",
      "Also, does changing the different FWHM measurement approaches make a difference?  Here we might be able to quantify that.  Tons of questions and numbers and plots to produce and parse here."
     ]
    },
    {
     "cell_type": "code",
     "collapsed": false,
     "input": [
      "mu_vals = [0., 1./3, 0.5, 1, 1.5, 2.]\n",
      "fmt_vals = [':b', ':g', ':r', '-k', '-r', '-g']\n",
      "\n",
      "# Apply fit settings using factory function\n",
      "f_data = mdsp.build_dataf('simp', conf_intv=0.683, fit_kws={},\n",
      "                          err_kws={'method':'manual'})\n",
      "# Customize fitter settings\n",
      "def fitter_mod(fobj):\n",
      "    #fobj.snr.vs=4e8\n",
      "    return fobj\n",
      "\n",
      "dview.push(dict(f_data=f_data, mu_vals=mu_vals))\n",
      "\n",
      "# Perform parallel computation; output is IPython.parallel.client.asyncresult.AsyncMapResult instance\n",
      "tables_out = dview.map_async(lambda f: mdsp.generate_tabs(f_data, f, f.title, mu_vals),\n",
      "                             gen_tycho(fitter_mod, verbose=True))"
     ],
     "language": "python",
     "metadata": {},
     "outputs": [],
     "prompt_number": 7
    },
    {
     "cell_type": "code",
     "collapsed": true,
     "input": [
      "tables_out.display_outputs()\n",
      "#for _s in tables_out.stdout:\n",
      "#    print _s"
     ],
     "language": "python",
     "metadata": {},
     "outputs": []
    },
    {
     "cell_type": "code",
     "collapsed": true,
     "input": [
      "for table, ltable, plist, fobj in tables_out:\n",
      "    print fobj.title\n",
      "    display(table)\n",
      "    mdsp.generate_plots(plist, fobj, fobj.title, mu_vals, fmt_vals)\n",
      "    print ltable, '\\n'"
     ],
     "language": "python",
     "metadata": {},
     "outputs": []
    },
    {
     "cell_type": "heading",
     "level": 2,
     "metadata": {},
     "source": [
      "2.2 Plot chisqr space"
     ]
    },
    {
     "cell_type": "code",
     "collapsed": true,
     "input": [
      "mu_vals = [0, 1./3, 0.5, 1, 1.5, 2]  # Plotting more mu values shows tendency for best fits to run off to mu=50...\n",
      "fmt_vals = [':r.', ':g.', ':b.', '-k.', '--c.', '--y.']\n",
      "eta2_vals = np.logspace(-3, 3, num=100, base=10)  # One extra decade in each direction, vs. gridded eta2...\n",
      "\n",
      "for fobj in gen_tycho():\n",
      "    plt.figure(figsize(5,3.7))\n",
      "    plt.title(fobj.title)\n",
      "    fobj.check_eta2_simp(eta2_vals, mu_vals, fmt_vals)\n",
      "    plt.show()"
     ],
     "language": "python",
     "metadata": {},
     "outputs": []
    },
    {
     "cell_type": "heading",
     "level": 1,
     "metadata": {},
     "source": [
      "3. Full model fits to Tycho data"
     ]
    },
    {
     "cell_type": "markdown",
     "metadata": {},
     "source": [
      "Code for sections 3.1, 3.2 is out of date"
     ]
    },
    {
     "cell_type": "heading",
     "level": 2,
     "metadata": {},
     "source": [
      "3.1 Plot $(B_0, \\chi^2)$ space to check that grid resolves best $B_0$ (for various $\\mu$, $\\eta_2$)"
     ]
    },
    {
     "cell_type": "markdown",
     "metadata": {},
     "source": [
      "Subplots correspond to indiv. regions; this only plots the first 5 regions."
     ]
    },
    {
     "cell_type": "code",
     "collapsed": false,
     "input": [
      "mu_vals = [0, 1./3, 0.5, 1, 1.5, 2]\n",
      "fmt_vals = [':r.', ':g.', ':b.', '-k.', '--c.', '--y.']\n",
      "eta2_vals = np.sort(TABS[VS_VALS[0]][0].keys())  # Assumes same eta2 values for all mu\n",
      "\n",
      "for eta2 in eta2_vals[::10]:\n",
      "    header = 'Eta2 = {:0.2f}'.format(eta2)\n",
      "    print header\n",
      "    print '-'*len(header)\n",
      "    plt.figure(figsize=(20,8))\n",
      "    for fobj, i in zip(gen_tycho(), xrange(5)):\n",
      "        # Log scaling\n",
      "        plt.subplot(2,5,i+1)\n",
      "        plt.title(fobj.title)\n",
      "        plt.yscale('log')\n",
      "        fobj.check_B0_grid(eta2, mu_vals, fmt_vals)\n",
      "        # Linear scaling\n",
      "        plt.subplot(2,5,i+6)\n",
      "        fobj.check_B0_grid(eta2, mu_vals, fmt_vals)\n",
      "    plt.tight_layout()\n",
      "    plt.show()\n",
      "    print ''"
     ],
     "language": "python",
     "metadata": {},
     "outputs": []
    },
    {
     "cell_type": "heading",
     "level": 2,
     "metadata": {},
     "source": [
      "3.2 Plot $(\\eta_2, \\chi^2)$ space"
     ]
    },
    {
     "cell_type": "code",
     "collapsed": true,
     "input": [
      "mu_vals = [0, 1./3, 0.5, 1, 1.5, 2]\n",
      "fmt_vals = [':r.', ':g.', ':b.', '-k.', '--c.', '--y.']\n",
      "\n",
      "for fobj, i in zip(gen_tycho(), xrange(13)):\n",
      "    plt.figure(figsize=(8,5))\n",
      "    plt.title(fobj.title)\n",
      "    fobj.check_eta2_grid(mu_vals, fmt_vals)\n",
      "    plt.show()"
     ],
     "language": "python",
     "metadata": {},
     "outputs": []
    },
    {
     "cell_type": "heading",
     "level": 2,
     "metadata": {},
     "source": [
      "3.3 Generate Table 8 with best fits + errors + plots etc..."
     ]
    },
    {
     "cell_type": "markdown",
     "metadata": {},
     "source": [
      "NOT currently fitting from grid, just showing best grid values + naive, non-annealed errors"
     ]
    },
    {
     "cell_type": "markdown",
     "metadata": {},
     "source": [
      "Current estimate of how long this takes: for each filament, for each $\\mu$, we have about `(10+10+1)*20` function calls.  Fit about 10 times to get a good grid value from fit; fit about 10 times to anneal errors; fit 1 time to plot.\n",
      "\n",
      "Then, scaling by mu and filaments, that's `5 * 6 * (21 * 20) * 3 sec. = 10.5 hr.`\n",
      "\n",
      "For Tycho, multiply that by like 4 (5 sec. rather than 3 sec., and 13 regions rather than 5)."
     ]
    },
    {
     "cell_type": "markdown",
     "metadata": {},
     "source": [
      "First, double check the available configuration options (in docstring)"
     ]
    },
    {
     "cell_type": "code",
     "collapsed": true,
     "input": [
      "mu_vals = [0., 1./3, 0.5, 1, 1.5, 2.]\n",
      "fmt_vals = [':b', ':g', ':r', '-k', '-r', '-g']\n",
      "\n",
      "# Apply fit settings using factory function\n",
      "f_data = mdsp.build_dataf('full', conf_intv=0.683,\n",
      "                          fit_kws={'model_kws':{'rminarc': None,\n",
      "                                                'irmax': 200},\n",
      "                                   'epsfcn': 1e-5,\n",
      "                                   'factor': 10},\n",
      "                          err_kws={'method':'manual','anneal':True})\n",
      "# Customize fitter settings\n",
      "def fitter_mod(fobj):\n",
      "    #fobj.snr.vs=4e8\n",
      "    return fobj\n",
      "\n",
      "dview.push(dict(f_data=f_data, mu_vals=mu_vals))\n",
      "\n",
      "tables_out = dview.map_async(lambda f: mdsp.generate_tabs(f_data, f, f.title, mu_vals),\n",
      "                 gen_tycho(fitter_mod, verbose=True))"
     ],
     "language": "python",
     "metadata": {},
     "outputs": [],
     "prompt_number": 6
    },
    {
     "cell_type": "code",
     "collapsed": true,
     "input": [
      "for _s in tables_out.stdout:\n",
      "    print _s, '\\n'\n",
      "    print '-'*30\n",
      "    print '-'*30, '\\n'"
     ],
     "language": "python",
     "metadata": {},
     "outputs": []
    },
    {
     "cell_type": "markdown",
     "metadata": {},
     "source": [
      "Run this cell (!).  This is to have error annealing tested out..."
     ]
    },
    {
     "cell_type": "code",
     "collapsed": false,
     "input": [
      "for table, ltable, plist, fobj in tables_out:\n",
      "    print fobj.title\n",
      "    display(table)\n",
      "    mdsp.generate_plots(plist, fobj, fobj.title, mu_vals, fmt_vals)\n",
      "    print ltable, '\\n'"
     ],
     "language": "python",
     "metadata": {},
     "outputs": []
    },
    {
     "cell_type": "markdown",
     "metadata": {},
     "source": [
      "Below: this is w/ stderr only."
     ]
    },
    {
     "cell_type": "code",
     "collapsed": true,
     "input": [
      "for table, ltable, plist, fobj in tables_out:\n",
      "    print fobj.title\n",
      "    display(table)\n",
      "    mdsp.generate_plots(plist, fobj, fobj.title, mu_vals, fmt_vals)\n",
      "    print ltable, '\\n'"
     ],
     "language": "python",
     "metadata": {},
     "outputs": [
      {
       "output_type": "stream",
       "stream": "stdout",
       "text": [
        "Region 1 (using tab(vs=5.11e+08);\n",
        "vs=5.05e+08 cm/s, az=265.2 deg.)\n"
       ]
      },
      {
       "html": [
        "<table style='font-family: monospace; font-size: 10pt'><tr><td>mu</td><td>eta2</td><td>B0</td><td>chisqr</td></tr><tr><td>0.00</td><td>19.079 +357.85/--357.85 (std: &plusmn; 376.924)</td><td>784 +2.42e+03/--2.42e+03 (std: &plusmn; 3202.860)</td><td>57.5590</td></tr><tr><td>0.33</td><td>55.907 +1206.37/--1206.37 (std: &plusmn; 1262.272)</td><td>931 +3.69e+03/--3.69e+03 (std: &plusmn; 4618.517)</td><td>34.6006</td></tr><tr><td>0.50</td><td>91.574 +2155.59/--2155.59 (std: &plusmn; 2247.165)</td><td>1.01e+03 +4.54e+03/--4.54e+03 (std: &plusmn; 5543.249)</td><td>25.5737</td></tr><tr><td>1.00</td><td>366.689 +10582.61/--10582.61 (std: &plusmn; 10949.303)</td><td>1.26e+03 +7.51e+03/--7.51e+03 (std: &plusmn; 8776.855)</td><td>9.7750</td></tr><tr><td>1.50</td><td>22.913 +-5.94/-5.94 (std: &plusmn; 16.978)</td><td>623 +-531/-531 (std: &plusmn; 92.220)</td><td>8.7937</td></tr><tr><td>2.00</td><td>11.377 +-7.08/-7.08 (std: &plusmn; 4.298)</td><td>512 +-480/-480 (std: &plusmn; 31.815)</td><td>9.5862</td></tr></table>"
       ],
       "metadata": {},
       "output_type": "display_data",
       "text": [
        "[['mu', 'eta2', 'B0', 'chisqr'],\n",
        " ['0.00',\n",
        "  '19.079 +357.85/--357.85 (std: &plusmn; 376.924)',\n",
        "  '784 +2.42e+03/--2.42e+03 (std: &plusmn; 3202.860)',\n",
        "  '57.5590'],\n",
        " ['0.33',\n",
        "  '55.907 +1206.37/--1206.37 (std: &plusmn; 1262.272)',\n",
        "  '931 +3.69e+03/--3.69e+03 (std: &plusmn; 4618.517)',\n",
        "  '34.6006'],\n",
        " ['0.50',\n",
        "  '91.574 +2155.59/--2155.59 (std: &plusmn; 2247.165)',\n",
        "  '1.01e+03 +4.54e+03/--4.54e+03 (std: &plusmn; 5543.249)',\n",
        "  '25.5737'],\n",
        " ['1.00',\n",
        "  '366.689 +10582.61/--10582.61 (std: &plusmn; 10949.303)',\n",
        "  '1.26e+03 +7.51e+03/--7.51e+03 (std: &plusmn; 8776.855)',\n",
        "  '9.7750'],\n",
        " ['1.50',\n",
        "  '22.913 +-5.94/-5.94 (std: &plusmn; 16.978)',\n",
        "  '623 +-531/-531 (std: &plusmn; 92.220)',\n",
        "  '8.7937'],\n",
        " ['2.00',\n",
        "  '11.377 +-7.08/-7.08 (std: &plusmn; 4.298)',\n",
        "  '512 +-480/-480 (std: &plusmn; 31.815)',\n",
        "  '9.5862']]"
       ]
      },
      {
       "output_type": "stream",
       "stream": "stdout",
       "text": [
        "\tFull model: B0 = 784.180 muG; eta2 = 19.079; mu = 0.000; \n",
        "\tinit rminarc = [ 20.  20.  20.  20.  20.  20.  20.  20.  20.  20.]; adapted = [ 3.68461413  3.29523364  2.93488902  2.49409157  2.26945671  2.05476712\n",
        "  1.9482739   1.81870536  1.68534188  1.65865403]\n",
        "\tFull model: B0 = 930.866 muG; eta2 = 55.907; mu = 0.333; "
       ]
      },
      {
       "output_type": "stream",
       "stream": "stdout",
       "text": [
        "\n",
        "\tinit rminarc = [ 20.  20.  20.  20.  20.  20.  20.  20.  20.  20.]; adapted = [ 3.47224048  3.17504637  2.8895763   2.52396907  2.33620241  2.15585901\n",
        "  2.06222263  1.94289092  1.82983761  1.80667782]\n",
        "\tFull model: B0 = 1007.666 muG; eta2 = 91.574; mu = 0.500; "
       ]
      },
      {
       "output_type": "stream",
       "stream": "stdout",
       "text": [
        "\n",
        "\tinit rminarc = [ 20.  20.  20.  20.  20.  20.  20.  20.  20.  20.]; adapted = [ 3.36872359  3.11269433  2.86118998  2.53593571  2.3670993   2.20581761\n",
        "  2.12068469  2.00971404  1.90229586  1.88164066]\n",
        "\tFull model: B0 = 1262.650 muG; eta2 = 366.689; mu = 1.000; "
       ]
      },
      {
       "output_type": "stream",
       "stream": "stdout",
       "text": [
        "\n",
        "\tinit rminarc = [ 20.  20.  20.  20.  20.  20.  20.  20.  20.  20.]; adapted = [ 3.06584979  2.91931796  2.75310435  2.55483806  2.44687384  2.3446129\n",
        "  2.29012452  2.2160936   2.13853663  2.12266982]\n",
        "\tFull model: B0 = 622.867 muG; eta2 = 22.913; mu = 1.500; "
       ]
      },
      {
       "output_type": "stream",
       "stream": "stdout",
       "text": [
        "\n",
        "\tinit rminarc = [ 20.  20.  20.  20.  20.  20.  20.  20.  20.  20.]; adapted = [ 3.08426779  2.89688501  2.73521566  2.55139398  2.46594352  2.3923923\n",
        "  2.3575166   2.3130274   2.26933612  2.26073849]\n",
        "\tFull model: B0 = 512.082 muG; eta2 = 11.377; mu = 2.000; "
       ]
      },
      {
       "output_type": "stream",
       "stream": "stdout",
       "text": [
        "\n",
        "\tinit rminarc = [ 20.  20.  20.  20.  20.  20.  20.  20.  20.  20.]; adapted = [ 3.24268548  2.95859025  2.74801353  2.53107702  2.44159891  2.37763906\n",
        "  2.3519299   2.32510128  2.30577211  2.30285321]\n"
       ]
      },
      {
       "metadata": {},
       "output_type": "display_data",
       "png": "[encoded data removed]",
       "text": [
        "<matplotlib.figure.Figure at 0x10c374950>"
       ]
      },
      {
       "output_type": "stream",
       "stream": "stdout",
       "text": [
        "\\begin{tabular}{@{}rllr@{}}\n",
        "\\toprule\n",
        "{} & \\multicolumn{3}{c}{Region 1 (using tab(vs=5.11e+08);\n",
        "vs=5.05e+08 cm/s, az=265.2 deg.)} \\\\\n",
        "\\cmidrule(l){2-4}\n",
        "$\\mu$ (-) & $\\eta_2$ (-) & $B_0$ ($\\mu$G) & $\\chi^2$\\\\\n",
        "\\midrule\n",
        "0.00 & ${2 \\times 10^{1}}^{+3.6 \\times 10^{2}}_{--3.6 \\times 10^{2}}$ & ${8 \\times 10^{2}}^{+2.4 \\times 10^{3}}_{--2.4 \\times 10^{3}}$ & 57.5590\\\\\n",
        "0.33 & ${6 \\times 10^{1}}^{+1.2 \\times 10^{3}}_{--1.2 \\times 10^{3}}$ & ${9 \\times 10^{2}}^{+3.7 \\times 10^{3}}_{--3.7 \\times 10^{3}}$ & 34.6006\\\\\n",
        "0.50 & ${9 \\times 10^{1}}^{+2.2 \\times 10^{3}}_{--2.2 \\times 10^{3}}$ & ${1 \\times 10^{3}}^{+4.5 \\times 10^{3}}_{--4.5 \\times 10^{3}}$ & 25.5737\\\\\n",
        "1.00 & ${4 \\times 10^{2}}^{+1.1 \\times 10^{4}}_{--1.1 \\times 10^{4}}$ & ${1.3 \\times 10^{3}}^{+7.5 \\times 10^{3}}_{--7.5 \\times 10^{3}}$ & 9.7750\\\\\n",
        "1.50 & ${22.9}^{+-5.9}_{-5.9}$ & ${6.2 \\times 10^{2}}^{+-5.3 \\times 10^{2}}_{-5.3 \\times 10^{2}}$ & 8.7937\\\\\n",
        "2.00 & ${11.4}^{+-7.1}_{-7.1}$ & ${5.1 \\times 10^{2}}^{+-4.8 \\times 10^{2}}_{-4.8 \\times 10^{2}}$ & 9.5862\\\\\n",
        "\\bottomrule\n",
        "\\end{tabular} \n",
        "\n",
        "Region 2 (using tab(vs=4.94e+08);\n",
        "vs=4.98e+08 cm/s, az=275.5 deg.)\n"
       ]
      },
      {
       "html": [
        "<table style='font-family: monospace; font-size: 10pt'><tr><td>mu</td><td>eta2</td><td>B0</td><td>chisqr</td></tr><tr><td>0.00</td><td>0.012 +0.06/--0.06 (std: &plusmn; 0.068)</td><td>294 +-274/-274 (std: &plusmn; 20.677)</td><td>52.1094</td></tr><tr><td>0.33</td><td>0.006 +0.04/--0.04 (std: &plusmn; 0.043)</td><td>293 +-279/-279 (std: &plusmn; 13.786)</td><td>51.8148</td></tr><tr><td>0.50</td><td>0.010 +0.04/--0.04 (std: &plusmn; 0.049)</td><td>293 +-281/-281 (std: &plusmn; 12.078)</td><td>51.8112</td></tr><tr><td>1.00</td><td>0.002 +0.03/--0.03 (std: &plusmn; 0.029)</td><td>293 +-285/-285 (std: &plusmn; 7.597)</td><td>51.5271</td></tr><tr><td>1.50</td><td>0.087 +0.03/--0.03 (std: &plusmn; 0.114)</td><td>286 +-277/-277 (std: &plusmn; 8.480)</td><td>50.9104</td></tr><tr><td>2.00</td><td>0.055 +0.04/--0.04 (std: &plusmn; 0.094)</td><td>283 +-276/-276 (std: &plusmn; 6.947)</td><td>50.1066</td></tr></table>"
       ],
       "metadata": {},
       "output_type": "display_data",
       "text": [
        "[['mu', 'eta2', 'B0', 'chisqr'],\n",
        " ['0.00',\n",
        "  '0.012 +0.06/--0.06 (std: &plusmn; 0.068)',\n",
        "  '294 +-274/-274 (std: &plusmn; 20.677)',\n",
        "  '52.1094'],\n",
        " ['0.33',\n",
        "  '0.006 +0.04/--0.04 (std: &plusmn; 0.043)',\n",
        "  '293 +-279/-279 (std: &plusmn; 13.786)',\n",
        "  '51.8148'],\n",
        " ['0.50',\n",
        "  '0.010 +0.04/--0.04 (std: &plusmn; 0.049)',\n",
        "  '293 +-281/-281 (std: &plusmn; 12.078)',\n",
        "  '51.8112'],\n",
        " ['1.00',\n",
        "  '0.002 +0.03/--0.03 (std: &plusmn; 0.029)',\n",
        "  '293 +-285/-285 (std: &plusmn; 7.597)',\n",
        "  '51.5271'],\n",
        " ['1.50',\n",
        "  '0.087 +0.03/--0.03 (std: &plusmn; 0.114)',\n",
        "  '286 +-277/-277 (std: &plusmn; 8.480)',\n",
        "  '50.9104'],\n",
        " ['2.00',\n",
        "  '0.055 +0.04/--0.04 (std: &plusmn; 0.094)',\n",
        "  '283 +-276/-276 (std: &plusmn; 6.947)',\n",
        "  '50.1066']]"
       ]
      },
      {
       "output_type": "stream",
       "stream": "stdout",
       "text": [
        "\tFull model: B0 = 294.398 muG; eta2 = 0.012; mu = 0.000; \n",
        "\tinit rminarc = [ 20.  20.  20.  20.  20.  20.  20.  20.  20.]; adapted = [ 5.24906474  4.70638536  3.56050019  3.35454352  2.87514636  2.76215927\n",
        "  2.4933654   2.29402462  2.25140631]\n",
        "\tFull model: B0 = 292.746 muG; eta2 = 0.006; mu = 0.333; "
       ]
      },
      {
       "output_type": "stream",
       "stream": "stdout",
       "text": [
        "\n",
        "\tinit rminarc = [ 20.  20.  20.  20.  20.  20.  20.  20.  20.]; adapted = [ 5.24754392  4.71759449  3.58378296  3.35505063  2.87673215  2.75486183\n",
        "  2.4951888   2.29593696  2.25042028]\n",
        "\tFull model: B0 = 292.737 muG; eta2 = 0.010; mu = 0.500; "
       ]
      },
      {
       "output_type": "stream",
       "stream": "stdout",
       "text": [
        "\n",
        "\tinit rminarc = [ 20.  20.  20.  20.  20.  20.  20.  20.  20.]; adapted = [ 5.22721083  4.69156151  3.55576967  3.33039996  2.85515103  2.75162849\n",
        "  2.47863789  2.2821174   2.2385855 ]\n",
        "\tFull model: B0 = 293.001 muG; eta2 = 0.002; mu = 1.000; "
       ]
      },
      {
       "output_type": "stream",
       "stream": "stdout",
       "text": [
        "\n",
        "\tinit rminarc = [ 20.  20.  20.  20.  20.  20.  20.  20.  20.]; adapted = [ 5.21283297  4.6805256   3.53921962  3.31694427  2.8498381   2.71378121\n",
        "  2.45629733  2.25877046  2.21559842]\n",
        "\tFull model: B0 = 285.886 muG; eta2 = 0.087; mu = 1.500; "
       ]
      },
      {
       "output_type": "stream",
       "stream": "stdout",
       "text": [
        "\n",
        "\tinit rminarc = [ 20.  20.  20.  20.  20.  20.  20.  20.  20.]; adapted = [ 5.25088217  4.70278966  3.55715     3.35664235  2.88973758  2.78176727\n",
        "  2.53199467  2.34633396  2.30705281]\n",
        "\tFull model: B0 = 283.356 muG; eta2 = 0.055; mu = 2.000; "
       ]
      },
      {
       "output_type": "stream",
       "stream": "stdout",
       "text": [
        "\n",
        "\tinit rminarc = [ 20.  20.  20.  20.  20.  20.  20.  20.  20.]; adapted = [ 5.28692717  4.72787305  3.5564179   3.34967648  2.8787511   2.76963334\n",
        "  2.51341072  2.32408699  2.28335725]\n"
       ]
      },
      {
       "metadata": {},
       "output_type": "display_data",
       "png": "[encoded data removed]",
       "text": [
        "<matplotlib.figure.Figure at 0x10c373590>"
       ]
      },
      {
       "output_type": "stream",
       "stream": "stdout",
       "text": [
        "\\begin{tabular}{@{}rllr@{}}\n",
        "\\toprule\n",
        "{} & \\multicolumn{3}{c}{Region 2 (using tab(vs=4.94e+08);\n",
        "vs=4.98e+08 cm/s, az=275.5 deg.)} \\\\\n",
        "\\cmidrule(l){2-4}\n",
        "$\\mu$ (-) & $\\eta_2$ (-) & $B_0$ ($\\mu$G) & $\\chi^2$\\\\\n",
        "\\midrule\n",
        "0.00 & ${0.012}^{+0.056}_{--0.056}$ & ${2.9 \\times 10^{2}}^{+-2.7 \\times 10^{2}}_{-2.7 \\times 10^{2}}$ & 52.1094\\\\\n",
        "0.33 & ${0.006}^{+0.037}_{--0.037}$ & ${2.9 \\times 10^{2}}^{+-2.8 \\times 10^{2}}_{-2.8 \\times 10^{2}}$ & 51.8148\\\\\n",
        "0.50 & ${0.01}^{+0.04}_{--0.04}$ & ${2.9 \\times 10^{2}}^{+-2.8 \\times 10^{2}}_{-2.8 \\times 10^{2}}$ & 51.8112\\\\\n",
        "1.00 & ${0.002}^{+0.026}_{--0.026}$ & ${2.9 \\times 10^{2}}^{+-2.9 \\times 10^{2}}_{-2.9 \\times 10^{2}}$ & 51.5271\\\\\n",
        "1.50 & ${0.087}^{+0.026}_{--0.026}$ & ${2.9 \\times 10^{2}}^{+-2.8 \\times 10^{2}}_{-2.8 \\times 10^{2}}$ & 50.9104\\\\\n",
        "2.00 & ${0.055}^{+0.039}_{--0.039}$ & ${2.8 \\times 10^{2}}^{+-2.8 \\times 10^{2}}_{-2.8 \\times 10^{2}}$ & 50.1066\\\\\n",
        "\\bottomrule\n",
        "\\end{tabular} \n",
        "\n",
        "Region 3 (using tab(vs=4.94e+08);\n",
        "vs=4.90e+08 cm/s, az=282.9 deg.)\n"
       ]
      },
      {
       "html": [
        "<table style='font-family: monospace; font-size: 10pt'><tr><td>mu</td><td>eta2</td><td>B0</td><td>chisqr</td></tr><tr><td>0.00</td><td>19.569 +246.17/--246.17 (std: &plusmn; 265.739)</td><td>722 +1.31e+03/--1.31e+03 (std: &plusmn; 2030.628)</td><td>46.7019</td></tr><tr><td>0.33</td><td>54.140 +998.58/--998.58 (std: &plusmn; 1052.723)</td><td>847 +2.78e+03/--2.78e+03 (std: &plusmn; 3623.340)</td><td>31.7555</td></tr><tr><td>0.50</td><td>85.807 +1803.32/--1803.32 (std: &plusmn; 1889.132)</td><td>910 +3.59e+03/--3.59e+03 (std: &plusmn; 4496.247)</td><td>27.2708</td></tr><tr><td>1.00</td><td>12.766 +-1.86/-1.86 (std: &plusmn; 10.903)</td><td>551 +-459/-459 (std: &plusmn; 91.943)</td><td>24.5305</td></tr><tr><td>1.50</td><td>5.917 +-3.49/-3.49 (std: &plusmn; 2.431)</td><td>448 +-419/-419 (std: &plusmn; 28.509)</td><td>24.7774</td></tr><tr><td>2.00</td><td>4.845 +-3.39/-3.39 (std: &plusmn; 1.459)</td><td>414 +-398/-398 (std: &plusmn; 16.090)</td><td>25.7678</td></tr></table>"
       ],
       "metadata": {},
       "output_type": "display_data",
       "text": [
        "[['mu', 'eta2', 'B0', 'chisqr'],\n",
        " ['0.00',\n",
        "  '19.569 +246.17/--246.17 (std: &plusmn; 265.739)',\n",
        "  '722 +1.31e+03/--1.31e+03 (std: &plusmn; 2030.628)',\n",
        "  '46.7019'],\n",
        " ['0.33',\n",
        "  '54.140 +998.58/--998.58 (std: &plusmn; 1052.723)',\n",
        "  '847 +2.78e+03/--2.78e+03 (std: &plusmn; 3623.340)',\n",
        "  '31.7555'],\n",
        " ['0.50',\n",
        "  '85.807 +1803.32/--1803.32 (std: &plusmn; 1889.132)',\n",
        "  '910 +3.59e+03/--3.59e+03 (std: &plusmn; 4496.247)',\n",
        "  '27.2708'],\n",
        " ['1.00',\n",
        "  '12.766 +-1.86/-1.86 (std: &plusmn; 10.903)',\n",
        "  '551 +-459/-459 (std: &plusmn; 91.943)',\n",
        "  '24.5305'],\n",
        " ['1.50',\n",
        "  '5.917 +-3.49/-3.49 (std: &plusmn; 2.431)',\n",
        "  '448 +-419/-419 (std: &plusmn; 28.509)',\n",
        "  '24.7774'],\n",
        " ['2.00',\n",
        "  '4.845 +-3.39/-3.39 (std: &plusmn; 1.459)',\n",
        "  '414 +-398/-398 (std: &plusmn; 16.090)',\n",
        "  '25.7678']]"
       ]
      },
      {
       "output_type": "stream",
       "stream": "stdout",
       "text": [
        "\tFull model: B0 = 721.907 muG; eta2 = 19.569; mu = 0.000; \n",
        "\tinit rminarc = [ 20.  20.  20.  20.  20.  20.  20.  20.  20.  20.]; adapted = [ 4.15026006  3.70143153  3.29065661  2.85188483  2.58873117  2.34602345\n",
        "  2.2242547   2.06445134  1.91116292  1.88270045]\n",
        "\tFull model: B0 = 847.133 muG; eta2 = 54.140; mu = 0.333; "
       ]
      },
      {
       "output_type": "stream",
       "stream": "stdout",
       "text": [
        "\n",
        "\tinit rminarc = [ 20.  20.  20.  20.  20.  20.  20.  20.  20.  20.]; adapted = [ 3.90488852  3.56073023  3.23817645  2.88557287  2.66705531  2.45693938\n",
        "  2.35368492  2.21733228  2.0774525   2.04957906]\n",
        "\tFull model: B0 = 910.421 muG; eta2 = 85.807; mu = 0.500; "
       ]
      },
      {
       "output_type": "stream",
       "stream": "stdout",
       "text": [
        "\n",
        "\tinit rminarc = [ 20.  20.  20.  20.  20.  20.  20.  20.  20.  20.]; adapted = [ 3.7867883   3.48884575  3.2088493   2.89706663  2.70398446  2.51399053\n",
        "  2.41740458  2.29502985  2.16721684  2.14130517]\n",
        "\tFull model: B0 = 550.594 muG; eta2 = 12.766; mu = 1.000; "
       ]
      },
      {
       "output_type": "stream",
       "stream": "stdout",
       "text": [
        "\n",
        "\tinit rminarc = [ 20.  20.  20.  20.  20.  20.  20.  20.  20.  20.]; adapted = [ 3.71590956  3.41965119  3.16340349  2.89897478  2.76332621  2.61338031\n",
        "  2.53700722  2.43938497  2.34576189  2.32700786]\n",
        "\tFull model: B0 = 447.960 muG; eta2 = 5.917; mu = 1.500; "
       ]
      },
      {
       "output_type": "stream",
       "stream": "stdout",
       "text": [
        "\n",
        "\tinit rminarc = [ 20.  20.  20.  20.  20.  20.  20.  20.  20.  20.]; adapted = [ 3.86947683  3.478809    3.16532162  2.87920374  2.75322799  2.61649629\n",
        "  2.55054235  2.47022558  2.39681322  2.38326825]\n",
        "\tFull model: B0 = 413.785 muG; eta2 = 4.845; mu = 2.000; "
       ]
      },
      {
       "output_type": "stream",
       "stream": "stdout",
       "text": [
        "\n",
        "\tinit rminarc = [ 20.  20.  20.  20.  20.  20.  20.  20.  20.  20.]; adapted = [ 3.99797913  3.53294389  3.16862598  2.85945914  2.73498139  2.6076508\n",
        "  2.55142149  2.48883396  2.43831146  2.42971679]\n"
       ]
      },
      {
       "metadata": {},
       "output_type": "display_data",
       "png": "[encoded data removed]",
       "text": [
        "<matplotlib.figure.Figure at 0x10c2f3fd0>"
       ]
      },
      {
       "output_type": "stream",
       "stream": "stdout",
       "text": [
        "\\begin{tabular}{@{}rllr@{}}\n",
        "\\toprule\n",
        "{} & \\multicolumn{3}{c}{Region 3 (using tab(vs=4.94e+08);\n",
        "vs=4.90e+08 cm/s, az=282.9 deg.)} \\\\\n",
        "\\cmidrule(l){2-4}\n",
        "$\\mu$ (-) & $\\eta_2$ (-) & $B_0$ ($\\mu$G) & $\\chi^2$\\\\\n",
        "\\midrule\n",
        "0.00 & ${2 \\times 10^{1}}^{+2.5 \\times 10^{2}}_{--2.5 \\times 10^{2}}$ & ${7 \\times 10^{2}}^{+1.3 \\times 10^{3}}_{--1.3 \\times 10^{3}}$ & 46.7019\\\\\n",
        "0.33 & ${5 \\times 10^{1}}^{+1 \\times 10^{3}}_{--1 \\times 10^{3}}$ & ${8 \\times 10^{2}}^{+2.8 \\times 10^{3}}_{--2.8 \\times 10^{3}}$ & 31.7555\\\\\n",
        "0.50 & ${9 \\times 10^{1}}^{+1.8 \\times 10^{3}}_{--1.8 \\times 10^{3}}$ & ${9 \\times 10^{2}}^{+3.6 \\times 10^{3}}_{--3.6 \\times 10^{3}}$ & 27.2708\\\\\n",
        "1.00 & ${12.8}^{+-1.9}_{-1.9}$ & ${5.5 \\times 10^{2}}^{+-4.6 \\times 10^{2}}_{-4.6 \\times 10^{2}}$ & 24.5305\\\\\n",
        "1.50 & ${5.9}^{+-3.5}_{-3.5}$ & ${4.5 \\times 10^{2}}^{+-4.2 \\times 10^{2}}_{-4.2 \\times 10^{2}}$ & 24.7774\\\\\n",
        "2.00 & ${4.8}^{+-3.4}_{-3.4}$ & ${4.1 \\times 10^{2}}^{+-4 \\times 10^{2}}_{-4 \\times 10^{2}}$ & 25.7678\\\\\n",
        "\\bottomrule\n",
        "\\end{tabular} \n",
        "\n",
        "Region 4 (using tab(vs=4.59e+08);\n",
        "vs=4.56e+08 cm/s, az=313.1 deg.)\n"
       ]
      },
      {
       "html": [
        "<table style='font-family: monospace; font-size: 10pt'><tr><td>mu</td><td>eta2</td><td>B0</td><td>chisqr</td></tr><tr><td>0.00</td><td>16.417 +165.04/--165.04 (std: &plusmn; 181.454)</td><td>756 +970/--970 (std: &plusmn; 1726.126)</td><td>210.6186</td></tr><tr><td>0.33</td><td>46.458 +622.28/--622.28 (std: &plusmn; 668.742)</td><td>889 +1.92e+03/--1.92e+03 (std: &plusmn; 2808.284)</td><td>142.5939</td></tr><tr><td>0.50</td><td>73.569 +1094.55/--1094.55 (std: &plusmn; 1168.118)</td><td>953 +2.44e+03/--2.44e+03 (std: &plusmn; 3388.980)</td><td>113.0600</td></tr><tr><td>1.00</td><td>258.842 +3921.85/--3921.85 (std: &plusmn; 4180.688)</td><td>1.15e+03 +3.18e+03/--3.18e+03 (std: &plusmn; 4328.621)</td><td>46.0522</td></tr><tr><td>1.50</td><td>366.760 +1307.11/--1307.11 (std: &plusmn; 1673.870)</td><td>1.13e+03 +86.1/--86.1 (std: &plusmn; 1220.807)</td><td>16.1072</td></tr><tr><td>2.00</td><td>26.704 +-16.55/-16.55 (std: &plusmn; 10.153)</td><td>581 +-537/-537 (std: &plusmn; 43.435)</td><td>10.6547</td></tr></table>"
       ],
       "metadata": {},
       "output_type": "display_data",
       "text": [
        "[['mu', 'eta2', 'B0', 'chisqr'],\n",
        " ['0.00',\n",
        "  '16.417 +165.04/--165.04 (std: &plusmn; 181.454)',\n",
        "  '756 +970/--970 (std: &plusmn; 1726.126)',\n",
        "  '210.6186'],\n",
        " ['0.33',\n",
        "  '46.458 +622.28/--622.28 (std: &plusmn; 668.742)',\n",
        "  '889 +1.92e+03/--1.92e+03 (std: &plusmn; 2808.284)',\n",
        "  '142.5939'],\n",
        " ['0.50',\n",
        "  '73.569 +1094.55/--1094.55 (std: &plusmn; 1168.118)',\n",
        "  '953 +2.44e+03/--2.44e+03 (std: &plusmn; 3388.980)',\n",
        "  '113.0600'],\n",
        " ['1.00',\n",
        "  '258.842 +3921.85/--3921.85 (std: &plusmn; 4180.688)',\n",
        "  '1.15e+03 +3.18e+03/--3.18e+03 (std: &plusmn; 4328.621)',\n",
        "  '46.0522'],\n",
        " ['1.50',\n",
        "  '366.760 +1307.11/--1307.11 (std: &plusmn; 1673.870)',\n",
        "  '1.13e+03 +86.1/--86.1 (std: &plusmn; 1220.807)',\n",
        "  '16.1072'],\n",
        " ['2.00',\n",
        "  '26.704 +-16.55/-16.55 (std: &plusmn; 10.153)',\n",
        "  '581 +-537/-537 (std: &plusmn; 43.435)',\n",
        "  '10.6547']]"
       ]
      },
      {
       "output_type": "stream",
       "stream": "stdout",
       "text": [
        "\tFull model: B0 = 756.386 muG; eta2 = 16.417; mu = 0.000; \n",
        "\tinit rminarc = [ 20.  20.  20.  20.  20.  20.  20.  20.  20.  20.]; adapted = [ 3.57283342  3.19949284  2.84744158  2.41001859  2.19291207  1.98586695\n",
        "  1.887204    1.75993157  1.62999465  1.60432249]\n",
        "\tFull model: B0 = 888.601 muG; eta2 = 46.458; mu = 0.333; "
       ]
      },
      {
       "output_type": "stream",
       "stream": "stdout",
       "text": [
        "\n",
        "\tinit rminarc = [ 20.  20.  20.  20.  20.  20.  20.  20.  20.  20.]; adapted = [ 3.38545231  3.09678552  2.8104239   2.45147065  2.27083819  2.09397872\n",
        "  2.00368871  1.89166592  1.78020761  1.75732819]\n",
        "\tFull model: B0 = 953.059 muG; eta2 = 73.569; mu = 0.500; "
       ]
      },
      {
       "output_type": "stream",
       "stream": "stdout",
       "text": [
        "\n",
        "\tinit rminarc = [ 20.  20.  20.  20.  20.  20.  20.  20.  20.  20.]; adapted = [ 3.29552574  3.04366707  2.78887333  2.47014443  2.30807929  2.14892231\n",
        "  2.06597283  1.9592005   1.85741918  1.8367868 ]\n",
        "\tFull model: B0 = 1152.300 muG; eta2 = 258.842; mu = 1.000; "
       ]
      },
      {
       "output_type": "stream",
       "stream": "stdout",
       "text": [
        "\n",
        "\tinit rminarc = [ 20.  20.  20.  20.  20.  20.  20.  20.  20.  20.]; adapted = [ 3.0235569   2.8759882   2.70760958  2.51178349  2.40677961  2.30669412\n",
        "  2.2526174   2.17947041  2.10328751  2.08777075]\n",
        "\tFull model: B0 = 1134.726 muG; eta2 = 366.760; mu = 1.500; "
       ]
      },
      {
       "output_type": "stream",
       "stream": "stdout",
       "text": [
        "\n",
        "\tinit rminarc = [ 20.  20.  20.  20.  20.  20.  20.  20.  20.  20.]; adapted = [ 2.7493082   2.67646013  2.60713129  2.53014397  2.48856885  2.4476937\n",
        "  2.42614667  2.39758438  2.36811594  2.36197293]\n",
        "\tFull model: B0 = 580.513 muG; eta2 = 26.704; mu = 2.000; "
       ]
      },
      {
       "output_type": "stream",
       "stream": "stdout",
       "text": [
        "\n",
        "\tinit rminarc = [ 20.  20.  20.  20.  20.  20.  20.  20.  20.  20.]; adapted = [ 2.90088725  2.75151416  2.61150036  2.5080008   2.47455249  2.4556416\n",
        "  2.45069306  2.44903486  2.45277417  2.45417354]\n"
       ]
      },
      {
       "metadata": {},
       "output_type": "display_data",
       "png": "[encoded data removed]",
       "text": [
        "<matplotlib.figure.Figure at 0x10c3bcf50>"
       ]
      },
      {
       "output_type": "stream",
       "stream": "stdout",
       "text": [
        "\\begin{tabular}{@{}rllr@{}}\n",
        "\\toprule\n",
        "{} & \\multicolumn{3}{c}{Region 4 (using tab(vs=4.59e+08);\n",
        "vs=4.56e+08 cm/s, az=313.1 deg.)} \\\\\n",
        "\\cmidrule(l){2-4}\n",
        "$\\mu$ (-) & $\\eta_2$ (-) & $B_0$ ($\\mu$G) & $\\chi^2$\\\\\n",
        "\\midrule\n",
        "0.00 & ${2 \\times 10^{1}}^{+1.7 \\times 10^{2}}_{--1.7 \\times 10^{2}}$ & ${7.6 \\times 10^{2}}^{+9.7 \\times 10^{2}}_{--9.7 \\times 10^{2}}$ & 210.6186\\\\\n",
        "0.33 & ${5 \\times 10^{1}}^{+6.2 \\times 10^{2}}_{--6.2 \\times 10^{2}}$ & ${9 \\times 10^{2}}^{+1.9 \\times 10^{3}}_{--1.9 \\times 10^{3}}$ & 142.5939\\\\\n",
        "0.50 & ${7 \\times 10^{1}}^{+1.1 \\times 10^{3}}_{--1.1 \\times 10^{3}}$ & ${1 \\times 10^{3}}^{+2.4 \\times 10^{3}}_{--2.4 \\times 10^{3}}$ & 113.0600\\\\\n",
        "1.00 & ${3 \\times 10^{2}}^{+3.9 \\times 10^{3}}_{--3.9 \\times 10^{3}}$ & ${1.2 \\times 10^{3}}^{+3.2 \\times 10^{3}}_{--3.2 \\times 10^{3}}$ & 46.0522\\\\\n",
        "1.50 & ${4 \\times 10^{2}}^{+1.3 \\times 10^{3}}_{--1.3 \\times 10^{3}}$ & ${1135}^{+86}_{--86}$ & 16.1072\\\\\n",
        "2.00 & ${27}^{+-17}_{-17}$ & ${5.8 \\times 10^{2}}^{+-5.4 \\times 10^{2}}_{-5.4 \\times 10^{2}}$ & 10.6547\\\\\n",
        "\\bottomrule\n",
        "\\end{tabular} \n",
        "\n",
        "Region 5 (using tab(vs=4.59e+08);\n",
        "vs=4.50e+08 cm/s, az=316.0 deg.)\n"
       ]
      },
      {
       "html": [
        "<table style='font-family: monospace; font-size: 10pt'><tr><td>mu</td><td>eta2</td><td>B0</td><td>chisqr</td></tr><tr><td>0.00</td><td>16.231 +155.91/--155.91 (std: &plusmn; 172.139)</td><td>908 +1.08e+03/--1.08e+03 (std: &plusmn; 1983.125)</td><td>99.7520</td></tr><tr><td>0.33</td><td>46.745 +608.36/--608.36 (std: &plusmn; 655.105)</td><td>1.07e+03 +2.22e+03/--2.22e+03 (std: &plusmn; 3292.385)</td><td>53.9881</td></tr><tr><td>0.50</td><td>75.182 +1117.49/--1117.49 (std: &plusmn; 1192.670)</td><td>1.15e+03 +2.94e+03/--2.94e+03 (std: &plusmn; 4096.216)</td><td>36.0991</td></tr><tr><td>1.00</td><td>345.605 +5252.33/--5252.33 (std: &plusmn; 5597.934)</td><td>1.49e+03 +4.12e+03/--4.12e+03 (std: &plusmn; 5611.148)</td><td>5.3155</td></tr><tr><td>1.50</td><td>19.446 +-9.23/-9.23 (std: &plusmn; 10.219)</td><td>715 +-640/-640 (std: &plusmn; 74.989)</td><td>4.7285</td></tr><tr><td>2.00</td><td>9.685 +-7.10/-7.10 (std: &plusmn; 2.587)</td><td>587 +-561/-561 (std: &plusmn; 25.724)</td><td>7.6019</td></tr></table>"
       ],
       "metadata": {},
       "output_type": "display_data",
       "text": [
        "[['mu', 'eta2', 'B0', 'chisqr'],\n",
        " ['0.00',\n",
        "  '16.231 +155.91/--155.91 (std: &plusmn; 172.139)',\n",
        "  '908 +1.08e+03/--1.08e+03 (std: &plusmn; 1983.125)',\n",
        "  '99.7520'],\n",
        " ['0.33',\n",
        "  '46.745 +608.36/--608.36 (std: &plusmn; 655.105)',\n",
        "  '1.07e+03 +2.22e+03/--2.22e+03 (std: &plusmn; 3292.385)',\n",
        "  '53.9881'],\n",
        " ['0.50',\n",
        "  '75.182 +1117.49/--1117.49 (std: &plusmn; 1192.670)',\n",
        "  '1.15e+03 +2.94e+03/--2.94e+03 (std: &plusmn; 4096.216)',\n",
        "  '36.0991'],\n",
        " ['1.00',\n",
        "  '345.605 +5252.33/--5252.33 (std: &plusmn; 5597.934)',\n",
        "  '1.49e+03 +4.12e+03/--4.12e+03 (std: &plusmn; 5611.148)',\n",
        "  '5.3155'],\n",
        " ['1.50',\n",
        "  '19.446 +-9.23/-9.23 (std: &plusmn; 10.219)',\n",
        "  '715 +-640/-640 (std: &plusmn; 74.989)',\n",
        "  '4.7285'],\n",
        " ['2.00',\n",
        "  '9.685 +-7.10/-7.10 (std: &plusmn; 2.587)',\n",
        "  '587 +-561/-561 (std: &plusmn; 25.724)',\n",
        "  '7.6019']]"
       ]
      },
      {
       "output_type": "stream",
       "stream": "stdout",
       "text": [
        "\tFull model: B0 = 907.628 muG; eta2 = 16.231; mu = 0.000; \n",
        "\tinit rminarc = [ 20.  20.  20.  20.  20.  20.  20.  20.  20.  20.]; adapted = [ 2.71756658  2.38901777  2.08924591  1.78263976  1.62408525  1.4801416\n",
        "  1.41412219  1.32983705  1.2425723   1.22515658]\n",
        "\tFull model: B0 = 1071.871 muG; eta2 = 46.745; mu = 0.333; "
       ]
      },
      {
       "output_type": "stream",
       "stream": "stdout",
       "text": [
        "\n",
        "\tinit rminarc = [ 20.  20.  20.  20.  20.  20.  20.  20.  20.  20.]; adapted = [ 2.54778535  2.29791207  2.05731095  1.80862818  1.67673459  1.55142875\n",
        "  1.48947618  1.41468245  1.34095444  1.32573247]\n",
        "\tFull model: B0 = 1154.584 muG; eta2 = 75.182; mu = 0.500; "
       ]
      },
      {
       "output_type": "stream",
       "stream": "stdout",
       "text": [
        "\n",
        "\tinit rminarc = [ 20.  20.  20.  20.  20.  20.  20.  20.  20.  20.]; adapted = [ 2.46397463  2.24976741  2.03895525  1.81956835  1.70180443  1.58791892\n",
        "  1.53033703  1.45785682  1.39066687  1.37703851]\n",
        "\tFull model: B0 = 1489.761 muG; eta2 = 345.605; mu = 1.000; "
       ]
      },
      {
       "output_type": "stream",
       "stream": "stdout",
       "text": [
        "\n",
        "\tinit rminarc = [ 20.  20.  20.  20.  20.  20.  20.  20.  20.  20.]; adapted = [ 2.21636656  2.09191879  1.97035356  1.83962557  1.76637923  1.69267177\n",
        "  1.65353569  1.60146721  1.54825106  1.5375333 ]\n",
        "\tFull model: B0 = 715.003 muG; eta2 = 19.446; mu = 1.500; "
       ]
      },
      {
       "output_type": "stream",
       "stream": "stdout",
       "text": [
        "\n",
        "\tinit rminarc = [ 20.  20.  20.  20.  20.  20.  20.  20.  20.  20.]; adapted = [ 2.2638342   2.09904002  1.9631658   1.84287511  1.78566785  1.73421395\n",
        "  1.70894834  1.67714434  1.64635515  1.64031801]\n",
        "\tFull model: B0 = 586.828 muG; eta2 = 9.685; mu = 2.000; "
       ]
      },
      {
       "output_type": "stream",
       "stream": "stdout",
       "text": [
        "\n",
        "\tinit rminarc = [ 20.  20.  20.  20.  20.  20.  20.  20.  20.  20.]; adapted = [ 2.41531569  2.17537412  1.98188417  1.82991189  1.76939419  1.72439587\n",
        "  1.70625571  1.68763441  1.67457103  1.67262909]\n"
       ]
      },
      {
       "metadata": {},
       "output_type": "display_data",
       "png": "[encoded data removed]",
       "text": [
        "<matplotlib.figure.Figure at 0x10c1fd110>"
       ]
      },
      {
       "output_type": "stream",
       "stream": "stdout",
       "text": [
        "\\begin{tabular}{@{}rllr@{}}\n",
        "\\toprule\n",
        "{} & \\multicolumn{3}{c}{Region 5 (using tab(vs=4.59e+08);\n",
        "vs=4.50e+08 cm/s, az=316.0 deg.)} \\\\\n",
        "\\cmidrule(l){2-4}\n",
        "$\\mu$ (-) & $\\eta_2$ (-) & $B_0$ ($\\mu$G) & $\\chi^2$\\\\\n",
        "\\midrule\n",
        "0.00 & ${2 \\times 10^{1}}^{+1.6 \\times 10^{2}}_{--1.6 \\times 10^{2}}$ & ${9 \\times 10^{2}}^{+1.1 \\times 10^{3}}_{--1.1 \\times 10^{3}}$ & 99.7520\\\\\n",
        "0.33 & ${5 \\times 10^{1}}^{+6.1 \\times 10^{2}}_{--6.1 \\times 10^{2}}$ & ${1.1 \\times 10^{3}}^{+2.2 \\times 10^{3}}_{--2.2 \\times 10^{3}}$ & 53.9881\\\\\n",
        "0.50 & ${8 \\times 10^{1}}^{+1.1 \\times 10^{3}}_{--1.1 \\times 10^{3}}$ & ${1.2 \\times 10^{3}}^{+2.9 \\times 10^{3}}_{--2.9 \\times 10^{3}}$ & 36.0991\\\\\n",
        "1.00 & ${3 \\times 10^{2}}^{+5.3 \\times 10^{3}}_{--5.3 \\times 10^{3}}$ & ${1.5 \\times 10^{3}}^{+4.1 \\times 10^{3}}_{--4.1 \\times 10^{3}}$ & 5.3155\\\\\n",
        "1.50 & ${19.4}^{+-9.2}_{-9.2}$ & ${7.2 \\times 10^{2}}^{+-6.4 \\times 10^{2}}_{-6.4 \\times 10^{2}}$ & 4.7285\\\\\n",
        "2.00 & ${9.7}^{+-7.1}_{-7.1}$ & ${5.9 \\times 10^{2}}^{+-5.6 \\times 10^{2}}_{-5.6 \\times 10^{2}}$ & 7.6019\\\\\n",
        "\\bottomrule\n",
        "\\end{tabular} \n",
        "\n",
        "Region 6 (using tab(vs=4.59e+08);\n",
        "vs=4.58e+08 cm/s, az=10.7 deg.)\n"
       ]
      },
      {
       "html": [
        "<table style='font-family: monospace; font-size: 10pt'><tr><td>mu</td><td>eta2</td><td>B0</td><td>chisqr</td></tr><tr><td>0.00</td><td>694.104 +529.51/--529.51 (std: &plusmn; 1223.613)</td><td>812 +-776/-776 (std: &plusmn; 36.440)</td><td>4.3838</td></tr><tr><td>0.33</td><td>0.001 +0.02/--0.02 (std: &plusmn; 0.021)</td><td>238 +-228/-228 (std: &plusmn; 9.658)</td><td>4.3911</td></tr><tr><td>0.50</td><td>0.001 +0.02/--0.02 (std: &plusmn; 0.020)</td><td>238 +-230/-230 (std: &plusmn; 8.215)</td><td>4.3960</td></tr><tr><td>1.00</td><td>0.000 +0.00/--0.00 (std: &plusmn; 0.000)</td><td>239 +-233/-233 (std: &plusmn; 5.352)</td><td>4.4990</td></tr><tr><td>1.50</td><td>0.000 +0.00/--0.00 (std: &plusmn; 0.000)</td><td>239 +-235/-235 (std: &plusmn; 3.999)</td><td>4.4993</td></tr><tr><td>2.00</td><td>0.000 +-0.00/-0.00 (std: &plusmn; 0.000)</td><td>239 +-235/-235 (std: &plusmn; 3.547)</td><td>4.5039</td></tr></table>"
       ],
       "metadata": {},
       "output_type": "display_data",
       "text": [
        "[['mu', 'eta2', 'B0', 'chisqr'],\n",
        " ['0.00',\n",
        "  '694.104 +529.51/--529.51 (std: &plusmn; 1223.613)',\n",
        "  '812 +-776/-776 (std: &plusmn; 36.440)',\n",
        "  '4.3838'],\n",
        " ['0.33',\n",
        "  '0.001 +0.02/--0.02 (std: &plusmn; 0.021)',\n",
        "  '238 +-228/-228 (std: &plusmn; 9.658)',\n",
        "  '4.3911'],\n",
        " ['0.50',\n",
        "  '0.001 +0.02/--0.02 (std: &plusmn; 0.020)',\n",
        "  '238 +-230/-230 (std: &plusmn; 8.215)',\n",
        "  '4.3960'],\n",
        " ['1.00',\n",
        "  '0.000 +0.00/--0.00 (std: &plusmn; 0.000)',\n",
        "  '239 +-233/-233 (std: &plusmn; 5.352)',\n",
        "  '4.4990'],\n",
        " ['1.50',\n",
        "  '0.000 +0.00/--0.00 (std: &plusmn; 0.000)',\n",
        "  '239 +-235/-235 (std: &plusmn; 3.999)',\n",
        "  '4.4993'],\n",
        " ['2.00',\n",
        "  '0.000 +-0.00/-0.00 (std: &plusmn; 0.000)',\n",
        "  '239 +-235/-235 (std: &plusmn; 3.547)',\n",
        "  '4.5039']]"
       ]
      },
      {
       "output_type": "stream",
       "stream": "stdout",
       "text": [
        "\tFull model: B0 = 812.006 muG; eta2 = 694.104; mu = 0.000; \n",
        "\tinit rminarc = [ 20.  20.  20.  20.  20.  20.  20.  20.  20.]; adapted = [ 6.51113025  5.86535839  4.4247043   4.17556931  3.58399621  3.43892517\n",
        "  3.11089753  2.82661937  2.76051858]\n",
        "\tFull model: B0 = 237.964 muG; eta2 = 0.001; mu = 0.333; "
       ]
      },
      {
       "output_type": "stream",
       "stream": "stdout",
       "text": [
        "\n",
        "\tinit rminarc = [ 20.  20.  20.  20.  20.  20.  20.  20.  20.]; adapted = [ 6.60688937  5.91666747  4.43895738  4.20948873  3.58703351  3.44575975\n",
        "  3.08460186  2.82824248  2.7571345 ]\n",
        "\tFull model: B0 = 237.763 muG; eta2 = 0.001; mu = 0.500; "
       ]
      },
      {
       "output_type": "stream",
       "stream": "stdout",
       "text": [
        "\n",
        "\tinit rminarc = [ 20.  20.  20.  20.  20.  20.  20.  20.  20.]; adapted = [ 6.60699997  5.91751358  4.4381293   4.20642647  3.58598397  3.43919359\n",
        "  3.07988223  2.82339091  2.75164386]\n",
        "\tFull model: B0 = 238.643 muG; eta2 = 0.000; mu = 1.000; "
       ]
      },
      {
       "output_type": "stream",
       "stream": "stdout",
       "text": [
        "\n",
        "\tinit rminarc = [ 20.  20.  20.  20.  20.  20.  20.  20.  20.]; adapted = [ 6.59527774  5.90096636  4.4354526   4.20776256  3.58626991  3.45527279\n",
        "  3.09590083  2.84870315  2.77680535]\n",
        "\tFull model: B0 = 238.665 muG; eta2 = 0.000; mu = 1.500; "
       ]
      },
      {
       "output_type": "stream",
       "stream": "stdout",
       "text": [
        "\n",
        "\tinit rminarc = [ 20.  20.  20.  20.  20.  20.  20.  20.  20.]; adapted = [ 6.59452818  5.89970546  4.43498944  4.20685586  3.58584686  3.4542583\n",
        "  3.09495956  2.84849294  2.77378436]\n",
        "\tFull model: B0 = 238.666 muG; eta2 = 0.000; mu = 2.000; "
       ]
      },
      {
       "output_type": "stream",
       "stream": "stdout",
       "text": [
        "\n",
        "\tinit rminarc = [ 20.  20.  20.  20.  20.  20.  20.  20.  20.]; adapted = [ 6.59316889  5.89838294  4.43400696  4.20388894  3.5849716   3.45118406\n",
        "  3.09144904  2.84784583  2.76518258]\n"
       ]
      },
      {
       "metadata": {},
       "output_type": "display_data",
       "png": "[encoded data removed]",
       "text": [
        "<matplotlib.figure.Figure at 0x10c4573d0>"
       ]
      },
      {
       "output_type": "stream",
       "stream": "stdout",
       "text": [
        "\\begin{tabular}{@{}rllr@{}}\n",
        "\\toprule\n",
        "{} & \\multicolumn{3}{c}{Region 6 (using tab(vs=4.59e+08);\n",
        "vs=4.58e+08 cm/s, az=10.7 deg.)} \\\\\n",
        "\\cmidrule(l){2-4}\n",
        "$\\mu$ (-) & $\\eta_2$ (-) & $B_0$ ($\\mu$G) & $\\chi^2$\\\\\n",
        "\\midrule\n",
        "0.00 & ${6.9 \\times 10^{2}}^{+5.3 \\times 10^{2}}_{--5.3 \\times 10^{2}}$ & ${8.1 \\times 10^{2}}^{+-7.8 \\times 10^{2}}_{-7.8 \\times 10^{2}}$ & 4.3838\\\\\n",
        "0.33 & ${0.001}^{+0.02}_{--0.02}$ & ${2.4 \\times 10^{2}}^{+-2.3 \\times 10^{2}}_{-2.3 \\times 10^{2}}$ & 4.3911\\\\\n",
        "0.50 & ${0.001}^{+0.018}_{--0.018}$ & ${2.4 \\times 10^{2}}^{+-2.3 \\times 10^{2}}_{-2.3 \\times 10^{2}}$ & 4.3960\\\\\n",
        "1.00 & ${6 \\times 10^{-7}}^{+0.00038}_{--0.00038}$ & ${2.4 \\times 10^{2}}^{+-2.3 \\times 10^{2}}_{-2.3 \\times 10^{2}}$ & 4.4990\\\\\n",
        "1.50 & ${2 \\times 10^{-8}}^{+5 \\times 10^{-5}}_{--5 \\times 10^{-5}}$ & ${2.4 \\times 10^{2}}^{+-2.3 \\times 10^{2}}_{-2.3 \\times 10^{2}}$ & 4.4993\\\\\n",
        "2.00 & ${6.4 \\times 10^{-9}}^{+-6.4 \\times 10^{-9}}_{-6.4 \\times 10^{-9}}$ & ${2.4 \\times 10^{2}}^{+-2.4 \\times 10^{2}}_{-2.4 \\times 10^{2}}$ & 4.5039\\\\\n",
        "\\bottomrule\n",
        "\\end{tabular} \n",
        "\n",
        "Region 7 (using tab(vs=4.76e+08);\n",
        "vs=4.71e+08 cm/s, az=15.4 deg.)\n"
       ]
      },
      {
       "html": [
        "<table style='font-family: monospace; font-size: 10pt'><tr><td>mu</td><td>eta2</td><td>B0</td><td>chisqr</td></tr><tr><td>0.00</td><td>15.688 +328.56/--328.56 (std: &plusmn; 344.247)</td><td>733 +2.58e+03/--2.58e+03 (std: &plusmn; 3317.862)</td><td>64.6067</td></tr><tr><td>0.33</td><td>17.904 +37.13/--37.13 (std: &plusmn; 55.038)</td><td>712 +-247/-247 (std: &plusmn; 465.161)</td><td>59.6537</td></tr><tr><td>0.50</td><td>6.310 +0.47/--0.47 (std: &plusmn; 6.777)</td><td>559 +-445/-445 (std: &plusmn; 114.400)</td><td>59.2209</td></tr><tr><td>1.00</td><td>2.621 +-1.38/-1.38 (std: &plusmn; 1.238)</td><td>451 +-419/-419 (std: &plusmn; 31.066)</td><td>58.1969</td></tr><tr><td>1.50</td><td>2.118 +-1.39/-1.39 (std: &plusmn; 0.729)</td><td>418 +-401/-401 (std: &plusmn; 17.335)</td><td>57.4872</td></tr><tr><td>2.00</td><td>2.046 +-1.45/-1.45 (std: &plusmn; 0.596)</td><td>403 +-390/-390 (std: &plusmn; 12.167)</td><td>57.1100</td></tr></table>"
       ],
       "metadata": {},
       "output_type": "display_data",
       "text": [
        "[['mu', 'eta2', 'B0', 'chisqr'],\n",
        " ['0.00',\n",
        "  '15.688 +328.56/--328.56 (std: &plusmn; 344.247)',\n",
        "  '733 +2.58e+03/--2.58e+03 (std: &plusmn; 3317.862)',\n",
        "  '64.6067'],\n",
        " ['0.33',\n",
        "  '17.904 +37.13/--37.13 (std: &plusmn; 55.038)',\n",
        "  '712 +-247/-247 (std: &plusmn; 465.161)',\n",
        "  '59.6537'],\n",
        " ['0.50',\n",
        "  '6.310 +0.47/--0.47 (std: &plusmn; 6.777)',\n",
        "  '559 +-445/-445 (std: &plusmn; 114.400)',\n",
        "  '59.2209'],\n",
        " ['1.00',\n",
        "  '2.621 +-1.38/-1.38 (std: &plusmn; 1.238)',\n",
        "  '451 +-419/-419 (std: &plusmn; 31.066)',\n",
        "  '58.1969'],\n",
        " ['1.50',\n",
        "  '2.118 +-1.39/-1.39 (std: &plusmn; 0.729)',\n",
        "  '418 +-401/-401 (std: &plusmn; 17.335)',\n",
        "  '57.4872'],\n",
        " ['2.00',\n",
        "  '2.046 +-1.45/-1.45 (std: &plusmn; 0.596)',\n",
        "  '403 +-390/-390 (std: &plusmn; 12.167)',\n",
        "  '57.1100']]"
       ]
      },
      {
       "output_type": "stream",
       "stream": "stdout",
       "text": [
        "\tFull model: B0 = 733.331 muG; eta2 = 15.688; mu = 0.000; \n",
        "\tinit rminarc = [ 20.  20.  20.  20.  20.  20.  20.  20.  20.  20.]; adapted = [ 3.73356014  3.33648933  2.97142684  2.53120345  2.30227094  2.08494723\n",
        "  1.97590184  1.8437843   1.7093914   1.68232212]\n",
        "\tFull model: B0 = 712.199 muG; eta2 = 17.904; mu = 0.333; "
       ]
      },
      {
       "output_type": "stream",
       "stream": "stdout",
       "text": [
        "\n",
        "\tinit rminarc = [ 20.  20.  20.  20.  20.  20.  20.  20.  20.  20.]; adapted = [ 3.52603735  3.20775139  2.9080766   2.54300543  2.34935037  2.16590232\n",
        "  2.07088125  1.94997828  1.8361589   1.81300523]\n",
        "\tFull model: B0 = 559.239 muG; eta2 = 6.310; mu = 0.500; "
       ]
      },
      {
       "output_type": "stream",
       "stream": "stdout",
       "text": [
        "\n",
        "\tinit rminarc = [ 20.  20.  20.  20.  20.  20.  20.  20.  20.  20.]; adapted = [ 3.55974057  3.21751795  2.9065154   2.5568867   2.36378892  2.18425173\n",
        "  2.09153849  1.97358903  1.86323453  1.84130255]\n",
        "\tFull model: B0 = 450.560 muG; eta2 = 2.621; mu = 1.000; "
       ]
      },
      {
       "output_type": "stream",
       "stream": "stdout",
       "text": [
        "\n",
        "\tinit rminarc = [ 20.  20.  20.  20.  20.  20.  20.  20.  20.  20.]; adapted = [ 3.67614651  3.25993329  2.90772491  2.56517116  2.37166524  2.19946867\n",
        "  2.11296925  2.00479246  1.9046614   1.88596362]\n",
        "\tFull model: B0 = 418.307 muG; eta2 = 2.118; mu = 1.500; "
       ]
      },
      {
       "output_type": "stream",
       "stream": "stdout",
       "text": [
        "\n",
        "\tinit rminarc = [ 20.  20.  20.  20.  20.  20.  20.  20.  20.  20.]; adapted = [ 3.76878297  3.29690049  2.9093583   2.55857078  2.36667874  2.20047243\n",
        "  2.12012061  2.02282157  1.93514635  1.91909857]\n",
        "\tFull model: B0 = 402.559 muG; eta2 = 2.046; mu = 2.000; "
       ]
      },
      {
       "output_type": "stream",
       "stream": "stdout",
       "text": [
        "\n",
        "\tinit rminarc = [ 20.  20.  20.  20.  20.  20.  20.  20.  20.  20.]; adapted = [ 3.83644746  3.32655647  2.91159614  2.5467772   2.3579173   2.19581309\n",
        "  2.12080919  2.03390056  1.96023482  1.94722422]\n"
       ]
      },
      {
       "metadata": {},
       "output_type": "display_data",
       "png": "[encoded data removed]",
       "text": [
        "<matplotlib.figure.Figure at 0x10c389490>"
       ]
      },
      {
       "output_type": "stream",
       "stream": "stdout",
       "text": [
        "\\begin{tabular}{@{}rllr@{}}\n",
        "\\toprule\n",
        "{} & \\multicolumn{3}{c}{Region 7 (using tab(vs=4.76e+08);\n",
        "vs=4.71e+08 cm/s, az=15.4 deg.)} \\\\\n",
        "\\cmidrule(l){2-4}\n",
        "$\\mu$ (-) & $\\eta_2$ (-) & $B_0$ ($\\mu$G) & $\\chi^2$\\\\\n",
        "\\midrule\n",
        "0.00 & ${2 \\times 10^{1}}^{+3.3 \\times 10^{2}}_{--3.3 \\times 10^{2}}$ & ${7 \\times 10^{2}}^{+2.6 \\times 10^{3}}_{--2.6 \\times 10^{3}}$ & 64.6067\\\\\n",
        "0.33 & ${18}^{+37}_{--37}$ & ${7.1 \\times 10^{2}}^{+-2.5 \\times 10^{2}}_{-2.5 \\times 10^{2}}$ & 59.6537\\\\\n",
        "0.50 & ${6.31}^{+0.47}_{--0.47}$ & ${5.6 \\times 10^{2}}^{+-4.4 \\times 10^{2}}_{-4.4 \\times 10^{2}}$ & 59.2209\\\\\n",
        "1.00 & ${2.6}^{+-1.4}_{-1.4}$ & ${4.5 \\times 10^{2}}^{+-4.2 \\times 10^{2}}_{-4.2 \\times 10^{2}}$ & 58.1969\\\\\n",
        "1.50 & ${2.1}^{+-1.4}_{-1.4}$ & ${4.2 \\times 10^{2}}^{+-4 \\times 10^{2}}_{-4 \\times 10^{2}}$ & 57.4872\\\\\n",
        "2.00 & ${2}^{+-1.5}_{-1.5}$ & ${4 \\times 10^{2}}^{+-3.9 \\times 10^{2}}_{-3.9 \\times 10^{2}}$ & 57.1100\\\\\n",
        "\\bottomrule\n",
        "\\end{tabular} \n",
        "\n",
        "Region 8 (using tab(vs=5.11e+08);\n",
        "vs=5.20e+08 cm/s, az=230.4 deg.)\n"
       ]
      },
      {
       "html": [
        "<table style='font-family: monospace; font-size: 10pt'><tr><td>mu</td><td>eta2</td><td>B0</td><td>chisqr</td></tr><tr><td>0.00</td><td>19.721 +430.57/--430.57 (std: &plusmn; 450.287)</td><td>329 +1.24e+03/--1.24e+03 (std: &plusmn; 1571.731)</td><td>25.8336</td></tr><tr><td>0.33</td><td>54.337 +1251.08/--1251.08 (std: &plusmn; 1305.415)</td><td>386 +1.67e+03/--1.67e+03 (std: &plusmn; 2057.370)</td><td>15.8539</td></tr><tr><td>0.50</td><td>69.138 +685.79/--685.79 (std: &plusmn; 754.926)</td><td>395 +577/--577 (std: &plusmn; 972.043)</td><td>13.7930</td></tr><tr><td>1.00</td><td>6.561 +-2.51/-2.51 (std: &plusmn; 4.047)</td><td>223 +-200/-200 (std: &plusmn; 23.846)</td><td>12.9234</td></tr><tr><td>1.50</td><td>4.218 +-2.61/-2.61 (std: &plusmn; 1.603)</td><td>197 +-186/-186 (std: &plusmn; 10.314)</td><td>12.4808</td></tr><tr><td>2.00</td><td>3.778 +-2.64/-2.64 (std: &plusmn; 1.136)</td><td>186 +-179/-179 (std: &plusmn; 6.454)</td><td>12.3355</td></tr></table>"
       ],
       "metadata": {},
       "output_type": "display_data",
       "text": [
        "[['mu', 'eta2', 'B0', 'chisqr'],\n",
        " ['0.00',\n",
        "  '19.721 +430.57/--430.57 (std: &plusmn; 450.287)',\n",
        "  '329 +1.24e+03/--1.24e+03 (std: &plusmn; 1571.731)',\n",
        "  '25.8336'],\n",
        " ['0.33',\n",
        "  '54.337 +1251.08/--1251.08 (std: &plusmn; 1305.415)',\n",
        "  '386 +1.67e+03/--1.67e+03 (std: &plusmn; 2057.370)',\n",
        "  '15.8539'],\n",
        " ['0.50',\n",
        "  '69.138 +685.79/--685.79 (std: &plusmn; 754.926)',\n",
        "  '395 +577/--577 (std: &plusmn; 972.043)',\n",
        "  '13.7930'],\n",
        " ['1.00',\n",
        "  '6.561 +-2.51/-2.51 (std: &plusmn; 4.047)',\n",
        "  '223 +-200/-200 (std: &plusmn; 23.846)',\n",
        "  '12.9234'],\n",
        " ['1.50',\n",
        "  '4.218 +-2.61/-2.61 (std: &plusmn; 1.603)',\n",
        "  '197 +-186/-186 (std: &plusmn; 10.314)',\n",
        "  '12.4808'],\n",
        " ['2.00',\n",
        "  '3.778 +-2.64/-2.64 (std: &plusmn; 1.136)',\n",
        "  '186 +-179/-179 (std: &plusmn; 6.454)',\n",
        "  '12.3355']]"
       ]
      },
      {
       "output_type": "stream",
       "stream": "stdout",
       "text": [
        "\tFull model: B0 = 329.418 muG; eta2 = 19.721; mu = 0.000; \n",
        "\tinit rminarc = [ 20.  20.  20.  20.  20.  20.  20.  20.  20.]; adapted = [ 11.8102937   10.93896007   8.97626667   8.61899882   7.73032261\n",
        "   7.49953721   6.95766983   6.52177481   6.42563334]\n",
        "\tFull model: B0 = 386.281 muG; eta2 = 54.337; mu = 0.333; "
       ]
      },
      {
       "output_type": "stream",
       "stream": "stdout",
       "text": [
        "\n",
        "\tinit rminarc = [ 20.  20.  20.  20.  20.  20.  20.  20.  20.]; adapted = [ 11.42213415  10.73160489   9.13120075   8.83356031   8.09044242\n",
        "   7.89582894   7.42305006   7.03683992   6.95099025]\n",
        "\tFull model: B0 = 395.279 muG; eta2 = 69.138; mu = 0.500; "
       ]
      },
      {
       "output_type": "stream",
       "stream": "stdout",
       "text": [
        "\n",
        "\tinit rminarc = [ 20.  20.  20.  20.  20.  20.  20.  20.  20.]; adapted = [ 11.22733897  10.62016186   9.19799094   8.93154333   8.26136052\n",
        "   8.08820023   7.66109614   7.30515778   7.22594944]\n",
        "\tFull model: B0 = 223.423 muG; eta2 = 6.561; mu = 1.000; "
       ]
      },
      {
       "output_type": "stream",
       "stream": "stdout",
       "text": [
        "\n",
        "\tinit rminarc = [ 20.  20.  20.  20.  20.  20.  20.  20.  20.]; adapted = [ 11.25376979  10.58142774   9.16535844   8.91736249   8.32083245\n",
        "   8.17243352   7.82621727   7.54131757   7.4773996 ]\n",
        "\tFull model: B0 = 196.743 muG; eta2 = 4.218; mu = 1.500; "
       ]
      },
      {
       "output_type": "stream",
       "stream": "stdout",
       "text": [
        "\n",
        "\tinit rminarc = [ 20.  20.  20.  20.  20.  20.  20.  20.  20.]; adapted = [ 11.36153313  10.59122762   9.09939209   8.85799883   8.31113915\n",
        "   8.18273455   7.896305     7.67560837   7.62718266]\n",
        "\tFull model: B0 = 185.864 muG; eta2 = 3.778; mu = 2.000; "
       ]
      },
      {
       "output_type": "stream",
       "stream": "stdout",
       "text": [
        "\n",
        "\tinit rminarc = [ 20.  20.  20.  20.  20.  20.  20.  20.  20.]; adapted = [ 11.4489622   10.60261878   9.03308175   8.79627288   8.29589555\n",
        "   8.18777279   7.9639236    7.809902     7.77837674]\n"
       ]
      },
      {
       "metadata": {},
       "output_type": "display_data",
       "png": "[encoded data removed]",
       "text": [
        "<matplotlib.figure.Figure at 0x10c389b50>"
       ]
      },
      {
       "output_type": "stream",
       "stream": "stdout",
       "text": [
        "\\begin{tabular}{@{}rllr@{}}\n",
        "\\toprule\n",
        "{} & \\multicolumn{3}{c}{Region 8 (using tab(vs=5.11e+08);\n",
        "vs=5.20e+08 cm/s, az=230.4 deg.)} \\\\\n",
        "\\cmidrule(l){2-4}\n",
        "$\\mu$ (-) & $\\eta_2$ (-) & $B_0$ ($\\mu$G) & $\\chi^2$\\\\\n",
        "\\midrule\n",
        "0.00 & ${2 \\times 10^{1}}^{+4.3 \\times 10^{2}}_{--4.3 \\times 10^{2}}$ & ${3 \\times 10^{2}}^{+1.2 \\times 10^{3}}_{--1.2 \\times 10^{3}}$ & 25.8336\\\\\n",
        "0.33 & ${5 \\times 10^{1}}^{+1.3 \\times 10^{3}}_{--1.3 \\times 10^{3}}$ & ${4 \\times 10^{2}}^{+1.7 \\times 10^{3}}_{--1.7 \\times 10^{3}}$ & 15.8539\\\\\n",
        "0.50 & ${7 \\times 10^{1}}^{+6.9 \\times 10^{2}}_{--6.9 \\times 10^{2}}$ & ${4 \\times 10^{2}}^{+5.8 \\times 10^{2}}_{--5.8 \\times 10^{2}}$ & 13.7930\\\\\n",
        "1.00 & ${6.6}^{+-2.5}_{-2.5}$ & ${2.2 \\times 10^{2}}^{+-2 \\times 10^{2}}_{-2 \\times 10^{2}}$ & 12.9234\\\\\n",
        "1.50 & ${4.2}^{+-2.6}_{-2.6}$ & ${2 \\times 10^{2}}^{+-1.9 \\times 10^{2}}_{-1.9 \\times 10^{2}}$ & 12.4808\\\\\n",
        "2.00 & ${3.8}^{+-2.6}_{-2.6}$ & ${1.9 \\times 10^{2}}^{+-1.8 \\times 10^{2}}_{-1.8 \\times 10^{2}}$ & 12.3355\\\\\n",
        "\\bottomrule\n",
        "\\end{tabular} \n",
        "\n",
        "Region 9 (using tab(vs=5.11e+08);\n",
        "vs=5.16e+08 cm/s, az=239.5 deg.)\n"
       ]
      },
      {
       "html": [
        "<table style='font-family: monospace; font-size: 10pt'><tr><td>mu</td><td>eta2</td><td>B0</td><td>chisqr</td></tr><tr><td>0.00</td><td>11.524 +41.05/--41.05 (std: &plusmn; 52.571)</td><td>595 +-44.4/-44.4 (std: &plusmn; 550.774)</td><td>121.3227</td></tr><tr><td>0.33</td><td>5.611 +1.18/--1.18 (std: &plusmn; 6.792)</td><td>488 +-378/-378 (std: &plusmn; 109.927)</td><td>116.8583</td></tr><tr><td>0.50</td><td>3.811 +-0.66/-0.66 (std: &plusmn; 3.148)</td><td>445 +-382/-382 (std: &plusmn; 62.280)</td><td>115.1237</td></tr><tr><td>1.00</td><td>2.415 +-1.26/-1.26 (std: &plusmn; 1.152)</td><td>391 +-365/-365 (std: &plusmn; 25.278)</td><td>109.8348</td></tr><tr><td>1.50</td><td>2.226 +-1.41/-1.41 (std: &plusmn; 0.813)</td><td>370 +-355/-355 (std: &plusmn; 15.602)</td><td>104.4519</td></tr><tr><td>2.00</td><td>2.381 +-1.64/-1.64 (std: &plusmn; 0.742)</td><td>360 +-348/-348 (std: &plusmn; 11.544)</td><td>99.3407</td></tr></table>"
       ],
       "metadata": {},
       "output_type": "display_data",
       "text": [
        "[['mu', 'eta2', 'B0', 'chisqr'],\n",
        " ['0.00',\n",
        "  '11.524 +41.05/--41.05 (std: &plusmn; 52.571)',\n",
        "  '595 +-44.4/-44.4 (std: &plusmn; 550.774)',\n",
        "  '121.3227'],\n",
        " ['0.33',\n",
        "  '5.611 +1.18/--1.18 (std: &plusmn; 6.792)',\n",
        "  '488 +-378/-378 (std: &plusmn; 109.927)',\n",
        "  '116.8583'],\n",
        " ['0.50',\n",
        "  '3.811 +-0.66/-0.66 (std: &plusmn; 3.148)',\n",
        "  '445 +-382/-382 (std: &plusmn; 62.280)',\n",
        "  '115.1237'],\n",
        " ['1.00',\n",
        "  '2.415 +-1.26/-1.26 (std: &plusmn; 1.152)',\n",
        "  '391 +-365/-365 (std: &plusmn; 25.278)',\n",
        "  '109.8348'],\n",
        " ['1.50',\n",
        "  '2.226 +-1.41/-1.41 (std: &plusmn; 0.813)',\n",
        "  '370 +-355/-355 (std: &plusmn; 15.602)',\n",
        "  '104.4519'],\n",
        " ['2.00',\n",
        "  '2.381 +-1.64/-1.64 (std: &plusmn; 0.742)',\n",
        "  '360 +-348/-348 (std: &plusmn; 11.544)',\n",
        "  '99.3407']]"
       ]
      },
      {
       "output_type": "stream",
       "stream": "stdout",
       "text": [
        "\tFull model: B0 = 595.135 muG; eta2 = 11.524; mu = 0.000; \n",
        "\tinit rminarc = [ 20.  20.  20.  20.  20.  20.  20.  20.  20.]; adapted = [ 4.08813072  3.78446667  3.12740557  3.00778202  2.68999729  2.60128741\n",
        "  2.39574218  2.23419282  2.19772987]\n",
        "\tFull model: B0 = 488.196 muG; eta2 = 5.611; mu = 0.333; "
       ]
      },
      {
       "output_type": "stream",
       "stream": "stdout",
       "text": [
        "\n",
        "\tinit rminarc = [ 20.  20.  20.  20.  20.  20.  20.  20.  20.]; adapted = [ 4.020151    3.74000351  3.13860946  3.03033688  2.76992674  2.69010756\n",
        "  2.50142287  2.35380047  2.32164312]\n",
        "\tFull model: B0 = 444.523 muG; eta2 = 3.811; mu = 0.500; "
       ]
      },
      {
       "output_type": "stream",
       "stream": "stdout",
       "text": [
        "\n",
        "\tinit rminarc = [ 20.  20.  20.  20.  20.  20.  20.  20.  20.]; adapted = [ 4.02608325  3.73974248  3.13707979  3.03041282  2.77677441  2.70927681\n",
        "  2.52651242  2.38277298  2.35218513]\n",
        "\tFull model: B0 = 390.744 muG; eta2 = 2.415; mu = 1.000; "
       ]
      },
      {
       "output_type": "stream",
       "stream": "stdout",
       "text": [
        "\n",
        "\tinit rminarc = [ 20.  20.  20.  20.  20.  20.  20.  20.  20.]; adapted = [ 4.04917755  3.74160579  3.12891698  3.0261727   2.78992306  2.73181909\n",
        "  2.5783838   2.44926552  2.42176996]\n",
        "\tFull model: B0 = 370.140 muG; eta2 = 2.226; mu = 1.500; "
       ]
      },
      {
       "output_type": "stream",
       "stream": "stdout",
       "text": [
        "\n",
        "\tinit rminarc = [ 20.  20.  20.  20.  20.  20.  20.  20.  20.]; adapted = [ 4.06672506  3.74137811  3.11968173  3.02088202  2.80240606  2.75100862\n",
        "  2.62149577  2.51142648  2.48822087]\n",
        "\tFull model: B0 = 359.944 muG; eta2 = 2.381; mu = 2.000; "
       ]
      },
      {
       "output_type": "stream",
       "stream": "stdout",
       "text": [
        "\n",
        "\tinit rminarc = [ 20.  20.  20.  20.  20.  20.  20.  20.  20.]; adapted = [ 4.07352371  3.73629612  3.11077865  3.01624207  2.81647951  2.77217702\n",
        "  2.6632473   2.57523424  2.55748925]\n"
       ]
      },
      {
       "metadata": {},
       "output_type": "display_data",
       "png": "[encoded data removed]",
       "text": [
        "<matplotlib.figure.Figure at 0x10be57650>"
       ]
      },
      {
       "output_type": "stream",
       "stream": "stdout",
       "text": [
        "\\begin{tabular}{@{}rllr@{}}\n",
        "\\toprule\n",
        "{} & \\multicolumn{3}{c}{Region 9 (using tab(vs=5.11e+08);\n",
        "vs=5.16e+08 cm/s, az=239.5 deg.)} \\\\\n",
        "\\cmidrule(l){2-4}\n",
        "$\\mu$ (-) & $\\eta_2$ (-) & $B_0$ ($\\mu$G) & $\\chi^2$\\\\\n",
        "\\midrule\n",
        "0.00 & ${12}^{+41}_{--41}$ & ${595}^{+-44}_{-44}$ & 121.3227\\\\\n",
        "0.33 & ${5.6}^{+1.2}_{--1.2}$ & ${4.9 \\times 10^{2}}^{+-3.8 \\times 10^{2}}_{-3.8 \\times 10^{2}}$ & 116.8583\\\\\n",
        "0.50 & ${3.81}^{+-0.66}_{-0.66}$ & ${4.4 \\times 10^{2}}^{+-3.8 \\times 10^{2}}_{-3.8 \\times 10^{2}}$ & 115.1237\\\\\n",
        "1.00 & ${2.4}^{+-1.3}_{-1.3}$ & ${3.9 \\times 10^{2}}^{+-3.7 \\times 10^{2}}_{-3.7 \\times 10^{2}}$ & 109.8348\\\\\n",
        "1.50 & ${2.2}^{+-1.4}_{-1.4}$ & ${3.7 \\times 10^{2}}^{+-3.5 \\times 10^{2}}_{-3.5 \\times 10^{2}}$ & 104.4519\\\\\n",
        "2.00 & ${2.4}^{+-1.6}_{-1.6}$ & ${3.6 \\times 10^{2}}^{+-3.5 \\times 10^{2}}_{-3.5 \\times 10^{2}}$ & 99.3407\\\\\n",
        "\\bottomrule\n",
        "\\end{tabular} \n",
        "\n",
        "Region 10 (using tab(vs=5.11e+08);\n",
        "vs=5.13e+08 cm/s, az=249.0 deg.)\n"
       ]
      },
      {
       "html": [
        "<table style='font-family: monospace; font-size: 10pt'><tr><td>mu</td><td>eta2</td><td>B0</td><td>chisqr</td></tr><tr><td>0.00</td><td>19.531 +271.46/--271.46 (std: &plusmn; 290.993)</td><td>515 +1.08e+03/--1.08e+03 (std: &plusmn; 1592.931)</td><td>111.9722</td></tr><tr><td>0.33</td><td>58.354 +893.79/--893.79 (std: &plusmn; 952.140)</td><td>614 +1.6e+03/--1.6e+03 (std: &plusmn; 2209.450)</td><td>81.5166</td></tr><tr><td>0.50</td><td>93.720 +1610.03/--1610.03 (std: &plusmn; 1703.752)</td><td>661 +2.04e+03/--2.04e+03 (std: &plusmn; 2704.916)</td><td>70.4934</td></tr><tr><td>1.00</td><td>67.992 +66.48/--66.48 (std: &plusmn; 134.469)</td><td>559 +-310/-310 (std: &plusmn; 248.862)</td><td>56.4783</td></tr><tr><td>1.50</td><td>10.821 +-6.48/-6.48 (std: &plusmn; 4.342)</td><td>354 +-329/-329 (std: &plusmn; 24.959)</td><td>55.6460</td></tr><tr><td>2.00</td><td>7.577 +-5.60/-5.60 (std: &plusmn; 1.972)</td><td>315 +-303/-303 (std: &plusmn; 11.965)</td><td>56.1258</td></tr></table>"
       ],
       "metadata": {},
       "output_type": "display_data",
       "text": [
        "[['mu', 'eta2', 'B0', 'chisqr'],\n",
        " ['0.00',\n",
        "  '19.531 +271.46/--271.46 (std: &plusmn; 290.993)',\n",
        "  '515 +1.08e+03/--1.08e+03 (std: &plusmn; 1592.931)',\n",
        "  '111.9722'],\n",
        " ['0.33',\n",
        "  '58.354 +893.79/--893.79 (std: &plusmn; 952.140)',\n",
        "  '614 +1.6e+03/--1.6e+03 (std: &plusmn; 2209.450)',\n",
        "  '81.5166'],\n",
        " ['0.50',\n",
        "  '93.720 +1610.03/--1610.03 (std: &plusmn; 1703.752)',\n",
        "  '661 +2.04e+03/--2.04e+03 (std: &plusmn; 2704.916)',\n",
        "  '70.4934'],\n",
        " ['1.00',\n",
        "  '67.992 +66.48/--66.48 (std: &plusmn; 134.469)',\n",
        "  '559 +-310/-310 (std: &plusmn; 248.862)',\n",
        "  '56.4783'],\n",
        " ['1.50',\n",
        "  '10.821 +-6.48/-6.48 (std: &plusmn; 4.342)',\n",
        "  '354 +-329/-329 (std: &plusmn; 24.959)',\n",
        "  '55.6460'],\n",
        " ['2.00',\n",
        "  '7.577 +-5.60/-5.60 (std: &plusmn; 1.972)',\n",
        "  '315 +-303/-303 (std: &plusmn; 11.965)',\n",
        "  '56.1258']]"
       ]
      },
      {
       "output_type": "stream",
       "stream": "stdout",
       "text": [
        "\tFull model: B0 = 514.763 muG; eta2 = 19.531; mu = 0.000; \n",
        "\tinit rminarc = [ 20.  20.  20.  20.  20.  20.  20.  20.  20.  20.]; adapted = [ 7.02718238  6.25586334  5.54727653  4.75707275  4.35200907  3.97895714\n",
        "  3.79269817  3.5531698   3.3183533   3.272471  ]\n",
        "\tFull model: B0 = 613.526 muG; eta2 = 58.354; mu = 0.333; "
       ]
      },
      {
       "output_type": "stream",
       "stream": "stdout",
       "text": [
        "\n",
        "\tinit rminarc = [ 20.  20.  20.  20.  20.  20.  20.  20.  20.  20.]; adapted = [ 6.61185321  6.01925454  5.45836761  4.81189382  4.4753429   4.15866275\n",
        "  3.99572761  3.78682787  3.57722677  3.53509875]\n",
        "\tFull model: B0 = 661.148 muG; eta2 = 93.720; mu = 0.500; "
       ]
      },
      {
       "output_type": "stream",
       "stream": "stdout",
       "text": [
        "\n",
        "\tinit rminarc = [ 20.  20.  20.  20.  20.  20.  20.  20.  20.  20.]; adapted = [ 6.40830089  5.89777031  5.40840183  4.83464164  4.53405252  4.24725541\n",
        "  4.09975306  3.90594057  3.71429409  3.67545831]\n",
        "\tFull model: B0 = 559.331 muG; eta2 = 67.992; mu = 1.000; "
       ]
      },
      {
       "output_type": "stream",
       "stream": "stdout",
       "text": [
        "\n",
        "\tinit rminarc = [ 20.  20.  20.  20.  20.  20.  20.  20.  20.  20.]; adapted = [ 5.92677574  5.58401424  5.25358262  4.87148525  4.67218208  4.47838736\n",
        "  4.3779004   4.24767351  4.11364315  4.08635748]\n",
        "\tFull model: B0 = 353.611 muG; eta2 = 10.821; mu = 1.500; "
       ]
      },
      {
       "output_type": "stream",
       "stream": "stdout",
       "text": [
        "\n",
        "\tinit rminarc = [ 20.  20.  20.  20.  20.  20.  20.  20.  20.  20.]; adapted = [ 6.22066708  5.68858065  5.25491057  4.83287986  4.63830567  4.46898809\n",
        "  4.3884309   4.29059344  4.19828577  4.18034198]\n",
        "\tFull model: B0 = 314.982 muG; eta2 = 7.577; mu = 2.000; "
       ]
      },
      {
       "output_type": "stream",
       "stream": "stdout",
       "text": [
        "\n",
        "\tinit rminarc = [ 20.  20.  20.  20.  20.  20.  20.  20.  20.  20.]; adapted = [ 6.47160296  5.78507157  5.25371207  4.78803868  4.59500807  4.44908568\n",
        "  4.38895841  4.32551054  4.27807973  4.27041658]\n"
       ]
      },
      {
       "metadata": {},
       "output_type": "display_data",
       "png": "[encoded data removed]",
       "text": [
        "<matplotlib.figure.Figure at 0x108112210>"
       ]
      },
      {
       "output_type": "stream",
       "stream": "stdout",
       "text": [
        "\\begin{tabular}{@{}rllr@{}}\n",
        "\\toprule\n",
        "{} & \\multicolumn{3}{c}{Region 10 (using tab(vs=5.11e+08);\n",
        "vs=5.13e+08 cm/s, az=249.0 deg.)} \\\\\n",
        "\\cmidrule(l){2-4}\n",
        "$\\mu$ (-) & $\\eta_2$ (-) & $B_0$ ($\\mu$G) & $\\chi^2$\\\\\n",
        "\\midrule\n",
        "0.00 & ${2 \\times 10^{1}}^{+2.7 \\times 10^{2}}_{--2.7 \\times 10^{2}}$ & ${5 \\times 10^{2}}^{+1.1 \\times 10^{3}}_{--1.1 \\times 10^{3}}$ & 111.9722\\\\\n",
        "0.33 & ${6 \\times 10^{1}}^{+8.9 \\times 10^{2}}_{--8.9 \\times 10^{2}}$ & ${6 \\times 10^{2}}^{+1.6 \\times 10^{3}}_{--1.6 \\times 10^{3}}$ & 81.5166\\\\\n",
        "0.50 & ${9 \\times 10^{1}}^{+1.6 \\times 10^{3}}_{--1.6 \\times 10^{3}}$ & ${7 \\times 10^{2}}^{+2 \\times 10^{3}}_{--2 \\times 10^{3}}$ & 70.4934\\\\\n",
        "1.00 & ${68}^{+66}_{--66}$ & ${5.6 \\times 10^{2}}^{+-3.1 \\times 10^{2}}_{-3.1 \\times 10^{2}}$ & 56.4783\\\\\n",
        "1.50 & ${10.8}^{+-6.5}_{-6.5}$ & ${3.5 \\times 10^{2}}^{+-3.3 \\times 10^{2}}_{-3.3 \\times 10^{2}}$ & 55.6460\\\\\n",
        "2.00 & ${7.6}^{+-5.6}_{-5.6}$ & ${3.1 \\times 10^{2}}^{+-3 \\times 10^{2}}_{-3 \\times 10^{2}}$ & 56.1258\\\\\n",
        "\\bottomrule\n",
        "\\end{tabular} \n",
        "\n",
        "Region 11 (using tab(vs=5.11e+08);\n",
        "vs=5.11e+08 cm/s, az=252.7 deg.)\n"
       ]
      },
      {
       "html": [
        "<table style='font-family: monospace; font-size: 10pt'><tr><td>mu</td><td>eta2</td><td>B0</td><td>chisqr</td></tr><tr><td>0.00</td><td>23.242 +149.93/--149.93 (std: &plusmn; 173.174)</td><td>670 +366/--366 (std: &plusmn; 1035.531)</td><td>62.2861</td></tr><tr><td>0.33</td><td>71.552 +548.10/--548.10 (std: &plusmn; 619.653)</td><td>808 +734/--734 (std: &plusmn; 1542.160)</td><td>43.5822</td></tr><tr><td>0.50</td><td>130.379 +908.24/--908.24 (std: &plusmn; 1038.620)</td><td>899 +710/--710 (std: &plusmn; 1608.278)</td><td>37.8298</td></tr><tr><td>1.00</td><td>16118.971 +5019.58/--5019.58 (std: &plusmn; 21138.555)</td><td>2.45e+03 +-1.78e+03/-1.78e+03 (std: &plusmn; 673.592)</td><td>32.7315</td></tr><tr><td>1.50</td><td>6.906 +-4.08/-4.08 (std: &plusmn; 2.826)</td><td>417 +-389/-389 (std: &plusmn; 27.893)</td><td>41.9271</td></tr><tr><td>2.00</td><td>4.929 +-3.51/-3.51 (std: &plusmn; 1.414)</td><td>378 +-364/-364 (std: &plusmn; 14.594)</td><td>47.6997</td></tr></table>"
       ],
       "metadata": {},
       "output_type": "display_data",
       "text": [
        "[['mu', 'eta2', 'B0', 'chisqr'],\n",
        " ['0.00',\n",
        "  '23.242 +149.93/--149.93 (std: &plusmn; 173.174)',\n",
        "  '670 +366/--366 (std: &plusmn; 1035.531)',\n",
        "  '62.2861'],\n",
        " ['0.33',\n",
        "  '71.552 +548.10/--548.10 (std: &plusmn; 619.653)',\n",
        "  '808 +734/--734 (std: &plusmn; 1542.160)',\n",
        "  '43.5822'],\n",
        " ['0.50',\n",
        "  '130.379 +908.24/--908.24 (std: &plusmn; 1038.620)',\n",
        "  '899 +710/--710 (std: &plusmn; 1608.278)',\n",
        "  '37.8298'],\n",
        " ['1.00',\n",
        "  '16118.971 +5019.58/--5019.58 (std: &plusmn; 21138.555)',\n",
        "  '2.45e+03 +-1.78e+03/-1.78e+03 (std: &plusmn; 673.592)',\n",
        "  '32.7315'],\n",
        " ['1.50',\n",
        "  '6.906 +-4.08/-4.08 (std: &plusmn; 2.826)',\n",
        "  '417 +-389/-389 (std: &plusmn; 27.893)',\n",
        "  '41.9271'],\n",
        " ['2.00',\n",
        "  '4.929 +-3.51/-3.51 (std: &plusmn; 1.414)',\n",
        "  '378 +-364/-364 (std: &plusmn; 14.594)',\n",
        "  '47.6997']]"
       ]
      },
      {
       "output_type": "stream",
       "stream": "stdout",
       "text": [
        "\tFull model: B0 = 669.687 muG; eta2 = 23.242; mu = 0.000; \n",
        "\tinit rminarc = [ 20.  20.  20.  20.  20.  20.  20.  20.  20.]; adapted = [ 4.23531611  3.92332544  3.24827607  3.12535495  2.80686511  2.71587597\n",
        "  2.49875223  2.3291458   2.29175517]\n",
        "\tFull model: B0 = 808.257 muG; eta2 = 71.552; mu = 0.333; "
       ]
      },
      {
       "output_type": "stream",
       "stream": "stdout",
       "text": [
        "\n",
        "\tinit rminarc = [ 20.  20.  20.  20.  20.  20.  20.  20.  20.]; adapted = [ 4.0827024   3.83797747  3.29111214  3.18974382  2.93234686  2.85853053\n",
        "  2.67317557  2.51798926  2.48369378]\n",
        "\tFull model: B0 = 898.772 muG; eta2 = 130.379; mu = 0.500; "
       ]
      },
      {
       "output_type": "stream",
       "stream": "stdout",
       "text": [
        "\n",
        "\tinit rminarc = [ 20.  20.  20.  20.  20.  20.  20.  20.  20.]; adapted = [ 4.0024247   3.7915785   3.30867791  3.21842639  2.98680265  2.92659321\n",
        "  2.760027    2.61773356  2.58574312]\n",
        "\tFull model: B0 = 2453.473 muG; eta2 = 16118.971; mu = 1.000; "
       ]
      },
      {
       "output_type": "stream",
       "stream": "stdout",
       "text": [
        "\n",
        "\tinit rminarc = [ 20.  20.  20.  20.  20.  20.  20.  20.  20.]; adapted = [ 3.84050165  3.69838778  3.34228178  3.27200292  3.08478582  3.03417158\n",
        "  2.89906855  2.77788694  2.74999962]\n",
        "\tFull model: B0 = 416.951 muG; eta2 = 6.906; mu = 1.500; "
       ]
      },
      {
       "output_type": "stream",
       "stream": "stdout",
       "text": [
        "\n",
        "\tinit rminarc = [ 20.  20.  20.  20.  20.  20.  20.  20.  20.]; adapted = [ 3.92713669  3.70643007  3.28509608  3.21883054  3.06549277  3.02904436\n",
        "  2.94712867  2.8849164   2.87187599]\n",
        "\tFull model: B0 = 378.196 muG; eta2 = 4.929; mu = 2.000; "
       ]
      },
      {
       "output_type": "stream",
       "stream": "stdout",
       "text": [
        "\n",
        "\tinit rminarc = [ 20.  20.  20.  20.  20.  20.  20.  20.  20.]; adapted = [ 3.99700872  3.72736705  3.2480353   3.17971725  3.03586882  3.00521729\n",
        "  2.94254901  2.90150839  2.89363771]\n"
       ]
      },
      {
       "metadata": {},
       "output_type": "display_data",
       "png": "[encoded data removed]",
       "text": [
        "<matplotlib.figure.Figure at 0x10bf79450>"
       ]
      },
      {
       "output_type": "stream",
       "stream": "stdout",
       "text": [
        "\\begin{tabular}{@{}rllr@{}}\n",
        "\\toprule\n",
        "{} & \\multicolumn{3}{c}{Region 11 (using tab(vs=5.11e+08);\n",
        "vs=5.11e+08 cm/s, az=252.7 deg.)} \\\\\n",
        "\\cmidrule(l){2-4}\n",
        "$\\mu$ (-) & $\\eta_2$ (-) & $B_0$ ($\\mu$G) & $\\chi^2$\\\\\n",
        "\\midrule\n",
        "0.00 & ${2 \\times 10^{1}}^{+1.5 \\times 10^{2}}_{--1.5 \\times 10^{2}}$ & ${6.7 \\times 10^{2}}^{+3.7 \\times 10^{2}}_{--3.7 \\times 10^{2}}$ & 62.2861\\\\\n",
        "0.33 & ${7 \\times 10^{1}}^{+5.5 \\times 10^{2}}_{--5.5 \\times 10^{2}}$ & ${8.1 \\times 10^{2}}^{+7.3 \\times 10^{2}}_{--7.3 \\times 10^{2}}$ & 43.5822\\\\\n",
        "0.50 & ${1.3 \\times 10^{2}}^{+9.1 \\times 10^{2}}_{--9.1 \\times 10^{2}}$ & ${9 \\times 10^{2}}^{+7.1 \\times 10^{2}}_{--7.1 \\times 10^{2}}$ & 37.8298\\\\\n",
        "1.00 & ${1.61 \\times 10^{4}}^{+5 \\times 10^{3}}_{--5 \\times 10^{3}}$ & ${2.5 \\times 10^{3}}^{+-1.8 \\times 10^{3}}_{-1.8 \\times 10^{3}}$ & 32.7315\\\\\n",
        "1.50 & ${6.9}^{+-4.1}_{-4.1}$ & ${4.2 \\times 10^{2}}^{+-3.9 \\times 10^{2}}_{-3.9 \\times 10^{2}}$ & 41.9271\\\\\n",
        "2.00 & ${4.9}^{+-3.5}_{-3.5}$ & ${3.8 \\times 10^{2}}^{+-3.6 \\times 10^{2}}_{-3.6 \\times 10^{2}}$ & 47.6997\\\\\n",
        "\\bottomrule\n",
        "\\end{tabular} \n",
        "\n",
        "Region 12 (using tab(vs=5.11e+08);\n",
        "vs=5.09e+08 cm/s, az=256.5 deg.)\n"
       ]
      },
      {
       "html": [
        "<table style='font-family: monospace; font-size: 10pt'><tr><td>mu</td><td>eta2</td><td>B0</td><td>chisqr</td></tr><tr><td>0.00</td><td>21.606 +199.06/--199.06 (std: &plusmn; 220.668)</td><td>762 +851/--851 (std: &plusmn; 1613.860)</td><td>150.4259</td></tr><tr><td>0.33</td><td>59.038 +907.65/--907.65 (std: &plusmn; 966.685)</td><td>891 +2.32e+03/--2.32e+03 (std: &plusmn; 3208.978)</td><td>116.8732</td></tr><tr><td>0.50</td><td>96.079 +1730.06/--1730.06 (std: &plusmn; 1826.140)</td><td>963 +3.14e+03/--3.14e+03 (std: &plusmn; 4104.773)</td><td>104.0160</td></tr><tr><td>1.00</td><td>497.728 +6064.88/--6064.88 (std: &plusmn; 6562.607)</td><td>1.28e+03 +2.65e+03/--2.65e+03 (std: &plusmn; 3926.999)</td><td>83.8157</td></tr><tr><td>1.50</td><td>16.862 +-8.43/-8.43 (std: &plusmn; 8.429)</td><td>554 +-502/-502 (std: &plusmn; 52.632)</td><td>84.7895</td></tr><tr><td>2.00</td><td>9.654 +-6.92/-6.92 (std: &plusmn; 2.732)</td><td>472 +-451/-451 (std: &plusmn; 20.795)</td><td>87.3368</td></tr></table>"
       ],
       "metadata": {},
       "output_type": "display_data",
       "text": [
        "[['mu', 'eta2', 'B0', 'chisqr'],\n",
        " ['0.00',\n",
        "  '21.606 +199.06/--199.06 (std: &plusmn; 220.668)',\n",
        "  '762 +851/--851 (std: &plusmn; 1613.860)',\n",
        "  '150.4259'],\n",
        " ['0.33',\n",
        "  '59.038 +907.65/--907.65 (std: &plusmn; 966.685)',\n",
        "  '891 +2.32e+03/--2.32e+03 (std: &plusmn; 3208.978)',\n",
        "  '116.8732'],\n",
        " ['0.50',\n",
        "  '96.079 +1730.06/--1730.06 (std: &plusmn; 1826.140)',\n",
        "  '963 +3.14e+03/--3.14e+03 (std: &plusmn; 4104.773)',\n",
        "  '104.0160'],\n",
        " ['1.00',\n",
        "  '497.728 +6064.88/--6064.88 (std: &plusmn; 6562.607)',\n",
        "  '1.28e+03 +2.65e+03/--2.65e+03 (std: &plusmn; 3926.999)',\n",
        "  '83.8157'],\n",
        " ['1.50',\n",
        "  '16.862 +-8.43/-8.43 (std: &plusmn; 8.429)',\n",
        "  '554 +-502/-502 (std: &plusmn; 52.632)',\n",
        "  '84.7895'],\n",
        " ['2.00',\n",
        "  '9.654 +-6.92/-6.92 (std: &plusmn; 2.732)',\n",
        "  '472 +-451/-451 (std: &plusmn; 20.795)',\n",
        "  '87.3368']]"
       ]
      },
      {
       "output_type": "stream",
       "stream": "stdout",
       "text": [
        "\tFull model: B0 = 762.367 muG; eta2 = 21.606; mu = 0.000; \n",
        "\tinit rminarc = [ 20.  20.  20.  20.  20.  20.  20.  20.  20.  20.]; adapted = [ 4.00004498  3.57124558  3.17913844  2.73994186  2.48490324  2.25499055\n",
        "  2.13595754  1.98342283  1.84145466  1.81306787]\n",
        "\tFull model: B0 = 891.086 muG; eta2 = 59.038; mu = 0.333; "
       ]
      },
      {
       "output_type": "stream",
       "stream": "stdout",
       "text": [
        "\n",
        "\tinit rminarc = [ 20.  20.  20.  20.  20.  20.  20.  20.  20.  20.]; adapted = [ 3.77617131  3.44362991  3.13438424  2.77856116  2.56614232  2.36792278\n",
        "  2.2679706   2.13443629  2.00037731  1.97409543]\n",
        "\tFull model: B0 = 962.814 muG; eta2 = 96.079; mu = 0.500; "
       ]
      },
      {
       "output_type": "stream",
       "stream": "stdout",
       "text": [
        "\n",
        "\tinit rminarc = [ 20.  20.  20.  20.  20.  20.  20.  20.  20.  20.]; adapted = [ 3.66476252  3.37816083  3.10862948  2.79409538  2.60447034  2.42264996\n",
        "  2.33297169  2.21227865  2.08797697  2.06304028]\n",
        "\tFull model: B0 = 1279.247 muG; eta2 = 497.728; mu = 1.000; "
       ]
      },
      {
       "output_type": "stream",
       "stream": "stdout",
       "text": [
        "\n",
        "\tinit rminarc = [ 20.  20.  20.  20.  20.  20.  20.  20.  20.  20.]; adapted = [ 3.33300082  3.17613398  3.01762167  2.82152646  2.70328837  2.58453365\n",
        "  2.52172303  2.4386436   2.35580963  2.33890083]\n",
        "\tFull model: B0 = 554.269 muG; eta2 = 16.862; mu = 1.500; "
       ]
      },
      {
       "output_type": "stream",
       "stream": "stdout",
       "text": [
        "\n",
        "\tinit rminarc = [ 20.  20.  20.  20.  20.  20.  20.  20.  20.  20.]; adapted = [ 3.43525454  3.19583442  2.99706161  2.8156537   2.71051203  2.61713725\n",
        "  2.57183329  2.51549648  2.46189823  2.45151851]\n",
        "\tFull model: B0 = 472.003 muG; eta2 = 9.654; mu = 2.000; "
       ]
      },
      {
       "output_type": "stream",
       "stream": "stdout",
       "text": [
        "\n",
        "\tinit rminarc = [ 20.  20.  20.  20.  20.  20.  20.  20.  20.  20.]; adapted = [ 3.60519654  3.26124132  2.99800046  2.78697079  2.68073265  2.59702045\n",
        "  2.56234047  2.52563962  2.49838458  2.49404862]\n"
       ]
      },
      {
       "metadata": {},
       "output_type": "display_data",
       "png": "[encoded data removed]",
       "text": [
        "<matplotlib.figure.Figure at 0x10c3c4810>"
       ]
      },
      {
       "output_type": "stream",
       "stream": "stdout",
       "text": [
        "\\begin{tabular}{@{}rllr@{}}\n",
        "\\toprule\n",
        "{} & \\multicolumn{3}{c}{Region 12 (using tab(vs=5.11e+08);\n",
        "vs=5.09e+08 cm/s, az=256.5 deg.)} \\\\\n",
        "\\cmidrule(l){2-4}\n",
        "$\\mu$ (-) & $\\eta_2$ (-) & $B_0$ ($\\mu$G) & $\\chi^2$\\\\\n",
        "\\midrule\n",
        "0.00 & ${2 \\times 10^{1}}^{+2 \\times 10^{2}}_{--2 \\times 10^{2}}$ & ${7.6 \\times 10^{2}}^{+8.5 \\times 10^{2}}_{--8.5 \\times 10^{2}}$ & 150.4259\\\\\n",
        "0.33 & ${6 \\times 10^{1}}^{+9.1 \\times 10^{2}}_{--9.1 \\times 10^{2}}$ & ${9 \\times 10^{2}}^{+2.3 \\times 10^{3}}_{--2.3 \\times 10^{3}}$ & 116.8732\\\\\n",
        "0.50 & ${1 \\times 10^{2}}^{+1.7 \\times 10^{3}}_{--1.7 \\times 10^{3}}$ & ${1 \\times 10^{3}}^{+3.1 \\times 10^{3}}_{--3.1 \\times 10^{3}}$ & 104.0160\\\\\n",
        "1.00 & ${5 \\times 10^{2}}^{+6.1 \\times 10^{3}}_{--6.1 \\times 10^{3}}$ & ${1.3 \\times 10^{3}}^{+2.6 \\times 10^{3}}_{--2.6 \\times 10^{3}}$ & 83.8157\\\\\n",
        "1.50 & ${16.9}^{+-8.4}_{-8.4}$ & ${5.5 \\times 10^{2}}^{+-5 \\times 10^{2}}_{-5 \\times 10^{2}}$ & 84.7895\\\\\n",
        "2.00 & ${9.7}^{+-6.9}_{-6.9}$ & ${4.7 \\times 10^{2}}^{+-4.5 \\times 10^{2}}_{-4.5 \\times 10^{2}}$ & 87.3368\\\\\n",
        "\\bottomrule\n",
        "\\end{tabular} \n",
        "\n",
        "Region 13 (using tab(vs=5.11e+08);\n",
        "vs=5.07e+08 cm/s, az=262.5 deg.)\n"
       ]
      },
      {
       "html": [
        "<table style='font-family: monospace; font-size: 10pt'><tr><td>mu</td><td>eta2</td><td>B0</td><td>chisqr</td></tr><tr><td>0.00</td><td>21.752 +296.86/--296.86 (std: &plusmn; 318.612)</td><td>776 +1.58e+03/--1.58e+03 (std: &plusmn; 2356.400)</td><td>76.9297</td></tr><tr><td>0.33</td><td>58.635 +1386.98/--1386.98 (std: &plusmn; 1445.611)</td><td>903 +3.99e+03/--3.99e+03 (std: &plusmn; 4894.309)</td><td>51.3875</td></tr><tr><td>0.50</td><td>91.655 +2539.11/--2539.11 (std: &plusmn; 2630.763)</td><td>965 +5.25e+03/--5.25e+03 (std: &plusmn; 6213.049)</td><td>40.3597</td></tr><tr><td>1.00</td><td>345.910 +11305.66/--11305.66 (std: &plusmn; 11651.568)</td><td>1.19e+03 +8.12e+03/--8.12e+03 (std: &plusmn; 9305.231)</td><td>15.7162</td></tr><tr><td>1.50</td><td>715.655 +10024.80/--10024.80 (std: &plusmn; 10740.454)</td><td>1.28e+03 +3.27e+03/--3.27e+03 (std: &plusmn; 4546.501)</td><td>5.6257</td></tr><tr><td>2.00</td><td>31.188 +-12.48/-12.48 (std: &plusmn; 18.707)</td><td>581 +-513/-513 (std: &plusmn; 68.055)</td><td>5.0051</td></tr></table>"
       ],
       "metadata": {},
       "output_type": "display_data",
       "text": [
        "[['mu', 'eta2', 'B0', 'chisqr'],\n",
        " ['0.00',\n",
        "  '21.752 +296.86/--296.86 (std: &plusmn; 318.612)',\n",
        "  '776 +1.58e+03/--1.58e+03 (std: &plusmn; 2356.400)',\n",
        "  '76.9297'],\n",
        " ['0.33',\n",
        "  '58.635 +1386.98/--1386.98 (std: &plusmn; 1445.611)',\n",
        "  '903 +3.99e+03/--3.99e+03 (std: &plusmn; 4894.309)',\n",
        "  '51.3875'],\n",
        " ['0.50',\n",
        "  '91.655 +2539.11/--2539.11 (std: &plusmn; 2630.763)',\n",
        "  '965 +5.25e+03/--5.25e+03 (std: &plusmn; 6213.049)',\n",
        "  '40.3597'],\n",
        " ['1.00',\n",
        "  '345.910 +11305.66/--11305.66 (std: &plusmn; 11651.568)',\n",
        "  '1.19e+03 +8.12e+03/--8.12e+03 (std: &plusmn; 9305.231)',\n",
        "  '15.7162'],\n",
        " ['1.50',\n",
        "  '715.655 +10024.80/--10024.80 (std: &plusmn; 10740.454)',\n",
        "  '1.28e+03 +3.27e+03/--3.27e+03 (std: &plusmn; 4546.501)',\n",
        "  '5.6257'],\n",
        " ['2.00',\n",
        "  '31.188 +-12.48/-12.48 (std: &plusmn; 18.707)',\n",
        "  '581 +-513/-513 (std: &plusmn; 68.055)',\n",
        "  '5.0051']]"
       ]
      },
      {
       "output_type": "stream",
       "stream": "stdout",
       "text": [
        "\tFull model: B0 = 775.922 muG; eta2 = 21.752; mu = 0.000; \n",
        "\tinit rminarc = [ 20.  20.  20.  20.  20.  20.  20.  20.  20.  20.]; adapted = [ 3.89615784  3.48080412  3.10077538  2.66085552  2.41419185  2.19059073\n",
        "  2.07456052  1.92875654  1.79159133  1.7635183 ]\n",
        "\tFull model: B0 = 902.527 muG; eta2 = 58.635; mu = 0.333; "
       ]
      },
      {
       "output_type": "stream",
       "stream": "stdout",
       "text": [
        "\n",
        "\tinit rminarc = [ 20.  20.  20.  20.  20.  20.  20.  20.  20.  20.]; adapted = [ 3.69175629  3.36813372  3.06601226  2.70810611  2.50036629  2.30986433\n",
        "  2.21092151  2.08021     1.95110139  1.92624971]\n",
        "\tFull model: B0 = 965.279 muG; eta2 = 91.655; mu = 0.500; "
       ]
      },
      {
       "output_type": "stream",
       "stream": "stdout",
       "text": [
        "\n",
        "\tinit rminarc = [ 20.  20.  20.  20.  20.  20.  20.  20.  20.  20.]; adapted = [ 3.58921399  3.31146106  3.04585496  2.72886029  2.54258333  2.36826039\n",
        "  2.27962933  2.16050925  2.03934801  2.01524945]\n",
        "\tFull model: B0 = 1186.478 muG; eta2 = 345.910; mu = 1.000; "
       ]
      },
      {
       "output_type": "stream",
       "stream": "stdout",
       "text": [
        "\n",
        "\tinit rminarc = [ 20.  20.  20.  20.  20.  20.  20.  20.  20.  20.]; adapted = [ 3.28825273  3.13065023  2.9732922   2.77442171  2.65735345  2.54088146\n",
        "  2.47974028  2.39989435  2.31946031  2.30276851]\n",
        "\tFull model: B0 = 1277.905 muG; eta2 = 715.655; mu = 1.500; "
       ]
      },
      {
       "output_type": "stream",
       "stream": "stdout",
       "text": [
        "\n",
        "\tinit rminarc = [ 20.  20.  20.  20.  20.  20.  20.  20.  20.  20.]; adapted = [ 3.00345082  2.94326076  2.87343081  2.79510354  2.75099453  2.70632314\n",
        "  2.68212754  2.64920633  2.61421473  2.60695985]\n",
        "\tFull model: B0 = 580.680 muG; eta2 = 31.188; mu = 2.000; "
       ]
      },
      {
       "output_type": "stream",
       "stream": "stdout",
       "text": [
        "\n",
        "\tinit rminarc = [ 20.  20.  20.  20.  20.  20.  20.  20.  20.  20.]; adapted = [ 3.16851334  2.99712393  2.87755583  2.7686995   2.73022055  2.70767989\n",
        "  2.70142736  2.69868806  2.70208796  2.70350417]\n"
       ]
      },
      {
       "metadata": {},
       "output_type": "display_data",
       "png": "[encoded data removed]",
       "text": [
        "<matplotlib.figure.Figure at 0x10caaced0>"
       ]
      },
      {
       "output_type": "stream",
       "stream": "stdout",
       "text": [
        "\\begin{tabular}{@{}rllr@{}}\n",
        "\\toprule\n",
        "{} & \\multicolumn{3}{c}{Region 13 (using tab(vs=5.11e+08);\n",
        "vs=5.07e+08 cm/s, az=262.5 deg.)} \\\\\n",
        "\\cmidrule(l){2-4}\n",
        "$\\mu$ (-) & $\\eta_2$ (-) & $B_0$ ($\\mu$G) & $\\chi^2$\\\\\n",
        "\\midrule\n",
        "0.00 & ${2 \\times 10^{1}}^{+3 \\times 10^{2}}_{--3 \\times 10^{2}}$ & ${8 \\times 10^{2}}^{+1.6 \\times 10^{3}}_{--1.6 \\times 10^{3}}$ & 76.9297\\\\\n",
        "0.33 & ${6 \\times 10^{1}}^{+1.4 \\times 10^{3}}_{--1.4 \\times 10^{3}}$ & ${9 \\times 10^{2}}^{+4 \\times 10^{3}}_{--4 \\times 10^{3}}$ & 51.3875\\\\\n",
        "0.50 & ${9 \\times 10^{1}}^{+2.5 \\times 10^{3}}_{--2.5 \\times 10^{3}}$ & ${1 \\times 10^{3}}^{+5.2 \\times 10^{3}}_{--5.2 \\times 10^{3}}$ & 40.3597\\\\\n",
        "1.00 & ${3 \\times 10^{2}}^{+1.1 \\times 10^{4}}_{--1.1 \\times 10^{4}}$ & ${1.2 \\times 10^{3}}^{+8.1 \\times 10^{3}}_{--8.1 \\times 10^{3}}$ & 15.7162\\\\\n",
        "1.50 & ${7 \\times 10^{2}}^{+1 \\times 10^{4}}_{--1 \\times 10^{4}}$ & ${1.3 \\times 10^{3}}^{+3.3 \\times 10^{3}}_{--3.3 \\times 10^{3}}$ & 5.6257\\\\\n",
        "2.00 & ${31}^{+-12}_{-12}$ & ${5.8 \\times 10^{2}}^{+-5.1 \\times 10^{2}}_{-5.1 \\times 10^{2}}$ & 5.0051\\\\\n",
        "\\bottomrule\n",
        "\\end{tabular} \n",
        "\n"
       ]
      }
     ],
     "prompt_number": 27
    }
   ],
   "metadata": {}
  }
 ]
}