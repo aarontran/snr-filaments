{
 "metadata": {
  "name": "",
  "signature": "sha256:240800b0809e54fca51bd9e37c9aa425f776ddf9206a55497162f0efb381de32"
 },
 "nbformat": 3,
 "nbformat_minor": 0,
 "worksheets": [
  {
   "cells": [
    {
     "cell_type": "heading",
     "level": 1,
     "metadata": {},
     "source": [
      "SN1006 fitting notebook"
     ]
    },
    {
     "cell_type": "markdown",
     "metadata": {},
     "source": [
      "Apply full model code for SNR thin filament widths to SN 1006.\n",
      "Should replicate Tables 7, 8 of [Ressler et al., 2014](http://dx.doi.org/10.1088/0004-637X/790/2/85)"
     ]
    },
    {
     "cell_type": "code",
     "collapsed": false,
     "input": [
      "%pylab --no-import-all\n",
      "%matplotlib inline\n",
      "# ('gtk', 'inline', 'osx', 'qt', 'qt4', 'tk', 'wx')\n",
      "from fplot import fplot, show_mplrc_settings\n",
      "from IPython.core.display import display, Image, HTML, Math, Latex\n",
      "\n",
      "from IPython import parallel\n",
      "\n",
      "from __future__ import division\n",
      "\n",
      "import cPickle as pickle\n",
      "\n",
      "import fullmodel_recompile\n",
      "fullmodel_recompile.main()\n",
      "\n",
      "import models\n",
      "import models_disp as mdsp\n",
      "import models_exec as mex\n",
      "import snr_catalog as snrcat\n",
      "\n",
      "# For reference\n",
      "show_mplrc_settings()"
     ],
     "language": "python",
     "metadata": {},
     "outputs": [
      {
       "output_type": "stream",
       "stream": "stdout",
       "text": [
        "Using matplotlib backend: MacOSX\n",
        "Populating the interactive namespace from numpy and matplotlib\n",
        "Using /Users/aarontran/Documents/snr-filaments/code-models/matplotlibrc"
       ]
      },
      {
       "output_type": "stream",
       "stream": "stdout",
       "text": [
        "\n",
        "Font sizes for axes: 9; (x,y) ticks: (9, 9): legend 9\n",
        "Font family serif uses face ['Times']\n",
        "Figure size: (6.0, 4.0), dpi: 80\n"
       ]
      }
     ],
     "prompt_number": 1
    },
    {
     "cell_type": "heading",
     "level": 2,
     "metadata": {},
     "source": [
      "0.1 Data import, Fitter() generator"
     ]
    },
    {
     "cell_type": "code",
     "collapsed": false,
     "input": [
      "SN1006_KEVS = np.array([0.7, 1.0, 2.0])\n",
      "SN1006_DATA = {}\n",
      "SN1006_DATA[1] = np.array([35.5, 31.94, 25.34]), np.array([1.73, .97, 1.71])\n",
      "SN1006_DATA[2] = np.array([23.02, 17.46, 15.3]), np.array([.35,.139, .559])\n",
      "SN1006_DATA[3] = np.array([49.14, 42.76,29.34]), np.array([1.5, .718, .767])\n",
      "SN1006_DATA[4] = np.array([29, 23.9, 16.6]), np.array([.9, .39, .45])\n",
      "SN1006_DATA[5] = np.array([33.75, 27.2, 24.75 ]), np.array([2.37,.62,.61])\n",
      "\n",
      "with open('tables/sn1006_grid-6-100-20_2014-07-25.pkl', 'r') as fpkl:\n",
      "    TAB = pickle.load(fpkl)\n",
      "\n",
      "def gen_SN1006(fmod=None, verbose=True):\n",
      "    for n in SN1006_DATA:\n",
      "        data, eps = SN1006_DATA[n]\n",
      "        fobj = mex.Fitter(snrcat.make_SN1006(), SN1006_KEVS,\n",
      "                          data, eps, TAB, inds=None, verbose=verbose)\n",
      "        fobj.title = 'Filament {}'.format(n)\n",
      "        if fmod:\n",
      "            fobj = fmod(fobj)\n",
      "        yield fobj"
     ],
     "language": "python",
     "metadata": {},
     "outputs": [],
     "prompt_number": 2
    },
    {
     "cell_type": "heading",
     "level": 2,
     "metadata": {},
     "source": [
      "0.2 Parallelized iPython setup"
     ]
    },
    {
     "cell_type": "markdown",
     "metadata": {},
     "source": [
      "Possibly useful [SE question](http://stackoverflow.com/q/15289168), and [another](http://stackoverflow.com/q/18086299) (both answered by \"Min\" Ragan-Kelley (`minrk`)).  As it would be useful to view stdout as computation progresses..."
     ]
    },
    {
     "cell_type": "code",
     "collapsed": false,
     "input": [
      "clients = parallel.Client()\n",
      "#lview = clients.load_balanced_view()\n",
      "#lview.block = True\n",
      "dview = clients[:]\n",
      "dview.block = False\n",
      "dview.use_dill()  # to serialize messy things: http://matthewrocklin.com/blog/work/2013/12/05/Parallelism-and-Serialization/\n",
      "\n",
      "%px import models_disp as mdsp"
     ],
     "language": "python",
     "metadata": {},
     "outputs": [],
     "prompt_number": 3
    },
    {
     "cell_type": "heading",
     "level": 1,
     "metadata": {},
     "source": [
      "1. Simple model fitting, Table 7"
     ]
    },
    {
     "cell_type": "heading",
     "level": 2,
     "metadata": {},
     "source": [
      "1.1 Check $(\\eta_2, \\chi^2)$ space behavior"
     ]
    },
    {
     "cell_type": "markdown",
     "metadata": {},
     "source": [
      "For fixed mu, find best simple model fits over a range of $\\eta_2$. Results show how $\\eta_2$ is well or poorly constrained in $\\chi^2$ space, complementing our error estimates.  This illustrates the challenge in determining best fit parameters."
     ]
    },
    {
     "cell_type": "code",
     "collapsed": false,
     "input": [
      "mu_vals = [0, 1./3, 0.5, 1, 1.5, 2]  # Plotting more mu values shows tendency for best fits to run off to mu=50...\n",
      "fmt_vals = [':r.', ':g.', ':b.', '-k.', '--c.', '--y.']\n",
      "eta2_vals = np.logspace(-3, 3, num=100, base=10)  # One extra decade in each direction, vs. gridded eta2...\n",
      "\n",
      "plt.figure(figsize=(20,3.7))\n",
      "for fobj, i in zip(gen_SN1006(verbose=False), xrange(5)):\n",
      "    plt.subplot(1,5,i+1)\n",
      "    plt.title(fobj.title)\n",
      "    fobj.check_eta2_simp(eta2_vals, mu_vals, fmt_vals)\n",
      "plt.show()"
     ],
     "language": "python",
     "metadata": {},
     "outputs": []
    },
    {
     "cell_type": "heading",
     "level": 2,
     "metadata": {},
     "source": [
      "1.2 Fit data and tabulate/plot best fit results"
     ]
    },
    {
     "cell_type": "code",
     "collapsed": false,
     "input": [
      "mu_vals = [0., 1./3, 0.5, 1, 1.5, 2.]\n",
      "fmt_vals = [':b', ':g', ':r', '-k', '-r', '-g']\n",
      "\n",
      "# Apply fit settings using factory function\n",
      "f_data = mdsp.build_dataf('simp', conf_intv=0.683, fit_kws={},\n",
      "                          err_kws={'method':'manual'})\n",
      "# Customize fitter settings\n",
      "def fitter_mod(fobj):\n",
      "    #fobj.set_inds([0, 1])\n",
      "    #fobj.snr.vs=4e8\n",
      "    return fobj\n",
      "\n",
      "dview.push(dict(f_data=f_data, mu_vals=mu_vals))\n",
      "\n",
      "tables_out = dview.map_async(lambda f: mdsp.generate_tabs(f_data, f, f.title, mu_vals),\n",
      "                             gen_SN1006(fitter_mod, verbose=True))"
     ],
     "language": "python",
     "metadata": {},
     "outputs": [],
     "prompt_number": 4
    },
    {
     "cell_type": "code",
     "collapsed": false,
     "input": [
      "tables_out.display_outputs()\n",
      "# tables_out.stdout"
     ],
     "language": "python",
     "metadata": {},
     "outputs": []
    },
    {
     "cell_type": "markdown",
     "metadata": {},
     "source": [
      "Generate plots and tables.  This can be run while `tables_out` is being computed, but will block until the computation completes."
     ]
    },
    {
     "cell_type": "code",
     "collapsed": false,
     "input": [
      "for table, ltable, plist, fobj in tables_out:\n",
      "    print fobj.title\n",
      "    display(table)\n",
      "    mdsp.generate_plots(plist, fobj, fobj.title, mu_vals, fmt_vals)\n",
      "    print ltable, '\\n'"
     ],
     "language": "python",
     "metadata": {},
     "outputs": []
    },
    {
     "cell_type": "heading",
     "level": 1,
     "metadata": {},
     "source": [
      "2. Full model fitting, Table 8"
     ]
    },
    {
     "cell_type": "heading",
     "level": 2,
     "metadata": {},
     "source": [
      "2.1 Compute $\\chi^2$ for Sean's best fit values -- reference/comparison"
     ]
    },
    {
     "cell_type": "markdown",
     "metadata": {},
     "source": [
      "For minimal-diffusion filaments, I took the largest eta2 value reported (e.g., for $\\leq 0.1$ I used 0.1).\n",
      "\n",
      "This is a one-off method because, unlike the other data presented here, I'm using a pre-defined set of (mu, B0, eta2) values just to allow comparison with chisqrs.  Also haven't included uncertainties (see Sean's paper)\n",
      "\n",
      "Use this table to check that our best-fit parameters are similar to, or better than, Sean's reported parameters\n",
      "\n",
      "NOTE: this code is a bit outdated / not functional, but low priority right now."
     ]
    },
    {
     "cell_type": "code",
     "collapsed": false,
     "input": [
      "def SN1006_params():\n",
      "    \"\"\"Nicely formatted Table 8, Ressler et al. (2014)\"\"\"\n",
      "    mu_dict = {}\n",
      "    mu_dict[0.]   = {1:(7.5, 142),              3:(0.1, 77), 4:(0.2, 113)}\n",
      "    mu_dict[1./3] = {1:(4,   120),              3:(0.1, 76), 4:(0.2, 112)}\n",
      "    mu_dict[1./2] = {1:(3,   112),              3:(0.1, 75), 4:(0.2, 111)}\n",
      "    mu_dict[1.]   = {1:(2,   100), 2:(22, 214), 3:(0.1, 74), 4:(0.2, 109), 5:(80, 206)}\n",
      "    mu_dict[1.5]  = {1:(1.9,  95), 2:(9,  167), 3:(0.1, 74), 4:(0.2, 108), 5:(19, 140)}\n",
      "    mu_dict[2.]   = {1:(2,    92), 2:(7,  152), 3:(0.1, 73), 4:(0.2, 107), 5:(12, 120)}\n",
      "    # Restructure to ease processing; convert {\\mu G} to G.\n",
      "    # mu_dict format is easier to check against Table 8\n",
      "    tab8 = {}\n",
      "    for mu in mu_dict:\n",
      "        for flmt in mu_dict[mu]:\n",
      "            if flmt not in tab8:\n",
      "                tab8[flmt] = []\n",
      "            eta2, B0 = mu_dict[mu][flmt]\n",
      "            tab8[flmt].append( (mu, eta2, B0*1e-6) )\n",
      "    \n",
      "    return tab8\n",
      "\n",
      "\n",
      "def make_table8(fobj):\n",
      "    \"\"\"Calculate chi-squared values for Sean's fits, with 2 or 3 bands\"\"\"\n",
      "    tab8 = SN1006_params()\n",
      "    # Compute and tabulate chi-squared values\n",
      "    for flmt in tab8:\n",
      "        fobj.set_data_err(*SN1006_DATA[flmt])\n",
      "        \n",
      "        print 'Filament {}, Sean\\'s manual full model fits (3,2 bands)'.format(flmt)\n",
      "        table = ListTable()\n",
      "        table.append(['mu', 'eta2', 'B0', 'chisqr (3)', 'chisqr (2)'])\n",
      "\n",
      "        flmt_fits = sorted(tab8[flmt], key = lambda x: x[0])  # Sort tuples by mu\n",
      "        \n",
      "        for mu, eta2, B0 in flmt_fits:\n",
      "            \n",
      "            fwhms = models.full_width(fobj.snr, fobj.kevs, mu, eta2, B0,\n",
      "                                      verbose=False)\n",
      "            \n",
      "            chisqr3 = models.chi_squared(fobj.data, fobj.eps, fwhms)\n",
      "            chisqr2 = models.chi_squared(fobj.data[1:], fobj.eps[1:], fwhms[1:])\n",
      "\n",
      "            table_row = ['{:0.2f}'.format(mu)]\n",
      "            table_row.append('{:0.2f}'.format(eta2))\n",
      "            table_row.append('{:0.2f}'.format(B0*1e6))\n",
      "            table_row.append('{:0.4f}'.format(chisqr3))\n",
      "            table_row.append('{:0.4f}'.format(chisqr2))\n",
      "            table.append(table_row)\n",
      "\n",
      "        display(table)\n",
      "        print ''"
     ],
     "language": "python",
     "metadata": {},
     "outputs": [],
     "prompt_number": 6
    },
    {
     "cell_type": "code",
     "collapsed": false,
     "input": [
      "FITTER.snr = snrcat.make_SN1006()  # Reset to be sure\n",
      "make_table8(FITTER)  # Requires ~1-2 minutes to be rerun"
     ],
     "language": "python",
     "metadata": {},
     "outputs": []
    },
    {
     "cell_type": "heading",
     "level": 2,
     "metadata": {},
     "source": [
      "2.2 Check gridding quality: plots of $(B_0, \\chi^2)$ space and $(\\eta_2, \\chi^2)$ space"
     ]
    },
    {
     "cell_type": "code",
     "collapsed": true,
     "input": [
      "mu_vals = [0, 1./3, 0.5, 1, 1.5, 2]\n",
      "fmt_vals = [':r.', ':g.', ':b.', '-k.', '--c.', '--y.']\n",
      "eta2_vals = np.sort(TAB[0].keys())  # Assumes same eta2 values for all mu\n",
      "\n",
      "for eta2 in eta2_vals[::10]:\n",
      "    header = 'Eta2 = {:0.2f}'.format(eta2)\n",
      "    print header\n",
      "    print '-'*len(header)\n",
      "    plt.figure(figsize=(20,8))\n",
      "    for fobj, i in zip(gen_SN1006(verbose=False), xrange(5)):\n",
      "        # Log scaling\n",
      "        plt.subplot(2,5,i+1)\n",
      "        plt.title(fobj.title)\n",
      "        plt.yscale('log')\n",
      "        fobj.check_B0_grid(eta2, mu_vals, fmt_vals)\n",
      "        # Linear scaling\n",
      "        plt.subplot(2,5,i+6)\n",
      "        fobj.check_B0_grid(eta2, mu_vals, fmt_vals)\n",
      "    plt.tight_layout()\n",
      "    plt.show()\n",
      "    print ''"
     ],
     "language": "python",
     "metadata": {},
     "outputs": []
    },
    {
     "cell_type": "code",
     "collapsed": false,
     "input": [
      "mu_vals = [0, 1./3, 0.5, 1, 1.5, 2]\n",
      "fmt_vals = [':r.', ':g.', ':b.', '-k.', '--c.', '--y.']\n",
      "plt.figure(figsize=(20,3.7))\n",
      "for fobj, i in zip(gen_SN1006(verbose=False), xrange(5)):\n",
      "    plt.subplot(1,5,i+1)\n",
      "    plt.title(fobj.title)\n",
      "    fobj.check_eta2_grid(mu_vals, fmt_vals)\n",
      "plt.show()"
     ],
     "language": "python",
     "metadata": {},
     "outputs": []
    },
    {
     "cell_type": "heading",
     "level": 2,
     "metadata": {},
     "source": [
      "2.3 Fit data and tabulate/plot best fit results"
     ]
    },
    {
     "cell_type": "markdown",
     "metadata": {},
     "source": [
      "Cell below clocked in at ~22 minutes (1304 sec), without any error annealing."
     ]
    },
    {
     "cell_type": "code",
     "collapsed": false,
     "input": [
      "mu_vals = [0., 1./3, 0.5, 1, 1.5, 2.]\n",
      "fmt_vals = [':b', ':g', ':r', '-k', '-r', '-g']\n",
      "\n",
      "# Apply fit settings using factory function\n",
      "f_data = mdsp.build_dataf('full', conf_intv=0.683, fit_kws={},\n",
      "                          err_kws={'method':'stderr', 'anneal':True})\n",
      "# Customize fitter settings\n",
      "def fitter_mod(fobj):\n",
      "    #fobj.set_inds([0, 1])\n",
      "    #fobj.snr.vs=4e8\n",
      "    return fobj\n",
      "\n",
      "dview.push(dict(f_data=f_data, mu_vals=mu_vals))\n",
      "\n",
      "tables_out = dview.map_async(lambda f: mdsp.generate_tabs(f_data, f, f.title, mu_vals),\n",
      "                             gen_SN1006(fitter_mod, verbose=True))"
     ],
     "language": "python",
     "metadata": {},
     "outputs": [],
     "prompt_number": 7
    },
    {
     "cell_type": "code",
     "collapsed": false,
     "input": [
      "for _s in tables_out.stdout:\n",
      "    print _s"
     ],
     "language": "python",
     "metadata": {},
     "outputs": []
    },
    {
     "cell_type": "markdown",
     "metadata": {},
     "source": [
      "Note: this takes a few minutes to run, as it calls `width_cont` several times to generate plots.\n",
      "\n",
      "This output (Thurs Aug. 28) included full fits, which all seemed to converge all right; errors are just stderrs."
     ]
    },
    {
     "cell_type": "code",
     "collapsed": false,
     "input": [
      "for table, ltable, plist, fobj in tables_out:\n",
      "    print fobj.title\n",
      "    display(table)\n",
      "    mdsp.generate_plots(plist, fobj, fobj.title, mu_vals, fmt_vals)\n",
      "    print ltable, '\\n'"
     ],
     "language": "python",
     "metadata": {},
     "outputs": [
      {
       "output_type": "stream",
       "stream": "stdout",
       "text": [
        "Filament 1\n"
       ]
      },
      {
       "html": [
        "<table style='font-family: monospace; font-size: 10pt'><tr><td>mu</td><td>eta2</td><td>B0</td><td>chisqr</td></tr><tr><td>0.00</td><td>28.032 +1270.99/--1270.99 (std: &plusmn; 1299.021)</td><td>188 +1.65e+03/--1.65e+03 (std: &plusmn; 1833.108)</td><td>0.1149</td></tr><tr><td>0.33</td><td>5.678 +7.49/--7.49 (std: &plusmn; 13.167)</td><td>127 +-74.8/-74.8 (std: &plusmn; 52.660)</td><td>0.0568</td></tr><tr><td>0.50</td><td>3.849 +2.39/--2.39 (std: &plusmn; 6.242)</td><td>116 +-86.6/-86.6 (std: &plusmn; 29.368)</td><td>0.0741</td></tr><tr><td>1.00</td><td>2.590 +0.01/--0.01 (std: &plusmn; 2.598)</td><td>102 +-90.9/-90.9 (std: &plusmn; 11.628)</td><td>0.1415</td></tr><tr><td>1.50</td><td>2.457 +-0.39/-0.39 (std: &plusmn; 2.065)</td><td>97.1 +-89.9/-89.9 (std: &plusmn; 7.133)</td><td>0.2221</td></tr><tr><td>2.00</td><td>2.640 +-0.57/-0.57 (std: &plusmn; 2.067)</td><td>94.2 +-88.9/-88.9 (std: &plusmn; 5.231)</td><td>0.3021</td></tr></table>"
       ],
       "metadata": {},
       "output_type": "display_data",
       "text": [
        "[['mu', 'eta2', 'B0', 'chisqr'],\n",
        " ['0.00',\n",
        "  '28.032 +1270.99/--1270.99 (std: &plusmn; 1299.021)',\n",
        "  '188 +1.65e+03/--1.65e+03 (std: &plusmn; 1833.108)',\n",
        "  '0.1149'],\n",
        " ['0.33',\n",
        "  '5.678 +7.49/--7.49 (std: &plusmn; 13.167)',\n",
        "  '127 +-74.8/-74.8 (std: &plusmn; 52.660)',\n",
        "  '0.0568'],\n",
        " ['0.50',\n",
        "  '3.849 +2.39/--2.39 (std: &plusmn; 6.242)',\n",
        "  '116 +-86.6/-86.6 (std: &plusmn; 29.368)',\n",
        "  '0.0741'],\n",
        " ['1.00',\n",
        "  '2.590 +0.01/--0.01 (std: &plusmn; 2.598)',\n",
        "  '102 +-90.9/-90.9 (std: &plusmn; 11.628)',\n",
        "  '0.1415'],\n",
        " ['1.50',\n",
        "  '2.457 +-0.39/-0.39 (std: &plusmn; 2.065)',\n",
        "  '97.1 +-89.9/-89.9 (std: &plusmn; 7.133)',\n",
        "  '0.2221'],\n",
        " ['2.00',\n",
        "  '2.640 +-0.57/-0.57 (std: &plusmn; 2.067)',\n",
        "  '94.2 +-88.9/-88.9 (std: &plusmn; 5.231)',\n",
        "  '0.3021']]"
       ]
      },
      {
       "output_type": "stream",
       "stream": "stdout",
       "text": [
        "\tFunction call with B0 = 187.965 muG; eta2 = 28.032; mu = 0.000; rminarc = [ 60.  60.  60.  60.  60.  60.  60.  60.]\n",
        "\tFunction call with B0 = 127.482 muG; eta2 = 5.678; mu = 0.333; rminarc = [ 60.  60.  60.  60.  60.  60.  60.  60.]"
       ]
      },
      {
       "output_type": "stream",
       "stream": "stdout",
       "text": [
        "\n",
        "\tFunction call with B0 = 115.956 muG; eta2 = 3.849; mu = 0.500; rminarc = [ 60.  60.  60.  60.  60.  60.  60.  60.]"
       ]
      },
      {
       "output_type": "stream",
       "stream": "stdout",
       "text": [
        "\n",
        "\tFunction call with B0 = 102.494 muG; eta2 = 2.590; mu = 1.000; rminarc = [ 60.  60.  60.  60.  60.  60.  60.  60.]"
       ]
      },
      {
       "output_type": "stream",
       "stream": "stdout",
       "text": [
        "\n",
        "\tFunction call with B0 = 97.081 muG; eta2 = 2.457; mu = 1.500; rminarc = [ 60.  60.  60.  60.  60.  60.  60.  60.]"
       ]
      },
      {
       "output_type": "stream",
       "stream": "stdout",
       "text": [
        "\n",
        "\tFunction call with B0 = 94.177 muG; eta2 = 2.640; mu = 2.000; rminarc = [ 60.  60.  60.  60.  60.  60.  60.  60.]"
       ]
      },
      {
       "output_type": "stream",
       "stream": "stdout",
       "text": [
        "\n"
       ]
      },
      {
       "metadata": {},
       "output_type": "display_data",
       "png": "[encoded data removed]",
       "text": [
        "<matplotlib.figure.Figure at 0x10d275c50>"
       ]
      },
      {
       "output_type": "stream",
       "stream": "stdout",
       "text": [
        "\\begin{tabular}{@{}rllr@{}}\n",
        "\\toprule\n",
        "{} & \\multicolumn{3}{c}{Filament 1} \\\\\n",
        "\\cmidrule(l){2-4}\n",
        "$\\mu$ (-) & $\\eta_2$ (-) & $B_0$ ($\\mu$G) & $\\chi^2$\\\\\n",
        "\\midrule\n",
        "0.00 & ${3 \\times 10^{1}}^{+1.3 \\times 10^{3}}_{--1.3 \\times 10^{3}}$ & ${2 \\times 10^{2}}^{+1.6 \\times 10^{3}}_{--1.6 \\times 10^{3}}$ & 0.1149\\\\\n",
        "0.33 & ${5.7}^{+7.5}_{--7.5}$ & ${127}^{+-75}_{-75}$ & 0.0568\\\\\n",
        "0.50 & ${3.8}^{+2.4}_{--2.4}$ & ${116}^{+-87}_{-87}$ & 0.0741\\\\\n",
        "1.00 & ${2.5898}^{+0.0084}_{--0.0084}$ & ${102}^{+-91}_{-91}$ & 0.1415\\\\\n",
        "1.50 & ${2.46}^{+-0.39}_{-0.39}$ & ${97}^{+-90}_{-90}$ & 0.2221\\\\\n",
        "2.00 & ${2.64}^{+-0.57}_{-0.57}$ & ${94}^{+-89}_{-89}$ & 0.3021\\\\\n",
        "\\bottomrule\n",
        "\\end{tabular} \n",
        "\n",
        "Filament 2\n"
       ]
      },
      {
       "html": [
        "<table style='font-family: monospace; font-size: 10pt'><tr><td>mu</td><td>eta2</td><td>B0</td><td>chisqr</td></tr><tr><td>0.00</td><td>0.003 +0.08/--0.08 (std: &plusmn; 0.087)</td><td>132 +-130/-130 (std: &plusmn; 2.640)</td><td>49.0519</td></tr><tr><td>0.33</td><td>0.015 +0.32/--0.32 (std: &plusmn; 0.330)</td><td>132 +-129/-129 (std: &plusmn; 3.412)</td><td>52.8783</td></tr><tr><td>0.50</td><td>0.012 +1.61/--1.61 (std: &plusmn; 1.626)</td><td>131 +-96/-96 (std: &plusmn; 35.371)</td><td>53.6116</td></tr><tr><td>1.00</td><td>0.176 +0.09/--0.09 (std: &plusmn; 0.263)</td><td>131 +-129/-129 (std: &plusmn; 1.898)</td><td>52.3628</td></tr><tr><td>1.50</td><td>0.316 +0.01/--0.01 (std: &plusmn; 0.328)</td><td>130 +-128/-128 (std: &plusmn; 1.897)</td><td>51.0397</td></tr><tr><td>2.00</td><td>0.343 +0.02/--0.02 (std: &plusmn; 0.361)</td><td>128 +-127/-127 (std: &plusmn; 1.457)</td><td>51.5343</td></tr></table>"
       ],
       "metadata": {},
       "output_type": "display_data",
       "text": [
        "[['mu', 'eta2', 'B0', 'chisqr'],\n",
        " ['0.00',\n",
        "  '0.003 +0.08/--0.08 (std: &plusmn; 0.087)',\n",
        "  '132 +-130/-130 (std: &plusmn; 2.640)',\n",
        "  '49.0519'],\n",
        " ['0.33',\n",
        "  '0.015 +0.32/--0.32 (std: &plusmn; 0.330)',\n",
        "  '132 +-129/-129 (std: &plusmn; 3.412)',\n",
        "  '52.8783'],\n",
        " ['0.50',\n",
        "  '0.012 +1.61/--1.61 (std: &plusmn; 1.626)',\n",
        "  '131 +-96/-96 (std: &plusmn; 35.371)',\n",
        "  '53.6116'],\n",
        " ['1.00',\n",
        "  '0.176 +0.09/--0.09 (std: &plusmn; 0.263)',\n",
        "  '131 +-129/-129 (std: &plusmn; 1.898)',\n",
        "  '52.3628'],\n",
        " ['1.50',\n",
        "  '0.316 +0.01/--0.01 (std: &plusmn; 0.328)',\n",
        "  '130 +-128/-128 (std: &plusmn; 1.897)',\n",
        "  '51.0397'],\n",
        " ['2.00',\n",
        "  '0.343 +0.02/--0.02 (std: &plusmn; 0.361)',\n",
        "  '128 +-127/-127 (std: &plusmn; 1.457)',\n",
        "  '51.5343']]"
       ]
      },
      {
       "output_type": "stream",
       "stream": "stdout",
       "text": [
        "\tFunction call with B0 = 132.186 muG; eta2 = 0.003; mu = 0.000; rminarc = [ 60.  60.  60.  60.  60.  60.  60.  60.]\n",
        "\tFunction call with B0 = 132.288 muG; eta2 = 0.015; mu = 0.333; rminarc = [ 60.  60.  60.  60.  60.  60.  60.  60.]"
       ]
      },
      {
       "output_type": "stream",
       "stream": "stdout",
       "text": [
        "\n",
        "\tFunction call with B0 = 131.330 muG; eta2 = 0.012; mu = 0.500; rminarc = [ 60.  60.  60.  60.  60.  60.  60.  60.]"
       ]
      },
      {
       "output_type": "stream",
       "stream": "stdout",
       "text": [
        "\n",
        "\tFunction call with B0 = 130.545 muG; eta2 = 0.176; mu = 1.000; rminarc = [ 60.  60.  60.  60.  60.  60.  60.  60.]"
       ]
      },
      {
       "output_type": "stream",
       "stream": "stdout",
       "text": [
        "\n",
        "\tFunction call with B0 = 129.609 muG; eta2 = 0.316; mu = 1.500; rminarc = [ 60.  60.  60.  60.  60.  60.  60.  60.]"
       ]
      },
      {
       "output_type": "stream",
       "stream": "stdout",
       "text": [
        "\n",
        "\tFunction call with B0 = 128.390 muG; eta2 = 0.343; mu = 2.000; rminarc = [ 60.  60.  60.  60.  60.  60.  60.  60.]"
       ]
      },
      {
       "output_type": "stream",
       "stream": "stdout",
       "text": [
        "\n"
       ]
      },
      {
       "metadata": {},
       "output_type": "display_data",
       "png": "[encoded data removed]",
       "text": [
        "<matplotlib.figure.Figure at 0x106331390>"
       ]
      },
      {
       "output_type": "stream",
       "stream": "stdout",
       "text": [
        "\\begin{tabular}{@{}rllr@{}}\n",
        "\\toprule\n",
        "{} & \\multicolumn{3}{c}{Filament 2} \\\\\n",
        "\\cmidrule(l){2-4}\n",
        "$\\mu$ (-) & $\\eta_2$ (-) & $B_0$ ($\\mu$G) & $\\chi^2$\\\\\n",
        "\\midrule\n",
        "0.00 & ${0.003}^{+0.084}_{--0.084}$ & ${1.3 \\times 10^{2}}^{+-1.3 \\times 10^{2}}_{-1.3 \\times 10^{2}}$ & 49.0519\\\\\n",
        "0.33 & ${0.01}^{+0.32}_{--0.32}$ & ${1.3 \\times 10^{2}}^{+-1.3 \\times 10^{2}}_{-1.3 \\times 10^{2}}$ & 52.8783\\\\\n",
        "0.50 & ${0.01}^{+1.6}_{--1.6}$ & ${131}^{+-96}_{-96}$ & 53.6116\\\\\n",
        "1.00 & ${0.176}^{+0.086}_{--0.086}$ & ${1.3 \\times 10^{2}}^{+-1.3 \\times 10^{2}}_{-1.3 \\times 10^{2}}$ & 52.3628\\\\\n",
        "1.50 & ${0.316}^{+0.012}_{--0.012}$ & ${1.3 \\times 10^{2}}^{+-1.3 \\times 10^{2}}_{-1.3 \\times 10^{2}}$ & 51.0397\\\\\n",
        "2.00 & ${0.343}^{+0.018}_{--0.018}$ & ${1.3 \\times 10^{2}}^{+-1.3 \\times 10^{2}}_{-1.3 \\times 10^{2}}$ & 51.5343\\\\\n",
        "\\bottomrule\n",
        "\\end{tabular} \n",
        "\n",
        "Filament 3\n"
       ]
      },
      {
       "html": [
        "<table style='font-family: monospace; font-size: 10pt'><tr><td>mu</td><td>eta2</td><td>B0</td><td>chisqr</td></tr><tr><td>0.00</td><td>0.001 +0.21/--0.21 (std: &plusmn; 0.209)</td><td>75 +-73/-73 (std: &plusmn; 1.939)</td><td>1.6377</td></tr><tr><td>0.33</td><td>0.020 +0.28/--0.28 (std: &plusmn; 0.297)</td><td>74.8 +-74.1/-74.1 (std: &plusmn; 0.716)</td><td>1.7494</td></tr><tr><td>0.50</td><td>0.002 +0.04/--0.04 (std: &plusmn; 0.042)</td><td>74.9 +-71.7/-71.7 (std: &plusmn; 3.157)</td><td>1.6740</td></tr><tr><td>1.00</td><td>0.010 +0.14/--0.14 (std: &plusmn; 0.153)</td><td>74 +-69.4/-69.4 (std: &plusmn; 4.641)</td><td>1.6597</td></tr><tr><td>1.50</td><td>0.017 +0.49/--0.49 (std: &plusmn; 0.508)</td><td>73.4 +-64.3/-64.3 (std: &plusmn; 9.053)</td><td>1.7655</td></tr><tr><td>2.00</td><td>0.022 +0.11/--0.11 (std: &plusmn; 0.130)</td><td>72.8 +-70.9/-70.9 (std: &plusmn; 1.908)</td><td>1.5930</td></tr></table>"
       ],
       "metadata": {},
       "output_type": "display_data",
       "text": [
        "[['mu', 'eta2', 'B0', 'chisqr'],\n",
        " ['0.00',\n",
        "  '0.001 +0.21/--0.21 (std: &plusmn; 0.209)',\n",
        "  '75 +-73/-73 (std: &plusmn; 1.939)',\n",
        "  '1.6377'],\n",
        " ['0.33',\n",
        "  '0.020 +0.28/--0.28 (std: &plusmn; 0.297)',\n",
        "  '74.8 +-74.1/-74.1 (std: &plusmn; 0.716)',\n",
        "  '1.7494'],\n",
        " ['0.50',\n",
        "  '0.002 +0.04/--0.04 (std: &plusmn; 0.042)',\n",
        "  '74.9 +-71.7/-71.7 (std: &plusmn; 3.157)',\n",
        "  '1.6740'],\n",
        " ['1.00',\n",
        "  '0.010 +0.14/--0.14 (std: &plusmn; 0.153)',\n",
        "  '74 +-69.4/-69.4 (std: &plusmn; 4.641)',\n",
        "  '1.6597'],\n",
        " ['1.50',\n",
        "  '0.017 +0.49/--0.49 (std: &plusmn; 0.508)',\n",
        "  '73.4 +-64.3/-64.3 (std: &plusmn; 9.053)',\n",
        "  '1.7655'],\n",
        " ['2.00',\n",
        "  '0.022 +0.11/--0.11 (std: &plusmn; 0.130)',\n",
        "  '72.8 +-70.9/-70.9 (std: &plusmn; 1.908)',\n",
        "  '1.5930']]"
       ]
      },
      {
       "output_type": "stream",
       "stream": "stdout",
       "text": [
        "\tFunction call with B0 = 74.975 muG; eta2 = 0.001; mu = 0.000; rminarc = [ 60.  60.  60.  60.  60.  60.  60.  60.]\n",
        "ERROR: FWHM edge (rmin) not found (rminarc too small)"
       ]
      },
      {
       "output_type": "stream",
       "stream": "stdout",
       "text": [
        "\n",
        "\t\tBox error! at [ 0.5]"
       ]
      },
      {
       "output_type": "stream",
       "stream": "stdout",
       "text": [
        "\n",
        "\tFunction call with B0 = 74.820 muG; eta2 = 0.020; mu = 0.333; rminarc = [ 60.  60.  60.  60.  60.  60.  60.  60.]\n",
        "ERROR: FWHM edge (rmin) not found (rminarc too small)"
       ]
      },
      {
       "output_type": "stream",
       "stream": "stdout",
       "text": [
        "\n",
        "\t\tBox error! at [ 0.5]"
       ]
      },
      {
       "output_type": "stream",
       "stream": "stdout",
       "text": [
        "\n",
        "\tFunction call with B0 = 74.871 muG; eta2 = 0.002; mu = 0.500; rminarc = [ 60.  60.  60.  60.  60.  60.  60.  60.]\n",
        "ERROR: FWHM edge (rmin) not found (rminarc too small)"
       ]
      },
      {
       "output_type": "stream",
       "stream": "stdout",
       "text": [
        "\n",
        "\t\tBox error! at [ 0.5]"
       ]
      },
      {
       "output_type": "stream",
       "stream": "stdout",
       "text": [
        "\n",
        "\tFunction call with B0 = 74.046 muG; eta2 = 0.010; mu = 1.000; rminarc = [ 60.  60.  60.  60.  60.  60.  60.  60.]\n",
        "ERROR: FWHM edge (rmin) not found (rminarc too small)"
       ]
      },
      {
       "output_type": "stream",
       "stream": "stdout",
       "text": [
        "\n",
        "\t\tBox error! at [ 0.5]"
       ]
      },
      {
       "output_type": "stream",
       "stream": "stdout",
       "text": [
        "\n",
        "\tFunction call with B0 = 73.377 muG; eta2 = 0.017; mu = 1.500; rminarc = [ 60.  60.  60.  60.  60.  60.  60.  60.]\n",
        "ERROR: FWHM edge (rmin) not found (rminarc too small)"
       ]
      },
      {
       "output_type": "stream",
       "stream": "stdout",
       "text": [
        "\n",
        "\t\tBox error! at [ 0.5]"
       ]
      },
      {
       "output_type": "stream",
       "stream": "stdout",
       "text": [
        "\n",
        "\tFunction call with B0 = 72.817 muG; eta2 = 0.022; mu = 2.000; rminarc = [ 60.  60.  60.  60.  60.  60.  60.  60.]\n",
        "ERROR: FWHM edge (rmin) not found (rminarc too small)"
       ]
      },
      {
       "output_type": "stream",
       "stream": "stdout",
       "text": [
        "\n",
        "\t\tBox error! at [ 0.5]"
       ]
      },
      {
       "output_type": "stream",
       "stream": "stdout",
       "text": [
        "\n"
       ]
      },
      {
       "metadata": {},
       "output_type": "display_data",
       "png": "[encoded data removed]",
       "text": [
        "<matplotlib.figure.Figure at 0x10da89d90>"
       ]
      },
      {
       "output_type": "stream",
       "stream": "stdout",
       "text": [
        "\\begin{tabular}{@{}rllr@{}}\n",
        "\\toprule\n",
        "{} & \\multicolumn{3}{c}{Filament 3} \\\\\n",
        "\\cmidrule(l){2-4}\n",
        "$\\mu$ (-) & $\\eta_2$ (-) & $B_0$ ($\\mu$G) & $\\chi^2$\\\\\n",
        "\\midrule\n",
        "0.00 & ${0.001}^{+0.21}_{--0.21}$ & ${75}^{+-73}_{-73}$ & 1.6377\\\\\n",
        "0.33 & ${0.02}^{+0.28}_{--0.28}$ & ${75}^{+-74}_{-74}$ & 1.7494\\\\\n",
        "0.50 & ${0.002}^{+0.04}_{--0.04}$ & ${75}^{+-72}_{-72}$ & 1.6740\\\\\n",
        "1.00 & ${0.01}^{+0.14}_{--0.14}$ & ${74}^{+-69}_{-69}$ & 1.6597\\\\\n",
        "1.50 & ${0.02}^{+0.49}_{--0.49}$ & ${73}^{+-64}_{-64}$ & 1.7655\\\\\n",
        "2.00 & ${0.02}^{+0.11}_{--0.11}$ & ${73}^{+-71}_{-71}$ & 1.5930\\\\\n",
        "\\bottomrule\n",
        "\\end{tabular} \n",
        "\n",
        "Filament 4\n"
       ]
      },
      {
       "html": [
        "<table style='font-family: monospace; font-size: 10pt'><tr><td>mu</td><td>eta2</td><td>B0</td><td>chisqr</td></tr><tr><td>0.00</td><td>0.005 +0.38/--0.38 (std: &plusmn; 0.388)</td><td>110 +-108/-108 (std: &plusmn; 1.342)</td><td>0.5268</td></tr><tr><td>0.33</td><td>0.002 +-0.00/-0.00 (std: &plusmn; 0.000)</td><td>109 +-107/-107 (std: &plusmn; 1.609)</td><td>0.3376</td></tr><tr><td>0.50</td><td>0.006 +0.15/--0.15 (std: &plusmn; 0.152)</td><td>109 +-103/-103 (std: &plusmn; 6.229)</td><td>0.3983</td></tr><tr><td>1.00</td><td>0.008 +0.14/--0.14 (std: &plusmn; 0.152)</td><td>108 +-100/-100 (std: &plusmn; 7.566)</td><td>0.3145</td></tr><tr><td>1.50</td><td>0.017 +0.40/--0.40 (std: &plusmn; 0.421)</td><td>107 +-95.5/-95.5 (std: &plusmn; 11.411)</td><td>0.2319</td></tr><tr><td>2.00</td><td>0.003 +0.05/--0.05 (std: &plusmn; 0.051)</td><td>107 +-97.2/-97.2 (std: &plusmn; 9.824)</td><td>0.1422</td></tr></table>"
       ],
       "metadata": {},
       "output_type": "display_data",
       "text": [
        "[['mu', 'eta2', 'B0', 'chisqr'],\n",
        " ['0.00',\n",
        "  '0.005 +0.38/--0.38 (std: &plusmn; 0.388)',\n",
        "  '110 +-108/-108 (std: &plusmn; 1.342)',\n",
        "  '0.5268'],\n",
        " ['0.33',\n",
        "  '0.002 +-0.00/-0.00 (std: &plusmn; 0.000)',\n",
        "  '109 +-107/-107 (std: &plusmn; 1.609)',\n",
        "  '0.3376'],\n",
        " ['0.50',\n",
        "  '0.006 +0.15/--0.15 (std: &plusmn; 0.152)',\n",
        "  '109 +-103/-103 (std: &plusmn; 6.229)',\n",
        "  '0.3983'],\n",
        " ['1.00',\n",
        "  '0.008 +0.14/--0.14 (std: &plusmn; 0.152)',\n",
        "  '108 +-100/-100 (std: &plusmn; 7.566)',\n",
        "  '0.3145'],\n",
        " ['1.50',\n",
        "  '0.017 +0.40/--0.40 (std: &plusmn; 0.421)',\n",
        "  '107 +-95.5/-95.5 (std: &plusmn; 11.411)',\n",
        "  '0.2319'],\n",
        " ['2.00',\n",
        "  '0.003 +0.05/--0.05 (std: &plusmn; 0.051)',\n",
        "  '107 +-97.2/-97.2 (std: &plusmn; 9.824)',\n",
        "  '0.1422']]"
       ]
      },
      {
       "output_type": "stream",
       "stream": "stdout",
       "text": [
        "\tFunction call with B0 = 109.505 muG; eta2 = 0.005; mu = 0.000; rminarc = [ 60.  60.  60.  60.  60.  60.  60.  60.]\n",
        "\tFunction call with B0 = 109.013 muG; eta2 = 0.002; mu = 0.333; rminarc = [ 60.  60.  60.  60.  60.  60.  60.  60.]"
       ]
      },
      {
       "output_type": "stream",
       "stream": "stdout",
       "text": [
        "\n",
        "\tFunction call with B0 = 108.877 muG; eta2 = 0.006; mu = 0.500; rminarc = [ 60.  60.  60.  60.  60.  60.  60.  60.]"
       ]
      },
      {
       "output_type": "stream",
       "stream": "stdout",
       "text": [
        "\n",
        "\tFunction call with B0 = 108.043 muG; eta2 = 0.008; mu = 1.000; rminarc = [ 60.  60.  60.  60.  60.  60.  60.  60.]"
       ]
      },
      {
       "output_type": "stream",
       "stream": "stdout",
       "text": [
        "\n",
        "\tFunction call with B0 = 106.955 muG; eta2 = 0.017; mu = 1.500; rminarc = [ 60.  60.  60.  60.  60.  60.  60.  60.]"
       ]
      },
      {
       "output_type": "stream",
       "stream": "stdout",
       "text": [
        "\n",
        "\tFunction call with B0 = 107.016 muG; eta2 = 0.003; mu = 2.000; rminarc = [ 60.  60.  60.  60.  60.  60.  60.  60.]"
       ]
      },
      {
       "output_type": "stream",
       "stream": "stdout",
       "text": [
        "\n"
       ]
      },
      {
       "metadata": {},
       "output_type": "display_data",
       "png": "[encoded data removed]",
       "text": [
        "<matplotlib.figure.Figure at 0x1063d0c50>"
       ]
      },
      {
       "output_type": "stream",
       "stream": "stdout",
       "text": [
        "\\begin{tabular}{@{}rllr@{}}\n",
        "\\toprule\n",
        "{} & \\multicolumn{3}{c}{Filament 4} \\\\\n",
        "\\cmidrule(l){2-4}\n",
        "$\\mu$ (-) & $\\eta_2$ (-) & $B_0$ ($\\mu$G) & $\\chi^2$\\\\\n",
        "\\midrule\n",
        "0.00 & ${0.005}^{+0.38}_{--0.38}$ & ${1.1 \\times 10^{2}}^{+-1.1 \\times 10^{2}}_{-1.1 \\times 10^{2}}$ & 0.5268\\\\\n",
        "0.33 & ${0.0025}^{+-0.0024}_{-0.0024}$ & ${1.1 \\times 10^{2}}^{+-1.1 \\times 10^{2}}_{-1.1 \\times 10^{2}}$ & 0.3376\\\\\n",
        "0.50 & ${0.006}^{+0.15}_{--0.15}$ & ${1.1 \\times 10^{2}}^{+-1 \\times 10^{2}}_{-1 \\times 10^{2}}$ & 0.3983\\\\\n",
        "1.00 & ${0.008}^{+0.14}_{--0.14}$ & ${1.1 \\times 10^{2}}^{+-1 \\times 10^{2}}_{-1 \\times 10^{2}}$ & 0.3145\\\\\n",
        "1.50 & ${0.02}^{+0.4}_{--0.4}$ & ${107}^{+-96}_{-96}$ & 0.2319\\\\\n",
        "2.00 & ${0.003}^{+0.048}_{--0.048}$ & ${107}^{+-97}_{-97}$ & 0.1422\\\\\n",
        "\\bottomrule\n",
        "\\end{tabular} \n",
        "\n",
        "Filament 5\n"
       ]
      },
      {
       "html": [
        "<table style='font-family: monospace; font-size: 10pt'><tr><td>mu</td><td>eta2</td><td>B0</td><td>chisqr</td></tr><tr><td>0.00</td><td>24.237 +1217.74/--1217.74 (std: &plusmn; 1241.980)</td><td>194 +1.9e+03/--1.9e+03 (std: &plusmn; 2095.574)</td><td>18.1759</td></tr><tr><td>0.33</td><td>67.624 +3398.59/--3398.59 (std: &plusmn; 3466.215)</td><td>229 +2.36e+03/--2.36e+03 (std: &plusmn; 2587.886)</td><td>9.7050</td></tr><tr><td>0.50</td><td>108.238 +4918.59/--4918.59 (std: &plusmn; 5026.831)</td><td>246 +2.32e+03/--2.32e+03 (std: &plusmn; 2567.531)</td><td>6.8574</td></tr><tr><td>1.00</td><td>36.128 +32.46/--32.46 (std: &plusmn; 68.587)</td><td>175 +-104/-104 (std: &plusmn; 71.493)</td><td>3.8026</td></tr><tr><td>1.50</td><td>10.980 +-4.02/-4.02 (std: &plusmn; 6.960)</td><td>128 +-114/-114 (std: &plusmn; 13.920)</td><td>3.2281</td></tr><tr><td>2.00</td><td>8.819 +-4.97/-4.97 (std: &plusmn; 3.851)</td><td>115 +-108/-108 (std: &plusmn; 7.312)</td><td>2.7400</td></tr></table>"
       ],
       "metadata": {},
       "output_type": "display_data",
       "text": [
        "[['mu', 'eta2', 'B0', 'chisqr'],\n",
        " ['0.00',\n",
        "  '24.237 +1217.74/--1217.74 (std: &plusmn; 1241.980)',\n",
        "  '194 +1.9e+03/--1.9e+03 (std: &plusmn; 2095.574)',\n",
        "  '18.1759'],\n",
        " ['0.33',\n",
        "  '67.624 +3398.59/--3398.59 (std: &plusmn; 3466.215)',\n",
        "  '229 +2.36e+03/--2.36e+03 (std: &plusmn; 2587.886)',\n",
        "  '9.7050'],\n",
        " ['0.50',\n",
        "  '108.238 +4918.59/--4918.59 (std: &plusmn; 5026.831)',\n",
        "  '246 +2.32e+03/--2.32e+03 (std: &plusmn; 2567.531)',\n",
        "  '6.8574'],\n",
        " ['1.00',\n",
        "  '36.128 +32.46/--32.46 (std: &plusmn; 68.587)',\n",
        "  '175 +-104/-104 (std: &plusmn; 71.493)',\n",
        "  '3.8026'],\n",
        " ['1.50',\n",
        "  '10.980 +-4.02/-4.02 (std: &plusmn; 6.960)',\n",
        "  '128 +-114/-114 (std: &plusmn; 13.920)',\n",
        "  '3.2281'],\n",
        " ['2.00',\n",
        "  '8.819 +-4.97/-4.97 (std: &plusmn; 3.851)',\n",
        "  '115 +-108/-108 (std: &plusmn; 7.312)',\n",
        "  '2.7400']]"
       ]
      },
      {
       "output_type": "stream",
       "stream": "stdout",
       "text": [
        "\tFunction call with B0 = 194.414 muG; eta2 = 24.237; mu = 0.000; rminarc = [ 60.  60.  60.  60.  60.  60.  60.  60.]\n",
        "\tFunction call with B0 = 228.681 muG; eta2 = 67.624; mu = 0.333; rminarc = [ 60.  60.  60.  60.  60.  60.  60.  60.]"
       ]
      },
      {
       "output_type": "stream",
       "stream": "stdout",
       "text": [
        "\n",
        "\tFunction call with B0 = 246.242 muG; eta2 = 108.238; mu = 0.500; rminarc = [ 60.  60.  60.  60.  60.  60.  60.  60.]"
       ]
      },
      {
       "output_type": "stream",
       "stream": "stdout",
       "text": [
        "\n",
        "\tFunction call with B0 = 175.271 muG; eta2 = 36.128; mu = 1.000; rminarc = [ 60.  60.  60.  60.  60.  60.  60.  60.]"
       ]
      },
      {
       "output_type": "stream",
       "stream": "stdout",
       "text": [
        "\n",
        "\tFunction call with B0 = 127.511 muG; eta2 = 10.980; mu = 1.500; rminarc = [ 60.  60.  60.  60.  60.  60.  60.  60.]"
       ]
      },
      {
       "output_type": "stream",
       "stream": "stdout",
       "text": [
        "\n",
        "\tFunction call with B0 = 115.445 muG; eta2 = 8.819; mu = 2.000; rminarc = [ 60.  60.  60.  60.  60.  60.  60.  60.]"
       ]
      },
      {
       "output_type": "stream",
       "stream": "stdout",
       "text": [
        "\n"
       ]
      },
      {
       "metadata": {},
       "output_type": "display_data",
       "png": "[encoded data removed]",
       "text": [
        "<matplotlib.figure.Figure at 0x10c6e0d10>"
       ]
      },
      {
       "output_type": "stream",
       "stream": "stdout",
       "text": [
        "\\begin{tabular}{@{}rllr@{}}\n",
        "\\toprule\n",
        "{} & \\multicolumn{3}{c}{Filament 5} \\\\\n",
        "\\cmidrule(l){2-4}\n",
        "$\\mu$ (-) & $\\eta_2$ (-) & $B_0$ ($\\mu$G) & $\\chi^2$\\\\\n",
        "\\midrule\n",
        "0.00 & ${2 \\times 10^{1}}^{+1.2 \\times 10^{3}}_{--1.2 \\times 10^{3}}$ & ${2 \\times 10^{2}}^{+1.9 \\times 10^{3}}_{--1.9 \\times 10^{3}}$ & 18.1759\\\\\n",
        "0.33 & ${7 \\times 10^{1}}^{+3.4 \\times 10^{3}}_{--3.4 \\times 10^{3}}$ & ${2 \\times 10^{2}}^{+2.4 \\times 10^{3}}_{--2.4 \\times 10^{3}}$ & 9.7050\\\\\n",
        "0.50 & ${1 \\times 10^{2}}^{+4.9 \\times 10^{3}}_{--4.9 \\times 10^{3}}$ & ${2 \\times 10^{2}}^{+2.3 \\times 10^{3}}_{--2.3 \\times 10^{3}}$ & 6.8574\\\\\n",
        "1.00 & ${36}^{+32}_{--32}$ & ${1.8 \\times 10^{2}}^{+-1 \\times 10^{2}}_{-1 \\times 10^{2}}$ & 3.8026\\\\\n",
        "1.50 & ${11}^{+-4}_{-4}$ & ${1.3 \\times 10^{2}}^{+-1.1 \\times 10^{2}}_{-1.1 \\times 10^{2}}$ & 3.2281\\\\\n",
        "2.00 & ${8.8}^{+-5}_{-5}$ & ${1.2 \\times 10^{2}}^{+-1.1 \\times 10^{2}}_{-1.1 \\times 10^{2}}$ & 2.7400\\\\\n",
        "\\bottomrule\n",
        "\\end{tabular} \n",
        "\n"
       ]
      }
     ],
     "prompt_number": 37
    }
   ],
   "metadata": {}
  }
 ]
}