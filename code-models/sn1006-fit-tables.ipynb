{
 "metadata": {
  "name": "",
  "signature": "sha256:921972d28e6f836f949a90d36b490ece80dedd1e5e59559d8a58995fe10c120e"
 },
 "nbformat": 3,
 "nbformat_minor": 0,
 "worksheets": [
  {
   "cells": [
    {
     "cell_type": "heading",
     "level": 1,
     "metadata": {},
     "source": [
      "SN1006 fitting notebook"
     ]
    },
    {
     "cell_type": "markdown",
     "metadata": {},
     "source": [
      "Apply full model code for SNR thin filament widths to SN 1006.\n",
      "Should replicate Tables 7, 8 of [Ressler et al., 2014](http://dx.doi.org/10.1088/0004-637X/790/2/85)"
     ]
    },
    {
     "cell_type": "code",
     "collapsed": false,
     "input": [
      "%pylab --no-import-all\n",
      "%matplotlib inline\n",
      "# ('gtk', 'inline', 'osx', 'qt', 'qt4', 'tk', 'wx')\n",
      "from fplot import fplot, show_mplrc_settings\n",
      "from IPython.core.display import display, Image, HTML, Math, Latex\n",
      "\n",
      "from IPython import parallel\n",
      "\n",
      "from __future__ import division\n",
      "\n",
      "import cPickle as pickle\n",
      "\n",
      "import fullmodel_recompile\n",
      "fullmodel_recompile.main()\n",
      "\n",
      "import models\n",
      "import models_disp as mdsp\n",
      "import models_exec as mex\n",
      "import parutils\n",
      "import snr_catalog as snrcat\n",
      "\n",
      "# For reference\n",
      "show_mplrc_settings()"
     ],
     "language": "python",
     "metadata": {},
     "outputs": []
    },
    {
     "cell_type": "heading",
     "level": 2,
     "metadata": {},
     "source": [
      "0.1 Data import, Fitter() generator"
     ]
    },
    {
     "cell_type": "code",
     "collapsed": false,
     "input": [
      "SN1006_KEVS = np.array([0.7, 1.0, 2.0])\n",
      "SN1006_DATA = {}\n",
      "SN1006_DATA[1] = np.array([35.5, 31.94, 25.34]), np.array([1.73, .97, 1.71])\n",
      "SN1006_DATA[2] = np.array([23.02, 17.46, 15.3]), np.array([.35,.139, .559])\n",
      "SN1006_DATA[3] = np.array([49.14, 42.76,29.34]), np.array([1.5, .718, .767])\n",
      "SN1006_DATA[4] = np.array([29, 23.9, 16.6]), np.array([.9, .39, .45])\n",
      "SN1006_DATA[5] = np.array([33.75, 27.2, 24.75 ]), np.array([2.37,.62,.61])\n",
      "\n",
      "with open('tables/sn1006_gen_2014-09-02_grid_6-110-20.pkl', 'r') as fpkl:\n",
      "    TAB = pickle.load(fpkl)\n",
      "\n",
      "def gen_SN1006(fmod=None, verbose=True):\n",
      "    for n in SN1006_DATA:\n",
      "        data, eps = SN1006_DATA[n]\n",
      "        fobj = mex.Fitter(snrcat.make_SN1006(), SN1006_KEVS,\n",
      "                          data, eps, TAB, inds=None, verbose=verbose)\n",
      "        fobj.title = 'Filament {}'.format(n)\n",
      "        if fmod:\n",
      "            fobj = fmod(fobj)\n",
      "        yield fobj"
     ],
     "language": "python",
     "metadata": {},
     "outputs": []
    },
    {
     "cell_type": "heading",
     "level": 2,
     "metadata": {},
     "source": [
      "0.2 Parallelized IPython setup"
     ]
    },
    {
     "cell_type": "markdown",
     "metadata": {},
     "source": [
      "Possibly useful [SE question](http://stackoverflow.com/q/15289168), and [another]() (both answered by \"Min\" Ragan-Kelley (`minrk`)).  As it would be useful to view stdout as computation progresses..."
     ]
    },
    {
     "cell_type": "code",
     "collapsed": false,
     "input": [
      "dview = parutils.get_dview()\n",
      "\n",
      "%px import models_disp as mdsp"
     ],
     "language": "python",
     "metadata": {},
     "outputs": []
    },
    {
     "cell_type": "heading",
     "level": 1,
     "metadata": {},
     "source": [
      "1. Simple model fitting, Table 7"
     ]
    },
    {
     "cell_type": "heading",
     "level": 2,
     "metadata": {},
     "source": [
      "1.1 Check $(\\eta_2, \\chi^2)$ space behavior"
     ]
    },
    {
     "cell_type": "markdown",
     "metadata": {},
     "source": [
      "For fixed mu, find best simple model fits over a range of $\\eta_2$. Results show how $\\eta_2$ is well or poorly constrained in $\\chi^2$ space, complementing our error estimates.  This illustrates the challenge in determining best fit parameters."
     ]
    },
    {
     "cell_type": "code",
     "collapsed": false,
     "input": [
      "mu_vals = [0, 1./3, 0.5, 1, 1.5, 2]  # Plotting more mu values shows tendency for best fits to run off to mu=50...\n",
      "fmt_vals = [':r.', ':g.', ':b.', '-k.', '--c.', '--y.']\n",
      "eta2_vals = np.logspace(-3, 3, num=100, base=10)  # One extra decade in each direction, vs. gridded eta2...\n",
      "\n",
      "plt.figure(figsize=(20,3.7))\n",
      "for fobj, i in zip(gen_SN1006(verbose=False), xrange(5)):\n",
      "    plt.subplot(1,5,i+1)\n",
      "    plt.title(fobj.title)\n",
      "    fobj.check_eta2_simp(eta2_vals, mu_vals, fmt_vals)\n",
      "plt.show()"
     ],
     "language": "python",
     "metadata": {},
     "outputs": []
    },
    {
     "cell_type": "heading",
     "level": 2,
     "metadata": {},
     "source": [
      "1.2 Fit data and tabulate/plot best fit results"
     ]
    },
    {
     "cell_type": "code",
     "collapsed": false,
     "input": [
      "mu_vals = [0., 1./3, 0.5, 1, 1.5, 2.]\n",
      "fmt_vals = [':b', ':g', ':r', '-k', '-r', '-g']\n",
      "\n",
      "# Apply fit settings using factory function\n",
      "f_data = mdsp.build_dataf('simp', conf_intv=0.683, fit_kws={},\n",
      "                          err_kws={'method':'manual'})\n",
      "# Customize fitter settings\n",
      "def fitter_mod(fobj):\n",
      "    #fobj.set_inds([0, 1])\n",
      "    #fobj.snr.vs=4e8\n",
      "    return fobj\n",
      "\n",
      "dview.push(dict(f_data=f_data, mu_vals=mu_vals))\n",
      "\n",
      "tables_out = dview.map_async(lambda f: mdsp.generate_tabs(f_data, f, f.title, mu_vals),\n",
      "                             gen_SN1006(fitter_mod, verbose=True))"
     ],
     "language": "python",
     "metadata": {},
     "outputs": []
    },
    {
     "cell_type": "code",
     "collapsed": false,
     "input": [
      "tables_out.display_outputs()\n",
      "# tables_out.stdout"
     ],
     "language": "python",
     "metadata": {},
     "outputs": []
    },
    {
     "cell_type": "markdown",
     "metadata": {},
     "source": [
      "Generate plots and tables.  This can be run while `tables_out` is being computed, but will block until the computation completes."
     ]
    },
    {
     "cell_type": "code",
     "collapsed": false,
     "input": [
      "for table, ltable, plist, fobj in tables_out:\n",
      "    print fobj.title\n",
      "    display(table)\n",
      "    mdsp.generate_plots(plist, fobj, fobj.title, mu_vals, fmt_vals)\n",
      "    print ltable, '\\n'"
     ],
     "language": "python",
     "metadata": {},
     "outputs": []
    },
    {
     "cell_type": "heading",
     "level": 1,
     "metadata": {},
     "source": [
      "2. Full model fitting, Table 8"
     ]
    },
    {
     "cell_type": "heading",
     "level": 2,
     "metadata": {},
     "source": [
      "2.1 Compute $\\chi^2$ for Sean's best fit values -- reference/comparison"
     ]
    },
    {
     "cell_type": "markdown",
     "metadata": {},
     "source": [
      "For minimal-diffusion filaments, I took the largest eta2 value reported (e.g., for $\\leq 0.1$ I used 0.1).\n",
      "\n",
      "This is a one-off method because, unlike the other data presented here, I'm using a pre-defined set of (mu, B0, eta2) values just to allow comparison with chisqrs.  Also haven't included uncertainties (see Sean's paper)\n",
      "\n",
      "Use this table to check that our best-fit parameters are similar to, or better than, Sean's reported parameters\n",
      "\n",
      "NOTE: this code is a bit outdated / not functional, but low priority right now."
     ]
    },
    {
     "cell_type": "code",
     "collapsed": false,
     "input": [
      "def SN1006_params():\n",
      "    \"\"\"Nicely formatted Table 8, Ressler et al. (2014)\"\"\"\n",
      "    mu_dict = {}\n",
      "    mu_dict[0.]   = {1:(7.5, 142),              3:(0.1, 77), 4:(0.2, 113)}\n",
      "    mu_dict[1./3] = {1:(4,   120),              3:(0.1, 76), 4:(0.2, 112)}\n",
      "    mu_dict[1./2] = {1:(3,   112),              3:(0.1, 75), 4:(0.2, 111)}\n",
      "    mu_dict[1.]   = {1:(2,   100), 2:(22, 214), 3:(0.1, 74), 4:(0.2, 109), 5:(80, 206)}\n",
      "    mu_dict[1.5]  = {1:(1.9,  95), 2:(9,  167), 3:(0.1, 74), 4:(0.2, 108), 5:(19, 140)}\n",
      "    mu_dict[2.]   = {1:(2,    92), 2:(7,  152), 3:(0.1, 73), 4:(0.2, 107), 5:(12, 120)}\n",
      "    # Restructure to ease processing; convert {\\mu G} to G.\n",
      "    # mu_dict format is easier to check against Table 8\n",
      "    tab8 = {}\n",
      "    for mu in mu_dict:\n",
      "        for flmt in mu_dict[mu]:\n",
      "            if flmt not in tab8:\n",
      "                tab8[flmt] = []\n",
      "            eta2, B0 = mu_dict[mu][flmt]\n",
      "            tab8[flmt].append( (mu, eta2, B0*1e-6) )\n",
      "    \n",
      "    return tab8\n",
      "\n",
      "\n",
      "def make_table8(fobj):\n",
      "    \"\"\"Calculate chi-squared values for Sean's fits, with 2 or 3 bands\"\"\"\n",
      "    tab8 = SN1006_params()\n",
      "    # Compute and tabulate chi-squared values\n",
      "    for flmt in tab8:\n",
      "        fobj.set_data_err(*SN1006_DATA[flmt])\n",
      "        \n",
      "        print 'Filament {}, Sean\\'s manual full model fits (3,2 bands)'.format(flmt)\n",
      "        table = ListTable()\n",
      "        table.append(['mu', 'eta2', 'B0', 'chisqr (3)', 'chisqr (2)'])\n",
      "\n",
      "        flmt_fits = sorted(tab8[flmt], key = lambda x: x[0])  # Sort tuples by mu\n",
      "        \n",
      "        for mu, eta2, B0 in flmt_fits:\n",
      "            \n",
      "            fwhms = models.full_width(fobj.snr, fobj.kevs, mu, eta2, B0,\n",
      "                                      verbose=False)\n",
      "            \n",
      "            chisqr3 = models.chi_squared(fobj.data, fobj.eps, fwhms)\n",
      "            chisqr2 = models.chi_squared(fobj.data[1:], fobj.eps[1:], fwhms[1:])\n",
      "\n",
      "            table_row = ['{:0.2f}'.format(mu)]\n",
      "            table_row.append('{:0.2f}'.format(eta2))\n",
      "            table_row.append('{:0.2f}'.format(B0*1e6))\n",
      "            table_row.append('{:0.4f}'.format(chisqr3))\n",
      "            table_row.append('{:0.4f}'.format(chisqr2))\n",
      "            table.append(table_row)\n",
      "\n",
      "        display(table)\n",
      "        print ''"
     ],
     "language": "python",
     "metadata": {},
     "outputs": []
    },
    {
     "cell_type": "code",
     "collapsed": false,
     "input": [
      "FITTER.snr = snrcat.make_SN1006()  # Reset to be sure\n",
      "make_table8(FITTER)  # Requires ~1-2 minutes to be rerun"
     ],
     "language": "python",
     "metadata": {},
     "outputs": []
    },
    {
     "cell_type": "heading",
     "level": 2,
     "metadata": {},
     "source": [
      "2.2 Check gridding quality: plots of $(B_0, \\chi^2)$ space and $(\\eta_2, \\chi^2)$ space"
     ]
    },
    {
     "cell_type": "code",
     "collapsed": true,
     "input": [
      "mu_vals = [0, 1./3, 0.5, 1, 1.5, 2]\n",
      "fmt_vals = [':r.', ':g.', ':b.', '-k.', '--c.', '--y.']\n",
      "eta2_vals = np.sort(TAB[0].keys())  # Assumes same eta2 values for all mu\n",
      "\n",
      "for eta2 in eta2_vals[::10]:\n",
      "    header = 'Eta2 = {:0.2f}'.format(eta2)\n",
      "    print header\n",
      "    print '-'*len(header)\n",
      "    plt.figure(figsize=(20,8))\n",
      "    for fobj, i in zip(gen_SN1006(verbose=False), xrange(5)):\n",
      "        # Log scaling\n",
      "        plt.subplot(2,5,i+1)\n",
      "        plt.title(fobj.title)\n",
      "        plt.yscale('log')\n",
      "        fobj.check_B0_grid(eta2, mu_vals, fmt_vals)\n",
      "        # Linear scaling\n",
      "        plt.subplot(2,5,i+6)\n",
      "        fobj.check_B0_grid(eta2, mu_vals, fmt_vals)\n",
      "    plt.tight_layout()\n",
      "    plt.show()\n",
      "    print ''"
     ],
     "language": "python",
     "metadata": {},
     "outputs": []
    },
    {
     "cell_type": "code",
     "collapsed": false,
     "input": [
      "mu_vals = [0, 1./3, 0.5, 1, 1.5, 2]\n",
      "fmt_vals = [':r.', ':g.', ':b.', '-k.', '--c.', '--y.']\n",
      "plt.figure(figsize=(20,3.7))\n",
      "for fobj, i in zip(gen_SN1006(verbose=False), xrange(5)):\n",
      "    plt.subplot(1,5,i+1)\n",
      "    plt.title(fobj.title)\n",
      "    fobj.check_eta2_grid(mu_vals, fmt_vals)\n",
      "plt.show()"
     ],
     "language": "python",
     "metadata": {},
     "outputs": []
    },
    {
     "cell_type": "heading",
     "level": 2,
     "metadata": {},
     "source": [
      "2.3 Fit data and tabulate/plot best fit results (3 energy bands, default SNR settings)"
     ]
    },
    {
     "cell_type": "markdown",
     "metadata": {},
     "source": [
      "Cell below clocked in at ~22 minutes (1304 sec), without any error annealing."
     ]
    },
    {
     "cell_type": "code",
     "collapsed": false,
     "input": [
      "mu_vals = [0., 1./3, 0.5, 1, 1.5, 2.]\n",
      "fmt_vals = [':b', ':g', ':r', '-k', '-r', '-g']\n",
      "\n",
      "# Apply fit settings using factory function\n",
      "f_data = mdsp.build_dataf('full', conf_intv=0.683,\n",
      "                          fit_kws={'model_kws':{'rminarc': None,\n",
      "                                                'irmax': 200},\n",
      "                                   'epsfcn': 1e-5,\n",
      "                                   'factor': 10},\n",
      "                          err_kws={'method':'manual','anneal':True})\n",
      "\n",
      "dview.push(dict(f_data=f_data, mu_vals=mu_vals))\n",
      "\n",
      "tables_out = dview.map_async(lambda f: mdsp.generate_tabs(f_data, f, f.title, mu_vals),\n",
      "                             gen_SN1006(verbose=True))"
     ],
     "language": "python",
     "metadata": {},
     "outputs": []
    },
    {
     "cell_type": "code",
     "collapsed": false,
     "input": [
      "mdsp.build_dataf?"
     ],
     "language": "python",
     "metadata": {},
     "outputs": []
    },
    {
     "cell_type": "code",
     "collapsed": false,
     "input": [
      "for _s in tables_out.stdout:\n",
      "    print _s\n",
      "    print '\\n','-'*72,'\\n'"
     ],
     "language": "python",
     "metadata": {},
     "outputs": []
    },
    {
     "cell_type": "code",
     "collapsed": false,
     "input": [
      "print tables_out.status\n",
      "print tables_out.elapsed\n",
      "print [_cmpl - _strt for _cmpl, _strt in zip(tables_out.completed, tables_out.started)]"
     ],
     "language": "python",
     "metadata": {},
     "outputs": []
    },
    {
     "cell_type": "markdown",
     "metadata": {},
     "source": [
      "Note: plotting cell below takes a few minutes to run, as it calls `width_cont` several times to generate plots."
     ]
    },
    {
     "cell_type": "markdown",
     "metadata": {},
     "source": [
      "Note: why are the standard errors off?"
     ]
    },
    {
     "cell_type": "code",
     "collapsed": false,
     "input": [
      "for table, ltable, plist, fobj in tables_out:\n",
      "    print fobj.title\n",
      "    display(table)\n",
      "    mdsp.generate_plots(plist, fobj, fobj.title, mu_vals, fmt_vals)\n",
      "    print ltable, '\\n'"
     ],
     "language": "python",
     "metadata": {},
     "outputs": []
    },
    {
     "cell_type": "heading",
     "level": 2,
     "metadata": {},
     "source": [
      "2.4 Above cell with inds = [1, 2] (match Sean's paper)"
     ]
    },
    {
     "cell_type": "code",
     "collapsed": false,
     "input": [
      "mu_vals = [0., 1./3, 0.5, 1, 1.5, 2.]\n",
      "fmt_vals = [':b', ':g', ':r', '-k', '-r', '-g']\n",
      "\n",
      "# Apply fit settings using factory function\n",
      "f_data = mdsp.build_dataf('full', conf_intv=0.683,\n",
      "                          fit_kws={'model_kws':{'rminarc': None,\n",
      "                                                'irmax': 200},\n",
      "                                   'epsfcn': 1e-5,\n",
      "                                   'factor': 10},\n",
      "                          err_kws={'method':'manual','anneal':True})\n",
      "# Customize fitter settings\n",
      "def fitter_mod(fobj):\n",
      "    fobj.set_inds([1, 2])\n",
      "    return fobj\n",
      "\n",
      "dview.push(dict(f_data=f_data, mu_vals=mu_vals))\n",
      "\n",
      "tables_out = dview.map_async(lambda f: mdsp.generate_tabs(f_data, f, f.title, mu_vals),\n",
      "                             gen_SN1006(fitter_mod, verbose=True))"
     ],
     "language": "python",
     "metadata": {},
     "outputs": []
    },
    {
     "cell_type": "code",
     "collapsed": false,
     "input": [
      "for _s in tables_out.stdout:\n",
      "    print _s\n",
      "    print '\\n','-'*72,'\\n'"
     ],
     "language": "python",
     "metadata": {},
     "outputs": []
    },
    {
     "cell_type": "code",
     "collapsed": false,
     "input": [
      "for table, ltable, plist, fobj in tables_out:\n",
      "    print fobj.title\n",
      "    display(table)\n",
      "    mdsp.generate_plots(plist, fobj, fobj.title, mu_vals, fmt_vals)\n",
      "    print ltable, '\\n'"
     ],
     "language": "python",
     "metadata": {},
     "outputs": []
    }
   ],
   "metadata": {}
  }
 ]
}