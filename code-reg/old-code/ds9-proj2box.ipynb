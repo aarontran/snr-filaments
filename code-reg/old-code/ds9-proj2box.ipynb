{
 "metadata": {
  "name": ""
 },
 "nbformat": 3,
 "nbformat_minor": 0,
 "worksheets": [
  {
   "cells": [
    {
     "cell_type": "heading",
     "level": 1,
     "metadata": {},
     "source": [
      "DS9 projection to DS9 box to CIAO rotbox (deprecated in favor of script `ds9proj2box.py`)"
     ]
    },
    {
     "cell_type": "markdown",
     "metadata": {},
     "source": [
      "CIAO doesn't recognize boxes, so we must do the following:\n",
      "\n",
      "1. read in DS9 file containing some projection regions\n",
      "2. re-save DS9 file in physical coords\n",
      "3. process physical coord DS9 file, and convert projection regions to boxes\n",
      "4. load newly reprocessed DS9 file, then save as CIAO file\n",
      "5. clean intermediate files (unless flagged otherwise)\n",
      "\n",
      "Idea: this should be readily extended to help process any other CIAO incompatible regions."
     ]
    },
    {
     "cell_type": "code",
     "collapsed": false,
     "input": [
      "%pylab --no-import-all\n",
      "import re\n",
      "import os\n",
      "import ds9"
     ],
     "language": "python",
     "metadata": {},
     "outputs": [
      {
       "output_type": "stream",
       "stream": "stdout",
       "text": [
        "Using matplotlib backend: MacOSX\n",
        "Populating the interactive namespace from numpy and matplotlib\n"
       ]
      }
     ],
     "prompt_number": 1
    },
    {
     "cell_type": "raw",
     "metadata": {},
     "source": [
      "# THIS IS FOR LATER, MOVE ME TO A NORMAL SCRIPT PLEASE\n",
      "# Not written/debugged/whatever...\n",
      "\n",
      "import argparse\n",
      "def main():\n",
      "    parser = argparse.ArgumentParser(description='Convert DS9 region files with projections to CIAO region files')\n",
      "\n",
      "    parser.add_argument('input', help='Input DS9 region file (physical coords)')\n",
      "    parser.add_argument('output', help='Output CIAO region file')\n",
      "    parser.add_argument('-nc', '--noclean', action='store_true',\n",
      "                        help='Do not remove intermediate data files')\n",
      "    parser.add_argument('-v', '--verbose', action='store_true',\n",
      "                        help='verbose mode')\n",
      "\n",
      "    args = parser.parse_args()\n",
      "    debug, verbose = args.debug, args.verbose"
     ]
    },
    {
     "cell_type": "code",
     "collapsed": false,
     "input": [
      "d = ds9.ds9()\n",
      "fname_in = '../data/profiles_good.reg'\n",
      "fname_out = '../data/profiles_good_ciao.reg'\n",
      "cleanup = True"
     ],
     "language": "python",
     "metadata": {},
     "outputs": [],
     "prompt_number": 2
    },
    {
     "cell_type": "raw",
     "metadata": {},
     "source": [
      "# Region file format: DS9 version 4.1\n",
      "global color=green dashlist=8 3 width=1 font=\"helvetica 10 normal roman\" select=1 highlite=1 dash=0 fixed=0 edit=1 move=1 delete=1 include=1 source=1\n",
      "physical\n",
      "# projection(4087.5024,4576.4932,4064.9982,4624.5036,87.702236) width=2 edit=0 move=0 rotate=0 delete=0\n",
      "box(4037.0111,4581.2336,53.022967,87.702439,115.11421)"
     ]
    },
    {
     "cell_type": "code",
     "collapsed": false,
     "input": [
      "def proj2box(r):\n",
      "    \"\"\"Changes projection string to box string.  No error checking\"\"\"\n",
      "    rtype, rnums, rprops = re.split('[\\(\\)]', r)\n",
      "    x1, y1, x2, y2, t = [float(x) for x in re.split(',', rnums)]\n",
      "   \n",
      "    # Calculate various box parameters\n",
      "    w = np.sqrt((x2-x1)**2 + (y2-y1)**2)\n",
      "    h = t\n",
      "    angle = np.arctan2(y2-y1, x2-x1)\n",
      "    xm, ym = (x2+x1)/2, (y2+y1)/2  # Midpoint between p1, p2\n",
      "    # Center point of box\n",
      "    xc = xm - (t/2) * np.sin(angle)\n",
      "    yc = ym + (t/2) * np.cos(angle)\n",
      "    boxstr = 'box({0},{1},{2},{3},{4})'.format(xc, yc, w, h,angle*180/np.pi)\n",
      "    if rprops is not '\\n':\n",
      "        return boxstr + ' #' + rprops  # projection doesn't match normal region formatting\n",
      "    return boxstr + rprops"
     ],
     "language": "python",
     "metadata": {},
     "outputs": [],
     "prompt_number": 3
    },
    {
     "cell_type": "code",
     "collapsed": false,
     "input": [
      "fname_phys = fname_in + '.phys'\n",
      "fname_physproc = fname_phys + '.proc'\n",
      "\n",
      "d.set('file ../data/2-7kev_mosaic.fits')\n",
      "\n",
      "d.set('regions load ' + fname_in)\n",
      "d.set('regions system physical')\n",
      "d.set('regions save ' + fname_phys)"
     ],
     "language": "python",
     "metadata": {},
     "outputs": [
      {
       "metadata": {},
       "output_type": "pyout",
       "prompt_number": 4,
       "text": [
        "1"
       ]
      }
     ],
     "prompt_number": 4
    },
    {
     "cell_type": "code",
     "collapsed": false,
     "input": [
      "with open(fname_phys, 'r') as f:\n",
      "    # Check the file headers\n",
      "    header = f.readline()\n",
      "    settings = f.readline()\n",
      "    coordsys = f.readline()\n",
      "    if header != '# Region file format: DS9 version 4.1\\n':\n",
      "        print 'WARNING: potentially invalid region file!'\n",
      "        print 'First line was: ' + lines[0]\n",
      "    if coordsys != 'physical\\n':\n",
      "        print 'ERROR: coordinate system must be physical'\n",
      "        print 'Sky coords (fk4, fk5, galactic, ecliptic) will not work!'\n",
      "        raise Exception('Bad coordinates: %s' % lines[2][:-1])\n",
      "    \n",
      "    print 'Parsing regions'\n",
      "    with open(fname_physproc, 'w') as fw:\n",
      "        fw.writelines([header, settings, coordsys])\n",
      "        for line in f:\n",
      "            if '# projection' in line:\n",
      "                fw.write(proj2box(line))\n",
      "            else:\n",
      "                fw.write(line)\n",
      "    print 'Done!'"
     ],
     "language": "python",
     "metadata": {},
     "outputs": [
      {
       "output_type": "stream",
       "stream": "stdout",
       "text": [
        "Parsing regions\n",
        "Done!\n"
       ]
      }
     ],
     "prompt_number": 5
    },
    {
     "cell_type": "code",
     "collapsed": false,
     "input": [
      "d.set('frame clear')  # In case there are un-deletable regions\n",
      "d.set('file ../data/2-7kev_mosaic.fits')\n",
      "d.set('regions load ' + fname_physproc)\n",
      "\n",
      "d.set('regions system physical')\n",
      "d.set('regions format ciao')\n",
      "d.set('regions save ' + fname_out)\n",
      "\n",
      "if cleanup:\n",
      "    os.remove(fname_phys)\n",
      "    os.remove(fname_physproc)"
     ],
     "language": "python",
     "metadata": {},
     "outputs": [],
     "prompt_number": 6
    },
    {
     "cell_type": "code",
     "collapsed": false,
     "input": [
      "d.set('frame clear')"
     ],
     "language": "python",
     "metadata": {},
     "outputs": [
      {
       "metadata": {},
       "output_type": "pyout",
       "prompt_number": 7,
       "text": [
        "1"
       ]
      }
     ],
     "prompt_number": 7
    }
   ],
   "metadata": {}
  }
 ]
}